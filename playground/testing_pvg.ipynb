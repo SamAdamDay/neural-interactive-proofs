{
 "cells": [
  {
   "cell_type": "markdown",
   "metadata": {},
   "source": [
    "# Testing the PVG implementation"
   ]
  },
  {
   "cell_type": "code",
   "execution_count": 18,
   "metadata": {},
   "outputs": [],
   "source": [
    "from math import sqrt\n",
    "\n",
    "import torch\n",
    "from torch.distributions import Categorical\n",
    "\n",
    "from torch_geometric.datasets import TUDataset\n",
    "from torch_geometric.loader import DataLoader\n",
    "from torch_geometric.data import Batch, Data\n",
    "from torch_geometric.utils import to_networkx\n",
    "\n",
    "import networkx as nx\n",
    "\n",
    "from einops import rearrange\n",
    "\n",
    "import plotly.graph_objects as go\n",
    "import plotly.express as px\n",
    "\n",
    "from pvg.graph_isomorphism import GraphIsomorphismData, GraphIsomorphismDataset\n",
    "from pvg.parameters import Parameters\n",
    "from pvg.graph_isomorphism import (\n",
    "    GraphIsomorphismProver,\n",
    "    GraphIsomorphismVerifier,\n",
    "    GraphIsomorphismScenario,\n",
    ")\n",
    "from pvg.utils.torch_modules import PairedGaussianNoise\n",
    "from pvg.extra.test_solo_gi_agents import GraphIsomorphismSoloProver"
   ]
  },
  {
   "cell_type": "code",
   "execution_count": 19,
   "metadata": {},
   "outputs": [],
   "source": [
    "params = Parameters(\n",
    "    scenario=\"graph-isomorphism\",\n",
    "    trainer=\"default\",\n",
    "    dataset=\"er1000\",\n",
    "    max_message_rounds=1,\n",
    "    graph_isomorphism=dict(prover=dict(noise_sigma=1.0)),\n",
    ")"
   ]
  },
  {
   "cell_type": "code",
   "execution_count": 20,
   "metadata": {},
   "outputs": [],
   "source": [
    "dataset = TUDataset(root='/tmp/ENZYMES', name='ENZYMES', use_node_attr=True)"
   ]
  },
  {
   "cell_type": "code",
   "execution_count": 21,
   "metadata": {},
   "outputs": [
    {
     "data": {
      "text/plain": [
       "PairedGaussianNoise(sigma=1, pair_dim=0, train_sigma=False)"
      ]
     },
     "execution_count": 21,
     "metadata": {},
     "output_type": "execute_result"
    }
   ],
   "source": [
    "noise = PairedGaussianNoise(sigma=1)\n",
    "noise"
   ]
  },
  {
   "cell_type": "code",
   "execution_count": 22,
   "metadata": {},
   "outputs": [
    {
     "data": {
      "text/plain": [
       "tensor([[-0.3322,  3.9333,  1.6854],\n",
       "        [-1.3290,  9.8333,  3.3709]])"
      ]
     },
     "execution_count": 22,
     "metadata": {},
     "output_type": "execute_result"
    }
   ],
   "source": [
    "x = torch.tensor([[1, 2, 3], [4, 5, 6]])\n",
    "noise(x)"
   ]
  },
  {
   "cell_type": "code",
   "execution_count": 23,
   "metadata": {},
   "outputs": [
    {
     "data": {
      "text/plain": [
       "tensor([[ 0.9627, -3.6192,  3.1896],\n",
       "        [ 0.9627, -3.6192,  3.1896]])"
      ]
     },
     "execution_count": 23,
     "metadata": {},
     "output_type": "execute_result"
    }
   ],
   "source": [
    "y = torch.tensor([[1, 2, 3], [1, 2, 3]])\n",
    "noise(y)"
   ]
  },
  {
   "cell_type": "code",
   "execution_count": 24,
   "metadata": {},
   "outputs": [
    {
     "data": {
      "text/plain": [
       "GraphIsomorphismSoloProver(\n",
       "  (gnn): SequentialKwargs(\n",
       "    (input): TensorDictize(\n",
       "      (module): Linear(in_features=1, out_features=16, bias=True)\n",
       "    )\n",
       "    (ReLU_0): TensorDictize(\n",
       "      (module): ReLU(inplace=True)\n",
       "    )\n",
       "    (GNN_layer_0): GIN(\n",
       "      (mlp): Sequential(\n",
       "        (0): Linear(in_features=16, out_features=64, bias=True)\n",
       "        (1): ReLU(inplace=True)\n",
       "        (2): Linear(in_features=64, out_features=16, bias=True)\n",
       "      )\n",
       "    )\n",
       "    (ReLU_1): TensorDictize(\n",
       "      (module): ReLU(inplace=True)\n",
       "    )\n",
       "    (GNN_layer_1): GIN(\n",
       "      (mlp): Sequential(\n",
       "        (0): Linear(in_features=16, out_features=64, bias=True)\n",
       "        (1): ReLU(inplace=True)\n",
       "        (2): Linear(in_features=64, out_features=16, bias=True)\n",
       "      )\n",
       "    )\n",
       "    (ReLU_2): TensorDictize(\n",
       "      (module): ReLU(inplace=True)\n",
       "    )\n",
       "    (GNN_layer_2): GIN(\n",
       "      (mlp): Sequential(\n",
       "        (0): Linear(in_features=16, out_features=64, bias=True)\n",
       "        (1): ReLU(inplace=True)\n",
       "        (2): Linear(in_features=64, out_features=16, bias=True)\n",
       "      )\n",
       "    )\n",
       "    (ReLU_3): TensorDictize(\n",
       "      (module): ReLU(inplace=True)\n",
       "    )\n",
       "    (GNN_layer_3): GIN(\n",
       "      (mlp): Sequential(\n",
       "        (0): Linear(in_features=16, out_features=64, bias=True)\n",
       "        (1): ReLU(inplace=True)\n",
       "        (2): Linear(in_features=64, out_features=16, bias=True)\n",
       "      )\n",
       "    )\n",
       "    (ReLU_4): TensorDictize(\n",
       "      (module): ReLU(inplace=True)\n",
       "    )\n",
       "    (GNN_layer_4): GIN(\n",
       "      (mlp): Sequential(\n",
       "        (0): Linear(in_features=16, out_features=64, bias=True)\n",
       "        (1): ReLU(inplace=True)\n",
       "        (2): Linear(in_features=64, out_features=16, bias=True)\n",
       "      )\n",
       "    )\n",
       "  )\n",
       "  (attention): MultiheadAttention(\n",
       "    (out_proj): NonDynamicallyQuantizableLinear(in_features=16, out_features=16, bias=True)\n",
       "  )\n",
       "  (global_pooling): Sequential(\n",
       "    (0): Linear(in_features=16, out_features=16, bias=True)\n",
       "    (1): ReLU(inplace=True)\n",
       "    (2): Reduce('pair batch_size max_nodes d_decider -> pair batch_size d_decider', 'sum')\n",
       "    (3): Rearrange('pair batch_size d_decider -> (batch_size pair) d_decider')\n",
       "    (4): BatchNorm1d(16, eps=1e-05, momentum=0.1, affine=True, track_running_stats=True)\n",
       "    (5): Rearrange('(batch_size pair) d_decider -> pair batch_size d_decider', pair=2)\n",
       "    (6): PairedGaussianNoise(sigma=1.0, pair_dim=0, train_sigma=False)\n",
       "    (7): PairInvariantizer()\n",
       "  )\n",
       "  (decider): Sequential(\n",
       "    (0): Rearrange('pair batch_size d_decider -> batch_size (pair d_decider)')\n",
       "    (1): Linear(in_features=32, out_features=16, bias=True)\n",
       "    (2): ReLU(inplace=True)\n",
       "    (3): Linear(in_features=16, out_features=16, bias=True)\n",
       "    (4): ReLU(inplace=True)\n",
       "    (5): Linear(in_features=16, out_features=2, bias=True)\n",
       "  )\n",
       ")"
      ]
     },
     "execution_count": 24,
     "metadata": {},
     "output_type": "execute_result"
    }
   ],
   "source": [
    "prover = GraphIsomorphismSoloProver(params, d_decider=16, device=\"cpu\")\n",
    "prover"
   ]
  },
  {
   "cell_type": "code",
   "execution_count": 25,
   "metadata": {},
   "outputs": [
    {
     "data": {
      "text/plain": [
       "GraphIsomorphismDataset(name='er1000', num_features=1, num_pairs=1000)"
      ]
     },
     "execution_count": 25,
     "metadata": {},
     "output_type": "execute_result"
    }
   ],
   "source": [
    "dataset = GraphIsomorphismDataset(params)\n",
    "dataset"
   ]
  },
  {
   "cell_type": "code",
   "execution_count": 26,
   "metadata": {},
   "outputs": [],
   "source": [
    "next(iter(dataset)).num_nodes"
   ]
  },
  {
   "cell_type": "code",
   "execution_count": 27,
   "metadata": {},
   "outputs": [
    {
     "data": {
      "text/plain": [
       "<torch_geometric.loader.dataloader.DataLoader at 0x7f45e9636290>"
      ]
     },
     "execution_count": 27,
     "metadata": {},
     "output_type": "execute_result"
    }
   ],
   "source": [
    "dataloader = DataLoader(\n",
    "    dataset,\n",
    "    batch_size=1,\n",
    "    shuffle=False,\n",
    "    follow_batch=[\"x_a\", \"x_b\"],\n",
    ")\n",
    "dataloader"
   ]
  },
  {
   "cell_type": "code",
   "execution_count": 28,
   "metadata": {},
   "outputs": [
    {
     "data": {
      "text/plain": [
       "GraphIsomorphismDataBatch(edge_index_a=[2, 10], edge_index_b=[2, 14], wl_score=[1], x_a=[7, 1], x_a_batch=[7], x_a_ptr=[2], x_b=[7, 1], x_b_batch=[7], x_b_ptr=[2])"
      ]
     },
     "execution_count": 28,
     "metadata": {},
     "output_type": "execute_result"
    }
   ],
   "source": [
    "batch = next(iter(dataloader))\n",
    "batch"
   ]
  },
  {
   "cell_type": "code",
   "execution_count": 29,
   "metadata": {},
   "outputs": [
    {
     "data": {
      "text/plain": [
       "tensor([[-0.1930, -0.2751]], grad_fn=<AddmmBackward0>)"
      ]
     },
     "execution_count": 29,
     "metadata": {},
     "output_type": "execute_result"
    }
   ],
   "source": [
    "prover(batch)"
   ]
  },
  {
   "cell_type": "markdown",
   "metadata": {},
   "source": [
    "## Old"
   ]
  },
  {
   "cell_type": "code",
   "execution_count": 30,
   "metadata": {},
   "outputs": [
    {
     "ename": "TypeError",
     "evalue": "GraphIsomorphismData.__init__() got an unexpected keyword argument 'y'",
     "output_type": "error",
     "traceback": [
      "\u001b[0;31m---------------------------------------------------------------------------\u001b[0m",
      "\u001b[0;31mTypeError\u001b[0m                                 Traceback (most recent call last)",
      "\u001b[1;32m/home/sam/Code/Projects/PVG Experiments/playground/testing_pvg.ipynb Cell 15\u001b[0m line \u001b[0;36m1\n\u001b[0;32m----> <a href='vscode-notebook-cell:/home/sam/Code/Projects/PVG%20Experiments/playground/testing_pvg.ipynb#X16sZmlsZQ%3D%3D?line=0'>1</a>\u001b[0m data1 \u001b[39m=\u001b[39m GraphIsomorphismData(\n\u001b[1;32m      <a href='vscode-notebook-cell:/home/sam/Code/Projects/PVG%20Experiments/playground/testing_pvg.ipynb#X16sZmlsZQ%3D%3D?line=1'>2</a>\u001b[0m     edge_index_a\u001b[39m=\u001b[39;49mdataset[\u001b[39m0\u001b[39;49m]\u001b[39m.\u001b[39;49medge_index,\n\u001b[1;32m      <a href='vscode-notebook-cell:/home/sam/Code/Projects/PVG%20Experiments/playground/testing_pvg.ipynb#X16sZmlsZQ%3D%3D?line=2'>3</a>\u001b[0m     edge_index_b\u001b[39m=\u001b[39;49mdataset[\u001b[39m1\u001b[39;49m]\u001b[39m.\u001b[39;49medge_index,\n\u001b[1;32m      <a href='vscode-notebook-cell:/home/sam/Code/Projects/PVG%20Experiments/playground/testing_pvg.ipynb#X16sZmlsZQ%3D%3D?line=3'>4</a>\u001b[0m     num_nodes_a\u001b[39m=\u001b[39;49mdataset[\u001b[39m0\u001b[39;49m]\u001b[39m.\u001b[39;49msize(\u001b[39m0\u001b[39;49m),\n\u001b[1;32m      <a href='vscode-notebook-cell:/home/sam/Code/Projects/PVG%20Experiments/playground/testing_pvg.ipynb#X16sZmlsZQ%3D%3D?line=4'>5</a>\u001b[0m     num_nodes_b\u001b[39m=\u001b[39;49mdataset[\u001b[39m1\u001b[39;49m]\u001b[39m.\u001b[39;49msize(\u001b[39m0\u001b[39;49m),\n\u001b[1;32m      <a href='vscode-notebook-cell:/home/sam/Code/Projects/PVG%20Experiments/playground/testing_pvg.ipynb#X16sZmlsZQ%3D%3D?line=5'>6</a>\u001b[0m     d_features\u001b[39m=\u001b[39;49mparams\u001b[39m.\u001b[39;49mmax_message_rounds,\n\u001b[1;32m      <a href='vscode-notebook-cell:/home/sam/Code/Projects/PVG%20Experiments/playground/testing_pvg.ipynb#X16sZmlsZQ%3D%3D?line=6'>7</a>\u001b[0m     y\u001b[39m=\u001b[39;49m\u001b[39m1\u001b[39;49m,\n\u001b[1;32m      <a href='vscode-notebook-cell:/home/sam/Code/Projects/PVG%20Experiments/playground/testing_pvg.ipynb#X16sZmlsZQ%3D%3D?line=7'>8</a>\u001b[0m )\n\u001b[1;32m      <a href='vscode-notebook-cell:/home/sam/Code/Projects/PVG%20Experiments/playground/testing_pvg.ipynb#X16sZmlsZQ%3D%3D?line=8'>9</a>\u001b[0m data2 \u001b[39m=\u001b[39m GraphIsomorphismData(\n\u001b[1;32m     <a href='vscode-notebook-cell:/home/sam/Code/Projects/PVG%20Experiments/playground/testing_pvg.ipynb#X16sZmlsZQ%3D%3D?line=9'>10</a>\u001b[0m     edge_index_a\u001b[39m=\u001b[39mdataset[\u001b[39m2\u001b[39m]\u001b[39m.\u001b[39medge_index,\n\u001b[1;32m     <a href='vscode-notebook-cell:/home/sam/Code/Projects/PVG%20Experiments/playground/testing_pvg.ipynb#X16sZmlsZQ%3D%3D?line=10'>11</a>\u001b[0m     edge_index_b\u001b[39m=\u001b[39mdataset[\u001b[39m3\u001b[39m]\u001b[39m.\u001b[39medge_index,\n\u001b[0;32m   (...)\u001b[0m\n\u001b[1;32m     <a href='vscode-notebook-cell:/home/sam/Code/Projects/PVG%20Experiments/playground/testing_pvg.ipynb#X16sZmlsZQ%3D%3D?line=14'>15</a>\u001b[0m     y\u001b[39m=\u001b[39m\u001b[39m1\u001b[39m,\n\u001b[1;32m     <a href='vscode-notebook-cell:/home/sam/Code/Projects/PVG%20Experiments/playground/testing_pvg.ipynb#X16sZmlsZQ%3D%3D?line=15'>16</a>\u001b[0m )\n\u001b[1;32m     <a href='vscode-notebook-cell:/home/sam/Code/Projects/PVG%20Experiments/playground/testing_pvg.ipynb#X16sZmlsZQ%3D%3D?line=16'>17</a>\u001b[0m data1\n",
      "\u001b[0;31mTypeError\u001b[0m: GraphIsomorphismData.__init__() got an unexpected keyword argument 'y'"
     ]
    }
   ],
   "source": [
    "data1 = GraphIsomorphismData(\n",
    "    edge_index_a=dataset[0].edge_index,\n",
    "    edge_index_b=dataset[1].edge_index,\n",
    "    num_nodes_a=dataset[0].size(0),\n",
    "    num_nodes_b=dataset[1].size(0),\n",
    "    d_features=params.max_message_rounds,\n",
    "    y=1,\n",
    ")\n",
    "data2 = GraphIsomorphismData(\n",
    "    edge_index_a=dataset[2].edge_index,\n",
    "    edge_index_b=dataset[3].edge_index,\n",
    "    num_nodes_a=dataset[2].size(0),\n",
    "    num_nodes_b=dataset[3].size(0),\n",
    "    d_features=params.max_message_rounds,\n",
    "    y=1,\n",
    ")\n",
    "data1"
   ]
  },
  {
   "cell_type": "code",
   "execution_count": null,
   "metadata": {},
   "outputs": [
    {
     "data": {
      "text/plain": [
       "<torch_geometric.loader.dataloader.DataLoader at 0x7f4394738410>"
      ]
     },
     "execution_count": 5,
     "metadata": {},
     "output_type": "execute_result"
    }
   ],
   "source": [
    "loader = DataLoader([data1, data2], batch_size=2, follow_batch=[\"x_a\", \"x_b\"])\n",
    "loader"
   ]
  },
  {
   "cell_type": "code",
   "execution_count": null,
   "metadata": {},
   "outputs": [
    {
     "data": {
      "text/plain": [
       "GraphIsomorphismDataBatch(y=[2], edge_index_a=[2, 260], edge_index_b=[2, 192], x_a=[62, 8], x_a_batch=[62], x_a_ptr=[3], x_b=[47, 8], x_b_batch=[47], x_b_ptr=[3])"
      ]
     },
     "execution_count": 6,
     "metadata": {},
     "output_type": "execute_result"
    }
   ],
   "source": [
    "batch = next(iter(loader))\n",
    "batch"
   ]
  },
  {
   "cell_type": "code",
   "execution_count": null,
   "metadata": {},
   "outputs": [
    {
     "data": {
      "text/plain": [
       "tensor([37, 25])"
      ]
     },
     "execution_count": 7,
     "metadata": {},
     "output_type": "execute_result"
    }
   ],
   "source": [
    "torch.bincount(batch.x_a_batch)"
   ]
  },
  {
   "cell_type": "code",
   "execution_count": null,
   "metadata": {},
   "outputs": [
    {
     "data": {
      "text/plain": [
       "tensor([ 0, 37])"
      ]
     },
     "execution_count": 8,
     "metadata": {},
     "output_type": "execute_result"
    }
   ],
   "source": [
    "torch.cumsum(torch.bincount(batch.x_a_batch), dim=0) - torch.bincount(batch.x_a_batch)"
   ]
  },
  {
   "cell_type": "code",
   "execution_count": null,
   "metadata": {},
   "outputs": [
    {
     "data": {
      "text/plain": [
       "37"
      ]
     },
     "execution_count": 9,
     "metadata": {},
     "output_type": "execute_result"
    }
   ],
   "source": [
    "torch.bincount(batch.x_a_batch).max().item()"
   ]
  },
  {
   "cell_type": "code",
   "execution_count": null,
   "metadata": {},
   "outputs": [
    {
     "data": {
      "text/plain": [
       "True"
      ]
     },
     "execution_count": 10,
     "metadata": {},
     "output_type": "execute_result"
    }
   ],
   "source": [
    "isinstance(batch, Batch)"
   ]
  },
  {
   "cell_type": "code",
   "execution_count": null,
   "metadata": {},
   "outputs": [
    {
     "data": {
      "text/plain": [
       "<pvg.scenarios.graph_isomorphism.GraphIsomorphismScenario at 0x7f44c2d19650>"
      ]
     },
     "execution_count": 11,
     "metadata": {},
     "output_type": "execute_result"
    }
   ],
   "source": [
    "scenario = GraphIsomorphismScenario(params, \"cpu\")\n",
    "scenario"
   ]
  },
  {
   "cell_type": "code",
   "execution_count": null,
   "metadata": {},
   "outputs": [],
   "source": [
    "rollout = scenario.rollout(batch)"
   ]
  },
  {
   "cell_type": "code",
   "execution_count": null,
   "metadata": {},
   "outputs": [
    {
     "data": {
      "application/vnd.plotly.v1+json": {
       "config": {
        "plotlyServerURL": "https://plot.ly"
       },
       "data": [
        {
         "mode": "text",
         "text": [
          "Graph A",
          "Graph B"
         ],
         "textfont": {
          "size": 20
         },
         "type": "scatter",
         "visible": true,
         "x": [
          0,
          2.2
         ],
         "y": [
          1.2,
          1.2
         ]
        },
        {
         "mode": "text",
         "text": [
          "Verifier messages:",
          "Prover messages:"
         ],
         "textposition": "middle left",
         "type": "scatter",
         "visible": true,
         "x": [
          -0.15,
          -0.15
         ],
         "y": [
          -1.3,
          -1.6
         ]
        },
        {
         "hoverinfo": "none",
         "line": {
          "color": "#888",
          "width": 0.5
         },
         "mode": "lines",
         "type": "scatter",
         "visible": true,
         "x": [
          0.9887302079305098,
          0.8268210256841302,
          null,
          0.9887302079305098,
          0.570639133054096,
          null,
          0.9887302079305098,
          0.458273856495278,
          null,
          0.8268210256841302,
          0.570639133054096,
          null,
          0.8268210256841302,
          0.458273856495278,
          null,
          0.8268210256841302,
          0.7269879645189028,
          null,
          0.8268210256841302,
          0.7582599476891135,
          null,
          0.570639133054096,
          0.458273856495278,
          null,
          0.570639133054096,
          0.7582599476891135,
          null,
          0.570639133054096,
          0.5425117012328121,
          null,
          0.458273856495278,
          0.22796872907182703,
          null,
          0.458273856495278,
          0.03451403210205324,
          null,
          0.458273856495278,
          0.5425117012328121,
          null,
          0.22796872907182703,
          0.03451403210205324,
          null,
          0.22796872907182703,
          -0.16351255214338287,
          null,
          0.22796872907182703,
          0.3357085755354109,
          null,
          0.03451403210205324,
          -0.16351255214338287,
          null,
          0.03451403210205324,
          -0.45644184576692975,
          null,
          0.03451403210205324,
          0.3357085755354109,
          null,
          -0.16351255214338287,
          -0.45644184576692975,
          null,
          -0.16351255214338287,
          -0.6103123262621895,
          null,
          -0.45644184576692975,
          -0.6103123262621895,
          null,
          -0.45644184576692975,
          -0.6981513108723758,
          null,
          -0.45644184576692975,
          -0.5737721289342692,
          null,
          -0.6103123262621895,
          -0.6981513108723758,
          null,
          -0.6981513108723758,
          -0.5737721289342692,
          null,
          -0.6981513108723758,
          -0.34861220550634586,
          null,
          -0.6981513108723758,
          -0.37768029910341616,
          null,
          -0.5737721289342692,
          -0.34861220550634586,
          null,
          -0.5737721289342692,
          -0.37768029910341616,
          null,
          -0.34861220550634586,
          -0.37768029910341616,
          null,
          -0.34861220550634586,
          0.042720780170273566,
          null,
          -0.37768029910341616,
          0.009277516605029162,
          null,
          -0.37768029910341616,
          0.042720780170273566,
          null,
          -0.083382504427968,
          0.005450751938602067,
          null,
          -0.083382504427968,
          -0.11322155603620764,
          null,
          -0.083382504427968,
          -0.24355798255198294,
          null,
          -0.083382504427968,
          0.009277516605029162,
          null,
          0.005450751938602067,
          -0.11322155603620764,
          null,
          0.005450751938602067,
          -0.24355798255198294,
          null,
          0.005450751938602067,
          0.009277516605029162,
          null,
          -0.11322155603620764,
          -0.24355798255198294,
          null,
          -0.11322155603620764,
          0.030948541160932097,
          null,
          -0.24355798255198294,
          0.030948541160932097,
          null,
          0.030948541160932097,
          0.422344277134458,
          null,
          0.030948541160932097,
          0.2564449964148794,
          null,
          0.422344277134458,
          0.2564449964148794,
          null,
          0.422344277134458,
          0.3222979695330165,
          null,
          0.2564449964148794,
          0.3222979695330165,
          null,
          0.3222979695330165,
          0.19911206081392288,
          null,
          0.3222979695330165,
          0.3739326959782467,
          null,
          0.3222979695330165,
          0.3519916443292796,
          null,
          0.3222979695330165,
          -0.16140385154522513,
          null,
          0.19911206081392288,
          0.3739326959782467,
          null,
          0.19911206081392288,
          0.3519916443292796,
          null,
          0.19911206081392288,
          -0.16140385154522513,
          null,
          0.19911206081392288,
          -0.10838577741696953,
          null,
          0.3739326959782467,
          0.3519916443292796,
          null,
          0.3739326959782467,
          -0.10838577741696953,
          null,
          0.3519916443292796,
          -0.32206757263002955,
          null,
          0.7269879645189028,
          0.7582599476891135,
          null,
          0.7269879645189028,
          0.5425117012328121,
          null,
          0.7269879645189028,
          0.3357085755354109,
          null,
          0.009277516605029162,
          0.042720780170273566,
          null,
          0.009277516605029162,
          0.3357085755354109,
          null,
          0.042720780170273566,
          0.5425117012328121,
          null,
          0.042720780170273566,
          0.3357085755354109,
          null,
          0.7582599476891135,
          0.5425117012328121,
          null,
          0.7582599476891135,
          0.3357085755354109,
          null,
          0.5425117012328121,
          0.3357085755354109,
          null,
          -0.16140385154522513,
          -0.32206757263002955,
          null,
          -0.16140385154522513,
          -0.584672911155148,
          null,
          -0.16140385154522513,
          -0.10838577741696953,
          null,
          -1,
          -0.8351608177510884,
          null,
          -1,
          -0.584672911155148,
          null,
          -1,
          -0.8046007652892452,
          null,
          -0.8351608177510884,
          -0.32206757263002955,
          null,
          -0.8351608177510884,
          -0.584672911155148,
          null,
          -0.8351608177510884,
          -0.8046007652892452,
          null,
          -0.32206757263002955,
          -0.584672911155148,
          null,
          -0.32206757263002955,
          -0.10838577741696953,
          null,
          -0.32206757263002955,
          -0.8046007652892452,
          null,
          -0.584672911155148,
          -0.10838577741696953,
          null,
          -0.584672911155148,
          -0.8046007652892452,
          null
         ],
         "y": [
          0.4298324147494474,
          0.4211561503951631,
          null,
          0.4298324147494474,
          0.20891199341698455,
          null,
          0.4298324147494474,
          0.5515615688093299,
          null,
          0.4211561503951631,
          0.20891199341698455,
          null,
          0.4211561503951631,
          0.5515615688093299,
          null,
          0.4211561503951631,
          0.76949604509082,
          null,
          0.4211561503951631,
          0.5919416876012878,
          null,
          0.20891199341698455,
          0.5515615688093299,
          null,
          0.20891199341698455,
          0.5919416876012878,
          null,
          0.20891199341698455,
          0.6727893131602211,
          null,
          0.5515615688093299,
          0.99326386492259,
          null,
          0.5515615688093299,
          0.9130911846420516,
          null,
          0.5515615688093299,
          0.6727893131602211,
          null,
          0.99326386492259,
          0.9130911846420516,
          null,
          0.99326386492259,
          0.6864343853850903,
          null,
          0.99326386492259,
          0.7297295617512835,
          null,
          0.9130911846420516,
          0.6864343853850903,
          null,
          0.9130911846420516,
          0.751932288483513,
          null,
          0.9130911846420516,
          0.7297295617512835,
          null,
          0.6864343853850903,
          0.751932288483513,
          null,
          0.6864343853850903,
          0.8372405012620806,
          null,
          0.751932288483513,
          0.8372405012620806,
          null,
          0.751932288483513,
          0.5765227478973529,
          null,
          0.751932288483513,
          0.24098953828398884,
          null,
          0.8372405012620806,
          0.5765227478973529,
          null,
          0.5765227478973529,
          0.24098953828398884,
          null,
          0.5765227478973529,
          0.30058498398624256,
          null,
          0.5765227478973529,
          0.4791098974926857,
          null,
          0.24098953828398884,
          0.30058498398624256,
          null,
          0.24098953828398884,
          0.4791098974926857,
          null,
          0.30058498398624256,
          0.4791098974926857,
          null,
          0.30058498398624256,
          0.5514731239541906,
          null,
          0.4791098974926857,
          0.20395853778880352,
          null,
          0.4791098974926857,
          0.5514731239541906,
          null,
          -0.2954588223764562,
          -0.39225524876873796,
          null,
          -0.2954588223764562,
          -0.8243843490995859,
          null,
          -0.2954588223764562,
          -0.5368465108485849,
          null,
          -0.2954588223764562,
          0.20395853778880352,
          null,
          -0.39225524876873796,
          -0.8243843490995859,
          null,
          -0.39225524876873796,
          -0.5368465108485849,
          null,
          -0.39225524876873796,
          0.20395853778880352,
          null,
          -0.8243843490995859,
          -0.5368465108485849,
          null,
          -0.8243843490995859,
          -0.9825478473482725,
          null,
          -0.5368465108485849,
          -0.9825478473482725,
          null,
          -0.9825478473482725,
          -0.663097241847355,
          null,
          -0.9825478473482725,
          -0.9019008581162528,
          null,
          -0.663097241847355,
          -0.9019008581162528,
          null,
          -0.663097241847355,
          -0.7513418832693378,
          null,
          -0.9019008581162528,
          -0.7513418832693378,
          null,
          -0.7513418832693378,
          -0.4064384131368211,
          null,
          -0.7513418832693378,
          -0.5003398347739316,
          null,
          -0.7513418832693378,
          -0.34060917319757217,
          null,
          -0.7513418832693378,
          -0.7292843227679411,
          null,
          -0.4064384131368211,
          -0.5003398347739316,
          null,
          -0.4064384131368211,
          -0.34060917319757217,
          null,
          -0.4064384131368211,
          -0.7292843227679411,
          null,
          -0.4064384131368211,
          -0.5773878727881335,
          null,
          -0.5003398347739316,
          -0.34060917319757217,
          null,
          -0.5003398347739316,
          -0.5773878727881335,
          null,
          -0.34060917319757217,
          -0.38057256555787905,
          null,
          0.76949604509082,
          0.5919416876012878,
          null,
          0.76949604509082,
          0.6727893131602211,
          null,
          0.76949604509082,
          0.7297295617512835,
          null,
          0.20395853778880352,
          0.5514731239541906,
          null,
          0.20395853778880352,
          0.7297295617512835,
          null,
          0.5514731239541906,
          0.6727893131602211,
          null,
          0.5514731239541906,
          0.7297295617512835,
          null,
          0.5919416876012878,
          0.6727893131602211,
          null,
          0.5919416876012878,
          0.7297295617512835,
          null,
          0.6727893131602211,
          0.7297295617512835,
          null,
          -0.7292843227679411,
          -0.38057256555787905,
          null,
          -0.7292843227679411,
          -0.6936152998111892,
          null,
          -0.7292843227679411,
          -0.5773878727881335,
          null,
          -0.6330058532227586,
          -0.5566784453925341,
          null,
          -0.6330058532227586,
          -0.6936152998111892,
          null,
          -0.6330058532227586,
          -0.7442552467497846,
          null,
          -0.5566784453925341,
          -0.38057256555787905,
          null,
          -0.5566784453925341,
          -0.6936152998111892,
          null,
          -0.5566784453925341,
          -0.7442552467497846,
          null,
          -0.38057256555787905,
          -0.6936152998111892,
          null,
          -0.38057256555787905,
          -0.5773878727881335,
          null,
          -0.38057256555787905,
          -0.7442552467497846,
          null,
          -0.6936152998111892,
          -0.5773878727881335,
          null,
          -0.6936152998111892,
          -0.7442552467497846,
          null
         ]
        },
        {
         "hoverinfo": "text",
         "marker": {
          "color": [
           "grey",
           "grey",
           "grey",
           "grey",
           "grey",
           "grey",
           "grey",
           "grey",
           "#B68100",
           "grey",
           "grey",
           "grey",
           "grey",
           "grey",
           "grey",
           "grey",
           "grey",
           "grey",
           "grey",
           "#2E91E5",
           "grey",
           "grey",
           "grey",
           "grey",
           "grey",
           "grey",
           "#750D86",
           "grey",
           "grey",
           "grey",
           "#222A2A",
           "grey",
           "#FB0D0D",
           "#1CA71C",
           "grey",
           "grey",
           "grey",
           "#DA16FF",
           "#E15F99"
          ],
          "line": {
           "width": 0
          },
          "opacity": 1,
          "size": [
           20,
           20,
           20,
           20,
           20,
           20,
           20,
           20,
           20,
           20,
           20,
           20,
           20,
           20,
           20,
           20,
           20,
           20,
           20,
           20,
           20,
           20,
           20,
           20,
           20,
           20,
           20,
           20,
           20,
           20,
           20,
           20,
           30,
           20,
           20,
           20,
           20,
           30,
           20
          ]
         },
         "mode": "markers+text",
         "text": [
          "0",
          "1",
          "2",
          "3",
          "4",
          "5",
          "6",
          "7",
          "8",
          "9",
          "10",
          "11",
          "12",
          "13",
          "14",
          "15",
          "16",
          "17",
          "18",
          "19",
          "20",
          "21",
          "22",
          "23",
          "24",
          "25",
          "26",
          "27",
          "28",
          "29",
          "30",
          "31",
          "32",
          "32",
          "33",
          "34",
          "35",
          "36",
          "36"
         ],
         "textfont": {
          "color": "white"
         },
         "type": "scatter",
         "visible": true,
         "x": [
          0.9887302079305098,
          0.8268210256841302,
          0.570639133054096,
          0.458273856495278,
          0.22796872907182703,
          0.03451403210205324,
          -0.16351255214338287,
          -0.45644184576692975,
          -0.6103123262621895,
          -0.6981513108723758,
          -0.5737721289342692,
          -0.34861220550634586,
          -0.37768029910341616,
          -0.083382504427968,
          0.005450751938602067,
          -0.11322155603620764,
          -0.24355798255198294,
          0.030948541160932097,
          0.422344277134458,
          0.2564449964148794,
          0.3222979695330165,
          0.19911206081392288,
          0.3739326959782467,
          0.3519916443292796,
          0.7269879645189028,
          0.009277516605029162,
          0.042720780170273566,
          0.7582599476891135,
          0.5425117012328121,
          0.3357085755354109,
          -0.16140385154522513,
          -1,
          -0.8351608177510884,
          -0.8351608177510884,
          -0.32206757263002955,
          -0.584672911155148,
          -0.10838577741696953,
          -0.8046007652892452,
          -0.8046007652892452
         ],
         "y": [
          0.4298324147494474,
          0.4211561503951631,
          0.20891199341698455,
          0.5515615688093299,
          0.99326386492259,
          0.9130911846420516,
          0.6864343853850903,
          0.751932288483513,
          0.8372405012620806,
          0.5765227478973529,
          0.24098953828398884,
          0.30058498398624256,
          0.4791098974926857,
          -0.2954588223764562,
          -0.39225524876873796,
          -0.8243843490995859,
          -0.5368465108485849,
          -0.9825478473482725,
          -0.663097241847355,
          -0.9019008581162528,
          -0.7513418832693378,
          -0.4064384131368211,
          -0.5003398347739316,
          -0.34060917319757217,
          0.76949604509082,
          0.20395853778880352,
          0.5514731239541906,
          0.5919416876012878,
          0.6727893131602211,
          0.7297295617512835,
          -0.7292843227679411,
          -0.6330058532227586,
          -0.5566784453925341,
          -0.5566784453925341,
          -0.38057256555787905,
          -0.6936152998111892,
          -0.5773878727881335,
          -0.7442552467497846,
          -0.7442552467497846
         ]
        },
        {
         "hoverinfo": "none",
         "line": {
          "color": "#888",
          "width": 0.5
         },
         "mode": "lines",
         "type": "scatter",
         "visible": true,
         "x": [
          1.936034666611312,
          2.3898377911290516,
          null,
          1.936034666611312,
          2.521867237012697,
          null,
          1.936034666611312,
          1.9450965361338635,
          null,
          2.3898377911290516,
          2.521867237012697,
          null,
          2.3898377911290516,
          2.6874328673254286,
          null,
          2.3898377911290516,
          1.9450965361338635,
          null,
          2.3898377911290516,
          2.152110519398516,
          null,
          2.521867237012697,
          2.6874328673254286,
          null,
          2.521867237012697,
          2.7970479935172516,
          null,
          2.521867237012697,
          2.152110519398516,
          null,
          2.521867237012697,
          2.2900629336800273,
          null,
          2.6874328673254286,
          2.7970479935172516,
          null,
          2.6874328673254286,
          2.7891493620954932,
          null,
          2.6874328673254286,
          2.2900629336800273,
          null,
          2.7970479935172516,
          2.7891493620954932,
          null,
          2.7970479935172516,
          2.6306189262023048,
          null,
          2.7970479935172516,
          2.4930849458499855,
          null,
          2.7891493620954932,
          2.6306189262023048,
          null,
          2.7891493620954932,
          2.3281294424135544,
          null,
          2.7891493620954932,
          2.4930849458499855,
          null,
          2.6306189262023048,
          2.3281294424135544,
          null,
          2.6306189262023048,
          2.0706418125316635,
          null,
          2.6306189262023048,
          2.4930849458499855,
          null,
          2.3281294424135544,
          2.0706418125316635,
          null,
          2.3281294424135544,
          1.7388643883416512,
          null,
          2.3281294424135544,
          2.4930849458499855,
          null,
          2.0706418125316635,
          1.7388643883416512,
          null,
          2.0706418125316635,
          1.6191657818153964,
          null,
          1.7388643883416512,
          1.6095863387316416,
          null,
          1.7388643883416512,
          1.6394370160864498,
          null,
          1.7388643883416512,
          1.6191657818153964,
          null,
          1.6095863387316416,
          1.857282130423724,
          null,
          1.6095863387316416,
          2.0639216217046754,
          null,
          1.6095863387316416,
          1.6394370160864498,
          null,
          1.857282130423724,
          2.0639216217046754,
          null,
          1.857282130423724,
          2.2374716947050737,
          null,
          1.857282130423724,
          1.7137078593340846,
          null,
          1.857282130423724,
          2.3762175217717063,
          null,
          2.0639216217046754,
          2.2374716947050737,
          null,
          2.0639216217046754,
          1.7137078593340846,
          null,
          2.0639216217046754,
          2.3762175217717063,
          null,
          2.0639216217046754,
          2.713230613184451,
          null,
          2.2374716947050737,
          1.7137078593340846,
          null,
          2.2374716947050737,
          2.3762175217717063,
          null,
          2.2374716947050737,
          2.713230613184451,
          null,
          1.9450965361338635,
          2.152110519398516,
          null,
          1.9450965361338635,
          2.2900629336800273,
          null,
          1.6394370160864498,
          1.6191657818153964,
          null,
          2.152110519398516,
          2.2900629336800273,
          null,
          2.2900629336800273,
          2.4930849458499855,
          null,
          2.3762175217717063,
          2.713230613184451,
          null
         ],
         "y": [
          -0.7989964308250616,
          -0.8954458521710948,
          null,
          -0.7989964308250616,
          -0.6098892077764589,
          null,
          -0.7989964308250616,
          -0.958895711759387,
          null,
          -0.8954458521710948,
          -0.6098892077764589,
          null,
          -0.8954458521710948,
          -0.2439011310962157,
          null,
          -0.8954458521710948,
          -0.958895711759387,
          null,
          -0.8954458521710948,
          -0.7840149552288905,
          null,
          -0.6098892077764589,
          -0.2439011310962157,
          null,
          -0.6098892077764589,
          0.08791538116244801,
          null,
          -0.6098892077764589,
          -0.7840149552288905,
          null,
          -0.6098892077764589,
          -0.4533947162827694,
          null,
          -0.2439011310962157,
          0.08791538116244801,
          null,
          -0.2439011310962157,
          0.4103759874608589,
          null,
          -0.2439011310962157,
          -0.4533947162827694,
          null,
          0.08791538116244801,
          0.4103759874608589,
          null,
          0.08791538116244801,
          0.6472073561883118,
          null,
          0.08791538116244801,
          0.3278624456830377,
          null,
          0.4103759874608589,
          0.6472073561883118,
          null,
          0.4103759874608589,
          0.7486213141447823,
          null,
          0.4103759874608589,
          0.3278624456830377,
          null,
          0.6472073561883118,
          0.7486213141447823,
          null,
          0.6472073561883118,
          0.6589716316541484,
          null,
          0.6472073561883118,
          0.3278624456830377,
          null,
          0.7486213141447823,
          0.6589716316541484,
          null,
          0.7486213141447823,
          0.6650144317975185,
          null,
          0.7486213141447823,
          0.3278624456830377,
          null,
          0.6589716316541484,
          0.6650144317975185,
          null,
          0.6589716316541484,
          1,
          null,
          0.6650144317975185,
          0.32521537137498124,
          null,
          0.6650144317975185,
          0.7899352071880192,
          null,
          0.6650144317975185,
          1,
          null,
          0.32521537137498124,
          -0.12223781671943394,
          null,
          0.32521537137498124,
          -0.03169479453573742,
          null,
          0.32521537137498124,
          0.7899352071880192,
          null,
          -0.12223781671943394,
          -0.03169479453573742,
          null,
          -0.12223781671943394,
          -0.11884962509632238,
          null,
          -0.12223781671943394,
          -0.05299445174156763,
          null,
          -0.12223781671943394,
          -0.25897206296636366,
          null,
          -0.03169479453573742,
          -0.11884962509632238,
          null,
          -0.03169479453573742,
          -0.05299445174156763,
          null,
          -0.03169479453573742,
          -0.25897206296636366,
          null,
          -0.03169479453573742,
          -0.33183237045480285,
          null,
          -0.11884962509632238,
          -0.05299445174156763,
          null,
          -0.11884962509632238,
          -0.25897206296636366,
          null,
          -0.11884962509632238,
          -0.33183237045480285,
          null,
          -0.958895711759387,
          -0.7840149552288905,
          null,
          -0.958895711759387,
          -0.4533947162827694,
          null,
          0.7899352071880192,
          1,
          null,
          -0.7840149552288905,
          -0.4533947162827694,
          null,
          -0.4533947162827694,
          0.3278624456830377,
          null,
          -0.25897206296636366,
          -0.33183237045480285,
          null
         ]
        },
        {
         "hoverinfo": "text",
         "marker": {
          "color": [
           "grey",
           "grey",
           "#FB0D0D",
           "#B68100",
           "#DA16FF",
           "grey",
           "grey",
           "grey",
           "#2E91E5",
           "grey",
           "grey",
           "grey",
           "#222A2A",
           "#E15F99",
           "grey",
           "grey",
           "grey",
           "grey",
           "grey",
           "grey",
           "grey",
           "grey",
           "grey",
           "#1CA71C",
           "#750D86"
          ],
          "line": {
           "width": 0
          },
          "opacity": 1,
          "size": [
           20,
           20,
           20,
           30,
           20,
           20,
           20,
           20,
           20,
           20,
           20,
           20,
           30,
           20,
           20,
           20,
           20,
           20,
           20,
           20,
           20,
           20,
           20,
           20,
           20
          ]
         },
         "mode": "markers+text",
         "text": [
          "0",
          "1",
          "2",
          "3",
          "3",
          "4",
          "5",
          "6",
          "7",
          "8",
          "9",
          "10",
          "11",
          "11",
          "12",
          "13",
          "14",
          "15",
          "16",
          "17",
          "18",
          "19",
          "20",
          "21",
          "22"
         ],
         "textfont": {
          "color": "white"
         },
         "type": "scatter",
         "visible": true,
         "x": [
          1.936034666611312,
          2.3898377911290516,
          2.521867237012697,
          2.6874328673254286,
          2.6874328673254286,
          2.7970479935172516,
          2.7891493620954932,
          2.6306189262023048,
          2.3281294424135544,
          2.0706418125316635,
          1.7388643883416512,
          1.6095863387316416,
          1.857282130423724,
          1.857282130423724,
          2.0639216217046754,
          2.2374716947050737,
          1.7137078593340846,
          1.9450965361338635,
          1.6394370160864498,
          1.6191657818153964,
          2.152110519398516,
          2.2900629336800273,
          2.4930849458499855,
          2.3762175217717063,
          2.713230613184451
         ],
         "y": [
          -0.7989964308250616,
          -0.8954458521710948,
          -0.6098892077764589,
          -0.2439011310962157,
          -0.2439011310962157,
          0.08791538116244801,
          0.4103759874608589,
          0.6472073561883118,
          0.7486213141447823,
          0.6589716316541484,
          0.6650144317975185,
          0.32521537137498124,
          -0.12223781671943394,
          -0.12223781671943394,
          -0.03169479453573742,
          -0.11884962509632238,
          -0.05299445174156763,
          -0.958895711759387,
          0.7899352071880192,
          1,
          -0.7840149552288905,
          -0.4533947162827694,
          0.3278624456830377,
          -0.25897206296636366,
          -0.33183237045480285
         ]
        },
        {
         "hoverinfo": "text",
         "marker": {
          "color": [
           "#2E91E5",
           "#2E91E5",
           "#E15F99",
           "#E15F99",
           "#1CA71C",
           "#1CA71C",
           "#FB0D0D",
           "#FB0D0D",
           "#DA16FF",
           "#DA16FF",
           "#222A2A",
           "#222A2A",
           "#B68100",
           "#B68100",
           "#750D86",
           "#750D86"
          ],
          "line": {
           "width": 0
          },
          "opacity": 1,
          "size": 30
         },
         "mode": "markers+text",
         "text": [
          "A19",
          "B7",
          "A36",
          "B11",
          "A32",
          "B21",
          "B2",
          "A32",
          "A36",
          "B3",
          "B11",
          "A30",
          "A8",
          "B3",
          "A26",
          "B22"
         ],
         "textfont": {
          "color": "white"
         },
         "type": "scatter",
         "visible": true,
         "x": [
          0,
          0,
          0.25,
          0.25,
          0.5,
          0.5,
          0.75,
          0.75,
          1,
          1,
          1.25,
          1.25,
          1.5,
          1.5,
          1.75,
          1.75
         ],
         "y": [
          -1.3,
          -1.6,
          -1.3,
          -1.6,
          -1.3,
          -1.6,
          -1.3,
          -1.6,
          -1.3,
          -1.6,
          -1.3,
          -1.6,
          -1.3,
          -1.6,
          -1.3,
          -1.6
         ]
        },
        {
         "hoverinfo": "none",
         "line": {
          "color": "#888",
          "width": 0.5
         },
         "mode": "lines",
         "type": "scatter",
         "visible": false,
         "x": [
          0.9999999999999999,
          0.9785557329743874,
          null,
          0.9999999999999999,
          0.8497667622760668,
          null,
          0.9999999999999999,
          0.583724473109882,
          null,
          0.9785557329743874,
          0.8497667622760668,
          null,
          0.9785557329743874,
          0.583724473109882,
          null,
          0.8479094933619779,
          0.6848640029777802,
          null,
          0.8479094933619779,
          0.583724473109882,
          null,
          0.8479094933619779,
          0.7833922846460926,
          null,
          0.6848640029777802,
          0.4111380740938487,
          null,
          0.6848640029777802,
          0.7833922846460926,
          null,
          0.4111380740938487,
          -0.1371933803082721,
          null,
          0.4111380740938487,
          0.7833922846460926,
          null,
          0.4111380740938487,
          -0.1219427609416356,
          null,
          -0.1371933803082721,
          -0.5111797148321314,
          null,
          -0.1371933803082721,
          -0.2608904097162737,
          null,
          -0.1371933803082721,
          -0.1219427609416356,
          null,
          -0.5111797148321314,
          -0.2608904097162737,
          null,
          -0.5111797148321314,
          -0.2093119978104715,
          null,
          -0.5111797148321314,
          -0.1219427609416356,
          null,
          -0.2608904097162737,
          -0.2093119978104715,
          null,
          -0.2608904097162737,
          -0.11305246598349115,
          null,
          -0.2608904097162737,
          0.04714738223769146,
          null,
          -0.2608904097162737,
          -0.1219427609416356,
          null,
          -0.2093119978104715,
          -0.11305246598349115,
          null,
          -0.2093119978104715,
          0.04714738223769146,
          null,
          -0.11305246598349115,
          0.04714738223769146,
          null,
          0.04714738223769146,
          0.07000517194707076,
          null,
          0.04714738223769146,
          0.1534261418088988,
          null,
          0.07000517194707076,
          -0.4173063330912491,
          null,
          0.07000517194707076,
          0.1534261418088988,
          null,
          -0.9072253718781002,
          -0.8802934499035103,
          null,
          -0.9072253718781002,
          -0.6393209306337251,
          null,
          -0.9072253718781002,
          -0.7863972619245435,
          null,
          -0.9072253718781002,
          -0.4173063330912491,
          null,
          -0.8802934499035103,
          -0.6393209306337251,
          null,
          -0.8802934499035103,
          -0.7863972619245435,
          null,
          -0.6393209306337251,
          -0.7863972619245435,
          null,
          -0.7863972619245435,
          -0.6109320666382574,
          null,
          -0.7863972619245435,
          -0.5173761580972881,
          null,
          -0.7863972619245435,
          -0.29750721767474747,
          null,
          -0.6109320666382574,
          -0.5173761580972881,
          null,
          -0.6109320666382574,
          -0.29750721767474747,
          null,
          -0.5173761580972881,
          -0.29750721767474747,
          null,
          0.8497667622760668,
          0.583724473109882,
          null,
          -0.4173063330912491,
          0.1534261418088988,
          null,
          0.583724473109882,
          0.7833922846460926,
          null
         ],
         "y": [
          -0.007500758562179954,
          0.21469802463033044,
          null,
          -0.007500758562179954,
          0.4010189805748541,
          null,
          -0.007500758562179954,
          0.043391188585986805,
          null,
          0.21469802463033044,
          0.4010189805748541,
          null,
          0.21469802463033044,
          0.043391188585986805,
          null,
          -0.4490260894437416,
          -0.27001747235994017,
          null,
          -0.4490260894437416,
          0.043391188585986805,
          null,
          -0.4490260894437416,
          -0.08971046786031632,
          null,
          -0.27001747235994017,
          0.3165664529478579,
          null,
          -0.27001747235994017,
          -0.08971046786031632,
          null,
          0.3165664529478579,
          0.42811581629334006,
          null,
          0.3165664529478579,
          -0.08971046786031632,
          null,
          0.3165664529478579,
          0.6889996223205086,
          null,
          0.42811581629334006,
          0.4272778617262944,
          null,
          0.42811581629334006,
          0.22428236593128503,
          null,
          0.42811581629334006,
          0.6889996223205086,
          null,
          0.4272778617262944,
          0.22428236593128503,
          null,
          0.4272778617262944,
          -0.04608311245569295,
          null,
          0.4272778617262944,
          0.6889996223205086,
          null,
          0.22428236593128503,
          -0.04608311245569295,
          null,
          0.22428236593128503,
          -0.27086186503123233,
          null,
          0.22428236593128503,
          0.03367141202537191,
          null,
          0.22428236593128503,
          0.6889996223205086,
          null,
          -0.04608311245569295,
          -0.27086186503123233,
          null,
          -0.04608311245569295,
          0.03367141202537191,
          null,
          -0.27086186503123233,
          0.03367141202537191,
          null,
          0.03367141202537191,
          0.5961769848155933,
          null,
          0.03367141202537191,
          0.22040366745861392,
          null,
          0.5961769848155933,
          0.5036772061126461,
          null,
          0.5961769848155933,
          0.22040366745861392,
          null,
          -0.047896586075664015,
          0.06008435844441985,
          null,
          -0.047896586075664015,
          -0.20718143393860922,
          null,
          -0.047896586075664015,
          -0.49723966808262815,
          null,
          -0.047896586075664015,
          0.5036772061126461,
          null,
          0.06008435844441985,
          -0.20718143393860922,
          null,
          0.06008435844441985,
          -0.49723966808262815,
          null,
          -0.20718143393860922,
          -0.49723966808262815,
          null,
          -0.49723966808262815,
          -0.5943135369128348,
          null,
          -0.49723966808262815,
          -0.8787970170637878,
          null,
          -0.49723966808262815,
          -0.799735934080475,
          null,
          -0.5943135369128348,
          -0.8787970170637878,
          null,
          -0.5943135369128348,
          -0.799735934080475,
          null,
          -0.8787970170637878,
          -0.799735934080475,
          null,
          0.4010189805748541,
          0.043391188585986805,
          null,
          0.5036772061126461,
          0.22040366745861392,
          null,
          0.043391188585986805,
          -0.08971046786031632,
          null
         ]
        },
        {
         "hoverinfo": "text",
         "marker": {
          "color": [
           "grey",
           "#DA16FF",
           "grey",
           "grey",
           "grey",
           "#222A2A",
           "#FB0D0D",
           "grey",
           "grey",
           "#2E91E5",
           "grey",
           "grey",
           "grey",
           "#B68100",
           "grey",
           "#1CA71C",
           "#E15F99",
           "grey",
           "grey",
           "grey",
           "grey",
           "grey",
           "#750D86",
           "grey",
           "grey",
           "grey"
          ],
          "line": {
           "width": 0
          },
          "opacity": 1,
          "size": [
           20,
           20,
           20,
           20,
           20,
           30,
           20,
           20,
           20,
           20,
           20,
           20,
           20,
           20,
           20,
           20,
           20,
           20,
           20,
           20,
           20,
           20,
           20,
           20,
           20,
           20
          ]
         },
         "mode": "markers+text",
         "text": [
          "0",
          "1",
          "2",
          "3",
          "4",
          "5",
          "5",
          "6",
          "7",
          "8",
          "9",
          "10",
          "11",
          "12",
          "13",
          "14",
          "15",
          "16",
          "17",
          "18",
          "19",
          "20",
          "21",
          "22",
          "23",
          "24"
         ],
         "textfont": {
          "color": "white"
         },
         "type": "scatter",
         "visible": false,
         "x": [
          0.9999999999999999,
          0.9785557329743874,
          0.8479094933619779,
          0.6848640029777802,
          0.4111380740938487,
          -0.1371933803082721,
          -0.1371933803082721,
          -0.5111797148321314,
          -0.2608904097162737,
          -0.2093119978104715,
          -0.11305246598349115,
          0.04714738223769146,
          0.07000517194707076,
          -0.9072253718781002,
          -0.8802934499035103,
          -0.6393209306337251,
          -0.7863972619245435,
          -0.6109320666382574,
          -0.5173761580972881,
          -0.29750721767474747,
          0.8497667622760668,
          -0.4173063330912491,
          0.1534261418088988,
          0.583724473109882,
          0.7833922846460926,
          -0.1219427609416356
         ],
         "y": [
          -0.007500758562179954,
          0.21469802463033044,
          -0.4490260894437416,
          -0.27001747235994017,
          0.3165664529478579,
          0.42811581629334006,
          0.42811581629334006,
          0.4272778617262944,
          0.22428236593128503,
          -0.04608311245569295,
          -0.27086186503123233,
          0.03367141202537191,
          0.5961769848155933,
          -0.047896586075664015,
          0.06008435844441985,
          -0.20718143393860922,
          -0.49723966808262815,
          -0.5943135369128348,
          -0.8787970170637878,
          -0.799735934080475,
          0.4010189805748541,
          0.5036772061126461,
          0.22040366745861392,
          0.043391188585986805,
          -0.08971046786031632,
          0.6889996223205086
         ]
        },
        {
         "hoverinfo": "none",
         "line": {
          "color": "#888",
          "width": 0.5
         },
         "mode": "lines",
         "type": "scatter",
         "visible": false,
         "x": [
          2.5231922308258166,
          2.999236395766736,
          null,
          2.5231922308258166,
          2.985430308285409,
          null,
          2.5231922308258166,
          2.8545727486598182,
          null,
          2.999236395766736,
          2.405833143939182,
          null,
          2.999236395766736,
          2.985430308285409,
          null,
          2.999236395766736,
          2.8545727486598182,
          null,
          2.405833143939182,
          2.8545727486598182,
          null,
          2.405833143939182,
          2.907519326403296,
          null,
          3.090520819571065,
          2.891412571150722,
          null,
          3.090520819571065,
          2.907519326403296,
          null,
          3.090520819571065,
          2.8055815372825093,
          null,
          2.891412571150722,
          2.4494579389845654,
          null,
          2.891412571150722,
          2.2411945366253105,
          null,
          2.891412571150722,
          2.8055815372825093,
          null,
          2.4494579389845654,
          2.2411945366253105,
          null,
          2.4494579389845654,
          1.870234881445973,
          null,
          2.4494579389845654,
          2.8055815372825093,
          null,
          2.2411945366253105,
          1.870234881445973,
          null,
          2.2411945366253105,
          1.4913848582036744,
          null,
          2.2411945366253105,
          2.8055815372825093,
          null,
          1.870234881445973,
          1.4913848582036744,
          null,
          1.870234881445973,
          1.3515787658989227,
          null,
          1.4913848582036744,
          1.3515787658989227,
          null,
          1.4913848582036744,
          1.2000000000000002,
          null,
          1.3515787658989227,
          1.2000000000000002,
          null,
          1.2000000000000002,
          1.522772448175094,
          null,
          1.2000000000000002,
          1.6723940518421547,
          null,
          1.522772448175094,
          1.4363489814222952,
          null,
          1.522772448175094,
          1.3747106725400273,
          null,
          1.522772448175094,
          1.6723940518421547,
          null,
          1.4363489814222952,
          1.3747106725400273,
          null,
          1.4363489814222952,
          1.6723940518421547,
          null,
          1.8342686527388463,
          2.3615133597722795,
          null,
          1.8342686527388463,
          2.305986973679167,
          null,
          1.8342686527388463,
          2.1881702515530543,
          null,
          1.8342686527388463,
          1.3747106725400273,
          null,
          2.3615133597722795,
          2.305986973679167,
          null,
          2.3615133597722795,
          2.1881702515530543,
          null,
          2.3615133597722795,
          2.036684545234086,
          null,
          2.305986973679167,
          2.1881702515530543,
          null,
          2.305986973679167,
          2.036684545234086,
          null,
          2.1881702515530543,
          2.036684545234086,
          null,
          2.985430308285409,
          2.8545727486598182,
          null,
          1.3747106725400273,
          1.6723940518421547,
          null,
          2.8545727486598182,
          2.907519326403296,
          null
         ],
         "y": [
          -0.44054451454978544,
          -0.37265338092118977,
          null,
          -0.44054451454978544,
          -0.7343029694678062,
          null,
          -0.44054451454978544,
          -0.29532834677721653,
          null,
          -0.37265338092118977,
          -0.16213932568015432,
          null,
          -0.37265338092118977,
          -0.7343029694678062,
          null,
          -0.37265338092118977,
          -0.29532834677721653,
          null,
          -0.16213932568015432,
          -0.29532834677721653,
          null,
          -0.16213932568015432,
          -0.47049962111677773,
          null,
          0.13274511283319293,
          0.6214565106256144,
          null,
          0.13274511283319293,
          -0.47049962111677773,
          null,
          0.13274511283319293,
          0.7633329810659912,
          null,
          0.6214565106256144,
          0.5374487086249198,
          null,
          0.6214565106256144,
          0.6869372478387732,
          null,
          0.6214565106256144,
          0.7633329810659912,
          null,
          0.5374487086249198,
          0.6869372478387732,
          null,
          0.5374487086249198,
          0.9017138801214163,
          null,
          0.5374487086249198,
          0.7633329810659912,
          null,
          0.6869372478387732,
          0.9017138801214163,
          null,
          0.6869372478387732,
          0.5652075133102833,
          null,
          0.6869372478387732,
          0.7633329810659912,
          null,
          0.9017138801214163,
          0.5652075133102833,
          null,
          0.9017138801214163,
          0.7741761770280591,
          null,
          0.5652075133102833,
          0.7741761770280591,
          null,
          0.5652075133102833,
          0.3356224058239973,
          null,
          0.7741761770280591,
          0.3356224058239973,
          null,
          0.3356224058239973,
          0.39330349505126394,
          null,
          0.3356224058239973,
          0.18792242919057842,
          null,
          0.39330349505126394,
          -0.13873962066292117,
          null,
          0.39330349505126394,
          -0.03437829491520917,
          null,
          0.39330349505126394,
          0.18792242919057842,
          null,
          -0.13873962066292117,
          -0.03437829491520917,
          null,
          -0.13873962066292117,
          0.18792242919057842,
          null,
          -0.5600045725923888,
          -0.28147944402009784,
          null,
          -0.5600045725923888,
          -0.6156089786608905,
          null,
          -0.5600045725923888,
          -0.9464109782521017,
          null,
          -0.5600045725923888,
          -0.03437829491520917,
          null,
          -0.28147944402009784,
          -0.6156089786608905,
          null,
          -0.28147944402009784,
          -0.9464109782521017,
          null,
          -0.28147944402009784,
          -0.8477764138975513,
          null,
          -0.6156089786608905,
          -0.9464109782521017,
          null,
          -0.6156089786608905,
          -0.8477764138975513,
          null,
          -0.9464109782521017,
          -0.8477764138975513,
          null,
          -0.7343029694678062,
          -0.29532834677721653,
          null,
          -0.03437829491520917,
          0.18792242919057842,
          null,
          -0.29532834677721653,
          -0.47049962111677773,
          null
         ]
        },
        {
         "hoverinfo": "text",
         "marker": {
          "color": [
           "grey",
           "#DA16FF",
           "#E15F99",
           "#222A2A",
           "grey",
           "grey",
           "grey",
           "#750D86",
           "grey",
           "grey",
           "grey",
           "grey",
           "grey",
           "grey",
           "grey",
           "grey",
           "grey",
           "grey",
           "grey",
           "grey",
           "#B68100",
           "grey",
           "#FB0D0D",
           "#2E91E5",
           "grey",
           "#1CA71C"
          ],
          "line": {
           "width": 0
          },
          "opacity": 1,
          "size": [
           20,
           30,
           20,
           20,
           20,
           20,
           20,
           20,
           20,
           20,
           20,
           20,
           20,
           20,
           20,
           20,
           20,
           20,
           20,
           20,
           20,
           20,
           30,
           20,
           20,
           20
          ]
         },
         "mode": "markers+text",
         "text": [
          "0",
          "1",
          "1",
          "2",
          "3",
          "4",
          "5",
          "6",
          "7",
          "8",
          "9",
          "10",
          "11",
          "12",
          "13",
          "14",
          "15",
          "16",
          "17",
          "18",
          "19",
          "20",
          "21",
          "21",
          "22",
          "23"
         ],
         "textfont": {
          "color": "white"
         },
         "type": "scatter",
         "visible": false,
         "x": [
          2.5231922308258166,
          2.999236395766736,
          2.999236395766736,
          2.405833143939182,
          3.090520819571065,
          2.891412571150722,
          2.4494579389845654,
          2.2411945366253105,
          1.870234881445973,
          1.4913848582036744,
          1.3515787658989227,
          1.2000000000000002,
          1.522772448175094,
          1.4363489814222952,
          1.8342686527388463,
          2.3615133597722795,
          2.305986973679167,
          2.1881702515530543,
          2.036684545234086,
          2.985430308285409,
          1.3747106725400273,
          1.6723940518421547,
          2.8545727486598182,
          2.8545727486598182,
          2.907519326403296,
          2.8055815372825093
         ],
         "y": [
          -0.44054451454978544,
          -0.37265338092118977,
          -0.37265338092118977,
          -0.16213932568015432,
          0.13274511283319293,
          0.6214565106256144,
          0.5374487086249198,
          0.6869372478387732,
          0.9017138801214163,
          0.5652075133102833,
          0.7741761770280591,
          0.3356224058239973,
          0.39330349505126394,
          -0.13873962066292117,
          -0.5600045725923888,
          -0.28147944402009784,
          -0.6156089786608905,
          -0.9464109782521017,
          -0.8477764138975513,
          -0.7343029694678062,
          -0.03437829491520917,
          0.18792242919057842,
          -0.29532834677721653,
          -0.29532834677721653,
          -0.47049962111677773,
          0.7633329810659912
         ]
        },
        {
         "hoverinfo": "text",
         "marker": {
          "color": [
           "#2E91E5",
           "#2E91E5",
           "#E15F99",
           "#E15F99",
           "#1CA71C",
           "#1CA71C",
           "#FB0D0D",
           "#FB0D0D",
           "#DA16FF",
           "#DA16FF",
           "#222A2A",
           "#222A2A",
           "#B68100",
           "#B68100",
           "#750D86",
           "#750D86"
          ],
          "line": {
           "width": 0
          },
          "opacity": 1,
          "size": 30
         },
         "mode": "markers+text",
         "text": [
          "B21",
          "A8",
          "B1",
          "A15",
          "A14",
          "B23",
          "A5",
          "B21",
          "A1",
          "B1",
          "A5",
          "B2",
          "A12",
          "B19",
          "B6",
          "A21"
         ],
         "textfont": {
          "color": "white"
         },
         "type": "scatter",
         "visible": false,
         "x": [
          0,
          0,
          0.25,
          0.25,
          0.5,
          0.5,
          0.75,
          0.75,
          1,
          1,
          1.25,
          1.25,
          1.5,
          1.5,
          1.75,
          1.75
         ],
         "y": [
          -1.3,
          -1.6,
          -1.3,
          -1.6,
          -1.3,
          -1.6,
          -1.3,
          -1.6,
          -1.3,
          -1.6,
          -1.3,
          -1.6,
          -1.3,
          -1.6,
          -1.3,
          -1.6
         ]
        }
       ],
       "layout": {
        "hovermode": "closest",
        "margin": {
         "b": 5,
         "l": 5,
         "r": 5,
         "t": 50
        },
        "showlegend": false,
        "template": {
         "data": {
          "bar": [
           {
            "error_x": {
             "color": "#2a3f5f"
            },
            "error_y": {
             "color": "#2a3f5f"
            },
            "marker": {
             "line": {
              "color": "#E5ECF6",
              "width": 0.5
             },
             "pattern": {
              "fillmode": "overlay",
              "size": 10,
              "solidity": 0.2
             }
            },
            "type": "bar"
           }
          ],
          "barpolar": [
           {
            "marker": {
             "line": {
              "color": "#E5ECF6",
              "width": 0.5
             },
             "pattern": {
              "fillmode": "overlay",
              "size": 10,
              "solidity": 0.2
             }
            },
            "type": "barpolar"
           }
          ],
          "carpet": [
           {
            "aaxis": {
             "endlinecolor": "#2a3f5f",
             "gridcolor": "white",
             "linecolor": "white",
             "minorgridcolor": "white",
             "startlinecolor": "#2a3f5f"
            },
            "baxis": {
             "endlinecolor": "#2a3f5f",
             "gridcolor": "white",
             "linecolor": "white",
             "minorgridcolor": "white",
             "startlinecolor": "#2a3f5f"
            },
            "type": "carpet"
           }
          ],
          "choropleth": [
           {
            "colorbar": {
             "outlinewidth": 0,
             "ticks": ""
            },
            "type": "choropleth"
           }
          ],
          "contour": [
           {
            "colorbar": {
             "outlinewidth": 0,
             "ticks": ""
            },
            "colorscale": [
             [
              0,
              "#0d0887"
             ],
             [
              0.1111111111111111,
              "#46039f"
             ],
             [
              0.2222222222222222,
              "#7201a8"
             ],
             [
              0.3333333333333333,
              "#9c179e"
             ],
             [
              0.4444444444444444,
              "#bd3786"
             ],
             [
              0.5555555555555556,
              "#d8576b"
             ],
             [
              0.6666666666666666,
              "#ed7953"
             ],
             [
              0.7777777777777778,
              "#fb9f3a"
             ],
             [
              0.8888888888888888,
              "#fdca26"
             ],
             [
              1,
              "#f0f921"
             ]
            ],
            "type": "contour"
           }
          ],
          "contourcarpet": [
           {
            "colorbar": {
             "outlinewidth": 0,
             "ticks": ""
            },
            "type": "contourcarpet"
           }
          ],
          "heatmap": [
           {
            "colorbar": {
             "outlinewidth": 0,
             "ticks": ""
            },
            "colorscale": [
             [
              0,
              "#0d0887"
             ],
             [
              0.1111111111111111,
              "#46039f"
             ],
             [
              0.2222222222222222,
              "#7201a8"
             ],
             [
              0.3333333333333333,
              "#9c179e"
             ],
             [
              0.4444444444444444,
              "#bd3786"
             ],
             [
              0.5555555555555556,
              "#d8576b"
             ],
             [
              0.6666666666666666,
              "#ed7953"
             ],
             [
              0.7777777777777778,
              "#fb9f3a"
             ],
             [
              0.8888888888888888,
              "#fdca26"
             ],
             [
              1,
              "#f0f921"
             ]
            ],
            "type": "heatmap"
           }
          ],
          "heatmapgl": [
           {
            "colorbar": {
             "outlinewidth": 0,
             "ticks": ""
            },
            "colorscale": [
             [
              0,
              "#0d0887"
             ],
             [
              0.1111111111111111,
              "#46039f"
             ],
             [
              0.2222222222222222,
              "#7201a8"
             ],
             [
              0.3333333333333333,
              "#9c179e"
             ],
             [
              0.4444444444444444,
              "#bd3786"
             ],
             [
              0.5555555555555556,
              "#d8576b"
             ],
             [
              0.6666666666666666,
              "#ed7953"
             ],
             [
              0.7777777777777778,
              "#fb9f3a"
             ],
             [
              0.8888888888888888,
              "#fdca26"
             ],
             [
              1,
              "#f0f921"
             ]
            ],
            "type": "heatmapgl"
           }
          ],
          "histogram": [
           {
            "marker": {
             "pattern": {
              "fillmode": "overlay",
              "size": 10,
              "solidity": 0.2
             }
            },
            "type": "histogram"
           }
          ],
          "histogram2d": [
           {
            "colorbar": {
             "outlinewidth": 0,
             "ticks": ""
            },
            "colorscale": [
             [
              0,
              "#0d0887"
             ],
             [
              0.1111111111111111,
              "#46039f"
             ],
             [
              0.2222222222222222,
              "#7201a8"
             ],
             [
              0.3333333333333333,
              "#9c179e"
             ],
             [
              0.4444444444444444,
              "#bd3786"
             ],
             [
              0.5555555555555556,
              "#d8576b"
             ],
             [
              0.6666666666666666,
              "#ed7953"
             ],
             [
              0.7777777777777778,
              "#fb9f3a"
             ],
             [
              0.8888888888888888,
              "#fdca26"
             ],
             [
              1,
              "#f0f921"
             ]
            ],
            "type": "histogram2d"
           }
          ],
          "histogram2dcontour": [
           {
            "colorbar": {
             "outlinewidth": 0,
             "ticks": ""
            },
            "colorscale": [
             [
              0,
              "#0d0887"
             ],
             [
              0.1111111111111111,
              "#46039f"
             ],
             [
              0.2222222222222222,
              "#7201a8"
             ],
             [
              0.3333333333333333,
              "#9c179e"
             ],
             [
              0.4444444444444444,
              "#bd3786"
             ],
             [
              0.5555555555555556,
              "#d8576b"
             ],
             [
              0.6666666666666666,
              "#ed7953"
             ],
             [
              0.7777777777777778,
              "#fb9f3a"
             ],
             [
              0.8888888888888888,
              "#fdca26"
             ],
             [
              1,
              "#f0f921"
             ]
            ],
            "type": "histogram2dcontour"
           }
          ],
          "mesh3d": [
           {
            "colorbar": {
             "outlinewidth": 0,
             "ticks": ""
            },
            "type": "mesh3d"
           }
          ],
          "parcoords": [
           {
            "line": {
             "colorbar": {
              "outlinewidth": 0,
              "ticks": ""
             }
            },
            "type": "parcoords"
           }
          ],
          "pie": [
           {
            "automargin": true,
            "type": "pie"
           }
          ],
          "scatter": [
           {
            "fillpattern": {
             "fillmode": "overlay",
             "size": 10,
             "solidity": 0.2
            },
            "type": "scatter"
           }
          ],
          "scatter3d": [
           {
            "line": {
             "colorbar": {
              "outlinewidth": 0,
              "ticks": ""
             }
            },
            "marker": {
             "colorbar": {
              "outlinewidth": 0,
              "ticks": ""
             }
            },
            "type": "scatter3d"
           }
          ],
          "scattercarpet": [
           {
            "marker": {
             "colorbar": {
              "outlinewidth": 0,
              "ticks": ""
             }
            },
            "type": "scattercarpet"
           }
          ],
          "scattergeo": [
           {
            "marker": {
             "colorbar": {
              "outlinewidth": 0,
              "ticks": ""
             }
            },
            "type": "scattergeo"
           }
          ],
          "scattergl": [
           {
            "marker": {
             "colorbar": {
              "outlinewidth": 0,
              "ticks": ""
             }
            },
            "type": "scattergl"
           }
          ],
          "scattermapbox": [
           {
            "marker": {
             "colorbar": {
              "outlinewidth": 0,
              "ticks": ""
             }
            },
            "type": "scattermapbox"
           }
          ],
          "scatterpolar": [
           {
            "marker": {
             "colorbar": {
              "outlinewidth": 0,
              "ticks": ""
             }
            },
            "type": "scatterpolar"
           }
          ],
          "scatterpolargl": [
           {
            "marker": {
             "colorbar": {
              "outlinewidth": 0,
              "ticks": ""
             }
            },
            "type": "scatterpolargl"
           }
          ],
          "scatterternary": [
           {
            "marker": {
             "colorbar": {
              "outlinewidth": 0,
              "ticks": ""
             }
            },
            "type": "scatterternary"
           }
          ],
          "surface": [
           {
            "colorbar": {
             "outlinewidth": 0,
             "ticks": ""
            },
            "colorscale": [
             [
              0,
              "#0d0887"
             ],
             [
              0.1111111111111111,
              "#46039f"
             ],
             [
              0.2222222222222222,
              "#7201a8"
             ],
             [
              0.3333333333333333,
              "#9c179e"
             ],
             [
              0.4444444444444444,
              "#bd3786"
             ],
             [
              0.5555555555555556,
              "#d8576b"
             ],
             [
              0.6666666666666666,
              "#ed7953"
             ],
             [
              0.7777777777777778,
              "#fb9f3a"
             ],
             [
              0.8888888888888888,
              "#fdca26"
             ],
             [
              1,
              "#f0f921"
             ]
            ],
            "type": "surface"
           }
          ],
          "table": [
           {
            "cells": {
             "fill": {
              "color": "#EBF0F8"
             },
             "line": {
              "color": "white"
             }
            },
            "header": {
             "fill": {
              "color": "#C8D4E3"
             },
             "line": {
              "color": "white"
             }
            },
            "type": "table"
           }
          ]
         },
         "layout": {
          "annotationdefaults": {
           "arrowcolor": "#2a3f5f",
           "arrowhead": 0,
           "arrowwidth": 1
          },
          "autotypenumbers": "strict",
          "coloraxis": {
           "colorbar": {
            "outlinewidth": 0,
            "ticks": ""
           }
          },
          "colorscale": {
           "diverging": [
            [
             0,
             "#8e0152"
            ],
            [
             0.1,
             "#c51b7d"
            ],
            [
             0.2,
             "#de77ae"
            ],
            [
             0.3,
             "#f1b6da"
            ],
            [
             0.4,
             "#fde0ef"
            ],
            [
             0.5,
             "#f7f7f7"
            ],
            [
             0.6,
             "#e6f5d0"
            ],
            [
             0.7,
             "#b8e186"
            ],
            [
             0.8,
             "#7fbc41"
            ],
            [
             0.9,
             "#4d9221"
            ],
            [
             1,
             "#276419"
            ]
           ],
           "sequential": [
            [
             0,
             "#0d0887"
            ],
            [
             0.1111111111111111,
             "#46039f"
            ],
            [
             0.2222222222222222,
             "#7201a8"
            ],
            [
             0.3333333333333333,
             "#9c179e"
            ],
            [
             0.4444444444444444,
             "#bd3786"
            ],
            [
             0.5555555555555556,
             "#d8576b"
            ],
            [
             0.6666666666666666,
             "#ed7953"
            ],
            [
             0.7777777777777778,
             "#fb9f3a"
            ],
            [
             0.8888888888888888,
             "#fdca26"
            ],
            [
             1,
             "#f0f921"
            ]
           ],
           "sequentialminus": [
            [
             0,
             "#0d0887"
            ],
            [
             0.1111111111111111,
             "#46039f"
            ],
            [
             0.2222222222222222,
             "#7201a8"
            ],
            [
             0.3333333333333333,
             "#9c179e"
            ],
            [
             0.4444444444444444,
             "#bd3786"
            ],
            [
             0.5555555555555556,
             "#d8576b"
            ],
            [
             0.6666666666666666,
             "#ed7953"
            ],
            [
             0.7777777777777778,
             "#fb9f3a"
            ],
            [
             0.8888888888888888,
             "#fdca26"
            ],
            [
             1,
             "#f0f921"
            ]
           ]
          },
          "colorway": [
           "#636efa",
           "#EF553B",
           "#00cc96",
           "#ab63fa",
           "#FFA15A",
           "#19d3f3",
           "#FF6692",
           "#B6E880",
           "#FF97FF",
           "#FECB52"
          ],
          "font": {
           "color": "#2a3f5f"
          },
          "geo": {
           "bgcolor": "white",
           "lakecolor": "white",
           "landcolor": "#E5ECF6",
           "showlakes": true,
           "showland": true,
           "subunitcolor": "white"
          },
          "hoverlabel": {
           "align": "left"
          },
          "hovermode": "closest",
          "mapbox": {
           "style": "light"
          },
          "paper_bgcolor": "white",
          "plot_bgcolor": "#E5ECF6",
          "polar": {
           "angularaxis": {
            "gridcolor": "white",
            "linecolor": "white",
            "ticks": ""
           },
           "bgcolor": "#E5ECF6",
           "radialaxis": {
            "gridcolor": "white",
            "linecolor": "white",
            "ticks": ""
           }
          },
          "scene": {
           "xaxis": {
            "backgroundcolor": "#E5ECF6",
            "gridcolor": "white",
            "gridwidth": 2,
            "linecolor": "white",
            "showbackground": true,
            "ticks": "",
            "zerolinecolor": "white"
           },
           "yaxis": {
            "backgroundcolor": "#E5ECF6",
            "gridcolor": "white",
            "gridwidth": 2,
            "linecolor": "white",
            "showbackground": true,
            "ticks": "",
            "zerolinecolor": "white"
           },
           "zaxis": {
            "backgroundcolor": "#E5ECF6",
            "gridcolor": "white",
            "gridwidth": 2,
            "linecolor": "white",
            "showbackground": true,
            "ticks": "",
            "zerolinecolor": "white"
           }
          },
          "shapedefaults": {
           "line": {
            "color": "#2a3f5f"
           }
          },
          "ternary": {
           "aaxis": {
            "gridcolor": "white",
            "linecolor": "white",
            "ticks": ""
           },
           "baxis": {
            "gridcolor": "white",
            "linecolor": "white",
            "ticks": ""
           },
           "bgcolor": "#E5ECF6",
           "caxis": {
            "gridcolor": "white",
            "linecolor": "white",
            "ticks": ""
           }
          },
          "title": {
           "x": 0.05
          },
          "xaxis": {
           "automargin": true,
           "gridcolor": "white",
           "linecolor": "white",
           "ticks": "",
           "title": {
            "standoff": 15
           },
           "zerolinecolor": "white",
           "zerolinewidth": 2
          },
          "yaxis": {
           "automargin": true,
           "gridcolor": "white",
           "linecolor": "white",
           "ticks": "",
           "title": {
            "standoff": 15
           },
           "zerolinecolor": "white",
           "zerolinewidth": 2
          }
         }
        },
        "title": {
         "text": "Prover-Verifier messages"
        },
        "updatemenus": [
         {
          "active": 0,
          "buttons": [
           {
            "args": [
             {
              "visible": [
               true,
               true,
               true,
               true,
               true,
               true,
               true,
               false,
               false,
               false,
               false,
               false
              ]
             }
            ],
            "label": "Batch item 0",
            "method": "update"
           },
           {
            "args": [
             {
              "visible": [
               true,
               true,
               false,
               false,
               false,
               false,
               false,
               true,
               true,
               true,
               true,
               true
              ]
             }
            ],
            "label": "Batch item 1",
            "method": "update"
           }
          ],
          "showactive": true
         }
        ],
        "xaxis": {
         "showgrid": false,
         "showticklabels": false,
         "zeroline": false
        },
        "yaxis": {
         "showgrid": false,
         "showticklabels": false,
         "zeroline": false
        }
       }
      }
     },
     "metadata": {},
     "output_type": "display_data"
    }
   ],
   "source": [
    "rollout.visualise()"
   ]
  }
 ],
 "metadata": {
  "kernelspec": {
   "display_name": "pvg-experiments",
   "language": "python",
   "name": "python3"
  },
  "language_info": {
   "codemirror_mode": {
    "name": "ipython",
    "version": 3
   },
   "file_extension": ".py",
   "mimetype": "text/x-python",
   "name": "python",
   "nbconvert_exporter": "python",
   "pygments_lexer": "ipython3",
   "version": "3.11.6"
  },
  "orig_nbformat": 4
 },
 "nbformat": 4,
 "nbformat_minor": 2
}
