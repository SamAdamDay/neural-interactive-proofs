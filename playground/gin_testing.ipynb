{
 "cells": [
  {
   "cell_type": "markdown",
   "metadata": {},
   "source": [
    "# Testing GIN implementation"
   ]
  },
  {
   "cell_type": "markdown",
   "metadata": {},
   "source": [
    "## Setup"
   ]
  },
  {
   "cell_type": "code",
   "execution_count": 190,
   "metadata": {},
   "outputs": [],
   "source": [
    "FORCE_CPU = True\n",
    "\n",
    "SEED = 349287\n",
    "\n",
    "BATCH_SIZE = 128\n",
    "\n",
    "NUM_GNN_LAYERS = 2"
   ]
  },
  {
   "cell_type": "code",
   "execution_count": 191,
   "metadata": {},
   "outputs": [],
   "source": [
    "from typing import Iterable\n",
    "from hashlib import blake2b\n",
    "\n",
    "import torch\n",
    "from torch import Tensor\n",
    "from torch import nn\n",
    "\n",
    "from tensordict import TensorDictBase, TensorDict\n",
    "from tensordict.nn import TensorDictModuleBase, TensorDictSequential, TensorDictModule\n",
    "from tensordict.utils import NestedKey\n",
    "\n",
    "import numpy as np\n",
    "\n",
    "from jaxtyping import Float, Bool\n",
    "\n",
    "import einops\n",
    "\n",
    "import networkx as nx\n",
    "\n",
    "from tqdm import tqdm\n",
    "\n",
    "import pandas as pd\n",
    "\n",
    "import plotly.graph_objects as go\n",
    "import plotly.express as px\n",
    "\n",
    "from pvg import (\n",
    "    Parameters,\n",
    "    ScenarioType,\n",
    "    TrainerType,\n",
    "    AgentsParameters,\n",
    "    GraphIsomorphismAgentParameters,\n",
    ")\n",
    "from pvg.experiment_settings import ExperimentSettings\n",
    "from pvg.graph_isomorphism import (\n",
    "    GraphIsomorphismAgentHooks,\n",
    ")\n",
    "from pvg.scenario_instance import build_scenario_instance\n",
    "from pvg.scenario_base import DataLoader"
   ]
  },
  {
   "cell_type": "code",
   "execution_count": 192,
   "metadata": {},
   "outputs": [],
   "source": [
    "torch.manual_seed(SEED)\n",
    "torch_generator = torch.Generator().manual_seed(SEED)"
   ]
  },
  {
   "cell_type": "code",
   "execution_count": 193,
   "metadata": {},
   "outputs": [
    {
     "name": "stdout",
     "output_type": "stream",
     "text": [
      "cpu\n"
     ]
    }
   ],
   "source": [
    "if not FORCE_CPU and torch.cuda.is_available():\n",
    "    device = torch.device(\"cuda\")\n",
    "else:\n",
    "    device = torch.device(\"cpu\")\n",
    "print(device)"
   ]
  },
  {
   "cell_type": "markdown",
   "metadata": {},
   "source": [
    "## Scenario"
   ]
  },
  {
   "cell_type": "code",
   "execution_count": 194,
   "metadata": {},
   "outputs": [],
   "source": [
    "params = Parameters(\n",
    "    scenario=ScenarioType.GRAPH_ISOMORPHISM,\n",
    "    trainer=TrainerType.SOLO_AGENT,\n",
    "    dataset=\"eru10000\",\n",
    "    seed=SEED,\n",
    "    agents=AgentsParameters(verifier=GraphIsomorphismAgentParameters(\n",
    "        num_gnn_layers=NUM_GNN_LAYERS,\n",
    "    )),\n",
    ")"
   ]
  },
  {
   "cell_type": "code",
   "execution_count": 195,
   "metadata": {},
   "outputs": [],
   "source": [
    "verifier_params = params.agents[\"verifier\"]"
   ]
  },
  {
   "cell_type": "code",
   "execution_count": 196,
   "metadata": {},
   "outputs": [],
   "source": [
    "settings = ExperimentSettings(\n",
    "    device=device,\n",
    ")"
   ]
  },
  {
   "cell_type": "code",
   "execution_count": 197,
   "metadata": {},
   "outputs": [],
   "source": [
    "scenario_instance = build_scenario_instance(\n",
    "    params=params,\n",
    "    settings=settings,\n",
    ")"
   ]
  },
  {
   "cell_type": "code",
   "execution_count": 198,
   "metadata": {},
   "outputs": [],
   "source": [
    "dataset = scenario_instance.train_dataset"
   ]
  },
  {
   "cell_type": "code",
   "execution_count": 199,
   "metadata": {},
   "outputs": [],
   "source": [
    "max_num_nodes = dataset[\"x\"].shape[-2]"
   ]
  },
  {
   "cell_type": "markdown",
   "metadata": {},
   "source": [
    "## GIN model"
   ]
  },
  {
   "cell_type": "code",
   "execution_count": 200,
   "metadata": {},
   "outputs": [],
   "source": [
    "class Identity(nn.Module):\n",
    "    def forward(self, x: Tensor) -> Tensor:\n",
    "        return x"
   ]
  },
  {
   "cell_type": "code",
   "execution_count": 201,
   "metadata": {},
   "outputs": [],
   "source": [
    "class GIN(TensorDictModuleBase):\n",
    "    r\"\"\"A graph isomorphism network (GIN) layer.\n",
    "\n",
    "    This is a message-passing layer that aggregates the features of the neighbours as\n",
    "    follows:\n",
    "    $$\n",
    "        x_i' = MLP((1 + \\epsilon) x_i + \\sum_{j \\in \\mathcal{N}(i)} x_j)\n",
    "    $$\n",
    "    where $x_i$ is the feature vector of node $i$, $\\mathcal{N}(i)$ is the set of\n",
    "    neighbours of node $i$, and $\\epsilon$ is a (possibly learnable) parameter.\n",
    "\n",
    "    From the paper \"How Powerful are Graph Neural Networks?\" by Keyulu Xu et al.\n",
    "    (https://arxiv.org/abs/1810.00826).\n",
    "\n",
    "    The difference between this implementation and the one in PyTorch Geometric is that\n",
    "    this one takes as input a TensorDict with dense representations of the graphs and\n",
    "    features.\n",
    "\n",
    "    Parameters\n",
    "    ----------\n",
    "    mlp : nn.Module\n",
    "        The MLP to apply to the aggregated features.\n",
    "    eps : float, default=0.0\n",
    "        The initial value of $\\epsilon$.\n",
    "    train_eps : bool, default=False\n",
    "        Whether to train $\\epsilon$ or keep it fixed.\n",
    "    feature_in_key : NestedKey, default=\"x\"\n",
    "        The key of the input features in the input TensorDict.\n",
    "    feature_out_key : NestedKey, default=\"x\"\n",
    "        The key of the output features in the output TensorDict.\n",
    "    vmap_compatible : bool, default=False\n",
    "        Whether the module is compatible with `vmap` or not. If `True`, the node mask\n",
    "        is only applied after the MLP, which is less efficient but allows for the use\n",
    "        of `vmap`.\n",
    "\n",
    "    Shapes\n",
    "    ------\n",
    "    Takes as input a TensorDict with the following keys:\n",
    "    * `x` - Float[\"... max_nodes feature\"] - The features of the nodes.\n",
    "    * `adjacency` - Float[\"... max_nodes max_nodes\"] - The adjacency matrix of the\n",
    "      graph.\n",
    "    * `node_mask` - Bool[\"... max_nodes\"] - A mask indicating which nodes exist\n",
    "    \"\"\"\n",
    "\n",
    "    @property\n",
    "    def in_keys(self) -> Iterable[str]:\n",
    "        return (self.feature_in_key, \"adjacency\", \"node_mask\")\n",
    "\n",
    "    @property\n",
    "    def out_keys(self) -> Iterable[str]:\n",
    "        return (self.feature_out_key, \"adjacency\", \"node_mask\")\n",
    "\n",
    "    def __init__(\n",
    "        self,\n",
    "        mlp: nn.Module,\n",
    "        eps: float = 0.0,\n",
    "        train_eps: bool = False,\n",
    "        feature_in_key: NestedKey = \"x\",\n",
    "        feature_out_key: NestedKey = \"x\",\n",
    "        vmap_compatible: bool = False,\n",
    "    ):\n",
    "        super().__init__()\n",
    "        self.mlp = mlp\n",
    "        self.initial_eps = eps\n",
    "        self.feature_in_key = feature_in_key\n",
    "        self.feature_out_key = feature_out_key\n",
    "        self.vmap_compatible = vmap_compatible\n",
    "        if train_eps:\n",
    "            self.eps = torch.nn.Parameter(torch.Tensor([eps]))\n",
    "        else:\n",
    "            self.register_buffer(\"eps\", torch.Tensor([eps]))\n",
    "        self.reset_parameters()\n",
    "\n",
    "    def reset_parameters(self):\n",
    "        self.eps.data.fill_(self.initial_eps)\n",
    "\n",
    "    def forward(\n",
    "        self,\n",
    "        tensordict: TensorDictBase,\n",
    "    ) -> torch.Tensor:\n",
    "        # Extract the features, adjacency matrix and node mask from the input\n",
    "        x: Float[Tensor, \"... max_nodes feature\"] = tensordict[self.feature_in_key]\n",
    "        adjacency: Float[Tensor, \"... max_nodes max_nodes\"] = tensordict[\"adjacency\"]\n",
    "        if \"node_mask\" in tensordict.keys():\n",
    "            node_mask: Bool[Tensor, \"... max_nodes\"] = tensordict[\"node_mask\"]\n",
    "        else:\n",
    "            node_mask = torch.ones(x.shape[:-1], dtype=torch.bool, device=x.device)\n",
    "\n",
    "        # Aggregate the features of the neighbours using summation\n",
    "        x_expanded = einops.rearrange(\n",
    "            x, \"... max_nodes feature -> ... max_nodes 1 feature\"\n",
    "        )\n",
    "        adjacency = einops.rearrange(\n",
    "            adjacency,\n",
    "            \"... max_nodes_a max_nodes_b -> ... max_nodes_a max_nodes_b 1\",\n",
    "        )\n",
    "        # (..., max_nodes, feature)\n",
    "        x_aggregated = einops.reduce(\n",
    "            x_expanded * adjacency,\n",
    "            \"... max_nodes_a max_nodes_b feature -> ... max_nodes_b feature\",\n",
    "            \"sum\",\n",
    "        )\n",
    "\n",
    "        # Apply the MLP to the aggregated features plus a contribution from the node\n",
    "        # itself. We do this only according to the node mask, putting zeros elsewhere.\n",
    "        if self.vmap_compatible:\n",
    "            new_x = self.mlp((1 + self.eps) * x + x_aggregated)\n",
    "            new_x = new_x * node_mask[..., None]\n",
    "        else:\n",
    "            new_x_flat = self.mlp(\n",
    "                (1 + self.eps) * x[node_mask] + x_aggregated[node_mask]\n",
    "            )\n",
    "            new_x = torch.zeros(\n",
    "                (*x.shape[:-1], new_x_flat.shape[-1]), dtype=x.dtype, device=x.device\n",
    "            )\n",
    "            new_x[node_mask] = new_x_flat\n",
    "\n",
    "        out = TensorDict(tensordict)\n",
    "        out[self.feature_out_key] = new_x\n",
    "\n",
    "        return out"
   ]
  },
  {
   "cell_type": "code",
   "execution_count": 202,
   "metadata": {},
   "outputs": [],
   "source": [
    "def build_gnn() -> TensorDictSequential:\n",
    "    # Build up the GNN\n",
    "    gnn_layers = []\n",
    "    gnn_layers.append(\n",
    "        TensorDictModule(\n",
    "            nn.Linear(params.protocol_params.max_message_rounds, verifier_params.d_gnn),\n",
    "            in_keys=(\"x\",),\n",
    "            out_keys=(\"gnn_repr\",),\n",
    "        )\n",
    "    )\n",
    "    for _ in range(verifier_params.num_gnn_layers):\n",
    "        gnn_layers.append(\n",
    "            TensorDictModule(\n",
    "                nn.Tanh(),\n",
    "                in_keys=(\"gnn_repr\",),\n",
    "                out_keys=(\"gnn_repr\",),\n",
    "            )\n",
    "        )\n",
    "        gnn_layers.append(\n",
    "            GIN(\n",
    "                # Identity(),\n",
    "                nn.Sequential(\n",
    "                    nn.Linear(\n",
    "                        verifier_params.d_gnn,\n",
    "                        verifier_params.d_gin_mlp,\n",
    "                    ),\n",
    "                    nn.Tanh(),\n",
    "                    nn.Linear(\n",
    "                        verifier_params.d_gin_mlp,\n",
    "                        verifier_params.d_gnn,\n",
    "                    ),\n",
    "                ),\n",
    "                feature_in_key=\"gnn_repr\",\n",
    "                feature_out_key=\"gnn_repr\",\n",
    "                vmap_compatible=True,\n",
    "            )\n",
    "        )\n",
    "\n",
    "    return TensorDictSequential(*gnn_layers)"
   ]
  },
  {
   "cell_type": "code",
   "execution_count": 203,
   "metadata": {},
   "outputs": [],
   "source": [
    "gnn_encoder = build_gnn().to(device)"
   ]
  },
  {
   "cell_type": "markdown",
   "metadata": {},
   "source": [
    "## Running the GNN"
   ]
  },
  {
   "cell_type": "code",
   "execution_count": 204,
   "metadata": {},
   "outputs": [],
   "source": [
    "dataloader = DataLoader(\n",
    "    dataset=dataset,\n",
    "    batch_size=BATCH_SIZE,\n",
    "    shuffle=False,\n",
    ")"
   ]
  },
  {
   "cell_type": "code",
   "execution_count": 205,
   "metadata": {},
   "outputs": [],
   "source": [
    "gnn_output = torch.empty(\n",
    "    (len(dataset), 2, max_num_nodes, verifier_params.d_gnn), device=device\n",
    ")\n",
    "wl_scores = torch.empty(len(dataset), device=device)"
   ]
  },
  {
   "cell_type": "code",
   "execution_count": 206,
   "metadata": {},
   "outputs": [
    {
     "name": "stderr",
     "output_type": "stream",
     "text": [
      "100%|██████████| 79/79 [00:00<00:00, 877.37it/s]\n"
     ]
    }
   ],
   "source": [
    "for i, batch in tqdm(enumerate(dataloader), total=len(dataloader)):\n",
    "    out = gnn_encoder(batch)\n",
    "    gnn_output[i * BATCH_SIZE: (i+1) * BATCH_SIZE] = out[\"gnn_repr\"]\n",
    "    wl_scores[i * BATCH_SIZE: (i+1) * BATCH_SIZE] = batch[\"wl_score\"]"
   ]
  },
  {
   "cell_type": "code",
   "execution_count": 207,
   "metadata": {},
   "outputs": [
    {
     "data": {
      "text/plain": [
       "TensorDict(\n",
       "    fields={\n",
       "        adjacency: Tensor(shape=torch.Size([16, 2, 11, 11]), device=cpu, dtype=torch.int32, is_shared=False),\n",
       "        gnn_repr: Tensor(shape=torch.Size([16, 2, 11, 16]), device=cpu, dtype=torch.float32, is_shared=False),\n",
       "        node_mask: Tensor(shape=torch.Size([16, 2, 11]), device=cpu, dtype=torch.bool, is_shared=False),\n",
       "        wl_score: Tensor(shape=torch.Size([16]), device=cpu, dtype=torch.int32, is_shared=False),\n",
       "        x: Tensor(shape=torch.Size([16, 2, 11, 8]), device=cpu, dtype=torch.float32, is_shared=False),\n",
       "        y: Tensor(shape=torch.Size([16]), device=cpu, dtype=torch.int64, is_shared=False)},\n",
       "    batch_size=torch.Size([16]),\n",
       "    device=None,\n",
       "    is_shared=False)"
      ]
     },
     "execution_count": 207,
     "metadata": {},
     "output_type": "execute_result"
    }
   ],
   "source": [
    "batch"
   ]
  },
  {
   "cell_type": "code",
   "execution_count": 208,
   "metadata": {},
   "outputs": [],
   "source": [
    "max_wl_score = torch.max(dataset[\"wl_score\"]).item()"
   ]
  },
  {
   "cell_type": "code",
   "execution_count": 209,
   "metadata": {},
   "outputs": [],
   "source": [
    "stats = {}\n",
    "means = {}\n",
    "stds = {}\n",
    "raw_data = {}\n",
    "for wl_score in range(-1, max_wl_score + 1):\n",
    "    if wl_score not in dataset[\"wl_score\"]:\n",
    "        means[wl_score] = np.nan\n",
    "        stds[wl_score] = np.nan\n",
    "        raw_data[wl_score] = np.empty(0, dtype=np.float32)\n",
    "        continue\n",
    "    mask = (wl_scores == wl_score).numpy()\n",
    "    raw_data[wl_score] = gnn_output[mask].detach().cpu().numpy()\n",
    "    stats[wl_score] = (\n",
    "        raw_data[wl_score][:, 0].sum(axis=1) - raw_data[wl_score][:, 1].sum(axis=1)\n",
    "    ).mean(axis=1)\n",
    "    means[wl_score] = stats[wl_score].mean()\n",
    "    stds[wl_score] = stats[wl_score].std()"
   ]
  },
  {
   "cell_type": "code",
   "execution_count": 210,
   "metadata": {},
   "outputs": [
    {
     "data": {
      "text/html": [
       "<div>\n",
       "<style scoped>\n",
       "    .dataframe tbody tr th:only-of-type {\n",
       "        vertical-align: middle;\n",
       "    }\n",
       "\n",
       "    .dataframe tbody tr th {\n",
       "        vertical-align: top;\n",
       "    }\n",
       "\n",
       "    .dataframe thead th {\n",
       "        text-align: right;\n",
       "    }\n",
       "</style>\n",
       "<table border=\"1\" class=\"dataframe\">\n",
       "  <thead>\n",
       "    <tr style=\"text-align: right;\">\n",
       "      <th></th>\n",
       "      <th>mean</th>\n",
       "      <th>std</th>\n",
       "    </tr>\n",
       "  </thead>\n",
       "  <tbody>\n",
       "    <tr>\n",
       "      <th>-1</th>\n",
       "      <td>-1.615728e-09</td>\n",
       "      <td>6.510542e-08</td>\n",
       "    </tr>\n",
       "    <tr>\n",
       "      <th>0</th>\n",
       "      <td>NaN</td>\n",
       "      <td>NaN</td>\n",
       "    </tr>\n",
       "    <tr>\n",
       "      <th>1</th>\n",
       "      <td>-7.627843e-03</td>\n",
       "      <td>1.645957e-01</td>\n",
       "    </tr>\n",
       "    <tr>\n",
       "      <th>2</th>\n",
       "      <td>6.433613e-05</td>\n",
       "      <td>1.864252e-03</td>\n",
       "    </tr>\n",
       "    <tr>\n",
       "      <th>3</th>\n",
       "      <td>-2.006681e-09</td>\n",
       "      <td>6.397769e-08</td>\n",
       "    </tr>\n",
       "    <tr>\n",
       "      <th>4</th>\n",
       "      <td>-9.313226e-09</td>\n",
       "      <td>5.363626e-08</td>\n",
       "    </tr>\n",
       "    <tr>\n",
       "      <th>5</th>\n",
       "      <td>-8.381903e-09</td>\n",
       "      <td>0.000000e+00</td>\n",
       "    </tr>\n",
       "  </tbody>\n",
       "</table>\n",
       "</div>"
      ],
      "text/plain": [
       "            mean           std\n",
       "-1 -1.615728e-09  6.510542e-08\n",
       " 0           NaN           NaN\n",
       " 1 -7.627843e-03  1.645957e-01\n",
       " 2  6.433613e-05  1.864252e-03\n",
       " 3 -2.006681e-09  6.397769e-08\n",
       " 4 -9.313226e-09  5.363626e-08\n",
       " 5 -8.381903e-09  0.000000e+00"
      ]
     },
     "execution_count": 210,
     "metadata": {},
     "output_type": "execute_result"
    }
   ],
   "source": [
    "means_df = pd.DataFrame(means.values(), columns=[\"mean\"], index=means.keys())\n",
    "stds_df = pd.DataFrame(stds.values(), columns=[\"std\"], index=stds.keys())\n",
    "mean_std_df = pd.concat([means_df, stds_df], axis=1)\n",
    "mean_std_df"
   ]
  },
  {
   "cell_type": "code",
   "execution_count": 211,
   "metadata": {},
   "outputs": [
    {
     "data": {
      "application/vnd.plotly.v1+json": {
       "config": {
        "plotlyServerURL": "https://plot.ly"
       },
       "data": [
        {
         "error_y": {
          "array": [
           6.51054179456878e-8,
           null,
           0.16459573805332184,
           0.0018642519135028124,
           6.397768714805352e-8,
           5.3636259877976045e-8,
           0
          ]
         },
         "hovertemplate": "variable=mean<br>index=%{x}<br>value=%{y}<extra></extra>",
         "legendgroup": "mean",
         "line": {
          "color": "#636efa",
          "dash": "solid"
         },
         "marker": {
          "symbol": "circle"
         },
         "mode": "lines",
         "name": "mean",
         "orientation": "v",
         "showlegend": true,
         "type": "scatter",
         "x": [
          -1,
          0,
          1,
          2,
          3,
          4,
          5
         ],
         "xaxis": "x",
         "y": [
          -1.6157282178852483e-9,
          null,
          -0.007627843413501978,
          0.00006433613452827558,
          -2.0066805994645165e-9,
          -9.313225746154785e-9,
          -8.381903171539307e-9
         ],
         "yaxis": "y"
        }
       ],
       "layout": {
        "legend": {
         "title": {
          "text": "variable"
         },
         "tracegroupgap": 0
        },
        "template": {
         "data": {
          "bar": [
           {
            "error_x": {
             "color": "#2a3f5f"
            },
            "error_y": {
             "color": "#2a3f5f"
            },
            "marker": {
             "line": {
              "color": "#E5ECF6",
              "width": 0.5
             },
             "pattern": {
              "fillmode": "overlay",
              "size": 10,
              "solidity": 0.2
             }
            },
            "type": "bar"
           }
          ],
          "barpolar": [
           {
            "marker": {
             "line": {
              "color": "#E5ECF6",
              "width": 0.5
             },
             "pattern": {
              "fillmode": "overlay",
              "size": 10,
              "solidity": 0.2
             }
            },
            "type": "barpolar"
           }
          ],
          "carpet": [
           {
            "aaxis": {
             "endlinecolor": "#2a3f5f",
             "gridcolor": "white",
             "linecolor": "white",
             "minorgridcolor": "white",
             "startlinecolor": "#2a3f5f"
            },
            "baxis": {
             "endlinecolor": "#2a3f5f",
             "gridcolor": "white",
             "linecolor": "white",
             "minorgridcolor": "white",
             "startlinecolor": "#2a3f5f"
            },
            "type": "carpet"
           }
          ],
          "choropleth": [
           {
            "colorbar": {
             "outlinewidth": 0,
             "ticks": ""
            },
            "type": "choropleth"
           }
          ],
          "contour": [
           {
            "colorbar": {
             "outlinewidth": 0,
             "ticks": ""
            },
            "colorscale": [
             [
              0,
              "#0d0887"
             ],
             [
              0.1111111111111111,
              "#46039f"
             ],
             [
              0.2222222222222222,
              "#7201a8"
             ],
             [
              0.3333333333333333,
              "#9c179e"
             ],
             [
              0.4444444444444444,
              "#bd3786"
             ],
             [
              0.5555555555555556,
              "#d8576b"
             ],
             [
              0.6666666666666666,
              "#ed7953"
             ],
             [
              0.7777777777777778,
              "#fb9f3a"
             ],
             [
              0.8888888888888888,
              "#fdca26"
             ],
             [
              1,
              "#f0f921"
             ]
            ],
            "type": "contour"
           }
          ],
          "contourcarpet": [
           {
            "colorbar": {
             "outlinewidth": 0,
             "ticks": ""
            },
            "type": "contourcarpet"
           }
          ],
          "heatmap": [
           {
            "colorbar": {
             "outlinewidth": 0,
             "ticks": ""
            },
            "colorscale": [
             [
              0,
              "#0d0887"
             ],
             [
              0.1111111111111111,
              "#46039f"
             ],
             [
              0.2222222222222222,
              "#7201a8"
             ],
             [
              0.3333333333333333,
              "#9c179e"
             ],
             [
              0.4444444444444444,
              "#bd3786"
             ],
             [
              0.5555555555555556,
              "#d8576b"
             ],
             [
              0.6666666666666666,
              "#ed7953"
             ],
             [
              0.7777777777777778,
              "#fb9f3a"
             ],
             [
              0.8888888888888888,
              "#fdca26"
             ],
             [
              1,
              "#f0f921"
             ]
            ],
            "type": "heatmap"
           }
          ],
          "heatmapgl": [
           {
            "colorbar": {
             "outlinewidth": 0,
             "ticks": ""
            },
            "colorscale": [
             [
              0,
              "#0d0887"
             ],
             [
              0.1111111111111111,
              "#46039f"
             ],
             [
              0.2222222222222222,
              "#7201a8"
             ],
             [
              0.3333333333333333,
              "#9c179e"
             ],
             [
              0.4444444444444444,
              "#bd3786"
             ],
             [
              0.5555555555555556,
              "#d8576b"
             ],
             [
              0.6666666666666666,
              "#ed7953"
             ],
             [
              0.7777777777777778,
              "#fb9f3a"
             ],
             [
              0.8888888888888888,
              "#fdca26"
             ],
             [
              1,
              "#f0f921"
             ]
            ],
            "type": "heatmapgl"
           }
          ],
          "histogram": [
           {
            "marker": {
             "pattern": {
              "fillmode": "overlay",
              "size": 10,
              "solidity": 0.2
             }
            },
            "type": "histogram"
           }
          ],
          "histogram2d": [
           {
            "colorbar": {
             "outlinewidth": 0,
             "ticks": ""
            },
            "colorscale": [
             [
              0,
              "#0d0887"
             ],
             [
              0.1111111111111111,
              "#46039f"
             ],
             [
              0.2222222222222222,
              "#7201a8"
             ],
             [
              0.3333333333333333,
              "#9c179e"
             ],
             [
              0.4444444444444444,
              "#bd3786"
             ],
             [
              0.5555555555555556,
              "#d8576b"
             ],
             [
              0.6666666666666666,
              "#ed7953"
             ],
             [
              0.7777777777777778,
              "#fb9f3a"
             ],
             [
              0.8888888888888888,
              "#fdca26"
             ],
             [
              1,
              "#f0f921"
             ]
            ],
            "type": "histogram2d"
           }
          ],
          "histogram2dcontour": [
           {
            "colorbar": {
             "outlinewidth": 0,
             "ticks": ""
            },
            "colorscale": [
             [
              0,
              "#0d0887"
             ],
             [
              0.1111111111111111,
              "#46039f"
             ],
             [
              0.2222222222222222,
              "#7201a8"
             ],
             [
              0.3333333333333333,
              "#9c179e"
             ],
             [
              0.4444444444444444,
              "#bd3786"
             ],
             [
              0.5555555555555556,
              "#d8576b"
             ],
             [
              0.6666666666666666,
              "#ed7953"
             ],
             [
              0.7777777777777778,
              "#fb9f3a"
             ],
             [
              0.8888888888888888,
              "#fdca26"
             ],
             [
              1,
              "#f0f921"
             ]
            ],
            "type": "histogram2dcontour"
           }
          ],
          "mesh3d": [
           {
            "colorbar": {
             "outlinewidth": 0,
             "ticks": ""
            },
            "type": "mesh3d"
           }
          ],
          "parcoords": [
           {
            "line": {
             "colorbar": {
              "outlinewidth": 0,
              "ticks": ""
             }
            },
            "type": "parcoords"
           }
          ],
          "pie": [
           {
            "automargin": true,
            "type": "pie"
           }
          ],
          "scatter": [
           {
            "fillpattern": {
             "fillmode": "overlay",
             "size": 10,
             "solidity": 0.2
            },
            "type": "scatter"
           }
          ],
          "scatter3d": [
           {
            "line": {
             "colorbar": {
              "outlinewidth": 0,
              "ticks": ""
             }
            },
            "marker": {
             "colorbar": {
              "outlinewidth": 0,
              "ticks": ""
             }
            },
            "type": "scatter3d"
           }
          ],
          "scattercarpet": [
           {
            "marker": {
             "colorbar": {
              "outlinewidth": 0,
              "ticks": ""
             }
            },
            "type": "scattercarpet"
           }
          ],
          "scattergeo": [
           {
            "marker": {
             "colorbar": {
              "outlinewidth": 0,
              "ticks": ""
             }
            },
            "type": "scattergeo"
           }
          ],
          "scattergl": [
           {
            "marker": {
             "colorbar": {
              "outlinewidth": 0,
              "ticks": ""
             }
            },
            "type": "scattergl"
           }
          ],
          "scattermapbox": [
           {
            "marker": {
             "colorbar": {
              "outlinewidth": 0,
              "ticks": ""
             }
            },
            "type": "scattermapbox"
           }
          ],
          "scatterpolar": [
           {
            "marker": {
             "colorbar": {
              "outlinewidth": 0,
              "ticks": ""
             }
            },
            "type": "scatterpolar"
           }
          ],
          "scatterpolargl": [
           {
            "marker": {
             "colorbar": {
              "outlinewidth": 0,
              "ticks": ""
             }
            },
            "type": "scatterpolargl"
           }
          ],
          "scatterternary": [
           {
            "marker": {
             "colorbar": {
              "outlinewidth": 0,
              "ticks": ""
             }
            },
            "type": "scatterternary"
           }
          ],
          "surface": [
           {
            "colorbar": {
             "outlinewidth": 0,
             "ticks": ""
            },
            "colorscale": [
             [
              0,
              "#0d0887"
             ],
             [
              0.1111111111111111,
              "#46039f"
             ],
             [
              0.2222222222222222,
              "#7201a8"
             ],
             [
              0.3333333333333333,
              "#9c179e"
             ],
             [
              0.4444444444444444,
              "#bd3786"
             ],
             [
              0.5555555555555556,
              "#d8576b"
             ],
             [
              0.6666666666666666,
              "#ed7953"
             ],
             [
              0.7777777777777778,
              "#fb9f3a"
             ],
             [
              0.8888888888888888,
              "#fdca26"
             ],
             [
              1,
              "#f0f921"
             ]
            ],
            "type": "surface"
           }
          ],
          "table": [
           {
            "cells": {
             "fill": {
              "color": "#EBF0F8"
             },
             "line": {
              "color": "white"
             }
            },
            "header": {
             "fill": {
              "color": "#C8D4E3"
             },
             "line": {
              "color": "white"
             }
            },
            "type": "table"
           }
          ]
         },
         "layout": {
          "annotationdefaults": {
           "arrowcolor": "#2a3f5f",
           "arrowhead": 0,
           "arrowwidth": 1
          },
          "autotypenumbers": "strict",
          "coloraxis": {
           "colorbar": {
            "outlinewidth": 0,
            "ticks": ""
           }
          },
          "colorscale": {
           "diverging": [
            [
             0,
             "#8e0152"
            ],
            [
             0.1,
             "#c51b7d"
            ],
            [
             0.2,
             "#de77ae"
            ],
            [
             0.3,
             "#f1b6da"
            ],
            [
             0.4,
             "#fde0ef"
            ],
            [
             0.5,
             "#f7f7f7"
            ],
            [
             0.6,
             "#e6f5d0"
            ],
            [
             0.7,
             "#b8e186"
            ],
            [
             0.8,
             "#7fbc41"
            ],
            [
             0.9,
             "#4d9221"
            ],
            [
             1,
             "#276419"
            ]
           ],
           "sequential": [
            [
             0,
             "#0d0887"
            ],
            [
             0.1111111111111111,
             "#46039f"
            ],
            [
             0.2222222222222222,
             "#7201a8"
            ],
            [
             0.3333333333333333,
             "#9c179e"
            ],
            [
             0.4444444444444444,
             "#bd3786"
            ],
            [
             0.5555555555555556,
             "#d8576b"
            ],
            [
             0.6666666666666666,
             "#ed7953"
            ],
            [
             0.7777777777777778,
             "#fb9f3a"
            ],
            [
             0.8888888888888888,
             "#fdca26"
            ],
            [
             1,
             "#f0f921"
            ]
           ],
           "sequentialminus": [
            [
             0,
             "#0d0887"
            ],
            [
             0.1111111111111111,
             "#46039f"
            ],
            [
             0.2222222222222222,
             "#7201a8"
            ],
            [
             0.3333333333333333,
             "#9c179e"
            ],
            [
             0.4444444444444444,
             "#bd3786"
            ],
            [
             0.5555555555555556,
             "#d8576b"
            ],
            [
             0.6666666666666666,
             "#ed7953"
            ],
            [
             0.7777777777777778,
             "#fb9f3a"
            ],
            [
             0.8888888888888888,
             "#fdca26"
            ],
            [
             1,
             "#f0f921"
            ]
           ]
          },
          "colorway": [
           "#636efa",
           "#EF553B",
           "#00cc96",
           "#ab63fa",
           "#FFA15A",
           "#19d3f3",
           "#FF6692",
           "#B6E880",
           "#FF97FF",
           "#FECB52"
          ],
          "font": {
           "color": "#2a3f5f"
          },
          "geo": {
           "bgcolor": "white",
           "lakecolor": "white",
           "landcolor": "#E5ECF6",
           "showlakes": true,
           "showland": true,
           "subunitcolor": "white"
          },
          "hoverlabel": {
           "align": "left"
          },
          "hovermode": "closest",
          "mapbox": {
           "style": "light"
          },
          "paper_bgcolor": "white",
          "plot_bgcolor": "#E5ECF6",
          "polar": {
           "angularaxis": {
            "gridcolor": "white",
            "linecolor": "white",
            "ticks": ""
           },
           "bgcolor": "#E5ECF6",
           "radialaxis": {
            "gridcolor": "white",
            "linecolor": "white",
            "ticks": ""
           }
          },
          "scene": {
           "xaxis": {
            "backgroundcolor": "#E5ECF6",
            "gridcolor": "white",
            "gridwidth": 2,
            "linecolor": "white",
            "showbackground": true,
            "ticks": "",
            "zerolinecolor": "white"
           },
           "yaxis": {
            "backgroundcolor": "#E5ECF6",
            "gridcolor": "white",
            "gridwidth": 2,
            "linecolor": "white",
            "showbackground": true,
            "ticks": "",
            "zerolinecolor": "white"
           },
           "zaxis": {
            "backgroundcolor": "#E5ECF6",
            "gridcolor": "white",
            "gridwidth": 2,
            "linecolor": "white",
            "showbackground": true,
            "ticks": "",
            "zerolinecolor": "white"
           }
          },
          "shapedefaults": {
           "line": {
            "color": "#2a3f5f"
           }
          },
          "ternary": {
           "aaxis": {
            "gridcolor": "white",
            "linecolor": "white",
            "ticks": ""
           },
           "baxis": {
            "gridcolor": "white",
            "linecolor": "white",
            "ticks": ""
           },
           "bgcolor": "#E5ECF6",
           "caxis": {
            "gridcolor": "white",
            "linecolor": "white",
            "ticks": ""
           }
          },
          "title": {
           "x": 0.05
          },
          "xaxis": {
           "automargin": true,
           "gridcolor": "white",
           "linecolor": "white",
           "ticks": "",
           "title": {
            "standoff": 15
           },
           "zerolinecolor": "white",
           "zerolinewidth": 2
          },
          "yaxis": {
           "automargin": true,
           "gridcolor": "white",
           "linecolor": "white",
           "ticks": "",
           "title": {
            "standoff": 15
           },
           "zerolinecolor": "white",
           "zerolinewidth": 2
          }
         }
        },
        "title": {
         "text": "GNN output mean by Weisfeiler-Lehman score"
        },
        "xaxis": {
         "anchor": "y",
         "domain": [
          0,
          1
         ],
         "title": {
          "text": "index"
         }
        },
        "yaxis": {
         "anchor": "x",
         "domain": [
          0,
          1
         ],
         "title": {
          "text": "value"
         }
        }
       }
      }
     },
     "metadata": {},
     "output_type": "display_data"
    }
   ],
   "source": [
    "px.line(mean_std_df, title=\"GNN output mean by Weisfeiler-Lehman score\", error_y=\"std\")"
   ]
  },
  {
   "cell_type": "markdown",
   "metadata": {},
   "source": [
    "## Testing WL score"
   ]
  },
  {
   "cell_type": "code",
   "execution_count": 212,
   "metadata": {},
   "outputs": [],
   "source": [
    "dataloader_shuffle = DataLoader(\n",
    "    dataset=dataset,\n",
    "    batch_size=BATCH_SIZE,\n",
    "    shuffle=True,\n",
    ")\n",
    "batch = next(iter(dataloader_shuffle))"
   ]
  },
  {
   "cell_type": "code",
   "execution_count": 213,
   "metadata": {},
   "outputs": [
    {
     "data": {
      "text/plain": [
       "torch.Size([2, 11, 11])"
      ]
     },
     "execution_count": 213,
     "metadata": {},
     "output_type": "execute_result"
    }
   ],
   "source": [
    "batch[\"adjacency\"][i].shape"
   ]
  },
  {
   "cell_type": "code",
   "execution_count": 214,
   "metadata": {},
   "outputs": [
    {
     "name": "stdout",
     "output_type": "stream",
     "text": [
      "(2, 3)\n",
      "(-1, -1)\n",
      "(2, 3)\n",
      "(2, 3)\n",
      "(-1, -1)\n",
      "(2, 3)\n",
      "(2, 3)\n",
      "(-1, -1)\n",
      "(-1, -1)\n",
      "(-1, -1)\n",
      "(-1, -1)\n",
      "(2, 3)\n",
      "(-1, -1)\n",
      "(-1, -1)\n",
      "(2, 3)\n",
      "(-1, -1)\n",
      "(-1, -1)\n",
      "(-1, -1)\n",
      "(3, 4)\n",
      "(-1, -1)\n",
      "(2, 3)\n",
      "(-1, -1)\n",
      "(-1, -1)\n",
      "(2, 3)\n",
      "(1, 2)\n",
      "(1, 2)\n",
      "(2, 3)\n",
      "(-1, -1)\n",
      "(-1, -1)\n",
      "(2, 3)\n",
      "(-1, -1)\n",
      "(-1, -1)\n",
      "(-1, -1)\n",
      "(-1, -1)\n",
      "(1, 1)\n",
      "(2, 3)\n",
      "(1, 2)\n",
      "(-1, -1)\n",
      "(-1, -1)\n",
      "(-1, -1)\n",
      "(2, 3)\n",
      "(2, 3)\n",
      "(2, 3)\n",
      "(-1, -1)\n",
      "(2, 3)\n",
      "(-1, -1)\n",
      "(-1, -1)\n",
      "(1, 2)\n",
      "(2, 3)\n",
      "(-1, -1)\n",
      "(-1, -1)\n",
      "(2, 3)\n",
      "(-1, -1)\n",
      "(-1, -1)\n",
      "(-1, -1)\n",
      "(-1, -1)\n",
      "(1, 2)\n",
      "(-1, -1)\n",
      "(-1, -1)\n",
      "(2, 3)\n",
      "(-1, -1)\n",
      "(-1, -1)\n",
      "(1, 1)\n",
      "(-1, -1)\n",
      "(-1, -1)\n",
      "(-1, -1)\n",
      "(-1, -1)\n",
      "(-1, -1)\n",
      "(-1, -1)\n",
      "(2, 3)\n",
      "(2, 3)\n",
      "(-1, -1)\n",
      "(-1, -1)\n",
      "(-1, -1)\n",
      "(2, 3)\n",
      "(2, 3)\n",
      "(2, 3)\n",
      "(2, 3)\n",
      "(1, 2)\n",
      "(-1, -1)\n",
      "(-1, -1)\n",
      "(2, 3)\n",
      "(-1, -1)\n",
      "(-1, -1)\n",
      "(-1, -1)\n",
      "(-1, -1)\n",
      "(-1, -1)\n",
      "(2, 3)\n",
      "(2, 3)\n",
      "(-1, -1)\n",
      "(2, 3)\n",
      "(2, 3)\n",
      "(1, 2)\n",
      "(2, 3)\n",
      "(2, 3)\n",
      "(-1, -1)\n",
      "(-1, -1)\n",
      "(1, 2)\n",
      "(-1, -1)\n",
      "(-1, -1)\n",
      "(2, 3)\n",
      "(-1, -1)\n",
      "(2, 3)\n",
      "(2, 3)\n",
      "(3, 4)\n",
      "(2, 3)\n",
      "(-1, -1)\n",
      "(2, 3)\n",
      "(1, 2)\n",
      "(-1, -1)\n",
      "(-1, -1)\n",
      "(-1, -1)\n",
      "(-1, -1)\n",
      "(-1, -1)\n",
      "(1, 2)\n",
      "(2, 3)\n",
      "(-1, -1)\n",
      "(-1, -1)\n",
      "(1, 1)\n",
      "(-1, -1)\n",
      "(-1, -1)\n",
      "(-1, -1)\n",
      "(1, 1)\n",
      "(-1, -1)\n",
      "(1, 2)\n",
      "(2, 3)\n",
      "(-1, -1)\n",
      "(-1, -1)\n"
     ]
    }
   ],
   "source": [
    "for i in range(BATCH_SIZE):\n",
    "    graphs = [nx.from_numpy_array(batch[\"adjacency\"][i, j].numpy()) for j in range(2)]\n",
    "    nx_wl_score = -1\n",
    "    for iterations in range(1, max_wl_score + 1):\n",
    "        wl_hashes = [\n",
    "            nx.weisfeiler_lehman_graph_hash(graph, iterations=iterations)\n",
    "            for graph in graphs\n",
    "        ]\n",
    "        if wl_hashes[0] != wl_hashes[1]:\n",
    "            nx_wl_score = iterations\n",
    "            break\n",
    "    print((nx_wl_score, batch[\"wl_score\"][i].item()))"
   ]
  }
 ],
 "metadata": {
  "kernelspec": {
   "display_name": "pvg-experiments",
   "language": "python",
   "name": "python3"
  },
  "language_info": {
   "codemirror_mode": {
    "name": "ipython",
    "version": 3
   },
   "file_extension": ".py",
   "mimetype": "text/x-python",
   "name": "python",
   "nbconvert_exporter": "python",
   "pygments_lexer": "ipython3",
   "version": "3.11.6"
  }
 },
 "nbformat": 4,
 "nbformat_minor": 2
}
