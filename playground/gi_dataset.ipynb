{
 "cells": [
  {
   "cell_type": "markdown",
   "metadata": {},
   "source": [
    "# Generating the graph isomorphism dataset"
   ]
  },
  {
   "cell_type": "markdown",
   "metadata": {},
   "source": [
    "## Setup"
   ]
  },
  {
   "cell_type": "code",
   "execution_count": 1,
   "metadata": {},
   "outputs": [],
   "source": [
    "FORCE_CPU = True\n",
    "\n",
    "SAVE_DATA = False\n",
    "LOAD_DATA = True\n",
    "\n",
    "BATCH_SIZE = int(1e6)\n",
    "BATCH_SIZE = int(1e5)\n",
    "\n",
    "GENERATION_TEST_DATA_FILE = \"data/generation_test_data.pkl\"\n",
    "DATASET_FILE = \"data/gi_dataset.pkl\"\n",
    "\n",
    "DATASET_CONFIG = dict(\n",
    "    # Number of samples to generate\n",
    "    num_samples=100,\n",
    "    # The size of the graphs. The dataset will be split evenly between the sizes\n",
    "    # graph_sizes=[7, 8, 9, 10, 11],\n",
    "    graph_sizes=[7, 8],\n",
    "    # The edge probabilities to use when generating the graphs\n",
    "    # edge_probabilities=[0.2, 0.4, 0.6, 0.8],\n",
    "    edge_probabilities=[0.5],\n",
    "    # The proportion of samples that consists of non-isomorphic pairs\n",
    "    prop_non_isomorphic=0.5,\n",
    "    # Config for the non-isomorphic pairs\n",
    "    non_isomorphic=dict(\n",
    "        # The proportion of non-isomorphic pairs with scores 1 and 2. The rest will have\n",
    "        # scores greater than 2\n",
    "        prop_score_1=0.1,\n",
    "        prop_score_2=0.2,\n",
    "    ),\n",
    "    isomorphic=dict(\n",
    "        # The proportion of isomorphic pairs sampled from a non-isomorphic pair\n",
    "        prop_from_non_isomorphic=0.5,\n",
    "    ),\n",
    ")"
   ]
  },
  {
   "cell_type": "code",
   "execution_count": 2,
   "metadata": {},
   "outputs": [],
   "source": [
    "from collections import Counter, defaultdict\n",
    "from hashlib import blake2b\n",
    "import pickle\n",
    "import itertools\n",
    "from math import floor\n",
    "\n",
    "import networkx as nx\n",
    "from networkx import weisfeiler_lehman_graph_hash, erdos_renyi_graph\n",
    "\n",
    "import torch\n",
    "import torch.nn.functional as F\n",
    "\n",
    "from torch_geometric.utils import dense_to_sparse\n",
    "\n",
    "import einops\n",
    "\n",
    "from sklearn.model_selection import ParameterGrid\n",
    "\n",
    "from tqdm import tqdm\n",
    "\n",
    "from primesieve.numpy import n_primes\n",
    "\n",
    "from rich.console import Console\n",
    "from rich.table import Table\n",
    "\n",
    "import plotly.graph_objs as go"
   ]
  },
  {
   "cell_type": "code",
   "execution_count": 3,
   "metadata": {},
   "outputs": [
    {
     "name": "stdout",
     "output_type": "stream",
     "text": [
      "cpu\n"
     ]
    }
   ],
   "source": [
    "if not FORCE_CPU and torch.cuda.is_available():\n",
    "    device = torch.device(\"cuda\")\n",
    "else:\n",
    "    device = torch.device(\"cpu\")\n",
    "print(device)"
   ]
  },
  {
   "cell_type": "markdown",
   "metadata": {},
   "source": [
    "## WL score"
   ]
  },
  {
   "cell_type": "code",
   "execution_count": 4,
   "metadata": {},
   "outputs": [],
   "source": [
    "def batch_wl_score(\n",
    "    adjacency_1, adjacency_2, max_iterations=5, hash_size=2**24 - 1, device=device\n",
    "):\n",
    "    \"\"\"\n",
    "    Compute the Weisfeiler-Lehman graph kernel for a batch of graphs.\n",
    "    \"\"\"\n",
    "\n",
    "    assert adjacency_1.shape[0] == adjacency_2.shape[0]\n",
    "    assert adjacency_1.shape[1] == adjacency_2.shape[1]\n",
    "\n",
    "    batch_size = adjacency_1.shape[0]\n",
    "    num_nodes = adjacency_1.shape[1]\n",
    "\n",
    "    primes = torch.from_numpy(n_primes(hash_size)).to(device)\n",
    "\n",
    "    scores = torch.ones(batch_size, dtype=torch.long, device=device) * -1\n",
    "    labels = torch.ones((2, batch_size, num_nodes), dtype=torch.long, device=device)\n",
    "\n",
    "    # (graph, batch, node, node)\n",
    "    adjacency_combined = torch.stack((adjacency_1, adjacency_2), dim=0)\n",
    "    adjacency_combined += torch.eye(num_nodes, dtype=torch.long, device=device)\n",
    "\n",
    "    for i in range(max_iterations):\n",
    "        labels_repeated = einops.repeat(\n",
    "            labels, \"graph batch node1 -> graph batch node2 node1\", node2=num_nodes\n",
    "        )\n",
    "        labels_neighbours = labels_repeated * adjacency_combined\n",
    "        labels_neighbours = primes[labels_neighbours]\n",
    "        labels_neighbours = einops.reduce(\n",
    "            labels_neighbours, \"graph batch node1 node2 -> graph batch node1\", \"prod\"\n",
    "        )\n",
    "        labels = torch.remainder(labels_neighbours, hash_size)\n",
    "        graph_hashes = einops.reduce(\n",
    "            primes[labels], \"graph batch node -> graph batch\", \"prod\"\n",
    "        )\n",
    "        diff = graph_hashes[0] != graph_hashes[1]\n",
    "        scores = torch.where(torch.logical_and(scores == -1, diff), i + 1, scores)\n",
    "\n",
    "    return scores"
   ]
  },
  {
   "cell_type": "markdown",
   "metadata": {},
   "source": [
    "## Graph generation"
   ]
  },
  {
   "cell_type": "code",
   "execution_count": 5,
   "metadata": {},
   "outputs": [],
   "source": [
    "def batch_er_graph(num_samples, graph_size, edge_probability, device=device):\n",
    "    adjacency_values = torch.rand(num_samples, graph_size, graph_size, device=device)\n",
    "    adjacency = (adjacency_values < edge_probability).int()\n",
    "    adjacency = adjacency.triu(diagonal=1)\n",
    "    adjacency += adjacency.transpose(1, 2).clone()\n",
    "    return adjacency"
   ]
  },
  {
   "cell_type": "markdown",
   "metadata": {},
   "source": [
    "## Test generation"
   ]
  },
  {
   "cell_type": "code",
   "execution_count": 6,
   "metadata": {},
   "outputs": [],
   "source": [
    "num_pairs = int(1e7)\n",
    "parameter_grid = {\n",
    "    \"edge_prob\": [0.2, 0.4, 0.6, 0.8],\n",
    "    \"graph_order\": [4, 5, 6, 7, 8, 9, 10, 11, 12, 13, 14, 15],\n",
    "}\n",
    "parameter_iter = ParameterGrid(parameter_grid)"
   ]
  },
  {
   "cell_type": "code",
   "execution_count": 7,
   "metadata": {},
   "outputs": [],
   "source": [
    "if LOAD_DATA:\n",
    "    with open(GENERATION_TEST_DATA_FILE, \"rb\") as f:\n",
    "        results = pickle.load(f)\n",
    "else:\n",
    "    results = {}\n",
    "\n",
    "    for params in parameter_iter:\n",
    "        params_tuple = (params[\"edge_prob\"], params[\"graph_order\"])\n",
    "        results[params_tuple] = {\n",
    "            \"score_2_count\": 0,\n",
    "            \"score_gt_2_count\": 0,\n",
    "        }\n",
    "        for batch_start in tqdm(\n",
    "            range(0, num_pairs, BATCH_SIZE), desc=f\"{params_tuple}\"\n",
    "        ):\n",
    "            batch_end = min(batch_start + BATCH_SIZE, num_pairs)\n",
    "            batch_size = batch_end - batch_start\n",
    "            adjacency_1 = batch_er_graph(\n",
    "                batch_size, params[\"graph_order\"], params[\"edge_prob\"]\n",
    "            )\n",
    "            adjacency_2 = batch_er_graph(\n",
    "                batch_size, params[\"graph_order\"], params[\"edge_prob\"]\n",
    "            )\n",
    "            score = batch_wl_score(adjacency_1, adjacency_2)\n",
    "            results[params_tuple][\"score_2_count\"] += torch.sum(score == 2).item()\n",
    "            results[params_tuple][\"score_gt_2_count\"] += torch.sum(score > 2).item()\n",
    "        print(results[params_tuple])"
   ]
  },
  {
   "cell_type": "code",
   "execution_count": 8,
   "metadata": {},
   "outputs": [],
   "source": [
    "if SAVE_DATA:\n",
    "    with open(GENERATION_TEST_DATA_FILE, \"wb\") as f:\n",
    "        pickle.dump(results, f)"
   ]
  },
  {
   "cell_type": "code",
   "execution_count": 9,
   "metadata": {},
   "outputs": [
    {
     "data": {
      "text/html": [
       "<pre style=\"white-space:pre;overflow-x:auto;line-height:normal;font-family:Menlo,'DejaVu Sans Mono',consolas,'Courier New',monospace\"><span style=\"font-style: italic\">                                              Number of score 2 pairs                                              </span>\n",
       "┏━━━━━━━━┳━━━━━━━━┳━━━━━━━━┳━━━━━━━━┳━━━━━━━━┳━━━━━━━━┳━━━━━━━━┳━━━━━━━┳━━━━━━━━┳━━━━━━━┳━━━━━━━━┳━━━━━━━┳━━━━━━━━┓\n",
       "┃<span style=\"font-weight: bold\">   Edge </span>┃<span style=\"font-weight: bold\">  Order </span>┃<span style=\"font-weight: bold\">  Order </span>┃<span style=\"font-weight: bold\">  Order </span>┃<span style=\"font-weight: bold\">  Order </span>┃<span style=\"font-weight: bold\">  Order </span>┃<span style=\"font-weight: bold\">  Order </span>┃<span style=\"font-weight: bold\"> Order </span>┃<span style=\"font-weight: bold\">  Order </span>┃<span style=\"font-weight: bold\"> Order </span>┃<span style=\"font-weight: bold\">  Order </span>┃<span style=\"font-weight: bold\"> Order </span>┃<span style=\"font-weight: bold\">  Order </span>┃\n",
       "┃<span style=\"font-weight: bold\">   prob </span>┃<span style=\"font-weight: bold\">      4 </span>┃<span style=\"font-weight: bold\">      5 </span>┃<span style=\"font-weight: bold\">      6 </span>┃<span style=\"font-weight: bold\">      7 </span>┃<span style=\"font-weight: bold\">      8 </span>┃<span style=\"font-weight: bold\">      9 </span>┃<span style=\"font-weight: bold\">    10 </span>┃<span style=\"font-weight: bold\">     11 </span>┃<span style=\"font-weight: bold\">    12 </span>┃<span style=\"font-weight: bold\">     13 </span>┃<span style=\"font-weight: bold\">    14 </span>┃<span style=\"font-weight: bold\">     15 </span>┃\n",
       "┡━━━━━━━━╇━━━━━━━━╇━━━━━━━━╇━━━━━━━━╇━━━━━━━━╇━━━━━━━━╇━━━━━━━━╇━━━━━━━╇━━━━━━━━╇━━━━━━━╇━━━━━━━━╇━━━━━━━╇━━━━━━━━┩\n",
       "│    0.2 │      0 │    339 │   2596 │   7371 │   9572 │   8171 │  5781 │   3720 │  2204 │   1346 │   806 │    487 │\n",
       "│    0.4 │      0 │   6660 │  13316 │  10827 │   6551 │   3546 │  1830 │    975 │   547 │    288 │   178 │     94 │\n",
       "│    0.6 │      0 │   6531 │  13372 │  10804 │   6418 │   3575 │  1959 │    990 │   529 │    306 │   181 │     92 │\n",
       "│    0.8 │      0 │    305 │   2744 │   7540 │   9795 │   8187 │  5887 │   3678 │  2235 │   1339 │   854 │    481 │\n",
       "└────────┴────────┴────────┴────────┴────────┴────────┴────────┴───────┴────────┴───────┴────────┴───────┴────────┘\n",
       "</pre>\n"
      ],
      "text/plain": [
       "\u001b[3m                                              Number of score 2 pairs                                              \u001b[0m\n",
       "┏━━━━━━━━┳━━━━━━━━┳━━━━━━━━┳━━━━━━━━┳━━━━━━━━┳━━━━━━━━┳━━━━━━━━┳━━━━━━━┳━━━━━━━━┳━━━━━━━┳━━━━━━━━┳━━━━━━━┳━━━━━━━━┓\n",
       "┃\u001b[1m \u001b[0m\u001b[1m  Edge\u001b[0m\u001b[1m \u001b[0m┃\u001b[1m \u001b[0m\u001b[1m Order\u001b[0m\u001b[1m \u001b[0m┃\u001b[1m \u001b[0m\u001b[1m Order\u001b[0m\u001b[1m \u001b[0m┃\u001b[1m \u001b[0m\u001b[1m Order\u001b[0m\u001b[1m \u001b[0m┃\u001b[1m \u001b[0m\u001b[1m Order\u001b[0m\u001b[1m \u001b[0m┃\u001b[1m \u001b[0m\u001b[1m Order\u001b[0m\u001b[1m \u001b[0m┃\u001b[1m \u001b[0m\u001b[1m Order\u001b[0m\u001b[1m \u001b[0m┃\u001b[1m \u001b[0m\u001b[1mOrder\u001b[0m\u001b[1m \u001b[0m┃\u001b[1m \u001b[0m\u001b[1m Order\u001b[0m\u001b[1m \u001b[0m┃\u001b[1m \u001b[0m\u001b[1mOrder\u001b[0m\u001b[1m \u001b[0m┃\u001b[1m \u001b[0m\u001b[1m Order\u001b[0m\u001b[1m \u001b[0m┃\u001b[1m \u001b[0m\u001b[1mOrder\u001b[0m\u001b[1m \u001b[0m┃\u001b[1m \u001b[0m\u001b[1m Order\u001b[0m\u001b[1m \u001b[0m┃\n",
       "┃\u001b[1m \u001b[0m\u001b[1m  prob\u001b[0m\u001b[1m \u001b[0m┃\u001b[1m \u001b[0m\u001b[1m     4\u001b[0m\u001b[1m \u001b[0m┃\u001b[1m \u001b[0m\u001b[1m     5\u001b[0m\u001b[1m \u001b[0m┃\u001b[1m \u001b[0m\u001b[1m     6\u001b[0m\u001b[1m \u001b[0m┃\u001b[1m \u001b[0m\u001b[1m     7\u001b[0m\u001b[1m \u001b[0m┃\u001b[1m \u001b[0m\u001b[1m     8\u001b[0m\u001b[1m \u001b[0m┃\u001b[1m \u001b[0m\u001b[1m     9\u001b[0m\u001b[1m \u001b[0m┃\u001b[1m \u001b[0m\u001b[1m   10\u001b[0m\u001b[1m \u001b[0m┃\u001b[1m \u001b[0m\u001b[1m    11\u001b[0m\u001b[1m \u001b[0m┃\u001b[1m \u001b[0m\u001b[1m   12\u001b[0m\u001b[1m \u001b[0m┃\u001b[1m \u001b[0m\u001b[1m    13\u001b[0m\u001b[1m \u001b[0m┃\u001b[1m \u001b[0m\u001b[1m   14\u001b[0m\u001b[1m \u001b[0m┃\u001b[1m \u001b[0m\u001b[1m    15\u001b[0m\u001b[1m \u001b[0m┃\n",
       "┡━━━━━━━━╇━━━━━━━━╇━━━━━━━━╇━━━━━━━━╇━━━━━━━━╇━━━━━━━━╇━━━━━━━━╇━━━━━━━╇━━━━━━━━╇━━━━━━━╇━━━━━━━━╇━━━━━━━╇━━━━━━━━┩\n",
       "│    0.2 │      0 │    339 │   2596 │   7371 │   9572 │   8171 │  5781 │   3720 │  2204 │   1346 │   806 │    487 │\n",
       "│    0.4 │      0 │   6660 │  13316 │  10827 │   6551 │   3546 │  1830 │    975 │   547 │    288 │   178 │     94 │\n",
       "│    0.6 │      0 │   6531 │  13372 │  10804 │   6418 │   3575 │  1959 │    990 │   529 │    306 │   181 │     92 │\n",
       "│    0.8 │      0 │    305 │   2744 │   7540 │   9795 │   8187 │  5887 │   3678 │  2235 │   1339 │   854 │    481 │\n",
       "└────────┴────────┴────────┴────────┴────────┴────────┴────────┴───────┴────────┴───────┴────────┴───────┴────────┘\n"
      ]
     },
     "metadata": {},
     "output_type": "display_data"
    },
    {
     "data": {
      "text/html": [
       "<pre style=\"white-space:pre;overflow-x:auto;line-height:normal;font-family:Menlo,'DejaVu Sans Mono',consolas,'Courier New',monospace\"><span style=\"font-style: italic\">                                             Number of score &gt; 2 pairs                                             </span>\n",
       "┏━━━━━━━━┳━━━━━━━━┳━━━━━━━━┳━━━━━━━━┳━━━━━━━━┳━━━━━━━━┳━━━━━━━━┳━━━━━━━┳━━━━━━━━┳━━━━━━━┳━━━━━━━━┳━━━━━━━┳━━━━━━━━┓\n",
       "┃<span style=\"font-weight: bold\">   Edge </span>┃<span style=\"font-weight: bold\">  Order </span>┃<span style=\"font-weight: bold\">  Order </span>┃<span style=\"font-weight: bold\">  Order </span>┃<span style=\"font-weight: bold\">  Order </span>┃<span style=\"font-weight: bold\">  Order </span>┃<span style=\"font-weight: bold\">  Order </span>┃<span style=\"font-weight: bold\"> Order </span>┃<span style=\"font-weight: bold\">  Order </span>┃<span style=\"font-weight: bold\"> Order </span>┃<span style=\"font-weight: bold\">  Order </span>┃<span style=\"font-weight: bold\"> Order </span>┃<span style=\"font-weight: bold\">  Order </span>┃\n",
       "┃<span style=\"font-weight: bold\">   prob </span>┃<span style=\"font-weight: bold\">      4 </span>┃<span style=\"font-weight: bold\">      5 </span>┃<span style=\"font-weight: bold\">      6 </span>┃<span style=\"font-weight: bold\">      7 </span>┃<span style=\"font-weight: bold\">      8 </span>┃<span style=\"font-weight: bold\">      9 </span>┃<span style=\"font-weight: bold\">    10 </span>┃<span style=\"font-weight: bold\">     11 </span>┃<span style=\"font-weight: bold\">    12 </span>┃<span style=\"font-weight: bold\">     13 </span>┃<span style=\"font-weight: bold\">    14 </span>┃<span style=\"font-weight: bold\">     15 </span>┃\n",
       "┡━━━━━━━━╇━━━━━━━━╇━━━━━━━━╇━━━━━━━━╇━━━━━━━━╇━━━━━━━━╇━━━━━━━━╇━━━━━━━╇━━━━━━━━╇━━━━━━━╇━━━━━━━━╇━━━━━━━╇━━━━━━━━┩\n",
       "│    0.2 │      0 │      0 │      0 │     27 │     87 │    102 │    69 │     40 │    14 │      5 │     2 │      0 │\n",
       "│    0.4 │      0 │      0 │      0 │    291 │     96 │     21 │     1 │      0 │     0 │      0 │     0 │      0 │\n",
       "│    0.6 │      0 │      0 │      0 │    312 │    126 │     18 │     8 │      1 │     0 │      0 │     0 │      0 │\n",
       "│    0.8 │      0 │      0 │      0 │     24 │    102 │    124 │    65 │     29 │     7 │      5 │     1 │      0 │\n",
       "└────────┴────────┴────────┴────────┴────────┴────────┴────────┴───────┴────────┴───────┴────────┴───────┴────────┘\n",
       "</pre>\n"
      ],
      "text/plain": [
       "\u001b[3m                                             Number of score > 2 pairs                                             \u001b[0m\n",
       "┏━━━━━━━━┳━━━━━━━━┳━━━━━━━━┳━━━━━━━━┳━━━━━━━━┳━━━━━━━━┳━━━━━━━━┳━━━━━━━┳━━━━━━━━┳━━━━━━━┳━━━━━━━━┳━━━━━━━┳━━━━━━━━┓\n",
       "┃\u001b[1m \u001b[0m\u001b[1m  Edge\u001b[0m\u001b[1m \u001b[0m┃\u001b[1m \u001b[0m\u001b[1m Order\u001b[0m\u001b[1m \u001b[0m┃\u001b[1m \u001b[0m\u001b[1m Order\u001b[0m\u001b[1m \u001b[0m┃\u001b[1m \u001b[0m\u001b[1m Order\u001b[0m\u001b[1m \u001b[0m┃\u001b[1m \u001b[0m\u001b[1m Order\u001b[0m\u001b[1m \u001b[0m┃\u001b[1m \u001b[0m\u001b[1m Order\u001b[0m\u001b[1m \u001b[0m┃\u001b[1m \u001b[0m\u001b[1m Order\u001b[0m\u001b[1m \u001b[0m┃\u001b[1m \u001b[0m\u001b[1mOrder\u001b[0m\u001b[1m \u001b[0m┃\u001b[1m \u001b[0m\u001b[1m Order\u001b[0m\u001b[1m \u001b[0m┃\u001b[1m \u001b[0m\u001b[1mOrder\u001b[0m\u001b[1m \u001b[0m┃\u001b[1m \u001b[0m\u001b[1m Order\u001b[0m\u001b[1m \u001b[0m┃\u001b[1m \u001b[0m\u001b[1mOrder\u001b[0m\u001b[1m \u001b[0m┃\u001b[1m \u001b[0m\u001b[1m Order\u001b[0m\u001b[1m \u001b[0m┃\n",
       "┃\u001b[1m \u001b[0m\u001b[1m  prob\u001b[0m\u001b[1m \u001b[0m┃\u001b[1m \u001b[0m\u001b[1m     4\u001b[0m\u001b[1m \u001b[0m┃\u001b[1m \u001b[0m\u001b[1m     5\u001b[0m\u001b[1m \u001b[0m┃\u001b[1m \u001b[0m\u001b[1m     6\u001b[0m\u001b[1m \u001b[0m┃\u001b[1m \u001b[0m\u001b[1m     7\u001b[0m\u001b[1m \u001b[0m┃\u001b[1m \u001b[0m\u001b[1m     8\u001b[0m\u001b[1m \u001b[0m┃\u001b[1m \u001b[0m\u001b[1m     9\u001b[0m\u001b[1m \u001b[0m┃\u001b[1m \u001b[0m\u001b[1m   10\u001b[0m\u001b[1m \u001b[0m┃\u001b[1m \u001b[0m\u001b[1m    11\u001b[0m\u001b[1m \u001b[0m┃\u001b[1m \u001b[0m\u001b[1m   12\u001b[0m\u001b[1m \u001b[0m┃\u001b[1m \u001b[0m\u001b[1m    13\u001b[0m\u001b[1m \u001b[0m┃\u001b[1m \u001b[0m\u001b[1m   14\u001b[0m\u001b[1m \u001b[0m┃\u001b[1m \u001b[0m\u001b[1m    15\u001b[0m\u001b[1m \u001b[0m┃\n",
       "┡━━━━━━━━╇━━━━━━━━╇━━━━━━━━╇━━━━━━━━╇━━━━━━━━╇━━━━━━━━╇━━━━━━━━╇━━━━━━━╇━━━━━━━━╇━━━━━━━╇━━━━━━━━╇━━━━━━━╇━━━━━━━━┩\n",
       "│    0.2 │      0 │      0 │      0 │     27 │     87 │    102 │    69 │     40 │    14 │      5 │     2 │      0 │\n",
       "│    0.4 │      0 │      0 │      0 │    291 │     96 │     21 │     1 │      0 │     0 │      0 │     0 │      0 │\n",
       "│    0.6 │      0 │      0 │      0 │    312 │    126 │     18 │     8 │      1 │     0 │      0 │     0 │      0 │\n",
       "│    0.8 │      0 │      0 │      0 │     24 │    102 │    124 │    65 │     29 │     7 │      5 │     1 │      0 │\n",
       "└────────┴────────┴────────┴────────┴────────┴────────┴────────┴───────┴────────┴───────┴────────┴───────┴────────┘\n"
      ]
     },
     "metadata": {},
     "output_type": "display_data"
    }
   ],
   "source": [
    "table_2 = Table(title=\"Number of score 2 pairs\")\n",
    "table_gt_2 = Table(title=\"Number of score > 2 pairs\")\n",
    "\n",
    "table_2.add_column(\"Edge prob\", justify=\"right\")\n",
    "table_gt_2.add_column(\"Edge prob\", justify=\"right\")\n",
    "for graph_order in parameter_grid[\"graph_order\"]:\n",
    "    table_2.add_column(f\"Order {graph_order}\", justify=\"right\")\n",
    "    table_gt_2.add_column(f\"Order {graph_order}\", justify=\"right\")\n",
    "\n",
    "for edge_prob in parameter_grid[\"edge_prob\"]:\n",
    "    table_2.add_row(\n",
    "        str(edge_prob),\n",
    "        *[\n",
    "            str(results[(edge_prob, graph_order)][\"score_2_count\"])\n",
    "            for graph_order in parameter_grid[\"graph_order\"]\n",
    "        ],\n",
    "    )\n",
    "    table_gt_2.add_row(\n",
    "        str(edge_prob),\n",
    "        *[\n",
    "            str(results[(edge_prob, graph_order)][\"score_gt_2_count\"])\n",
    "            for graph_order in parameter_grid[\"graph_order\"]\n",
    "        ],\n",
    "    )\n",
    "\n",
    "console = Console()\n",
    "console.print(table_2)\n",
    "console.print(table_gt_2)"
   ]
  },
  {
   "cell_type": "code",
   "execution_count": 10,
   "metadata": {},
   "outputs": [
    {
     "data": {
      "application/vnd.plotly.v1+json": {
       "config": {
        "plotlyServerURL": "https://plot.ly"
       },
       "data": [
        {
         "colorscale": [
          [
           0,
           "#440154"
          ],
          [
           0.1111111111111111,
           "#482878"
          ],
          [
           0.2222222222222222,
           "#3e4989"
          ],
          [
           0.3333333333333333,
           "#31688e"
          ],
          [
           0.4444444444444444,
           "#26828e"
          ],
          [
           0.5555555555555556,
           "#1f9e89"
          ],
          [
           0.6666666666666666,
           "#35b779"
          ],
          [
           0.7777777777777778,
           "#6ece58"
          ],
          [
           0.8888888888888888,
           "#b5de2b"
          ],
          [
           1,
           "#fde725"
          ]
         ],
         "type": "heatmap",
         "x": [
          4,
          5,
          6,
          7,
          8,
          9,
          10,
          11,
          12,
          13,
          14,
          15
         ],
         "y": [
          0.2,
          0.4,
          0.6,
          0.8
         ],
         "z": [
          [
           0,
           339,
           2596,
           7371,
           9572,
           8171,
           5781,
           3720,
           2204,
           1346,
           806,
           487
          ],
          [
           0,
           6660,
           13316,
           10827,
           6551,
           3546,
           1830,
           975,
           547,
           288,
           178,
           94
          ],
          [
           0,
           6531,
           13372,
           10804,
           6418,
           3575,
           1959,
           990,
           529,
           306,
           181,
           92
          ],
          [
           0,
           305,
           2744,
           7540,
           9795,
           8187,
           5887,
           3678,
           2235,
           1339,
           854,
           481
          ]
         ]
        }
       ],
       "layout": {
        "template": {
         "data": {
          "bar": [
           {
            "error_x": {
             "color": "#2a3f5f"
            },
            "error_y": {
             "color": "#2a3f5f"
            },
            "marker": {
             "line": {
              "color": "#E5ECF6",
              "width": 0.5
             },
             "pattern": {
              "fillmode": "overlay",
              "size": 10,
              "solidity": 0.2
             }
            },
            "type": "bar"
           }
          ],
          "barpolar": [
           {
            "marker": {
             "line": {
              "color": "#E5ECF6",
              "width": 0.5
             },
             "pattern": {
              "fillmode": "overlay",
              "size": 10,
              "solidity": 0.2
             }
            },
            "type": "barpolar"
           }
          ],
          "carpet": [
           {
            "aaxis": {
             "endlinecolor": "#2a3f5f",
             "gridcolor": "white",
             "linecolor": "white",
             "minorgridcolor": "white",
             "startlinecolor": "#2a3f5f"
            },
            "baxis": {
             "endlinecolor": "#2a3f5f",
             "gridcolor": "white",
             "linecolor": "white",
             "minorgridcolor": "white",
             "startlinecolor": "#2a3f5f"
            },
            "type": "carpet"
           }
          ],
          "choropleth": [
           {
            "colorbar": {
             "outlinewidth": 0,
             "ticks": ""
            },
            "type": "choropleth"
           }
          ],
          "contour": [
           {
            "colorbar": {
             "outlinewidth": 0,
             "ticks": ""
            },
            "colorscale": [
             [
              0,
              "#0d0887"
             ],
             [
              0.1111111111111111,
              "#46039f"
             ],
             [
              0.2222222222222222,
              "#7201a8"
             ],
             [
              0.3333333333333333,
              "#9c179e"
             ],
             [
              0.4444444444444444,
              "#bd3786"
             ],
             [
              0.5555555555555556,
              "#d8576b"
             ],
             [
              0.6666666666666666,
              "#ed7953"
             ],
             [
              0.7777777777777778,
              "#fb9f3a"
             ],
             [
              0.8888888888888888,
              "#fdca26"
             ],
             [
              1,
              "#f0f921"
             ]
            ],
            "type": "contour"
           }
          ],
          "contourcarpet": [
           {
            "colorbar": {
             "outlinewidth": 0,
             "ticks": ""
            },
            "type": "contourcarpet"
           }
          ],
          "heatmap": [
           {
            "colorbar": {
             "outlinewidth": 0,
             "ticks": ""
            },
            "colorscale": [
             [
              0,
              "#0d0887"
             ],
             [
              0.1111111111111111,
              "#46039f"
             ],
             [
              0.2222222222222222,
              "#7201a8"
             ],
             [
              0.3333333333333333,
              "#9c179e"
             ],
             [
              0.4444444444444444,
              "#bd3786"
             ],
             [
              0.5555555555555556,
              "#d8576b"
             ],
             [
              0.6666666666666666,
              "#ed7953"
             ],
             [
              0.7777777777777778,
              "#fb9f3a"
             ],
             [
              0.8888888888888888,
              "#fdca26"
             ],
             [
              1,
              "#f0f921"
             ]
            ],
            "type": "heatmap"
           }
          ],
          "heatmapgl": [
           {
            "colorbar": {
             "outlinewidth": 0,
             "ticks": ""
            },
            "colorscale": [
             [
              0,
              "#0d0887"
             ],
             [
              0.1111111111111111,
              "#46039f"
             ],
             [
              0.2222222222222222,
              "#7201a8"
             ],
             [
              0.3333333333333333,
              "#9c179e"
             ],
             [
              0.4444444444444444,
              "#bd3786"
             ],
             [
              0.5555555555555556,
              "#d8576b"
             ],
             [
              0.6666666666666666,
              "#ed7953"
             ],
             [
              0.7777777777777778,
              "#fb9f3a"
             ],
             [
              0.8888888888888888,
              "#fdca26"
             ],
             [
              1,
              "#f0f921"
             ]
            ],
            "type": "heatmapgl"
           }
          ],
          "histogram": [
           {
            "marker": {
             "pattern": {
              "fillmode": "overlay",
              "size": 10,
              "solidity": 0.2
             }
            },
            "type": "histogram"
           }
          ],
          "histogram2d": [
           {
            "colorbar": {
             "outlinewidth": 0,
             "ticks": ""
            },
            "colorscale": [
             [
              0,
              "#0d0887"
             ],
             [
              0.1111111111111111,
              "#46039f"
             ],
             [
              0.2222222222222222,
              "#7201a8"
             ],
             [
              0.3333333333333333,
              "#9c179e"
             ],
             [
              0.4444444444444444,
              "#bd3786"
             ],
             [
              0.5555555555555556,
              "#d8576b"
             ],
             [
              0.6666666666666666,
              "#ed7953"
             ],
             [
              0.7777777777777778,
              "#fb9f3a"
             ],
             [
              0.8888888888888888,
              "#fdca26"
             ],
             [
              1,
              "#f0f921"
             ]
            ],
            "type": "histogram2d"
           }
          ],
          "histogram2dcontour": [
           {
            "colorbar": {
             "outlinewidth": 0,
             "ticks": ""
            },
            "colorscale": [
             [
              0,
              "#0d0887"
             ],
             [
              0.1111111111111111,
              "#46039f"
             ],
             [
              0.2222222222222222,
              "#7201a8"
             ],
             [
              0.3333333333333333,
              "#9c179e"
             ],
             [
              0.4444444444444444,
              "#bd3786"
             ],
             [
              0.5555555555555556,
              "#d8576b"
             ],
             [
              0.6666666666666666,
              "#ed7953"
             ],
             [
              0.7777777777777778,
              "#fb9f3a"
             ],
             [
              0.8888888888888888,
              "#fdca26"
             ],
             [
              1,
              "#f0f921"
             ]
            ],
            "type": "histogram2dcontour"
           }
          ],
          "mesh3d": [
           {
            "colorbar": {
             "outlinewidth": 0,
             "ticks": ""
            },
            "type": "mesh3d"
           }
          ],
          "parcoords": [
           {
            "line": {
             "colorbar": {
              "outlinewidth": 0,
              "ticks": ""
             }
            },
            "type": "parcoords"
           }
          ],
          "pie": [
           {
            "automargin": true,
            "type": "pie"
           }
          ],
          "scatter": [
           {
            "fillpattern": {
             "fillmode": "overlay",
             "size": 10,
             "solidity": 0.2
            },
            "type": "scatter"
           }
          ],
          "scatter3d": [
           {
            "line": {
             "colorbar": {
              "outlinewidth": 0,
              "ticks": ""
             }
            },
            "marker": {
             "colorbar": {
              "outlinewidth": 0,
              "ticks": ""
             }
            },
            "type": "scatter3d"
           }
          ],
          "scattercarpet": [
           {
            "marker": {
             "colorbar": {
              "outlinewidth": 0,
              "ticks": ""
             }
            },
            "type": "scattercarpet"
           }
          ],
          "scattergeo": [
           {
            "marker": {
             "colorbar": {
              "outlinewidth": 0,
              "ticks": ""
             }
            },
            "type": "scattergeo"
           }
          ],
          "scattergl": [
           {
            "marker": {
             "colorbar": {
              "outlinewidth": 0,
              "ticks": ""
             }
            },
            "type": "scattergl"
           }
          ],
          "scattermapbox": [
           {
            "marker": {
             "colorbar": {
              "outlinewidth": 0,
              "ticks": ""
             }
            },
            "type": "scattermapbox"
           }
          ],
          "scatterpolar": [
           {
            "marker": {
             "colorbar": {
              "outlinewidth": 0,
              "ticks": ""
             }
            },
            "type": "scatterpolar"
           }
          ],
          "scatterpolargl": [
           {
            "marker": {
             "colorbar": {
              "outlinewidth": 0,
              "ticks": ""
             }
            },
            "type": "scatterpolargl"
           }
          ],
          "scatterternary": [
           {
            "marker": {
             "colorbar": {
              "outlinewidth": 0,
              "ticks": ""
             }
            },
            "type": "scatterternary"
           }
          ],
          "surface": [
           {
            "colorbar": {
             "outlinewidth": 0,
             "ticks": ""
            },
            "colorscale": [
             [
              0,
              "#0d0887"
             ],
             [
              0.1111111111111111,
              "#46039f"
             ],
             [
              0.2222222222222222,
              "#7201a8"
             ],
             [
              0.3333333333333333,
              "#9c179e"
             ],
             [
              0.4444444444444444,
              "#bd3786"
             ],
             [
              0.5555555555555556,
              "#d8576b"
             ],
             [
              0.6666666666666666,
              "#ed7953"
             ],
             [
              0.7777777777777778,
              "#fb9f3a"
             ],
             [
              0.8888888888888888,
              "#fdca26"
             ],
             [
              1,
              "#f0f921"
             ]
            ],
            "type": "surface"
           }
          ],
          "table": [
           {
            "cells": {
             "fill": {
              "color": "#EBF0F8"
             },
             "line": {
              "color": "white"
             }
            },
            "header": {
             "fill": {
              "color": "#C8D4E3"
             },
             "line": {
              "color": "white"
             }
            },
            "type": "table"
           }
          ]
         },
         "layout": {
          "annotationdefaults": {
           "arrowcolor": "#2a3f5f",
           "arrowhead": 0,
           "arrowwidth": 1
          },
          "autotypenumbers": "strict",
          "coloraxis": {
           "colorbar": {
            "outlinewidth": 0,
            "ticks": ""
           }
          },
          "colorscale": {
           "diverging": [
            [
             0,
             "#8e0152"
            ],
            [
             0.1,
             "#c51b7d"
            ],
            [
             0.2,
             "#de77ae"
            ],
            [
             0.3,
             "#f1b6da"
            ],
            [
             0.4,
             "#fde0ef"
            ],
            [
             0.5,
             "#f7f7f7"
            ],
            [
             0.6,
             "#e6f5d0"
            ],
            [
             0.7,
             "#b8e186"
            ],
            [
             0.8,
             "#7fbc41"
            ],
            [
             0.9,
             "#4d9221"
            ],
            [
             1,
             "#276419"
            ]
           ],
           "sequential": [
            [
             0,
             "#0d0887"
            ],
            [
             0.1111111111111111,
             "#46039f"
            ],
            [
             0.2222222222222222,
             "#7201a8"
            ],
            [
             0.3333333333333333,
             "#9c179e"
            ],
            [
             0.4444444444444444,
             "#bd3786"
            ],
            [
             0.5555555555555556,
             "#d8576b"
            ],
            [
             0.6666666666666666,
             "#ed7953"
            ],
            [
             0.7777777777777778,
             "#fb9f3a"
            ],
            [
             0.8888888888888888,
             "#fdca26"
            ],
            [
             1,
             "#f0f921"
            ]
           ],
           "sequentialminus": [
            [
             0,
             "#0d0887"
            ],
            [
             0.1111111111111111,
             "#46039f"
            ],
            [
             0.2222222222222222,
             "#7201a8"
            ],
            [
             0.3333333333333333,
             "#9c179e"
            ],
            [
             0.4444444444444444,
             "#bd3786"
            ],
            [
             0.5555555555555556,
             "#d8576b"
            ],
            [
             0.6666666666666666,
             "#ed7953"
            ],
            [
             0.7777777777777778,
             "#fb9f3a"
            ],
            [
             0.8888888888888888,
             "#fdca26"
            ],
            [
             1,
             "#f0f921"
            ]
           ]
          },
          "colorway": [
           "#636efa",
           "#EF553B",
           "#00cc96",
           "#ab63fa",
           "#FFA15A",
           "#19d3f3",
           "#FF6692",
           "#B6E880",
           "#FF97FF",
           "#FECB52"
          ],
          "font": {
           "color": "#2a3f5f"
          },
          "geo": {
           "bgcolor": "white",
           "lakecolor": "white",
           "landcolor": "#E5ECF6",
           "showlakes": true,
           "showland": true,
           "subunitcolor": "white"
          },
          "hoverlabel": {
           "align": "left"
          },
          "hovermode": "closest",
          "mapbox": {
           "style": "light"
          },
          "paper_bgcolor": "white",
          "plot_bgcolor": "#E5ECF6",
          "polar": {
           "angularaxis": {
            "gridcolor": "white",
            "linecolor": "white",
            "ticks": ""
           },
           "bgcolor": "#E5ECF6",
           "radialaxis": {
            "gridcolor": "white",
            "linecolor": "white",
            "ticks": ""
           }
          },
          "scene": {
           "xaxis": {
            "backgroundcolor": "#E5ECF6",
            "gridcolor": "white",
            "gridwidth": 2,
            "linecolor": "white",
            "showbackground": true,
            "ticks": "",
            "zerolinecolor": "white"
           },
           "yaxis": {
            "backgroundcolor": "#E5ECF6",
            "gridcolor": "white",
            "gridwidth": 2,
            "linecolor": "white",
            "showbackground": true,
            "ticks": "",
            "zerolinecolor": "white"
           },
           "zaxis": {
            "backgroundcolor": "#E5ECF6",
            "gridcolor": "white",
            "gridwidth": 2,
            "linecolor": "white",
            "showbackground": true,
            "ticks": "",
            "zerolinecolor": "white"
           }
          },
          "shapedefaults": {
           "line": {
            "color": "#2a3f5f"
           }
          },
          "ternary": {
           "aaxis": {
            "gridcolor": "white",
            "linecolor": "white",
            "ticks": ""
           },
           "baxis": {
            "gridcolor": "white",
            "linecolor": "white",
            "ticks": ""
           },
           "bgcolor": "#E5ECF6",
           "caxis": {
            "gridcolor": "white",
            "linecolor": "white",
            "ticks": ""
           }
          },
          "title": {
           "x": 0.05
          },
          "xaxis": {
           "automargin": true,
           "gridcolor": "white",
           "linecolor": "white",
           "ticks": "",
           "title": {
            "standoff": 15
           },
           "zerolinecolor": "white",
           "zerolinewidth": 2
          },
          "yaxis": {
           "automargin": true,
           "gridcolor": "white",
           "linecolor": "white",
           "ticks": "",
           "title": {
            "standoff": 15
           },
           "zerolinecolor": "white",
           "zerolinewidth": 2
          }
         }
        },
        "title": {
         "text": "Score 2 counts"
        },
        "xaxis": {
         "title": {
          "text": "Graph order"
         }
        },
        "yaxis": {
         "title": {
          "text": "Edge probability"
         }
        }
       }
      }
     },
     "metadata": {},
     "output_type": "display_data"
    }
   ],
   "source": [
    "# extract data from results dictionary\n",
    "edge_probs = parameter_grid[\"edge_prob\"]\n",
    "graph_orders = parameter_grid[\"graph_order\"]\n",
    "score_2_counts = [[results[(edge_prob, graph_order)][\"score_2_count\"] for graph_order in graph_orders] for edge_prob in edge_probs]\n",
    "\n",
    "# create heatmap\n",
    "heatmap = go.Heatmap(\n",
    "    z=score_2_counts,\n",
    "    x=graph_orders,\n",
    "    y=edge_probs,\n",
    "    colorscale='Viridis'\n",
    ")\n",
    "\n",
    "# create layout\n",
    "layout = go.Layout(\n",
    "    title='Score 2 counts',\n",
    "    xaxis=dict(title='Graph order'),\n",
    "    yaxis=dict(title='Edge probability')\n",
    ")\n",
    "\n",
    "# create figure\n",
    "fig = go.Figure(data=[heatmap], layout=layout)\n",
    "\n",
    "# show figure\n",
    "fig.show()"
   ]
  },
  {
   "cell_type": "code",
   "execution_count": 11,
   "metadata": {},
   "outputs": [
    {
     "data": {
      "application/vnd.plotly.v1+json": {
       "config": {
        "plotlyServerURL": "https://plot.ly"
       },
       "data": [
        {
         "colorscale": [
          [
           0,
           "#440154"
          ],
          [
           0.1111111111111111,
           "#482878"
          ],
          [
           0.2222222222222222,
           "#3e4989"
          ],
          [
           0.3333333333333333,
           "#31688e"
          ],
          [
           0.4444444444444444,
           "#26828e"
          ],
          [
           0.5555555555555556,
           "#1f9e89"
          ],
          [
           0.6666666666666666,
           "#35b779"
          ],
          [
           0.7777777777777778,
           "#6ece58"
          ],
          [
           0.8888888888888888,
           "#b5de2b"
          ],
          [
           1,
           "#fde725"
          ]
         ],
         "type": "heatmap",
         "x": [
          4,
          5,
          6,
          7,
          8,
          9,
          10,
          11,
          12,
          13,
          14,
          15
         ],
         "y": [
          0.2,
          0.4,
          0.6,
          0.8
         ],
         "z": [
          [
           0,
           0,
           0,
           27,
           87,
           102,
           69,
           40,
           14,
           5,
           2,
           0
          ],
          [
           0,
           0,
           0,
           291,
           96,
           21,
           1,
           0,
           0,
           0,
           0,
           0
          ],
          [
           0,
           0,
           0,
           312,
           126,
           18,
           8,
           1,
           0,
           0,
           0,
           0
          ],
          [
           0,
           0,
           0,
           24,
           102,
           124,
           65,
           29,
           7,
           5,
           1,
           0
          ]
         ]
        }
       ],
       "layout": {
        "template": {
         "data": {
          "bar": [
           {
            "error_x": {
             "color": "#2a3f5f"
            },
            "error_y": {
             "color": "#2a3f5f"
            },
            "marker": {
             "line": {
              "color": "#E5ECF6",
              "width": 0.5
             },
             "pattern": {
              "fillmode": "overlay",
              "size": 10,
              "solidity": 0.2
             }
            },
            "type": "bar"
           }
          ],
          "barpolar": [
           {
            "marker": {
             "line": {
              "color": "#E5ECF6",
              "width": 0.5
             },
             "pattern": {
              "fillmode": "overlay",
              "size": 10,
              "solidity": 0.2
             }
            },
            "type": "barpolar"
           }
          ],
          "carpet": [
           {
            "aaxis": {
             "endlinecolor": "#2a3f5f",
             "gridcolor": "white",
             "linecolor": "white",
             "minorgridcolor": "white",
             "startlinecolor": "#2a3f5f"
            },
            "baxis": {
             "endlinecolor": "#2a3f5f",
             "gridcolor": "white",
             "linecolor": "white",
             "minorgridcolor": "white",
             "startlinecolor": "#2a3f5f"
            },
            "type": "carpet"
           }
          ],
          "choropleth": [
           {
            "colorbar": {
             "outlinewidth": 0,
             "ticks": ""
            },
            "type": "choropleth"
           }
          ],
          "contour": [
           {
            "colorbar": {
             "outlinewidth": 0,
             "ticks": ""
            },
            "colorscale": [
             [
              0,
              "#0d0887"
             ],
             [
              0.1111111111111111,
              "#46039f"
             ],
             [
              0.2222222222222222,
              "#7201a8"
             ],
             [
              0.3333333333333333,
              "#9c179e"
             ],
             [
              0.4444444444444444,
              "#bd3786"
             ],
             [
              0.5555555555555556,
              "#d8576b"
             ],
             [
              0.6666666666666666,
              "#ed7953"
             ],
             [
              0.7777777777777778,
              "#fb9f3a"
             ],
             [
              0.8888888888888888,
              "#fdca26"
             ],
             [
              1,
              "#f0f921"
             ]
            ],
            "type": "contour"
           }
          ],
          "contourcarpet": [
           {
            "colorbar": {
             "outlinewidth": 0,
             "ticks": ""
            },
            "type": "contourcarpet"
           }
          ],
          "heatmap": [
           {
            "colorbar": {
             "outlinewidth": 0,
             "ticks": ""
            },
            "colorscale": [
             [
              0,
              "#0d0887"
             ],
             [
              0.1111111111111111,
              "#46039f"
             ],
             [
              0.2222222222222222,
              "#7201a8"
             ],
             [
              0.3333333333333333,
              "#9c179e"
             ],
             [
              0.4444444444444444,
              "#bd3786"
             ],
             [
              0.5555555555555556,
              "#d8576b"
             ],
             [
              0.6666666666666666,
              "#ed7953"
             ],
             [
              0.7777777777777778,
              "#fb9f3a"
             ],
             [
              0.8888888888888888,
              "#fdca26"
             ],
             [
              1,
              "#f0f921"
             ]
            ],
            "type": "heatmap"
           }
          ],
          "heatmapgl": [
           {
            "colorbar": {
             "outlinewidth": 0,
             "ticks": ""
            },
            "colorscale": [
             [
              0,
              "#0d0887"
             ],
             [
              0.1111111111111111,
              "#46039f"
             ],
             [
              0.2222222222222222,
              "#7201a8"
             ],
             [
              0.3333333333333333,
              "#9c179e"
             ],
             [
              0.4444444444444444,
              "#bd3786"
             ],
             [
              0.5555555555555556,
              "#d8576b"
             ],
             [
              0.6666666666666666,
              "#ed7953"
             ],
             [
              0.7777777777777778,
              "#fb9f3a"
             ],
             [
              0.8888888888888888,
              "#fdca26"
             ],
             [
              1,
              "#f0f921"
             ]
            ],
            "type": "heatmapgl"
           }
          ],
          "histogram": [
           {
            "marker": {
             "pattern": {
              "fillmode": "overlay",
              "size": 10,
              "solidity": 0.2
             }
            },
            "type": "histogram"
           }
          ],
          "histogram2d": [
           {
            "colorbar": {
             "outlinewidth": 0,
             "ticks": ""
            },
            "colorscale": [
             [
              0,
              "#0d0887"
             ],
             [
              0.1111111111111111,
              "#46039f"
             ],
             [
              0.2222222222222222,
              "#7201a8"
             ],
             [
              0.3333333333333333,
              "#9c179e"
             ],
             [
              0.4444444444444444,
              "#bd3786"
             ],
             [
              0.5555555555555556,
              "#d8576b"
             ],
             [
              0.6666666666666666,
              "#ed7953"
             ],
             [
              0.7777777777777778,
              "#fb9f3a"
             ],
             [
              0.8888888888888888,
              "#fdca26"
             ],
             [
              1,
              "#f0f921"
             ]
            ],
            "type": "histogram2d"
           }
          ],
          "histogram2dcontour": [
           {
            "colorbar": {
             "outlinewidth": 0,
             "ticks": ""
            },
            "colorscale": [
             [
              0,
              "#0d0887"
             ],
             [
              0.1111111111111111,
              "#46039f"
             ],
             [
              0.2222222222222222,
              "#7201a8"
             ],
             [
              0.3333333333333333,
              "#9c179e"
             ],
             [
              0.4444444444444444,
              "#bd3786"
             ],
             [
              0.5555555555555556,
              "#d8576b"
             ],
             [
              0.6666666666666666,
              "#ed7953"
             ],
             [
              0.7777777777777778,
              "#fb9f3a"
             ],
             [
              0.8888888888888888,
              "#fdca26"
             ],
             [
              1,
              "#f0f921"
             ]
            ],
            "type": "histogram2dcontour"
           }
          ],
          "mesh3d": [
           {
            "colorbar": {
             "outlinewidth": 0,
             "ticks": ""
            },
            "type": "mesh3d"
           }
          ],
          "parcoords": [
           {
            "line": {
             "colorbar": {
              "outlinewidth": 0,
              "ticks": ""
             }
            },
            "type": "parcoords"
           }
          ],
          "pie": [
           {
            "automargin": true,
            "type": "pie"
           }
          ],
          "scatter": [
           {
            "fillpattern": {
             "fillmode": "overlay",
             "size": 10,
             "solidity": 0.2
            },
            "type": "scatter"
           }
          ],
          "scatter3d": [
           {
            "line": {
             "colorbar": {
              "outlinewidth": 0,
              "ticks": ""
             }
            },
            "marker": {
             "colorbar": {
              "outlinewidth": 0,
              "ticks": ""
             }
            },
            "type": "scatter3d"
           }
          ],
          "scattercarpet": [
           {
            "marker": {
             "colorbar": {
              "outlinewidth": 0,
              "ticks": ""
             }
            },
            "type": "scattercarpet"
           }
          ],
          "scattergeo": [
           {
            "marker": {
             "colorbar": {
              "outlinewidth": 0,
              "ticks": ""
             }
            },
            "type": "scattergeo"
           }
          ],
          "scattergl": [
           {
            "marker": {
             "colorbar": {
              "outlinewidth": 0,
              "ticks": ""
             }
            },
            "type": "scattergl"
           }
          ],
          "scattermapbox": [
           {
            "marker": {
             "colorbar": {
              "outlinewidth": 0,
              "ticks": ""
             }
            },
            "type": "scattermapbox"
           }
          ],
          "scatterpolar": [
           {
            "marker": {
             "colorbar": {
              "outlinewidth": 0,
              "ticks": ""
             }
            },
            "type": "scatterpolar"
           }
          ],
          "scatterpolargl": [
           {
            "marker": {
             "colorbar": {
              "outlinewidth": 0,
              "ticks": ""
             }
            },
            "type": "scatterpolargl"
           }
          ],
          "scatterternary": [
           {
            "marker": {
             "colorbar": {
              "outlinewidth": 0,
              "ticks": ""
             }
            },
            "type": "scatterternary"
           }
          ],
          "surface": [
           {
            "colorbar": {
             "outlinewidth": 0,
             "ticks": ""
            },
            "colorscale": [
             [
              0,
              "#0d0887"
             ],
             [
              0.1111111111111111,
              "#46039f"
             ],
             [
              0.2222222222222222,
              "#7201a8"
             ],
             [
              0.3333333333333333,
              "#9c179e"
             ],
             [
              0.4444444444444444,
              "#bd3786"
             ],
             [
              0.5555555555555556,
              "#d8576b"
             ],
             [
              0.6666666666666666,
              "#ed7953"
             ],
             [
              0.7777777777777778,
              "#fb9f3a"
             ],
             [
              0.8888888888888888,
              "#fdca26"
             ],
             [
              1,
              "#f0f921"
             ]
            ],
            "type": "surface"
           }
          ],
          "table": [
           {
            "cells": {
             "fill": {
              "color": "#EBF0F8"
             },
             "line": {
              "color": "white"
             }
            },
            "header": {
             "fill": {
              "color": "#C8D4E3"
             },
             "line": {
              "color": "white"
             }
            },
            "type": "table"
           }
          ]
         },
         "layout": {
          "annotationdefaults": {
           "arrowcolor": "#2a3f5f",
           "arrowhead": 0,
           "arrowwidth": 1
          },
          "autotypenumbers": "strict",
          "coloraxis": {
           "colorbar": {
            "outlinewidth": 0,
            "ticks": ""
           }
          },
          "colorscale": {
           "diverging": [
            [
             0,
             "#8e0152"
            ],
            [
             0.1,
             "#c51b7d"
            ],
            [
             0.2,
             "#de77ae"
            ],
            [
             0.3,
             "#f1b6da"
            ],
            [
             0.4,
             "#fde0ef"
            ],
            [
             0.5,
             "#f7f7f7"
            ],
            [
             0.6,
             "#e6f5d0"
            ],
            [
             0.7,
             "#b8e186"
            ],
            [
             0.8,
             "#7fbc41"
            ],
            [
             0.9,
             "#4d9221"
            ],
            [
             1,
             "#276419"
            ]
           ],
           "sequential": [
            [
             0,
             "#0d0887"
            ],
            [
             0.1111111111111111,
             "#46039f"
            ],
            [
             0.2222222222222222,
             "#7201a8"
            ],
            [
             0.3333333333333333,
             "#9c179e"
            ],
            [
             0.4444444444444444,
             "#bd3786"
            ],
            [
             0.5555555555555556,
             "#d8576b"
            ],
            [
             0.6666666666666666,
             "#ed7953"
            ],
            [
             0.7777777777777778,
             "#fb9f3a"
            ],
            [
             0.8888888888888888,
             "#fdca26"
            ],
            [
             1,
             "#f0f921"
            ]
           ],
           "sequentialminus": [
            [
             0,
             "#0d0887"
            ],
            [
             0.1111111111111111,
             "#46039f"
            ],
            [
             0.2222222222222222,
             "#7201a8"
            ],
            [
             0.3333333333333333,
             "#9c179e"
            ],
            [
             0.4444444444444444,
             "#bd3786"
            ],
            [
             0.5555555555555556,
             "#d8576b"
            ],
            [
             0.6666666666666666,
             "#ed7953"
            ],
            [
             0.7777777777777778,
             "#fb9f3a"
            ],
            [
             0.8888888888888888,
             "#fdca26"
            ],
            [
             1,
             "#f0f921"
            ]
           ]
          },
          "colorway": [
           "#636efa",
           "#EF553B",
           "#00cc96",
           "#ab63fa",
           "#FFA15A",
           "#19d3f3",
           "#FF6692",
           "#B6E880",
           "#FF97FF",
           "#FECB52"
          ],
          "font": {
           "color": "#2a3f5f"
          },
          "geo": {
           "bgcolor": "white",
           "lakecolor": "white",
           "landcolor": "#E5ECF6",
           "showlakes": true,
           "showland": true,
           "subunitcolor": "white"
          },
          "hoverlabel": {
           "align": "left"
          },
          "hovermode": "closest",
          "mapbox": {
           "style": "light"
          },
          "paper_bgcolor": "white",
          "plot_bgcolor": "#E5ECF6",
          "polar": {
           "angularaxis": {
            "gridcolor": "white",
            "linecolor": "white",
            "ticks": ""
           },
           "bgcolor": "#E5ECF6",
           "radialaxis": {
            "gridcolor": "white",
            "linecolor": "white",
            "ticks": ""
           }
          },
          "scene": {
           "xaxis": {
            "backgroundcolor": "#E5ECF6",
            "gridcolor": "white",
            "gridwidth": 2,
            "linecolor": "white",
            "showbackground": true,
            "ticks": "",
            "zerolinecolor": "white"
           },
           "yaxis": {
            "backgroundcolor": "#E5ECF6",
            "gridcolor": "white",
            "gridwidth": 2,
            "linecolor": "white",
            "showbackground": true,
            "ticks": "",
            "zerolinecolor": "white"
           },
           "zaxis": {
            "backgroundcolor": "#E5ECF6",
            "gridcolor": "white",
            "gridwidth": 2,
            "linecolor": "white",
            "showbackground": true,
            "ticks": "",
            "zerolinecolor": "white"
           }
          },
          "shapedefaults": {
           "line": {
            "color": "#2a3f5f"
           }
          },
          "ternary": {
           "aaxis": {
            "gridcolor": "white",
            "linecolor": "white",
            "ticks": ""
           },
           "baxis": {
            "gridcolor": "white",
            "linecolor": "white",
            "ticks": ""
           },
           "bgcolor": "#E5ECF6",
           "caxis": {
            "gridcolor": "white",
            "linecolor": "white",
            "ticks": ""
           }
          },
          "title": {
           "x": 0.05
          },
          "xaxis": {
           "automargin": true,
           "gridcolor": "white",
           "linecolor": "white",
           "ticks": "",
           "title": {
            "standoff": 15
           },
           "zerolinecolor": "white",
           "zerolinewidth": 2
          },
          "yaxis": {
           "automargin": true,
           "gridcolor": "white",
           "linecolor": "white",
           "ticks": "",
           "title": {
            "standoff": 15
           },
           "zerolinecolor": "white",
           "zerolinewidth": 2
          }
         }
        },
        "title": {
         "text": "Score > 2 counts"
        },
        "xaxis": {
         "title": {
          "text": "Graph order"
         }
        },
        "yaxis": {
         "title": {
          "text": "Edge probability"
         }
        }
       }
      }
     },
     "metadata": {},
     "output_type": "display_data"
    }
   ],
   "source": [
    "# extract data from results dictionary\n",
    "edge_probs = parameter_grid[\"edge_prob\"]\n",
    "graph_orders = parameter_grid[\"graph_order\"]\n",
    "score_gt_2_counts = [[results[(edge_prob, graph_order)][\"score_gt_2_count\"] for graph_order in graph_orders] for edge_prob in edge_probs]\n",
    "\n",
    "# create heatmap\n",
    "heatmap = go.Heatmap(\n",
    "    z=score_gt_2_counts,\n",
    "    x=graph_orders,\n",
    "    y=edge_probs,\n",
    "    colorscale='Viridis'\n",
    ")\n",
    "\n",
    "# create layout\n",
    "layout = go.Layout(\n",
    "    title='Score > 2 counts',\n",
    "    xaxis=dict(title='Graph order'),\n",
    "    yaxis=dict(title='Edge probability')\n",
    ")\n",
    "\n",
    "# create figure\n",
    "fig = go.Figure(data=[heatmap], layout=layout)\n",
    "\n",
    "# show figure\n",
    "fig.show()"
   ]
  },
  {
   "cell_type": "markdown",
   "metadata": {},
   "source": [
    "## Generate dataset"
   ]
  },
  {
   "cell_type": "code",
   "execution_count": 12,
   "metadata": {},
   "outputs": [],
   "source": [
    "num_non_iso_per = (\n",
    "    DATASET_CONFIG[\"num_samples\"]\n",
    "    * DATASET_CONFIG[\"prop_non_isomorphic\"]\n",
    "    / (len(DATASET_CONFIG[\"graph_sizes\"] * len(DATASET_CONFIG[\"edge_probabilities\"])))\n",
    ")\n",
    "num_non_iso_score_per = {}\n",
    "num_non_iso_score_per[\"1\"] = floor(\n",
    "    num_non_iso_per * DATASET_CONFIG[\"non_isomorphic\"][\"prop_score_1\"]\n",
    ")\n",
    "num_non_iso_score_per[\"2\"] = floor(\n",
    "    num_non_iso_per * DATASET_CONFIG[\"non_isomorphic\"][\"prop_score_2\"]\n",
    ")\n",
    "num_non_iso_score_per[\"gt_2\"] = (\n",
    "    floor(num_non_iso_per) - num_non_iso_score_per[\"1\"] - num_non_iso_score_per[\"2\"]\n",
    ")\n",
    "num_iso_from_non_iso = floor(\n",
    "    DATASET_CONFIG[\"num_samples\"]\n",
    "    * (1 - DATASET_CONFIG[\"prop_non_isomorphic\"])\n",
    "    * DATASET_CONFIG[\"isomorphic\"][\"prop_from_non_isomorphic\"]\n",
    ")"
   ]
  },
  {
   "cell_type": "code",
   "execution_count": 13,
   "metadata": {},
   "outputs": [
    {
     "name": "stderr",
     "output_type": "stream",
     "text": [
      "[1/4] Non-isomorphic (n=7, p=0.5): 100%|██████████| 25/25 [00:00<00:00, 59.82it/s]\n",
      "[2/4] Non-isomorphic (n=8, p=0.5): 100%|██████████| 25/25 [00:01<00:00, 23.94it/s]\n"
     ]
    }
   ],
   "source": [
    "adjacencies_list = []\n",
    "sizes_list = []\n",
    "scores_list = []\n",
    "\n",
    "num_configs = len(DATASET_CONFIG[\"graph_sizes\"]) * len(\n",
    "    DATASET_CONFIG[\"edge_probabilities\"]\n",
    ")\n",
    "max_graph_size = max(DATASET_CONFIG[\"graph_sizes\"])\n",
    "for i, (graph_size, edge_probability) in enumerate(\n",
    "    itertools.product(\n",
    "        DATASET_CONFIG[\"graph_sizes\"], DATASET_CONFIG[\"edge_probabilities\"]\n",
    "    )\n",
    "):\n",
    "    score_counts = {key: 0 for key in num_non_iso_score_per.keys()}\n",
    "    progress_bar = tqdm(\n",
    "        total=sum(num_non_iso_score_per.values()),\n",
    "        desc=f\"[{i+1}/{num_configs+2}] Non-isomorphic (n={graph_size}, p={edge_probability})\",\n",
    "    )\n",
    "    while any(\n",
    "        count < num\n",
    "        for count, num in zip(score_counts.values(), num_non_iso_score_per.values())\n",
    "    ):\n",
    "        adjacency_1 = batch_er_graph(BATCH_SIZE, graph_size, edge_probability)\n",
    "        adjacency_2 = batch_er_graph(BATCH_SIZE, graph_size, edge_probability)\n",
    "        score = batch_wl_score(adjacency_1, adjacency_2)\n",
    "        adjacency_1 = F.pad(adjacency_1, (0, max_graph_size - graph_size) * 2)\n",
    "        adjacency_2 = F.pad(adjacency_2, (0, max_graph_size - graph_size) * 2)\n",
    "        for key in score_counts.keys():\n",
    "            if key == \"1\":\n",
    "                index = score == 1\n",
    "            elif key == \"2\":\n",
    "                index = score == 2\n",
    "            elif key == \"gt_2\":\n",
    "                index = score > 2\n",
    "            num_pairs_to_add = min(\n",
    "                num_non_iso_score_per[key] - score_counts[key],\n",
    "                torch.sum(index).item(),\n",
    "            )\n",
    "            adjacencies_list.append(\n",
    "                torch.stack(\n",
    "                    (\n",
    "                        adjacency_1[index][:num_pairs_to_add],\n",
    "                        adjacency_2[index][:num_pairs_to_add],\n",
    "                    )\n",
    "                )\n",
    "            )\n",
    "            sizes_list.append(torch.ones(num_pairs_to_add, dtype=int) *graph_size)\n",
    "            scores_list.append(score[index][:num_pairs_to_add])\n",
    "            score_counts[key] += num_pairs_to_add\n",
    "            progress_bar.update(num_pairs_to_add)\n",
    "    progress_bar.close()\n",
    "\n",
    "adjacencies = torch.cat(adjacencies_list, dim=1)\n",
    "sizes = torch.cat(sizes_list, dim=0)"
   ]
  },
  {
   "cell_type": "code",
   "execution_count": 14,
   "metadata": {},
   "outputs": [
    {
     "name": "stdout",
     "output_type": "stream",
     "text": [
      "[3/4] Isomorphic from non-isomorphic\n"
     ]
    }
   ],
   "source": [
    "print(f\"[{num_configs+1}/{num_configs+2}] Isomorphic from non-isomorphic\")\n",
    "batch_index = torch.randint(0, adjacencies.shape[1], (num_iso_from_non_iso,))\n",
    "pair_index = torch.randint(0, 2, (num_iso_from_non_iso,))\n",
    "adjacencies_from_non_iso = einops.repeat(\n",
    "    adjacencies[pair_index, batch_index],\n",
    "    \"pair node1 node2 -> 2 pair node1 node2\",\n",
    ")\n",
    "sizes_from_non_iso = sizes[batch_index]"
   ]
  },
  {
   "cell_type": "code",
   "execution_count": 15,
   "metadata": {},
   "outputs": [
    {
     "name": "stdout",
     "output_type": "stream",
     "text": [
      "[4/4] Isomorphic new\n"
     ]
    }
   ],
   "source": [
    "print(f\"[{num_configs+2}/{num_configs+2}] Isomorphic new\")\n",
    "num_new = (\n",
    "    DATASET_CONFIG[\"num_samples\"]\n",
    "    - adjacencies.shape[1]\n",
    "    - adjacencies_from_non_iso.shape[1]\n",
    ")\n",
    "num_new_per = floor(\n",
    "    num_new\n",
    "    / (len(DATASET_CONFIG[\"graph_sizes\"] * len(DATASET_CONFIG[\"edge_probabilities\"])))\n",
    ")\n",
    "adjacencies_new_list = []\n",
    "sizes_new_list = []\n",
    "for i, (graph_size, edge_probability) in enumerate(\n",
    "    itertools.product(\n",
    "        DATASET_CONFIG[\"graph_sizes\"], DATASET_CONFIG[\"edge_probabilities\"]\n",
    "    )\n",
    "):\n",
    "    if i < num_configs - 1:\n",
    "        num_new_this = num_new_per\n",
    "    else:\n",
    "        num_new_this = num_new - num_new_per * (num_configs - 1)\n",
    "    adjacency = batch_er_graph(num_new_this, graph_size, edge_probability)\n",
    "    adjacency = F.pad(adjacency, (0, max_graph_size - graph_size) * 2)\n",
    "    adjacencies_new_list.append(\n",
    "        einops.repeat(adjacency, \"batch node1 node2 -> 2 batch node1 node2\")\n",
    "    )\n",
    "    sizes_new_list.append(torch.ones(num_new_this, dtype=int) * graph_size)"
   ]
  },
  {
   "cell_type": "code",
   "execution_count": 16,
   "metadata": {},
   "outputs": [],
   "source": [
    "adjacencies = torch.cat(\n",
    "    (adjacencies, adjacencies_from_non_iso, *adjacencies_new_list), dim=1\n",
    ")\n",
    "sizes = torch.cat((sizes, sizes_from_non_iso, *sizes_new_list), dim=0)\n",
    "scores = torch.cat(scores_list, dim=0)\n",
    "scores = F.pad(scores, (0, DATASET_CONFIG[\"num_samples\"] - scores.shape[0],), value=-1)"
   ]
  },
  {
   "cell_type": "code",
   "execution_count": 17,
   "metadata": {},
   "outputs": [
    {
     "name": "stdout",
     "output_type": "stream",
     "text": [
      "tensor([8])\n"
     ]
    },
    {
     "data": {
      "image/png": "[encoded data removed]",
      "text/plain": [
       "<Figure size 640x480 with 1 Axes>"
      ]
     },
     "metadata": {},
     "output_type": "display_data"
    }
   ],
   "source": [
    "batch_id = torch.randint(0, adjacencies.shape[1], (1,))\n",
    "adjacency = adjacencies[:, batch_id, :sizes[batch_id], :sizes[batch_id]].squeeze()\n",
    "graph_1 = nx.from_numpy_array(adjacency[0].numpy())\n",
    "graph_2 = nx.from_numpy_array(adjacency[1].numpy())\n",
    "print(sizes[batch_id])\n",
    "nx.draw(graph_1)"
   ]
  },
  {
   "cell_type": "code",
   "execution_count": 18,
   "metadata": {},
   "outputs": [
    {
     "data": {
      "image/png": "[encoded data removed]",
      "text/plain": [
       "<Figure size 640x480 with 1 Axes>"
      ]
     },
     "metadata": {},
     "output_type": "display_data"
    }
   ],
   "source": [
    "nx.draw(graph_2)"
   ]
  },
  {
   "cell_type": "code",
   "execution_count": 19,
   "metadata": {},
   "outputs": [],
   "source": [
    "indices = torch.arange(1, adjacencies.shape[1] + 1)\n",
    "indices = einops.rearrange(indices, \"batch -> () batch () ()\")\n",
    "adjacencies_indexed = adjacencies * indices\n",
    "\n",
    "edge_indices_a, batch_a = dense_to_sparse(adjacencies_indexed[0])\n",
    "edge_indices_b, batch_b = dense_to_sparse(adjacencies_indexed[1])\n",
    "\n",
    "slices_a = torch.cumsum(torch.bincount(batch_a), 0)\n",
    "slices_b = torch.cumsum(torch.bincount(batch_b), 0)"
   ]
  },
  {
   "cell_type": "code",
   "execution_count": 20,
   "metadata": {},
   "outputs": [],
   "source": [
    "data = dict(\n",
    "    edge_index_a=edge_indices_a,\n",
    "    edge_index_b=edge_indices_b,\n",
    "    slices_a=slices_a,\n",
    "    slices_b=slices_b,\n",
    "    wl_scores=scores,\n",
    "    sizes_a=sizes,\n",
    "    sizes_b=sizes,\n",
    ")"
   ]
  },
  {
   "cell_type": "code",
   "execution_count": 21,
   "metadata": {},
   "outputs": [],
   "source": [
    "torch.save(data, DATASET_FILE)"
   ]
  }
 ],
 "metadata": {
  "kernelspec": {
   "display_name": "pvg-experiments",
   "language": "python",
   "name": "python3"
  },
  "language_info": {
   "codemirror_mode": {
    "name": "ipython",
    "version": 3
   },
   "file_extension": ".py",
   "mimetype": "text/x-python",
   "name": "python",
   "nbconvert_exporter": "python",
   "pygments_lexer": "ipython3",
   "version": "3.11.4"
  },
  "orig_nbformat": 4
 },
 "nbformat": 4,
 "nbformat_minor": 2
}
