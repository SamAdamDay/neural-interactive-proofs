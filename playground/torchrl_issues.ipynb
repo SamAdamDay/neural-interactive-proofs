{
 "cells": [
  {
   "cell_type": "code",
   "execution_count": 16,
   "metadata": {},
   "outputs": [
    {
     "name": "stderr",
     "output_type": "stream",
     "text": [
      "/home/sam/.virtualenvs/pvg-experiments/lib/python3.11/site-packages/gymnasium/core.py:311: UserWarning: \u001b[33mWARN: env.num_envs to get variables from other wrappers is deprecated and will be removed in v1.0, to get this variable you can do `env.unwrapped.num_envs` for environment variables or `env.get_wrapper_attr('num_envs')` that will search the reminding wrappers.\u001b[0m\n",
      "  logger.warn(\n",
      "/home/sam/.virtualenvs/pvg-experiments/lib/python3.11/site-packages/gymnasium/core.py:311: UserWarning: \u001b[33mWARN: env.reward_space to get variables from other wrappers is deprecated and will be removed in v1.0, to get this variable you can do `env.unwrapped.reward_space` for environment variables or `env.get_wrapper_attr('reward_space')` that will search the reminding wrappers.\u001b[0m\n",
      "  logger.warn(\n"
     ]
    },
    {
     "name": "stdout",
     "output_type": "stream",
     "text": [
      "TensorDict(\n",
      "    fields={\n",
      "        observation: Tensor(shape=torch.Size([1000, 11]), device=cpu, dtype=torch.float32, is_shared=False)},\n",
      "    batch_size=torch.Size([1000]),\n",
      "    device=cpu,\n",
      "    is_shared=False)\n",
      "TensorDict(\n",
      "    fields={\n",
      "        observation: Tensor(shape=torch.Size([1000, 11]), device=cpu, dtype=torch.float32, is_shared=False)},\n",
      "    batch_size=torch.Size([1000]),\n",
      "    device=cpu,\n",
      "    is_shared=False)\n"
     ]
    }
   ],
   "source": [
    "import torch\n",
    "from torch.nn import Linear, Sequential\n",
    "\n",
    "# from torch.distributions import Categorical\n",
    "from tensordict import TensorDict\n",
    "from tensordict.nn import TensorDictModule, ProbabilisticTensorDictSequential\n",
    "from tensordict.nn.distributions import NormalParamExtractor\n",
    "from torchrl.modules import (\n",
    "    ProbabilisticActor,\n",
    "    ValueOperator,\n",
    "    TanhNormal,\n",
    "    ActorValueOperator,\n",
    ")\n",
    "from torchrl.objectives import PPOLoss, ValueEstimators\n",
    "from torchrl.envs import TransformedEnv, DoubleToFloat\n",
    "from torchrl.envs.libs.gym import GymEnv\n",
    "from torchrl.collectors import SyncDataCollector\n",
    "\n",
    "env = TransformedEnv(\n",
    "    GymEnv(\"InvertedDoublePendulum-v4\"), DoubleToFloat(in_keys=[\"observation\"])\n",
    ")\n",
    "\n",
    "common = TensorDictModule(Linear(11, 10), in_keys=[\"observation\"], out_keys=[\"hidden\"])\n",
    "actor_head = ProbabilisticActor(\n",
    "    module=TensorDictModule(\n",
    "        Sequential(\n",
    "            Linear(10, 2),\n",
    "            NormalParamExtractor(),\n",
    "        ),\n",
    "        in_keys=[\"hidden\"],\n",
    "        out_keys=[\"loc\", \"scale\"],\n",
    "    ),\n",
    "    in_keys=[\"loc\", \"scale\"],\n",
    "    distribution_class=TanhNormal,\n",
    ")\n",
    "value_head = ValueOperator(Linear(10, 1), in_keys=[\"hidden\"], out_keys=[\"state_value\"])\n",
    "model = ActorValueOperator(common, actor_head, value_head)\n",
    "collector = SyncDataCollector(\n",
    "    env,\n",
    "    model.get_policy_operator(),\n",
    "    frames_per_batch=1000,\n",
    "    total_frames=10000,\n",
    "    split_trajs=False,\n",
    ")\n",
    "\n",
    "loss_module = PPOLoss(model.get_policy_operator(), model.get_value_operator())\n",
    "loss_module.make_value_estimator(ValueEstimators.GAE, gamma=0.99, lmbda=0.95)\n",
    "gae = loss_module.value_estimator\n",
    "\n",
    "tensordict_data = next(iter(collector))\n",
    "\n",
    "with torch.no_grad():\n",
    "    gae(\n",
    "        tensordict_data,\n",
    "        params=loss_module.critic_params,\n",
    "        target_params=loss_module.target_critic_params,\n",
    "    )"
   ]
  }
 ],
 "metadata": {
  "kernelspec": {
   "display_name": "pvg-experiments",
   "language": "python",
   "name": "python3"
  },
  "language_info": {
   "codemirror_mode": {
    "name": "ipython",
    "version": 3
   },
   "file_extension": ".py",
   "mimetype": "text/x-python",
   "name": "python",
   "nbconvert_exporter": "python",
   "pygments_lexer": "ipython3",
   "version": "3.11.6"
  }
 },
 "nbformat": 4,
 "nbformat_minor": 2
}
