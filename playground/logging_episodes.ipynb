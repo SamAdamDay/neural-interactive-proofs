{
 "cells": [
  {
   "cell_type": "markdown",
   "metadata": {},
   "source": [
    "# Logging example episodes from runs"
   ]
  },
  {
   "cell_type": "markdown",
   "metadata": {},
   "source": [
    "## Setup"
   ]
  },
  {
   "cell_type": "code",
   "execution_count": 1,
   "metadata": {},
   "outputs": [],
   "source": [
    "FORCE_CPU = True\n",
    "\n",
    "SEED = 349287\n",
    "\n",
    "SAMPLE_SUB_DATA = \"data/sample_collect.pkl\"\n",
    "\n",
    "NUM_ROLLOUTS_TO_SELECT = 10\n",
    "\n",
    "WANDB_PROJECT = \"pvg-sandbox\"\n",
    "WANDB_RUN_NAME = \"test_7\"\n",
    "\n",
    "ITERATION = 0"
   ]
  },
  {
   "cell_type": "code",
   "execution_count": 2,
   "metadata": {},
   "outputs": [],
   "source": [
    "from tempfile import TemporaryDirectory\n",
    "import os\n",
    "import pickle\n",
    "\n",
    "import numpy as np\n",
    "\n",
    "import torch\n",
    "\n",
    "from tensordict import TensorDict, TensorDictBase\n",
    "\n",
    "import wandb\n",
    "\n",
    "from tqdm import tqdm\n",
    "\n",
    "from pvg.constants import (\n",
    "    WANDB_ENTITY,\n",
    "    ROLLOUT_SAMPLE_ARTIFACT_PREFIX,\n",
    "    ROLLOUT_SAMPLE_ARTIFACT_TYPE,\n",
    "    ROLLOUT_SAMPLE_FILENAME,\n",
    ")\n",
    "from pvg.graph_isomorphism import GraphIsomorphismRolloutSamples"
   ]
  },
  {
   "cell_type": "code",
   "execution_count": 3,
   "metadata": {},
   "outputs": [],
   "source": [
    "torch.manual_seed(SEED)\n",
    "torch_generator = torch.Generator().manual_seed(SEED)"
   ]
  },
  {
   "cell_type": "code",
   "execution_count": 4,
   "metadata": {},
   "outputs": [
    {
     "name": "stdout",
     "output_type": "stream",
     "text": [
      "cpu\n"
     ]
    }
   ],
   "source": [
    "if not FORCE_CPU and torch.cuda.is_available():\n",
    "    device = torch.device(\"cuda\")\n",
    "else:\n",
    "    device = torch.device(\"cpu\")\n",
    "print(device)"
   ]
  },
  {
   "cell_type": "markdown",
   "metadata": {},
   "source": [
    "## Load sample sub_data"
   ]
  },
  {
   "cell_type": "code",
   "execution_count": 5,
   "metadata": {},
   "outputs": [
    {
     "data": {
      "text/plain": [
       "TensorDict(\n",
       "    fields={\n",
       "        adjacency: Tensor(shape=torch.Size([125, 8, 2, 11, 11]), device=cpu, dtype=torch.int32, is_shared=False),\n",
       "        agents: TensorDict(\n",
       "            fields={\n",
       "                decision: Tensor(shape=torch.Size([125, 8, 2]), device=cpu, dtype=torch.int64, is_shared=False),\n",
       "                decision_logits: Tensor(shape=torch.Size([125, 8, 2, 3]), device=cpu, dtype=torch.float32, is_shared=False),\n",
       "                graph_level_repr: Tensor(shape=torch.Size([125, 8, 2, 2, 16]), device=cpu, dtype=torch.float32, is_shared=False),\n",
       "                node_level_repr: Tensor(shape=torch.Size([125, 8, 2, 2, 11, 16]), device=cpu, dtype=torch.float32, is_shared=False),\n",
       "                node_selected: Tensor(shape=torch.Size([125, 8, 2]), device=cpu, dtype=torch.int64, is_shared=False),\n",
       "                node_selected_logits: Tensor(shape=torch.Size([125, 8, 2, 22]), device=cpu, dtype=torch.float32, is_shared=False),\n",
       "                sample_log_prob: Tensor(shape=torch.Size([125, 8, 2]), device=cpu, dtype=torch.float32, is_shared=False)},\n",
       "            batch_size=torch.Size([125, 8]),\n",
       "            device=cpu,\n",
       "            is_shared=False),\n",
       "        collector: TensorDict(\n",
       "            fields={\n",
       "                traj_ids: Tensor(shape=torch.Size([125, 8]), device=cpu, dtype=torch.int64, is_shared=False)},\n",
       "            batch_size=torch.Size([125, 8]),\n",
       "            device=cpu,\n",
       "            is_shared=False),\n",
       "        done: Tensor(shape=torch.Size([125, 8]), device=cpu, dtype=torch.bool, is_shared=False),\n",
       "        message: Tensor(shape=torch.Size([125, 8]), device=cpu, dtype=torch.int64, is_shared=False),\n",
       "        next: TensorDict(\n",
       "            fields={\n",
       "                adjacency: Tensor(shape=torch.Size([125, 8, 2, 11, 11]), device=cpu, dtype=torch.int32, is_shared=False),\n",
       "                agents: TensorDict(\n",
       "                    fields={\n",
       "                        done: Tensor(shape=torch.Size([125, 8, 2]), device=cpu, dtype=torch.bool, is_shared=False),\n",
       "                        reward: Tensor(shape=torch.Size([125, 8, 2]), device=cpu, dtype=torch.float32, is_shared=False),\n",
       "                        terminated: Tensor(shape=torch.Size([125, 8, 2]), device=cpu, dtype=torch.bool, is_shared=False)},\n",
       "                    batch_size=torch.Size([125, 8]),\n",
       "                    device=cpu,\n",
       "                    is_shared=False),\n",
       "                done: Tensor(shape=torch.Size([125, 8]), device=cpu, dtype=torch.bool, is_shared=False),\n",
       "                message: Tensor(shape=torch.Size([125, 8]), device=cpu, dtype=torch.int64, is_shared=False),\n",
       "                node_mask: Tensor(shape=torch.Size([125, 8, 2, 11]), device=cpu, dtype=torch.bool, is_shared=False),\n",
       "                round: Tensor(shape=torch.Size([125, 8]), device=cpu, dtype=torch.int32, is_shared=False),\n",
       "                terminated: Tensor(shape=torch.Size([125, 8]), device=cpu, dtype=torch.bool, is_shared=False),\n",
       "                x: Tensor(shape=torch.Size([125, 8, 2, 11, 8]), device=cpu, dtype=torch.float32, is_shared=False)},\n",
       "            batch_size=torch.Size([125, 8]),\n",
       "            device=cpu,\n",
       "            is_shared=False),\n",
       "        node_mask: Tensor(shape=torch.Size([125, 8, 2, 11]), device=cpu, dtype=torch.bool, is_shared=False),\n",
       "        round: Tensor(shape=torch.Size([125, 8]), device=cpu, dtype=torch.int32, is_shared=False),\n",
       "        terminated: Tensor(shape=torch.Size([125, 8]), device=cpu, dtype=torch.bool, is_shared=False),\n",
       "        x: Tensor(shape=torch.Size([125, 8, 2, 11, 8]), device=cpu, dtype=torch.float32, is_shared=False),\n",
       "        y: Tensor(shape=torch.Size([125, 8, 1]), device=cpu, dtype=torch.int64, is_shared=False)},\n",
       "    batch_size=torch.Size([125, 8]),\n",
       "    device=cpu,\n",
       "    is_shared=False)"
      ]
     },
     "execution_count": 5,
     "metadata": {},
     "output_type": "execute_result"
    }
   ],
   "source": [
    "sample_sub_data: TensorDict = torch.load(SAMPLE_SUB_DATA, map_location=device)\n",
    "sample_sub_data = sample_sub_data.to(device)\n",
    "sample_sub_data"
   ]
  },
  {
   "cell_type": "markdown",
   "metadata": {},
   "source": [
    "## Select some rollouts"
   ]
  },
  {
   "cell_type": "code",
   "execution_count": 6,
   "metadata": {},
   "outputs": [],
   "source": [
    "def to_numpy_dict(data: TensorDictBase | dict) -> dict:\n",
    "    if isinstance(data, TensorDictBase):\n",
    "        data = data.to_dict()\n",
    "    for key, value in data.items():\n",
    "        if isinstance(value, torch.Tensor):\n",
    "            data[key] = value.detach().cpu().numpy()\n",
    "        else:\n",
    "            data[key] = to_numpy_dict(value)\n",
    "    return data"
   ]
  },
  {
   "cell_type": "code",
   "execution_count": 7,
   "metadata": {},
   "outputs": [],
   "source": [
    "bids = torch.where(\n",
    "    sample_sub_data[\"next\", \"done\"],\n",
    "    torch.rand_like(sample_sub_data[\"next\", \"done\"], dtype=torch.float32) + 1,\n",
    "    0.0,\n",
    ")\n",
    "_, index_flat = torch.topk(bids.flatten(), NUM_ROLLOUTS_TO_SELECT)\n",
    "batch_ids, episode_ids = np.unravel_index(index_flat.numpy(), bids.shape)\n",
    "\n",
    "rollout_samples: list[TensorDict] = []\n",
    "\n",
    "for batch_id, episode_id in zip(batch_ids.flat, episode_ids.flat):\n",
    "    # Determine the start of the episode\n",
    "    episode_start_id = episode_id - 1\n",
    "    while (\n",
    "        episode_start_id >= 0\n",
    "        and not sample_sub_data[\"next\", \"done\"][batch_id, episode_start_id]\n",
    "    ):\n",
    "        episode_start_id -= 1\n",
    "    episode_start_id += 1\n",
    "    rollout_td = sample_sub_data[batch_id, episode_start_id : episode_id + 1]\n",
    "    rollout_samples.append(to_numpy_dict(rollout_td))"
   ]
  },
  {
   "cell_type": "markdown",
   "metadata": {},
   "source": [
    "## Save to Weights and Biases"
   ]
  },
  {
   "cell_type": "code",
   "execution_count": 8,
   "metadata": {},
   "outputs": [
    {
     "name": "stderr",
     "output_type": "stream",
     "text": [
      "Failed to detect the name of this notebook, you can set it manually with the WANDB_NOTEBOOK_NAME environment variable to enable code saving.\n",
      "\u001b[34m\u001b[1mwandb\u001b[0m: Currently logged in as: \u001b[33msamadamday\u001b[0m (\u001b[33mlrhammond-team\u001b[0m). Use \u001b[1m`wandb login --relogin`\u001b[0m to force relogin\n"
     ]
    },
    {
     "data": {
      "text/html": [
       "wandb version 0.16.2 is available!  To upgrade, please run:\n",
       " $ pip install wandb --upgrade"
      ],
      "text/plain": [
       "<IPython.core.display.HTML object>"
      ]
     },
     "metadata": {},
     "output_type": "display_data"
    },
    {
     "data": {
      "text/html": [
       "Tracking run with wandb version 0.16.1"
      ],
      "text/plain": [
       "<IPython.core.display.HTML object>"
      ]
     },
     "metadata": {},
     "output_type": "display_data"
    },
    {
     "data": {
      "text/html": [
       "Run data is saved locally in <code>/home/sam/Code/Projects/PVG Experiments/playground/wandb/run-20240115_191253-836gf816</code>"
      ],
      "text/plain": [
       "<IPython.core.display.HTML object>"
      ]
     },
     "metadata": {},
     "output_type": "display_data"
    },
    {
     "data": {
      "text/html": [
       "Syncing run <strong><a href='https://wandb.ai/lrhammond-team/pvg-sandbox/runs/836gf816' target=\"_blank\">test_7</a></strong> to <a href='https://wandb.ai/lrhammond-team/pvg-sandbox' target=\"_blank\">Weights & Biases</a> (<a href='https://wandb.me/run' target=\"_blank\">docs</a>)<br/>"
      ],
      "text/plain": [
       "<IPython.core.display.HTML object>"
      ]
     },
     "metadata": {},
     "output_type": "display_data"
    },
    {
     "data": {
      "text/html": [
       " View project at <a href='https://wandb.ai/lrhammond-team/pvg-sandbox' target=\"_blank\">https://wandb.ai/lrhammond-team/pvg-sandbox</a>"
      ],
      "text/plain": [
       "<IPython.core.display.HTML object>"
      ]
     },
     "metadata": {},
     "output_type": "display_data"
    },
    {
     "data": {
      "text/html": [
       " View run at <a href='https://wandb.ai/lrhammond-team/pvg-sandbox/runs/836gf816' target=\"_blank\">https://wandb.ai/lrhammond-team/pvg-sandbox/runs/836gf816</a>"
      ],
      "text/plain": [
       "<IPython.core.display.HTML object>"
      ]
     },
     "metadata": {},
     "output_type": "display_data"
    }
   ],
   "source": [
    "wandb_run = wandb.init(project=WANDB_PROJECT, entity=WANDB_ENTITY, name=WANDB_RUN_NAME)"
   ]
  },
  {
   "cell_type": "code",
   "execution_count": 9,
   "metadata": {},
   "outputs": [
    {
     "data": {
      "text/plain": [
       "<Artifact QXJ0aWZhY3Q6NjkxMzY0NzU2>"
      ]
     },
     "execution_count": 9,
     "metadata": {},
     "output_type": "execute_result"
    }
   ],
   "source": [
    "artifact = wandb.Artifact(\n",
    "    name=f\"{ROLLOUT_SAMPLE_ARTIFACT_PREFIX}{WANDB_RUN_NAME}\",\n",
    "    type=ROLLOUT_SAMPLE_ARTIFACT_TYPE,\n",
    ")\n",
    "wandb_run.use_artifact(artifact)\n",
    "# artifact = wandb_run.use_artifact(artifact)\n",
    "artifact = artifact.new_draft()\n",
    "with TemporaryDirectory() as temp_dir:\n",
    "    file_path = os.path.join(temp_dir, ROLLOUT_SAMPLE_FILENAME)\n",
    "    with open(file_path, \"wb\") as f:\n",
    "        pickle.dump(rollout_samples, f)\n",
    "    artifact.add_file(file_path, f\"iteration_{ITERATION}\")\n",
    "wandb_run.use_artifact(artifact)"
   ]
  },
  {
   "cell_type": "code",
   "execution_count": 10,
   "metadata": {},
   "outputs": [
    {
     "data": {
      "text/plain": [
       "<Artifact QXJ0aWZhY3Q6NjkxMzY0Nzky>"
      ]
     },
     "execution_count": 10,
     "metadata": {},
     "output_type": "execute_result"
    }
   ],
   "source": [
    "artifact = artifact.new_draft()\n",
    "with TemporaryDirectory() as temp_dir:\n",
    "    file_path = os.path.join(temp_dir, ROLLOUT_SAMPLE_FILENAME)\n",
    "    with open(file_path, \"wb\") as f:\n",
    "        pickle.dump(rollout_samples, f)\n",
    "    artifact.add_file(file_path, f\"iteration_{ITERATION+1}\")\n",
    "wandb_run.use_artifact(artifact)"
   ]
  },
  {
   "cell_type": "code",
   "execution_count": 11,
   "metadata": {},
   "outputs": [
    {
     "name": "stderr",
     "output_type": "stream",
     "text": [
      "wandb: WARNING Source type is set to 'repo' but some required information is missing from the environment. A job will not be created from this run. See https://docs.wandb.ai/guides/launch/create-job\n"
     ]
    },
    {
     "data": {
      "application/vnd.jupyter.widget-view+json": {
       "model_id": "446781f208dd46e396ff3714689167fe",
       "version_major": 2,
       "version_minor": 0
      },
      "text/plain": [
       "VBox(children=(Label(value='0.007 MB of 0.007 MB uploaded\\r'), FloatProgress(value=1.0, max=1.0)))"
      ]
     },
     "metadata": {},
     "output_type": "display_data"
    },
    {
     "data": {
      "text/html": [
       " View run <strong style=\"color:#cdcd00\">test_7</strong> at: <a href='https://wandb.ai/lrhammond-team/pvg-sandbox/runs/836gf816' target=\"_blank\">https://wandb.ai/lrhammond-team/pvg-sandbox/runs/836gf816</a><br/>Synced 4 W&B file(s), 0 media file(s), 0 artifact file(s) and 0 other file(s)"
      ],
      "text/plain": [
       "<IPython.core.display.HTML object>"
      ]
     },
     "metadata": {},
     "output_type": "display_data"
    },
    {
     "data": {
      "text/html": [
       "Find logs at: <code>./wandb/run-20240115_191253-836gf816/logs</code>"
      ],
      "text/plain": [
       "<IPython.core.display.HTML object>"
      ]
     },
     "metadata": {},
     "output_type": "display_data"
    }
   ],
   "source": [
    "wandb_run.finish()"
   ]
  },
  {
   "cell_type": "markdown",
   "metadata": {},
   "source": [
    "## Load rollouts"
   ]
  },
  {
   "cell_type": "code",
   "execution_count": 17,
   "metadata": {},
   "outputs": [
    {
     "name": "stderr",
     "output_type": "stream",
     "text": [
      "\u001b[34m\u001b[1mwandb\u001b[0m:   2 of 2 files downloaded.  \n",
      "wandb: WARNING Source type is set to 'repo' but some required information is missing from the environment. A job will not be created from this run. See https://docs.wandb.ai/guides/launch/create-job\n"
     ]
    }
   ],
   "source": [
    "rollout_samples = GraphIsomorphismRolloutSamples(\n",
    "    run_id=WANDB_RUN_NAME, iteration=ITERATION, wandb_project=WANDB_PROJECT\n",
    ")"
   ]
  },
  {
   "cell_type": "code",
   "execution_count": 87,
   "metadata": {},
   "outputs": [
    {
     "data": {
      "application/vnd.plotly.v1+json": {
       "config": {
        "plotlyServerURL": "https://plot.ly"
       },
       "data": [
        {
         "mode": "text",
         "text": [
          "Graph A",
          "Graph B"
         ],
         "textfont": {
          "size": 20
         },
         "type": "scatter",
         "visible": true,
         "x": [
          0,
          2.2
         ],
         "y": [
          1.2,
          1.2
         ]
        },
        {
         "mode": "text",
         "text": [
          "Prover messages:",
          "Verifier messages:"
         ],
         "textposition": "middle left",
         "type": "scatter",
         "visible": true,
         "x": [
          -0.15,
          -0.15
         ],
         "y": [
          -1.3,
          -1.6
         ]
        },
        {
         "hoverinfo": "none",
         "line": {
          "color": "#888",
          "width": 0.5
         },
         "mode": "lines",
         "type": "scatter",
         "visible": true,
         "x": [
          -0.4539268556354913,
          -0.23698725406008211,
          null,
          -0.4539268556354913,
          0.32387463522475746,
          null,
          -0.6999551430996379,
          -0.1838883917178192,
          null,
          -0.6999551430996379,
          0.06968714745082515,
          null,
          -0.6999551430996379,
          -0.23698725406008211,
          null,
          0.13416973565926424,
          -0.1838883917178192,
          null,
          0.13416973565926424,
          0.41748528360065745,
          null,
          0.13416973565926424,
          0.06968714745082515,
          null,
          0.13416973565926424,
          -0.23698725406008211,
          null,
          0.13416973565926424,
          0.32387463522475746,
          null,
          0.13416973565926424,
          0.6295408425775261,
          null,
          -0.1838883917178192,
          0.41748528360065745,
          null,
          0.41748528360065745,
          -0.23698725406008211,
          null,
          0.41748528360065745,
          0.6295408425775261,
          null,
          0.06968714745082515,
          -0.23698725406008211,
          null,
          0.06968714745082515,
          0.32387463522475746,
          null,
          0.06968714745082515,
          0.6295408425775261,
          null,
          -0.23698725406008211,
          0.6295408425775261,
          null,
          0.32387463522475746,
          0.6295408425775261,
          null
         ],
         "y": [
          -0.9883074328629082,
          0.05676400428082158,
          null,
          -0.9883074328629082,
          -0.8217719278259177,
          null,
          0.4399510762903478,
          1,
          null,
          0.4399510762903478,
          -0.31890766601263876,
          null,
          0.4399510762903478,
          0.05676400428082158,
          null,
          0.08851133724778044,
          1,
          null,
          0.08851133724778044,
          0.6552633318168204,
          null,
          0.08851133724778044,
          -0.31890766601263876,
          null,
          0.08851133724778044,
          0.05676400428082158,
          null,
          0.08851133724778044,
          -0.8217719278259177,
          null,
          0.08851133724778044,
          -0.11150272293430576,
          null,
          1,
          0.6552633318168204,
          null,
          0.6552633318168204,
          0.05676400428082158,
          null,
          0.6552633318168204,
          -0.11150272293430576,
          null,
          -0.31890766601263876,
          0.05676400428082158,
          null,
          -0.31890766601263876,
          -0.8217719278259177,
          null,
          -0.31890766601263876,
          -0.11150272293430576,
          null,
          0.05676400428082158,
          -0.11150272293430576,
          null,
          -0.8217719278259177,
          -0.11150272293430576,
          null
         ]
        },
        {
         "hoverinfo": "text",
         "marker": {
          "color": [
           "#FB0D0D",
           "grey",
           "grey",
           "grey",
           "grey",
           "#2E91E5",
           "grey",
           "grey",
           "grey"
          ],
          "line": {
           "width": 0
          },
          "opacity": 1,
          "size": [
           20,
           20,
           20,
           20,
           20,
           20,
           20,
           20,
           20
          ]
         },
         "mode": "markers+text",
         "text": [
          "0",
          "1",
          "2",
          "3",
          "4",
          "5",
          "6",
          "7",
          "8"
         ],
         "textfont": {
          "color": "white"
         },
         "type": "scatter",
         "visible": true,
         "x": [
          -0.4539268556354913,
          -0.6999551430996379,
          0.13416973565926424,
          -0.1838883917178192,
          0.41748528360065745,
          0.06968714745082515,
          -0.23698725406008211,
          0.32387463522475746,
          0.6295408425775261
         ],
         "y": [
          -0.9883074328629082,
          0.4399510762903478,
          0.08851133724778044,
          1,
          0.6552633318168204,
          -0.31890766601263876,
          0.05676400428082158,
          -0.8217719278259177,
          -0.11150272293430576
         ]
        },
        {
         "hoverinfo": "none",
         "line": {
          "color": "#888",
          "width": 0.5
         },
         "mode": "lines",
         "type": "scatter",
         "visible": true,
         "x": [
          1.8098685440104054,
          1.5468171024983295,
          null,
          2.1250868534726153,
          1.7149971142022842,
          null,
          2.1250868534726153,
          1.5468171024983295,
          null,
          2.1250868534726153,
          2.655140670956741,
          null,
          1.7149971142022842,
          2.1917415043186566,
          null,
          1.7149971142022842,
          2.5592182022232097,
          null,
          1.7149971142022842,
          1.5468171024983295,
          null,
          2.1917415043186566,
          2.5592182022232097,
          null,
          2.1917415043186566,
          1.5468171024983295,
          null,
          2.1917415043186566,
          3.16377436008995,
          null,
          2.1917415043186566,
          2.03335564822781,
          null,
          2.5592182022232097,
          2.655140670956741,
          null,
          2.5592182022232097,
          3.16377436008995,
          null,
          2.5592182022232097,
          2.03335564822781,
          null,
          2.655140670956741,
          2.03335564822781,
          null
         ],
         "y": [
          -1,
          -0.06410301395802585,
          null,
          0.5868952288748864,
          0.5691338142148028,
          null,
          0.5868952288748864,
          -0.06410301395802585,
          null,
          0.5868952288748864,
          -0.23983167036837094,
          null,
          0.5691338142148028,
          0.11362103469206751,
          null,
          0.5691338142148028,
          0.23329785689021967,
          null,
          0.5691338142148028,
          -0.06410301395802585,
          null,
          0.11362103469206751,
          0.23329785689021967,
          null,
          0.11362103469206751,
          -0.06410301395802585,
          null,
          0.11362103469206751,
          0.24641171746670218,
          null,
          0.11362103469206751,
          -0.4454249678122817,
          null,
          0.23329785689021967,
          -0.23983167036837094,
          null,
          0.23329785689021967,
          0.24641171746670218,
          null,
          0.23329785689021967,
          -0.4454249678122817,
          null,
          -0.23983167036837094,
          -0.4454249678122817,
          null
         ]
        },
        {
         "hoverinfo": "text",
         "marker": {
          "color": [
           "grey",
           "grey",
           "#1CA71C",
           "#E15F99",
           "grey",
           "grey",
           "grey",
           "grey",
           "grey",
           "grey"
          ],
          "line": {
           "width": 0
          },
          "opacity": 1,
          "size": [
           20,
           20,
           30,
           20,
           20,
           20,
           20,
           20,
           20,
           20
          ]
         },
         "mode": "markers+text",
         "text": [
          "0",
          "1",
          "2",
          "2",
          "3",
          "4",
          "5",
          "6",
          "7",
          "8"
         ],
         "textfont": {
          "color": "white"
         },
         "type": "scatter",
         "visible": true,
         "x": [
          1.8098685440104054,
          2.1250868534726153,
          1.7149971142022842,
          1.7149971142022842,
          2.1917415043186566,
          2.5592182022232097,
          1.5468171024983295,
          2.655140670956741,
          3.16377436008995,
          2.03335564822781
         ],
         "y": [
          -1,
          0.5868952288748864,
          0.5691338142148028,
          0.5691338142148028,
          0.11362103469206751,
          0.23329785689021967,
          -0.06410301395802585,
          -0.23983167036837094,
          0.24641171746670218,
          -0.4454249678122817
         ]
        },
        {
         "hoverinfo": "text",
         "marker": {
          "color": [
           "#2E91E5",
           "#E15F99",
           "#1CA71C",
           "#FB0D0D"
          ],
          "line": {
           "width": 0
          },
          "opacity": 1,
          "size": 30
         },
         "mode": "markers+text",
         "text": [
          "A5",
          "B2",
          "B2",
          "A0"
         ],
         "textfont": {
          "color": "white"
         },
         "type": "scatter",
         "visible": true,
         "x": [
          0,
          0.125,
          0.25,
          0.375
         ],
         "y": [
          -1.3,
          -1.6,
          -1.3,
          -1.6
         ]
        },
        {
         "hoverinfo": "none",
         "line": {
          "color": "#888",
          "width": 0.5
         },
         "mode": "lines",
         "type": "scatter",
         "visible": false,
         "x": [
          -0.2957883626333373,
          0.6842488833491994,
          null,
          -0.2957883626333373,
          -0.24163028940150572,
          null,
          -0.2957883626333373,
          0.3828308778367622,
          null,
          -0.2957883626333373,
          -0.25816923486265153,
          null,
          -0.2957883626333373,
          -0.6673357409837194,
          null,
          -0.2957883626333373,
          0.2352849992790659,
          null,
          -0.22213273816523285,
          0.6842488833491994,
          null,
          -0.22213273816523285,
          -0.24163028940150572,
          null,
          -0.22213273816523285,
          0.38269160558141985,
          null,
          -0.22213273816523285,
          -0.6673357409837194,
          null,
          -0.22213273816523285,
          0.2352849992790659,
          null,
          0.6842488833491994,
          -0.24163028940150572,
          null,
          0.6842488833491994,
          0.38269160558141985,
          null,
          0.6842488833491994,
          0.3828308778367622,
          null,
          0.6842488833491994,
          0.2352849992790659,
          null,
          -0.24163028940150572,
          0.3828308778367622,
          null,
          -0.24163028940150572,
          -0.25816923486265153,
          null,
          -0.24163028940150572,
          -0.6673357409837194,
          null,
          -0.24163028940150572,
          0.2352849992790659,
          null,
          0.38269160558141985,
          0.3828308778367622,
          null,
          0.38269160558141985,
          -0.6673357409837194,
          null,
          0.38269160558141985,
          0.2352849992790659,
          null,
          0.3828308778367622,
          -0.25816923486265153,
          null,
          0.3828308778367622,
          -0.6673357409837194,
          null,
          0.3828308778367622,
          0.2352849992790659,
          null,
          -0.25816923486265153,
          -0.6673357409837194,
          null,
          -0.25816923486265153,
          0.2352849992790659,
          null
         ],
         "y": [
          0.5564535310182681,
          -0.24224256974862846,
          null,
          0.5564535310182681,
          0.0329517078805373,
          null,
          0.5564535310182681,
          0.4477865197592491,
          null,
          0.5564535310182681,
          1,
          null,
          0.5564535310182681,
          -0.09888944173025209,
          null,
          0.5564535310182681,
          -0.031618989996496066,
          null,
          -0.8911985961374107,
          -0.24224256974862846,
          null,
          -0.8911985961374107,
          0.0329517078805373,
          null,
          -0.8911985961374107,
          -0.7732421610452668,
          null,
          -0.8911985961374107,
          -0.09888944173025209,
          null,
          -0.8911985961374107,
          -0.031618989996496066,
          null,
          -0.24224256974862846,
          0.0329517078805373,
          null,
          -0.24224256974862846,
          -0.7732421610452668,
          null,
          -0.24224256974862846,
          0.4477865197592491,
          null,
          -0.24224256974862846,
          -0.031618989996496066,
          null,
          0.0329517078805373,
          0.4477865197592491,
          null,
          0.0329517078805373,
          1,
          null,
          0.0329517078805373,
          -0.09888944173025209,
          null,
          0.0329517078805373,
          -0.031618989996496066,
          null,
          -0.7732421610452668,
          0.4477865197592491,
          null,
          -0.7732421610452668,
          -0.09888944173025209,
          null,
          -0.7732421610452668,
          -0.031618989996496066,
          null,
          0.4477865197592491,
          1,
          null,
          0.4477865197592491,
          -0.09888944173025209,
          null,
          0.4477865197592491,
          -0.031618989996496066,
          null,
          1,
          -0.09888944173025209,
          null,
          1,
          -0.031618989996496066,
          null
         ]
        },
        {
         "hoverinfo": "text",
         "marker": {
          "color": [
           "#1CA71C",
           "grey",
           "grey",
           "grey",
           "#222A2A",
           "grey",
           "grey",
           "grey",
           "grey"
          ],
          "line": {
           "width": 0
          },
          "opacity": 1,
          "size": [
           20,
           20,
           20,
           20,
           20,
           20,
           20,
           20,
           20
          ]
         },
         "mode": "markers+text",
         "text": [
          "0",
          "1",
          "2",
          "3",
          "4",
          "5",
          "6",
          "7",
          "8"
         ],
         "textfont": {
          "color": "white"
         },
         "type": "scatter",
         "visible": false,
         "x": [
          -0.2957883626333373,
          -0.22213273816523285,
          0.6842488833491994,
          -0.24163028940150572,
          0.38269160558141985,
          0.3828308778367622,
          -0.25816923486265153,
          -0.6673357409837194,
          0.2352849992790659
         ],
         "y": [
          0.5564535310182681,
          -0.8911985961374107,
          -0.24224256974862846,
          0.0329517078805373,
          -0.7732421610452668,
          0.4477865197592491,
          1,
          -0.09888944173025209,
          -0.031618989996496066
         ]
        },
        {
         "hoverinfo": "none",
         "line": {
          "color": "#888",
          "width": 0.5
         },
         "mode": "lines",
         "type": "scatter",
         "visible": false,
         "x": [
          1.603729732499812,
          1.2901866296449023,
          null,
          1.603729732499812,
          2.742793669637866,
          null,
          1.603729732499812,
          2.2175903613435697,
          null,
          1.603729732499812,
          1.6709858800873434,
          null,
          1.603729732499812,
          2.0433457533289,
          null,
          1.603729732499812,
          2.567806925987454,
          null,
          1.2901866296449023,
          2.463561047470155,
          null,
          1.2901866296449023,
          2.2175903613435697,
          null,
          1.2901866296449023,
          1.6709858800873434,
          null,
          1.2901866296449023,
          2.0433457533289,
          null,
          2.742793669637866,
          2.463561047470155,
          null,
          2.742793669637866,
          2.2175903613435697,
          null,
          2.742793669637866,
          2.0433457533289,
          null,
          2.742793669637866,
          2.567806925987454,
          null,
          2.742793669637866,
          3.2,
          null,
          2.463561047470155,
          2.2175903613435697,
          null,
          2.463561047470155,
          1.6709858800873434,
          null,
          2.463561047470155,
          2.567806925987454,
          null,
          2.463561047470155,
          3.2,
          null,
          2.2175903613435697,
          2.0433457533289,
          null,
          2.2175903613435697,
          2.567806925987454,
          null,
          2.2175903613435697,
          3.2,
          null,
          1.6709858800873434,
          2.0433457533289,
          null,
          1.6709858800873434,
          2.567806925987454,
          null,
          2.0433457533289,
          2.567806925987454,
          null,
          2.0433457533289,
          3.2,
          null,
          2.567806925987454,
          3.2,
          null
         ],
         "y": [
          -0.4301301575182028,
          0.19948567983932405,
          null,
          -0.4301301575182028,
          -0.5977176266090757,
          null,
          -0.4301301575182028,
          -0.5030686664809871,
          null,
          -0.4301301575182028,
          0.7354859563840603,
          null,
          -0.4301301575182028,
          0.0218459508232659,
          null,
          -0.4301301575182028,
          0.07511928215673003,
          null,
          0.19948567983932405,
          0.5495539141428049,
          null,
          0.19948567983932405,
          -0.5030686664809871,
          null,
          0.19948567983932405,
          0.7354859563840603,
          null,
          0.19948567983932405,
          0.0218459508232659,
          null,
          -0.5977176266090757,
          0.5495539141428049,
          null,
          -0.5977176266090757,
          -0.5030686664809871,
          null,
          -0.5977176266090757,
          0.0218459508232659,
          null,
          -0.5977176266090757,
          0.07511928215673003,
          null,
          -0.5977176266090757,
          -0.050574332737919094,
          null,
          0.5495539141428049,
          -0.5030686664809871,
          null,
          0.5495539141428049,
          0.7354859563840603,
          null,
          0.5495539141428049,
          0.07511928215673003,
          null,
          0.5495539141428049,
          -0.050574332737919094,
          null,
          -0.5030686664809871,
          0.0218459508232659,
          null,
          -0.5030686664809871,
          0.07511928215673003,
          null,
          -0.5030686664809871,
          -0.050574332737919094,
          null,
          0.7354859563840603,
          0.0218459508232659,
          null,
          0.7354859563840603,
          0.07511928215673003,
          null,
          0.0218459508232659,
          0.07511928215673003,
          null,
          0.0218459508232659,
          -0.050574332737919094,
          null,
          0.07511928215673003,
          -0.050574332737919094,
          null
         ]
        },
        {
         "hoverinfo": "text",
         "marker": {
          "color": [
           "#FB0D0D",
           "grey",
           "grey",
           "#DA16FF",
           "grey",
           "grey",
           "grey",
           "#2E91E5",
           "grey"
          ],
          "line": {
           "width": 0
          },
          "opacity": 1,
          "size": [
           20,
           20,
           20,
           20,
           20,
           20,
           20,
           20,
           20
          ]
         },
         "mode": "markers+text",
         "text": [
          "0",
          "1",
          "2",
          "3",
          "4",
          "5",
          "6",
          "7",
          "8"
         ],
         "textfont": {
          "color": "white"
         },
         "type": "scatter",
         "visible": false,
         "x": [
          1.603729732499812,
          1.2901866296449023,
          2.742793669637866,
          2.463561047470155,
          2.2175903613435697,
          1.6709858800873434,
          2.0433457533289,
          2.567806925987454,
          3.2
         ],
         "y": [
          -0.4301301575182028,
          0.19948567983932405,
          -0.5977176266090757,
          0.5495539141428049,
          -0.5030686664809871,
          0.7354859563840603,
          0.0218459508232659,
          0.07511928215673003,
          -0.050574332737919094
         ]
        },
        {
         "hoverinfo": "text",
         "marker": {
          "color": [
           "#2E91E5",
           "#E15F99",
           "#1CA71C",
           "#FB0D0D",
           "#DA16FF",
           "#222A2A"
          ],
          "line": {
           "width": 0
          },
          "opacity": 1,
          "size": 30
         },
         "mode": "markers+text",
         "text": [
          "B7",
          "B10",
          "A0",
          "B0",
          "B3",
          "A4"
         ],
         "textfont": {
          "color": "white"
         },
         "type": "scatter",
         "visible": false,
         "x": [
          0,
          0.125,
          0.25,
          0.375,
          0.5,
          0.625
         ],
         "y": [
          -1.3,
          -1.6,
          -1.3,
          -1.6,
          -1.3,
          -1.6
         ]
        },
        {
         "hoverinfo": "none",
         "line": {
          "color": "#888",
          "width": 0.5
         },
         "mode": "lines",
         "type": "scatter",
         "visible": false,
         "x": [
          -0.7290048895524689,
          -0.42539212128766035,
          null,
          -0.7290048895524689,
          -0.19320861717684276,
          null,
          -0.7290048895524689,
          0.18472575391104565,
          null,
          -0.7290048895524689,
          -0.8804932275943366,
          null,
          -0.7290048895524689,
          0.34208721335765746,
          null,
          -0.7290048895524689,
          0.36993981172754253,
          null,
          -0.42539212128766035,
          -0.8804932275943366,
          null,
          -0.42539212128766035,
          -0.15577224570293818,
          null,
          -0.42539212128766035,
          0.34208721335765746,
          null,
          -0.42539212128766035,
          0.4871183223180012,
          null,
          -0.42539212128766035,
          1,
          null,
          -0.19320861717684276,
          0.18472575391104565,
          null,
          -0.19320861717684276,
          -0.8804932275943366,
          null,
          -0.19320861717684276,
          0.34208721335765746,
          null,
          -0.19320861717684276,
          0.36993981172754253,
          null,
          -0.19320861717684276,
          0.4871183223180012,
          null,
          0.18472575391104565,
          -0.8804932275943366,
          null,
          0.18472575391104565,
          -0.15577224570293818,
          null,
          0.18472575391104565,
          1,
          null,
          -0.8804932275943366,
          -0.15577224570293818,
          null,
          -0.15577224570293818,
          0.34208721335765746,
          null,
          -0.15577224570293818,
          0.36993981172754253,
          null,
          -0.15577224570293818,
          0.4871183223180012,
          null,
          0.34208721335765746,
          0.36993981172754253,
          null,
          0.34208721335765746,
          1,
          null,
          0.36993981172754253,
          0.4871183223180012,
          null,
          0.36993981172754253,
          1,
          null,
          0.4871183223180012,
          1,
          null
         ],
         "y": [
          0.13228918838643514,
          -0.7111641871240575,
          null,
          0.13228918838643514,
          0.40506825960188414,
          null,
          0.13228918838643514,
          0.8991461985532544,
          null,
          0.13228918838643514,
          0.6768078759979947,
          null,
          0.13228918838643514,
          -0.3375517219393121,
          null,
          0.13228918838643514,
          0.26776602168737607,
          null,
          -0.7111641871240575,
          0.6768078759979947,
          null,
          -0.7111641871240575,
          -0.29320241349491305,
          null,
          -0.7111641871240575,
          -0.3375517219393121,
          null,
          -0.7111641871240575,
          -0.8698227521084851,
          null,
          -0.7111641871240575,
          -0.16933646956017734,
          null,
          0.40506825960188414,
          0.8991461985532544,
          null,
          0.40506825960188414,
          0.6768078759979947,
          null,
          0.40506825960188414,
          -0.3375517219393121,
          null,
          0.40506825960188414,
          0.26776602168737607,
          null,
          0.40506825960188414,
          -0.8698227521084851,
          null,
          0.8991461985532544,
          0.6768078759979947,
          null,
          0.8991461985532544,
          -0.29320241349491305,
          null,
          0.8991461985532544,
          -0.16933646956017734,
          null,
          0.6768078759979947,
          -0.29320241349491305,
          null,
          -0.29320241349491305,
          -0.3375517219393121,
          null,
          -0.29320241349491305,
          0.26776602168737607,
          null,
          -0.29320241349491305,
          -0.8698227521084851,
          null,
          -0.3375517219393121,
          0.26776602168737607,
          null,
          -0.3375517219393121,
          -0.16933646956017734,
          null,
          0.26776602168737607,
          -0.8698227521084851,
          null,
          0.26776602168737607,
          -0.16933646956017734,
          null,
          -0.8698227521084851,
          -0.16933646956017734,
          null
         ]
        },
        {
         "hoverinfo": "text",
         "marker": {
          "color": [
           "#2E91E5",
           "grey",
           "grey",
           "grey",
           "grey",
           "grey",
           "grey",
           "grey",
           "grey",
           "grey"
          ],
          "line": {
           "width": 0
          },
          "opacity": 1,
          "size": [
           20,
           20,
           20,
           20,
           20,
           20,
           20,
           20,
           20,
           20
          ]
         },
         "mode": "markers+text",
         "text": [
          "0",
          "1",
          "2",
          "3",
          "4",
          "5",
          "6",
          "7",
          "8",
          "9"
         ],
         "textfont": {
          "color": "white"
         },
         "type": "scatter",
         "visible": false,
         "x": [
          -0.7290048895524689,
          -0.42539212128766035,
          -0.19320861717684276,
          0.18472575391104565,
          -0.8804932275943366,
          -0.15577224570293818,
          0.34208721335765746,
          0.36993981172754253,
          0.4871183223180012,
          1
         ],
         "y": [
          0.13228918838643514,
          -0.7111641871240575,
          0.40506825960188414,
          0.8991461985532544,
          0.6768078759979947,
          -0.29320241349491305,
          -0.3375517219393121,
          0.26776602168737607,
          -0.8698227521084851,
          -0.16933646956017734
         ]
        },
        {
         "hoverinfo": "none",
         "line": {
          "color": "#888",
          "width": 0.5
         },
         "mode": "lines",
         "type": "scatter",
         "visible": false,
         "x": [
          2.2431782400411637,
          1.8288133712062187,
          null,
          2.2431782400411637,
          1.4056558027788473,
          null,
          2.2431782400411637,
          1.6282331745892413,
          null,
          2.2431782400411637,
          2.86818130700901,
          null,
          2.2431782400411637,
          2.15639499693873,
          null,
          2.2431782400411637,
          3.005838117318449,
          null,
          2.2852539943220056,
          1.4056558027788473,
          null,
          2.2852539943220056,
          1.6282331745892413,
          null,
          2.2852539943220056,
          2.86818130700901,
          null,
          2.2852539943220056,
          2.7716353270155927,
          null,
          2.2852539943220056,
          1.8068156687807435,
          null,
          2.2852539943220056,
          3.005838117318449,
          null,
          1.8288133712062187,
          1.4056558027788473,
          null,
          1.8288133712062187,
          2.86818130700901,
          null,
          1.8288133712062187,
          2.15639499693873,
          null,
          1.8288133712062187,
          1.8068156687807435,
          null,
          1.8288133712062187,
          3.005838117318449,
          null,
          1.4056558027788473,
          1.6282331745892413,
          null,
          1.4056558027788473,
          2.15639499693873,
          null,
          1.6282331745892413,
          2.86818130700901,
          null,
          1.6282331745892413,
          2.7716353270155927,
          null,
          1.6282331745892413,
          1.8068156687807435,
          null,
          2.86818130700901,
          2.7716353270155927,
          null,
          2.86818130700901,
          3.005838117318449,
          null,
          2.7716353270155927,
          1.8068156687807435,
          null,
          2.7716353270155927,
          3.005838117318449,
          null,
          2.15639499693873,
          1.8068156687807435,
          null,
          2.15639499693873,
          3.005838117318449,
          null
         ],
         "y": [
          -0.45711674651228934,
          -0.2761104657711401,
          null,
          -0.45711674651228934,
          -0.7915848695182527,
          null,
          -0.45711674651228934,
          0.3505788338962517,
          null,
          -0.45711674651228934,
          0.2981043860539084,
          null,
          -0.45711674651228934,
          -0.9797385269045408,
          null,
          -0.45711674651228934,
          -0.3011467531883783,
          null,
          0.37811649612529535,
          -0.7915848695182527,
          null,
          0.37811649612529535,
          0.3505788338962517,
          null,
          0.37811649612529535,
          0.2981043860539084,
          null,
          0.37811649612529535,
          1,
          null,
          0.37811649612529535,
          0.7788976458191458,
          null,
          0.37811649612529535,
          -0.3011467531883783,
          null,
          -0.2761104657711401,
          -0.7915848695182527,
          null,
          -0.2761104657711401,
          0.2981043860539084,
          null,
          -0.2761104657711401,
          -0.9797385269045408,
          null,
          -0.2761104657711401,
          0.7788976458191458,
          null,
          -0.2761104657711401,
          -0.3011467531883783,
          null,
          -0.7915848695182527,
          0.3505788338962517,
          null,
          -0.7915848695182527,
          -0.9797385269045408,
          null,
          0.3505788338962517,
          0.2981043860539084,
          null,
          0.3505788338962517,
          1,
          null,
          0.3505788338962517,
          0.7788976458191458,
          null,
          0.2981043860539084,
          1,
          null,
          0.2981043860539084,
          -0.3011467531883783,
          null,
          1,
          0.7788976458191458,
          null,
          1,
          -0.3011467531883783,
          null,
          -0.9797385269045408,
          0.7788976458191458,
          null,
          -0.9797385269045408,
          -0.3011467531883783,
          null
         ]
        },
        {
         "hoverinfo": "text",
         "marker": {
          "color": [
           "grey",
           "grey",
           "grey",
           "grey",
           "grey",
           "grey",
           "grey",
           "grey",
           "grey",
           "#E15F99"
          ],
          "line": {
           "width": 0
          },
          "opacity": 1,
          "size": [
           20,
           20,
           20,
           20,
           20,
           20,
           20,
           20,
           20,
           20
          ]
         },
         "mode": "markers+text",
         "text": [
          "0",
          "1",
          "2",
          "3",
          "4",
          "5",
          "6",
          "7",
          "8",
          "9"
         ],
         "textfont": {
          "color": "white"
         },
         "type": "scatter",
         "visible": false,
         "x": [
          2.2431782400411637,
          2.2852539943220056,
          1.8288133712062187,
          1.4056558027788473,
          1.6282331745892413,
          2.86818130700901,
          2.7716353270155927,
          2.15639499693873,
          1.8068156687807435,
          3.005838117318449
         ],
         "y": [
          -0.45711674651228934,
          0.37811649612529535,
          -0.2761104657711401,
          -0.7915848695182527,
          0.3505788338962517,
          0.2981043860539084,
          1,
          -0.9797385269045408,
          0.7788976458191458,
          -0.3011467531883783
         ]
        },
        {
         "hoverinfo": "text",
         "marker": {
          "color": [
           "#2E91E5",
           "#E15F99"
          ],
          "line": {
           "width": 0
          },
          "opacity": 1,
          "size": 30
         },
         "mode": "markers+text",
         "text": [
          "A0",
          "B9"
         ],
         "textfont": {
          "color": "white"
         },
         "type": "scatter",
         "visible": false,
         "x": [
          0,
          0.125
         ],
         "y": [
          -1.3,
          -1.6
         ]
        },
        {
         "hoverinfo": "none",
         "line": {
          "color": "#888",
          "width": 0.5
         },
         "mode": "lines",
         "type": "scatter",
         "visible": false,
         "x": [
          0.6590845419157371,
          0.41374674842599635,
          null,
          0.6590845419157371,
          0.8017302070058601,
          null,
          0.41374674842599635,
          0.8017302070058601,
          null,
          0.41374674842599635,
          -0.11360774691350987,
          null,
          -0.6144265363330673,
          0.23853812262831883,
          null,
          -0.6144265363330673,
          -0.7760883419798826,
          null,
          0.8017302070058601,
          0.26568488057071843,
          null,
          0.23853812262831883,
          -0.11360774691350987,
          null,
          -0.7760883419798826,
          -1,
          null,
          0.3881938631506129,
          -0.11360774691350987,
          null,
          -1,
          -0.11360774691350987,
          null
         ],
         "y": [
          0.6688925121518375,
          0.1897153458007848,
          null,
          0.6688925121518375,
          0.37538330477299836,
          null,
          0.1897153458007848,
          0.37538330477299836,
          null,
          0.1897153458007848,
          -0.09104984935713102,
          null,
          -0.3332285974968029,
          -0.4051150341996093,
          null,
          -0.3332285974968029,
          0.35066691847650705,
          null,
          0.37538330477299836,
          0.939646580420958,
          null,
          -0.4051150341996093,
          -0.09104984935713102,
          null,
          0.35066691847650705,
          0.013269974263420675,
          null,
          -0.8350444206121274,
          -0.09104984935713102,
          null,
          0.013269974263420675,
          -0.09104984935713102,
          null
         ]
        },
        {
         "hoverinfo": "text",
         "marker": {
          "color": [
           "grey",
           "grey",
           "grey",
           "grey",
           "grey",
           "grey",
           "grey",
           "grey",
           "grey",
           "grey",
           "#E15F99"
          ],
          "line": {
           "width": 0
          },
          "opacity": 1,
          "size": [
           20,
           20,
           20,
           20,
           20,
           20,
           20,
           20,
           20,
           20,
           20
          ]
         },
         "mode": "markers+text",
         "text": [
          "0",
          "1",
          "2",
          "3",
          "4",
          "5",
          "6",
          "7",
          "8",
          "9",
          "10"
         ],
         "textfont": {
          "color": "white"
         },
         "type": "scatter",
         "visible": false,
         "x": [
          0.6590845419157371,
          0.41374674842599635,
          -0.6144265363330673,
          0.8017302070058601,
          0.23853812262831883,
          -0.7760883419798826,
          -0.2628557384707839,
          0.3881938631506129,
          -1,
          0.26568488057071843,
          -0.11360774691350987
         ],
         "y": [
          0.6688925121518375,
          0.1897153458007848,
          -0.3332285974968029,
          0.37538330477299836,
          -0.4051150341996093,
          0.35066691847650705,
          -0.8731367342208357,
          -0.8350444206121274,
          0.013269974263420675,
          0.939646580420958,
          -0.09104984935713102
         ]
        },
        {
         "hoverinfo": "none",
         "line": {
          "color": "#888",
          "width": 0.5
         },
         "mode": "lines",
         "type": "scatter",
         "visible": false,
         "x": [
          2.0233023613991765,
          1.7183420572574537,
          null,
          1.5263271389161246,
          1.5859566506762055,
          null,
          1.5263271389161246,
          1.7183420572574537,
          null,
          3.2,
          2.465799239036433,
          null,
          3.2,
          2.9067896460009246,
          null,
          2.465799239036433,
          2.5432533103854285,
          null,
          2.0538070590961732,
          2.5432533103854285,
          null,
          2.5432533103854285,
          2.9067896460009246,
          null
         ],
         "y": [
          0.8873123708893499,
          0.20296340721796186,
          null,
          0.496292092545339,
          0.8473571911569048,
          null,
          0.496292092545339,
          0.20296340721796186,
          null,
          -0.09620454718513467,
          -0.250843592372039,
          null,
          -0.09620454718513467,
          -0.03238940132876384,
          null,
          -0.250843592372039,
          -0.687727507191327,
          null,
          -0.9616217137485097,
          -0.687727507191327,
          null,
          -0.687727507191327,
          -0.03238940132876384,
          null
         ]
        },
        {
         "hoverinfo": "text",
         "marker": {
          "color": [
           "grey",
           "grey",
           "grey",
           "#1CA71C",
           "grey",
           "#2E91E5",
           "grey",
           "grey",
           "grey",
           "#FB0D0D",
           "grey"
          ],
          "line": {
           "width": 0
          },
          "opacity": 1,
          "size": [
           20,
           20,
           20,
           20,
           20,
           20,
           20,
           20,
           20,
           20,
           20
          ]
         },
         "mode": "markers+text",
         "text": [
          "0",
          "1",
          "2",
          "3",
          "4",
          "5",
          "6",
          "7",
          "8",
          "9",
          "10"
         ],
         "textfont": {
          "color": "white"
         },
         "type": "scatter",
         "visible": false,
         "x": [
          2.0233023613991765,
          1.5263271389161246,
          3.2,
          2.465799239036433,
          1.5859566506762055,
          2.0538070590961732,
          2.961501747258436,
          2.5432533103854285,
          1.7183420572574537,
          2.9067896460009246,
          1.2149207899736456
         ],
         "y": [
          0.8873123708893499,
          0.496292092545339,
          -0.09620454718513467,
          -0.250843592372039,
          0.8473571911569048,
          -0.9616217137485097,
          -0.5095769104509109,
          -0.687727507191327,
          0.20296340721796186,
          -0.03238940132876384,
          0.10443861046712942
         ]
        },
        {
         "hoverinfo": "text",
         "marker": {
          "color": [
           "#2E91E5",
           "#E15F99",
           "#1CA71C",
           "#FB0D0D"
          ],
          "line": {
           "width": 0
          },
          "opacity": 1,
          "size": 30
         },
         "mode": "markers+text",
         "text": [
          "B5",
          "A10",
          "B3",
          "B9"
         ],
         "textfont": {
          "color": "white"
         },
         "type": "scatter",
         "visible": false,
         "x": [
          0,
          0.125,
          0.25,
          0.375
         ],
         "y": [
          -1.3,
          -1.6,
          -1.3,
          -1.6
         ]
        },
        {
         "hoverinfo": "none",
         "line": {
          "color": "#888",
          "width": 0.5
         },
         "mode": "lines",
         "type": "scatter",
         "visible": false,
         "x": [
          0.028220980251412744,
          -0.1296204429446067,
          null,
          0.028220980251412744,
          -0.4328141245398025,
          null,
          0.028220980251412744,
          -0.7675754661376663,
          null,
          0.028220980251412744,
          0.3583364470473093,
          null,
          0.028220980251412744,
          0.6040215318992439,
          null,
          0.028220980251412744,
          -0.3335951638636779,
          null,
          0.028220980251412744,
          -0.1560115296484135,
          null,
          0.8290377679362011,
          -0.1296204429446067,
          null,
          0.8290377679362011,
          0.3583364470473093,
          null,
          0.8290377679362011,
          0.6040215318992439,
          null,
          0.8290377679362011,
          -0.1560115296484135,
          null,
          -0.1296204429446067,
          -0.4328141245398025,
          null,
          -0.1296204429446067,
          -0.7675754661376663,
          null,
          -0.1296204429446067,
          0.3583364470473093,
          null,
          -0.1296204429446067,
          -0.1560115296484135,
          null,
          -0.4328141245398025,
          -0.7675754661376663,
          null,
          -0.4328141245398025,
          0.6040215318992439,
          null,
          -0.4328141245398025,
          -0.3335951638636779,
          null,
          -0.4328141245398025,
          -0.1560115296484135,
          null,
          -0.7675754661376663,
          0.3583364470473093,
          null,
          -0.7675754661376663,
          0.6040215318992439,
          null,
          0.3583364470473093,
          0.6040215318992439,
          null,
          0.3583364470473093,
          -0.3335951638636779,
          null,
          0.6040215318992439,
          -0.1560115296484135,
          null,
          -0.3335951638636779,
          -0.1560115296484135,
          null
         ],
         "y": [
          0.4745937448648752,
          -0.7655236190545246,
          null,
          0.4745937448648752,
          0.2668941198347944,
          null,
          0.4745937448648752,
          0.006221667088205861,
          null,
          0.4745937448648752,
          -0.13210427036222663,
          null,
          0.4745937448648752,
          0.24658895128349553,
          null,
          0.4745937448648752,
          1,
          null,
          0.4745937448648752,
          -0.2689078411779548,
          null,
          -0.8277627524766649,
          -0.7655236190545246,
          null,
          -0.8277627524766649,
          -0.13210427036222663,
          null,
          -0.8277627524766649,
          0.24658895128349553,
          null,
          -0.8277627524766649,
          -0.2689078411779548,
          null,
          -0.7655236190545246,
          0.2668941198347944,
          null,
          -0.7655236190545246,
          0.006221667088205861,
          null,
          -0.7655236190545246,
          -0.13210427036222663,
          null,
          -0.7655236190545246,
          -0.2689078411779548,
          null,
          0.2668941198347944,
          0.006221667088205861,
          null,
          0.2668941198347944,
          0.24658895128349553,
          null,
          0.2668941198347944,
          1,
          null,
          0.2668941198347944,
          -0.2689078411779548,
          null,
          0.006221667088205861,
          -0.13210427036222663,
          null,
          0.006221667088205861,
          0.24658895128349553,
          null,
          -0.13210427036222663,
          0.24658895128349553,
          null,
          -0.13210427036222663,
          1,
          null,
          0.24658895128349553,
          -0.2689078411779548,
          null,
          1,
          -0.2689078411779548,
          null
         ]
        },
        {
         "hoverinfo": "text",
         "marker": {
          "color": [
           "grey",
           "grey",
           "grey",
           "grey",
           "grey",
           "grey",
           "grey",
           "grey",
           "grey"
          ],
          "line": {
           "width": 0
          },
          "opacity": 1,
          "size": [
           20,
           20,
           20,
           20,
           20,
           20,
           20,
           20,
           20
          ]
         },
         "mode": "markers+text",
         "text": [
          "0",
          "1",
          "2",
          "3",
          "4",
          "5",
          "6",
          "7",
          "8"
         ],
         "textfont": {
          "color": "white"
         },
         "type": "scatter",
         "visible": false,
         "x": [
          0.028220980251412744,
          0.8290377679362011,
          -0.1296204429446067,
          -0.4328141245398025,
          -0.7675754661376663,
          0.3583364470473093,
          0.6040215318992439,
          -0.3335951638636779,
          -0.1560115296484135
         ],
         "y": [
          0.4745937448648752,
          -0.8277627524766649,
          -0.7655236190545246,
          0.2668941198347944,
          0.006221667088205861,
          -0.13210427036222663,
          0.24658895128349553,
          1,
          -0.2689078411779548
         ]
        },
        {
         "hoverinfo": "none",
         "line": {
          "color": "#888",
          "width": 0.5
         },
         "mode": "lines",
         "type": "scatter",
         "visible": false,
         "x": [
          2.79654995740085,
          2.6382897202766804,
          null,
          2.79654995740085,
          2.0741879093355076,
          null,
          2.79654995740085,
          1.7635946759666554,
          null,
          2.79654995740085,
          2.2915728512631035,
          null,
          2.6382897202766804,
          3.0726649554728973,
          null,
          2.6382897202766804,
          1.7635946759666554,
          null,
          2.6382897202766804,
          1.9876105926268428,
          null,
          2.6382897202766804,
          2.2915728512631035,
          null,
          2.6382897202766804,
          1.975529337657465,
          null,
          2.0741879093355076,
          3.0726649554728973,
          null,
          2.0741879093355076,
          1.7635946759666554,
          null,
          2.0741879093355076,
          2.2915728512631035,
          null,
          2.0741879093355076,
          1.975529337657465,
          null,
          2.0741879093355076,
          1.2000000000000002,
          null,
          3.0726649554728973,
          1.9876105926268428,
          null,
          3.0726649554728973,
          1.975529337657465,
          null,
          1.7635946759666554,
          1.9876105926268428,
          null,
          1.7635946759666554,
          2.2915728512631035,
          null,
          1.7635946759666554,
          1.975529337657465,
          null,
          1.7635946759666554,
          1.2000000000000002,
          null,
          1.9876105926268428,
          2.2915728512631035,
          null,
          1.9876105926268428,
          1.975529337657465,
          null,
          1.9876105926268428,
          1.2000000000000002,
          null,
          2.2915728512631035,
          1.2000000000000002,
          null,
          1.975529337657465,
          1.2000000000000002,
          null
         ],
         "y": [
          -0.8413581010190708,
          0.349404631398639,
          null,
          -0.8413581010190708,
          -0.692502140284013,
          null,
          -0.8413581010190708,
          -0.18856681405776163,
          null,
          -0.8413581010190708,
          -0.2172442785841314,
          null,
          0.349404631398639,
          0.3609075749536325,
          null,
          0.349404631398639,
          -0.18856681405776163,
          null,
          0.349404631398639,
          0.8289523169057215,
          null,
          0.349404631398639,
          -0.2172442785841314,
          null,
          0.349404631398639,
          0.37536564450056437,
          null,
          -0.692502140284013,
          0.3609075749536325,
          null,
          -0.692502140284013,
          -0.18856681405776163,
          null,
          -0.692502140284013,
          -0.2172442785841314,
          null,
          -0.692502140284013,
          0.37536564450056437,
          null,
          -0.692502140284013,
          0.0250411661864197,
          null,
          0.3609075749536325,
          0.8289523169057215,
          null,
          0.3609075749536325,
          0.37536564450056437,
          null,
          -0.18856681405776163,
          0.8289523169057215,
          null,
          -0.18856681405776163,
          -0.2172442785841314,
          null,
          -0.18856681405776163,
          0.37536564450056437,
          null,
          -0.18856681405776163,
          0.0250411661864197,
          null,
          0.8289523169057215,
          -0.2172442785841314,
          null,
          0.8289523169057215,
          0.37536564450056437,
          null,
          0.8289523169057215,
          0.0250411661864197,
          null,
          -0.2172442785841314,
          0.0250411661864197,
          null,
          0.37536564450056437,
          0.0250411661864197,
          null
         ]
        },
        {
         "hoverinfo": "text",
         "marker": {
          "color": [
           "grey",
           "grey",
           "grey",
           "grey",
           "#E15F99",
           "#2E91E5",
           "grey",
           "grey",
           "grey"
          ],
          "line": {
           "width": 0
          },
          "opacity": 1,
          "size": [
           20,
           20,
           20,
           20,
           20,
           20,
           20,
           20,
           20
          ]
         },
         "mode": "markers+text",
         "text": [
          "0",
          "1",
          "2",
          "3",
          "4",
          "5",
          "6",
          "7",
          "8"
         ],
         "textfont": {
          "color": "white"
         },
         "type": "scatter",
         "visible": false,
         "x": [
          2.79654995740085,
          2.6382897202766804,
          2.0741879093355076,
          3.0726649554728973,
          1.7635946759666554,
          1.9876105926268428,
          2.2915728512631035,
          1.975529337657465,
          1.2000000000000002
         ],
         "y": [
          -0.8413581010190708,
          0.349404631398639,
          -0.692502140284013,
          0.3609075749536325,
          -0.18856681405776163,
          0.8289523169057215,
          -0.2172442785841314,
          0.37536564450056437,
          0.0250411661864197
         ]
        },
        {
         "hoverinfo": "text",
         "marker": {
          "color": [
           "#2E91E5",
           "#E15F99"
          ],
          "line": {
           "width": 0
          },
          "opacity": 1,
          "size": 30
         },
         "mode": "markers+text",
         "text": [
          "B5",
          "B4"
         ],
         "textfont": {
          "color": "white"
         },
         "type": "scatter",
         "visible": false,
         "x": [
          0,
          0.125
         ],
         "y": [
          -1.3,
          -1.6
         ]
        },
        {
         "hoverinfo": "none",
         "line": {
          "color": "#888",
          "width": 0.5
         },
         "mode": "lines",
         "type": "scatter",
         "visible": false,
         "x": [
          -0.26760116152096797,
          0.402687661923365,
          null,
          -0.26760116152096797,
          1,
          null,
          -0.26760116152096797,
          0.23853740477235752,
          null,
          -0.26760116152096797,
          0.14984678473308205,
          null,
          0.402687661923365,
          -0.8902558284888461,
          null,
          0.402687661923365,
          1,
          null,
          0.402687661923365,
          0.23853740477235752,
          null,
          0.402687661923365,
          -0.6332148614189904,
          null,
          -0.8902558284888461,
          0.14984678473308205,
          null,
          -0.8902558284888461,
          -0.6332148614189904,
          null,
          1,
          0.23853740477235752,
          null,
          1,
          0.14984678473308205,
          null,
          0.23853740477235752,
          -0.6332148614189904,
          null,
          0.14984678473308205,
          -0.6332148614189904,
          null
         ],
         "y": [
          -0.00435034146476154,
          -0.2463851981235549,
          null,
          -0.00435034146476154,
          0.40632083073150715,
          null,
          -0.00435034146476154,
          -0.7855561313096707,
          null,
          -0.00435034146476154,
          0.5914313835282435,
          null,
          -0.2463851981235549,
          -0.496464897484611,
          null,
          -0.2463851981235549,
          0.40632083073150715,
          null,
          -0.2463851981235549,
          -0.7855561313096707,
          null,
          -0.2463851981235549,
          0.5350043541228474,
          null,
          -0.496464897484611,
          0.5914313835282435,
          null,
          -0.496464897484611,
          0.5350043541228474,
          null,
          0.40632083073150715,
          -0.7855561313096707,
          null,
          0.40632083073150715,
          0.5914313835282435,
          null,
          -0.7855561313096707,
          0.5350043541228474,
          null,
          0.5914313835282435,
          0.5350043541228474,
          null
         ]
        },
        {
         "hoverinfo": "text",
         "marker": {
          "color": [
           "grey",
           "#2E91E5",
           "grey",
           "grey",
           "grey",
           "grey",
           "grey"
          ],
          "line": {
           "width": 0
          },
          "opacity": 1,
          "size": [
           20,
           20,
           20,
           20,
           20,
           20,
           20
          ]
         },
         "mode": "markers+text",
         "text": [
          "0",
          "1",
          "2",
          "3",
          "4",
          "5",
          "6"
         ],
         "textfont": {
          "color": "white"
         },
         "type": "scatter",
         "visible": false,
         "x": [
          -0.26760116152096797,
          0.402687661923365,
          -0.8902558284888461,
          1,
          0.23853740477235752,
          0.14984678473308205,
          -0.6332148614189904
         ],
         "y": [
          -0.00435034146476154,
          -0.2463851981235549,
          -0.496464897484611,
          0.40632083073150715,
          -0.7855561313096707,
          0.5914313835282435,
          0.5350043541228474
         ]
        },
        {
         "hoverinfo": "none",
         "line": {
          "color": "#888",
          "width": 0.5
         },
         "mode": "lines",
         "type": "scatter",
         "visible": false,
         "x": [
          1.9720728393266467,
          1.6471109533799186,
          null,
          1.9720728393266467,
          1.6889416927994683,
          null,
          1.9720728393266467,
          2.5234575222803954,
          null,
          1.9720728393266467,
          2.4801080297420635,
          null,
          1.9720728393266467,
          2.2787322050650394,
          null,
          2.809576757406469,
          1.6889416927994683,
          null,
          2.809576757406469,
          2.5234575222803954,
          null,
          2.809576757406469,
          2.4801080297420635,
          null,
          2.809576757406469,
          2.2787322050650394,
          null,
          1.6471109533799186,
          1.6889416927994683,
          null,
          1.6471109533799186,
          2.5234575222803954,
          null,
          1.6471109533799186,
          2.4801080297420635,
          null,
          1.6889416927994683,
          2.2787322050650394,
          null,
          2.5234575222803954,
          2.4801080297420635,
          null
         ],
         "y": [
          -0.0005063191466914568,
          -0.584753331302827,
          null,
          -0.0005063191466914568,
          0.4775483723774128,
          null,
          -0.0005063191466914568,
          -0.3203871237498444,
          null,
          -0.0005063191466914568,
          -0.8240386375245975,
          null,
          -0.0005063191466914568,
          1,
          null,
          0.25213703934654746,
          0.4775483723774128,
          null,
          0.25213703934654746,
          -0.3203871237498444,
          null,
          0.25213703934654746,
          -0.8240386375245975,
          null,
          0.25213703934654746,
          1,
          null,
          -0.584753331302827,
          0.4775483723774128,
          null,
          -0.584753331302827,
          -0.3203871237498444,
          null,
          -0.584753331302827,
          -0.8240386375245975,
          null,
          0.4775483723774128,
          1,
          null,
          -0.3203871237498444,
          -0.8240386375245975,
          null
         ]
        },
        {
         "hoverinfo": "text",
         "marker": {
          "color": [
           "grey",
           "grey",
           "grey",
           "grey",
           "grey",
           "#E15F99",
           "grey"
          ],
          "line": {
           "width": 0
          },
          "opacity": 1,
          "size": [
           20,
           20,
           20,
           20,
           20,
           20,
           20
          ]
         },
         "mode": "markers+text",
         "text": [
          "0",
          "1",
          "2",
          "3",
          "4",
          "5",
          "6"
         ],
         "textfont": {
          "color": "white"
         },
         "type": "scatter",
         "visible": false,
         "x": [
          1.9720728393266467,
          2.809576757406469,
          1.6471109533799186,
          1.6889416927994683,
          2.5234575222803954,
          2.4801080297420635,
          2.2787322050650394
         ],
         "y": [
          -0.0005063191466914568,
          0.25213703934654746,
          -0.584753331302827,
          0.4775483723774128,
          -0.3203871237498444,
          -0.8240386375245975,
          1
         ]
        },
        {
         "hoverinfo": "text",
         "marker": {
          "color": [
           "#2E91E5",
           "#E15F99"
          ],
          "line": {
           "width": 0
          },
          "opacity": 1,
          "size": 30
         },
         "mode": "markers+text",
         "text": [
          "A1",
          "B5"
         ],
         "textfont": {
          "color": "white"
         },
         "type": "scatter",
         "visible": false,
         "x": [
          0,
          0.125
         ],
         "y": [
          -1.3,
          -1.6
         ]
        },
        {
         "hoverinfo": "none",
         "line": {
          "color": "#888",
          "width": 0.5
         },
         "mode": "lines",
         "type": "scatter",
         "visible": false,
         "x": [
          -0.010280575359125318,
          0.9270203422415154,
          null,
          -0.010280575359125318,
          -0.798497389310331,
          null,
          -0.010280575359125318,
          -0.5339444700897865,
          null,
          -0.010280575359125318,
          0.25253421418789523,
          null,
          -0.010280575359125318,
          0.05657682383499322,
          null,
          -0.010280575359125318,
          0.6936225649654055,
          null,
          -0.010280575359125318,
          -0.21340871356261212,
          null,
          -0.010280575359125318,
          0.4432892743499257,
          null,
          0.9270203422415154,
          -0.798497389310331,
          null,
          0.9270203422415154,
          0.25253421418789523,
          null,
          0.9270203422415154,
          0.05657682383499322,
          null,
          0.9270203422415154,
          0.6936225649654055,
          null,
          0.9270203422415154,
          -0.21340871356261212,
          null,
          0.9270203422415154,
          0.4432892743499257,
          null,
          -0.798497389310331,
          -0.5339444700897865,
          null,
          -0.798497389310331,
          0.25253421418789523,
          null,
          -0.798497389310331,
          0.05657682383499322,
          null,
          -0.798497389310331,
          -0.8169120712578797,
          null,
          -0.798497389310331,
          -0.21340871356261212,
          null,
          -0.798497389310331,
          0.4432892743499257,
          null,
          -0.5339444700897865,
          0.25253421418789523,
          null,
          -0.5339444700897865,
          0.05657682383499322,
          null,
          -0.5339444700897865,
          0.6936225649654055,
          null,
          -0.5339444700897865,
          -0.8169120712578797,
          null,
          -0.5339444700897865,
          0.4432892743499257,
          null,
          0.25253421418789523,
          0.05657682383499322,
          null,
          0.25253421418789523,
          0.6936225649654055,
          null,
          0.25253421418789523,
          -0.8169120712578797,
          null,
          0.25253421418789523,
          -0.21340871356261212,
          null,
          0.25253421418789523,
          0.4432892743499257,
          null,
          0.05657682383499322,
          0.6936225649654055,
          null,
          0.05657682383499322,
          -0.8169120712578797,
          null,
          0.05657682383499322,
          -0.21340871356261212,
          null,
          0.6936225649654055,
          -0.8169120712578797,
          null,
          0.6936225649654055,
          -0.21340871356261212,
          null,
          0.6936225649654055,
          0.4432892743499257,
          null,
          -0.8169120712578797,
          -0.21340871356261212,
          null,
          -0.21340871356261212,
          0.4432892743499257,
          null
         ],
         "y": [
          -0.6795723052692738,
          -0.3066997742846411,
          null,
          -0.6795723052692738,
          -0.4504455704385703,
          null,
          -0.6795723052692738,
          -0.09848534492252728,
          null,
          -0.6795723052692738,
          -0.03188737480307051,
          null,
          -0.6795723052692738,
          0.8350633296131116,
          null,
          -0.6795723052692738,
          0.47344892125142274,
          null,
          -0.6795723052692738,
          0.3237966084113618,
          null,
          -0.6795723052692738,
          -1,
          null,
          -0.3066997742846411,
          -0.4504455704385703,
          null,
          -0.3066997742846411,
          -0.03188737480307051,
          null,
          -0.3066997742846411,
          0.8350633296131116,
          null,
          -0.3066997742846411,
          0.47344892125142274,
          null,
          -0.3066997742846411,
          0.3237966084113618,
          null,
          -0.3066997742846411,
          -1,
          null,
          -0.4504455704385703,
          -0.09848534492252728,
          null,
          -0.4504455704385703,
          -0.03188737480307051,
          null,
          -0.4504455704385703,
          0.8350633296131116,
          null,
          -0.4504455704385703,
          0.9347815104421869,
          null,
          -0.4504455704385703,
          0.3237966084113618,
          null,
          -0.4504455704385703,
          -1,
          null,
          -0.09848534492252728,
          -0.03188737480307051,
          null,
          -0.09848534492252728,
          0.8350633296131116,
          null,
          -0.09848534492252728,
          0.47344892125142274,
          null,
          -0.09848534492252728,
          0.9347815104421869,
          null,
          -0.09848534492252728,
          -1,
          null,
          -0.03188737480307051,
          0.8350633296131116,
          null,
          -0.03188737480307051,
          0.47344892125142274,
          null,
          -0.03188737480307051,
          0.9347815104421869,
          null,
          -0.03188737480307051,
          0.3237966084113618,
          null,
          -0.03188737480307051,
          -1,
          null,
          0.8350633296131116,
          0.47344892125142274,
          null,
          0.8350633296131116,
          0.9347815104421869,
          null,
          0.8350633296131116,
          0.3237966084113618,
          null,
          0.47344892125142274,
          0.9347815104421869,
          null,
          0.47344892125142274,
          0.3237966084113618,
          null,
          0.47344892125142274,
          -1,
          null,
          0.9347815104421869,
          0.3237966084113618,
          null,
          0.3237966084113618,
          -1,
          null
         ]
        },
        {
         "hoverinfo": "text",
         "marker": {
          "color": [
           "grey",
           "grey",
           "grey",
           "grey",
           "grey",
           "grey",
           "#E15F99",
           "grey",
           "grey",
           "grey"
          ],
          "line": {
           "width": 0
          },
          "opacity": 1,
          "size": [
           20,
           20,
           20,
           20,
           20,
           20,
           20,
           20,
           20,
           20
          ]
         },
         "mode": "markers+text",
         "text": [
          "0",
          "1",
          "2",
          "3",
          "4",
          "5",
          "6",
          "7",
          "8",
          "9"
         ],
         "textfont": {
          "color": "white"
         },
         "type": "scatter",
         "visible": false,
         "x": [
          -0.010280575359125318,
          0.9270203422415154,
          -0.798497389310331,
          -0.5339444700897865,
          0.25253421418789523,
          0.05657682383499322,
          0.6936225649654055,
          -0.8169120712578797,
          -0.21340871356261212,
          0.4432892743499257
         ],
         "y": [
          -0.6795723052692738,
          -0.3066997742846411,
          -0.4504455704385703,
          -0.09848534492252728,
          -0.03188737480307051,
          0.8350633296131116,
          0.47344892125142274,
          0.9347815104421869,
          0.3237966084113618,
          -1
         ]
        },
        {
         "hoverinfo": "none",
         "line": {
          "color": "#888",
          "width": 0.5
         },
         "mode": "lines",
         "type": "scatter",
         "visible": false,
         "x": [
          2.319036986556256,
          2.280396828171604,
          null,
          2.319036986556256,
          2.820357440099075,
          null,
          2.319036986556256,
          1.7534985391846205,
          null,
          2.319036986556256,
          1.7384138065574406,
          null,
          2.319036986556256,
          2.714502189201565,
          null,
          2.280396828171604,
          2.820357440099075,
          null,
          2.280396828171604,
          1.6573071866397968,
          null,
          2.280396828171604,
          1.7384138065574406,
          null,
          2.280396828171604,
          2.5146173705288923,
          null,
          2.280396828171604,
          2.134987132706612,
          null,
          2.280396828171604,
          2.714502189201565,
          null,
          2.280396828171604,
          2.06688252035414,
          null,
          2.820357440099075,
          1.7534985391846205,
          null,
          2.820357440099075,
          2.5146173705288923,
          null,
          2.820357440099075,
          2.134987132706612,
          null,
          2.820357440099075,
          2.714502189201565,
          null,
          1.6573071866397968,
          1.7534985391846205,
          null,
          1.6573071866397968,
          1.7384138065574406,
          null,
          1.6573071866397968,
          2.5146173705288923,
          null,
          1.6573071866397968,
          2.134987132706612,
          null,
          1.6573071866397968,
          2.714502189201565,
          null,
          1.6573071866397968,
          2.06688252035414,
          null,
          1.7534985391846205,
          1.7384138065574406,
          null,
          1.7534985391846205,
          2.134987132706612,
          null,
          1.7384138065574406,
          2.5146173705288923,
          null,
          1.7384138065574406,
          2.134987132706612,
          null,
          1.7384138065574406,
          2.714502189201565,
          null,
          2.5146173705288923,
          2.134987132706612,
          null,
          2.5146173705288923,
          2.06688252035414,
          null,
          2.134987132706612,
          2.06688252035414,
          null,
          2.714502189201565,
          2.06688252035414,
          null
         ],
         "y": [
          0.7824161230782252,
          -0.26943177111744787,
          null,
          0.7824161230782252,
          0.45067984414197887,
          null,
          0.7824161230782252,
          0.870693394986599,
          null,
          0.7824161230782252,
          0.21583140616551333,
          null,
          0.7824161230782252,
          -0.12639273424845468,
          null,
          -0.26943177111744787,
          0.45067984414197887,
          null,
          -0.26943177111744787,
          -0.35579054110587194,
          null,
          -0.26943177111744787,
          0.21583140616551333,
          null,
          -0.26943177111744787,
          -0.6495349395769758,
          null,
          -0.26943177111744787,
          0.08152921767643356,
          null,
          -0.26943177111744787,
          -0.12639273424845468,
          null,
          -0.26943177111744787,
          -0.9999999999999999,
          null,
          0.45067984414197887,
          0.870693394986599,
          null,
          0.45067984414197887,
          -0.6495349395769758,
          null,
          0.45067984414197887,
          0.08152921767643356,
          null,
          0.45067984414197887,
          -0.12639273424845468,
          null,
          -0.35579054110587194,
          0.870693394986599,
          null,
          -0.35579054110587194,
          0.21583140616551333,
          null,
          -0.35579054110587194,
          -0.6495349395769758,
          null,
          -0.35579054110587194,
          0.08152921767643356,
          null,
          -0.35579054110587194,
          -0.12639273424845468,
          null,
          -0.35579054110587194,
          -0.9999999999999999,
          null,
          0.870693394986599,
          0.21583140616551333,
          null,
          0.870693394986599,
          0.08152921767643356,
          null,
          0.21583140616551333,
          -0.6495349395769758,
          null,
          0.21583140616551333,
          0.08152921767643356,
          null,
          0.21583140616551333,
          -0.12639273424845468,
          null,
          -0.6495349395769758,
          0.08152921767643356,
          null,
          -0.6495349395769758,
          -0.9999999999999999,
          null,
          0.08152921767643356,
          -0.9999999999999999,
          null,
          -0.12639273424845468,
          -0.9999999999999999,
          null
         ]
        },
        {
         "hoverinfo": "text",
         "marker": {
          "color": [
           "grey",
           "grey",
           "grey",
           "grey",
           "grey",
           "grey",
           "grey",
           "grey",
           "#2E91E5",
           "grey"
          ],
          "line": {
           "width": 0
          },
          "opacity": 1,
          "size": [
           20,
           20,
           20,
           20,
           20,
           20,
           20,
           20,
           20,
           20
          ]
         },
         "mode": "markers+text",
         "text": [
          "0",
          "1",
          "2",
          "3",
          "4",
          "5",
          "6",
          "7",
          "8",
          "9"
         ],
         "textfont": {
          "color": "white"
         },
         "type": "scatter",
         "visible": false,
         "x": [
          2.319036986556256,
          2.280396828171604,
          2.820357440099075,
          1.6573071866397968,
          1.7534985391846205,
          1.7384138065574406,
          2.5146173705288923,
          2.134987132706612,
          2.714502189201565,
          2.06688252035414
         ],
         "y": [
          0.7824161230782252,
          -0.26943177111744787,
          0.45067984414197887,
          -0.35579054110587194,
          0.870693394986599,
          0.21583140616551333,
          -0.6495349395769758,
          0.08152921767643356,
          -0.12639273424845468,
          -0.9999999999999999
         ]
        },
        {
         "hoverinfo": "text",
         "marker": {
          "color": [
           "#2E91E5",
           "#E15F99"
          ],
          "line": {
           "width": 0
          },
          "opacity": 1,
          "size": 30
         },
         "mode": "markers+text",
         "text": [
          "B8",
          "A6"
         ],
         "textfont": {
          "color": "white"
         },
         "type": "scatter",
         "visible": false,
         "x": [
          0,
          0.125
         ],
         "y": [
          -1.3,
          -1.6
         ]
        },
        {
         "hoverinfo": "none",
         "line": {
          "color": "#888",
          "width": 0.5
         },
         "mode": "lines",
         "type": "scatter",
         "visible": false,
         "x": [
          1,
          0.0895022754930063,
          null,
          1,
          0.4913362385496593,
          null,
          1,
          -0.3343856138080566,
          null,
          -0.2255802056815236,
          -0.08808126208945605,
          null,
          -0.2255802056815236,
          0.0895022754930063,
          null,
          -0.2255802056815236,
          0.4913362385496593,
          null,
          -0.2255802056815236,
          -0.3343856138080566,
          null,
          -0.08808126208945605,
          -0.3343856138080566,
          null,
          -0.08808126208945605,
          -0.9327914324636294,
          null,
          0.0895022754930063,
          -0.3343856138080566,
          null,
          0.4913362385496593,
          -0.9327914324636294,
          null,
          -0.3343856138080566,
          -0.9327914324636294,
          null
         ],
         "y": [
          -0.10028154146468372,
          -0.25043158371882956,
          null,
          -0.10028154146468372,
          0.6834525185263162,
          null,
          -0.10028154146468372,
          0.021013816463003234,
          null,
          0.6563640568351194,
          -0.8089063162368232,
          null,
          0.6563640568351194,
          -0.25043158371882956,
          null,
          0.6563640568351194,
          0.6834525185263162,
          null,
          0.6563640568351194,
          0.021013816463003234,
          null,
          -0.8089063162368232,
          0.021013816463003234,
          null,
          -0.8089063162368232,
          -0.2012109504041023,
          null,
          -0.25043158371882956,
          0.021013816463003234,
          null,
          0.6834525185263162,
          -0.2012109504041023,
          null,
          0.021013816463003234,
          -0.2012109504041023,
          null
         ]
        },
        {
         "hoverinfo": "text",
         "marker": {
          "color": [
           "grey",
           "grey",
           "grey",
           "grey",
           "grey",
           "#E15F99",
           "grey"
          ],
          "line": {
           "width": 0
          },
          "opacity": 1,
          "size": [
           20,
           20,
           20,
           20,
           20,
           20,
           20
          ]
         },
         "mode": "markers+text",
         "text": [
          "0",
          "1",
          "2",
          "3",
          "4",
          "5",
          "6"
         ],
         "textfont": {
          "color": "white"
         },
         "type": "scatter",
         "visible": false,
         "x": [
          1,
          -0.2255802056815236,
          -0.08808126208945605,
          0.0895022754930063,
          0.4913362385496593,
          -0.3343856138080566,
          -0.9327914324636294
         ],
         "y": [
          -0.10028154146468372,
          0.6563640568351194,
          -0.8089063162368232,
          -0.25043158371882956,
          0.6834525185263162,
          0.021013816463003234,
          -0.2012109504041023
         ]
        },
        {
         "hoverinfo": "none",
         "line": {
          "color": "#888",
          "width": 0.5
         },
         "mode": "lines",
         "type": "scatter",
         "visible": false,
         "x": [
          2.3109210876058204,
          1.2775208446363098,
          null,
          2.3109210876058204,
          3.1563086687146464,
          null,
          2.3109210876058204,
          3.1502555788330526,
          null,
          2.3109210876058204,
          2.0590612114381748,
          null,
          1.207751797738231,
          2.2381808110337666,
          null,
          1.207751797738231,
          1.2775208446363098,
          null,
          1.207751797738231,
          2.0590612114381748,
          null,
          2.2381808110337666,
          3.1502555788330526,
          null,
          2.2381808110337666,
          2.0590612114381748,
          null,
          1.2775208446363098,
          2.0590612114381748,
          null,
          3.1563086687146464,
          3.1502555788330526,
          null,
          3.1563086687146464,
          2.0590612114381748,
          null
         ],
         "y": [
          0.6399040442610874,
          0.5870395482282481,
          null,
          0.6399040442610874,
          0.6030805137066375,
          null,
          0.6399040442610874,
          -0.27183286244648286,
          null,
          0.6399040442610874,
          -0.02655528311121188,
          null,
          -0.5316359606382779,
          -0.9999999999999999,
          null,
          -0.5316359606382779,
          0.5870395482282481,
          null,
          -0.5316359606382779,
          -0.02655528311121188,
          null,
          -0.9999999999999999,
          -0.27183286244648286,
          null,
          -0.9999999999999999,
          -0.02655528311121188,
          null,
          0.5870395482282481,
          -0.02655528311121188,
          null,
          0.6030805137066375,
          -0.27183286244648286,
          null,
          0.6030805137066375,
          -0.02655528311121188,
          null
         ]
        },
        {
         "hoverinfo": "text",
         "marker": {
          "color": [
           "grey",
           "grey",
           "grey",
           "grey",
           "grey",
           "#2E91E5",
           "grey"
          ],
          "line": {
           "width": 0
          },
          "opacity": 1,
          "size": [
           20,
           20,
           20,
           20,
           20,
           20,
           20
          ]
         },
         "mode": "markers+text",
         "text": [
          "0",
          "1",
          "2",
          "3",
          "4",
          "5",
          "6"
         ],
         "textfont": {
          "color": "white"
         },
         "type": "scatter",
         "visible": false,
         "x": [
          2.3109210876058204,
          1.207751797738231,
          2.2381808110337666,
          1.2775208446363098,
          3.1563086687146464,
          3.1502555788330526,
          2.0590612114381748
         ],
         "y": [
          0.6399040442610874,
          -0.5316359606382779,
          -0.9999999999999999,
          0.5870395482282481,
          0.6030805137066375,
          -0.27183286244648286,
          -0.02655528311121188
         ]
        },
        {
         "hoverinfo": "text",
         "marker": {
          "color": [
           "#2E91E5",
           "#E15F99"
          ],
          "line": {
           "width": 0
          },
          "opacity": 1,
          "size": 30
         },
         "mode": "markers+text",
         "text": [
          "B5",
          "A5"
         ],
         "textfont": {
          "color": "white"
         },
         "type": "scatter",
         "visible": false,
         "x": [
          0,
          0.125
         ],
         "y": [
          -1.3,
          -1.6
         ]
        },
        {
         "hoverinfo": "none",
         "line": {
          "color": "#888",
          "width": 0.5
         },
         "mode": "lines",
         "type": "scatter",
         "visible": false,
         "x": [
          -0.6841363048225357,
          -0.5962214123445518,
          null,
          -0.6841363048225357,
          0.1366260463548084,
          null,
          -0.5962214123445518,
          0.1928363086902601,
          null,
          -0.058005927114416496,
          -0.10543601913004576,
          null,
          -0.058005927114416496,
          0.1928363086902601,
          null,
          -0.10543601913004576,
          0.5915720015451419,
          null,
          0.1928363086902601,
          0.6540417902327067,
          null,
          0.5915720015451419,
          0.1366260463548084,
          null,
          0.1366260463548084,
          0.6540417902327067,
          null
         ],
         "y": [
          -0.11035534237368425,
          0.49546718320645616,
          null,
          -0.11035534237368425,
          -0.28418408426397795,
          null,
          0.49546718320645616,
          0.44229949822873205,
          null,
          0.786686696382812,
          -0.05647470428390392,
          null,
          0.786686696382812,
          0.44229949822873205,
          null,
          -0.05647470428390392,
          0.04350609086629121,
          null,
          0.44229949822873205,
          -0.31694533776272543,
          null,
          0.04350609086629121,
          -0.28418408426397795,
          null,
          -0.28418408426397795,
          -0.31694533776272543,
          null
         ]
        },
        {
         "hoverinfo": "text",
         "marker": {
          "color": [
           "grey",
           "grey",
           "grey",
           "grey",
           "grey",
           "grey",
           "grey",
           "grey",
           "grey"
          ],
          "line": {
           "width": 0
          },
          "opacity": 1,
          "size": [
           20,
           20,
           20,
           20,
           20,
           20,
           20,
           20,
           20
          ]
         },
         "mode": "markers+text",
         "text": [
          "0",
          "1",
          "2",
          "3",
          "4",
          "5",
          "6",
          "7",
          "8"
         ],
         "textfont": {
          "color": "white"
         },
         "type": "scatter",
         "visible": false,
         "x": [
          -0.6841363048225357,
          -0.5962214123445518,
          -0.058005927114416496,
          -0.10543601913004576,
          0.1928363086902601,
          0.5915720015451419,
          0.1366260463548084,
          0.6540417902327067,
          -0.1312764834113672
         ],
         "y": [
          -0.11035534237368425,
          0.49546718320645616,
          0.786686696382812,
          -0.05647470428390392,
          0.44229949822873205,
          0.04350609086629121,
          -0.28418408426397795,
          -0.31694533776272543,
          -0.9999999999999999
         ]
        },
        {
         "hoverinfo": "none",
         "line": {
          "color": "#888",
          "width": 0.5
         },
         "mode": "lines",
         "type": "scatter",
         "visible": false,
         "x": [
          1.7942988084014588,
          2.2489428401057805,
          null,
          2.2489428401057805,
          2.6819181828171548,
          null,
          2.2489428401057805,
          1.7236539066920706,
          null,
          2.2489428401057805,
          2.906579830795043,
          null
         ],
         "y": [
          0.4086047191932816,
          -0.13559811359711632,
          null,
          -0.13559811359711632,
          -0.5201103958482903,
          null,
          -0.13559811359711632,
          -0.5207664942663383,
          null,
          -0.13559811359711632,
          -0.08620951176376444,
          null
         ]
        },
        {
         "hoverinfo": "text",
         "marker": {
          "color": [
           "grey",
           "#2E91E5",
           "grey",
           "grey",
           "grey",
           "grey",
           "grey",
           "#E15F99",
           "grey"
          ],
          "line": {
           "width": 0
          },
          "opacity": 1,
          "size": [
           20,
           20,
           20,
           20,
           20,
           20,
           20,
           20,
           20
          ]
         },
         "mode": "markers+text",
         "text": [
          "0",
          "1",
          "2",
          "3",
          "4",
          "5",
          "6",
          "7",
          "8"
         ],
         "textfont": {
          "color": "white"
         },
         "type": "scatter",
         "visible": false,
         "x": [
          1.7942988084014588,
          1.3792628334262889,
          2.7315987405833417,
          2.2489428401057805,
          2.6819181828171548,
          1.7236539066920706,
          2.182946334389835,
          2.906579830795043,
          2.1507985227890285
         ],
         "y": [
          0.4086047191932816,
          0.05533630631569669,
          0.5596950984357327,
          -0.13559811359711632,
          -0.5201103958482903,
          -0.5207664942663383,
          -0.7609516084692017,
          -0.08620951176376444,
          1
         ]
        },
        {
         "hoverinfo": "text",
         "marker": {
          "color": [
           "#2E91E5",
           "#E15F99"
          ],
          "line": {
           "width": 0
          },
          "opacity": 1,
          "size": 30
         },
         "mode": "markers+text",
         "text": [
          "B1",
          "B7"
         ],
         "textfont": {
          "color": "white"
         },
         "type": "scatter",
         "visible": false,
         "x": [
          0,
          0.125
         ],
         "y": [
          -1.3,
          -1.6
         ]
        },
        {
         "hoverinfo": "none",
         "line": {
          "color": "#888",
          "width": 0.5
         },
         "mode": "lines",
         "type": "scatter",
         "visible": false,
         "x": [
          0.82334347343206,
          -0.055479691897738236,
          null,
          0.82334347343206,
          0.6518318323726172,
          null,
          0.82334347343206,
          -0.6178426431696616,
          null,
          0.82334347343206,
          0.22612174477338823,
          null,
          0.82334347343206,
          0.6164125117724664,
          null,
          0.82334347343206,
          -0.017869830209095112,
          null,
          0.82334347343206,
          -0.06835945774235606,
          null,
          -0.055479691897738236,
          -0.6178426431696616,
          null,
          -0.055479691897738236,
          -0.5815095314764541,
          null,
          -0.055479691897738236,
          -0.9766484078552267,
          null,
          -0.055479691897738236,
          0.6164125117724664,
          null,
          -0.055479691897738236,
          -0.017869830209095112,
          null,
          0.6518318323726172,
          -0.5815095314764541,
          null,
          0.6518318323726172,
          -0.9766484078552267,
          null,
          0.6518318323726172,
          0.22612174477338823,
          null,
          0.6518318323726172,
          0.6164125117724664,
          null,
          0.6518318323726172,
          -0.017869830209095112,
          null,
          0.6518318323726172,
          -0.06835945774235606,
          null,
          -0.6178426431696616,
          -0.5815095314764541,
          null,
          -0.6178426431696616,
          -0.9766484078552267,
          null,
          -0.6178426431696616,
          0.22612174477338823,
          null,
          -0.6178426431696616,
          -0.017869830209095112,
          null,
          -0.6178426431696616,
          -0.06835945774235606,
          null,
          -0.5815095314764541,
          -0.9766484078552267,
          null,
          -0.5815095314764541,
          0.22612174477338823,
          null,
          -0.5815095314764541,
          0.6164125117724664,
          null,
          -0.5815095314764541,
          -0.017869830209095112,
          null,
          -0.5815095314764541,
          -0.06835945774235606,
          null,
          -0.9766484078552267,
          0.22612174477338823,
          null,
          -0.9766484078552267,
          -0.06835945774235606,
          null,
          0.22612174477338823,
          0.6164125117724664,
          null,
          0.22612174477338823,
          -0.017869830209095112,
          null,
          0.22612174477338823,
          -0.06835945774235606,
          null,
          0.6164125117724664,
          -0.017869830209095112,
          null,
          -0.017869830209095112,
          -0.06835945774235606,
          null
         ],
         "y": [
          -0.4641568349468907,
          0.7413297988509226,
          null,
          -0.4641568349468907,
          0.19699698257702114,
          null,
          -0.4641568349468907,
          -0.6306901374839355,
          null,
          -0.4641568349468907,
          -0.3204779598926476,
          null,
          -0.4641568349468907,
          1,
          null,
          -0.4641568349468907,
          0.1035967372515817,
          null,
          -0.4641568349468907,
          -0.9585071537880764,
          null,
          0.7413297988509226,
          -0.6306901374839355,
          null,
          0.7413297988509226,
          0.4344099427021308,
          null,
          0.7413297988509226,
          -0.10250137527010603,
          null,
          0.7413297988509226,
          1,
          null,
          0.7413297988509226,
          0.1035967372515817,
          null,
          0.19699698257702114,
          0.4344099427021308,
          null,
          0.19699698257702114,
          -0.10250137527010603,
          null,
          0.19699698257702114,
          -0.3204779598926476,
          null,
          0.19699698257702114,
          1,
          null,
          0.19699698257702114,
          0.1035967372515817,
          null,
          0.19699698257702114,
          -0.9585071537880764,
          null,
          -0.6306901374839355,
          0.4344099427021308,
          null,
          -0.6306901374839355,
          -0.10250137527010603,
          null,
          -0.6306901374839355,
          -0.3204779598926476,
          null,
          -0.6306901374839355,
          0.1035967372515817,
          null,
          -0.6306901374839355,
          -0.9585071537880764,
          null,
          0.4344099427021308,
          -0.10250137527010603,
          null,
          0.4344099427021308,
          -0.3204779598926476,
          null,
          0.4344099427021308,
          1,
          null,
          0.4344099427021308,
          0.1035967372515817,
          null,
          0.4344099427021308,
          -0.9585071537880764,
          null,
          -0.10250137527010603,
          -0.3204779598926476,
          null,
          -0.10250137527010603,
          -0.9585071537880764,
          null,
          -0.3204779598926476,
          1,
          null,
          -0.3204779598926476,
          0.1035967372515817,
          null,
          -0.3204779598926476,
          -0.9585071537880764,
          null,
          1,
          0.1035967372515817,
          null,
          0.1035967372515817,
          -0.9585071537880764,
          null
         ]
        },
        {
         "hoverinfo": "text",
         "marker": {
          "color": [
           "grey",
           "grey",
           "grey",
           "grey",
           "grey",
           "grey",
           "grey",
           "#E15F99",
           "grey",
           "grey"
          ],
          "line": {
           "width": 0
          },
          "opacity": 1,
          "size": [
           20,
           20,
           20,
           20,
           20,
           20,
           20,
           20,
           20,
           20
          ]
         },
         "mode": "markers+text",
         "text": [
          "0",
          "1",
          "2",
          "3",
          "4",
          "5",
          "6",
          "7",
          "8",
          "9"
         ],
         "textfont": {
          "color": "white"
         },
         "type": "scatter",
         "visible": false,
         "x": [
          0.82334347343206,
          -0.055479691897738236,
          0.6518318323726172,
          -0.6178426431696616,
          -0.5815095314764541,
          -0.9766484078552267,
          0.22612174477338823,
          0.6164125117724664,
          -0.017869830209095112,
          -0.06835945774235606
         ],
         "y": [
          -0.4641568349468907,
          0.7413297988509226,
          0.19699698257702114,
          -0.6306901374839355,
          0.4344099427021308,
          -0.10250137527010603,
          -0.3204779598926476,
          1,
          0.1035967372515817,
          -0.9585071537880764
         ]
        },
        {
         "hoverinfo": "none",
         "line": {
          "color": "#888",
          "width": 0.5
         },
         "mode": "lines",
         "type": "scatter",
         "visible": false,
         "x": [
          2.2053278563810204,
          3.12018601294874,
          null,
          2.2053278563810204,
          2.940881788160828,
          null,
          2.2053278563810204,
          1.9399230954598319,
          null,
          2.2053278563810204,
          1.6133023950995105,
          null,
          2.2053278563810204,
          1.3771886493887866,
          null,
          2.2053278563810204,
          2.676486933945207,
          null,
          2.2053278563810204,
          2.485051371274173,
          null,
          1.4999428782810458,
          2.940881788160828,
          null,
          1.4999428782810458,
          2.1417090190608588,
          null,
          1.4999428782810458,
          1.9399230954598319,
          null,
          1.4999428782810458,
          1.6133023950995105,
          null,
          1.4999428782810458,
          1.3771886493887866,
          null,
          1.4999428782810458,
          2.676486933945207,
          null,
          3.12018601294874,
          2.940881788160828,
          null,
          3.12018601294874,
          1.9399230954598319,
          null,
          3.12018601294874,
          1.3771886493887866,
          null,
          3.12018601294874,
          2.676486933945207,
          null,
          3.12018601294874,
          2.485051371274173,
          null,
          2.940881788160828,
          2.1417090190608588,
          null,
          2.940881788160828,
          1.6133023950995105,
          null,
          2.940881788160828,
          2.676486933945207,
          null,
          2.1417090190608588,
          1.9399230954598319,
          null,
          2.1417090190608588,
          1.6133023950995105,
          null,
          2.1417090190608588,
          1.3771886493887866,
          null,
          2.1417090190608588,
          2.676486933945207,
          null,
          2.1417090190608588,
          2.485051371274173,
          null,
          1.9399230954598319,
          1.6133023950995105,
          null,
          1.9399230954598319,
          1.3771886493887866,
          null,
          1.9399230954598319,
          2.676486933945207,
          null,
          1.9399230954598319,
          2.485051371274173,
          null,
          1.6133023950995105,
          1.3771886493887866,
          null,
          1.6133023950995105,
          2.676486933945207,
          null,
          1.6133023950995105,
          2.485051371274173,
          null,
          1.3771886493887866,
          2.485051371274173,
          null,
          2.676486933945207,
          2.485051371274173,
          null
         ],
         "y": [
          -0.9996453677542906,
          -0.7223622005774883,
          null,
          -0.9996453677542906,
          0.6551627279433743,
          null,
          -0.9996453677542906,
          -0.19843301284872045,
          null,
          -0.9996453677542906,
          0.27451661370761465,
          null,
          -0.9996453677542906,
          -0.4540947396789466,
          null,
          -0.9996453677542906,
          0.16233834472025616,
          null,
          -0.9996453677542906,
          -0.5535238142764966,
          null,
          1,
          0.6551627279433743,
          null,
          1,
          0.8360414487646985,
          null,
          1,
          -0.19843301284872045,
          null,
          1,
          0.27451661370761465,
          null,
          1,
          -0.4540947396789466,
          null,
          1,
          0.16233834472025616,
          null,
          -0.7223622005774883,
          0.6551627279433743,
          null,
          -0.7223622005774883,
          -0.19843301284872045,
          null,
          -0.7223622005774883,
          -0.4540947396789466,
          null,
          -0.7223622005774883,
          0.16233834472025616,
          null,
          -0.7223622005774883,
          -0.5535238142764966,
          null,
          0.6551627279433743,
          0.8360414487646985,
          null,
          0.6551627279433743,
          0.27451661370761465,
          null,
          0.6551627279433743,
          0.16233834472025616,
          null,
          0.8360414487646985,
          -0.19843301284872045,
          null,
          0.8360414487646985,
          0.27451661370761465,
          null,
          0.8360414487646985,
          -0.4540947396789466,
          null,
          0.8360414487646985,
          0.16233834472025616,
          null,
          0.8360414487646985,
          -0.5535238142764966,
          null,
          -0.19843301284872045,
          0.27451661370761465,
          null,
          -0.19843301284872045,
          -0.4540947396789466,
          null,
          -0.19843301284872045,
          0.16233834472025616,
          null,
          -0.19843301284872045,
          -0.5535238142764966,
          null,
          0.27451661370761465,
          -0.4540947396789466,
          null,
          0.27451661370761465,
          0.16233834472025616,
          null,
          0.27451661370761465,
          -0.5535238142764966,
          null,
          -0.4540947396789466,
          -0.5535238142764966,
          null,
          0.16233834472025616,
          -0.5535238142764966,
          null
         ]
        },
        {
         "hoverinfo": "text",
         "marker": {
          "color": [
           "grey",
           "grey",
           "grey",
           "grey",
           "grey",
           "grey",
           "grey",
           "grey",
           "grey",
           "#2E91E5"
          ],
          "line": {
           "width": 0
          },
          "opacity": 1,
          "size": [
           20,
           20,
           20,
           20,
           20,
           20,
           20,
           20,
           20,
           20
          ]
         },
         "mode": "markers+text",
         "text": [
          "0",
          "1",
          "2",
          "3",
          "4",
          "5",
          "6",
          "7",
          "8",
          "9"
         ],
         "textfont": {
          "color": "white"
         },
         "type": "scatter",
         "visible": false,
         "x": [
          2.2053278563810204,
          1.4999428782810458,
          3.12018601294874,
          2.940881788160828,
          2.1417090190608588,
          1.9399230954598319,
          1.6133023950995105,
          1.3771886493887866,
          2.676486933945207,
          2.485051371274173
         ],
         "y": [
          -0.9996453677542906,
          1,
          -0.7223622005774883,
          0.6551627279433743,
          0.8360414487646985,
          -0.19843301284872045,
          0.27451661370761465,
          -0.4540947396789466,
          0.16233834472025616,
          -0.5535238142764966
         ]
        },
        {
         "hoverinfo": "text",
         "marker": {
          "color": [
           "#2E91E5",
           "#E15F99"
          ],
          "line": {
           "width": 0
          },
          "opacity": 1,
          "size": 30
         },
         "mode": "markers+text",
         "text": [
          "B9",
          "A7"
         ],
         "textfont": {
          "color": "white"
         },
         "type": "scatter",
         "visible": false,
         "x": [
          0,
          0.125
         ],
         "y": [
          -1.3,
          -1.6
         ]
        }
       ],
       "layout": {
        "hovermode": "closest",
        "margin": {
         "b": 5,
         "l": 5,
         "r": 5,
         "t": 50
        },
        "showlegend": false,
        "template": {
         "data": {
          "bar": [
           {
            "error_x": {
             "color": "#2a3f5f"
            },
            "error_y": {
             "color": "#2a3f5f"
            },
            "marker": {
             "line": {
              "color": "#E5ECF6",
              "width": 0.5
             },
             "pattern": {
              "fillmode": "overlay",
              "size": 10,
              "solidity": 0.2
             }
            },
            "type": "bar"
           }
          ],
          "barpolar": [
           {
            "marker": {
             "line": {
              "color": "#E5ECF6",
              "width": 0.5
             },
             "pattern": {
              "fillmode": "overlay",
              "size": 10,
              "solidity": 0.2
             }
            },
            "type": "barpolar"
           }
          ],
          "carpet": [
           {
            "aaxis": {
             "endlinecolor": "#2a3f5f",
             "gridcolor": "white",
             "linecolor": "white",
             "minorgridcolor": "white",
             "startlinecolor": "#2a3f5f"
            },
            "baxis": {
             "endlinecolor": "#2a3f5f",
             "gridcolor": "white",
             "linecolor": "white",
             "minorgridcolor": "white",
             "startlinecolor": "#2a3f5f"
            },
            "type": "carpet"
           }
          ],
          "choropleth": [
           {
            "colorbar": {
             "outlinewidth": 0,
             "ticks": ""
            },
            "type": "choropleth"
           }
          ],
          "contour": [
           {
            "colorbar": {
             "outlinewidth": 0,
             "ticks": ""
            },
            "colorscale": [
             [
              0,
              "#0d0887"
             ],
             [
              0.1111111111111111,
              "#46039f"
             ],
             [
              0.2222222222222222,
              "#7201a8"
             ],
             [
              0.3333333333333333,
              "#9c179e"
             ],
             [
              0.4444444444444444,
              "#bd3786"
             ],
             [
              0.5555555555555556,
              "#d8576b"
             ],
             [
              0.6666666666666666,
              "#ed7953"
             ],
             [
              0.7777777777777778,
              "#fb9f3a"
             ],
             [
              0.8888888888888888,
              "#fdca26"
             ],
             [
              1,
              "#f0f921"
             ]
            ],
            "type": "contour"
           }
          ],
          "contourcarpet": [
           {
            "colorbar": {
             "outlinewidth": 0,
             "ticks": ""
            },
            "type": "contourcarpet"
           }
          ],
          "heatmap": [
           {
            "colorbar": {
             "outlinewidth": 0,
             "ticks": ""
            },
            "colorscale": [
             [
              0,
              "#0d0887"
             ],
             [
              0.1111111111111111,
              "#46039f"
             ],
             [
              0.2222222222222222,
              "#7201a8"
             ],
             [
              0.3333333333333333,
              "#9c179e"
             ],
             [
              0.4444444444444444,
              "#bd3786"
             ],
             [
              0.5555555555555556,
              "#d8576b"
             ],
             [
              0.6666666666666666,
              "#ed7953"
             ],
             [
              0.7777777777777778,
              "#fb9f3a"
             ],
             [
              0.8888888888888888,
              "#fdca26"
             ],
             [
              1,
              "#f0f921"
             ]
            ],
            "type": "heatmap"
           }
          ],
          "heatmapgl": [
           {
            "colorbar": {
             "outlinewidth": 0,
             "ticks": ""
            },
            "colorscale": [
             [
              0,
              "#0d0887"
             ],
             [
              0.1111111111111111,
              "#46039f"
             ],
             [
              0.2222222222222222,
              "#7201a8"
             ],
             [
              0.3333333333333333,
              "#9c179e"
             ],
             [
              0.4444444444444444,
              "#bd3786"
             ],
             [
              0.5555555555555556,
              "#d8576b"
             ],
             [
              0.6666666666666666,
              "#ed7953"
             ],
             [
              0.7777777777777778,
              "#fb9f3a"
             ],
             [
              0.8888888888888888,
              "#fdca26"
             ],
             [
              1,
              "#f0f921"
             ]
            ],
            "type": "heatmapgl"
           }
          ],
          "histogram": [
           {
            "marker": {
             "pattern": {
              "fillmode": "overlay",
              "size": 10,
              "solidity": 0.2
             }
            },
            "type": "histogram"
           }
          ],
          "histogram2d": [
           {
            "colorbar": {
             "outlinewidth": 0,
             "ticks": ""
            },
            "colorscale": [
             [
              0,
              "#0d0887"
             ],
             [
              0.1111111111111111,
              "#46039f"
             ],
             [
              0.2222222222222222,
              "#7201a8"
             ],
             [
              0.3333333333333333,
              "#9c179e"
             ],
             [
              0.4444444444444444,
              "#bd3786"
             ],
             [
              0.5555555555555556,
              "#d8576b"
             ],
             [
              0.6666666666666666,
              "#ed7953"
             ],
             [
              0.7777777777777778,
              "#fb9f3a"
             ],
             [
              0.8888888888888888,
              "#fdca26"
             ],
             [
              1,
              "#f0f921"
             ]
            ],
            "type": "histogram2d"
           }
          ],
          "histogram2dcontour": [
           {
            "colorbar": {
             "outlinewidth": 0,
             "ticks": ""
            },
            "colorscale": [
             [
              0,
              "#0d0887"
             ],
             [
              0.1111111111111111,
              "#46039f"
             ],
             [
              0.2222222222222222,
              "#7201a8"
             ],
             [
              0.3333333333333333,
              "#9c179e"
             ],
             [
              0.4444444444444444,
              "#bd3786"
             ],
             [
              0.5555555555555556,
              "#d8576b"
             ],
             [
              0.6666666666666666,
              "#ed7953"
             ],
             [
              0.7777777777777778,
              "#fb9f3a"
             ],
             [
              0.8888888888888888,
              "#fdca26"
             ],
             [
              1,
              "#f0f921"
             ]
            ],
            "type": "histogram2dcontour"
           }
          ],
          "mesh3d": [
           {
            "colorbar": {
             "outlinewidth": 0,
             "ticks": ""
            },
            "type": "mesh3d"
           }
          ],
          "parcoords": [
           {
            "line": {
             "colorbar": {
              "outlinewidth": 0,
              "ticks": ""
             }
            },
            "type": "parcoords"
           }
          ],
          "pie": [
           {
            "automargin": true,
            "type": "pie"
           }
          ],
          "scatter": [
           {
            "fillpattern": {
             "fillmode": "overlay",
             "size": 10,
             "solidity": 0.2
            },
            "type": "scatter"
           }
          ],
          "scatter3d": [
           {
            "line": {
             "colorbar": {
              "outlinewidth": 0,
              "ticks": ""
             }
            },
            "marker": {
             "colorbar": {
              "outlinewidth": 0,
              "ticks": ""
             }
            },
            "type": "scatter3d"
           }
          ],
          "scattercarpet": [
           {
            "marker": {
             "colorbar": {
              "outlinewidth": 0,
              "ticks": ""
             }
            },
            "type": "scattercarpet"
           }
          ],
          "scattergeo": [
           {
            "marker": {
             "colorbar": {
              "outlinewidth": 0,
              "ticks": ""
             }
            },
            "type": "scattergeo"
           }
          ],
          "scattergl": [
           {
            "marker": {
             "colorbar": {
              "outlinewidth": 0,
              "ticks": ""
             }
            },
            "type": "scattergl"
           }
          ],
          "scattermapbox": [
           {
            "marker": {
             "colorbar": {
              "outlinewidth": 0,
              "ticks": ""
             }
            },
            "type": "scattermapbox"
           }
          ],
          "scatterpolar": [
           {
            "marker": {
             "colorbar": {
              "outlinewidth": 0,
              "ticks": ""
             }
            },
            "type": "scatterpolar"
           }
          ],
          "scatterpolargl": [
           {
            "marker": {
             "colorbar": {
              "outlinewidth": 0,
              "ticks": ""
             }
            },
            "type": "scatterpolargl"
           }
          ],
          "scatterternary": [
           {
            "marker": {
             "colorbar": {
              "outlinewidth": 0,
              "ticks": ""
             }
            },
            "type": "scatterternary"
           }
          ],
          "surface": [
           {
            "colorbar": {
             "outlinewidth": 0,
             "ticks": ""
            },
            "colorscale": [
             [
              0,
              "#0d0887"
             ],
             [
              0.1111111111111111,
              "#46039f"
             ],
             [
              0.2222222222222222,
              "#7201a8"
             ],
             [
              0.3333333333333333,
              "#9c179e"
             ],
             [
              0.4444444444444444,
              "#bd3786"
             ],
             [
              0.5555555555555556,
              "#d8576b"
             ],
             [
              0.6666666666666666,
              "#ed7953"
             ],
             [
              0.7777777777777778,
              "#fb9f3a"
             ],
             [
              0.8888888888888888,
              "#fdca26"
             ],
             [
              1,
              "#f0f921"
             ]
            ],
            "type": "surface"
           }
          ],
          "table": [
           {
            "cells": {
             "fill": {
              "color": "#EBF0F8"
             },
             "line": {
              "color": "white"
             }
            },
            "header": {
             "fill": {
              "color": "#C8D4E3"
             },
             "line": {
              "color": "white"
             }
            },
            "type": "table"
           }
          ]
         },
         "layout": {
          "annotationdefaults": {
           "arrowcolor": "#2a3f5f",
           "arrowhead": 0,
           "arrowwidth": 1
          },
          "autotypenumbers": "strict",
          "coloraxis": {
           "colorbar": {
            "outlinewidth": 0,
            "ticks": ""
           }
          },
          "colorscale": {
           "diverging": [
            [
             0,
             "#8e0152"
            ],
            [
             0.1,
             "#c51b7d"
            ],
            [
             0.2,
             "#de77ae"
            ],
            [
             0.3,
             "#f1b6da"
            ],
            [
             0.4,
             "#fde0ef"
            ],
            [
             0.5,
             "#f7f7f7"
            ],
            [
             0.6,
             "#e6f5d0"
            ],
            [
             0.7,
             "#b8e186"
            ],
            [
             0.8,
             "#7fbc41"
            ],
            [
             0.9,
             "#4d9221"
            ],
            [
             1,
             "#276419"
            ]
           ],
           "sequential": [
            [
             0,
             "#0d0887"
            ],
            [
             0.1111111111111111,
             "#46039f"
            ],
            [
             0.2222222222222222,
             "#7201a8"
            ],
            [
             0.3333333333333333,
             "#9c179e"
            ],
            [
             0.4444444444444444,
             "#bd3786"
            ],
            [
             0.5555555555555556,
             "#d8576b"
            ],
            [
             0.6666666666666666,
             "#ed7953"
            ],
            [
             0.7777777777777778,
             "#fb9f3a"
            ],
            [
             0.8888888888888888,
             "#fdca26"
            ],
            [
             1,
             "#f0f921"
            ]
           ],
           "sequentialminus": [
            [
             0,
             "#0d0887"
            ],
            [
             0.1111111111111111,
             "#46039f"
            ],
            [
             0.2222222222222222,
             "#7201a8"
            ],
            [
             0.3333333333333333,
             "#9c179e"
            ],
            [
             0.4444444444444444,
             "#bd3786"
            ],
            [
             0.5555555555555556,
             "#d8576b"
            ],
            [
             0.6666666666666666,
             "#ed7953"
            ],
            [
             0.7777777777777778,
             "#fb9f3a"
            ],
            [
             0.8888888888888888,
             "#fdca26"
            ],
            [
             1,
             "#f0f921"
            ]
           ]
          },
          "colorway": [
           "#636efa",
           "#EF553B",
           "#00cc96",
           "#ab63fa",
           "#FFA15A",
           "#19d3f3",
           "#FF6692",
           "#B6E880",
           "#FF97FF",
           "#FECB52"
          ],
          "font": {
           "color": "#2a3f5f"
          },
          "geo": {
           "bgcolor": "white",
           "lakecolor": "white",
           "landcolor": "#E5ECF6",
           "showlakes": true,
           "showland": true,
           "subunitcolor": "white"
          },
          "hoverlabel": {
           "align": "left"
          },
          "hovermode": "closest",
          "mapbox": {
           "style": "light"
          },
          "paper_bgcolor": "white",
          "plot_bgcolor": "#E5ECF6",
          "polar": {
           "angularaxis": {
            "gridcolor": "white",
            "linecolor": "white",
            "ticks": ""
           },
           "bgcolor": "#E5ECF6",
           "radialaxis": {
            "gridcolor": "white",
            "linecolor": "white",
            "ticks": ""
           }
          },
          "scene": {
           "xaxis": {
            "backgroundcolor": "#E5ECF6",
            "gridcolor": "white",
            "gridwidth": 2,
            "linecolor": "white",
            "showbackground": true,
            "ticks": "",
            "zerolinecolor": "white"
           },
           "yaxis": {
            "backgroundcolor": "#E5ECF6",
            "gridcolor": "white",
            "gridwidth": 2,
            "linecolor": "white",
            "showbackground": true,
            "ticks": "",
            "zerolinecolor": "white"
           },
           "zaxis": {
            "backgroundcolor": "#E5ECF6",
            "gridcolor": "white",
            "gridwidth": 2,
            "linecolor": "white",
            "showbackground": true,
            "ticks": "",
            "zerolinecolor": "white"
           }
          },
          "shapedefaults": {
           "line": {
            "color": "#2a3f5f"
           }
          },
          "ternary": {
           "aaxis": {
            "gridcolor": "white",
            "linecolor": "white",
            "ticks": ""
           },
           "baxis": {
            "gridcolor": "white",
            "linecolor": "white",
            "ticks": ""
           },
           "bgcolor": "#E5ECF6",
           "caxis": {
            "gridcolor": "white",
            "linecolor": "white",
            "ticks": ""
           }
          },
          "title": {
           "x": 0.05
          },
          "xaxis": {
           "automargin": true,
           "gridcolor": "white",
           "linecolor": "white",
           "ticks": "",
           "title": {
            "standoff": 15
           },
           "zerolinecolor": "white",
           "zerolinewidth": 2
          },
          "yaxis": {
           "automargin": true,
           "gridcolor": "white",
           "linecolor": "white",
           "ticks": "",
           "title": {
            "standoff": 15
           },
           "zerolinecolor": "white",
           "zerolinewidth": 2
          }
         }
        },
        "title": {
         "text": "Prover-Verifier messages"
        },
        "updatemenus": [
         {
          "active": 0,
          "buttons": [
           {
            "args": [
             {
              "visible": [
               true,
               true,
               true,
               true,
               true,
               true,
               true,
               false,
               false,
               false,
               false,
               false,
               false,
               false,
               false,
               false,
               false,
               false,
               false,
               false,
               false,
               false,
               false,
               false,
               false,
               false,
               false,
               false,
               false,
               false,
               false,
               false,
               false,
               false,
               false,
               false,
               false,
               false,
               false,
               false,
               false,
               false,
               false,
               false,
               false,
               false,
               false,
               false,
               false,
               false,
               false,
               false
              ]
             }
            ],
            "label": "Batch item 0",
            "method": "update"
           },
           {
            "args": [
             {
              "visible": [
               true,
               true,
               false,
               false,
               false,
               false,
               false,
               true,
               true,
               true,
               true,
               true,
               false,
               false,
               false,
               false,
               false,
               false,
               false,
               false,
               false,
               false,
               false,
               false,
               false,
               false,
               false,
               false,
               false,
               false,
               false,
               false,
               false,
               false,
               false,
               false,
               false,
               false,
               false,
               false,
               false,
               false,
               false,
               false,
               false,
               false,
               false,
               false,
               false,
               false,
               false,
               false
              ]
             }
            ],
            "label": "Batch item 1",
            "method": "update"
           },
           {
            "args": [
             {
              "visible": [
               true,
               true,
               false,
               false,
               false,
               false,
               false,
               false,
               false,
               false,
               false,
               false,
               true,
               true,
               true,
               true,
               true,
               false,
               false,
               false,
               false,
               false,
               false,
               false,
               false,
               false,
               false,
               false,
               false,
               false,
               false,
               false,
               false,
               false,
               false,
               false,
               false,
               false,
               false,
               false,
               false,
               false,
               false,
               false,
               false,
               false,
               false,
               false,
               false,
               false,
               false,
               false
              ]
             }
            ],
            "label": "Batch item 2",
            "method": "update"
           },
           {
            "args": [
             {
              "visible": [
               true,
               true,
               false,
               false,
               false,
               false,
               false,
               false,
               false,
               false,
               false,
               false,
               false,
               false,
               false,
               false,
               false,
               true,
               true,
               true,
               true,
               true,
               false,
               false,
               false,
               false,
               false,
               false,
               false,
               false,
               false,
               false,
               false,
               false,
               false,
               false,
               false,
               false,
               false,
               false,
               false,
               false,
               false,
               false,
               false,
               false,
               false,
               false,
               false,
               false,
               false,
               false
              ]
             }
            ],
            "label": "Batch item 3",
            "method": "update"
           },
           {
            "args": [
             {
              "visible": [
               true,
               true,
               false,
               false,
               false,
               false,
               false,
               false,
               false,
               false,
               false,
               false,
               false,
               false,
               false,
               false,
               false,
               false,
               false,
               false,
               false,
               false,
               true,
               true,
               true,
               true,
               true,
               false,
               false,
               false,
               false,
               false,
               false,
               false,
               false,
               false,
               false,
               false,
               false,
               false,
               false,
               false,
               false,
               false,
               false,
               false,
               false,
               false,
               false,
               false,
               false,
               false
              ]
             }
            ],
            "label": "Batch item 4",
            "method": "update"
           },
           {
            "args": [
             {
              "visible": [
               true,
               true,
               false,
               false,
               false,
               false,
               false,
               false,
               false,
               false,
               false,
               false,
               false,
               false,
               false,
               false,
               false,
               false,
               false,
               false,
               false,
               false,
               false,
               false,
               false,
               false,
               false,
               true,
               true,
               true,
               true,
               true,
               false,
               false,
               false,
               false,
               false,
               false,
               false,
               false,
               false,
               false,
               false,
               false,
               false,
               false,
               false,
               false,
               false,
               false,
               false,
               false
              ]
             }
            ],
            "label": "Batch item 5",
            "method": "update"
           },
           {
            "args": [
             {
              "visible": [
               true,
               true,
               false,
               false,
               false,
               false,
               false,
               false,
               false,
               false,
               false,
               false,
               false,
               false,
               false,
               false,
               false,
               false,
               false,
               false,
               false,
               false,
               false,
               false,
               false,
               false,
               false,
               false,
               false,
               false,
               false,
               false,
               true,
               true,
               true,
               true,
               true,
               false,
               false,
               false,
               false,
               false,
               false,
               false,
               false,
               false,
               false,
               false,
               false,
               false,
               false,
               false
              ]
             }
            ],
            "label": "Batch item 6",
            "method": "update"
           },
           {
            "args": [
             {
              "visible": [
               true,
               true,
               false,
               false,
               false,
               false,
               false,
               false,
               false,
               false,
               false,
               false,
               false,
               false,
               false,
               false,
               false,
               false,
               false,
               false,
               false,
               false,
               false,
               false,
               false,
               false,
               false,
               false,
               false,
               false,
               false,
               false,
               false,
               false,
               false,
               false,
               false,
               true,
               true,
               true,
               true,
               true,
               false,
               false,
               false,
               false,
               false,
               false,
               false,
               false,
               false,
               false
              ]
             }
            ],
            "label": "Batch item 7",
            "method": "update"
           },
           {
            "args": [
             {
              "visible": [
               true,
               true,
               false,
               false,
               false,
               false,
               false,
               false,
               false,
               false,
               false,
               false,
               false,
               false,
               false,
               false,
               false,
               false,
               false,
               false,
               false,
               false,
               false,
               false,
               false,
               false,
               false,
               false,
               false,
               false,
               false,
               false,
               false,
               false,
               false,
               false,
               false,
               false,
               false,
               false,
               false,
               false,
               true,
               true,
               true,
               true,
               true,
               false,
               false,
               false,
               false,
               false
              ]
             }
            ],
            "label": "Batch item 8",
            "method": "update"
           },
           {
            "args": [
             {
              "visible": [
               true,
               true,
               false,
               false,
               false,
               false,
               false,
               false,
               false,
               false,
               false,
               false,
               false,
               false,
               false,
               false,
               false,
               false,
               false,
               false,
               false,
               false,
               false,
               false,
               false,
               false,
               false,
               false,
               false,
               false,
               false,
               false,
               false,
               false,
               false,
               false,
               false,
               false,
               false,
               false,
               false,
               false,
               false,
               false,
               false,
               false,
               false,
               true,
               true,
               true,
               true,
               true
              ]
             }
            ],
            "label": "Batch item 9",
            "method": "update"
           }
          ],
          "showactive": true
         }
        ],
        "xaxis": {
         "showgrid": false,
         "showticklabels": false,
         "zeroline": false
        },
        "yaxis": {
         "showgrid": false,
         "showticklabels": false,
         "zeroline": false
        }
       }
      }
     },
     "metadata": {},
     "output_type": "display_data"
    }
   ],
   "source": [
    "rollout_samples.visualise()"
   ]
  }
 ],
 "metadata": {
  "kernelspec": {
   "display_name": "pvg-experiments",
   "language": "python",
   "name": "python3"
  },
  "language_info": {
   "codemirror_mode": {
    "name": "ipython",
    "version": 3
   },
   "file_extension": ".py",
   "mimetype": "text/x-python",
   "name": "python",
   "nbconvert_exporter": "python",
   "pygments_lexer": "ipython3",
   "version": "3.11.6"
  }
 },
 "nbformat": 4,
 "nbformat_minor": 2
}
