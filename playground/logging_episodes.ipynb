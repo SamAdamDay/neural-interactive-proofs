{
 "cells": [
  {
   "cell_type": "markdown",
   "metadata": {},
   "source": [
    "# Logging example episodes from runs"
   ]
  },
  {
   "cell_type": "markdown",
   "metadata": {},
   "source": [
    "## Setup"
   ]
  },
  {
   "cell_type": "code",
   "execution_count": 1,
   "metadata": {},
   "outputs": [],
   "source": [
    "FORCE_CPU = True\n",
    "\n",
    "SEED = 349287\n",
    "\n",
    "SAMPLE_SUB_DATA = \"data/sample_collect.pkl\"\n",
    "\n",
    "NUM_ROLLOUTS_TO_SELECT = 10\n",
    "\n",
    "WANDB_PROJECT = \"pvg-sandbox\"\n",
    "WANDB_RUN_NAME = \"test_11\"\n",
    "\n",
    "ITERATION = 0"
   ]
  },
  {
   "cell_type": "code",
   "execution_count": 2,
   "metadata": {},
   "outputs": [],
   "source": [
    "from tempfile import TemporaryDirectory\n",
    "import os\n",
    "import pickle\n",
    "\n",
    "import numpy as np\n",
    "\n",
    "import torch\n",
    "\n",
    "from tensordict import TensorDict, TensorDictBase\n",
    "\n",
    "import wandb\n",
    "\n",
    "from tqdm import tqdm\n",
    "\n",
    "from pvg import Parameters, ScenarioType, TrainerType\n",
    "from pvg.constants import (\n",
    "    WANDB_ENTITY,\n",
    "    ROLLOUT_SAMPLE_ARTIFACT_PREFIX,\n",
    "    ROLLOUT_SAMPLE_ARTIFACT_TYPE,\n",
    "    ROLLOUT_SAMPLE_FILENAME,\n",
    ")\n",
    "from pvg.graph_isomorphism import GraphIsomorphismRolloutSamples"
   ]
  },
  {
   "cell_type": "code",
   "execution_count": 3,
   "metadata": {},
   "outputs": [],
   "source": [
    "torch.manual_seed(SEED)\n",
    "torch_generator = torch.Generator().manual_seed(SEED)"
   ]
  },
  {
   "cell_type": "code",
   "execution_count": 4,
   "metadata": {},
   "outputs": [
    {
     "name": "stdout",
     "output_type": "stream",
     "text": [
      "cpu\n"
     ]
    }
   ],
   "source": [
    "if not FORCE_CPU and torch.cuda.is_available():\n",
    "    device = torch.device(\"cuda\")\n",
    "else:\n",
    "    device = torch.device(\"cpu\")\n",
    "print(device)"
   ]
  },
  {
   "cell_type": "code",
   "execution_count": 5,
   "metadata": {},
   "outputs": [],
   "source": [
    "params = Parameters(\n",
    "    scenario=ScenarioType.GRAPH_ISOMORPHISM,\n",
    "    trainer=TrainerType.SOLO_AGENT,\n",
    "    dataset=\"test\",\n",
    ")"
   ]
  },
  {
   "cell_type": "markdown",
   "metadata": {},
   "source": [
    "## Load sample sub_data"
   ]
  },
  {
   "cell_type": "code",
   "execution_count": 6,
   "metadata": {},
   "outputs": [
    {
     "data": {
      "text/plain": [
       "TensorDict(\n",
       "    fields={\n",
       "        adjacency: Tensor(shape=torch.Size([125, 8, 2, 11, 11]), device=cpu, dtype=torch.int32, is_shared=False),\n",
       "        agents: TensorDict(\n",
       "            fields={\n",
       "                decision: Tensor(shape=torch.Size([125, 8, 2]), device=cpu, dtype=torch.int64, is_shared=False),\n",
       "                decision_logits: Tensor(shape=torch.Size([125, 8, 2, 3]), device=cpu, dtype=torch.float32, is_shared=False),\n",
       "                graph_level_repr: Tensor(shape=torch.Size([125, 8, 2, 2, 16]), device=cpu, dtype=torch.float32, is_shared=False),\n",
       "                node_level_repr: Tensor(shape=torch.Size([125, 8, 2, 2, 11, 16]), device=cpu, dtype=torch.float32, is_shared=False),\n",
       "                node_selected: Tensor(shape=torch.Size([125, 8, 2]), device=cpu, dtype=torch.int64, is_shared=False),\n",
       "                node_selected_logits: Tensor(shape=torch.Size([125, 8, 2, 22]), device=cpu, dtype=torch.float32, is_shared=False),\n",
       "                sample_log_prob: Tensor(shape=torch.Size([125, 8, 2]), device=cpu, dtype=torch.float32, is_shared=False)},\n",
       "            batch_size=torch.Size([125, 8]),\n",
       "            device=cpu,\n",
       "            is_shared=False),\n",
       "        collector: TensorDict(\n",
       "            fields={\n",
       "                traj_ids: Tensor(shape=torch.Size([125, 8]), device=cpu, dtype=torch.int64, is_shared=False)},\n",
       "            batch_size=torch.Size([125, 8]),\n",
       "            device=cpu,\n",
       "            is_shared=False),\n",
       "        done: Tensor(shape=torch.Size([125, 8]), device=cpu, dtype=torch.bool, is_shared=False),\n",
       "        message: Tensor(shape=torch.Size([125, 8]), device=cpu, dtype=torch.int64, is_shared=False),\n",
       "        next: TensorDict(\n",
       "            fields={\n",
       "                adjacency: Tensor(shape=torch.Size([125, 8, 2, 11, 11]), device=cpu, dtype=torch.int32, is_shared=False),\n",
       "                agents: TensorDict(\n",
       "                    fields={\n",
       "                        done: Tensor(shape=torch.Size([125, 8, 2]), device=cpu, dtype=torch.bool, is_shared=False),\n",
       "                        reward: Tensor(shape=torch.Size([125, 8, 2]), device=cpu, dtype=torch.float32, is_shared=False),\n",
       "                        terminated: Tensor(shape=torch.Size([125, 8, 2]), device=cpu, dtype=torch.bool, is_shared=False)},\n",
       "                    batch_size=torch.Size([125, 8]),\n",
       "                    device=cpu,\n",
       "                    is_shared=False),\n",
       "                done: Tensor(shape=torch.Size([125, 8]), device=cpu, dtype=torch.bool, is_shared=False),\n",
       "                message: Tensor(shape=torch.Size([125, 8]), device=cpu, dtype=torch.int64, is_shared=False),\n",
       "                node_mask: Tensor(shape=torch.Size([125, 8, 2, 11]), device=cpu, dtype=torch.bool, is_shared=False),\n",
       "                round: Tensor(shape=torch.Size([125, 8]), device=cpu, dtype=torch.int32, is_shared=False),\n",
       "                terminated: Tensor(shape=torch.Size([125, 8]), device=cpu, dtype=torch.bool, is_shared=False),\n",
       "                x: Tensor(shape=torch.Size([125, 8, 2, 11, 8]), device=cpu, dtype=torch.float32, is_shared=False)},\n",
       "            batch_size=torch.Size([125, 8]),\n",
       "            device=cpu,\n",
       "            is_shared=False),\n",
       "        node_mask: Tensor(shape=torch.Size([125, 8, 2, 11]), device=cpu, dtype=torch.bool, is_shared=False),\n",
       "        round: Tensor(shape=torch.Size([125, 8]), device=cpu, dtype=torch.int32, is_shared=False),\n",
       "        terminated: Tensor(shape=torch.Size([125, 8]), device=cpu, dtype=torch.bool, is_shared=False),\n",
       "        x: Tensor(shape=torch.Size([125, 8, 2, 11, 8]), device=cpu, dtype=torch.float32, is_shared=False),\n",
       "        y: Tensor(shape=torch.Size([125, 8, 1]), device=cpu, dtype=torch.int64, is_shared=False)},\n",
       "    batch_size=torch.Size([125, 8]),\n",
       "    device=cpu,\n",
       "    is_shared=False)"
      ]
     },
     "execution_count": 6,
     "metadata": {},
     "output_type": "execute_result"
    }
   ],
   "source": [
    "sample_sub_data: TensorDict = torch.load(SAMPLE_SUB_DATA, map_location=device)\n",
    "sample_sub_data = sample_sub_data.to(device)\n",
    "sample_sub_data"
   ]
  },
  {
   "cell_type": "markdown",
   "metadata": {},
   "source": [
    "## Select some rollouts"
   ]
  },
  {
   "cell_type": "code",
   "execution_count": 7,
   "metadata": {},
   "outputs": [],
   "source": [
    "def to_numpy_dict(data: TensorDictBase | dict) -> dict:\n",
    "    if isinstance(data, TensorDictBase):\n",
    "        data = data.to_dict()\n",
    "    for key, value in data.items():\n",
    "        if isinstance(value, torch.Tensor):\n",
    "            data[key] = value.detach().cpu().numpy()\n",
    "        else:\n",
    "            data[key] = to_numpy_dict(value)\n",
    "    return data"
   ]
  },
  {
   "cell_type": "code",
   "execution_count": 8,
   "metadata": {},
   "outputs": [],
   "source": [
    "bids = torch.where(\n",
    "    sample_sub_data[\"next\", \"done\"],\n",
    "    torch.rand_like(sample_sub_data[\"next\", \"done\"], dtype=torch.float32) + 1,\n",
    "    0.0,\n",
    ")\n",
    "_, index_flat = torch.topk(bids.flatten(), NUM_ROLLOUTS_TO_SELECT)\n",
    "batch_ids, episode_ids = np.unravel_index(index_flat.numpy(), bids.shape)\n",
    "\n",
    "rollout_samples: list[TensorDict] = []\n",
    "\n",
    "for batch_id, episode_id in zip(batch_ids.flat, episode_ids.flat):\n",
    "    # Determine the start of the episode\n",
    "    episode_start_id = episode_id - 1\n",
    "    while (\n",
    "        episode_start_id >= 0\n",
    "        and not sample_sub_data[\"next\", \"done\"][batch_id, episode_start_id]\n",
    "    ):\n",
    "        episode_start_id -= 1\n",
    "    episode_start_id += 1\n",
    "    rollout_td = sample_sub_data[batch_id, episode_start_id : episode_id + 1]\n",
    "    rollout_samples.append(to_numpy_dict(rollout_td))"
   ]
  },
  {
   "cell_type": "markdown",
   "metadata": {},
   "source": [
    "## Save to Weights and Biases"
   ]
  },
  {
   "cell_type": "code",
   "execution_count": 9,
   "metadata": {},
   "outputs": [
    {
     "name": "stderr",
     "output_type": "stream",
     "text": [
      "Failed to detect the name of this notebook, you can set it manually with the WANDB_NOTEBOOK_NAME environment variable to enable code saving.\n",
      "\u001b[34m\u001b[1mwandb\u001b[0m: Currently logged in as: \u001b[33msamadamday\u001b[0m (\u001b[33mlrhammond-team\u001b[0m). Use \u001b[1m`wandb login --relogin`\u001b[0m to force relogin\n"
     ]
    },
    {
     "data": {
      "text/html": [
       "wandb version 0.16.2 is available!  To upgrade, please run:\n",
       " $ pip install wandb --upgrade"
      ],
      "text/plain": [
       "<IPython.core.display.HTML object>"
      ]
     },
     "metadata": {},
     "output_type": "display_data"
    },
    {
     "data": {
      "text/html": [
       "Tracking run with wandb version 0.16.1"
      ],
      "text/plain": [
       "<IPython.core.display.HTML object>"
      ]
     },
     "metadata": {},
     "output_type": "display_data"
    },
    {
     "data": {
      "text/html": [
       "Run data is saved locally in <code>/home/sam/Code/Projects/PVG Experiments/playground/wandb/run-20240116_192709-test_11</code>"
      ],
      "text/plain": [
       "<IPython.core.display.HTML object>"
      ]
     },
     "metadata": {},
     "output_type": "display_data"
    },
    {
     "data": {
      "text/html": [
       "Syncing run <strong><a href='https://wandb.ai/lrhammond-team/pvg-sandbox/runs/test_11' target=\"_blank\">test_11</a></strong> to <a href='https://wandb.ai/lrhammond-team/pvg-sandbox' target=\"_blank\">Weights & Biases</a> (<a href='https://wandb.me/run' target=\"_blank\">docs</a>)<br/>"
      ],
      "text/plain": [
       "<IPython.core.display.HTML object>"
      ]
     },
     "metadata": {},
     "output_type": "display_data"
    },
    {
     "data": {
      "text/html": [
       " View project at <a href='https://wandb.ai/lrhammond-team/pvg-sandbox' target=\"_blank\">https://wandb.ai/lrhammond-team/pvg-sandbox</a>"
      ],
      "text/plain": [
       "<IPython.core.display.HTML object>"
      ]
     },
     "metadata": {},
     "output_type": "display_data"
    },
    {
     "data": {
      "text/html": [
       " View run at <a href='https://wandb.ai/lrhammond-team/pvg-sandbox/runs/test_11' target=\"_blank\">https://wandb.ai/lrhammond-team/pvg-sandbox/runs/test_11</a>"
      ],
      "text/plain": [
       "<IPython.core.display.HTML object>"
      ]
     },
     "metadata": {},
     "output_type": "display_data"
    }
   ],
   "source": [
    "wandb_run = wandb.init(\n",
    "    project=WANDB_PROJECT, entity=WANDB_ENTITY, name=WANDB_RUN_NAME, id=WANDB_RUN_NAME\n",
    ")\n",
    "wandb_run.config.update(params.to_dict())"
   ]
  },
  {
   "cell_type": "code",
   "execution_count": 10,
   "metadata": {},
   "outputs": [
    {
     "data": {
      "text/plain": [
       "<Artifact QXJ0aWZhY3Q6NjkyNzczODIy>"
      ]
     },
     "execution_count": 10,
     "metadata": {},
     "output_type": "execute_result"
    }
   ],
   "source": [
    "artifact = wandb.Artifact(\n",
    "    name=f\"{ROLLOUT_SAMPLE_ARTIFACT_PREFIX}{WANDB_RUN_NAME}\",\n",
    "    type=ROLLOUT_SAMPLE_ARTIFACT_TYPE,\n",
    ")\n",
    "wandb_run.use_artifact(artifact)\n",
    "# artifact = wandb_run.use_artifact(artifact)\n",
    "artifact = artifact.new_draft()\n",
    "with TemporaryDirectory() as temp_dir:\n",
    "    file_path = os.path.join(temp_dir, ROLLOUT_SAMPLE_FILENAME)\n",
    "    with open(file_path, \"wb\") as f:\n",
    "        pickle.dump(rollout_samples, f)\n",
    "    artifact.add_file(file_path, f\"iteration_{ITERATION}\")\n",
    "wandb_run.use_artifact(artifact)"
   ]
  },
  {
   "cell_type": "code",
   "execution_count": 11,
   "metadata": {},
   "outputs": [
    {
     "data": {
      "text/plain": [
       "<Artifact QXJ0aWZhY3Q6NjkyNzczODc4>"
      ]
     },
     "execution_count": 11,
     "metadata": {},
     "output_type": "execute_result"
    }
   ],
   "source": [
    "artifact = artifact.new_draft()\n",
    "with TemporaryDirectory() as temp_dir:\n",
    "    file_path = os.path.join(temp_dir, ROLLOUT_SAMPLE_FILENAME)\n",
    "    with open(file_path, \"wb\") as f:\n",
    "        pickle.dump(rollout_samples, f)\n",
    "    artifact.add_file(file_path, f\"iteration_{ITERATION+1}\")\n",
    "wandb_run.use_artifact(artifact)"
   ]
  },
  {
   "cell_type": "code",
   "execution_count": 12,
   "metadata": {},
   "outputs": [
    {
     "name": "stderr",
     "output_type": "stream",
     "text": [
      "wandb: WARNING Source type is set to 'repo' but some required information is missing from the environment. A job will not be created from this run. See https://docs.wandb.ai/guides/launch/create-job\n"
     ]
    },
    {
     "data": {
      "application/vnd.jupyter.widget-view+json": {
       "model_id": "5c8f030e6e174c599606adb48391177b",
       "version_major": 2,
       "version_minor": 0
      },
      "text/plain": [
       "VBox(children=(Label(value='0.383 MB of 0.388 MB uploaded (0.190 MB deduped)\\r'), FloatProgress(value=0.986559…"
      ]
     },
     "metadata": {},
     "output_type": "display_data"
    },
    {
     "data": {
      "text/html": [
       "W&B sync reduced upload amount by 48.9%             "
      ],
      "text/plain": [
       "<IPython.core.display.HTML object>"
      ]
     },
     "metadata": {},
     "output_type": "display_data"
    },
    {
     "data": {
      "text/html": [
       " View run <strong style=\"color:#cdcd00\">test_11</strong> at: <a href='https://wandb.ai/lrhammond-team/pvg-sandbox/runs/test_11' target=\"_blank\">https://wandb.ai/lrhammond-team/pvg-sandbox/runs/test_11</a><br/>Synced 4 W&B file(s), 0 media file(s), 2 artifact file(s) and 0 other file(s)"
      ],
      "text/plain": [
       "<IPython.core.display.HTML object>"
      ]
     },
     "metadata": {},
     "output_type": "display_data"
    },
    {
     "data": {
      "text/html": [
       "Find logs at: <code>./wandb/run-20240116_192709-test_11/logs</code>"
      ],
      "text/plain": [
       "<IPython.core.display.HTML object>"
      ]
     },
     "metadata": {},
     "output_type": "display_data"
    }
   ],
   "source": [
    "wandb_run.finish()"
   ]
  },
  {
   "cell_type": "markdown",
   "metadata": {},
   "source": [
    "## Load and visualise rollouts"
   ]
  },
  {
   "cell_type": "code",
   "execution_count": 13,
   "metadata": {},
   "outputs": [
    {
     "data": {
      "application/vnd.jupyter.widget-view+json": {
       "model_id": "4f6d83f450314f44bae5661580748ff9",
       "version_major": 2,
       "version_minor": 0
      },
      "text/plain": [
       "VBox(children=(Label(value='Waiting for wandb.init()...\\r'), FloatProgress(value=0.011112277844222262, max=1.0…"
      ]
     },
     "metadata": {},
     "output_type": "display_data"
    },
    {
     "data": {
      "text/html": [
       "wandb version 0.16.2 is available!  To upgrade, please run:\n",
       " $ pip install wandb --upgrade"
      ],
      "text/plain": [
       "<IPython.core.display.HTML object>"
      ]
     },
     "metadata": {},
     "output_type": "display_data"
    },
    {
     "data": {
      "text/html": [
       "Tracking run with wandb version 0.16.1"
      ],
      "text/plain": [
       "<IPython.core.display.HTML object>"
      ]
     },
     "metadata": {},
     "output_type": "display_data"
    },
    {
     "data": {
      "text/html": [
       "Run data is saved locally in <code>/home/sam/Code/Projects/PVG Experiments/playground/wandb/run-20240116_192721-test_11</code>"
      ],
      "text/plain": [
       "<IPython.core.display.HTML object>"
      ]
     },
     "metadata": {},
     "output_type": "display_data"
    },
    {
     "data": {
      "text/html": [
       "Resuming run <strong><a href='https://wandb.ai/lrhammond-team/pvg-sandbox/runs/test_11' target=\"_blank\">test_11</a></strong> to <a href='https://wandb.ai/lrhammond-team/pvg-sandbox' target=\"_blank\">Weights & Biases</a> (<a href='https://wandb.me/run' target=\"_blank\">docs</a>)<br/>"
      ],
      "text/plain": [
       "<IPython.core.display.HTML object>"
      ]
     },
     "metadata": {},
     "output_type": "display_data"
    },
    {
     "data": {
      "text/html": [
       " View project at <a href='https://wandb.ai/lrhammond-team/pvg-sandbox' target=\"_blank\">https://wandb.ai/lrhammond-team/pvg-sandbox</a>"
      ],
      "text/plain": [
       "<IPython.core.display.HTML object>"
      ]
     },
     "metadata": {},
     "output_type": "display_data"
    },
    {
     "data": {
      "text/html": [
       " View run at <a href='https://wandb.ai/lrhammond-team/pvg-sandbox/runs/test_11' target=\"_blank\">https://wandb.ai/lrhammond-team/pvg-sandbox/runs/test_11</a>"
      ],
      "text/plain": [
       "<IPython.core.display.HTML object>"
      ]
     },
     "metadata": {},
     "output_type": "display_data"
    },
    {
     "name": "stderr",
     "output_type": "stream",
     "text": [
      "\u001b[34m\u001b[1mwandb\u001b[0m:   2 of 2 files downloaded.  \n"
     ]
    },
    {
     "data": {
      "application/vnd.plotly.v1+json": {
       "config": {
        "plotlyServerURL": "https://plot.ly"
       },
       "data": [
        {
         "mode": "text",
         "text": [
          "Graph A",
          "Graph B"
         ],
         "textfont": {
          "size": 20
         },
         "type": "scatter",
         "visible": true,
         "x": [
          0,
          2.2
         ],
         "y": [
          1.2,
          1.2
         ]
        },
        {
         "mode": "text",
         "text": [
          "Prover messages:",
          "Verifier messages:"
         ],
         "textposition": "middle left",
         "type": "scatter",
         "visible": true,
         "x": [
          -0.15,
          -0.15
         ],
         "y": [
          -1.3,
          -1.6
         ]
        },
        {
         "hoverinfo": "none",
         "line": {
          "color": "#888",
          "width": 0.5
         },
         "mode": "lines",
         "type": "scatter",
         "visible": true,
         "x": [
          0.5014480646130957,
          -0.1419743187824064,
          null,
          0.5014480646130957,
          0.7314831841489208,
          null,
          -0.07722685009110916,
          -0.8037436732279925,
          null,
          -0.07722685009110916,
          0.4592217264196164,
          null,
          -0.07722685009110916,
          -0.1419743187824064,
          null,
          -0.1298733398483113,
          -0.8037436732279925,
          null,
          -0.1298733398483113,
          -0.7233709661416293,
          null,
          -0.1298733398483113,
          0.4592217264196164,
          null,
          -0.1298733398483113,
          -0.1419743187824064,
          null,
          -0.1298733398483113,
          0.7314831841489208,
          null,
          -0.1298733398483113,
          0.18403617290981544,
          null,
          -0.8037436732279925,
          -0.7233709661416293,
          null,
          -0.7233709661416293,
          -0.1419743187824064,
          null,
          -0.7233709661416293,
          0.18403617290981544,
          null,
          0.4592217264196164,
          -0.1419743187824064,
          null,
          0.4592217264196164,
          0.7314831841489208,
          null,
          0.4592217264196164,
          0.18403617290981544,
          null,
          -0.1419743187824064,
          0.18403617290981544,
          null,
          0.7314831841489208,
          0.18403617290981544,
          null
         ],
         "y": [
          1,
          0.28426108937655253,
          null,
          1,
          0.2664859131126318,
          null,
          -0.695528703915916,
          -0.6924557503278552,
          null,
          -0.695528703915916,
          -0.2821782396365333,
          null,
          -0.695528703915916,
          0.28426108937655253,
          null,
          -0.185561480517822,
          -0.6924557503278552,
          null,
          -0.185561480517822,
          0.046345689641763485,
          null,
          -0.185561480517822,
          -0.2821782396365333,
          null,
          -0.185561480517822,
          0.28426108937655253,
          null,
          -0.185561480517822,
          0.2664859131126318,
          null,
          -0.185561480517822,
          0.2586314822671784,
          null,
          -0.6924557503278552,
          0.046345689641763485,
          null,
          0.046345689641763485,
          0.28426108937655253,
          null,
          0.046345689641763485,
          0.2586314822671784,
          null,
          -0.2821782396365333,
          0.28426108937655253,
          null,
          -0.2821782396365333,
          0.2664859131126318,
          null,
          -0.2821782396365333,
          0.2586314822671784,
          null,
          0.28426108937655253,
          0.2586314822671784,
          null,
          0.2664859131126318,
          0.2586314822671784,
          null
         ]
        },
        {
         "hoverinfo": "text",
         "marker": {
          "color": [
           "#FB0D0D",
           "grey",
           "grey",
           "grey",
           "grey",
           "#2E91E5",
           "grey",
           "grey",
           "grey"
          ],
          "line": {
           "width": 0
          },
          "opacity": 1,
          "size": [
           20,
           20,
           20,
           20,
           20,
           20,
           20,
           20,
           20
          ]
         },
         "mode": "markers+text",
         "text": [
          "0",
          "1",
          "2",
          "3",
          "4",
          "5",
          "6",
          "7",
          "8"
         ],
         "textfont": {
          "color": "white"
         },
         "type": "scatter",
         "visible": true,
         "x": [
          0.5014480646130957,
          -0.07722685009110916,
          -0.1298733398483113,
          -0.8037436732279925,
          -0.7233709661416293,
          0.4592217264196164,
          -0.1419743187824064,
          0.7314831841489208,
          0.18403617290981544
         ],
         "y": [
          1,
          -0.695528703915916,
          -0.185561480517822,
          -0.6924557503278552,
          0.046345689641763485,
          -0.2821782396365333,
          0.28426108937655253,
          0.2664859131126318,
          0.2586314822671784
         ]
        },
        {
         "hoverinfo": "none",
         "line": {
          "color": "#888",
          "width": 0.5
         },
         "mode": "lines",
         "type": "scatter",
         "visible": true,
         "x": [
          2.1062202523682765,
          2.476606341753435,
          null,
          2.4700961949915414,
          2.6083894678198836,
          null,
          2.4700961949915414,
          2.476606341753435,
          null,
          2.4700961949915414,
          1.8178454959443573,
          null,
          2.6083894678198836,
          2.080613956406911,
          null,
          2.6083894678198836,
          2.0798237135513657,
          null,
          2.6083894678198836,
          2.476606341753435,
          null,
          2.080613956406911,
          2.0798237135513657,
          null,
          2.080613956406911,
          2.476606341753435,
          null,
          2.080613956406911,
          2.624701649014993,
          null,
          2.080613956406911,
          1.5357029281492376,
          null,
          2.0798237135513657,
          1.8178454959443573,
          null,
          2.0798237135513657,
          2.624701649014993,
          null,
          2.0798237135513657,
          1.5357029281492376,
          null,
          1.8178454959443573,
          1.5357029281492376,
          null
         ],
         "y": [
          -1,
          -0.21505358819846335,
          null,
          0.6319783335091982,
          0.20973432244058918,
          null,
          0.6319783335091982,
          -0.21505358819846335,
          null,
          0.6319783335091982,
          0.7311003296970784,
          null,
          0.20973432244058918,
          -0.20974357931504273,
          null,
          0.20973432244058918,
          0.1636477136905416,
          null,
          0.20973432244058918,
          -0.21505358819846335,
          null,
          -0.20974357931504273,
          0.1636477136905416,
          null,
          -0.20974357931504273,
          -0.21505358819846335,
          null,
          -0.20974357931504273,
          -0.5012757937871996,
          null,
          -0.20974357931504273,
          0.1896122619632984,
          null,
          0.1636477136905416,
          0.7311003296970784,
          null,
          0.1636477136905416,
          -0.5012757937871996,
          null,
          0.1636477136905416,
          0.1896122619632984,
          null,
          0.7311003296970784,
          0.1896122619632984,
          null
         ]
        },
        {
         "hoverinfo": "text",
         "marker": {
          "color": [
           "grey",
           "grey",
           "#1CA71C",
           "#E15F99",
           "grey",
           "grey",
           "grey",
           "grey",
           "grey",
           "grey"
          ],
          "line": {
           "width": 0
          },
          "opacity": 1,
          "size": [
           20,
           20,
           30,
           20,
           20,
           20,
           20,
           20,
           20,
           20
          ]
         },
         "mode": "markers+text",
         "text": [
          "0",
          "1",
          "2",
          "2",
          "3",
          "4",
          "5",
          "6",
          "7",
          "8"
         ],
         "textfont": {
          "color": "white"
         },
         "type": "scatter",
         "visible": true,
         "x": [
          2.1062202523682765,
          2.4700961949915414,
          2.6083894678198836,
          2.6083894678198836,
          2.080613956406911,
          2.0798237135513657,
          2.476606341753435,
          1.8178454959443573,
          2.624701649014993,
          1.5357029281492376
         ],
         "y": [
          -1,
          0.6319783335091982,
          0.20973432244058918,
          0.20973432244058918,
          -0.20974357931504273,
          0.1636477136905416,
          -0.21505358819846335,
          0.7311003296970784,
          -0.5012757937871996,
          0.1896122619632984
         ]
        },
        {
         "hoverinfo": "text",
         "marker": {
          "color": [
           "#2E91E5",
           "#E15F99",
           "#1CA71C",
           "#FB0D0D"
          ],
          "line": {
           "width": 0
          },
          "opacity": 1,
          "size": 30
         },
         "mode": "markers+text",
         "text": [
          "A5",
          "B2",
          "B2",
          "A0"
         ],
         "textfont": {
          "color": "white"
         },
         "type": "scatter",
         "visible": true,
         "x": [
          0,
          0.125,
          0.25,
          0.375
         ],
         "y": [
          -1.3,
          -1.6,
          -1.3,
          -1.6
         ]
        },
        {
         "hoverinfo": "none",
         "line": {
          "color": "#888",
          "width": 0.5
         },
         "mode": "lines",
         "type": "scatter",
         "visible": false,
         "x": [
          0.2547552922927939,
          -0.9466052929361123,
          null,
          0.2547552922927939,
          0.18705595273637282,
          null,
          0.2547552922927939,
          0.32755094217707215,
          null,
          0.2547552922927939,
          1,
          null,
          0.2547552922927939,
          0.8246395478170393,
          null,
          0.2547552922927939,
          -0.343957770599334,
          null,
          -0.7937572722514064,
          -0.9466052929361123,
          null,
          -0.7937572722514064,
          0.18705595273637282,
          null,
          -0.7937572722514064,
          -0.5096813992364257,
          null,
          -0.7937572722514064,
          0.8246395478170393,
          null,
          -0.7937572722514064,
          -0.343957770599334,
          null,
          -0.9466052929361123,
          0.18705595273637282,
          null,
          -0.9466052929361123,
          -0.5096813992364257,
          null,
          -0.9466052929361123,
          0.32755094217707215,
          null,
          -0.9466052929361123,
          -0.343957770599334,
          null,
          0.18705595273637282,
          0.32755094217707215,
          null,
          0.18705595273637282,
          1,
          null,
          0.18705595273637282,
          0.8246395478170393,
          null,
          0.18705595273637282,
          -0.343957770599334,
          null,
          -0.5096813992364257,
          0.32755094217707215,
          null,
          -0.5096813992364257,
          0.8246395478170393,
          null,
          -0.5096813992364257,
          -0.343957770599334,
          null,
          0.32755094217707215,
          1,
          null,
          0.32755094217707215,
          0.8246395478170393,
          null,
          0.32755094217707215,
          -0.343957770599334,
          null,
          1,
          0.8246395478170393,
          null,
          1,
          -0.343957770599334,
          null
         ],
         "y": [
          0.01931812071310524,
          -0.2728318985453003,
          null,
          0.01931812071310524,
          0.65656972764003,
          null,
          0.01931812071310524,
          -0.6476363143928819,
          null,
          0.01931812071310524,
          0.6863898940216928,
          null,
          0.01931812071310524,
          -0.17716317309373636,
          null,
          0.01931812071310524,
          0.1029439289568306,
          null,
          0.5723323861972833,
          -0.2728318985453003,
          null,
          0.5723323861972833,
          0.65656972764003,
          null,
          0.5723323861972833,
          -0.9399226714970231,
          null,
          0.5723323861972833,
          -0.17716317309373636,
          null,
          0.5723323861972833,
          0.1029439289568306,
          null,
          -0.2728318985453003,
          0.65656972764003,
          null,
          -0.2728318985453003,
          -0.9399226714970231,
          null,
          -0.2728318985453003,
          -0.6476363143928819,
          null,
          -0.2728318985453003,
          0.1029439289568306,
          null,
          0.65656972764003,
          -0.6476363143928819,
          null,
          0.65656972764003,
          0.6863898940216928,
          null,
          0.65656972764003,
          -0.17716317309373636,
          null,
          0.65656972764003,
          0.1029439289568306,
          null,
          -0.9399226714970231,
          -0.6476363143928819,
          null,
          -0.9399226714970231,
          -0.17716317309373636,
          null,
          -0.9399226714970231,
          0.1029439289568306,
          null,
          -0.6476363143928819,
          0.6863898940216928,
          null,
          -0.6476363143928819,
          -0.17716317309373636,
          null,
          -0.6476363143928819,
          0.1029439289568306,
          null,
          0.6863898940216928,
          -0.17716317309373636,
          null,
          0.6863898940216928,
          0.1029439289568306,
          null
         ]
        },
        {
         "hoverinfo": "text",
         "marker": {
          "color": [
           "#1CA71C",
           "grey",
           "grey",
           "grey",
           "#222A2A",
           "grey",
           "grey",
           "grey",
           "grey"
          ],
          "line": {
           "width": 0
          },
          "opacity": 1,
          "size": [
           20,
           20,
           20,
           20,
           20,
           20,
           20,
           20,
           20
          ]
         },
         "mode": "markers+text",
         "text": [
          "0",
          "1",
          "2",
          "3",
          "4",
          "5",
          "6",
          "7",
          "8"
         ],
         "textfont": {
          "color": "white"
         },
         "type": "scatter",
         "visible": false,
         "x": [
          0.2547552922927939,
          -0.7937572722514064,
          -0.9466052929361123,
          0.18705595273637282,
          -0.5096813992364257,
          0.32755094217707215,
          1,
          0.8246395478170393,
          -0.343957770599334
         ],
         "y": [
          0.01931812071310524,
          0.5723323861972833,
          -0.2728318985453003,
          0.65656972764003,
          -0.9399226714970231,
          -0.6476363143928819,
          0.6863898940216928,
          -0.17716317309373636,
          0.1029439289568306
         ]
        },
        {
         "hoverinfo": "none",
         "line": {
          "color": "#888",
          "width": 0.5
         },
         "mode": "lines",
         "type": "scatter",
         "visible": false,
         "x": [
          1.3246489290828902,
          2.296541619461119,
          null,
          1.3246489290828902,
          2.1103547936691274,
          null,
          1.3246489290828902,
          1.8894907022114602,
          null,
          1.3246489290828902,
          1.7245532380035478,
          null,
          1.3246489290828902,
          2.126575640227482,
          null,
          1.3246489290828902,
          2.43637653240175,
          null,
          2.296541619461119,
          2.902542711473542,
          null,
          2.296541619461119,
          1.8894907022114602,
          null,
          2.296541619461119,
          1.7245532380035478,
          null,
          2.296541619461119,
          2.126575640227482,
          null,
          2.1103547936691274,
          2.902542711473542,
          null,
          2.1103547936691274,
          1.8894907022114602,
          null,
          2.1103547936691274,
          2.126575640227482,
          null,
          2.1103547936691274,
          2.43637653240175,
          null,
          2.1103547936691274,
          2.9889158334690835,
          null,
          2.902542711473542,
          1.8894907022114602,
          null,
          2.902542711473542,
          1.7245532380035478,
          null,
          2.902542711473542,
          2.43637653240175,
          null,
          2.902542711473542,
          2.9889158334690835,
          null,
          1.8894907022114602,
          2.126575640227482,
          null,
          1.8894907022114602,
          2.43637653240175,
          null,
          1.8894907022114602,
          2.9889158334690835,
          null,
          1.7245532380035478,
          2.126575640227482,
          null,
          1.7245532380035478,
          2.43637653240175,
          null,
          2.126575640227482,
          2.43637653240175,
          null,
          2.126575640227482,
          2.9889158334690835,
          null,
          2.43637653240175,
          2.9889158334690835,
          null
         ],
         "y": [
          0.12254593060122512,
          1,
          null,
          0.12254593060122512,
          -0.9532885662110249,
          null,
          0.12254593060122512,
          -0.36526104498252127,
          null,
          0.12254593060122512,
          0.922515719552392,
          null,
          0.12254593060122512,
          0.19823414196512504,
          null,
          0.12254593060122512,
          -0.27253170984217817,
          null,
          1,
          0.18289127969008598,
          null,
          1,
          -0.36526104498252127,
          null,
          1,
          0.922515719552392,
          null,
          1,
          0.19823414196512504,
          null,
          -0.9532885662110249,
          0.18289127969008598,
          null,
          -0.9532885662110249,
          -0.36526104498252127,
          null,
          -0.9532885662110249,
          0.19823414196512504,
          null,
          -0.9532885662110249,
          -0.27253170984217817,
          null,
          -0.9532885662110249,
          -0.8351057507731038,
          null,
          0.18289127969008598,
          -0.36526104498252127,
          null,
          0.18289127969008598,
          0.922515719552392,
          null,
          0.18289127969008598,
          -0.27253170984217817,
          null,
          0.18289127969008598,
          -0.8351057507731038,
          null,
          -0.36526104498252127,
          0.19823414196512504,
          null,
          -0.36526104498252127,
          -0.27253170984217817,
          null,
          -0.36526104498252127,
          -0.8351057507731038,
          null,
          0.922515719552392,
          0.19823414196512504,
          null,
          0.922515719552392,
          -0.27253170984217817,
          null,
          0.19823414196512504,
          -0.27253170984217817,
          null,
          0.19823414196512504,
          -0.8351057507731038,
          null,
          -0.27253170984217817,
          -0.8351057507731038,
          null
         ]
        },
        {
         "hoverinfo": "text",
         "marker": {
          "color": [
           "#FB0D0D",
           "grey",
           "grey",
           "#DA16FF",
           "grey",
           "grey",
           "grey",
           "#2E91E5",
           "grey"
          ],
          "line": {
           "width": 0
          },
          "opacity": 1,
          "size": [
           20,
           20,
           20,
           20,
           20,
           20,
           20,
           20,
           20
          ]
         },
         "mode": "markers+text",
         "text": [
          "0",
          "1",
          "2",
          "3",
          "4",
          "5",
          "6",
          "7",
          "8"
         ],
         "textfont": {
          "color": "white"
         },
         "type": "scatter",
         "visible": false,
         "x": [
          1.3246489290828902,
          2.296541619461119,
          2.1103547936691274,
          2.902542711473542,
          1.8894907022114602,
          1.7245532380035478,
          2.126575640227482,
          2.43637653240175,
          2.9889158334690835
         ],
         "y": [
          0.12254593060122512,
          1,
          -0.9532885662110249,
          0.18289127969008598,
          -0.36526104498252127,
          0.922515719552392,
          0.19823414196512504,
          -0.27253170984217817,
          -0.8351057507731038
         ]
        },
        {
         "hoverinfo": "text",
         "marker": {
          "color": [
           "#2E91E5",
           "#E15F99",
           "#1CA71C",
           "#FB0D0D",
           "#DA16FF",
           "#222A2A"
          ],
          "line": {
           "width": 0
          },
          "opacity": 1,
          "size": 30
         },
         "mode": "markers+text",
         "text": [
          "B7",
          "B10",
          "A0",
          "B0",
          "B3",
          "A4"
         ],
         "textfont": {
          "color": "white"
         },
         "type": "scatter",
         "visible": false,
         "x": [
          0,
          0.125,
          0.25,
          0.375,
          0.5,
          0.625
         ],
         "y": [
          -1.3,
          -1.6,
          -1.3,
          -1.6,
          -1.3,
          -1.6
         ]
        },
        {
         "hoverinfo": "none",
         "line": {
          "color": "#888",
          "width": 0.5
         },
         "mode": "lines",
         "type": "scatter",
         "visible": false,
         "x": [
          0.13486775830131878,
          -0.47130393987998825,
          null,
          0.13486775830131878,
          0.38903058925425754,
          null,
          0.13486775830131878,
          0.7969509963724822,
          null,
          0.13486775830131878,
          0.0562208836846247,
          null,
          0.13486775830131878,
          0.3851574918979836,
          null,
          0.13486775830131878,
          -0.1569750831575194,
          null,
          -0.47130393987998825,
          0.0562208836846247,
          null,
          -0.47130393987998825,
          -0.30434770833122077,
          null,
          -0.47130393987998825,
          0.3851574918979836,
          null,
          -0.47130393987998825,
          -0.8464572518724692,
          null,
          -0.47130393987998825,
          0.016856263730531642,
          null,
          0.38903058925425754,
          0.7969509963724822,
          null,
          0.38903058925425754,
          0.0562208836846247,
          null,
          0.38903058925425754,
          0.3851574918979836,
          null,
          0.38903058925425754,
          -0.1569750831575194,
          null,
          0.38903058925425754,
          -0.8464572518724692,
          null,
          0.7969509963724822,
          0.0562208836846247,
          null,
          0.7969509963724822,
          -0.30434770833122077,
          null,
          0.7969509963724822,
          0.016856263730531642,
          null,
          0.0562208836846247,
          -0.30434770833122077,
          null,
          -0.30434770833122077,
          0.3851574918979836,
          null,
          -0.30434770833122077,
          -0.1569750831575194,
          null,
          -0.30434770833122077,
          -0.8464572518724692,
          null,
          0.3851574918979836,
          -0.1569750831575194,
          null,
          0.3851574918979836,
          0.016856263730531642,
          null,
          -0.1569750831575194,
          -0.8464572518724692,
          null,
          -0.1569750831575194,
          0.016856263730531642,
          null,
          -0.8464572518724692,
          0.016856263730531642,
          null
         ],
         "y": [
          0.5083774965503123,
          -0.07434382916561666,
          null,
          0.5083774965503123,
          0.2761805717653474,
          null,
          0.5083774965503123,
          0.15799226234169964,
          null,
          0.5083774965503123,
          0.9999999999999999,
          null,
          0.5083774965503123,
          -0.3992497782803654,
          null,
          0.5083774965503123,
          -0.45815674142404167,
          null,
          -0.07434382916561666,
          0.9999999999999999,
          null,
          -0.07434382916561666,
          0.2843579273341671,
          null,
          -0.07434382916561666,
          -0.3992497782803654,
          null,
          -0.07434382916561666,
          -0.3448796950537873,
          null,
          -0.07434382916561666,
          -0.9502782140677156,
          null,
          0.2761805717653474,
          0.15799226234169964,
          null,
          0.2761805717653474,
          0.9999999999999999,
          null,
          0.2761805717653474,
          -0.3992497782803654,
          null,
          0.2761805717653474,
          -0.45815674142404167,
          null,
          0.2761805717653474,
          -0.3448796950537873,
          null,
          0.15799226234169964,
          0.9999999999999999,
          null,
          0.15799226234169964,
          0.2843579273341671,
          null,
          0.15799226234169964,
          -0.9502782140677156,
          null,
          0.9999999999999999,
          0.2843579273341671,
          null,
          0.2843579273341671,
          -0.3992497782803654,
          null,
          0.2843579273341671,
          -0.45815674142404167,
          null,
          0.2843579273341671,
          -0.3448796950537873,
          null,
          -0.3992497782803654,
          -0.45815674142404167,
          null,
          -0.3992497782803654,
          -0.9502782140677156,
          null,
          -0.45815674142404167,
          -0.3448796950537873,
          null,
          -0.45815674142404167,
          -0.9502782140677156,
          null,
          -0.3448796950537873,
          -0.9502782140677156,
          null
         ]
        },
        {
         "hoverinfo": "text",
         "marker": {
          "color": [
           "#2E91E5",
           "grey",
           "grey",
           "grey",
           "grey",
           "grey",
           "grey",
           "grey",
           "grey",
           "grey"
          ],
          "line": {
           "width": 0
          },
          "opacity": 1,
          "size": [
           20,
           20,
           20,
           20,
           20,
           20,
           20,
           20,
           20,
           20
          ]
         },
         "mode": "markers+text",
         "text": [
          "0",
          "1",
          "2",
          "3",
          "4",
          "5",
          "6",
          "7",
          "8",
          "9"
         ],
         "textfont": {
          "color": "white"
         },
         "type": "scatter",
         "visible": false,
         "x": [
          0.13486775830131878,
          -0.47130393987998825,
          0.38903058925425754,
          0.7969509963724822,
          0.0562208836846247,
          -0.30434770833122077,
          0.3851574918979836,
          -0.1569750831575194,
          -0.8464572518724692,
          0.016856263730531642
         ],
         "y": [
          0.5083774965503123,
          -0.07434382916561666,
          0.2761805717653474,
          0.15799226234169964,
          0.9999999999999999,
          0.2843579273341671,
          -0.3992497782803654,
          -0.45815674142404167,
          -0.3448796950537873,
          -0.9502782140677156
         ]
        },
        {
         "hoverinfo": "none",
         "line": {
          "color": "#888",
          "width": 0.5
         },
         "mode": "lines",
         "type": "scatter",
         "visible": false,
         "x": [
          2.5756109417010356,
          2.856121191926656,
          null,
          2.5756109417010356,
          2.178488855790351,
          null,
          2.5756109417010356,
          2.263493140749454,
          null,
          2.5756109417010356,
          2.155819682138484,
          null,
          2.5756109417010356,
          1.836068582110292,
          null,
          2.5756109417010356,
          2.6086707072963002,
          null,
          1.7167593503820657,
          2.178488855790351,
          null,
          1.7167593503820657,
          2.263493140749454,
          null,
          1.7167593503820657,
          2.155819682138484,
          null,
          1.7167593503820657,
          1.6304096527329255,
          null,
          1.7167593503820657,
          2.1785578951724385,
          null,
          1.7167593503820657,
          2.6086707072963002,
          null,
          2.856121191926656,
          2.178488855790351,
          null,
          2.856121191926656,
          2.155819682138484,
          null,
          2.856121191926656,
          1.836068582110292,
          null,
          2.856121191926656,
          2.1785578951724385,
          null,
          2.856121191926656,
          2.6086707072963002,
          null,
          2.178488855790351,
          2.263493140749454,
          null,
          2.178488855790351,
          1.836068582110292,
          null,
          2.263493140749454,
          2.155819682138484,
          null,
          2.263493140749454,
          1.6304096527329255,
          null,
          2.263493140749454,
          2.1785578951724385,
          null,
          2.155819682138484,
          1.6304096527329255,
          null,
          2.155819682138484,
          2.6086707072963002,
          null,
          1.6304096527329255,
          2.1785578951724385,
          null,
          1.6304096527329255,
          2.6086707072963002,
          null,
          1.836068582110292,
          2.1785578951724385,
          null,
          1.836068582110292,
          2.6086707072963002,
          null
         ],
         "y": [
          -0.6016397295526494,
          -0.18309677771219157,
          null,
          -0.6016397295526494,
          -0.9999999999999999,
          null,
          -0.6016397295526494,
          -0.07947699194991781,
          null,
          -0.6016397295526494,
          0.34328597951825174,
          null,
          -0.6016397295526494,
          -0.43541283305138967,
          null,
          -0.6016397295526494,
          0.36482258794510614,
          null,
          0.023083946521871804,
          -0.9999999999999999,
          null,
          0.023083946521871804,
          -0.07947699194991781,
          null,
          0.023083946521871804,
          0.34328597951825174,
          null,
          0.023083946521871804,
          0.8264392375138643,
          null,
          0.023083946521871804,
          0.741994580767054,
          null,
          0.023083946521871804,
          0.36482258794510614,
          null,
          -0.18309677771219157,
          -0.9999999999999999,
          null,
          -0.18309677771219157,
          0.34328597951825174,
          null,
          -0.18309677771219157,
          -0.43541283305138967,
          null,
          -0.18309677771219157,
          0.741994580767054,
          null,
          -0.18309677771219157,
          0.36482258794510614,
          null,
          -0.9999999999999999,
          -0.07947699194991781,
          null,
          -0.9999999999999999,
          -0.43541283305138967,
          null,
          -0.07947699194991781,
          0.34328597951825174,
          null,
          -0.07947699194991781,
          0.8264392375138643,
          null,
          -0.07947699194991781,
          0.741994580767054,
          null,
          0.34328597951825174,
          0.8264392375138643,
          null,
          0.34328597951825174,
          0.36482258794510614,
          null,
          0.8264392375138643,
          0.741994580767054,
          null,
          0.8264392375138643,
          0.36482258794510614,
          null,
          -0.43541283305138967,
          0.741994580767054,
          null,
          -0.43541283305138967,
          0.36482258794510614,
          null
         ]
        },
        {
         "hoverinfo": "text",
         "marker": {
          "color": [
           "grey",
           "grey",
           "grey",
           "grey",
           "grey",
           "grey",
           "grey",
           "grey",
           "grey",
           "#E15F99"
          ],
          "line": {
           "width": 0
          },
          "opacity": 1,
          "size": [
           20,
           20,
           20,
           20,
           20,
           20,
           20,
           20,
           20,
           20
          ]
         },
         "mode": "markers+text",
         "text": [
          "0",
          "1",
          "2",
          "3",
          "4",
          "5",
          "6",
          "7",
          "8",
          "9"
         ],
         "textfont": {
          "color": "white"
         },
         "type": "scatter",
         "visible": false,
         "x": [
          2.5756109417010356,
          1.7167593503820657,
          2.856121191926656,
          2.178488855790351,
          2.263493140749454,
          2.155819682138484,
          1.6304096527329255,
          1.836068582110292,
          2.1785578951724385,
          2.6086707072963002
         ],
         "y": [
          -0.6016397295526494,
          0.023083946521871804,
          -0.18309677771219157,
          -0.9999999999999999,
          -0.07947699194991781,
          0.34328597951825174,
          0.8264392375138643,
          -0.43541283305138967,
          0.741994580767054,
          0.36482258794510614
         ]
        },
        {
         "hoverinfo": "text",
         "marker": {
          "color": [
           "#2E91E5",
           "#E15F99"
          ],
          "line": {
           "width": 0
          },
          "opacity": 1,
          "size": 30
         },
         "mode": "markers+text",
         "text": [
          "A0",
          "B9"
         ],
         "textfont": {
          "color": "white"
         },
         "type": "scatter",
         "visible": false,
         "x": [
          0,
          0.125
         ],
         "y": [
          -1.3,
          -1.6
         ]
        },
        {
         "hoverinfo": "none",
         "line": {
          "color": "#888",
          "width": 0.5
         },
         "mode": "lines",
         "type": "scatter",
         "visible": false,
         "x": [
          -0.355969853843602,
          -0.3788660737922116,
          null,
          -0.355969853843602,
          -0.6838786057487422,
          null,
          -0.3788660737922116,
          -0.6838786057487422,
          null,
          -0.3788660737922116,
          0.26240517866954877,
          null,
          0.15356145719475914,
          0.7636522889002018,
          null,
          0.15356145719475914,
          -0.23405629064926056,
          null,
          -0.6838786057487422,
          -1,
          null,
          0.7636522889002018,
          0.26240517866954877,
          null,
          -0.23405629064926056,
          0.3981456488477954,
          null,
          0.45808676410370386,
          0.26240517866954877,
          null,
          0.3981456488477954,
          0.26240517866954877,
          null
         ],
         "y": [
          0.8785691033256787,
          0.529461383955721,
          null,
          0.8785691033256787,
          0.29318592960719647,
          null,
          0.529461383955721,
          0.29318592960719647,
          null,
          0.529461383955721,
          0.013363382957463147,
          null,
          -0.7253466657389658,
          -0.1605159962003346,
          null,
          -0.7253466657389658,
          -0.8021438579639728,
          null,
          0.29318592960719647,
          0.25452847767974446,
          null,
          -0.1605159962003346,
          0.013363382957463147,
          null,
          -0.8021438579639728,
          -0.4167092902598897,
          null,
          -0.6681729052057379,
          0.013363382957463147,
          null,
          -0.4167092902598897,
          0.013363382957463147,
          null
         ]
        },
        {
         "hoverinfo": "text",
         "marker": {
          "color": [
           "grey",
           "grey",
           "grey",
           "grey",
           "grey",
           "grey",
           "grey",
           "grey",
           "grey",
           "grey",
           "#E15F99"
          ],
          "line": {
           "width": 0
          },
          "opacity": 1,
          "size": [
           20,
           20,
           20,
           20,
           20,
           20,
           20,
           20,
           20,
           20,
           20
          ]
         },
         "mode": "markers+text",
         "text": [
          "0",
          "1",
          "2",
          "3",
          "4",
          "5",
          "6",
          "7",
          "8",
          "9",
          "10"
         ],
         "textfont": {
          "color": "white"
         },
         "type": "scatter",
         "visible": false,
         "x": [
          -0.355969853843602,
          -0.3788660737922116,
          0.15356145719475914,
          -0.6838786057487422,
          0.7636522889002018,
          -0.23405629064926056,
          0.6169194863178074,
          0.45808676410370386,
          0.3981456488477954,
          -1,
          0.26240517866954877
         ],
         "y": [
          0.8785691033256787,
          0.529461383955721,
          -0.7253466657389658,
          0.29318592960719647,
          -0.1605159962003346,
          -0.8021438579639728,
          0.8037804378430968,
          -0.6681729052057379,
          -0.4167092902598897,
          0.25452847767974446,
          0.013363382957463147
         ]
        },
        {
         "hoverinfo": "none",
         "line": {
          "color": "#888",
          "width": 0.5
         },
         "mode": "lines",
         "type": "scatter",
         "visible": false,
         "x": [
          2.1578635995843167,
          1.6954972093946785,
          null,
          1.5131113239220026,
          2.027592148179304,
          null,
          1.5131113239220026,
          1.6954972093946785,
          null,
          2.1863057596034547,
          2.908974135598248,
          null,
          2.1863057596034547,
          2.0659446960974424,
          null,
          2.908974135598248,
          2.5592053605126655,
          null,
          2.6990988717950404,
          2.5592053605126655,
          null,
          2.5592053605126655,
          2.0659446960974424,
          null
         ],
         "y": [
          1,
          0.5965892737376437,
          null,
          -0.1676695314690319,
          -0.7554226638409727,
          null,
          -0.1676695314690319,
          0.5965892737376437,
          null,
          -0.48469789359066096,
          -0.40281121457775154,
          null,
          -0.48469789359066096,
          -0.07487170623706821,
          null,
          -0.40281121457775154,
          -0.05191570057980312,
          null,
          -0.5933617172684651,
          -0.05191570057980312,
          null,
          -0.05191570057980312,
          -0.07487170623706821,
          null
         ]
        },
        {
         "hoverinfo": "text",
         "marker": {
          "color": [
           "grey",
           "grey",
           "grey",
           "#1CA71C",
           "grey",
           "#2E91E5",
           "grey",
           "grey",
           "grey",
           "#FB0D0D",
           "grey"
          ],
          "line": {
           "width": 0
          },
          "opacity": 1,
          "size": [
           20,
           20,
           20,
           20,
           20,
           20,
           20,
           20,
           20,
           20,
           20
          ]
         },
         "mode": "markers+text",
         "text": [
          "0",
          "1",
          "2",
          "3",
          "4",
          "5",
          "6",
          "7",
          "8",
          "9",
          "10"
         ],
         "textfont": {
          "color": "white"
         },
         "type": "scatter",
         "visible": false,
         "x": [
          2.1578635995843167,
          1.5131113239220026,
          2.1863057596034547,
          2.908974135598248,
          2.027592148179304,
          2.6990988717950404,
          3.0723575717228293,
          2.5592053605126655,
          1.6954972093946785,
          2.0659446960974424,
          1.3140493235900197
         ],
         "y": [
          1,
          -0.1676695314690319,
          -0.48469789359066096,
          -0.40281121457775154,
          -0.7554226638409727,
          -0.5933617172684651,
          0.3731767160951764,
          -0.05191570057980312,
          0.5965892737376437,
          -0.07487170623706821,
          0.5609844377309335
         ]
        },
        {
         "hoverinfo": "text",
         "marker": {
          "color": [
           "#2E91E5",
           "#E15F99",
           "#1CA71C",
           "#FB0D0D"
          ],
          "line": {
           "width": 0
          },
          "opacity": 1,
          "size": 30
         },
         "mode": "markers+text",
         "text": [
          "B5",
          "A10",
          "B3",
          "B9"
         ],
         "textfont": {
          "color": "white"
         },
         "type": "scatter",
         "visible": false,
         "x": [
          0,
          0.125,
          0.25,
          0.375
         ],
         "y": [
          -1.3,
          -1.6,
          -1.3,
          -1.6
         ]
        },
        {
         "hoverinfo": "none",
         "line": {
          "color": "#888",
          "width": 0.5
         },
         "mode": "lines",
         "type": "scatter",
         "visible": false,
         "x": [
          -0.2651583926422897,
          0.5466979561016341,
          null,
          -0.2651583926422897,
          -0.7855002257341838,
          null,
          -0.2651583926422897,
          0.11428007951834147,
          null,
          -0.2651583926422897,
          0.6669826640061102,
          null,
          -0.2651583926422897,
          0.16286145929696635,
          null,
          -0.2651583926422897,
          -0.9999999999999999,
          null,
          -0.2651583926422897,
          -0.41687520826846325,
          null,
          0.9767116677218836,
          0.5466979561016341,
          null,
          0.9767116677218836,
          0.6669826640061102,
          null,
          0.9767116677218836,
          0.16286145929696635,
          null,
          0.9767116677218836,
          -0.41687520826846325,
          null,
          0.5466979561016341,
          -0.7855002257341838,
          null,
          0.5466979561016341,
          0.11428007951834147,
          null,
          0.5466979561016341,
          0.6669826640061102,
          null,
          0.5466979561016341,
          -0.41687520826846325,
          null,
          -0.7855002257341838,
          0.11428007951834147,
          null,
          -0.7855002257341838,
          0.16286145929696635,
          null,
          -0.7855002257341838,
          -0.9999999999999999,
          null,
          -0.7855002257341838,
          -0.41687520826846325,
          null,
          0.11428007951834147,
          0.6669826640061102,
          null,
          0.11428007951834147,
          0.16286145929696635,
          null,
          0.6669826640061102,
          0.16286145929696635,
          null,
          0.6669826640061102,
          -0.9999999999999999,
          null,
          0.16286145929696635,
          -0.41687520826846325,
          null,
          -0.9999999999999999,
          -0.41687520826846325,
          null
         ],
         "y": [
          0.32952601350150795,
          -0.10978156653870731,
          null,
          0.32952601350150795,
          -0.09151557608276313,
          null,
          0.32952601350150795,
          0.9248682319897876,
          null,
          0.32952601350150795,
          0.4799775415337496,
          null,
          0.32952601350150795,
          -0.4546652468035078,
          null,
          0.32952601350150795,
          0.6108808987706843,
          null,
          0.32952601350150795,
          -0.7688932511468636,
          null,
          -0.9203970452238877,
          -0.10978156653870731,
          null,
          -0.9203970452238877,
          0.4799775415337496,
          null,
          -0.9203970452238877,
          -0.4546652468035078,
          null,
          -0.9203970452238877,
          -0.7688932511468636,
          null,
          -0.10978156653870731,
          -0.09151557608276313,
          null,
          -0.10978156653870731,
          0.9248682319897876,
          null,
          -0.10978156653870731,
          0.4799775415337496,
          null,
          -0.10978156653870731,
          -0.7688932511468636,
          null,
          -0.09151557608276313,
          0.9248682319897876,
          null,
          -0.09151557608276313,
          -0.4546652468035078,
          null,
          -0.09151557608276313,
          0.6108808987706843,
          null,
          -0.09151557608276313,
          -0.7688932511468636,
          null,
          0.9248682319897876,
          0.4799775415337496,
          null,
          0.9248682319897876,
          -0.4546652468035078,
          null,
          0.4799775415337496,
          -0.4546652468035078,
          null,
          0.4799775415337496,
          0.6108808987706843,
          null,
          -0.4546652468035078,
          -0.7688932511468636,
          null,
          0.6108808987706843,
          -0.7688932511468636,
          null
         ]
        },
        {
         "hoverinfo": "text",
         "marker": {
          "color": [
           "grey",
           "grey",
           "grey",
           "grey",
           "grey",
           "grey",
           "grey",
           "grey",
           "grey"
          ],
          "line": {
           "width": 0
          },
          "opacity": 1,
          "size": [
           20,
           20,
           20,
           20,
           20,
           20,
           20,
           20,
           20
          ]
         },
         "mode": "markers+text",
         "text": [
          "0",
          "1",
          "2",
          "3",
          "4",
          "5",
          "6",
          "7",
          "8"
         ],
         "textfont": {
          "color": "white"
         },
         "type": "scatter",
         "visible": false,
         "x": [
          -0.2651583926422897,
          0.9767116677218836,
          0.5466979561016341,
          -0.7855002257341838,
          0.11428007951834147,
          0.6669826640061102,
          0.16286145929696635,
          -0.9999999999999999,
          -0.41687520826846325
         ],
         "y": [
          0.32952601350150795,
          -0.9203970452238877,
          -0.10978156653870731,
          -0.09151557608276313,
          0.9248682319897876,
          0.4799775415337496,
          -0.4546652468035078,
          0.6108808987706843,
          -0.7688932511468636
         ]
        },
        {
         "hoverinfo": "none",
         "line": {
          "color": "#888",
          "width": 0.5
         },
         "mode": "lines",
         "type": "scatter",
         "visible": false,
         "x": [
          1.5106195765831048,
          2.262168813672561,
          null,
          1.5106195765831048,
          2.283515990093415,
          null,
          1.5106195765831048,
          1.8434017993233964,
          null,
          1.5106195765831048,
          1.442238743720544,
          null,
          2.262168813672561,
          3.2,
          null,
          2.262168813672561,
          1.8434017993233964,
          null,
          2.262168813672561,
          2.520125522601404,
          null,
          2.262168813672561,
          1.442238743720544,
          null,
          2.262168813672561,
          2.7928436649420885,
          null,
          2.283515990093415,
          3.2,
          null,
          2.283515990093415,
          1.8434017993233964,
          null,
          2.283515990093415,
          1.442238743720544,
          null,
          2.283515990093415,
          2.7928436649420885,
          null,
          2.283515990093415,
          1.945085889063488,
          null,
          3.2,
          2.520125522601404,
          null,
          3.2,
          2.7928436649420885,
          null,
          1.8434017993233964,
          2.520125522601404,
          null,
          1.8434017993233964,
          1.442238743720544,
          null,
          1.8434017993233964,
          2.7928436649420885,
          null,
          1.8434017993233964,
          1.945085889063488,
          null,
          2.520125522601404,
          1.442238743720544,
          null,
          2.520125522601404,
          2.7928436649420885,
          null,
          2.520125522601404,
          1.945085889063488,
          null,
          1.442238743720544,
          1.945085889063488,
          null,
          2.7928436649420885,
          1.945085889063488,
          null
         ],
         "y": [
          0.7716248964344257,
          0.07186200060770906,
          null,
          0.7716248964344257,
          0.4460722069106932,
          null,
          0.7716248964344257,
          -0.023745828165394195,
          null,
          0.7716248964344257,
          -0.005810765435961915,
          null,
          0.07186200060770906,
          0.2055098488465089,
          null,
          0.07186200060770906,
          -0.023745828165394195,
          null,
          0.07186200060770906,
          -0.2695584500826299,
          null,
          0.07186200060770906,
          -0.005810765435961915,
          null,
          0.07186200060770906,
          -0.5064652141425888,
          null,
          0.4460722069106932,
          0.2055098488465089,
          null,
          0.4460722069106932,
          -0.023745828165394195,
          null,
          0.4460722069106932,
          -0.005810765435961915,
          null,
          0.4460722069106932,
          -0.5064652141425888,
          null,
          0.4460722069106932,
          -0.6894886949727621,
          null,
          0.2055098488465089,
          -0.2695584500826299,
          null,
          0.2055098488465089,
          -0.5064652141425888,
          null,
          -0.023745828165394195,
          -0.2695584500826299,
          null,
          -0.023745828165394195,
          -0.005810765435961915,
          null,
          -0.023745828165394195,
          -0.5064652141425888,
          null,
          -0.023745828165394195,
          -0.6894886949727621,
          null,
          -0.2695584500826299,
          -0.005810765435961915,
          null,
          -0.2695584500826299,
          -0.5064652141425888,
          null,
          -0.2695584500826299,
          -0.6894886949727621,
          null,
          -0.005810765435961915,
          -0.6894886949727621,
          null,
          -0.5064652141425888,
          -0.6894886949727621,
          null
         ]
        },
        {
         "hoverinfo": "text",
         "marker": {
          "color": [
           "grey",
           "grey",
           "grey",
           "grey",
           "#E15F99",
           "#2E91E5",
           "grey",
           "grey",
           "grey"
          ],
          "line": {
           "width": 0
          },
          "opacity": 1,
          "size": [
           20,
           20,
           20,
           20,
           20,
           20,
           20,
           20,
           20
          ]
         },
         "mode": "markers+text",
         "text": [
          "0",
          "1",
          "2",
          "3",
          "4",
          "5",
          "6",
          "7",
          "8"
         ],
         "textfont": {
          "color": "white"
         },
         "type": "scatter",
         "visible": false,
         "x": [
          1.5106195765831048,
          2.262168813672561,
          2.283515990093415,
          3.2,
          1.8434017993233964,
          2.520125522601404,
          1.442238743720544,
          2.7928436649420885,
          1.945085889063488
         ],
         "y": [
          0.7716248964344257,
          0.07186200060770906,
          0.4460722069106932,
          0.2055098488465089,
          -0.023745828165394195,
          -0.2695584500826299,
          -0.005810765435961915,
          -0.5064652141425888,
          -0.6894886949727621
         ]
        },
        {
         "hoverinfo": "text",
         "marker": {
          "color": [
           "#2E91E5",
           "#E15F99"
          ],
          "line": {
           "width": 0
          },
          "opacity": 1,
          "size": 30
         },
         "mode": "markers+text",
         "text": [
          "B5",
          "B4"
         ],
         "textfont": {
          "color": "white"
         },
         "type": "scatter",
         "visible": false,
         "x": [
          0,
          0.125
         ],
         "y": [
          -1.3,
          -1.6
         ]
        },
        {
         "hoverinfo": "none",
         "line": {
          "color": "#888",
          "width": 0.5
         },
         "mode": "lines",
         "type": "scatter",
         "visible": false,
         "x": [
          0.16581436471587835,
          0.2206474324602996,
          null,
          0.16581436471587835,
          -0.635912431588809,
          null,
          0.16581436471587835,
          -0.7806999228477488,
          null,
          0.16581436471587835,
          -0.06570209637243718,
          null,
          0.2206474324602996,
          0.9999999999999999,
          null,
          0.2206474324602996,
          -0.635912431588809,
          null,
          0.2206474324602996,
          -0.7806999228477488,
          null,
          0.2206474324602996,
          0.095852653632817,
          null,
          0.9999999999999999,
          -0.06570209637243718,
          null,
          0.9999999999999999,
          0.095852653632817,
          null,
          -0.635912431588809,
          -0.7806999228477488,
          null,
          -0.635912431588809,
          -0.06570209637243718,
          null,
          -0.7806999228477488,
          0.095852653632817,
          null,
          -0.06570209637243718,
          0.095852653632817,
          null
         ],
         "y": [
          -0.7544305467780711,
          0.0724550337905558,
          null,
          -0.7544305467780711,
          0.23463398859640355,
          null,
          -0.7544305467780711,
          -0.19745689316303283,
          null,
          -0.7544305467780711,
          -0.33545720568482673,
          null,
          0.0724550337905558,
          0.2747084637625077,
          null,
          0.0724550337905558,
          0.23463398859640355,
          null,
          0.0724550337905558,
          -0.19745689316303283,
          null,
          0.0724550337905558,
          0.7055471594764634,
          null,
          0.2747084637625077,
          -0.33545720568482673,
          null,
          0.2747084637625077,
          0.7055471594764634,
          null,
          0.23463398859640355,
          -0.19745689316303283,
          null,
          0.23463398859640355,
          -0.33545720568482673,
          null,
          -0.19745689316303283,
          0.7055471594764634,
          null,
          -0.33545720568482673,
          0.7055471594764634,
          null
         ]
        },
        {
         "hoverinfo": "text",
         "marker": {
          "color": [
           "grey",
           "#2E91E5",
           "grey",
           "grey",
           "grey",
           "grey",
           "grey"
          ],
          "line": {
           "width": 0
          },
          "opacity": 1,
          "size": [
           20,
           20,
           20,
           20,
           20,
           20,
           20
          ]
         },
         "mode": "markers+text",
         "text": [
          "0",
          "1",
          "2",
          "3",
          "4",
          "5",
          "6"
         ],
         "textfont": {
          "color": "white"
         },
         "type": "scatter",
         "visible": false,
         "x": [
          0.16581436471587835,
          0.2206474324602996,
          0.9999999999999999,
          -0.635912431588809,
          -0.7806999228477488,
          -0.06570209637243718,
          0.095852653632817
         ],
         "y": [
          -0.7544305467780711,
          0.0724550337905558,
          0.2747084637625077,
          0.23463398859640355,
          -0.19745689316303283,
          -0.33545720568482673,
          0.7055471594764634
         ]
        },
        {
         "hoverinfo": "none",
         "line": {
          "color": "#888",
          "width": 0.5
         },
         "mode": "lines",
         "type": "scatter",
         "visible": false,
         "x": [
          2.705109990168679,
          2.2982920250937933,
          null,
          2.705109990168679,
          2.6854104963166674,
          null,
          2.705109990168679,
          2.1310486101422703,
          null,
          2.705109990168679,
          1.5621363641622006,
          null,
          2.705109990168679,
          2.3613641446711684,
          null,
          1.6566383694452225,
          2.6854104963166674,
          null,
          1.6566383694452225,
          2.1310486101422703,
          null,
          1.6566383694452225,
          1.5621363641622006,
          null,
          1.6566383694452225,
          2.3613641446711684,
          null,
          2.2982920250937933,
          2.6854104963166674,
          null,
          2.2982920250937933,
          2.1310486101422703,
          null,
          2.2982920250937933,
          1.5621363641622006,
          null,
          2.6854104963166674,
          2.3613641446711684,
          null,
          2.1310486101422703,
          1.5621363641622006,
          null
         ],
         "y": [
          0.21997766180869113,
          0.8929981193526396,
          null,
          0.21997766180869113,
          -0.3627950853602398,
          null,
          0.21997766180869113,
          0.21531142102485568,
          null,
          0.21997766180869113,
          0.5365929193119572,
          null,
          0.21997766180869113,
          -1,
          null,
          -0.5020850361379038,
          -0.3627950853602398,
          null,
          -0.5020850361379038,
          0.21531142102485568,
          null,
          -0.5020850361379038,
          0.5365929193119572,
          null,
          -0.5020850361379038,
          -1,
          null,
          0.8929981193526396,
          -0.3627950853602398,
          null,
          0.8929981193526396,
          0.21531142102485568,
          null,
          0.8929981193526396,
          0.5365929193119572,
          null,
          -0.3627950853602398,
          -1,
          null,
          0.21531142102485568,
          0.5365929193119572,
          null
         ]
        },
        {
         "hoverinfo": "text",
         "marker": {
          "color": [
           "grey",
           "grey",
           "grey",
           "grey",
           "grey",
           "#E15F99",
           "grey"
          ],
          "line": {
           "width": 0
          },
          "opacity": 1,
          "size": [
           20,
           20,
           20,
           20,
           20,
           20,
           20
          ]
         },
         "mode": "markers+text",
         "text": [
          "0",
          "1",
          "2",
          "3",
          "4",
          "5",
          "6"
         ],
         "textfont": {
          "color": "white"
         },
         "type": "scatter",
         "visible": false,
         "x": [
          2.705109990168679,
          1.6566383694452225,
          2.2982920250937933,
          2.6854104963166674,
          2.1310486101422703,
          1.5621363641622006,
          2.3613641446711684
         ],
         "y": [
          0.21997766180869113,
          -0.5020850361379038,
          0.8929981193526396,
          -0.3627950853602398,
          0.21531142102485568,
          0.5365929193119572,
          -1
         ]
        },
        {
         "hoverinfo": "text",
         "marker": {
          "color": [
           "#2E91E5",
           "#E15F99"
          ],
          "line": {
           "width": 0
          },
          "opacity": 1,
          "size": 30
         },
         "mode": "markers+text",
         "text": [
          "A1",
          "B5"
         ],
         "textfont": {
          "color": "white"
         },
         "type": "scatter",
         "visible": false,
         "x": [
          0,
          0.125
         ],
         "y": [
          -1.3,
          -1.6
         ]
        },
        {
         "hoverinfo": "none",
         "line": {
          "color": "#888",
          "width": 0.5
         },
         "mode": "lines",
         "type": "scatter",
         "visible": false,
         "x": [
          0.2676573102454314,
          -0.7048097005197176,
          null,
          0.2676573102454314,
          -0.13354674281788761,
          null,
          0.2676573102454314,
          0.8734251975794167,
          null,
          0.2676573102454314,
          0.12332355418768892,
          null,
          0.2676573102454314,
          0.3887798956959191,
          null,
          0.2676573102454314,
          -0.20771945316403373,
          null,
          0.2676573102454314,
          -0.6415476134290423,
          null,
          0.2676573102454314,
          -0.9655624477777739,
          null,
          -0.7048097005197176,
          -0.13354674281788761,
          null,
          -0.7048097005197176,
          0.12332355418768892,
          null,
          -0.7048097005197176,
          0.3887798956959191,
          null,
          -0.7048097005197176,
          -0.20771945316403373,
          null,
          -0.7048097005197176,
          -0.6415476134290423,
          null,
          -0.7048097005197176,
          -0.9655624477777739,
          null,
          -0.13354674281788761,
          0.8734251975794167,
          null,
          -0.13354674281788761,
          0.12332355418768892,
          null,
          -0.13354674281788761,
          0.3887798956959191,
          null,
          -0.13354674281788761,
          1,
          null,
          -0.13354674281788761,
          -0.6415476134290423,
          null,
          -0.13354674281788761,
          -0.9655624477777739,
          null,
          0.8734251975794167,
          0.12332355418768892,
          null,
          0.8734251975794167,
          0.3887798956959191,
          null,
          0.8734251975794167,
          -0.20771945316403373,
          null,
          0.8734251975794167,
          1,
          null,
          0.8734251975794167,
          -0.9655624477777739,
          null,
          0.12332355418768892,
          0.3887798956959191,
          null,
          0.12332355418768892,
          -0.20771945316403373,
          null,
          0.12332355418768892,
          1,
          null,
          0.12332355418768892,
          -0.6415476134290423,
          null,
          0.12332355418768892,
          -0.9655624477777739,
          null,
          0.3887798956959191,
          -0.20771945316403373,
          null,
          0.3887798956959191,
          1,
          null,
          0.3887798956959191,
          -0.6415476134290423,
          null,
          -0.20771945316403373,
          1,
          null,
          -0.20771945316403373,
          -0.6415476134290423,
          null,
          -0.20771945316403373,
          -0.9655624477777739,
          null,
          1,
          -0.6415476134290423,
          null,
          -0.6415476134290423,
          -0.9655624477777739,
          null
         ],
         "y": [
          -0.22719142428552208,
          -0.686277464208623,
          null,
          -0.22719142428552208,
          0.6635358823126077,
          null,
          -0.22719142428552208,
          0.3712243385461673,
          null,
          -0.22719142428552208,
          -0.7057156479347131,
          null,
          -0.22719142428552208,
          0.6045174202708734,
          null,
          -0.22719142428552208,
          -0.07815594097934807,
          null,
          -0.22719142428552208,
          0.40894820253390707,
          null,
          -0.22719142428552208,
          -0.11878530268215268,
          null,
          -0.686277464208623,
          0.6635358823126077,
          null,
          -0.686277464208623,
          -0.7057156479347131,
          null,
          -0.686277464208623,
          0.6045174202708734,
          null,
          -0.686277464208623,
          -0.07815594097934807,
          null,
          -0.686277464208623,
          0.40894820253390707,
          null,
          -0.686277464208623,
          -0.11878530268215268,
          null,
          0.6635358823126077,
          0.3712243385461673,
          null,
          0.6635358823126077,
          -0.7057156479347131,
          null,
          0.6635358823126077,
          0.6045174202708734,
          null,
          0.6635358823126077,
          -0.23210006357319735,
          null,
          0.6635358823126077,
          0.40894820253390707,
          null,
          0.6635358823126077,
          -0.11878530268215268,
          null,
          0.3712243385461673,
          -0.7057156479347131,
          null,
          0.3712243385461673,
          0.6045174202708734,
          null,
          0.3712243385461673,
          -0.07815594097934807,
          null,
          0.3712243385461673,
          -0.23210006357319735,
          null,
          0.3712243385461673,
          -0.11878530268215268,
          null,
          -0.7057156479347131,
          0.6045174202708734,
          null,
          -0.7057156479347131,
          -0.07815594097934807,
          null,
          -0.7057156479347131,
          -0.23210006357319735,
          null,
          -0.7057156479347131,
          0.40894820253390707,
          null,
          -0.7057156479347131,
          -0.11878530268215268,
          null,
          0.6045174202708734,
          -0.07815594097934807,
          null,
          0.6045174202708734,
          -0.23210006357319735,
          null,
          0.6045174202708734,
          0.40894820253390707,
          null,
          -0.07815594097934807,
          -0.23210006357319735,
          null,
          -0.07815594097934807,
          0.40894820253390707,
          null,
          -0.07815594097934807,
          -0.11878530268215268,
          null,
          -0.23210006357319735,
          0.40894820253390707,
          null,
          0.40894820253390707,
          -0.11878530268215268,
          null
         ]
        },
        {
         "hoverinfo": "text",
         "marker": {
          "color": [
           "grey",
           "grey",
           "grey",
           "grey",
           "grey",
           "grey",
           "#E15F99",
           "grey",
           "grey",
           "grey"
          ],
          "line": {
           "width": 0
          },
          "opacity": 1,
          "size": [
           20,
           20,
           20,
           20,
           20,
           20,
           20,
           20,
           20,
           20
          ]
         },
         "mode": "markers+text",
         "text": [
          "0",
          "1",
          "2",
          "3",
          "4",
          "5",
          "6",
          "7",
          "8",
          "9"
         ],
         "textfont": {
          "color": "white"
         },
         "type": "scatter",
         "visible": false,
         "x": [
          0.2676573102454314,
          -0.7048097005197176,
          -0.13354674281788761,
          0.8734251975794167,
          0.12332355418768892,
          0.3887798956959191,
          -0.20771945316403373,
          1,
          -0.6415476134290423,
          -0.9655624477777739
         ],
         "y": [
          -0.22719142428552208,
          -0.686277464208623,
          0.6635358823126077,
          0.3712243385461673,
          -0.7057156479347131,
          0.6045174202708734,
          -0.07815594097934807,
          -0.23210006357319735,
          0.40894820253390707,
          -0.11878530268215268
         ]
        },
        {
         "hoverinfo": "none",
         "line": {
          "color": "#888",
          "width": 0.5
         },
         "mode": "lines",
         "type": "scatter",
         "visible": false,
         "x": [
          3.2,
          2.1208720214116594,
          null,
          3.2,
          2.368428442433638,
          null,
          3.2,
          2.8286232724675346,
          null,
          3.2,
          2.552846513710157,
          null,
          3.2,
          2.4944251857774105,
          null,
          2.1208720214116594,
          2.368428442433638,
          null,
          2.1208720214116594,
          1.8908365326708145,
          null,
          2.1208720214116594,
          2.552846513710157,
          null,
          2.1208720214116594,
          1.396634574769204,
          null,
          2.1208720214116594,
          1.788465030843407,
          null,
          2.1208720214116594,
          2.4944251857774105,
          null,
          2.1208720214116594,
          1.3588684259161772,
          null,
          2.368428442433638,
          2.8286232724675346,
          null,
          2.368428442433638,
          1.396634574769204,
          null,
          2.368428442433638,
          1.788465030843407,
          null,
          2.368428442433638,
          2.4944251857774105,
          null,
          1.8908365326708145,
          2.8286232724675346,
          null,
          1.8908365326708145,
          2.552846513710157,
          null,
          1.8908365326708145,
          1.396634574769204,
          null,
          1.8908365326708145,
          1.788465030843407,
          null,
          1.8908365326708145,
          2.4944251857774105,
          null,
          1.8908365326708145,
          1.3588684259161772,
          null,
          2.8286232724675346,
          2.552846513710157,
          null,
          2.8286232724675346,
          1.788465030843407,
          null,
          2.552846513710157,
          1.396634574769204,
          null,
          2.552846513710157,
          1.788465030843407,
          null,
          2.552846513710157,
          2.4944251857774105,
          null,
          1.396634574769204,
          1.788465030843407,
          null,
          1.396634574769204,
          1.3588684259161772,
          null,
          1.788465030843407,
          1.3588684259161772,
          null,
          2.4944251857774105,
          1.3588684259161772,
          null
         ],
         "y": [
          0.045059095941510995,
          0.09756921130873601,
          null,
          0.045059095941510995,
          -0.5155229571204726,
          null,
          0.045059095941510995,
          -0.6499305065902888,
          null,
          0.045059095941510995,
          0.016995270575121894,
          null,
          0.045059095941510995,
          0.686285306898507,
          null,
          0.09756921130873601,
          -0.5155229571204726,
          null,
          0.09756921130873601,
          0.3682367856260906,
          null,
          0.09756921130873601,
          0.016995270575121894,
          null,
          0.09756921130873601,
          -0.152869995534838,
          null,
          0.09756921130873601,
          -0.4813252411581344,
          null,
          0.09756921130873601,
          0.686285306898507,
          null,
          0.09756921130873601,
          0.5855030300537674,
          null,
          -0.5155229571204726,
          -0.6499305065902888,
          null,
          -0.5155229571204726,
          -0.152869995534838,
          null,
          -0.5155229571204726,
          -0.4813252411581344,
          null,
          -0.5155229571204726,
          0.686285306898507,
          null,
          0.3682367856260906,
          -0.6499305065902888,
          null,
          0.3682367856260906,
          0.016995270575121894,
          null,
          0.3682367856260906,
          -0.152869995534838,
          null,
          0.3682367856260906,
          -0.4813252411581344,
          null,
          0.3682367856260906,
          0.686285306898507,
          null,
          0.3682367856260906,
          0.5855030300537674,
          null,
          -0.6499305065902888,
          0.016995270575121894,
          null,
          -0.6499305065902888,
          -0.4813252411581344,
          null,
          0.016995270575121894,
          -0.152869995534838,
          null,
          0.016995270575121894,
          -0.4813252411581344,
          null,
          0.016995270575121894,
          0.686285306898507,
          null,
          -0.152869995534838,
          -0.4813252411581344,
          null,
          -0.152869995534838,
          0.5855030300537674,
          null,
          -0.4813252411581344,
          0.5855030300537674,
          null,
          0.686285306898507,
          0.5855030300537674,
          null
         ]
        },
        {
         "hoverinfo": "text",
         "marker": {
          "color": [
           "grey",
           "grey",
           "grey",
           "grey",
           "grey",
           "grey",
           "grey",
           "grey",
           "#2E91E5",
           "grey"
          ],
          "line": {
           "width": 0
          },
          "opacity": 1,
          "size": [
           20,
           20,
           20,
           20,
           20,
           20,
           20,
           20,
           20,
           20
          ]
         },
         "mode": "markers+text",
         "text": [
          "0",
          "1",
          "2",
          "3",
          "4",
          "5",
          "6",
          "7",
          "8",
          "9"
         ],
         "textfont": {
          "color": "white"
         },
         "type": "scatter",
         "visible": false,
         "x": [
          3.2,
          2.1208720214116594,
          2.368428442433638,
          1.8908365326708145,
          2.8286232724675346,
          2.552846513710157,
          1.396634574769204,
          1.788465030843407,
          2.4944251857774105,
          1.3588684259161772
         ],
         "y": [
          0.045059095941510995,
          0.09756921130873601,
          -0.5155229571204726,
          0.3682367856260906,
          -0.6499305065902888,
          0.016995270575121894,
          -0.152869995534838,
          -0.4813252411581344,
          0.686285306898507,
          0.5855030300537674
         ]
        },
        {
         "hoverinfo": "text",
         "marker": {
          "color": [
           "#2E91E5",
           "#E15F99"
          ],
          "line": {
           "width": 0
          },
          "opacity": 1,
          "size": 30
         },
         "mode": "markers+text",
         "text": [
          "B8",
          "A6"
         ],
         "textfont": {
          "color": "white"
         },
         "type": "scatter",
         "visible": false,
         "x": [
          0,
          0.125
         ],
         "y": [
          -1.3,
          -1.6
         ]
        },
        {
         "hoverinfo": "none",
         "line": {
          "color": "#888",
          "width": 0.5
         },
         "mode": "lines",
         "type": "scatter",
         "visible": false,
         "x": [
          0.5597674469603339,
          0.27791738053097353,
          null,
          0.5597674469603339,
          -0.43091784807500255,
          null,
          0.5597674469603339,
          0.3850029683096751,
          null,
          -0.1617869481233375,
          -0.010043790030904427,
          null,
          -0.1617869481233375,
          0.27791738053097353,
          null,
          -0.1617869481233375,
          -0.43091784807500255,
          null,
          -0.1617869481233375,
          0.3850029683096751,
          null,
          -0.010043790030904427,
          0.3850029683096751,
          null,
          -0.010043790030904427,
          -0.6199392095717378,
          null,
          0.27791738053097353,
          0.3850029683096751,
          null,
          -0.43091784807500255,
          -0.6199392095717378,
          null,
          0.3850029683096751,
          -0.6199392095717378,
          null
         ],
         "y": [
          -0.832624753736925,
          -0.4102453807186025,
          null,
          -0.832624753736925,
          -0.5991625698590581,
          null,
          -0.832624753736925,
          0.2444417622675797,
          null,
          0.14712239738650842,
          1,
          null,
          0.14712239738650842,
          -0.4102453807186025,
          null,
          0.14712239738650842,
          -0.5991625698590581,
          null,
          0.14712239738650842,
          0.2444417622675797,
          null,
          1,
          0.2444417622675797,
          null,
          1,
          0.45046854466049724,
          null,
          -0.4102453807186025,
          0.2444417622675797,
          null,
          -0.5991625698590581,
          0.45046854466049724,
          null,
          0.2444417622675797,
          0.45046854466049724,
          null
         ]
        },
        {
         "hoverinfo": "text",
         "marker": {
          "color": [
           "grey",
           "grey",
           "grey",
           "grey",
           "grey",
           "#E15F99",
           "grey"
          ],
          "line": {
           "width": 0
          },
          "opacity": 1,
          "size": [
           20,
           20,
           20,
           20,
           20,
           20,
           20
          ]
         },
         "mode": "markers+text",
         "text": [
          "0",
          "1",
          "2",
          "3",
          "4",
          "5",
          "6"
         ],
         "textfont": {
          "color": "white"
         },
         "type": "scatter",
         "visible": false,
         "x": [
          0.5597674469603339,
          -0.1617869481233375,
          -0.010043790030904427,
          0.27791738053097353,
          -0.43091784807500255,
          0.3850029683096751,
          -0.6199392095717378
         ],
         "y": [
          -0.832624753736925,
          0.14712239738650842,
          1,
          -0.4102453807186025,
          -0.5991625698590581,
          0.2444417622675797,
          0.45046854466049724
         ]
        },
        {
         "hoverinfo": "none",
         "line": {
          "color": "#888",
          "width": 0.5
         },
         "mode": "lines",
         "type": "scatter",
         "visible": false,
         "x": [
          2.134140822094599,
          2.476975153276501,
          null,
          2.134140822094599,
          2.3371190591928572,
          null,
          2.134140822094599,
          1.7491937818496484,
          null,
          2.134140822094599,
          2.1758226854504934,
          null,
          1.8797796824060353,
          2.646968815729866,
          null,
          1.8797796824060353,
          2.476975153276501,
          null,
          1.8797796824060353,
          2.1758226854504934,
          null,
          2.646968815729866,
          1.7491937818496484,
          null,
          2.646968815729866,
          2.1758226854504934,
          null,
          2.476975153276501,
          2.1758226854504934,
          null,
          2.3371190591928572,
          1.7491937818496484,
          null,
          2.3371190591928572,
          2.1758226854504934,
          null
         ],
         "y": [
          0.2893445037107861,
          -0.9020196623188321,
          null,
          0.2893445037107861,
          1,
          null,
          0.2893445037107861,
          0.8181667646434234,
          null,
          0.2893445037107861,
          -0.2239300181976046,
          null,
          -0.9366257894747773,
          -0.04493579836299564,
          null,
          -0.9366257894747773,
          -0.9020196623188321,
          null,
          -0.9366257894747773,
          -0.2239300181976046,
          null,
          -0.04493579836299564,
          0.8181667646434234,
          null,
          -0.04493579836299564,
          -0.2239300181976046,
          null,
          -0.9020196623188321,
          -0.2239300181976046,
          null,
          1,
          0.8181667646434234,
          null,
          1,
          -0.2239300181976046,
          null
         ]
        },
        {
         "hoverinfo": "text",
         "marker": {
          "color": [
           "grey",
           "grey",
           "grey",
           "grey",
           "grey",
           "#2E91E5",
           "grey"
          ],
          "line": {
           "width": 0
          },
          "opacity": 1,
          "size": [
           20,
           20,
           20,
           20,
           20,
           20,
           20
          ]
         },
         "mode": "markers+text",
         "text": [
          "0",
          "1",
          "2",
          "3",
          "4",
          "5",
          "6"
         ],
         "textfont": {
          "color": "white"
         },
         "type": "scatter",
         "visible": false,
         "x": [
          2.134140822094599,
          1.8797796824060353,
          2.646968815729866,
          2.476975153276501,
          2.3371190591928572,
          1.7491937818496484,
          2.1758226854504934
         ],
         "y": [
          0.2893445037107861,
          -0.9366257894747773,
          -0.04493579836299564,
          -0.9020196623188321,
          1,
          0.8181667646434234,
          -0.2239300181976046
         ]
        },
        {
         "hoverinfo": "text",
         "marker": {
          "color": [
           "#2E91E5",
           "#E15F99"
          ],
          "line": {
           "width": 0
          },
          "opacity": 1,
          "size": 30
         },
         "mode": "markers+text",
         "text": [
          "B5",
          "A5"
         ],
         "textfont": {
          "color": "white"
         },
         "type": "scatter",
         "visible": false,
         "x": [
          0,
          0.125
         ],
         "y": [
          -1.3,
          -1.6
         ]
        },
        {
         "hoverinfo": "none",
         "line": {
          "color": "#888",
          "width": 0.5
         },
         "mode": "lines",
         "type": "scatter",
         "visible": false,
         "x": [
          -0.7361018723776033,
          -0.5465611363519556,
          null,
          -0.7361018723776033,
          -0.2854490002789153,
          null,
          -0.5465611363519556,
          0.20873388481454214,
          null,
          0.8468453991656094,
          0.721575047350539,
          null,
          0.8468453991656094,
          0.20873388481454214,
          null,
          0.721575047350539,
          0.1475263136147373,
          null,
          0.20873388481454214,
          -0.1562412167670327,
          null,
          0.1475263136147373,
          -0.2854490002789153,
          null,
          -0.2854490002789153,
          -0.1562412167670327,
          null
         ],
         "y": [
          0.3927451309469584,
          -0.10738338276210156,
          null,
          0.3927451309469584,
          0.30388354049710803,
          null,
          -0.10738338276210156,
          -0.23158829043658127,
          null,
          -0.05378836160608302,
          0.4492524281763266,
          null,
          -0.05378836160608302,
          -0.23158829043658127,
          null,
          0.4492524281763266,
          0.5843386896497921,
          null,
          -0.23158829043658127,
          -0.33745975446541937,
          null,
          0.5843386896497921,
          0.30388354049710803,
          null,
          0.30388354049710803,
          -0.33745975446541937,
          null
         ]
        },
        {
         "hoverinfo": "text",
         "marker": {
          "color": [
           "grey",
           "grey",
           "grey",
           "grey",
           "grey",
           "grey",
           "grey",
           "grey",
           "grey"
          ],
          "line": {
           "width": 0
          },
          "opacity": 1,
          "size": [
           20,
           20,
           20,
           20,
           20,
           20,
           20,
           20,
           20
          ]
         },
         "mode": "markers+text",
         "text": [
          "0",
          "1",
          "2",
          "3",
          "4",
          "5",
          "6",
          "7",
          "8"
         ],
         "textfont": {
          "color": "white"
         },
         "type": "scatter",
         "visible": false,
         "x": [
          -0.7361018723776033,
          -0.5465611363519556,
          0.8468453991656094,
          0.721575047350539,
          0.20873388481454214,
          0.1475263136147373,
          -0.2854490002789153,
          -0.1562412167670327,
          -0.200327419169921
         ],
         "y": [
          0.3927451309469584,
          -0.10738338276210156,
          -0.05378836160608302,
          0.4492524281763266,
          -0.23158829043658127,
          0.5843386896497921,
          0.30388354049710803,
          -0.33745975446541937,
          -1
         ]
        },
        {
         "hoverinfo": "none",
         "line": {
          "color": "#888",
          "width": 0.5
         },
         "mode": "lines",
         "type": "scatter",
         "visible": false,
         "x": [
          1.405845479894908,
          1.9430357355803094,
          null,
          1.9430357355803094,
          2.556520861608516,
          null,
          1.9430357355803094,
          2.3843282786234554,
          null,
          1.9430357355803094,
          1.5414223738797665,
          null
         ],
         "y": [
          -0.1111044600459601,
          -0.5606597395918106,
          null,
          -0.5606597395918106,
          -0.5383425260780818,
          null,
          -0.5606597395918106,
          -0.8452477500460214,
          null,
          -0.5606597395918106,
          -0.4609977288033293,
          null
         ]
        },
        {
         "hoverinfo": "text",
         "marker": {
          "color": [
           "grey",
           "#2E91E5",
           "grey",
           "grey",
           "grey",
           "grey",
           "grey",
           "#E15F99",
           "grey"
          ],
          "line": {
           "width": 0
          },
          "opacity": 1,
          "size": [
           20,
           20,
           20,
           20,
           20,
           20,
           20,
           20,
           20
          ]
         },
         "mode": "markers+text",
         "text": [
          "0",
          "1",
          "2",
          "3",
          "4",
          "5",
          "6",
          "7",
          "8"
         ],
         "textfont": {
          "color": "white"
         },
         "type": "scatter",
         "visible": false,
         "x": [
          1.405845479894908,
          2.912841499363331,
          1.6849318348909041,
          1.9430357355803094,
          2.556520861608516,
          2.3843282786234554,
          3.079431932266546,
          1.5414223738797665,
          2.2916420038922647
         ],
         "y": [
          -0.1111044600459601,
          0.6812826919605086,
          0.7520735312678271,
          -0.5606597395918106,
          -0.5383425260780818,
          -0.8452477500460214,
          0.08299598133686763,
          -0.4609977288033293,
          1
         ]
        },
        {
         "hoverinfo": "text",
         "marker": {
          "color": [
           "#2E91E5",
           "#E15F99"
          ],
          "line": {
           "width": 0
          },
          "opacity": 1,
          "size": 30
         },
         "mode": "markers+text",
         "text": [
          "B1",
          "B7"
         ],
         "textfont": {
          "color": "white"
         },
         "type": "scatter",
         "visible": false,
         "x": [
          0,
          0.125
         ],
         "y": [
          -1.3,
          -1.6
         ]
        },
        {
         "hoverinfo": "none",
         "line": {
          "color": "#888",
          "width": 0.5
         },
         "mode": "lines",
         "type": "scatter",
         "visible": false,
         "x": [
          -0.007344114388823659,
          0.41039562634542315,
          null,
          -0.007344114388823659,
          -0.4478049784858497,
          null,
          -0.007344114388823659,
          -0.43438608946815255,
          null,
          -0.007344114388823659,
          -0.01752789633964413,
          null,
          -0.007344114388823659,
          0.8928233763161197,
          null,
          -0.007344114388823659,
          0.6863572146397148,
          null,
          -0.007344114388823659,
          -0.36265038608577616,
          null,
          0.41039562634542315,
          -0.43438608946815255,
          null,
          0.41039562634542315,
          0.2801372474669879,
          null,
          0.41039562634542315,
          -0.9999999999999999,
          null,
          0.41039562634542315,
          0.8928233763161197,
          null,
          0.41039562634542315,
          0.6863572146397148,
          null,
          -0.4478049784858497,
          0.2801372474669879,
          null,
          -0.4478049784858497,
          -0.9999999999999999,
          null,
          -0.4478049784858497,
          -0.01752789633964413,
          null,
          -0.4478049784858497,
          0.8928233763161197,
          null,
          -0.4478049784858497,
          0.6863572146397148,
          null,
          -0.4478049784858497,
          -0.36265038608577616,
          null,
          -0.43438608946815255,
          0.2801372474669879,
          null,
          -0.43438608946815255,
          -0.9999999999999999,
          null,
          -0.43438608946815255,
          -0.01752789633964413,
          null,
          -0.43438608946815255,
          0.6863572146397148,
          null,
          -0.43438608946815255,
          -0.36265038608577616,
          null,
          0.2801372474669879,
          -0.9999999999999999,
          null,
          0.2801372474669879,
          -0.01752789633964413,
          null,
          0.2801372474669879,
          0.8928233763161197,
          null,
          0.2801372474669879,
          0.6863572146397148,
          null,
          0.2801372474669879,
          -0.36265038608577616,
          null,
          -0.9999999999999999,
          -0.01752789633964413,
          null,
          -0.9999999999999999,
          -0.36265038608577616,
          null,
          -0.01752789633964413,
          0.8928233763161197,
          null,
          -0.01752789633964413,
          0.6863572146397148,
          null,
          -0.01752789633964413,
          -0.36265038608577616,
          null,
          0.8928233763161197,
          0.6863572146397148,
          null,
          0.6863572146397148,
          -0.36265038608577616,
          null
         ],
         "y": [
          -0.7682504201932125,
          -0.34332716204524466,
          null,
          -0.7682504201932125,
          -0.38980269833701964,
          null,
          -0.7682504201932125,
          0.30816869050049844,
          null,
          -0.7682504201932125,
          0.001767476673015079,
          null,
          -0.7682504201932125,
          -0.6556828939096715,
          null,
          -0.7682504201932125,
          0.18629866225404815,
          null,
          -0.7682504201932125,
          0.7934273431141726,
          null,
          -0.34332716204524466,
          0.30816869050049844,
          null,
          -0.34332716204524466,
          0.599830690317557,
          null,
          -0.34332716204524466,
          0.26757031162585637,
          null,
          -0.34332716204524466,
          -0.6556828939096715,
          null,
          -0.34332716204524466,
          0.18629866225404815,
          null,
          -0.38980269833701964,
          0.599830690317557,
          null,
          -0.38980269833701964,
          0.26757031162585637,
          null,
          -0.38980269833701964,
          0.001767476673015079,
          null,
          -0.38980269833701964,
          -0.6556828939096715,
          null,
          -0.38980269833701964,
          0.18629866225404815,
          null,
          -0.38980269833701964,
          0.7934273431141726,
          null,
          0.30816869050049844,
          0.599830690317557,
          null,
          0.30816869050049844,
          0.26757031162585637,
          null,
          0.30816869050049844,
          0.001767476673015079,
          null,
          0.30816869050049844,
          0.18629866225404815,
          null,
          0.30816869050049844,
          0.7934273431141726,
          null,
          0.599830690317557,
          0.26757031162585637,
          null,
          0.599830690317557,
          0.001767476673015079,
          null,
          0.599830690317557,
          -0.6556828939096715,
          null,
          0.599830690317557,
          0.18629866225404815,
          null,
          0.599830690317557,
          0.7934273431141726,
          null,
          0.26757031162585637,
          0.001767476673015079,
          null,
          0.26757031162585637,
          0.7934273431141726,
          null,
          0.001767476673015079,
          -0.6556828939096715,
          null,
          0.001767476673015079,
          0.18629866225404815,
          null,
          0.001767476673015079,
          0.7934273431141726,
          null,
          -0.6556828939096715,
          0.18629866225404815,
          null,
          0.18629866225404815,
          0.7934273431141726,
          null
         ]
        },
        {
         "hoverinfo": "text",
         "marker": {
          "color": [
           "grey",
           "grey",
           "grey",
           "grey",
           "grey",
           "grey",
           "grey",
           "#E15F99",
           "grey",
           "grey"
          ],
          "line": {
           "width": 0
          },
          "opacity": 1,
          "size": [
           20,
           20,
           20,
           20,
           20,
           20,
           20,
           20,
           20,
           20
          ]
         },
         "mode": "markers+text",
         "text": [
          "0",
          "1",
          "2",
          "3",
          "4",
          "5",
          "6",
          "7",
          "8",
          "9"
         ],
         "textfont": {
          "color": "white"
         },
         "type": "scatter",
         "visible": false,
         "x": [
          -0.007344114388823659,
          0.41039562634542315,
          -0.4478049784858497,
          -0.43438608946815255,
          0.2801372474669879,
          -0.9999999999999999,
          -0.01752789633964413,
          0.8928233763161197,
          0.6863572146397148,
          -0.36265038608577616
         ],
         "y": [
          -0.7682504201932125,
          -0.34332716204524466,
          -0.38980269833701964,
          0.30816869050049844,
          0.599830690317557,
          0.26757031162585637,
          0.001767476673015079,
          -0.6556828939096715,
          0.18629866225404815,
          0.7934273431141726
         ]
        },
        {
         "hoverinfo": "none",
         "line": {
          "color": "#888",
          "width": 0.5
         },
         "mode": "lines",
         "type": "scatter",
         "visible": false,
         "x": [
          2.2213663915293975,
          2.1026407293584355,
          null,
          2.2213663915293975,
          1.2000000000000002,
          null,
          2.2213663915293975,
          2.6409584164553674,
          null,
          2.2213663915293975,
          2.216335103372552,
          null,
          2.2213663915293975,
          2.8336052623484864,
          null,
          2.2213663915293975,
          1.7755845811644586,
          null,
          2.2213663915293975,
          3.107983232514104,
          null,
          1.611275330322441,
          1.2000000000000002,
          null,
          1.611275330322441,
          2.2902509529347594,
          null,
          1.611275330322441,
          2.6409584164553674,
          null,
          1.611275330322441,
          2.216335103372552,
          null,
          1.611275330322441,
          2.8336052623484864,
          null,
          1.611275330322441,
          1.7755845811644586,
          null,
          2.1026407293584355,
          1.2000000000000002,
          null,
          2.1026407293584355,
          2.6409584164553674,
          null,
          2.1026407293584355,
          2.8336052623484864,
          null,
          2.1026407293584355,
          1.7755845811644586,
          null,
          2.1026407293584355,
          3.107983232514104,
          null,
          1.2000000000000002,
          2.2902509529347594,
          null,
          1.2000000000000002,
          2.216335103372552,
          null,
          1.2000000000000002,
          1.7755845811644586,
          null,
          2.2902509529347594,
          2.6409584164553674,
          null,
          2.2902509529347594,
          2.216335103372552,
          null,
          2.2902509529347594,
          2.8336052623484864,
          null,
          2.2902509529347594,
          1.7755845811644586,
          null,
          2.2902509529347594,
          3.107983232514104,
          null,
          2.6409584164553674,
          2.216335103372552,
          null,
          2.6409584164553674,
          2.8336052623484864,
          null,
          2.6409584164553674,
          1.7755845811644586,
          null,
          2.6409584164553674,
          3.107983232514104,
          null,
          2.216335103372552,
          2.8336052623484864,
          null,
          2.216335103372552,
          1.7755845811644586,
          null,
          2.216335103372552,
          3.107983232514104,
          null,
          2.8336052623484864,
          3.107983232514104,
          null,
          1.7755845811644586,
          3.107983232514104,
          null
         ],
         "y": [
          -0.8719255744358455,
          0.25802052511601387,
          null,
          -0.8719255744358455,
          -0.09281475452530324,
          null,
          -0.8719255744358455,
          -0.16068842717052778,
          null,
          -0.8719255744358455,
          -0.36953052145184795,
          null,
          -0.8719255744358455,
          0.366188183810959,
          null,
          -0.8719255744358455,
          -0.23507771020136425,
          null,
          -0.8719255744358455,
          -0.23169959021838005,
          null,
          0.6253044490645064,
          -0.09281475452530324,
          null,
          0.6253044490645064,
          0.7122234200117896,
          null,
          0.6253044490645064,
          -0.16068842717052778,
          null,
          0.6253044490645064,
          -0.36953052145184795,
          null,
          0.6253044490645064,
          0.366188183810959,
          null,
          0.6253044490645064,
          -0.23507771020136425,
          null,
          0.25802052511601387,
          -0.09281475452530324,
          null,
          0.25802052511601387,
          -0.16068842717052778,
          null,
          0.25802052511601387,
          0.366188183810959,
          null,
          0.25802052511601387,
          -0.23507771020136425,
          null,
          0.25802052511601387,
          -0.23169959021838005,
          null,
          -0.09281475452530324,
          0.7122234200117896,
          null,
          -0.09281475452530324,
          -0.36953052145184795,
          null,
          -0.09281475452530324,
          -0.23507771020136425,
          null,
          0.7122234200117896,
          -0.16068842717052778,
          null,
          0.7122234200117896,
          -0.36953052145184795,
          null,
          0.7122234200117896,
          0.366188183810959,
          null,
          0.7122234200117896,
          -0.23507771020136425,
          null,
          0.7122234200117896,
          -0.23169959021838005,
          null,
          -0.16068842717052778,
          -0.36953052145184795,
          null,
          -0.16068842717052778,
          0.366188183810959,
          null,
          -0.16068842717052778,
          -0.23507771020136425,
          null,
          -0.16068842717052778,
          -0.23169959021838005,
          null,
          -0.36953052145184795,
          0.366188183810959,
          null,
          -0.36953052145184795,
          -0.23507771020136425,
          null,
          -0.36953052145184795,
          -0.23169959021838005,
          null,
          0.366188183810959,
          -0.23169959021838005,
          null,
          -0.23507771020136425,
          -0.23169959021838005,
          null
         ]
        },
        {
         "hoverinfo": "text",
         "marker": {
          "color": [
           "grey",
           "grey",
           "grey",
           "grey",
           "grey",
           "grey",
           "grey",
           "grey",
           "grey",
           "#2E91E5"
          ],
          "line": {
           "width": 0
          },
          "opacity": 1,
          "size": [
           20,
           20,
           20,
           20,
           20,
           20,
           20,
           20,
           20,
           20
          ]
         },
         "mode": "markers+text",
         "text": [
          "0",
          "1",
          "2",
          "3",
          "4",
          "5",
          "6",
          "7",
          "8",
          "9"
         ],
         "textfont": {
          "color": "white"
         },
         "type": "scatter",
         "visible": false,
         "x": [
          2.2213663915293975,
          1.611275330322441,
          2.1026407293584355,
          1.2000000000000002,
          2.2902509529347594,
          2.6409584164553674,
          2.216335103372552,
          2.8336052623484864,
          1.7755845811644586,
          3.107983232514104
         ],
         "y": [
          -0.8719255744358455,
          0.6253044490645064,
          0.25802052511601387,
          -0.09281475452530324,
          0.7122234200117896,
          -0.16068842717052778,
          -0.36953052145184795,
          0.366188183810959,
          -0.23507771020136425,
          -0.23169959021838005
         ]
        },
        {
         "hoverinfo": "text",
         "marker": {
          "color": [
           "#2E91E5",
           "#E15F99"
          ],
          "line": {
           "width": 0
          },
          "opacity": 1,
          "size": 30
         },
         "mode": "markers+text",
         "text": [
          "B9",
          "A7"
         ],
         "textfont": {
          "color": "white"
         },
         "type": "scatter",
         "visible": false,
         "x": [
          0,
          0.125
         ],
         "y": [
          -1.3,
          -1.6
         ]
        }
       ],
       "layout": {
        "hovermode": "closest",
        "margin": {
         "b": 5,
         "l": 5,
         "r": 5,
         "t": 50
        },
        "showlegend": false,
        "template": {
         "data": {
          "bar": [
           {
            "error_x": {
             "color": "#2a3f5f"
            },
            "error_y": {
             "color": "#2a3f5f"
            },
            "marker": {
             "line": {
              "color": "#E5ECF6",
              "width": 0.5
             },
             "pattern": {
              "fillmode": "overlay",
              "size": 10,
              "solidity": 0.2
             }
            },
            "type": "bar"
           }
          ],
          "barpolar": [
           {
            "marker": {
             "line": {
              "color": "#E5ECF6",
              "width": 0.5
             },
             "pattern": {
              "fillmode": "overlay",
              "size": 10,
              "solidity": 0.2
             }
            },
            "type": "barpolar"
           }
          ],
          "carpet": [
           {
            "aaxis": {
             "endlinecolor": "#2a3f5f",
             "gridcolor": "white",
             "linecolor": "white",
             "minorgridcolor": "white",
             "startlinecolor": "#2a3f5f"
            },
            "baxis": {
             "endlinecolor": "#2a3f5f",
             "gridcolor": "white",
             "linecolor": "white",
             "minorgridcolor": "white",
             "startlinecolor": "#2a3f5f"
            },
            "type": "carpet"
           }
          ],
          "choropleth": [
           {
            "colorbar": {
             "outlinewidth": 0,
             "ticks": ""
            },
            "type": "choropleth"
           }
          ],
          "contour": [
           {
            "colorbar": {
             "outlinewidth": 0,
             "ticks": ""
            },
            "colorscale": [
             [
              0,
              "#0d0887"
             ],
             [
              0.1111111111111111,
              "#46039f"
             ],
             [
              0.2222222222222222,
              "#7201a8"
             ],
             [
              0.3333333333333333,
              "#9c179e"
             ],
             [
              0.4444444444444444,
              "#bd3786"
             ],
             [
              0.5555555555555556,
              "#d8576b"
             ],
             [
              0.6666666666666666,
              "#ed7953"
             ],
             [
              0.7777777777777778,
              "#fb9f3a"
             ],
             [
              0.8888888888888888,
              "#fdca26"
             ],
             [
              1,
              "#f0f921"
             ]
            ],
            "type": "contour"
           }
          ],
          "contourcarpet": [
           {
            "colorbar": {
             "outlinewidth": 0,
             "ticks": ""
            },
            "type": "contourcarpet"
           }
          ],
          "heatmap": [
           {
            "colorbar": {
             "outlinewidth": 0,
             "ticks": ""
            },
            "colorscale": [
             [
              0,
              "#0d0887"
             ],
             [
              0.1111111111111111,
              "#46039f"
             ],
             [
              0.2222222222222222,
              "#7201a8"
             ],
             [
              0.3333333333333333,
              "#9c179e"
             ],
             [
              0.4444444444444444,
              "#bd3786"
             ],
             [
              0.5555555555555556,
              "#d8576b"
             ],
             [
              0.6666666666666666,
              "#ed7953"
             ],
             [
              0.7777777777777778,
              "#fb9f3a"
             ],
             [
              0.8888888888888888,
              "#fdca26"
             ],
             [
              1,
              "#f0f921"
             ]
            ],
            "type": "heatmap"
           }
          ],
          "heatmapgl": [
           {
            "colorbar": {
             "outlinewidth": 0,
             "ticks": ""
            },
            "colorscale": [
             [
              0,
              "#0d0887"
             ],
             [
              0.1111111111111111,
              "#46039f"
             ],
             [
              0.2222222222222222,
              "#7201a8"
             ],
             [
              0.3333333333333333,
              "#9c179e"
             ],
             [
              0.4444444444444444,
              "#bd3786"
             ],
             [
              0.5555555555555556,
              "#d8576b"
             ],
             [
              0.6666666666666666,
              "#ed7953"
             ],
             [
              0.7777777777777778,
              "#fb9f3a"
             ],
             [
              0.8888888888888888,
              "#fdca26"
             ],
             [
              1,
              "#f0f921"
             ]
            ],
            "type": "heatmapgl"
           }
          ],
          "histogram": [
           {
            "marker": {
             "pattern": {
              "fillmode": "overlay",
              "size": 10,
              "solidity": 0.2
             }
            },
            "type": "histogram"
           }
          ],
          "histogram2d": [
           {
            "colorbar": {
             "outlinewidth": 0,
             "ticks": ""
            },
            "colorscale": [
             [
              0,
              "#0d0887"
             ],
             [
              0.1111111111111111,
              "#46039f"
             ],
             [
              0.2222222222222222,
              "#7201a8"
             ],
             [
              0.3333333333333333,
              "#9c179e"
             ],
             [
              0.4444444444444444,
              "#bd3786"
             ],
             [
              0.5555555555555556,
              "#d8576b"
             ],
             [
              0.6666666666666666,
              "#ed7953"
             ],
             [
              0.7777777777777778,
              "#fb9f3a"
             ],
             [
              0.8888888888888888,
              "#fdca26"
             ],
             [
              1,
              "#f0f921"
             ]
            ],
            "type": "histogram2d"
           }
          ],
          "histogram2dcontour": [
           {
            "colorbar": {
             "outlinewidth": 0,
             "ticks": ""
            },
            "colorscale": [
             [
              0,
              "#0d0887"
             ],
             [
              0.1111111111111111,
              "#46039f"
             ],
             [
              0.2222222222222222,
              "#7201a8"
             ],
             [
              0.3333333333333333,
              "#9c179e"
             ],
             [
              0.4444444444444444,
              "#bd3786"
             ],
             [
              0.5555555555555556,
              "#d8576b"
             ],
             [
              0.6666666666666666,
              "#ed7953"
             ],
             [
              0.7777777777777778,
              "#fb9f3a"
             ],
             [
              0.8888888888888888,
              "#fdca26"
             ],
             [
              1,
              "#f0f921"
             ]
            ],
            "type": "histogram2dcontour"
           }
          ],
          "mesh3d": [
           {
            "colorbar": {
             "outlinewidth": 0,
             "ticks": ""
            },
            "type": "mesh3d"
           }
          ],
          "parcoords": [
           {
            "line": {
             "colorbar": {
              "outlinewidth": 0,
              "ticks": ""
             }
            },
            "type": "parcoords"
           }
          ],
          "pie": [
           {
            "automargin": true,
            "type": "pie"
           }
          ],
          "scatter": [
           {
            "fillpattern": {
             "fillmode": "overlay",
             "size": 10,
             "solidity": 0.2
            },
            "type": "scatter"
           }
          ],
          "scatter3d": [
           {
            "line": {
             "colorbar": {
              "outlinewidth": 0,
              "ticks": ""
             }
            },
            "marker": {
             "colorbar": {
              "outlinewidth": 0,
              "ticks": ""
             }
            },
            "type": "scatter3d"
           }
          ],
          "scattercarpet": [
           {
            "marker": {
             "colorbar": {
              "outlinewidth": 0,
              "ticks": ""
             }
            },
            "type": "scattercarpet"
           }
          ],
          "scattergeo": [
           {
            "marker": {
             "colorbar": {
              "outlinewidth": 0,
              "ticks": ""
             }
            },
            "type": "scattergeo"
           }
          ],
          "scattergl": [
           {
            "marker": {
             "colorbar": {
              "outlinewidth": 0,
              "ticks": ""
             }
            },
            "type": "scattergl"
           }
          ],
          "scattermapbox": [
           {
            "marker": {
             "colorbar": {
              "outlinewidth": 0,
              "ticks": ""
             }
            },
            "type": "scattermapbox"
           }
          ],
          "scatterpolar": [
           {
            "marker": {
             "colorbar": {
              "outlinewidth": 0,
              "ticks": ""
             }
            },
            "type": "scatterpolar"
           }
          ],
          "scatterpolargl": [
           {
            "marker": {
             "colorbar": {
              "outlinewidth": 0,
              "ticks": ""
             }
            },
            "type": "scatterpolargl"
           }
          ],
          "scatterternary": [
           {
            "marker": {
             "colorbar": {
              "outlinewidth": 0,
              "ticks": ""
             }
            },
            "type": "scatterternary"
           }
          ],
          "surface": [
           {
            "colorbar": {
             "outlinewidth": 0,
             "ticks": ""
            },
            "colorscale": [
             [
              0,
              "#0d0887"
             ],
             [
              0.1111111111111111,
              "#46039f"
             ],
             [
              0.2222222222222222,
              "#7201a8"
             ],
             [
              0.3333333333333333,
              "#9c179e"
             ],
             [
              0.4444444444444444,
              "#bd3786"
             ],
             [
              0.5555555555555556,
              "#d8576b"
             ],
             [
              0.6666666666666666,
              "#ed7953"
             ],
             [
              0.7777777777777778,
              "#fb9f3a"
             ],
             [
              0.8888888888888888,
              "#fdca26"
             ],
             [
              1,
              "#f0f921"
             ]
            ],
            "type": "surface"
           }
          ],
          "table": [
           {
            "cells": {
             "fill": {
              "color": "#EBF0F8"
             },
             "line": {
              "color": "white"
             }
            },
            "header": {
             "fill": {
              "color": "#C8D4E3"
             },
             "line": {
              "color": "white"
             }
            },
            "type": "table"
           }
          ]
         },
         "layout": {
          "annotationdefaults": {
           "arrowcolor": "#2a3f5f",
           "arrowhead": 0,
           "arrowwidth": 1
          },
          "autotypenumbers": "strict",
          "coloraxis": {
           "colorbar": {
            "outlinewidth": 0,
            "ticks": ""
           }
          },
          "colorscale": {
           "diverging": [
            [
             0,
             "#8e0152"
            ],
            [
             0.1,
             "#c51b7d"
            ],
            [
             0.2,
             "#de77ae"
            ],
            [
             0.3,
             "#f1b6da"
            ],
            [
             0.4,
             "#fde0ef"
            ],
            [
             0.5,
             "#f7f7f7"
            ],
            [
             0.6,
             "#e6f5d0"
            ],
            [
             0.7,
             "#b8e186"
            ],
            [
             0.8,
             "#7fbc41"
            ],
            [
             0.9,
             "#4d9221"
            ],
            [
             1,
             "#276419"
            ]
           ],
           "sequential": [
            [
             0,
             "#0d0887"
            ],
            [
             0.1111111111111111,
             "#46039f"
            ],
            [
             0.2222222222222222,
             "#7201a8"
            ],
            [
             0.3333333333333333,
             "#9c179e"
            ],
            [
             0.4444444444444444,
             "#bd3786"
            ],
            [
             0.5555555555555556,
             "#d8576b"
            ],
            [
             0.6666666666666666,
             "#ed7953"
            ],
            [
             0.7777777777777778,
             "#fb9f3a"
            ],
            [
             0.8888888888888888,
             "#fdca26"
            ],
            [
             1,
             "#f0f921"
            ]
           ],
           "sequentialminus": [
            [
             0,
             "#0d0887"
            ],
            [
             0.1111111111111111,
             "#46039f"
            ],
            [
             0.2222222222222222,
             "#7201a8"
            ],
            [
             0.3333333333333333,
             "#9c179e"
            ],
            [
             0.4444444444444444,
             "#bd3786"
            ],
            [
             0.5555555555555556,
             "#d8576b"
            ],
            [
             0.6666666666666666,
             "#ed7953"
            ],
            [
             0.7777777777777778,
             "#fb9f3a"
            ],
            [
             0.8888888888888888,
             "#fdca26"
            ],
            [
             1,
             "#f0f921"
            ]
           ]
          },
          "colorway": [
           "#636efa",
           "#EF553B",
           "#00cc96",
           "#ab63fa",
           "#FFA15A",
           "#19d3f3",
           "#FF6692",
           "#B6E880",
           "#FF97FF",
           "#FECB52"
          ],
          "font": {
           "color": "#2a3f5f"
          },
          "geo": {
           "bgcolor": "white",
           "lakecolor": "white",
           "landcolor": "#E5ECF6",
           "showlakes": true,
           "showland": true,
           "subunitcolor": "white"
          },
          "hoverlabel": {
           "align": "left"
          },
          "hovermode": "closest",
          "mapbox": {
           "style": "light"
          },
          "paper_bgcolor": "white",
          "plot_bgcolor": "#E5ECF6",
          "polar": {
           "angularaxis": {
            "gridcolor": "white",
            "linecolor": "white",
            "ticks": ""
           },
           "bgcolor": "#E5ECF6",
           "radialaxis": {
            "gridcolor": "white",
            "linecolor": "white",
            "ticks": ""
           }
          },
          "scene": {
           "xaxis": {
            "backgroundcolor": "#E5ECF6",
            "gridcolor": "white",
            "gridwidth": 2,
            "linecolor": "white",
            "showbackground": true,
            "ticks": "",
            "zerolinecolor": "white"
           },
           "yaxis": {
            "backgroundcolor": "#E5ECF6",
            "gridcolor": "white",
            "gridwidth": 2,
            "linecolor": "white",
            "showbackground": true,
            "ticks": "",
            "zerolinecolor": "white"
           },
           "zaxis": {
            "backgroundcolor": "#E5ECF6",
            "gridcolor": "white",
            "gridwidth": 2,
            "linecolor": "white",
            "showbackground": true,
            "ticks": "",
            "zerolinecolor": "white"
           }
          },
          "shapedefaults": {
           "line": {
            "color": "#2a3f5f"
           }
          },
          "ternary": {
           "aaxis": {
            "gridcolor": "white",
            "linecolor": "white",
            "ticks": ""
           },
           "baxis": {
            "gridcolor": "white",
            "linecolor": "white",
            "ticks": ""
           },
           "bgcolor": "#E5ECF6",
           "caxis": {
            "gridcolor": "white",
            "linecolor": "white",
            "ticks": ""
           }
          },
          "title": {
           "x": 0.05
          },
          "xaxis": {
           "automargin": true,
           "gridcolor": "white",
           "linecolor": "white",
           "ticks": "",
           "title": {
            "standoff": 15
           },
           "zerolinecolor": "white",
           "zerolinewidth": 2
          },
          "yaxis": {
           "automargin": true,
           "gridcolor": "white",
           "linecolor": "white",
           "ticks": "",
           "title": {
            "standoff": 15
           },
           "zerolinecolor": "white",
           "zerolinewidth": 2
          }
         }
        },
        "title": {
         "text": "Graph Isomorphism Rollout Samples"
        },
        "updatemenus": [
         {
          "active": 0,
          "buttons": [
           {
            "args": [
             {
              "visible": [
               true,
               true,
               true,
               true,
               true,
               true,
               true,
               false,
               false,
               false,
               false,
               false,
               false,
               false,
               false,
               false,
               false,
               false,
               false,
               false,
               false,
               false,
               false,
               false,
               false,
               false,
               false,
               false,
               false,
               false,
               false,
               false,
               false,
               false,
               false,
               false,
               false,
               false,
               false,
               false,
               false,
               false,
               false,
               false,
               false,
               false,
               false,
               false,
               false,
               false,
               false,
               false
              ]
             }
            ],
            "label": "Batch item 0",
            "method": "update"
           },
           {
            "args": [
             {
              "visible": [
               true,
               true,
               false,
               false,
               false,
               false,
               false,
               true,
               true,
               true,
               true,
               true,
               false,
               false,
               false,
               false,
               false,
               false,
               false,
               false,
               false,
               false,
               false,
               false,
               false,
               false,
               false,
               false,
               false,
               false,
               false,
               false,
               false,
               false,
               false,
               false,
               false,
               false,
               false,
               false,
               false,
               false,
               false,
               false,
               false,
               false,
               false,
               false,
               false,
               false,
               false,
               false
              ]
             }
            ],
            "label": "Batch item 1",
            "method": "update"
           },
           {
            "args": [
             {
              "visible": [
               true,
               true,
               false,
               false,
               false,
               false,
               false,
               false,
               false,
               false,
               false,
               false,
               true,
               true,
               true,
               true,
               true,
               false,
               false,
               false,
               false,
               false,
               false,
               false,
               false,
               false,
               false,
               false,
               false,
               false,
               false,
               false,
               false,
               false,
               false,
               false,
               false,
               false,
               false,
               false,
               false,
               false,
               false,
               false,
               false,
               false,
               false,
               false,
               false,
               false,
               false,
               false
              ]
             }
            ],
            "label": "Batch item 2",
            "method": "update"
           },
           {
            "args": [
             {
              "visible": [
               true,
               true,
               false,
               false,
               false,
               false,
               false,
               false,
               false,
               false,
               false,
               false,
               false,
               false,
               false,
               false,
               false,
               true,
               true,
               true,
               true,
               true,
               false,
               false,
               false,
               false,
               false,
               false,
               false,
               false,
               false,
               false,
               false,
               false,
               false,
               false,
               false,
               false,
               false,
               false,
               false,
               false,
               false,
               false,
               false,
               false,
               false,
               false,
               false,
               false,
               false,
               false
              ]
             }
            ],
            "label": "Batch item 3",
            "method": "update"
           },
           {
            "args": [
             {
              "visible": [
               true,
               true,
               false,
               false,
               false,
               false,
               false,
               false,
               false,
               false,
               false,
               false,
               false,
               false,
               false,
               false,
               false,
               false,
               false,
               false,
               false,
               false,
               true,
               true,
               true,
               true,
               true,
               false,
               false,
               false,
               false,
               false,
               false,
               false,
               false,
               false,
               false,
               false,
               false,
               false,
               false,
               false,
               false,
               false,
               false,
               false,
               false,
               false,
               false,
               false,
               false,
               false
              ]
             }
            ],
            "label": "Batch item 4",
            "method": "update"
           },
           {
            "args": [
             {
              "visible": [
               true,
               true,
               false,
               false,
               false,
               false,
               false,
               false,
               false,
               false,
               false,
               false,
               false,
               false,
               false,
               false,
               false,
               false,
               false,
               false,
               false,
               false,
               false,
               false,
               false,
               false,
               false,
               true,
               true,
               true,
               true,
               true,
               false,
               false,
               false,
               false,
               false,
               false,
               false,
               false,
               false,
               false,
               false,
               false,
               false,
               false,
               false,
               false,
               false,
               false,
               false,
               false
              ]
             }
            ],
            "label": "Batch item 5",
            "method": "update"
           },
           {
            "args": [
             {
              "visible": [
               true,
               true,
               false,
               false,
               false,
               false,
               false,
               false,
               false,
               false,
               false,
               false,
               false,
               false,
               false,
               false,
               false,
               false,
               false,
               false,
               false,
               false,
               false,
               false,
               false,
               false,
               false,
               false,
               false,
               false,
               false,
               false,
               true,
               true,
               true,
               true,
               true,
               false,
               false,
               false,
               false,
               false,
               false,
               false,
               false,
               false,
               false,
               false,
               false,
               false,
               false,
               false
              ]
             }
            ],
            "label": "Batch item 6",
            "method": "update"
           },
           {
            "args": [
             {
              "visible": [
               true,
               true,
               false,
               false,
               false,
               false,
               false,
               false,
               false,
               false,
               false,
               false,
               false,
               false,
               false,
               false,
               false,
               false,
               false,
               false,
               false,
               false,
               false,
               false,
               false,
               false,
               false,
               false,
               false,
               false,
               false,
               false,
               false,
               false,
               false,
               false,
               false,
               true,
               true,
               true,
               true,
               true,
               false,
               false,
               false,
               false,
               false,
               false,
               false,
               false,
               false,
               false
              ]
             }
            ],
            "label": "Batch item 7",
            "method": "update"
           },
           {
            "args": [
             {
              "visible": [
               true,
               true,
               false,
               false,
               false,
               false,
               false,
               false,
               false,
               false,
               false,
               false,
               false,
               false,
               false,
               false,
               false,
               false,
               false,
               false,
               false,
               false,
               false,
               false,
               false,
               false,
               false,
               false,
               false,
               false,
               false,
               false,
               false,
               false,
               false,
               false,
               false,
               false,
               false,
               false,
               false,
               false,
               true,
               true,
               true,
               true,
               true,
               false,
               false,
               false,
               false,
               false
              ]
             }
            ],
            "label": "Batch item 8",
            "method": "update"
           },
           {
            "args": [
             {
              "visible": [
               true,
               true,
               false,
               false,
               false,
               false,
               false,
               false,
               false,
               false,
               false,
               false,
               false,
               false,
               false,
               false,
               false,
               false,
               false,
               false,
               false,
               false,
               false,
               false,
               false,
               false,
               false,
               false,
               false,
               false,
               false,
               false,
               false,
               false,
               false,
               false,
               false,
               false,
               false,
               false,
               false,
               false,
               false,
               false,
               false,
               false,
               false,
               true,
               true,
               true,
               true,
               true
              ]
             }
            ],
            "label": "Batch item 9",
            "method": "update"
           }
          ],
          "showactive": true
         }
        ],
        "xaxis": {
         "showgrid": false,
         "showticklabels": false,
         "zeroline": false
        },
        "yaxis": {
         "showgrid": false,
         "showticklabels": false,
         "zeroline": false
        }
       }
      }
     },
     "metadata": {},
     "output_type": "display_data"
    },
    {
     "name": "stderr",
     "output_type": "stream",
     "text": [
      "wandb: WARNING No requirements.txt found, not creating job artifact. See https://docs.wandb.ai/guides/launch/create-job\n"
     ]
    },
    {
     "data": {
      "application/vnd.jupyter.widget-view+json": {
       "model_id": "715fe5f1213f4a228ca50179b8a7ff76",
       "version_major": 2,
       "version_minor": 0
      },
      "text/plain": [
       "VBox(children=(Label(value='0.000 MB of 0.000 MB uploaded\\r'), FloatProgress(value=1.0, max=1.0)))"
      ]
     },
     "metadata": {},
     "output_type": "display_data"
    },
    {
     "data": {
      "text/html": [
       " View run <strong style=\"color:#cdcd00\">test_11</strong> at: <a href='https://wandb.ai/lrhammond-team/pvg-sandbox/runs/test_11' target=\"_blank\">https://wandb.ai/lrhammond-team/pvg-sandbox/runs/test_11</a><br/>Synced 3 W&B file(s), 0 media file(s), 0 artifact file(s) and 0 other file(s)"
      ],
      "text/plain": [
       "<IPython.core.display.HTML object>"
      ]
     },
     "metadata": {},
     "output_type": "display_data"
    },
    {
     "data": {
      "text/html": [
       "Find logs at: <code>./wandb/run-20240116_192721-test_11/logs</code>"
      ],
      "text/plain": [
       "<IPython.core.display.HTML object>"
      ]
     },
     "metadata": {},
     "output_type": "display_data"
    }
   ],
   "source": [
    "with GraphIsomorphismRolloutSamples(\n",
    "    run_id=WANDB_RUN_NAME, iteration=ITERATION, wandb_project=WANDB_PROJECT\n",
    ") as rollout_samples:\n",
    "    rollout_samples.visualise()"
   ]
  }
 ],
 "metadata": {
  "kernelspec": {
   "display_name": "pvg-experiments",
   "language": "python",
   "name": "python3"
  },
  "language_info": {
   "codemirror_mode": {
    "name": "ipython",
    "version": 3
   },
   "file_extension": ".py",
   "mimetype": "text/x-python",
   "name": "python",
   "nbconvert_exporter": "python",
   "pygments_lexer": "ipython3",
   "version": "3.11.6"
  }
 },
 "nbformat": 4,
 "nbformat_minor": 2
}
