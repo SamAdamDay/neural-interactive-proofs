{
 "cells": [
  {
   "cell_type": "markdown",
   "metadata": {},
   "source": [
    "# Testing graph isomorphism agents"
   ]
  },
  {
   "cell_type": "markdown",
   "metadata": {},
   "source": [
    "## Setup"
   ]
  },
  {
   "cell_type": "code",
   "execution_count": 56,
   "metadata": {},
   "outputs": [],
   "source": [
    "FORCE_CPU = True\n",
    "\n",
    "SEED = 349287\n",
    "\n",
    "LOAD_CHECKPOINT = True\n",
    "CHECKPOINT_RUN_ID = \"ppo_gi_next_norm_hist_no_round_1_1\"\n",
    "CHECKPOINT_VERSION = \"v24\"\n",
    "NORMALIZE_MESSAGE_HISTORY_DEFAULT = True\n",
    "\n",
    "BATCH_SIZE = 128"
   ]
  },
  {
   "cell_type": "code",
   "execution_count": 57,
   "metadata": {},
   "outputs": [],
   "source": [
    "import torch\n",
    "from torch import Tensor\n",
    "from torch import nn\n",
    "\n",
    "from tensordict import TensorDictBase\n",
    "from tensordict.nn import TensorDictSequential\n",
    "\n",
    "import numpy as np\n",
    "\n",
    "from tqdm import tqdm\n",
    "\n",
    "import pandas as pd\n",
    "\n",
    "import plotly.graph_objects as go\n",
    "import plotly.express as px\n",
    "\n",
    "from rich.console import Console\n",
    "from rich.table import Table\n",
    "\n",
    "from pvg import (\n",
    "    Parameters,\n",
    "    ScenarioType,\n",
    "    TrainerType,\n",
    "    AgentsParameters,\n",
    "    GraphIsomorphismAgentParameters,\n",
    ")\n",
    "from pvg.experiment_settings import ExperimentSettings\n",
    "from pvg.graph_isomorphism import (\n",
    "    GraphIsomorphismAgentHooks,\n",
    ")\n",
    "from pvg.scenario_instance import build_scenario_instance\n",
    "from pvg.scenario_base import DataLoader"
   ]
  },
  {
   "cell_type": "code",
   "execution_count": 58,
   "metadata": {},
   "outputs": [],
   "source": [
    "torch.manual_seed(SEED)\n",
    "torch_generator = torch.Generator().manual_seed(SEED)"
   ]
  },
  {
   "cell_type": "code",
   "execution_count": 59,
   "metadata": {},
   "outputs": [
    {
     "name": "stdout",
     "output_type": "stream",
     "text": [
      "cpu\n"
     ]
    }
   ],
   "source": [
    "if not FORCE_CPU and torch.cuda.is_available():\n",
    "    device = torch.device(\"cuda\")\n",
    "else:\n",
    "    device = torch.device(\"cpu\")\n",
    "print(device)"
   ]
  },
  {
   "cell_type": "markdown",
   "metadata": {},
   "source": [
    "## Create scenario and agents"
   ]
  },
  {
   "cell_type": "code",
   "execution_count": 60,
   "metadata": {},
   "outputs": [],
   "source": [
    "params = Parameters(\n",
    "    scenario=ScenarioType.GRAPH_ISOMORPHISM,\n",
    "    trainer=TrainerType.VANILLA_PPO,\n",
    "    dataset=\"eru10000\",\n",
    "    seed=SEED,\n",
    "    agents=AgentsParameters(\n",
    "        verifier=GraphIsomorphismAgentParameters(\n",
    "            load_checkpoint_and_parameters=LOAD_CHECKPOINT,\n",
    "            checkpoint_run_id=CHECKPOINT_RUN_ID,\n",
    "            checkpoint_version=CHECKPOINT_VERSION,\n",
    "            normalize_message_history=NORMALIZE_MESSAGE_HISTORY_DEFAULT,\n",
    "        ),\n",
    "        prover=GraphIsomorphismAgentParameters(\n",
    "            load_checkpoint_and_parameters=LOAD_CHECKPOINT,\n",
    "            checkpoint_run_id=CHECKPOINT_RUN_ID,\n",
    "            checkpoint_version=CHECKPOINT_VERSION,\n",
    "            normalize_message_history=NORMALIZE_MESSAGE_HISTORY_DEFAULT,\n",
    "        ),\n",
    "    ),\n",
    ")"
   ]
  },
  {
   "cell_type": "code",
   "execution_count": 61,
   "metadata": {},
   "outputs": [],
   "source": [
    "settings = ExperimentSettings(\n",
    "    device=device,\n",
    ")"
   ]
  },
  {
   "cell_type": "code",
   "execution_count": 62,
   "metadata": {},
   "outputs": [
    {
     "name": "stderr",
     "output_type": "stream",
     "text": [
      "wandb: WARNING No requirements.txt found, not creating job artifact. See https://docs.wandb.ai/guides/launch/create-job\n"
     ]
    },
    {
     "data": {
      "application/vnd.jupyter.widget-view+json": {
       "model_id": "a40b3f3351214cdca9be750c8dc5434f",
       "version_major": 2,
       "version_minor": 0
      },
      "text/plain": [
       "VBox(children=(Label(value='Waiting for wandb.init()...\\r'), FloatProgress(value=0.011112387711182236, max=1.0…"
      ]
     },
     "metadata": {},
     "output_type": "display_data"
    },
    {
     "name": "stderr",
     "output_type": "stream",
     "text": [
      "wandb: WARNING No requirements.txt found, not creating job artifact. See https://docs.wandb.ai/guides/launch/create-job\n"
     ]
    }
   ],
   "source": [
    "scenario_instance = build_scenario_instance(\n",
    "    params=params,\n",
    "    settings=settings,\n",
    ")"
   ]
  },
  {
   "cell_type": "code",
   "execution_count": 63,
   "metadata": {},
   "outputs": [],
   "source": [
    "class TensorDictSequentialHooks(TensorDictSequential):\n",
    "    def forward(\n",
    "        self,\n",
    "        tensordict: TensorDictBase,\n",
    "        tensordict_out: TensorDictBase | None = None,\n",
    "        **kwargs,\n",
    "    ) -> TensorDictBase:\n",
    "        for module in self.module:\n",
    "            tensordict = self._run_module(module, tensordict, **kwargs)\n",
    "        if tensordict_out is not None:\n",
    "            tensordict_out.update(tensordict, inplace=True)\n",
    "            return tensordict_out\n",
    "        return tensordict"
   ]
  },
  {
   "cell_type": "code",
   "execution_count": 64,
   "metadata": {},
   "outputs": [],
   "source": [
    "combined_body = scenario_instance.combined_body\n",
    "combined_policy_head = scenario_instance.combined_policy_head"
   ]
  },
  {
   "cell_type": "code",
   "execution_count": 65,
   "metadata": {},
   "outputs": [],
   "source": [
    "combined_actor = TensorDictSequentialHooks(combined_body, combined_policy_head)"
   ]
  },
  {
   "cell_type": "code",
   "execution_count": 66,
   "metadata": {},
   "outputs": [],
   "source": [
    "dataset = scenario_instance.train_dataset"
   ]
  },
  {
   "cell_type": "code",
   "execution_count": 67,
   "metadata": {},
   "outputs": [
    {
     "data": {
      "text/plain": [
       "GraphIsomorphismDataset(\n",
       "    fields={\n",
       "        adjacency: MemoryMappedTensor(shape=torch.Size([10000, 2, 11, 11]), device=cpu, dtype=torch.int32, is_shared=True),\n",
       "        node_mask: MemoryMappedTensor(shape=torch.Size([10000, 2, 11]), device=cpu, dtype=torch.bool, is_shared=True),\n",
       "        wl_score: MemoryMappedTensor(shape=torch.Size([10000]), device=cpu, dtype=torch.int32, is_shared=True),\n",
       "        x: MemoryMappedTensor(shape=torch.Size([10000, 2, 11, 8]), device=cpu, dtype=torch.float32, is_shared=True),\n",
       "        y: MemoryMappedTensor(shape=torch.Size([10000]), device=cpu, dtype=torch.int64, is_shared=True)},\n",
       "    batch_size=torch.Size([10000]),\n",
       "    device=None,\n",
       "    is_shared=False)"
      ]
     },
     "execution_count": 67,
     "metadata": {},
     "output_type": "execute_result"
    }
   ],
   "source": [
    "dataset"
   ]
  },
  {
   "cell_type": "code",
   "execution_count": 68,
   "metadata": {},
   "outputs": [
    {
     "data": {
      "text/plain": [
       "11"
      ]
     },
     "execution_count": 68,
     "metadata": {},
     "output_type": "execute_result"
    }
   ],
   "source": [
    "max_num_nodes = dataset[\"x\"].shape[-2]\n",
    "max_num_nodes"
   ]
  },
  {
   "cell_type": "markdown",
   "metadata": {},
   "source": [
    "## Looking at intermediate computations"
   ]
  },
  {
   "cell_type": "code",
   "execution_count": 69,
   "metadata": {},
   "outputs": [],
   "source": [
    "dataloader = DataLoader(\n",
    "    dataset=dataset,\n",
    "    batch_size=BATCH_SIZE,\n",
    "    generator=torch_generator,\n",
    ")"
   ]
  },
  {
   "cell_type": "code",
   "execution_count": 70,
   "metadata": {},
   "outputs": [],
   "source": [
    "statistic_collectors = {}"
   ]
  },
  {
   "cell_type": "code",
   "execution_count": 71,
   "metadata": {},
   "outputs": [],
   "source": [
    "statistic_collectors[\"gnn_output\"] = lambda storage: (\n",
    "    storage[\"gnn_output\"][:, 0].sum(dim=1) - storage[\"gnn_output\"][:, 1].sum(dim=1)\n",
    ").mean(dim=1)"
   ]
  },
  {
   "cell_type": "code",
   "execution_count": 72,
   "metadata": {},
   "outputs": [],
   "source": [
    "statistic_collectors[\"gnn_output_rounded\"] = lambda storage: (\n",
    "    storage[\"gnn_output_rounded\"][:, 0].sum(dim=1)\n",
    "    - storage[\"gnn_output_rounded\"][:, 1].sum(dim=1)\n",
    ").mean(dim=1)"
   ]
  },
  {
   "cell_type": "code",
   "execution_count": 73,
   "metadata": {},
   "outputs": [],
   "source": [
    "statistic_collectors[\"gnn_output_flatter\"] = lambda storage: (\n",
    "    storage[\"gnn_output_flatter\"][:, :max_num_nodes].sum(dim=1)\n",
    "    - storage[\"gnn_output_flatter\"][:, max_num_nodes:].sum(dim=1)\n",
    ").mean(dim=1)"
   ]
  },
  {
   "cell_type": "code",
   "execution_count": 74,
   "metadata": {},
   "outputs": [],
   "source": [
    "statistic_collectors[\"transformer_input_initial\"] = lambda storage: (\n",
    "    storage[\"transformer_input_initial\"][:, 2:max_num_nodes+2].sum(dim=1)\n",
    "    - storage[\"transformer_input_initial\"][:, max_num_nodes+2:].sum(dim=1)\n",
    ").mean(dim=1)"
   ]
  },
  {
   "cell_type": "code",
   "execution_count": 75,
   "metadata": {},
   "outputs": [],
   "source": [
    "statistic_collectors[\"transformer_input_pre_encoder\"] = lambda storage: (\n",
    "    storage[\"transformer_input_pre_encoder\"][:, 2:max_num_nodes+2].sum(dim=1)\n",
    "    - storage[\"transformer_input_pre_encoder\"][:, max_num_nodes+2:].sum(dim=1)\n",
    ").mean(dim=1)"
   ]
  },
  {
   "cell_type": "code",
   "execution_count": 76,
   "metadata": {},
   "outputs": [],
   "source": [
    "statistic_collectors[\"transformer_input\"] = lambda storage: (\n",
    "    storage[\"transformer_input\"][:, 2:max_num_nodes+2].sum(dim=1)\n",
    "    - storage[\"transformer_input\"][:, max_num_nodes+2:].sum(dim=1)\n",
    ").mean(dim=1)"
   ]
  },
  {
   "cell_type": "code",
   "execution_count": 77,
   "metadata": {},
   "outputs": [],
   "source": [
    "statistic_collectors[\"transformer_output_flatter\"] = lambda storage: (\n",
    "    storage[\"transformer_output_flatter\"][:, 2:max_num_nodes+2].sum(dim=1)\n",
    "    - storage[\"transformer_output_flatter\"][:, max_num_nodes+2:].sum(dim=1)\n",
    ").mean(dim=1)"
   ]
  },
  {
   "cell_type": "code",
   "execution_count": 78,
   "metadata": {},
   "outputs": [],
   "source": [
    "statistic_collectors[\"node_level_repr_pre_encoder\"] = lambda storage: (\n",
    "    storage[\"node_level_repr_pre_encoder\"][:, 0].sum(dim=1)\n",
    "    - storage[\"node_level_repr_pre_encoder\"][:, 1].sum(dim=1)\n",
    ").mean(dim=1)"
   ]
  },
  {
   "cell_type": "code",
   "execution_count": 79,
   "metadata": {},
   "outputs": [],
   "source": [
    "statistic_collectors[\"node_level_repr\"] = lambda storage: (\n",
    "    storage[\"node_level_repr\"][:, 0].sum(dim=1)\n",
    "    - storage[\"node_level_repr\"][:, 1].sum(dim=1)\n",
    ").mean(dim=1)"
   ]
  },
  {
   "cell_type": "code",
   "execution_count": 80,
   "metadata": {},
   "outputs": [],
   "source": [
    "stats = {\n",
    "    key: np.empty(len(dataset), dtype=np.float32)\n",
    "    for key in statistic_collectors.keys()\n",
    "}"
   ]
  },
  {
   "cell_type": "code",
   "execution_count": 81,
   "metadata": {},
   "outputs": [],
   "source": [
    "storage = {}\n",
    "hooks = GraphIsomorphismAgentHooks.create_recorder_hooks(storage, per_agent=True)"
   ]
  },
  {
   "cell_type": "code",
   "execution_count": 82,
   "metadata": {},
   "outputs": [],
   "source": [
    "decision_logits = np.empty((len(dataset), 3), dtype=np.float32)\n",
    "correct_decision = np.empty(len(dataset), dtype=bool)"
   ]
  },
  {
   "cell_type": "code",
   "execution_count": 83,
   "metadata": {},
   "outputs": [
    {
     "name": "stderr",
     "output_type": "stream",
     "text": [
      "100%|██████████| 79/79 [00:01<00:00, 40.76it/s]\n"
     ]
    }
   ],
   "source": [
    "for i, batch in tqdm(enumerate(dataloader), total=len(dataloader)):\n",
    "    batch[\"message\"] = torch.zeros_like(batch[\"y\"])\n",
    "    batch[\"ignore_message\"] = torch.ones_like(batch[\"y\"], dtype=torch.bool)\n",
    "    batch[\"round\"] = torch.zeros(batch.batch_size, dtype=torch.int64)\n",
    "    batch[\"decision_restriction\"] = torch.zeros(batch.batch_size, dtype=torch.int64)\n",
    "    actor_out = combined_actor(batch, hooks=hooks)\n",
    "    batch_decision_logits = (\n",
    "        actor_out[\"agents\"][\"decision_logits\"][:, 0].detach().cpu().numpy()\n",
    "    )\n",
    "    decision_logits[i * BATCH_SIZE : (i + 1) * BATCH_SIZE] = batch_decision_logits\n",
    "    batch_y = batch[\"y\"].detach().cpu().numpy()\n",
    "    correct_decision[i * BATCH_SIZE : (i + 1) * BATCH_SIZE] = (\n",
    "        batch_y == batch_decision_logits.argmax(axis=1)\n",
    "    )\n",
    "    for key, collector in statistic_collectors.items():\n",
    "        stats[key][i * BATCH_SIZE : (i + 1) * BATCH_SIZE] = (\n",
    "            collector(storage[\"verifier\"]).detach().cpu().numpy()\n",
    "        )"
   ]
  },
  {
   "cell_type": "code",
   "execution_count": 84,
   "metadata": {},
   "outputs": [
    {
     "data": {
      "text/plain": [
       "TensorDict(\n",
       "    fields={\n",
       "        adjacency: Tensor(shape=torch.Size([16, 2, 11, 11]), device=cpu, dtype=torch.int32, is_shared=False),\n",
       "        agents: TensorDict(\n",
       "            fields={\n",
       "                decision_logits: Tensor(shape=torch.Size([16, 2, 3]), device=cpu, dtype=torch.float32, is_shared=False),\n",
       "                graph_level_repr: Tensor(shape=torch.Size([16, 2, 2, 16]), device=cpu, dtype=torch.float32, is_shared=False),\n",
       "                node_level_repr: Tensor(shape=torch.Size([16, 2, 2, 11, 16]), device=cpu, dtype=torch.float32, is_shared=False),\n",
       "                node_selected_logits: Tensor(shape=torch.Size([16, 2, 22]), device=cpu, dtype=torch.float32, is_shared=False)},\n",
       "            batch_size=torch.Size([16]),\n",
       "            device=None,\n",
       "            is_shared=False),\n",
       "        decision_restriction: Tensor(shape=torch.Size([16]), device=cpu, dtype=torch.int64, is_shared=False),\n",
       "        ignore_message: Tensor(shape=torch.Size([16]), device=cpu, dtype=torch.bool, is_shared=False),\n",
       "        message: Tensor(shape=torch.Size([16]), device=cpu, dtype=torch.int64, is_shared=False),\n",
       "        node_mask: Tensor(shape=torch.Size([16, 2, 11]), device=cpu, dtype=torch.bool, is_shared=False),\n",
       "        round: Tensor(shape=torch.Size([16]), device=cpu, dtype=torch.int64, is_shared=False),\n",
       "        wl_score: Tensor(shape=torch.Size([16]), device=cpu, dtype=torch.int32, is_shared=False),\n",
       "        x: Tensor(shape=torch.Size([16, 2, 11, 8]), device=cpu, dtype=torch.float32, is_shared=False),\n",
       "        y: Tensor(shape=torch.Size([16]), device=cpu, dtype=torch.int64, is_shared=False)},\n",
       "    batch_size=torch.Size([16]),\n",
       "    device=None,\n",
       "    is_shared=False)"
      ]
     },
     "execution_count": 84,
     "metadata": {},
     "output_type": "execute_result"
    }
   ],
   "source": [
    "actor_out"
   ]
  },
  {
   "cell_type": "code",
   "execution_count": 85,
   "metadata": {},
   "outputs": [],
   "source": [
    "max_wl_score = torch.max(dataset[\"wl_score\"]).item()"
   ]
  },
  {
   "cell_type": "code",
   "execution_count": 86,
   "metadata": {},
   "outputs": [],
   "source": [
    "means = {}\n",
    "stds = {}\n",
    "raw_data = {}\n",
    "for wl_score in range(-1, max_wl_score + 1):\n",
    "    if wl_score not in dataset[\"wl_score\"]:\n",
    "        means[wl_score] = {key: np.nan for key in stats.keys()}\n",
    "        stds[wl_score] = {key: np.nan for key in stats.keys()}\n",
    "        raw_data[wl_score] = {key: np.empty(0, dtype=np.float32) for key in stats.keys()}\n",
    "        continue\n",
    "    mask = (dataset[\"wl_score\"] == wl_score).numpy()\n",
    "    means[wl_score] = {key: stats[key][mask].mean() for key in stats.keys()}\n",
    "    stds[wl_score] = {key: stats[key][mask].std() for key in stats.keys()}\n",
    "    raw_data[wl_score] = {key: stats[key][mask] for key in stats.keys()}"
   ]
  },
  {
   "cell_type": "code",
   "execution_count": 87,
   "metadata": {},
   "outputs": [
    {
     "data": {
      "text/html": [
       "<pre style=\"white-space:pre;overflow-x:auto;line-height:normal;font-family:Menlo,'DejaVu Sans Mono',consolas,'Courier New',monospace\">┏━━━━━━━┳━━━━━━━━━━━┳━━━━━━━━━━━┳━━━━━━━━━━━┳━━━━━━━━━━━┳━━━━━━━━━━━┳━━━━━━━━━━┳━━━━━━━━━━━┳━━━━━━━━━━┳━━━━━━━━━━━┓\n",
       "┃<span style=\"font-weight: bold\"> Score </span>┃<span style=\"font-weight: bold\"> gnn_outp… </span>┃<span style=\"font-weight: bold\"> gnn_outp… </span>┃<span style=\"font-weight: bold\"> gnn_outp… </span>┃<span style=\"font-weight: bold\"> transfor… </span>┃<span style=\"font-weight: bold\"> transfor… </span>┃<span style=\"font-weight: bold\"> transfo… </span>┃<span style=\"font-weight: bold\"> transfor… </span>┃<span style=\"font-weight: bold\"> node_le… </span>┃<span style=\"font-weight: bold\"> node_lev… </span>┃\n",
       "┡━━━━━━━╇━━━━━━━━━━━╇━━━━━━━━━━━╇━━━━━━━━━━━╇━━━━━━━━━━━╇━━━━━━━━━━━╇━━━━━━━━━━╇━━━━━━━━━━━╇━━━━━━━━━━╇━━━━━━━━━━━┩\n",
       "│ -1    │ 0.0000    │ 0.0000    │ 0.0000    │ 0.0000    │ 0.0000    │ -0.0000  │ -0.0000   │ -0.0000  │ 0.0000    │\n",
       "│ 0     │ nan       │ nan       │ nan       │ nan       │ nan       │ nan      │ nan       │ nan      │ nan       │\n",
       "│ 1     │ 0.0435    │ 0.0435    │ 0.0435    │ 0.0435    │ 0.0367    │ -0.0662  │ 0.0001    │ 0.0001   │ -0.0008   │\n",
       "│ 2     │ 0.0006    │ 0.0006    │ 0.0006    │ 0.0006    │ 0.0005    │ 0.0004   │ -0.0000   │ -0.0000  │ 0.0001    │\n",
       "│ 3     │ -0.0000   │ -0.0000   │ -0.0000   │ -0.0000   │ -0.0000   │ 0.0000   │ -0.0000   │ -0.0000  │ 0.0000    │\n",
       "│ 4     │ 0.0000    │ 0.0000    │ 0.0000    │ 0.0000    │ 0.0000    │ -0.0000  │ 0.0000    │ 0.0000   │ -0.0000   │\n",
       "│ 5     │ -0.0000   │ -0.0000   │ -0.0000   │ -0.0000   │ -0.0000   │ 0.0000   │ 0.0000    │ 0.0000   │ -0.0000   │\n",
       "└───────┴───────────┴───────────┴───────────┴───────────┴───────────┴──────────┴───────────┴──────────┴───────────┘\n",
       "</pre>\n"
      ],
      "text/plain": [
       "┏━━━━━━━┳━━━━━━━━━━━┳━━━━━━━━━━━┳━━━━━━━━━━━┳━━━━━━━━━━━┳━━━━━━━━━━━┳━━━━━━━━━━┳━━━━━━━━━━━┳━━━━━━━━━━┳━━━━━━━━━━━┓\n",
       "┃\u001b[1m \u001b[0m\u001b[1mScore\u001b[0m\u001b[1m \u001b[0m┃\u001b[1m \u001b[0m\u001b[1mgnn_outp…\u001b[0m\u001b[1m \u001b[0m┃\u001b[1m \u001b[0m\u001b[1mgnn_outp…\u001b[0m\u001b[1m \u001b[0m┃\u001b[1m \u001b[0m\u001b[1mgnn_outp…\u001b[0m\u001b[1m \u001b[0m┃\u001b[1m \u001b[0m\u001b[1mtransfor…\u001b[0m\u001b[1m \u001b[0m┃\u001b[1m \u001b[0m\u001b[1mtransfor…\u001b[0m\u001b[1m \u001b[0m┃\u001b[1m \u001b[0m\u001b[1mtransfo…\u001b[0m\u001b[1m \u001b[0m┃\u001b[1m \u001b[0m\u001b[1mtransfor…\u001b[0m\u001b[1m \u001b[0m┃\u001b[1m \u001b[0m\u001b[1mnode_le…\u001b[0m\u001b[1m \u001b[0m┃\u001b[1m \u001b[0m\u001b[1mnode_lev…\u001b[0m\u001b[1m \u001b[0m┃\n",
       "┡━━━━━━━╇━━━━━━━━━━━╇━━━━━━━━━━━╇━━━━━━━━━━━╇━━━━━━━━━━━╇━━━━━━━━━━━╇━━━━━━━━━━╇━━━━━━━━━━━╇━━━━━━━━━━╇━━━━━━━━━━━┩\n",
       "│ -1    │ 0.0000    │ 0.0000    │ 0.0000    │ 0.0000    │ 0.0000    │ -0.0000  │ -0.0000   │ -0.0000  │ 0.0000    │\n",
       "│ 0     │ nan       │ nan       │ nan       │ nan       │ nan       │ nan      │ nan       │ nan      │ nan       │\n",
       "│ 1     │ 0.0435    │ 0.0435    │ 0.0435    │ 0.0435    │ 0.0367    │ -0.0662  │ 0.0001    │ 0.0001   │ -0.0008   │\n",
       "│ 2     │ 0.0006    │ 0.0006    │ 0.0006    │ 0.0006    │ 0.0005    │ 0.0004   │ -0.0000   │ -0.0000  │ 0.0001    │\n",
       "│ 3     │ -0.0000   │ -0.0000   │ -0.0000   │ -0.0000   │ -0.0000   │ 0.0000   │ -0.0000   │ -0.0000  │ 0.0000    │\n",
       "│ 4     │ 0.0000    │ 0.0000    │ 0.0000    │ 0.0000    │ 0.0000    │ -0.0000  │ 0.0000    │ 0.0000   │ -0.0000   │\n",
       "│ 5     │ -0.0000   │ -0.0000   │ -0.0000   │ -0.0000   │ -0.0000   │ 0.0000   │ 0.0000    │ 0.0000   │ -0.0000   │\n",
       "└───────┴───────────┴───────────┴───────────┴───────────┴───────────┴──────────┴───────────┴──────────┴───────────┘\n"
      ]
     },
     "metadata": {},
     "output_type": "display_data"
    }
   ],
   "source": [
    "console = Console()\n",
    "\n",
    "table = Table()\n",
    "table.add_column(\"Score\")\n",
    "for key in stats.keys():\n",
    "    table.add_column(key)\n",
    "\n",
    "for key, mean, std in zip(means.keys(), means.values(), stds.values()):\n",
    "    table.add_row(str(key), *[f\"{mean[key]:.4f}\" for key in stats.keys()])\n",
    "\n",
    "console.print(table)\n"
   ]
  },
  {
   "cell_type": "code",
   "execution_count": 88,
   "metadata": {},
   "outputs": [
    {
     "data": {
      "application/vnd.plotly.v1+json": {
       "config": {
        "plotlyServerURL": "https://plot.ly"
       },
       "data": [
        {
         "error_y": {
          "array": [
           2.7468826147014624e-7,
           null,
           0.6687803268432617,
           0.0398876890540123,
           2.669661967047432e-7,
           2.203170765824325e-7,
           0
          ],
          "type": "data"
         },
         "type": "scatter",
         "x": [
          -1,
          0,
          1,
          2,
          3,
          4,
          5
         ],
         "y": [
          2.3157802342410605e-9,
          null,
          0.043546710163354874,
          0.0006143564241938293,
          -4.517511253965267e-9,
          1.4477833154558084e-8,
          -3.725290298461914e-8
         ]
        }
       ],
       "layout": {
        "template": {
         "data": {
          "bar": [
           {
            "error_x": {
             "color": "#2a3f5f"
            },
            "error_y": {
             "color": "#2a3f5f"
            },
            "marker": {
             "line": {
              "color": "#E5ECF6",
              "width": 0.5
             },
             "pattern": {
              "fillmode": "overlay",
              "size": 10,
              "solidity": 0.2
             }
            },
            "type": "bar"
           }
          ],
          "barpolar": [
           {
            "marker": {
             "line": {
              "color": "#E5ECF6",
              "width": 0.5
             },
             "pattern": {
              "fillmode": "overlay",
              "size": 10,
              "solidity": 0.2
             }
            },
            "type": "barpolar"
           }
          ],
          "carpet": [
           {
            "aaxis": {
             "endlinecolor": "#2a3f5f",
             "gridcolor": "white",
             "linecolor": "white",
             "minorgridcolor": "white",
             "startlinecolor": "#2a3f5f"
            },
            "baxis": {
             "endlinecolor": "#2a3f5f",
             "gridcolor": "white",
             "linecolor": "white",
             "minorgridcolor": "white",
             "startlinecolor": "#2a3f5f"
            },
            "type": "carpet"
           }
          ],
          "choropleth": [
           {
            "colorbar": {
             "outlinewidth": 0,
             "ticks": ""
            },
            "type": "choropleth"
           }
          ],
          "contour": [
           {
            "colorbar": {
             "outlinewidth": 0,
             "ticks": ""
            },
            "colorscale": [
             [
              0,
              "#0d0887"
             ],
             [
              0.1111111111111111,
              "#46039f"
             ],
             [
              0.2222222222222222,
              "#7201a8"
             ],
             [
              0.3333333333333333,
              "#9c179e"
             ],
             [
              0.4444444444444444,
              "#bd3786"
             ],
             [
              0.5555555555555556,
              "#d8576b"
             ],
             [
              0.6666666666666666,
              "#ed7953"
             ],
             [
              0.7777777777777778,
              "#fb9f3a"
             ],
             [
              0.8888888888888888,
              "#fdca26"
             ],
             [
              1,
              "#f0f921"
             ]
            ],
            "type": "contour"
           }
          ],
          "contourcarpet": [
           {
            "colorbar": {
             "outlinewidth": 0,
             "ticks": ""
            },
            "type": "contourcarpet"
           }
          ],
          "heatmap": [
           {
            "colorbar": {
             "outlinewidth": 0,
             "ticks": ""
            },
            "colorscale": [
             [
              0,
              "#0d0887"
             ],
             [
              0.1111111111111111,
              "#46039f"
             ],
             [
              0.2222222222222222,
              "#7201a8"
             ],
             [
              0.3333333333333333,
              "#9c179e"
             ],
             [
              0.4444444444444444,
              "#bd3786"
             ],
             [
              0.5555555555555556,
              "#d8576b"
             ],
             [
              0.6666666666666666,
              "#ed7953"
             ],
             [
              0.7777777777777778,
              "#fb9f3a"
             ],
             [
              0.8888888888888888,
              "#fdca26"
             ],
             [
              1,
              "#f0f921"
             ]
            ],
            "type": "heatmap"
           }
          ],
          "heatmapgl": [
           {
            "colorbar": {
             "outlinewidth": 0,
             "ticks": ""
            },
            "colorscale": [
             [
              0,
              "#0d0887"
             ],
             [
              0.1111111111111111,
              "#46039f"
             ],
             [
              0.2222222222222222,
              "#7201a8"
             ],
             [
              0.3333333333333333,
              "#9c179e"
             ],
             [
              0.4444444444444444,
              "#bd3786"
             ],
             [
              0.5555555555555556,
              "#d8576b"
             ],
             [
              0.6666666666666666,
              "#ed7953"
             ],
             [
              0.7777777777777778,
              "#fb9f3a"
             ],
             [
              0.8888888888888888,
              "#fdca26"
             ],
             [
              1,
              "#f0f921"
             ]
            ],
            "type": "heatmapgl"
           }
          ],
          "histogram": [
           {
            "marker": {
             "pattern": {
              "fillmode": "overlay",
              "size": 10,
              "solidity": 0.2
             }
            },
            "type": "histogram"
           }
          ],
          "histogram2d": [
           {
            "colorbar": {
             "outlinewidth": 0,
             "ticks": ""
            },
            "colorscale": [
             [
              0,
              "#0d0887"
             ],
             [
              0.1111111111111111,
              "#46039f"
             ],
             [
              0.2222222222222222,
              "#7201a8"
             ],
             [
              0.3333333333333333,
              "#9c179e"
             ],
             [
              0.4444444444444444,
              "#bd3786"
             ],
             [
              0.5555555555555556,
              "#d8576b"
             ],
             [
              0.6666666666666666,
              "#ed7953"
             ],
             [
              0.7777777777777778,
              "#fb9f3a"
             ],
             [
              0.8888888888888888,
              "#fdca26"
             ],
             [
              1,
              "#f0f921"
             ]
            ],
            "type": "histogram2d"
           }
          ],
          "histogram2dcontour": [
           {
            "colorbar": {
             "outlinewidth": 0,
             "ticks": ""
            },
            "colorscale": [
             [
              0,
              "#0d0887"
             ],
             [
              0.1111111111111111,
              "#46039f"
             ],
             [
              0.2222222222222222,
              "#7201a8"
             ],
             [
              0.3333333333333333,
              "#9c179e"
             ],
             [
              0.4444444444444444,
              "#bd3786"
             ],
             [
              0.5555555555555556,
              "#d8576b"
             ],
             [
              0.6666666666666666,
              "#ed7953"
             ],
             [
              0.7777777777777778,
              "#fb9f3a"
             ],
             [
              0.8888888888888888,
              "#fdca26"
             ],
             [
              1,
              "#f0f921"
             ]
            ],
            "type": "histogram2dcontour"
           }
          ],
          "mesh3d": [
           {
            "colorbar": {
             "outlinewidth": 0,
             "ticks": ""
            },
            "type": "mesh3d"
           }
          ],
          "parcoords": [
           {
            "line": {
             "colorbar": {
              "outlinewidth": 0,
              "ticks": ""
             }
            },
            "type": "parcoords"
           }
          ],
          "pie": [
           {
            "automargin": true,
            "type": "pie"
           }
          ],
          "scatter": [
           {
            "fillpattern": {
             "fillmode": "overlay",
             "size": 10,
             "solidity": 0.2
            },
            "type": "scatter"
           }
          ],
          "scatter3d": [
           {
            "line": {
             "colorbar": {
              "outlinewidth": 0,
              "ticks": ""
             }
            },
            "marker": {
             "colorbar": {
              "outlinewidth": 0,
              "ticks": ""
             }
            },
            "type": "scatter3d"
           }
          ],
          "scattercarpet": [
           {
            "marker": {
             "colorbar": {
              "outlinewidth": 0,
              "ticks": ""
             }
            },
            "type": "scattercarpet"
           }
          ],
          "scattergeo": [
           {
            "marker": {
             "colorbar": {
              "outlinewidth": 0,
              "ticks": ""
             }
            },
            "type": "scattergeo"
           }
          ],
          "scattergl": [
           {
            "marker": {
             "colorbar": {
              "outlinewidth": 0,
              "ticks": ""
             }
            },
            "type": "scattergl"
           }
          ],
          "scattermapbox": [
           {
            "marker": {
             "colorbar": {
              "outlinewidth": 0,
              "ticks": ""
             }
            },
            "type": "scattermapbox"
           }
          ],
          "scatterpolar": [
           {
            "marker": {
             "colorbar": {
              "outlinewidth": 0,
              "ticks": ""
             }
            },
            "type": "scatterpolar"
           }
          ],
          "scatterpolargl": [
           {
            "marker": {
             "colorbar": {
              "outlinewidth": 0,
              "ticks": ""
             }
            },
            "type": "scatterpolargl"
           }
          ],
          "scatterternary": [
           {
            "marker": {
             "colorbar": {
              "outlinewidth": 0,
              "ticks": ""
             }
            },
            "type": "scatterternary"
           }
          ],
          "surface": [
           {
            "colorbar": {
             "outlinewidth": 0,
             "ticks": ""
            },
            "colorscale": [
             [
              0,
              "#0d0887"
             ],
             [
              0.1111111111111111,
              "#46039f"
             ],
             [
              0.2222222222222222,
              "#7201a8"
             ],
             [
              0.3333333333333333,
              "#9c179e"
             ],
             [
              0.4444444444444444,
              "#bd3786"
             ],
             [
              0.5555555555555556,
              "#d8576b"
             ],
             [
              0.6666666666666666,
              "#ed7953"
             ],
             [
              0.7777777777777778,
              "#fb9f3a"
             ],
             [
              0.8888888888888888,
              "#fdca26"
             ],
             [
              1,
              "#f0f921"
             ]
            ],
            "type": "surface"
           }
          ],
          "table": [
           {
            "cells": {
             "fill": {
              "color": "#EBF0F8"
             },
             "line": {
              "color": "white"
             }
            },
            "header": {
             "fill": {
              "color": "#C8D4E3"
             },
             "line": {
              "color": "white"
             }
            },
            "type": "table"
           }
          ]
         },
         "layout": {
          "annotationdefaults": {
           "arrowcolor": "#2a3f5f",
           "arrowhead": 0,
           "arrowwidth": 1
          },
          "autotypenumbers": "strict",
          "coloraxis": {
           "colorbar": {
            "outlinewidth": 0,
            "ticks": ""
           }
          },
          "colorscale": {
           "diverging": [
            [
             0,
             "#8e0152"
            ],
            [
             0.1,
             "#c51b7d"
            ],
            [
             0.2,
             "#de77ae"
            ],
            [
             0.3,
             "#f1b6da"
            ],
            [
             0.4,
             "#fde0ef"
            ],
            [
             0.5,
             "#f7f7f7"
            ],
            [
             0.6,
             "#e6f5d0"
            ],
            [
             0.7,
             "#b8e186"
            ],
            [
             0.8,
             "#7fbc41"
            ],
            [
             0.9,
             "#4d9221"
            ],
            [
             1,
             "#276419"
            ]
           ],
           "sequential": [
            [
             0,
             "#0d0887"
            ],
            [
             0.1111111111111111,
             "#46039f"
            ],
            [
             0.2222222222222222,
             "#7201a8"
            ],
            [
             0.3333333333333333,
             "#9c179e"
            ],
            [
             0.4444444444444444,
             "#bd3786"
            ],
            [
             0.5555555555555556,
             "#d8576b"
            ],
            [
             0.6666666666666666,
             "#ed7953"
            ],
            [
             0.7777777777777778,
             "#fb9f3a"
            ],
            [
             0.8888888888888888,
             "#fdca26"
            ],
            [
             1,
             "#f0f921"
            ]
           ],
           "sequentialminus": [
            [
             0,
             "#0d0887"
            ],
            [
             0.1111111111111111,
             "#46039f"
            ],
            [
             0.2222222222222222,
             "#7201a8"
            ],
            [
             0.3333333333333333,
             "#9c179e"
            ],
            [
             0.4444444444444444,
             "#bd3786"
            ],
            [
             0.5555555555555556,
             "#d8576b"
            ],
            [
             0.6666666666666666,
             "#ed7953"
            ],
            [
             0.7777777777777778,
             "#fb9f3a"
            ],
            [
             0.8888888888888888,
             "#fdca26"
            ],
            [
             1,
             "#f0f921"
            ]
           ]
          },
          "colorway": [
           "#636efa",
           "#EF553B",
           "#00cc96",
           "#ab63fa",
           "#FFA15A",
           "#19d3f3",
           "#FF6692",
           "#B6E880",
           "#FF97FF",
           "#FECB52"
          ],
          "font": {
           "color": "#2a3f5f"
          },
          "geo": {
           "bgcolor": "white",
           "lakecolor": "white",
           "landcolor": "#E5ECF6",
           "showlakes": true,
           "showland": true,
           "subunitcolor": "white"
          },
          "hoverlabel": {
           "align": "left"
          },
          "hovermode": "closest",
          "mapbox": {
           "style": "light"
          },
          "paper_bgcolor": "white",
          "plot_bgcolor": "#E5ECF6",
          "polar": {
           "angularaxis": {
            "gridcolor": "white",
            "linecolor": "white",
            "ticks": ""
           },
           "bgcolor": "#E5ECF6",
           "radialaxis": {
            "gridcolor": "white",
            "linecolor": "white",
            "ticks": ""
           }
          },
          "scene": {
           "xaxis": {
            "backgroundcolor": "#E5ECF6",
            "gridcolor": "white",
            "gridwidth": 2,
            "linecolor": "white",
            "showbackground": true,
            "ticks": "",
            "zerolinecolor": "white"
           },
           "yaxis": {
            "backgroundcolor": "#E5ECF6",
            "gridcolor": "white",
            "gridwidth": 2,
            "linecolor": "white",
            "showbackground": true,
            "ticks": "",
            "zerolinecolor": "white"
           },
           "zaxis": {
            "backgroundcolor": "#E5ECF6",
            "gridcolor": "white",
            "gridwidth": 2,
            "linecolor": "white",
            "showbackground": true,
            "ticks": "",
            "zerolinecolor": "white"
           }
          },
          "shapedefaults": {
           "line": {
            "color": "#2a3f5f"
           }
          },
          "ternary": {
           "aaxis": {
            "gridcolor": "white",
            "linecolor": "white",
            "ticks": ""
           },
           "baxis": {
            "gridcolor": "white",
            "linecolor": "white",
            "ticks": ""
           },
           "bgcolor": "#E5ECF6",
           "caxis": {
            "gridcolor": "white",
            "linecolor": "white",
            "ticks": ""
           }
          },
          "title": {
           "x": 0.05
          },
          "xaxis": {
           "automargin": true,
           "gridcolor": "white",
           "linecolor": "white",
           "ticks": "",
           "title": {
            "standoff": 15
           },
           "zerolinecolor": "white",
           "zerolinewidth": 2
          },
          "yaxis": {
           "automargin": true,
           "gridcolor": "white",
           "linecolor": "white",
           "ticks": "",
           "title": {
            "standoff": 15
           },
           "zerolinecolor": "white",
           "zerolinewidth": 2
          }
         }
        },
        "title": {
         "text": "gnn_output_mean"
        },
        "xaxis": {
         "title": {
          "text": "wl_score"
         }
        },
        "yaxis": {
         "title": {
          "text": "Mean"
         }
        }
       }
      }
     },
     "metadata": {},
     "output_type": "display_data"
    }
   ],
   "source": [
    "gnn_output_mean = np.array([means[wl_score][\"gnn_output\"] for wl_score in range(-1, max_wl_score + 1)])\n",
    "gnn_output_std = np.array([stds[wl_score][\"gnn_output\"] for wl_score in range(-1, max_wl_score + 1)])\n",
    "x = list(range(-1, max_wl_score + 1))\n",
    "\n",
    "fig = go.Figure(data=go.Scatter(x=x, y=gnn_output_mean, error_y=dict(type='data', array=gnn_output_std)))\n",
    "fig.update_layout(title=\"gnn_output_mean\", xaxis_title=\"wl_score\", yaxis_title=\"Mean\")\n",
    "fig.show()"
   ]
  },
  {
   "cell_type": "code",
   "execution_count": 89,
   "metadata": {},
   "outputs": [
    {
     "data": {
      "application/vnd.plotly.v1+json": {
       "config": {
        "plotlyServerURL": "https://plot.ly"
       },
       "data": [
        {
         "error_y": {
          "array": [
           2.7468826147014624e-7,
           null,
           0.6687803268432617,
           0.0398876890540123,
           2.669661967047432e-7,
           2.203170765824325e-7,
           0
          ],
          "type": "data"
         },
         "type": "scatter",
         "x": [
          -1,
          0,
          1,
          2,
          3,
          4,
          5
         ],
         "y": [
          2.3157802342410605e-9,
          null,
          0.043546710163354874,
          0.0006143564241938293,
          -4.517511253965267e-9,
          1.4477833154558084e-8,
          -3.725290298461914e-8
         ]
        }
       ],
       "layout": {
        "template": {
         "data": {
          "bar": [
           {
            "error_x": {
             "color": "#2a3f5f"
            },
            "error_y": {
             "color": "#2a3f5f"
            },
            "marker": {
             "line": {
              "color": "#E5ECF6",
              "width": 0.5
             },
             "pattern": {
              "fillmode": "overlay",
              "size": 10,
              "solidity": 0.2
             }
            },
            "type": "bar"
           }
          ],
          "barpolar": [
           {
            "marker": {
             "line": {
              "color": "#E5ECF6",
              "width": 0.5
             },
             "pattern": {
              "fillmode": "overlay",
              "size": 10,
              "solidity": 0.2
             }
            },
            "type": "barpolar"
           }
          ],
          "carpet": [
           {
            "aaxis": {
             "endlinecolor": "#2a3f5f",
             "gridcolor": "white",
             "linecolor": "white",
             "minorgridcolor": "white",
             "startlinecolor": "#2a3f5f"
            },
            "baxis": {
             "endlinecolor": "#2a3f5f",
             "gridcolor": "white",
             "linecolor": "white",
             "minorgridcolor": "white",
             "startlinecolor": "#2a3f5f"
            },
            "type": "carpet"
           }
          ],
          "choropleth": [
           {
            "colorbar": {
             "outlinewidth": 0,
             "ticks": ""
            },
            "type": "choropleth"
           }
          ],
          "contour": [
           {
            "colorbar": {
             "outlinewidth": 0,
             "ticks": ""
            },
            "colorscale": [
             [
              0,
              "#0d0887"
             ],
             [
              0.1111111111111111,
              "#46039f"
             ],
             [
              0.2222222222222222,
              "#7201a8"
             ],
             [
              0.3333333333333333,
              "#9c179e"
             ],
             [
              0.4444444444444444,
              "#bd3786"
             ],
             [
              0.5555555555555556,
              "#d8576b"
             ],
             [
              0.6666666666666666,
              "#ed7953"
             ],
             [
              0.7777777777777778,
              "#fb9f3a"
             ],
             [
              0.8888888888888888,
              "#fdca26"
             ],
             [
              1,
              "#f0f921"
             ]
            ],
            "type": "contour"
           }
          ],
          "contourcarpet": [
           {
            "colorbar": {
             "outlinewidth": 0,
             "ticks": ""
            },
            "type": "contourcarpet"
           }
          ],
          "heatmap": [
           {
            "colorbar": {
             "outlinewidth": 0,
             "ticks": ""
            },
            "colorscale": [
             [
              0,
              "#0d0887"
             ],
             [
              0.1111111111111111,
              "#46039f"
             ],
             [
              0.2222222222222222,
              "#7201a8"
             ],
             [
              0.3333333333333333,
              "#9c179e"
             ],
             [
              0.4444444444444444,
              "#bd3786"
             ],
             [
              0.5555555555555556,
              "#d8576b"
             ],
             [
              0.6666666666666666,
              "#ed7953"
             ],
             [
              0.7777777777777778,
              "#fb9f3a"
             ],
             [
              0.8888888888888888,
              "#fdca26"
             ],
             [
              1,
              "#f0f921"
             ]
            ],
            "type": "heatmap"
           }
          ],
          "heatmapgl": [
           {
            "colorbar": {
             "outlinewidth": 0,
             "ticks": ""
            },
            "colorscale": [
             [
              0,
              "#0d0887"
             ],
             [
              0.1111111111111111,
              "#46039f"
             ],
             [
              0.2222222222222222,
              "#7201a8"
             ],
             [
              0.3333333333333333,
              "#9c179e"
             ],
             [
              0.4444444444444444,
              "#bd3786"
             ],
             [
              0.5555555555555556,
              "#d8576b"
             ],
             [
              0.6666666666666666,
              "#ed7953"
             ],
             [
              0.7777777777777778,
              "#fb9f3a"
             ],
             [
              0.8888888888888888,
              "#fdca26"
             ],
             [
              1,
              "#f0f921"
             ]
            ],
            "type": "heatmapgl"
           }
          ],
          "histogram": [
           {
            "marker": {
             "pattern": {
              "fillmode": "overlay",
              "size": 10,
              "solidity": 0.2
             }
            },
            "type": "histogram"
           }
          ],
          "histogram2d": [
           {
            "colorbar": {
             "outlinewidth": 0,
             "ticks": ""
            },
            "colorscale": [
             [
              0,
              "#0d0887"
             ],
             [
              0.1111111111111111,
              "#46039f"
             ],
             [
              0.2222222222222222,
              "#7201a8"
             ],
             [
              0.3333333333333333,
              "#9c179e"
             ],
             [
              0.4444444444444444,
              "#bd3786"
             ],
             [
              0.5555555555555556,
              "#d8576b"
             ],
             [
              0.6666666666666666,
              "#ed7953"
             ],
             [
              0.7777777777777778,
              "#fb9f3a"
             ],
             [
              0.8888888888888888,
              "#fdca26"
             ],
             [
              1,
              "#f0f921"
             ]
            ],
            "type": "histogram2d"
           }
          ],
          "histogram2dcontour": [
           {
            "colorbar": {
             "outlinewidth": 0,
             "ticks": ""
            },
            "colorscale": [
             [
              0,
              "#0d0887"
             ],
             [
              0.1111111111111111,
              "#46039f"
             ],
             [
              0.2222222222222222,
              "#7201a8"
             ],
             [
              0.3333333333333333,
              "#9c179e"
             ],
             [
              0.4444444444444444,
              "#bd3786"
             ],
             [
              0.5555555555555556,
              "#d8576b"
             ],
             [
              0.6666666666666666,
              "#ed7953"
             ],
             [
              0.7777777777777778,
              "#fb9f3a"
             ],
             [
              0.8888888888888888,
              "#fdca26"
             ],
             [
              1,
              "#f0f921"
             ]
            ],
            "type": "histogram2dcontour"
           }
          ],
          "mesh3d": [
           {
            "colorbar": {
             "outlinewidth": 0,
             "ticks": ""
            },
            "type": "mesh3d"
           }
          ],
          "parcoords": [
           {
            "line": {
             "colorbar": {
              "outlinewidth": 0,
              "ticks": ""
             }
            },
            "type": "parcoords"
           }
          ],
          "pie": [
           {
            "automargin": true,
            "type": "pie"
           }
          ],
          "scatter": [
           {
            "fillpattern": {
             "fillmode": "overlay",
             "size": 10,
             "solidity": 0.2
            },
            "type": "scatter"
           }
          ],
          "scatter3d": [
           {
            "line": {
             "colorbar": {
              "outlinewidth": 0,
              "ticks": ""
             }
            },
            "marker": {
             "colorbar": {
              "outlinewidth": 0,
              "ticks": ""
             }
            },
            "type": "scatter3d"
           }
          ],
          "scattercarpet": [
           {
            "marker": {
             "colorbar": {
              "outlinewidth": 0,
              "ticks": ""
             }
            },
            "type": "scattercarpet"
           }
          ],
          "scattergeo": [
           {
            "marker": {
             "colorbar": {
              "outlinewidth": 0,
              "ticks": ""
             }
            },
            "type": "scattergeo"
           }
          ],
          "scattergl": [
           {
            "marker": {
             "colorbar": {
              "outlinewidth": 0,
              "ticks": ""
             }
            },
            "type": "scattergl"
           }
          ],
          "scattermapbox": [
           {
            "marker": {
             "colorbar": {
              "outlinewidth": 0,
              "ticks": ""
             }
            },
            "type": "scattermapbox"
           }
          ],
          "scatterpolar": [
           {
            "marker": {
             "colorbar": {
              "outlinewidth": 0,
              "ticks": ""
             }
            },
            "type": "scatterpolar"
           }
          ],
          "scatterpolargl": [
           {
            "marker": {
             "colorbar": {
              "outlinewidth": 0,
              "ticks": ""
             }
            },
            "type": "scatterpolargl"
           }
          ],
          "scatterternary": [
           {
            "marker": {
             "colorbar": {
              "outlinewidth": 0,
              "ticks": ""
             }
            },
            "type": "scatterternary"
           }
          ],
          "surface": [
           {
            "colorbar": {
             "outlinewidth": 0,
             "ticks": ""
            },
            "colorscale": [
             [
              0,
              "#0d0887"
             ],
             [
              0.1111111111111111,
              "#46039f"
             ],
             [
              0.2222222222222222,
              "#7201a8"
             ],
             [
              0.3333333333333333,
              "#9c179e"
             ],
             [
              0.4444444444444444,
              "#bd3786"
             ],
             [
              0.5555555555555556,
              "#d8576b"
             ],
             [
              0.6666666666666666,
              "#ed7953"
             ],
             [
              0.7777777777777778,
              "#fb9f3a"
             ],
             [
              0.8888888888888888,
              "#fdca26"
             ],
             [
              1,
              "#f0f921"
             ]
            ],
            "type": "surface"
           }
          ],
          "table": [
           {
            "cells": {
             "fill": {
              "color": "#EBF0F8"
             },
             "line": {
              "color": "white"
             }
            },
            "header": {
             "fill": {
              "color": "#C8D4E3"
             },
             "line": {
              "color": "white"
             }
            },
            "type": "table"
           }
          ]
         },
         "layout": {
          "annotationdefaults": {
           "arrowcolor": "#2a3f5f",
           "arrowhead": 0,
           "arrowwidth": 1
          },
          "autotypenumbers": "strict",
          "coloraxis": {
           "colorbar": {
            "outlinewidth": 0,
            "ticks": ""
           }
          },
          "colorscale": {
           "diverging": [
            [
             0,
             "#8e0152"
            ],
            [
             0.1,
             "#c51b7d"
            ],
            [
             0.2,
             "#de77ae"
            ],
            [
             0.3,
             "#f1b6da"
            ],
            [
             0.4,
             "#fde0ef"
            ],
            [
             0.5,
             "#f7f7f7"
            ],
            [
             0.6,
             "#e6f5d0"
            ],
            [
             0.7,
             "#b8e186"
            ],
            [
             0.8,
             "#7fbc41"
            ],
            [
             0.9,
             "#4d9221"
            ],
            [
             1,
             "#276419"
            ]
           ],
           "sequential": [
            [
             0,
             "#0d0887"
            ],
            [
             0.1111111111111111,
             "#46039f"
            ],
            [
             0.2222222222222222,
             "#7201a8"
            ],
            [
             0.3333333333333333,
             "#9c179e"
            ],
            [
             0.4444444444444444,
             "#bd3786"
            ],
            [
             0.5555555555555556,
             "#d8576b"
            ],
            [
             0.6666666666666666,
             "#ed7953"
            ],
            [
             0.7777777777777778,
             "#fb9f3a"
            ],
            [
             0.8888888888888888,
             "#fdca26"
            ],
            [
             1,
             "#f0f921"
            ]
           ],
           "sequentialminus": [
            [
             0,
             "#0d0887"
            ],
            [
             0.1111111111111111,
             "#46039f"
            ],
            [
             0.2222222222222222,
             "#7201a8"
            ],
            [
             0.3333333333333333,
             "#9c179e"
            ],
            [
             0.4444444444444444,
             "#bd3786"
            ],
            [
             0.5555555555555556,
             "#d8576b"
            ],
            [
             0.6666666666666666,
             "#ed7953"
            ],
            [
             0.7777777777777778,
             "#fb9f3a"
            ],
            [
             0.8888888888888888,
             "#fdca26"
            ],
            [
             1,
             "#f0f921"
            ]
           ]
          },
          "colorway": [
           "#636efa",
           "#EF553B",
           "#00cc96",
           "#ab63fa",
           "#FFA15A",
           "#19d3f3",
           "#FF6692",
           "#B6E880",
           "#FF97FF",
           "#FECB52"
          ],
          "font": {
           "color": "#2a3f5f"
          },
          "geo": {
           "bgcolor": "white",
           "lakecolor": "white",
           "landcolor": "#E5ECF6",
           "showlakes": true,
           "showland": true,
           "subunitcolor": "white"
          },
          "hoverlabel": {
           "align": "left"
          },
          "hovermode": "closest",
          "mapbox": {
           "style": "light"
          },
          "paper_bgcolor": "white",
          "plot_bgcolor": "#E5ECF6",
          "polar": {
           "angularaxis": {
            "gridcolor": "white",
            "linecolor": "white",
            "ticks": ""
           },
           "bgcolor": "#E5ECF6",
           "radialaxis": {
            "gridcolor": "white",
            "linecolor": "white",
            "ticks": ""
           }
          },
          "scene": {
           "xaxis": {
            "backgroundcolor": "#E5ECF6",
            "gridcolor": "white",
            "gridwidth": 2,
            "linecolor": "white",
            "showbackground": true,
            "ticks": "",
            "zerolinecolor": "white"
           },
           "yaxis": {
            "backgroundcolor": "#E5ECF6",
            "gridcolor": "white",
            "gridwidth": 2,
            "linecolor": "white",
            "showbackground": true,
            "ticks": "",
            "zerolinecolor": "white"
           },
           "zaxis": {
            "backgroundcolor": "#E5ECF6",
            "gridcolor": "white",
            "gridwidth": 2,
            "linecolor": "white",
            "showbackground": true,
            "ticks": "",
            "zerolinecolor": "white"
           }
          },
          "shapedefaults": {
           "line": {
            "color": "#2a3f5f"
           }
          },
          "ternary": {
           "aaxis": {
            "gridcolor": "white",
            "linecolor": "white",
            "ticks": ""
           },
           "baxis": {
            "gridcolor": "white",
            "linecolor": "white",
            "ticks": ""
           },
           "bgcolor": "#E5ECF6",
           "caxis": {
            "gridcolor": "white",
            "linecolor": "white",
            "ticks": ""
           }
          },
          "title": {
           "x": 0.05
          },
          "xaxis": {
           "automargin": true,
           "gridcolor": "white",
           "linecolor": "white",
           "ticks": "",
           "title": {
            "standoff": 15
           },
           "zerolinecolor": "white",
           "zerolinewidth": 2
          },
          "yaxis": {
           "automargin": true,
           "gridcolor": "white",
           "linecolor": "white",
           "ticks": "",
           "title": {
            "standoff": 15
           },
           "zerolinecolor": "white",
           "zerolinewidth": 2
          }
         }
        },
        "title": {
         "text": "gnn_output_rounded_mean"
        },
        "xaxis": {
         "title": {
          "text": "wl_score"
         }
        },
        "yaxis": {
         "title": {
          "text": "Mean"
         }
        }
       }
      }
     },
     "metadata": {},
     "output_type": "display_data"
    }
   ],
   "source": [
    "gnn_output_rounded_mean = np.array([means[wl_score][\"gnn_output_rounded\"] for wl_score in range(-1, max_wl_score + 1)])\n",
    "gnn_output_rounded_std = np.array([stds[wl_score][\"gnn_output_rounded\"] for wl_score in range(-1, max_wl_score + 1)])\n",
    "x = list(range(-1, max_wl_score + 1))\n",
    "\n",
    "fig = go.Figure(data=go.Scatter(x=x, y=gnn_output_rounded_mean, error_y=dict(type='data', array=gnn_output_rounded_std)))\n",
    "fig.update_layout(title=\"gnn_output_rounded_mean\", xaxis_title=\"wl_score\", yaxis_title=\"Mean\")\n",
    "fig.show()"
   ]
  },
  {
   "cell_type": "code",
   "execution_count": 90,
   "metadata": {},
   "outputs": [
    {
     "data": {
      "application/vnd.plotly.v1+json": {
       "config": {
        "plotlyServerURL": "https://plot.ly"
       },
       "data": [
        {
         "error_y": {
          "array": [
           8.861469069643135e-8,
           null,
           0.016208471730351448,
           0.0013667745515704155,
           8.764755676793357e-8,
           9.699648018113294e-8,
           0
          ],
          "type": "data"
         },
         "type": "scatter",
         "x": [
          -1,
          0,
          1,
          2,
          3,
          4,
          5
         ],
         "y": [
          -1.6322039275706857e-9,
          null,
          0.00013788750220555812,
          -0.000015555813661194406,
          -2.04735658981825e-10,
          1.4306737128322311e-8,
          2.384185791015625e-7
         ]
        }
       ],
       "layout": {
        "template": {
         "data": {
          "bar": [
           {
            "error_x": {
             "color": "#2a3f5f"
            },
            "error_y": {
             "color": "#2a3f5f"
            },
            "marker": {
             "line": {
              "color": "#E5ECF6",
              "width": 0.5
             },
             "pattern": {
              "fillmode": "overlay",
              "size": 10,
              "solidity": 0.2
             }
            },
            "type": "bar"
           }
          ],
          "barpolar": [
           {
            "marker": {
             "line": {
              "color": "#E5ECF6",
              "width": 0.5
             },
             "pattern": {
              "fillmode": "overlay",
              "size": 10,
              "solidity": 0.2
             }
            },
            "type": "barpolar"
           }
          ],
          "carpet": [
           {
            "aaxis": {
             "endlinecolor": "#2a3f5f",
             "gridcolor": "white",
             "linecolor": "white",
             "minorgridcolor": "white",
             "startlinecolor": "#2a3f5f"
            },
            "baxis": {
             "endlinecolor": "#2a3f5f",
             "gridcolor": "white",
             "linecolor": "white",
             "minorgridcolor": "white",
             "startlinecolor": "#2a3f5f"
            },
            "type": "carpet"
           }
          ],
          "choropleth": [
           {
            "colorbar": {
             "outlinewidth": 0,
             "ticks": ""
            },
            "type": "choropleth"
           }
          ],
          "contour": [
           {
            "colorbar": {
             "outlinewidth": 0,
             "ticks": ""
            },
            "colorscale": [
             [
              0,
              "#0d0887"
             ],
             [
              0.1111111111111111,
              "#46039f"
             ],
             [
              0.2222222222222222,
              "#7201a8"
             ],
             [
              0.3333333333333333,
              "#9c179e"
             ],
             [
              0.4444444444444444,
              "#bd3786"
             ],
             [
              0.5555555555555556,
              "#d8576b"
             ],
             [
              0.6666666666666666,
              "#ed7953"
             ],
             [
              0.7777777777777778,
              "#fb9f3a"
             ],
             [
              0.8888888888888888,
              "#fdca26"
             ],
             [
              1,
              "#f0f921"
             ]
            ],
            "type": "contour"
           }
          ],
          "contourcarpet": [
           {
            "colorbar": {
             "outlinewidth": 0,
             "ticks": ""
            },
            "type": "contourcarpet"
           }
          ],
          "heatmap": [
           {
            "colorbar": {
             "outlinewidth": 0,
             "ticks": ""
            },
            "colorscale": [
             [
              0,
              "#0d0887"
             ],
             [
              0.1111111111111111,
              "#46039f"
             ],
             [
              0.2222222222222222,
              "#7201a8"
             ],
             [
              0.3333333333333333,
              "#9c179e"
             ],
             [
              0.4444444444444444,
              "#bd3786"
             ],
             [
              0.5555555555555556,
              "#d8576b"
             ],
             [
              0.6666666666666666,
              "#ed7953"
             ],
             [
              0.7777777777777778,
              "#fb9f3a"
             ],
             [
              0.8888888888888888,
              "#fdca26"
             ],
             [
              1,
              "#f0f921"
             ]
            ],
            "type": "heatmap"
           }
          ],
          "heatmapgl": [
           {
            "colorbar": {
             "outlinewidth": 0,
             "ticks": ""
            },
            "colorscale": [
             [
              0,
              "#0d0887"
             ],
             [
              0.1111111111111111,
              "#46039f"
             ],
             [
              0.2222222222222222,
              "#7201a8"
             ],
             [
              0.3333333333333333,
              "#9c179e"
             ],
             [
              0.4444444444444444,
              "#bd3786"
             ],
             [
              0.5555555555555556,
              "#d8576b"
             ],
             [
              0.6666666666666666,
              "#ed7953"
             ],
             [
              0.7777777777777778,
              "#fb9f3a"
             ],
             [
              0.8888888888888888,
              "#fdca26"
             ],
             [
              1,
              "#f0f921"
             ]
            ],
            "type": "heatmapgl"
           }
          ],
          "histogram": [
           {
            "marker": {
             "pattern": {
              "fillmode": "overlay",
              "size": 10,
              "solidity": 0.2
             }
            },
            "type": "histogram"
           }
          ],
          "histogram2d": [
           {
            "colorbar": {
             "outlinewidth": 0,
             "ticks": ""
            },
            "colorscale": [
             [
              0,
              "#0d0887"
             ],
             [
              0.1111111111111111,
              "#46039f"
             ],
             [
              0.2222222222222222,
              "#7201a8"
             ],
             [
              0.3333333333333333,
              "#9c179e"
             ],
             [
              0.4444444444444444,
              "#bd3786"
             ],
             [
              0.5555555555555556,
              "#d8576b"
             ],
             [
              0.6666666666666666,
              "#ed7953"
             ],
             [
              0.7777777777777778,
              "#fb9f3a"
             ],
             [
              0.8888888888888888,
              "#fdca26"
             ],
             [
              1,
              "#f0f921"
             ]
            ],
            "type": "histogram2d"
           }
          ],
          "histogram2dcontour": [
           {
            "colorbar": {
             "outlinewidth": 0,
             "ticks": ""
            },
            "colorscale": [
             [
              0,
              "#0d0887"
             ],
             [
              0.1111111111111111,
              "#46039f"
             ],
             [
              0.2222222222222222,
              "#7201a8"
             ],
             [
              0.3333333333333333,
              "#9c179e"
             ],
             [
              0.4444444444444444,
              "#bd3786"
             ],
             [
              0.5555555555555556,
              "#d8576b"
             ],
             [
              0.6666666666666666,
              "#ed7953"
             ],
             [
              0.7777777777777778,
              "#fb9f3a"
             ],
             [
              0.8888888888888888,
              "#fdca26"
             ],
             [
              1,
              "#f0f921"
             ]
            ],
            "type": "histogram2dcontour"
           }
          ],
          "mesh3d": [
           {
            "colorbar": {
             "outlinewidth": 0,
             "ticks": ""
            },
            "type": "mesh3d"
           }
          ],
          "parcoords": [
           {
            "line": {
             "colorbar": {
              "outlinewidth": 0,
              "ticks": ""
             }
            },
            "type": "parcoords"
           }
          ],
          "pie": [
           {
            "automargin": true,
            "type": "pie"
           }
          ],
          "scatter": [
           {
            "fillpattern": {
             "fillmode": "overlay",
             "size": 10,
             "solidity": 0.2
            },
            "type": "scatter"
           }
          ],
          "scatter3d": [
           {
            "line": {
             "colorbar": {
              "outlinewidth": 0,
              "ticks": ""
             }
            },
            "marker": {
             "colorbar": {
              "outlinewidth": 0,
              "ticks": ""
             }
            },
            "type": "scatter3d"
           }
          ],
          "scattercarpet": [
           {
            "marker": {
             "colorbar": {
              "outlinewidth": 0,
              "ticks": ""
             }
            },
            "type": "scattercarpet"
           }
          ],
          "scattergeo": [
           {
            "marker": {
             "colorbar": {
              "outlinewidth": 0,
              "ticks": ""
             }
            },
            "type": "scattergeo"
           }
          ],
          "scattergl": [
           {
            "marker": {
             "colorbar": {
              "outlinewidth": 0,
              "ticks": ""
             }
            },
            "type": "scattergl"
           }
          ],
          "scattermapbox": [
           {
            "marker": {
             "colorbar": {
              "outlinewidth": 0,
              "ticks": ""
             }
            },
            "type": "scattermapbox"
           }
          ],
          "scatterpolar": [
           {
            "marker": {
             "colorbar": {
              "outlinewidth": 0,
              "ticks": ""
             }
            },
            "type": "scatterpolar"
           }
          ],
          "scatterpolargl": [
           {
            "marker": {
             "colorbar": {
              "outlinewidth": 0,
              "ticks": ""
             }
            },
            "type": "scatterpolargl"
           }
          ],
          "scatterternary": [
           {
            "marker": {
             "colorbar": {
              "outlinewidth": 0,
              "ticks": ""
             }
            },
            "type": "scatterternary"
           }
          ],
          "surface": [
           {
            "colorbar": {
             "outlinewidth": 0,
             "ticks": ""
            },
            "colorscale": [
             [
              0,
              "#0d0887"
             ],
             [
              0.1111111111111111,
              "#46039f"
             ],
             [
              0.2222222222222222,
              "#7201a8"
             ],
             [
              0.3333333333333333,
              "#9c179e"
             ],
             [
              0.4444444444444444,
              "#bd3786"
             ],
             [
              0.5555555555555556,
              "#d8576b"
             ],
             [
              0.6666666666666666,
              "#ed7953"
             ],
             [
              0.7777777777777778,
              "#fb9f3a"
             ],
             [
              0.8888888888888888,
              "#fdca26"
             ],
             [
              1,
              "#f0f921"
             ]
            ],
            "type": "surface"
           }
          ],
          "table": [
           {
            "cells": {
             "fill": {
              "color": "#EBF0F8"
             },
             "line": {
              "color": "white"
             }
            },
            "header": {
             "fill": {
              "color": "#C8D4E3"
             },
             "line": {
              "color": "white"
             }
            },
            "type": "table"
           }
          ]
         },
         "layout": {
          "annotationdefaults": {
           "arrowcolor": "#2a3f5f",
           "arrowhead": 0,
           "arrowwidth": 1
          },
          "autotypenumbers": "strict",
          "coloraxis": {
           "colorbar": {
            "outlinewidth": 0,
            "ticks": ""
           }
          },
          "colorscale": {
           "diverging": [
            [
             0,
             "#8e0152"
            ],
            [
             0.1,
             "#c51b7d"
            ],
            [
             0.2,
             "#de77ae"
            ],
            [
             0.3,
             "#f1b6da"
            ],
            [
             0.4,
             "#fde0ef"
            ],
            [
             0.5,
             "#f7f7f7"
            ],
            [
             0.6,
             "#e6f5d0"
            ],
            [
             0.7,
             "#b8e186"
            ],
            [
             0.8,
             "#7fbc41"
            ],
            [
             0.9,
             "#4d9221"
            ],
            [
             1,
             "#276419"
            ]
           ],
           "sequential": [
            [
             0,
             "#0d0887"
            ],
            [
             0.1111111111111111,
             "#46039f"
            ],
            [
             0.2222222222222222,
             "#7201a8"
            ],
            [
             0.3333333333333333,
             "#9c179e"
            ],
            [
             0.4444444444444444,
             "#bd3786"
            ],
            [
             0.5555555555555556,
             "#d8576b"
            ],
            [
             0.6666666666666666,
             "#ed7953"
            ],
            [
             0.7777777777777778,
             "#fb9f3a"
            ],
            [
             0.8888888888888888,
             "#fdca26"
            ],
            [
             1,
             "#f0f921"
            ]
           ],
           "sequentialminus": [
            [
             0,
             "#0d0887"
            ],
            [
             0.1111111111111111,
             "#46039f"
            ],
            [
             0.2222222222222222,
             "#7201a8"
            ],
            [
             0.3333333333333333,
             "#9c179e"
            ],
            [
             0.4444444444444444,
             "#bd3786"
            ],
            [
             0.5555555555555556,
             "#d8576b"
            ],
            [
             0.6666666666666666,
             "#ed7953"
            ],
            [
             0.7777777777777778,
             "#fb9f3a"
            ],
            [
             0.8888888888888888,
             "#fdca26"
            ],
            [
             1,
             "#f0f921"
            ]
           ]
          },
          "colorway": [
           "#636efa",
           "#EF553B",
           "#00cc96",
           "#ab63fa",
           "#FFA15A",
           "#19d3f3",
           "#FF6692",
           "#B6E880",
           "#FF97FF",
           "#FECB52"
          ],
          "font": {
           "color": "#2a3f5f"
          },
          "geo": {
           "bgcolor": "white",
           "lakecolor": "white",
           "landcolor": "#E5ECF6",
           "showlakes": true,
           "showland": true,
           "subunitcolor": "white"
          },
          "hoverlabel": {
           "align": "left"
          },
          "hovermode": "closest",
          "mapbox": {
           "style": "light"
          },
          "paper_bgcolor": "white",
          "plot_bgcolor": "#E5ECF6",
          "polar": {
           "angularaxis": {
            "gridcolor": "white",
            "linecolor": "white",
            "ticks": ""
           },
           "bgcolor": "#E5ECF6",
           "radialaxis": {
            "gridcolor": "white",
            "linecolor": "white",
            "ticks": ""
           }
          },
          "scene": {
           "xaxis": {
            "backgroundcolor": "#E5ECF6",
            "gridcolor": "white",
            "gridwidth": 2,
            "linecolor": "white",
            "showbackground": true,
            "ticks": "",
            "zerolinecolor": "white"
           },
           "yaxis": {
            "backgroundcolor": "#E5ECF6",
            "gridcolor": "white",
            "gridwidth": 2,
            "linecolor": "white",
            "showbackground": true,
            "ticks": "",
            "zerolinecolor": "white"
           },
           "zaxis": {
            "backgroundcolor": "#E5ECF6",
            "gridcolor": "white",
            "gridwidth": 2,
            "linecolor": "white",
            "showbackground": true,
            "ticks": "",
            "zerolinecolor": "white"
           }
          },
          "shapedefaults": {
           "line": {
            "color": "#2a3f5f"
           }
          },
          "ternary": {
           "aaxis": {
            "gridcolor": "white",
            "linecolor": "white",
            "ticks": ""
           },
           "baxis": {
            "gridcolor": "white",
            "linecolor": "white",
            "ticks": ""
           },
           "bgcolor": "#E5ECF6",
           "caxis": {
            "gridcolor": "white",
            "linecolor": "white",
            "ticks": ""
           }
          },
          "title": {
           "x": 0.05
          },
          "xaxis": {
           "automargin": true,
           "gridcolor": "white",
           "linecolor": "white",
           "ticks": "",
           "title": {
            "standoff": 15
           },
           "zerolinecolor": "white",
           "zerolinewidth": 2
          },
          "yaxis": {
           "automargin": true,
           "gridcolor": "white",
           "linecolor": "white",
           "ticks": "",
           "title": {
            "standoff": 15
           },
           "zerolinecolor": "white",
           "zerolinewidth": 2
          }
         }
        },
        "title": {
         "text": "node_level_repr_pre_encoder_mean"
        },
        "xaxis": {
         "title": {
          "text": "wl_score"
         }
        },
        "yaxis": {
         "title": {
          "text": "Mean"
         }
        }
       }
      }
     },
     "metadata": {},
     "output_type": "display_data"
    }
   ],
   "source": [
    "node_level_repr_pre_encoder_mean = np.array([means[wl_score][\"node_level_repr_pre_encoder\"] for wl_score in range(-1, max_wl_score + 1)])\n",
    "node_level_repr_pre_encoder_std = np.array([stds[wl_score][\"node_level_repr_pre_encoder\"] for wl_score in range(-1, max_wl_score + 1)])\n",
    "x = list(range(-1, max_wl_score + 1))\n",
    "\n",
    "fig = go.Figure(data=go.Scatter(x=x, y=node_level_repr_pre_encoder_mean, error_y=dict(type='data', array=node_level_repr_pre_encoder_std)))\n",
    "fig.update_layout(title=\"node_level_repr_pre_encoder_mean\", xaxis_title=\"wl_score\", yaxis_title=\"Mean\")\n",
    "fig.show()"
   ]
  },
  {
   "cell_type": "code",
   "execution_count": 91,
   "metadata": {},
   "outputs": [
    {
     "data": {
      "text/plain": [
       "dict_keys([-1, 0, 1, 2, 3, 4, 5])"
      ]
     },
     "execution_count": 91,
     "metadata": {},
     "output_type": "execute_result"
    }
   ],
   "source": [
    "raw_data.keys()"
   ]
  },
  {
   "cell_type": "code",
   "execution_count": 92,
   "metadata": {},
   "outputs": [
    {
     "data": {
      "application/vnd.plotly.v1+json": {
       "config": {
        "plotlyServerURL": "https://plot.ly"
       },
       "data": [
        {
         "alignmentgroup": "True",
         "bingroup": "x",
         "hovertemplate": "variable=0<br>value=%{x}<br>count=%{y}<extra></extra>",
         "legendgroup": "0",
         "marker": {
          "color": "#636efa",
          "pattern": {
           "shape": ""
          }
         },
         "name": "0",
         "offsetgroup": "0",
         "orientation": "v",
         "showlegend": true,
         "type": "histogram",
         "x": [
          -1.0244548320770264e-7,
          -2.421438694000244e-8,
          8.754432201385498e-8,
          6.705522537231445e-8,
          -3.91155481338501e-8,
          -1.3597309589385986e-7,
          -2.9802322387695312e-8,
          -1.434236764907837e-7,
          -2.9802322387695312e-8,
          3.259629011154175e-8,
          8.102506399154663e-8,
          6.146728992462158e-8,
          1.1175870895385742e-8,
          6.798654794692993e-8,
          3.725290298461914e-8,
          6.705522537231445e-8,
          1.3969838619232178e-8,
          1.1175870895385742e-8,
          9.313225746154785e-10,
          -1.2479722499847412e-7,
          8.009374141693115e-8,
          -3.91155481338501e-8,
          -1.862645149230957e-8,
          1.6205012798309326e-7,
          6.146728992462158e-8,
          -3.3527612686157227e-8,
          -1.043081283569336e-7,
          -1.2293457984924316e-7,
          3.725290298461914e-9,
          -5.774199962615967e-8,
          1.4528632164001465e-7,
          -4.842877388000488e-8,
          5.587935447692871e-9,
          -1.862645149230957e-8,
          -2.0489096641540527e-8,
          1.0244548320770264e-7,
          6.705522537231445e-8,
          -7.636845111846924e-8,
          2.514570951461792e-8,
          -3.3527612686157227e-8,
          6.146728992462158e-8,
          8.568167686462402e-8,
          -8.754432201385498e-8,
          -1.5832483768463135e-7,
          -3.725290298461914e-8,
          -6.332993507385254e-8,
          9.313225746154785e-9,
          7.450580596923828e-9,
          -3.725290298461914e-8,
          1.341104507446289e-7,
          3.725290298461914e-8,
          -3.3527612686157227e-8,
          -1.0803341865539551e-7,
          -7.636845111846924e-8,
          -9.313225746154785e-8,
          -1.8812716007232666e-7,
          1.2479722499847412e-7,
          -9.96515154838562e-8,
          1.4901161193847656e-8,
          5.587935447692871e-9,
          -1.210719347000122e-7,
          -2.514570951461792e-8,
          1.3364478945732117e-7,
          7.916241884231567e-8,
          6.891787052154541e-8,
          0,
          -5.168840289115906e-8,
          -1.1734664440155029e-7,
          -4.6566128730773926e-8,
          -7.450580596923828e-8,
          1.6577541828155518e-7,
          -1.4528632164001465e-7,
          -1.1175870895385742e-7,
          -1.601874828338623e-7,
          8.195638656616211e-8,
          -7.82310962677002e-8,
          1.30385160446167e-8,
          -7.636845111846924e-8,
          2.0489096641540527e-8,
          -1.3317912817001343e-7,
          7.217749953269958e-8,
          3.818422555923462e-8,
          -4.0046870708465576e-8,
          2.7474015951156616e-8,
          2.7008354663848877e-8,
          -5.587935447692871e-9,
          3.119930624961853e-8,
          6.332993507385254e-8,
          -1.8812716007232666e-7,
          1.0058283805847168e-7,
          -7.450580596923828e-9,
          4.284083843231201e-8,
          -3.725290298461914e-9,
          -2.2351741790771484e-8,
          8.381903171539307e-8,
          -3.259629011154175e-8,
          -2.421438694000244e-8,
          1.5273690223693848e-7,
          5.21540641784668e-8,
          1.2945383787155151e-7,
          -1.5832483768463135e-7,
          2.7939677238464355e-8,
          1.30385160446167e-8,
          -1.825392246246338e-7,
          1.7695128917694092e-8,
          -9.313225746154785e-9,
          -3.725290298461914e-8,
          -7.636845111846924e-8,
          8.102506399154663e-8,
          3.725290298461914e-8,
          3.166496753692627e-8,
          -1.4901161193847656e-8,
          3.073364496231079e-8,
          -5.21540641784668e-8,
          -7.450580596923828e-9,
          1.6763806343078613e-8,
          -2.421438694000244e-8,
          1.6391277313232422e-7,
          2.551823854446411e-7,
          1.0244548320770264e-7,
          5.681067705154419e-8,
          1.862645149230957e-9,
          -7.450580596923828e-9,
          -4.7497451305389404e-8,
          4.0978193283081055e-8,
          2.3748725652694702e-8,
          5.029141902923584e-8,
          -1.1548399925231934e-7,
          -2.0489096641540527e-8,
          -9.73232090473175e-8,
          7.450580596923828e-8,
          1.0617077350616455e-7,
          -1.1920928955078125e-7,
          -8.940696716308594e-8,
          8.288770914077759e-8,
          -3.725290298461914e-9,
          -1.3224780559539795e-7,
          2.421438694000244e-8,
          -1.4901161193847656e-8,
          -1.4901161193847656e-8,
          2.2351741790771484e-8,
          1.7136335372924805e-7,
          -1.341104507446289e-7,
          -9.313225746154785e-8,
          1.3969838619232178e-9,
          4.7497451305389404e-8,
          -7.078051567077637e-8,
          1.2293457984924316e-7,
          1.2665987014770508e-7,
          1.862645149230957e-9,
          -5.8673322200775146e-8,
          -1.4435499906539917e-8,
          1.1082738637924194e-7,
          -7.450580596923828e-9,
          -1.30385160446167e-8,
          -1.955777406692505e-8,
          5.122274160385132e-8,
          1.2759119272232056e-7,
          -8.940696716308594e-8,
          -1.2852251529693604e-7,
          -4.377216100692749e-8,
          -1.755543053150177e-7,
          -4.6566128730773926e-8,
          3.91155481338501e-8,
          -5.774199962615967e-8,
          4.563480615615845e-8,
          -1.1920928955078125e-7,
          -1.2153759598731995e-7,
          1.1734664440155029e-7,
          1.3969838619232178e-8,
          -4.470348358154297e-8,
          1.4901161193847656e-8,
          -2.9802322387695312e-8,
          5.960464477539063e-8,
          1.4901161193847656e-8,
          4.0978193283081055e-8,
          1.280568540096283e-7,
          2.561137080192566e-8,
          3.725290298461914e-9,
          -1.4901161193847656e-7,
          6.798654794692993e-8,
          4.6566128730773926e-8,
          3.166496753692627e-8,
          4.470348358154297e-8,
          1.7695128917694092e-8,
          -2.0582228899002075e-7,
          5.2619725465774536e-8,
          8.381903171539307e-8,
          5.168840289115906e-8,
          3.259629011154175e-9,
          2.3283064365386963e-9,
          4.284083843231201e-8,
          6.146728992462158e-8,
          -9.12696123123169e-8,
          -2.0023435354232788e-8,
          -9.313225746154785e-9,
          2.9802322387695312e-8,
          -6.100162863731384e-8,
          -3.073364496231079e-8,
          -1.1920928955078125e-7,
          8.381903171539307e-8,
          -1.0011717677116394e-7,
          2.421438694000244e-8,
          -1.0710209608078003e-8,
          -3.2549723982810974e-7,
          9.499490261077881e-8,
          -1.5739351511001587e-7,
          -1.5366822481155396e-8,
          1.862645149230957e-8,
          -1.0710209608078003e-7,
          7.450580596923828e-9,
          1.257285475730896e-8,
          7.450580596923828e-9,
          1.1548399925231934e-7,
          9.313225746154785e-8,
          -5.587935447692871e-9,
          9.499490261077881e-8,
          -1.5273690223693848e-7,
          8.381903171539307e-8,
          -1.0617077350616455e-7,
          1.0244548320770264e-7,
          1.126900315284729e-7,
          -6.51925802230835e-8,
          -1.862645149230957e-8,
          7.450580596923828e-9,
          3.3527612686157227e-8,
          -2.0675361156463623e-7,
          -6.51925802230835e-9,
          -6.705522537231445e-8,
          -2.561137080192566e-8,
          -4.284083843231201e-8,
          -3.725290298461914e-9,
          -2.384185791015625e-7,
          -4.190951585769653e-8,
          1.601874828338623e-7,
          -1.3131648302078247e-7,
          -9.96515154838562e-8,
          -5.774199962615967e-8,
          -5.21540641784668e-8,
          -6.51925802230835e-8,
          -4.470348358154297e-8,
          -1.8207356333732605e-7,
          -3.166496753692627e-8,
          2.9802322387695312e-8,
          1.3224780559539795e-7,
          -2.0489096641540527e-8,
          8.568167686462402e-8,
          3.91155481338501e-8,
          9.872019290924072e-8,
          7.264316082000732e-8,
          1.0058283805847168e-7,
          4.284083843231201e-8,
          8.940696716308594e-8,
          -8.568167686462402e-8,
          -3.958120942115784e-8,
          3.3527612686157227e-8,
          -6.705522537231445e-8,
          1.3969838619232178e-8,
          1.0244548320770264e-7,
          2.7939677238464355e-8,
          -3.725290298461914e-9,
          -8.42846930027008e-8,
          9.685754776000977e-8,
          -4.516914486885071e-8,
          7.171183824539185e-8,
          -4.7497451305389404e-8,
          2.7939677238464355e-8,
          -2.2724270820617676e-7,
          -2.2351741790771484e-8,
          -1.0244548320770264e-7,
          -6.239861249923706e-8,
          1.126900315284729e-7,
          -3.166496753692627e-8,
          4.0046870708465576e-8,
          8.568167686462402e-8,
          -3.864988684654236e-8,
          9.313225746154785e-8,
          4.6566128730773926e-9,
          5.587935447692871e-8,
          7.078051567077637e-8,
          6.938353180885315e-8,
          7.636845111846924e-8,
          6.239861249923706e-8,
          1.6763806343078613e-8,
          3.3527612686157227e-8,
          2.7008354663848877e-8,
          -2.2351741790771484e-8,
          1.103617250919342e-7,
          -1.1175870895385742e-8,
          -7.82310962677002e-8,
          1.126900315284729e-7,
          -7.636845111846924e-8,
          -2.7939677238464355e-8,
          1.7136335372924805e-7,
          -6.007030606269836e-8,
          -1.564621925354004e-7,
          1.0337680578231812e-7,
          7.450580596923828e-9,
          7.450580596923828e-9,
          -9.499490261077881e-8,
          -6.05359673500061e-9,
          1.3783574104309082e-7,
          3.91155481338501e-8,
          -4.470348358154297e-8,
          -1.1362135410308838e-7,
          6.332993507385254e-8,
          5.727633833885193e-8,
          5.587935447692871e-8,
          6.705522537231445e-8,
          -6.472691893577576e-8,
          1.862645149230957e-8,
          -4.6566128730773926e-8,
          0,
          -3.166496753692627e-8,
          -8.940696716308594e-8,
          1.30385160446167e-8,
          -2.2351741790771484e-8,
          -1.0617077350616455e-7,
          -1.2852251529693604e-7,
          1.862645149230957e-8,
          4.6566128730773926e-8,
          -2.0023435354232788e-8,
          6.332993507385254e-8,
          -9.872019290924072e-8,
          1.30385160446167e-8,
          -1.341104507446289e-7,
          -1.6391277313232422e-7,
          0,
          9.313225746154785e-8,
          2.2351741790771484e-8,
          5.587935447692871e-9,
          1.126900315284729e-7,
          -1.2479722499847412e-7,
          -1.1175870895385742e-8,
          2.0489096641540527e-7,
          -6.51925802230835e-8,
          6.705522537231445e-8,
          5.960464477539063e-8,
          3.166496753692627e-8,
          -6.146728992462158e-8,
          1.6763806343078613e-8,
          6.007030606269836e-8,
          9.313225746154785e-9,
          -3.725290298461914e-8,
          -1.0058283805847168e-7,
          5.494803190231323e-8,
          -1.3317912817001343e-7,
          -6.51925802230835e-8,
          1.6205012798309326e-7,
          -2.0954757928848267e-8,
          1.6298145055770874e-7,
          -5.587935447692871e-9,
          1.0803341865539551e-7,
          0,
          3.5390257835388184e-8,
          9.546056389808655e-8,
          1.30385160446167e-8,
          5.3085386753082275e-8,
          6.51925802230835e-9,
          -5.075708031654358e-8,
          5.3085386753082275e-8,
          -8.288770914077759e-8,
          1.0617077350616455e-7,
          3.026798367500305e-8,
          -1.0011717677116394e-7,
          -4.470348358154297e-8,
          -1.0244548320770264e-8,
          5.681067705154419e-8,
          4.284083843231201e-8,
          1.955777406692505e-8,
          1.6763806343078613e-8,
          -9.639188647270203e-8,
          5.587935447692871e-9,
          3.5390257835388184e-8,
          1.955777406692505e-8,
          2.7939677238464355e-8,
          -1.7229467630386353e-7,
          9.313225746154785e-10,
          1.6763806343078613e-8,
          -3.213062882423401e-8,
          5.8673322200775146e-8,
          5.587935447692871e-9,
          -1.257285475730896e-8,
          1.955777406692505e-8,
          -3.585591912269592e-8,
          6.612390279769897e-8,
          -9.592622518539429e-8,
          4.0978193283081055e-8,
          -3.259629011154175e-8,
          1.19674950838089e-7,
          7.636845111846924e-8,
          -1.51805579662323e-7,
          9.12696123123169e-8,
          -1.1827796697616577e-7,
          -4.889443516731262e-8,
          3.5390257835388184e-8,
          -9.313225746154785e-9,
          -7.031485438346863e-8,
          1.434236764907837e-7,
          -2.2351741790771484e-8,
          -5.494803190231323e-8,
          5.681067705154419e-8,
          1.3248063623905182e-7,
          -1.30385160446167e-8,
          -7.450580596923828e-9,
          -4.190951585769653e-9,
          -7.101334631443024e-8,
          3.725290298461914e-8,
          -4.6566128730773926e-8,
          9.918585419654846e-8,
          -3.67872416973114e-8,
          7.217749953269958e-8,
          -7.264316082000732e-8,
          -8.009374141693115e-8,
          -1.4551915228366852e-7,
          1.2479722499847412e-7,
          -1.4156103134155273e-7,
          -1.30385160446167e-8,
          1.2386590242385864e-7,
          -8.102506399154663e-8,
          -1.3131648302078247e-7,
          -1.257285475730896e-7,
          -1.1175870895385742e-7,
          -7.450580596923828e-9,
          -1.862645149230957e-8,
          1.434236764907837e-7,
          1.0989606380462646e-7,
          3.585591912269592e-8,
          1.564621925354004e-7,
          7.35744833946228e-8,
          1.4854595065116882e-7,
          -4.842877388000488e-8,
          1.30385160446167e-8,
          2.0954757928848267e-8,
          6.146728992462158e-8,
          -1.3085082173347473e-7,
          5.820766091346741e-8,
          -1.1781230568885803e-7,
          1.3969838619232178e-9,
          3.585591912269592e-8,
          6.891787052154541e-8,
          -1.30385160446167e-8,
          1.2479722499847412e-7,
          -3.3527612686157227e-8,
          -1.8114224076271057e-7,
          5.075708031654358e-8,
          -1.1175870895385742e-8,
          -4.237517714500427e-8,
          -9.685754776000977e-8,
          -4.6566128730773926e-8,
          2.207234501838684e-7,
          2.7939677238464355e-9,
          5.774199962615967e-8,
          5.9138983488082886e-8,
          5.168840289115906e-8,
          1.1082738637924194e-7,
          -8.195638656616211e-8,
          1.1082738637924194e-7,
          -2.9243528842926025e-7,
          2.1420419216156006e-8,
          -6.565824151039124e-8,
          1.2200325727462769e-7,
          -2.7939677238464355e-8,
          9.289942681789398e-8,
          5.541369318962097e-8,
          -1.862645149230957e-9,
          1.8347054719924927e-7,
          2.60770320892334e-8,
          -2.60770320892334e-8,
          -7.729977369308472e-8,
          1.0896474123001099e-7,
          -9.266659617424011e-8,
          -3.5390257835388184e-8,
          4.284083843231201e-8,
          -1.264270395040512e-7,
          -4.1443854570388794e-8,
          -1.4761462807655334e-7,
          1.955777406692505e-8,
          1.2922100722789764e-7,
          -8.66129994392395e-8,
          1.6763806343078613e-8,
          -6.239861249923706e-8,
          5.4016709327697754e-8,
          -2.1606683731079102e-7,
          2.207234501838684e-7,
          -2.0116567611694336e-7,
          -1.1920928955078125e-7,
          -7.264316082000732e-8,
          1.210719347000122e-8,
          1.4901161193847656e-7,
          -1.341104507446289e-7,
          -8.288770914077759e-8,
          -1.5366822481155396e-7,
          6.658956408500671e-8,
          -3.3527612686157227e-8,
          1.0244548320770264e-8,
          -7.497146725654602e-8,
          1.2293457984924316e-7,
          -1.2293457984924316e-7,
          -7.171183824539185e-8,
          -9.872019290924072e-8,
          -3.958120942115784e-8,
          -1.2991949915885925e-7,
          2.514570951461792e-8,
          1.2852251529693604e-7,
          4.284083843231201e-8,
          -1.341104507446289e-7,
          -5.820766091346741e-8,
          1.4808028936386108e-7,
          -8.754432201385498e-8,
          -6.193295121192932e-8,
          -1.1175870895385742e-8,
          2.0721927285194397e-7,
          4.936009645462036e-8,
          4.237517714500427e-8,
          3.3527612686157227e-8,
          9.266659617424011e-8,
          2.1420419216156006e-8,
          1.6763806343078613e-8,
          -6.612390279769897e-8,
          5.3085386753082275e-8,
          1.0803341865539551e-7,
          7.543712854385376e-8,
          -1.341104507446289e-7,
          2.3283064365386963e-9,
          7.82310962677002e-8,
          -6.51925802230835e-8,
          -9.685754776000977e-8,
          -6.332993507385254e-8,
          -9.12696123123169e-8,
          -1.8719583749771118e-7,
          -5.587935447692871e-8,
          1.4901161193847656e-8,
          -5.21540641784668e-8,
          6.146728992462158e-8,
          9.173527359962463e-8,
          -7.82310962677002e-8,
          2.2351741790771484e-8,
          5.960464477539063e-8,
          -1.4668330550193787e-8,
          4.190951585769653e-8,
          -7.497146725654602e-8,
          8.195638656616211e-8,
          -2.5797635316848755e-7,
          -3.3993273973464966e-8,
          -7.217749953269958e-8,
          -2.3283064365386963e-8,
          2.2817403078079224e-8,
          -4.842877388000488e-8,
          -3.0919909477233887e-7,
          7.078051567077637e-8,
          -7.82310962677002e-8,
          -1.0058283805847168e-7,
          8.195638656616211e-8,
          -1.3504177331924438e-8,
          -1.862645149230957e-8,
          1.825392246246338e-7,
          -4.516914486885071e-8,
          -3.0174851417541504e-7,
          -1.043081283569336e-7,
          -1.210719347000122e-8,
          -1.862645149230957e-8,
          -9.685754776000977e-8,
          -2.9802322387695312e-8,
          1.0803341865539551e-7,
          3.958120942115784e-8,
          -1.1175870895385742e-8,
          -2.9802322387695312e-8,
          5.21540641784668e-8,
          -1.909211277961731e-8,
          9.592622518539429e-8,
          1.1175870895385742e-8,
          -5.122274160385132e-8,
          -1.3783574104309082e-7,
          -5.168840289115906e-8,
          -1.1175870895385742e-8,
          -2.60770320892334e-8,
          2.1979212760925293e-7,
          1.341104507446289e-7,
          3.3527612686157227e-8,
          -1.862645149230957e-8,
          8.568167686462402e-8,
          -8.195638656616211e-8,
          5.8673322200775146e-8,
          -8.66129994392395e-8,
          -2.0023435354232788e-7,
          7.450580596923828e-8,
          2.1420419216156006e-8,
          -2.7939677238464355e-8,
          4.284083843231201e-8,
          -1.5366822481155396e-7,
          -1.9371509552001953e-7,
          2.7939677238464355e-8,
          -3.5390257835388184e-8,
          1.862645149230957e-8,
          7.078051567077637e-8,
          -1.4901161193847656e-8,
          1.862645149230957e-8,
          1.2293457984924316e-7,
          7.636845111846924e-8,
          -1.5459954738616943e-7,
          4.377216100692749e-8,
          8.009374141693115e-8,
          2.2631138563156128e-7,
          -3.91155481338501e-8,
          -6.146728992462158e-8,
          -1.862645149230957e-9,
          1.30385160446167e-7,
          -1.6391277313232422e-7,
          -1.7695128917694092e-8,
          3.725290298461914e-8,
          -3.073364496231079e-8,
          -9.220093488693237e-8,
          4.842877388000488e-8,
          -7.264316082000732e-8,
          -1.862645149230957e-9,
          -5.960464477539063e-8,
          6.798654794692993e-8,
          1.5832483768463135e-8,
          -9.313225746154785e-10,
          2.7008354663848877e-8,
          -2.60770320892334e-8,
          -8.940696716308594e-8,
          4.190951585769653e-8,
          1.825392246246338e-7,
          2.7939677238464355e-9,
          -2.7939677238464355e-8,
          -4.842877388000488e-8,
          -1.1548399925231934e-7,
          -6.426125764846802e-8,
          -5.494803190231323e-8,
          1.0151416063308716e-7,
          2.8870999813079834e-8,
          -7.264316082000732e-8,
          -4.6566128730773926e-8,
          -9.685754776000977e-8,
          -8.009374141693115e-8,
          -1.0896474123001099e-7,
          -4.190951585769653e-8,
          1.257285475730896e-7,
          -9.313225746154785e-9,
          1.5832483768463135e-8,
          1.955777406692505e-8,
          8.288770914077759e-8,
          7.078051567077637e-8,
          -6.798654794692993e-8,
          1.7508864402770996e-7,
          -1.1920928955078125e-7,
          6.51925802230835e-9,
          -1.862645149230957e-9,
          9.313225746154785e-8,
          -1.210719347000122e-7,
          9.592622518539429e-8,
          -6.612390279769897e-8,
          3.725290298461914e-8,
          1.1082738637924194e-7,
          1.955777406692505e-7,
          -2.2258609533309937e-7,
          1.2200325727462769e-7,
          -8.381903171539307e-8,
          1.0244548320770264e-8,
          2.4493783712387085e-7,
          1.1455267667770386e-7,
          1.4901161193847656e-8,
          -9.313225746154785e-9,
          -1.6670674085617065e-7,
          -7.264316082000732e-8,
          -6.51925802230835e-8,
          -9.499490261077881e-8,
          2.3283064365386963e-8,
          -2.60770320892334e-8,
          -2.7939677238464355e-8,
          -2.7008354663848877e-8,
          8.381903171539307e-9,
          -2.0489096641540527e-8,
          2.60770320892334e-8,
          -3.91155481338501e-8,
          -1.9371509552001953e-7,
          -1.3224780559539795e-7,
          9.313225746154785e-10,
          -1.424923539161682e-7,
          -2.514570951461792e-8,
          -2.7939677238464355e-8,
          -1.3317912817001343e-7,
          1.1734664440155029e-7,
          1.695007085800171e-7,
          -1.7695128917694092e-8,
          -3.3527612686157227e-8,
          7.450580596923828e-8,
          1.341104507446289e-7,
          1.862645149230957e-8,
          -1.7695128917694092e-8,
          1.0803341865539551e-7,
          -6.332993507385254e-8,
          1.4156103134155273e-7,
          1.2293457984924316e-7,
          -1.9744038581848145e-7,
          -9.220093488693237e-8,
          -2.3283064365386963e-9,
          1.6298145055770874e-8,
          -2.421438694000244e-8,
          -6.752088665962219e-8,
          8.102506399154663e-8,
          -6.239861249923706e-8,
          -5.21540641784668e-8,
          1.3969838619232178e-8,
          5.960464477539063e-8,
          1.0477378964424133e-7,
          5.960464477539063e-8,
          1.6298145055770874e-8,
          -1.387670636177063e-7,
          -1.2293457984924316e-7,
          2.60770320892334e-8,
          3.632158041000366e-8,
          8.940696716308594e-8,
          -1.4062970876693726e-7,
          1.755543053150177e-7,
          1.424923539161682e-7,
          -1.30385160446167e-8,
          3.725290298461914e-9,
          -1.2665987014770508e-7,
          -4.284083843231201e-8,
          1.200241968035698e-7,
          -1.6763806343078613e-8,
          -5.029141902923584e-8,
          -1.0803341865539551e-7,
          8.335337042808533e-8,
          4.0046870708465576e-8,
          2.1420419216156006e-8,
          8.381903171539307e-8,
          -3.4458935260772705e-8,
          1.6670674085617065e-7,
          -8.195638656616211e-8,
          -1.0547228157520294e-7,
          3.003515303134918e-8,
          8.195638656616211e-8,
          1.816079020500183e-7,
          7.264316082000732e-8,
          1.792795956134796e-8,
          1.2852251529693604e-7,
          -7.82310962677002e-8,
          2.7939677238464355e-9,
          1.1175870895385742e-8,
          -1.3783574104309082e-7,
          4.936009645462036e-8,
          -6.705522537231445e-8,
          2.9802322387695312e-8,
          -1.862645149230957e-8,
          -1.30385160446167e-8,
          2.514570951461792e-8,
          1.1175870895385742e-8,
          -6.100162863731384e-8,
          9.499490261077881e-8,
          5.960464477539063e-8,
          -7.450580596923828e-9,
          -3.632158041000366e-8,
          3.3527612686157227e-8,
          -1.0244548320770264e-8,
          -6.332993507385254e-8,
          -2.4028122425079346e-7,
          1.4621764421463013e-7,
          8.940696716308594e-8,
          1.8207356333732605e-7,
          -1.30385160446167e-8,
          1.2852251529693604e-7,
          4.284083843231201e-8,
          -1.0058283805847168e-7,
          1.1175870895385742e-8,
          8.381903171539307e-8,
          9.406358003616333e-8,
          5.494803190231323e-8,
          -1.30385160446167e-8,
          -1.862645149230957e-7,
          -1.6763806343078613e-8,
          -1.4156103134155273e-7,
          9.685754776000977e-8,
          -1.0058283805847168e-7,
          4.470348358154297e-8,
          -4.470348358154297e-8,
          9.872019290924072e-8,
          7.264316082000732e-8,
          -1.1175870895385742e-8,
          7.636845111846924e-8,
          -5.21540641784668e-8,
          -6.705522537231445e-8,
          -1.3597309589385986e-7,
          -4.6566128730773926e-9,
          2.421438694000244e-8,
          5.587935447692871e-8,
          -2.0954757928848267e-8,
          5.587935447692871e-8,
          2.0349398255348206e-7,
          -9.12696123123169e-8,
          -4.842877388000488e-8,
          1.30385160446167e-8,
          -5.122274160385132e-9,
          -4.912726581096649e-8,
          -1.862645149230957e-8,
          -3.4691765904426575e-8,
          8.940696716308594e-8,
          -5.774199962615967e-8,
          1.7508864402770996e-7,
          9.685754776000977e-8,
          -1.1175870895385742e-8,
          -8.940696716308594e-8,
          -1.1175870895385742e-8,
          7.636845111846924e-8,
          4.6100467443466187e-8,
          -1.1408701539039612e-7,
          3.3527612686157227e-8,
          -9.12696123123169e-8,
          7.916241884231567e-9,
          -6.705522537231445e-8,
          4.6100467443466187e-8,
          -1.0617077350616455e-7,
          -5.494803190231323e-8,
          -3.934837877750397e-8,
          -1.3969838619232178e-7,
          -9.872019290924072e-8,
          3.166496753692627e-8,
          1.0617077350616455e-7,
          9.313225746154785e-10,
          -9.499490261077881e-8,
          1.862645149230957e-8,
          1.6763806343078613e-8,
          -1.0151416063308716e-7,
          -3.5390257835388184e-8,
          -6.05359673500061e-8,
          9.313225746154785e-9,
          1.7695128917694092e-8,
          2.2351741790771484e-8,
          -5.2619725465774536e-8,
          -4.377216100692749e-8,
          1.043081283569336e-7,
          -2.7939677238464355e-8,
          -1.862645149230957e-8,
          -2.0954757928848267e-8,
          1.7695128917694092e-8,
          -3.073364496231079e-8,
          -9.313225746154785e-9,
          1.1920928955078125e-7,
          -5.587935447692871e-9,
          -1.424923539161682e-7,
          9.313225746154785e-8,
          -8.940696716308594e-8,
          -1.862645149230957e-7,
          5.21540641784668e-8,
          -9.96515154838562e-8,
          1.5832483768463135e-7,
          -1.2200325727462769e-7,
          -1.1362135410308838e-7,
          1.816079020500183e-8,
          -4.0978193283081055e-8,
          3.166496753692627e-8,
          1.5832483768463135e-8,
          -5.587935447692871e-8,
          -1.8067657947540283e-7,
          -2.9802322387695312e-8,
          2.9616057872772217e-7,
          5.21540641784668e-8,
          -5.21540641784668e-8,
          4.842877388000488e-8,
          1.4901161193847656e-8,
          5.21540641784668e-8,
          4.842877388000488e-8,
          -7.264316082000732e-8,
          -1.1548399925231934e-7,
          4.377216100692749e-8,
          -1.862645149230957e-8,
          1.9278377294540405e-7,
          -1.0244548320770264e-8,
          3.026798367500305e-8,
          -3.119930624961853e-8,
          4.237517714500427e-8,
          -8.568167686462402e-8,
          1.1082738637924194e-7,
          -7.450580596923828e-9,
          7.35744833946228e-8,
          -5.541369318962097e-8,
          -1.6763806343078613e-8,
          -8.475035429000854e-8,
          -4.7497451305389404e-8,
          4.842877388000488e-8,
          1.341104507446289e-7,
          2.6263296604156494e-7,
          1.3969838619232178e-8,
          -1.2200325727462769e-7,
          4.400499165058136e-8,
          -5.78584149479866e-8,
          -1.30385160446167e-8,
          -3.5390257835388184e-8,
          -6.984919309616089e-8,
          1.2852251529693604e-7,
          1.434236764907837e-7,
          -4.0978193283081055e-8,
          8.12578946352005e-8,
          -2.0489096641540527e-7,
          -3.166496753692627e-8,
          9.033828973770142e-8,
          7.543712854385376e-8,
          -7.636845111846924e-8,
          -1.555308699607849e-7,
          -3.4458935260772705e-8,
          2.0489096641540527e-8,
          -4.7497451305389404e-8,
          4.377216100692749e-8,
          -4.0046870708465576e-8,
          -8.614733815193176e-9,
          1.0943040251731873e-7,
          -6.705522537231445e-8,
          -2.7939677238464355e-8,
          2.7939677238464355e-9,
          -6.705522537231445e-8,
          -1.1175870895385742e-8,
          -2.2910535335540771e-7,
          -6.51925802230835e-9,
          -1.4901161193847656e-8,
          6.332993507385254e-8,
          4.284083843231201e-8,
          -8.195638656616211e-8,
          7.729977369308472e-8,
          3.166496753692627e-8,
          5.774199962615967e-8,
          -9.173527359962463e-8,
          8.847564458847046e-9,
          1.043081283569336e-7,
          2.1420419216156006e-8,
          -3.818422555923462e-8,
          1.317821443080902e-7,
          6.51925802230835e-9,
          3.5390257835388184e-8,
          -4.377216100692749e-8,
          3.3527612686157227e-8,
          8.66129994392395e-8,
          -3.4458935260772705e-8,
          -1.0617077350616455e-7,
          -1.210719347000122e-7,
          8.475035429000854e-8,
          1.1641532182693481e-9,
          2.2118911147117615e-8,
          -1.5832483768463135e-8,
          -7.078051567077637e-8,
          2.7939677238464355e-9,
          -1.2293457984924316e-7,
          -2.0489096641540527e-7,
          1.0803341865539551e-7,
          -5.122274160385132e-8,
          -7.82310962677002e-8,
          7.951166480779648e-8,
          -1.862645149230957e-9,
          -7.275957614183426e-8,
          -1.564621925354004e-7,
          -2.0116567611694336e-7,
          2.2351741790771484e-8,
          -8.754432201385498e-8,
          2.0489096641540527e-8,
          1.1641532182693481e-8,
          7.404014468193054e-8,
          -1.5832483768463135e-8,
          -1.862645149230957e-8,
          -7.729977369308472e-8,
          9.685754776000977e-8,
          9.313225746154785e-8,
          3.725290298461914e-8,
          2.1420419216156006e-8,
          -1.8812716007232666e-7,
          -7.031485438346863e-8,
          1.3597309589385986e-7,
          -2.1886080503463745e-8,
          6.891787052154541e-8,
          3.073364496231079e-8,
          -1.7695128917694092e-8,
          2.8870999813079834e-8,
          5.587935447692871e-9,
          -5.587935447692871e-9,
          1.3969838619232178e-9,
          -1.862645149230957e-9,
          2.868473529815674e-7,
          -3.3527612686157227e-8,
          -6.542541086673737e-8,
          7.078051567077637e-8,
          -1.885928213596344e-8,
          9.359791874885559e-8,
          1.3690441846847534e-7,
          -4.190951585769653e-8,
          -6.51925802230835e-8,
          4.284083843231201e-8,
          4.1443854570388794e-8,
          -2.123415470123291e-7,
          1.0943040251731873e-7,
          1.3923272490501404e-7,
          7.683411240577698e-8,
          9.499490261077881e-8,
          1.424923539161682e-7,
          1.3504177331924438e-7,
          1.4156103134155273e-7,
          5.122274160385132e-8,
          1.5832483768463135e-8,
          1.0244548320770264e-8,
          1.6391277313232422e-7,
          4.936009645462036e-8,
          -4.0978193283081055e-8,
          -1.862645149230957e-8,
          1.0011717677116394e-8,
          -7.264316082000732e-8,
          -1.1175870895385742e-8,
          -1.2177042663097382e-7,
          -1.0058283805847168e-7,
          8.568167686462402e-8,
          2.7939677238464355e-9,
          -1.3969838619232178e-9,
          -4.377216100692749e-8,
          -1.862645149230957e-9,
          -3.166496753692627e-8,
          1.4319084584712982e-7,
          9.499490261077881e-8,
          1.0523945093154907e-7,
          4.377216100692749e-8,
          -5.587935447692871e-8,
          1.862645149230957e-8,
          1.7695128917694092e-8,
          -2.0489096641540527e-8,
          -9.685754776000977e-8,
          -5.075708031654358e-8,
          -9.313225746154785e-9,
          -1.541338860988617e-7,
          1.4435499906539917e-7,
          -6.332993507385254e-8,
          6.332993507385254e-8,
          7.450580596923828e-9,
          1.2293457984924316e-7,
          5.774199962615967e-8,
          -7.82310962677002e-8,
          2.9802322387695312e-8,
          -1.3504177331924438e-7,
          6.332993507385254e-8,
          -1.0523945093154907e-7,
          -1.0803341865539551e-7,
          1.2014061212539673e-7,
          6.705522537231445e-8,
          1.7508864402770996e-7,
          -4.6566128730773926e-8,
          2.421438694000244e-8,
          1.1175870895385742e-8,
          5.21540641784668e-8,
          1.1734664440155029e-7,
          -1.0058283805847168e-7,
          -7.35744833946228e-8,
          -9.592622518539429e-8,
          1.210719347000122e-8,
          -4.423782229423523e-8,
          -2.123415470123291e-7,
          -9.313225746154785e-9,
          1.043081283569336e-7,
          3.166496753692627e-8,
          -7.450580596923828e-8,
          -4.0978193283081055e-8,
          -8.754432201385498e-8,
          -7.450580596923828e-8,
          7.310882210731506e-8,
          3.585591912269592e-8,
          -4.6566128730773926e-8,
          7.171183824539185e-8,
          1.5273690223693848e-7,
          4.0978193283081055e-8,
          1.1175870895385742e-8,
          1.448206603527069e-7,
          -2.7008354663848877e-8,
          -1.8998980522155762e-7,
          -1.1548399925231934e-7,
          1.341104507446289e-7,
          2.2351741790771484e-8,
          1.6065314412117004e-7,
          1.4901161193847656e-8,
          -1.2479722499847412e-7,
          -5.960464477539063e-8,
          7.729977369308472e-8,
          -3.725290298461914e-9,
          7.776543498039246e-8,
          -2.468004822731018e-8,
          4.6100467443466187e-8,
          -1.1548399925231934e-7,
          -5.21540641784668e-8,
          -8.288770914077759e-8,
          -4.470348358154297e-8,
          1.862645149230957e-7,
          7.497146725654602e-8,
          -4.842877388000488e-8,
          -1.541338860988617e-7,
          1.043081283569336e-7,
          2.0954757928848267e-8,
          6.426125764846802e-8,
          1.1641532182693481e-8,
          1.8207356333732605e-7,
          1.1827796697616577e-7,
          -3.725290298461914e-8,
          4.7497451305389404e-8,
          -2.7939677238464355e-8,
          -1.4330726116895676e-7,
          1.1920928955078125e-7,
          4.6566128730773926e-9,
          -7.078051567077637e-8,
          7.636845111846924e-8,
          -2.7939677238464355e-8,
          -1.4901161193847656e-8,
          9.778887033462524e-9,
          -2.2351741790771484e-8,
          1.6763806343078613e-8,
          7.078051567077637e-8,
          -1.862645149230957e-8,
          -4.6566128730773926e-8,
          3.864988684654236e-8,
          1.210719347000122e-8,
          1.2852251529693604e-7,
          9.778887033462524e-8,
          1.4901161193847656e-7,
          -3.3527612686157227e-8,
          -1.4901161193847656e-8,
          -1.5832483768463135e-7,
          1.862645149230957e-8,
          3.725290298461914e-9,
          1.434236764907837e-7,
          -1.4156103134155273e-7,
          -1.695007085800171e-7,
          -5.029141902923584e-8,
          3.5390257835388184e-8,
          -4.470348358154297e-8,
          -1.30385160446167e-7,
          5.2619725465774536e-8,
          7.264316082000732e-8,
          3.3527612686157227e-8,
          1.0058283805847168e-7,
          -6.05359673500061e-8,
          5.587935447692871e-8,
          9.685754776000977e-8,
          -7.916241884231567e-8,
          -5.3085386753082275e-8,
          -5.960464477539063e-8,
          5.21540641784668e-8,
          6.05359673500061e-8,
          -1.862645149230957e-8,
          4.0978193283081055e-8,
          7.916241884231567e-8,
          -6.05359673500061e-8,
          2.7008354663848877e-8,
          -1.1920928955078125e-7,
          -1.6763806343078613e-8,
          -4.284083843231201e-8,
          7.450580596923828e-8,
          2.9802322387695312e-8,
          -1.4016404747962952e-7,
          1.126900315284729e-7,
          -4.190951585769653e-8,
          -2.0675361156463623e-7,
          1.862645149230957e-8,
          -1.7695128917694092e-7,
          6.798654794692993e-8,
          5.960464477539063e-8,
          -1.1175870895385742e-7,
          7.404014468193054e-8,
          1.1175870895385742e-7,
          4.0978193283081055e-8,
          -7.450580596923828e-8,
          2.2351741790771484e-8,
          7.450580596923828e-8,
          4.842877388000488e-8,
          6.798654794692993e-8,
          -3.725290298461914e-8,
          -1.862645149230957e-8,
          -1.1175870895385742e-8,
          -2.9802322387695312e-8,
          -2.0489096641540527e-8,
          -9.313225746154785e-9,
          5.21540641784668e-8,
          -1.0058283805847168e-7,
          -1.4901161193847656e-8,
          -4.563480615615845e-8,
          1.862645149230957e-8,
          -5.774199962615967e-8,
          3.5390257835388184e-8,
          -6.05359673500061e-9,
          -1.5087425708770752e-7,
          -6.332993507385254e-8,
          2.60770320892334e-8,
          -9.685754776000977e-8,
          5.587935447692871e-9,
          -4.7031790018081665e-8,
          2.9802322387695312e-8,
          4.470348358154297e-8,
          5.681067705154419e-8,
          2.60770320892334e-8,
          -6.891787052154541e-8,
          1.862645149230957e-9,
          6.752088665962219e-8,
          4.842877388000488e-8,
          4.842877388000488e-8,
          -5.4016709327697754e-8,
          6.146728992462158e-8,
          2.7939677238464355e-8,
          1.0710209608078003e-7,
          6.332993507385254e-8,
          -8.288770914077759e-8,
          5.494803190231323e-8,
          9.313225746154785e-10,
          -9.313225746154785e-9,
          -8.940696716308594e-8,
          1.1082738637924194e-7,
          5.029141902923584e-8,
          3.259629011154175e-8,
          1.341104507446289e-7,
          -1.2759119272232056e-7,
          8.475035429000854e-8,
          -5.0873495638370514e-8,
          3.632158041000366e-8,
          -5.122274160385132e-8,
          1.4156103134155273e-7,
          -3.91155481338501e-8,
          -2.1606683731079102e-7,
          -3.073364496231079e-8,
          -6.426125764846802e-8,
          -4.936009645462036e-8,
          1.1175870895385742e-8,
          2.8312206268310547e-7,
          -2.7939677238464355e-9,
          5.587935447692871e-9,
          3.818422555923462e-8,
          1.909211277961731e-8,
          3.5390257835388184e-8,
          4.284083843231201e-8,
          -5.122274160385132e-8,
          3.725290298461914e-8,
          1.2945383787155151e-7,
          1.4528632164001465e-7,
          5.960464477539063e-8,
          5.4016709327697754e-8,
          1.4808028936386108e-7,
          -3.166496753692627e-8,
          -7.264316082000732e-8,
          4.6566128730773926e-8,
          4.377216100692749e-8,
          1.434236764907837e-7,
          -1.1734664440155029e-7,
          1.4435499906539917e-7,
          -5.587935447692871e-9,
          5.4016709327697754e-8,
          -1.685693860054016e-7,
          -5.21540641784668e-8,
          9.778887033462524e-8,
          -7.636845111846924e-8,
          -1.7695128917694092e-8,
          3.91155481338501e-8,
          -4.0046870708465576e-8,
          -6.239861249923706e-8,
          1.1362135410308838e-7,
          9.313225746154785e-9,
          -5.122274160385132e-8,
          1.1920928955078125e-7,
          -1.7695128917694092e-8,
          -7.450580596923828e-9,
          -1.3783574104309082e-7,
          7.869675755500793e-8,
          7.264316082000732e-8,
          -1.4901161193847656e-7,
          6.51925802230835e-9,
          8.381903171539307e-8,
          -8.754432201385498e-8,
          -9.313225746154785e-9,
          -2.2444874048233032e-7,
          -4.0046870708465576e-8,
          -7.82310962677002e-8,
          1.51805579662323e-7,
          4.6566128730773926e-9,
          -2.1420419216156006e-8,
          -1.0244548320770264e-7,
          7.543712854385376e-8,
          7.916241884231567e-8,
          9.313225746154785e-9,
          4.563480615615845e-8,
          -9.592622518539429e-8,
          8.475035429000854e-8,
          1.7974525690078735e-7,
          -4.377216100692749e-8,
          6.146728992462158e-8,
          -2.039596438407898e-7,
          4.6566128730773926e-9,
          4.936009645462036e-8,
          -4.6566128730773926e-8,
          -8.381903171539307e-8,
          3.5390257835388184e-8,
          1.1920928955078125e-7,
          1.5273690223693848e-7,
          -8.754432201385498e-8,
          -1.1548399925231934e-7,
          -8.568167686462402e-8,
          1.7881393432617188e-7,
          -7.636845111846924e-8,
          1.4901161193847656e-8,
          1.6763806343078613e-8,
          7.264316082000732e-8,
          1.862645149230957e-9,
          2.60770320892334e-8,
          -1.341104507446289e-7,
          -1.862645149230957e-8,
          0,
          1.4901161193847656e-8,
          -5.21540641784668e-8,
          -1.6577541828155518e-7,
          5.21540641784668e-8,
          -1.7136335372924805e-7,
          3.166496753692627e-8,
          1.862645149230957e-9,
          1.2665987014770508e-7,
          2.9802322387695312e-8,
          -1.6763806343078613e-7,
          -4.6566128730773926e-8,
          2.9802322387695312e-8,
          1.1175870895385742e-8,
          1.1734664440155029e-7,
          2.4959444999694824e-7,
          -4.470348358154297e-8,
          -3.3527612686157227e-8,
          -1.30385160446167e-8,
          -2.421438694000244e-8,
          -5.960464477539063e-8,
          -1.341104507446289e-7,
          1.2852251529693604e-7,
          -2.2351741790771484e-8,
          -7.450580596923828e-8,
          -3.725290298461914e-9,
          1.1734664440155029e-7,
          -1.30385160446167e-8,
          2.60770320892334e-8,
          7.82310962677002e-8,
          -1.7136335372924805e-7,
          -6.332993507385254e-8,
          7.450580596923828e-9,
          3.5390257835388184e-8,
          -2.0489096641540527e-8,
          5.587935447692871e-9,
          -9.872019290924072e-8,
          -1.6391277313232422e-7,
          5.4016709327697754e-8,
          -2.9802322387695312e-8,
          -7.078051567077637e-8,
          -6.705522537231445e-8,
          -1.6763806343078613e-8,
          -7.450580596923828e-8,
          1.862645149230957e-7,
          -7.078051567077637e-8,
          7.450580596923828e-9,
          5.774199962615967e-8,
          -1.6577541828155518e-7,
          -8.195638656616211e-8,
          5.029141902923584e-8,
          1.1362135410308838e-7,
          -2.0489096641540527e-8,
          1.5832483768463135e-7,
          9.313225746154785e-9,
          5.960464477539063e-8,
          -3.725290298461914e-9,
          1.1548399925231934e-7,
          -1.1362135410308838e-7,
          -2.60770320892334e-8,
          5.21540641784668e-8,
          -4.470348358154297e-8,
          1.6763806343078613e-8,
          -5.4016709327697754e-8,
          -1.862645149230957e-8,
          5.029141902923584e-8,
          1.4528632164001465e-7,
          -9.685754776000977e-8,
          -8.754432201385498e-8,
          5.4016709327697754e-8,
          6.612390279769897e-8,
          1.3783574104309082e-7,
          -1.0989606380462646e-7,
          -2.3283064365386963e-8,
          -2.2165477275848389e-7,
          -8.754432201385498e-8,
          7.078051567077637e-8,
          3.259629011154175e-8,
          6.752088665962219e-8,
          4.377216100692749e-8,
          -6.51925802230835e-8,
          3.725290298461914e-8,
          3.725290298461914e-8,
          7.450580596923828e-9,
          -9.313225746154785e-9,
          -1.4901161193847656e-8,
          2.2351741790771484e-8,
          -7.450580596923828e-9,
          -1.0337680578231812e-7,
          9.406358003616333e-8,
          6.705522537231445e-8,
          1.862645149230957e-8,
          2.514570951461792e-8,
          7.916241884231567e-8,
          1.7695128917694092e-7,
          -1.1175870895385742e-8,
          1.3830140233039856e-7,
          -8.754432201385498e-8,
          1.4901161193847656e-7,
          -3.725290298461914e-8,
          -9.313225746154785e-8,
          1.5087425708770752e-7,
          -2.60770320892334e-8,
          1.210719347000122e-7,
          -3.166496753692627e-8,
          -6.332993507385254e-8,
          2.2351741790771484e-8,
          -1.30385160446167e-8,
          -1.2479722499847412e-7,
          -4.423782229423523e-8,
          1.7695128917694092e-8,
          4.284083843231201e-8,
          -1.7508864402770996e-7,
          2.514570951461792e-8,
          2.2351741790771484e-8,
          2.7939677238464355e-8,
          -1.0570511221885681e-7,
          1.1362135410308838e-7,
          5.8673322200775146e-8,
          7.450580596923828e-9,
          -2.60770320892334e-8,
          -8.847564458847046e-8,
          5.9138983488082886e-8,
          7.450580596923828e-8,
          1.1175870895385742e-8,
          2.0489096641540527e-8,
          1.5459954738616943e-7,
          -5.820766091346741e-8,
          4.423782229423523e-8,
          2.9802322387695312e-8,
          1.3969838619232178e-7,
          9.313225746154785e-9,
          2.9802322387695312e-8,
          -1.3969838619232178e-8,
          3.5390257835388184e-8,
          4.284083843231201e-8,
          -1.3085082173347473e-7,
          1.1175870895385742e-8,
          9.872019290924072e-8,
          -6.239861249923706e-8,
          -1.1827796697616577e-7,
          -8.475035429000854e-8,
          -1.210719347000122e-8,
          -9.313225746154785e-9,
          9.313225746154785e-9,
          8.055940270423889e-8,
          1.4156103134155273e-7,
          -3.3527612686157227e-8,
          9.499490261077881e-8,
          -5.587935447692871e-8,
          9.313225746154785e-9,
          -9.033828973770142e-8,
          1.9278377294540405e-7,
          -2.0489096641540527e-8,
          7.543712854385376e-8,
          -1.0710209608078003e-7,
          -7.450580596923828e-9,
          -5.587935447692871e-8,
          -7.916241884231567e-8,
          -4.0978193283081055e-8,
          8.754432201385498e-8,
          2.9802322387695312e-8,
          1.2852251529693604e-7,
          1.862645149230957e-9,
          4.470348358154297e-8,
          -5.774199962615967e-8,
          -1.1455267667770386e-7,
          -1.862645149230957e-9,
          -5.4016709327697754e-8,
          1.5459954738616943e-7,
          -5.960464477539063e-8,
          1.1548399925231934e-7,
          -1.2293457984924316e-7,
          -4.284083843231201e-8,
          -1.778826117515564e-7,
          2.2351741790771484e-8,
          -5.21540641784668e-8,
          -5.587935447692871e-8,
          1.51805579662323e-7,
          2.60770320892334e-8,
          -7.264316082000732e-8,
          1.5599653124809265e-7,
          1.6763806343078613e-8,
          -8.381903171539307e-8,
          7.916241884231567e-8,
          1.6763806343078613e-8,
          -1.6763806343078613e-8,
          4.190951585769653e-8,
          -1.30385160446167e-8,
          -7.35744833946228e-8,
          3.632158041000366e-8,
          -6.146728992462158e-8,
          2.7939677238464355e-8,
          6.705522537231445e-8,
          2.8870999813079834e-8,
          1.1734664440155029e-7,
          -1.30385160446167e-8,
          7.078051567077637e-8,
          -1.7229467630386353e-7,
          -9.313225746154785e-8,
          -5.448237061500549e-8,
          3.725290298461914e-8,
          1.30385160446167e-8,
          -5.168840289115906e-8,
          4.7963112592697144e-8,
          -5.122274160385132e-8,
          2.421438694000244e-8,
          -9.313225746154785e-10,
          -1.043081283569336e-7,
          1.1920928955078125e-7,
          -2.2351741790771484e-8,
          2.0489096641540527e-7,
          1.2293457984924316e-7,
          7.82310962677002e-8,
          -1.0151416063308716e-7,
          -1.6763806343078613e-8,
          8.381903171539307e-9,
          3.3527612686157227e-8,
          -4.842877388000488e-8,
          1.2852251529693604e-7,
          1.0989606380462646e-7,
          -9.033828973770142e-8,
          1.5506520867347717e-7,
          2.421438694000244e-8,
          -3.91155481338501e-8,
          -1.862645149230957e-7,
          -8.195638656616211e-8,
          -1.8998980522155762e-7,
          3.725290298461914e-8,
          6.51925802230835e-9,
          -4.470348358154297e-8,
          -5.774199962615967e-8,
          -6.798654794692993e-8,
          -9.872019290924072e-8,
          9.313225746154785e-9,
          1.5366822481155396e-8,
          6.51925802230835e-8,
          2.9336661100387573e-8,
          -6.05359673500061e-9,
          1.257285475730896e-8,
          -7.636845111846924e-8,
          7.916241884231567e-8,
          -6.146728992462158e-8,
          -7.450580596923828e-9,
          -2.9802322387695312e-8,
          -3.958120942115784e-8,
          4.7497451305389404e-8,
          -9.685754776000977e-8,
          1.3969838619232178e-8,
          2.7939677238464355e-8,
          8.66129994392395e-8,
          3.9814040064811707e-8,
          6.146728992462158e-8,
          -7.916241884231567e-9,
          5.611218512058258e-8,
          3.3527612686157227e-8,
          8.89413058757782e-8,
          -1.6577541828155518e-7,
          -1.3969838619232178e-7,
          -8.91159288585186e-8,
          -6.51925802230835e-9,
          4.0978193283081055e-8,
          -8.381903171539307e-8,
          5.029141902923584e-8,
          -1.4528632164001465e-7,
          -3.259629011154175e-8,
          3.67872416973114e-8,
          -2.7474015951156616e-8,
          -4.377216100692749e-8,
          -6.332993507385254e-8,
          7.078051567077637e-8,
          8.754432201385498e-8,
          9.546056389808655e-9,
          7.450580596923828e-9,
          9.96515154838562e-8,
          -1.955777406692505e-8,
          1.0523945093154907e-7,
          5.029141902923584e-8,
          -1.1641532182693481e-7,
          -6.891787052154541e-8,
          -1.4994293451309204e-7,
          2.0489096641540527e-8,
          7.450580596923828e-9,
          1.0710209608078003e-7,
          1.1175870895385742e-8,
          -1.6763806343078613e-8,
          4.936009645462036e-8,
          1.210719347000122e-8,
          -6.472691893577576e-8,
          5.8673322200775146e-8,
          -3.166496753692627e-8,
          -1.862645149230957e-7,
          3.632158041000366e-8,
          3.4458935260772705e-8,
          -1.30385160446167e-8,
          -2.7939677238464355e-9,
          5.774199962615967e-8,
          -4.563480615615845e-8,
          -2.8172507882118225e-8,
          -1.0780058801174164e-7,
          -6.05359673500061e-9,
          -8.66129994392395e-8,
          -3.91155481338501e-8,
          -6.891787052154541e-8,
          -5.029141902923584e-8,
          -1.5040859580039978e-7,
          2.1420419216156006e-8,
          -3.67872416973114e-8,
          5.9371814131736755e-8,
          3.166496753692627e-8,
          -5.029141902923584e-8,
          -1.862645149230957e-9,
          2.123415470123291e-7,
          1.210719347000122e-8,
          -2.076849341392517e-7,
          4.6566128730773926e-9,
          -1.387670636177063e-7,
          -9.010545909404755e-8,
          -1.2293457984924316e-7,
          -3.3527612686157227e-8,
          4.516914486885071e-8,
          9.872019290924072e-8,
          1.5366822481155396e-8,
          -3.306195139884949e-8,
          1.862645149230957e-8,
          -2.2817403078079224e-8,
          -1.7695128917694092e-7,
          2.3283064365386963e-8,
          -8.707866072654724e-8,
          -3.725290298461914e-8,
          7.450580596923828e-9,
          1.0617077350616455e-7,
          -8.89413058757782e-8,
          -5.2619725465774536e-8,
          -9.778887033462524e-8,
          -1.5273690223693848e-7,
          -4.7497451305389404e-8,
          1.1920928955078125e-7,
          9.313225746154785e-8,
          -2.561137080192566e-8,
          2.60770320892334e-8,
          1.2665987014770508e-7,
          -9.313225746154785e-8,
          4.7497451305389404e-8,
          -1.3224780559539795e-7,
          4.936009645462036e-8,
          4.0978193283081055e-8,
          1.5832483768463135e-8,
          -8.66129994392395e-8,
          -6.007030606269836e-8,
          1.0244548320770264e-7,
          5.587935447692871e-9,
          -3.3527612686157227e-8,
          4.0978193283081055e-8,
          -8.195638656616211e-8,
          -5.3551048040390015e-9,
          -2.421438694000244e-8,
          -6.984919309616089e-8,
          -8.381903171539307e-8,
          -6.239861249923706e-8,
          1.1175870895385742e-8,
          -8.149072527885437e-8,
          7.636845111846924e-8,
          1.1548399925231934e-7,
          -1.3457611203193665e-7,
          -1.8486753106117249e-7,
          6.705522537231445e-8,
          -1.5087425708770752e-7,
          2.086162567138672e-7,
          -1.043081283569336e-7,
          -1.0989606380462646e-7,
          2.9802322387695312e-8,
          -1.30385160446167e-8,
          -1.2991949915885925e-7,
          -5.21540641784668e-8,
          2.1979212760925293e-7,
          9.313225746154785e-8,
          6.891787052154541e-8,
          1.862645149230957e-8,
          -3.306195139884949e-8,
          2.0489096641540527e-8,
          -1.471489667892456e-7,
          -5.494803190231323e-8,
          1.3737007975578308e-7,
          6.891787052154541e-8,
          -5.960464477539063e-8,
          8.940696716308594e-8,
          3.632158041000366e-8,
          5.587935447692871e-9,
          -1.8905848264694214e-7,
          -6.658956408500671e-8,
          -1.0244548320770264e-8,
          7.636845111846924e-8,
          1.4901161193847656e-8,
          8.079223334789276e-8,
          1.0058283805847168e-7,
          -4.842877388000488e-8,
          1.30385160446167e-7,
          -9.592622518539429e-8,
          3.725290298461914e-8,
          3.91155481338501e-8,
          -1.3131648302078247e-7,
          5.122274160385132e-8,
          -8.568167686462402e-8,
          1.0058283805847168e-7,
          -2.7939677238464355e-9,
          -4.7497451305389404e-8,
          -1.1548399925231934e-7,
          -3.725290298461914e-8,
          3.725290298461914e-8,
          1.0803341865539551e-7,
          -7.078051567077637e-8,
          1.043081283569336e-7,
          3.725290298461914e-8,
          5.960464477539063e-8,
          9.313225746154785e-9,
          2.60770320892334e-8,
          1.1175870895385742e-8,
          1.30385160446167e-7,
          5.587935447692871e-8,
          -5.774199962615967e-8,
          5.587935447692871e-9,
          -1.862645149230957e-8,
          6.332993507385254e-8,
          -1.862645149230957e-8,
          6.51925802230835e-8,
          3.3527612686157227e-8,
          -1.4901161193847656e-8,
          -5.029141902923584e-8,
          -1.0943040251731873e-8,
          2.60770320892334e-8,
          2.0116567611694336e-7,
          3.725290298461914e-9,
          -1.73225998878479e-7,
          -7.82310962677002e-8,
          1.30385160446167e-7,
          2.1420419216156006e-7,
          -9.313225746154785e-9,
          4.0978193283081055e-8,
          7.450580596923828e-9,
          1.3597309589385986e-7,
          3.3527612686157227e-8,
          7.078051567077637e-8,
          3.725290298461914e-8,
          -9.313225746154785e-9,
          -3.725290298461914e-8,
          -1.3969838619232178e-7,
          -2.2165477275848389e-7,
          1.2665987014770508e-7,
          -1.1175870895385742e-8,
          -4.470348358154297e-8,
          1.862645149230957e-9,
          1.862645149230957e-8,
          -1.364387571811676e-7,
          -8.009374141693115e-8,
          -2.421438694000244e-8,
          3.91155481338501e-8,
          -7.82310962677002e-8,
          2.60770320892334e-8,
          5.587935447692871e-8,
          -1.862645149230957e-9,
          -6.426125764846802e-8,
          1.1641532182693481e-9,
          3.725290298461914e-8,
          6.146728992462158e-8,
          -8.381903171539307e-8,
          -1.5459954738616943e-7,
          7.450580596923828e-9,
          -1.1175870895385742e-8,
          7.82310962677002e-8,
          -2.60770320892334e-8,
          -2.766028046607971e-7,
          1.2712553143501282e-7,
          -1.6577541828155518e-7,
          -1.862645149230957e-9,
          1.0244548320770264e-7,
          1.6391277313232422e-7,
          -1.1175870895385742e-7,
          -6.705522537231445e-8,
          1.0989606380462646e-7,
          1.2665987014770508e-7,
          1.73225998878479e-7,
          3.725290298461914e-8,
          -7.450580596923828e-9,
          -2.9802322387695312e-8,
          -1.341104507446289e-7,
          3.3527612686157227e-8,
          1.862645149230957e-9,
          -8.940696716308594e-8,
          1.0710209608078003e-7,
          9.685754776000977e-8,
          8.195638656616211e-8,
          -1.1175870895385742e-8,
          1.7229467630386353e-8,
          5.029141902923584e-8,
          3.725290298461914e-9,
          -2.123415470123291e-7,
          5.587935447692871e-8,
          -1.4901161193847656e-7,
          1.1175870895385742e-8,
          2.1420419216156006e-8,
          -1.471489667892456e-7,
          -5.611218512058258e-8,
          4.470348358154297e-8,
          3.3527612686157227e-8,
          -1.7136335372924805e-7,
          -1.4901161193847656e-7,
          0,
          -5.21540641784668e-8,
          5.21540641784668e-8,
          1.1175870895385742e-8,
          1.5459954738616943e-7,
          -1.257285475730896e-8,
          1.0244548320770264e-8,
          4.0978193283081055e-8,
          5.774199962615967e-8,
          -6.705522537231445e-8,
          1.4435499906539917e-7,
          -1.1548399925231934e-7,
          -5.541369318962097e-8,
          -8.568167686462402e-8,
          -1.457519829273224e-7,
          -3.3527612686157227e-8,
          -1.2200325727462769e-7,
          3.91155481338501e-8,
          1.1920928955078125e-7,
          -1.7881393432617188e-7,
          -2.60770320892334e-8,
          6.007030606269836e-8,
          -3.725290298461914e-8,
          6.565824151039124e-8,
          7.543712854385376e-8,
          -9.685754776000977e-8,
          -5.587935447692871e-9,
          -1.0058283805847168e-7,
          1.0337680578231812e-7,
          -8.102506399154663e-8,
          -1.1175870895385742e-8,
          -5.029141902923584e-8,
          -2.2351741790771484e-7,
          -9.359791874885559e-8,
          -2.7706846594810486e-8,
          2.7939677238464355e-8,
          1.2945383787155151e-7,
          9.499490261077881e-8,
          1.280568540096283e-8,
          -6.565824151039124e-8,
          -5.075708031654358e-8,
          -7.450580596923828e-8,
          7.729977369308472e-8,
          -9.313225746154785e-9,
          -5.960464477539063e-8,
          2.2351741790771484e-8,
          -1.2526288628578186e-7,
          -3.818422555923462e-8,
          -4.0978193283081055e-8,
          2.561137080192566e-8,
          -7.729977369308472e-8,
          -1.0291114449501038e-7,
          -4.842877388000488e-8,
          -1.1827796697616577e-7,
          -2.9336661100387573e-8,
          -5.4016709327697754e-8,
          1.7881393432617188e-7,
          -4.6566128730773926e-8,
          1.1827796697616577e-7,
          2.9802322387695312e-8,
          -5.9138983488082886e-8,
          3.166496753692627e-8,
          -5.587935447692871e-8,
          7.636845111846924e-8,
          1.4435499906539917e-7,
          4.842877388000488e-8,
          -1.6111880540847778e-7,
          6.705522537231445e-8,
          -7.171183824539185e-8,
          3.3527612686157227e-8,
          -2.1420419216156006e-8,
          2.086162567138672e-7,
          7.82310962677002e-8,
          -3.166496753692627e-8,
          -2.253800630569458e-7,
          1.564621925354004e-7,
          3.725290298461914e-9,
          -2.9802322387695312e-8,
          -6.332993507385254e-8,
          -8.940696716308594e-8,
          -3.4924596548080444e-8,
          -1.862645149230957e-8,
          2.60770320892334e-8,
          -4.842877388000488e-8,
          -4.0279701352119446e-8,
          -1.6205012798309326e-7,
          -8.847564458847046e-8,
          4.98257577419281e-8,
          -7.450580596923828e-8,
          -4.0978193283081055e-8,
          -2.9802322387695312e-8,
          -5.587935447692871e-8,
          1.0058283805847168e-7,
          2.60770320892334e-8,
          -3.073364496231079e-8,
          7.82310962677002e-8,
          8.195638656616211e-8,
          -3.725290298461914e-9,
          1.1920928955078125e-7,
          -4.470348358154297e-8,
          3.4924596548080444e-9,
          9.313225746154785e-9,
          -3.725290298461914e-9,
          -1.1175870895385742e-7,
          -1.3969838619232178e-8,
          -1.30385160446167e-7,
          1.0058283805847168e-7,
          -2.2351741790771484e-8,
          4.400499165058136e-8,
          1.30385160446167e-7,
          1.0151416063308716e-7,
          -1.3969838619232178e-7,
          -1.0989606380462646e-7,
          -2.5331974029541016e-7,
          -1.862645149230957e-7,
          -1.5366822481155396e-8,
          2.086162567138672e-7,
          -9.313225746154785e-8,
          4.1443854570388794e-8,
          -4.0978193283081055e-8,
          1.862645149230957e-7,
          -5.21540641784668e-8,
          -2.2351741790771484e-8,
          -5.21540641784668e-8,
          5.541369318962097e-8,
          5.4016709327697754e-8,
          1.30385160446167e-7,
          -7.450580596923828e-9,
          3.0919909477233887e-7,
          -1.1548399925231934e-7,
          -7.450580596923828e-9,
          1.1175870895385742e-8,
          2.60770320892334e-8,
          -2.491287887096405e-7,
          -4.470348358154297e-8,
          2.9569491744041443e-8,
          -5.960464477539063e-8,
          8.940696716308594e-8,
          -2.146698534488678e-7,
          8.381903171539307e-8,
          8.102506399154663e-8,
          -4.470348358154297e-8,
          -2.9802322387695312e-8,
          1.1106021702289581e-7,
          -4.842877388000488e-8,
          6.332993507385254e-8,
          1.4901161193847656e-8,
          6.705522537231445e-8,
          -2.3469328880310059e-7,
          3.725290298461914e-9,
          -5.587935447692871e-8,
          1.1175870895385742e-8,
          -1.341104507446289e-7,
          1.5087425708770752e-7,
          -1.1175870895385742e-8,
          1.3969838619232178e-9,
          -1.1175870895385742e-7,
          -7.450580596923828e-9,
          1.4156103134155273e-7,
          1.862645149230957e-8,
          -5.634501576423645e-8,
          1.4097895473241806e-7,
          2.60770320892334e-8,
          -1.30385160446167e-7,
          5.587935447692871e-8,
          5.4016709327697754e-8,
          3.3527612686157227e-8,
          -1.471489667892456e-7,
          -1.4901161193847656e-8,
          5.587935447692871e-8,
          -5.960464477539063e-8,
          1.1175870895385742e-8,
          -3.3527612686157227e-8,
          -4.284083843231201e-8,
          6.705522537231445e-8,
          4.284083843231201e-8,
          -1.862645149230957e-8,
          1.4901161193847656e-8,
          9.173527359962463e-8,
          -4.6566128730773926e-8,
          1.862645149230957e-8,
          1.0244548320770264e-7,
          -3.725290298461914e-9,
          1.4901161193847656e-8,
          -8.568167686462402e-8,
          -7.078051567077637e-8,
          1.2293457984924316e-7,
          -1.8812716007232666e-7,
          -1.4901161193847656e-7,
          1.4901161193847656e-8,
          8.940696716308594e-8,
          2.9802322387695312e-8,
          -6.705522537231445e-8,
          2.123415470123291e-7,
          4.0978193283081055e-8,
          -1.1920928955078125e-7,
          8.940696716308594e-8,
          -8.940696716308594e-8,
          -1.30385160446167e-7,
          -1.1175870895385742e-8,
          -1.862645149230957e-8,
          1.6763806343078613e-7,
          2.2351741790771484e-8,
          -2.60770320892334e-8,
          6.705522537231445e-8,
          1.862645149230957e-8,
          2.9802322387695312e-8,
          -1.1175870895385742e-8,
          1.0803341865539551e-7,
          5.587935447692871e-8,
          1.9744038581848145e-7,
          -3.725290298461914e-8,
          3.725290298461914e-8,
          2.3096799850463867e-7,
          -6.705522537231445e-8,
          7.078051567077637e-8,
          1.2293457984924316e-7,
          1.862645149230957e-8,
          -4.0978193283081055e-8,
          -7.82310962677002e-8,
          0,
          2.644956111907959e-7,
          -8.195638656616211e-8,
          2.2351741790771484e-8,
          -7.450580596923828e-9,
          -7.078051567077637e-8,
          -1.4901161193847656e-8,
          2.60770320892334e-8,
          3.725290298461914e-8,
          -1.2665987014770508e-7,
          -7.078051567077637e-8,
          2.123415470123291e-7,
          -3.725290298461914e-9,
          4.0978193283081055e-8,
          -6.705522537231445e-8,
          1.4901161193847656e-8,
          8.940696716308594e-8,
          -1.862645149230957e-8,
          9.313225746154785e-8,
          -1.30385160446167e-7,
          -3.3527612686157227e-8,
          1.2665987014770508e-7,
          -6.146728992462158e-8,
          -2.0582228899002075e-7,
          1.2386590242385864e-7,
          -1.0570511221885681e-7,
          3.725290298461914e-8,
          -5.774199962615967e-8,
          2.0954757928848267e-8,
          1.618172973394394e-8,
          2.9802322387695312e-8,
          -5.4016709327697754e-8,
          -7.82310962677002e-8,
          4.284083843231201e-8,
          -8.777715265750885e-8,
          -1.0477378964424133e-7,
          -2.0489096641540527e-7,
          -2.9802322387695312e-8,
          -7.450580596923828e-8,
          2.60770320892334e-8,
          2.7939677238464355e-8,
          1.4901161193847656e-8,
          -8.381903171539307e-9,
          1.5832483768463135e-8,
          8.847564458847046e-8,
          1.103617250919342e-7,
          -3.725290298461914e-9,
          -1.2898817658424377e-7,
          1.3550743460655212e-7,
          -1.1362135410308838e-7,
          -6.984919309616089e-9,
          4.842877388000488e-8,
          -3.67872416973114e-8,
          5.21540641784668e-8,
          -1.5133991837501526e-7,
          -7.404014468193054e-8,
          2.60770320892334e-8,
          -2.9336661100387573e-8,
          -9.592622518539429e-8,
          -3.3527612686157227e-8,
          2.086162567138672e-7,
          6.891787052154541e-8,
          -2.7474015951156616e-8,
          -3.864988684654236e-8,
          2.3283064365386963e-8,
          -1.1641532182693481e-7,
          -4.470348358154297e-8,
          -8.42846930027008e-8,
          4.3422915041446686e-8,
          1.3597309589385986e-7,
          9.080395102500916e-8,
          1.0128132998943329e-7,
          7.078051567077637e-8,
          1.4808028936386108e-7,
          9.452924132347107e-8,
          -6.332993507385254e-8,
          -3.073364496231079e-8,
          -6.705522537231445e-8,
          -1.4924444258213043e-7,
          8.195638656616211e-8,
          -3.166496753692627e-8,
          4.284083843231201e-8,
          -8.66129994392395e-8,
          -7.28759914636612e-8,
          1.862645149230957e-9,
          5.21540641784668e-8,
          -6.332993507385254e-8,
          -5.448237061500549e-8,
          1.234002411365509e-8,
          0,
          7.916241884231567e-8,
          1.341104507446289e-7,
          -4.842877388000488e-8,
          -9.12696123123169e-8,
          9.313225746154785e-9,
          2.421438694000244e-8,
          2.60770320892334e-8,
          4.1443854570388794e-8,
          1.825392246246338e-7,
          1.30385160446167e-8,
          2.2351741790771484e-8,
          2.8870999813079834e-8,
          -1.210719347000122e-8,
          8.195638656616211e-8,
          5.4016709327697754e-8,
          -7.450580596923828e-9,
          -2.9802322387695312e-8,
          2.9802322387695312e-8,
          7.450580596923828e-8,
          8.847564458847046e-8,
          5.3085386753082275e-8,
          7.729977369308472e-8,
          2.0489096641540527e-8,
          2.169981598854065e-7,
          1.2852251529693604e-7,
          7.310882210731506e-8,
          1.2083910405635834e-7,
          7.450580596923828e-8,
          7.543712854385376e-8,
          -4.656612873077393e-10,
          -1.3597309589385986e-7,
          3.818422555923462e-8,
          -7.543712854385376e-8,
          5.3085386753082275e-8,
          -7.078051567077637e-8,
          3.725290298461914e-9,
          6.146728992462158e-8,
          1.4901161193847656e-8,
          6.938353180885315e-8,
          6.51925802230835e-8,
          3.4924596548080444e-8,
          5.21540641784668e-8,
          -1.0686926543712616e-7,
          2.9802322387695312e-8,
          1.0943040251731873e-7,
          1.816079020500183e-7,
          4.470348358154297e-8,
          -4.0512531995773315e-8,
          -8.149072527885437e-8,
          1.3969838619232178e-8,
          4.237517714500427e-8,
          6.891787052154541e-8,
          6.612390279769897e-8,
          2.7939677238464355e-8,
          -3.632158041000366e-8,
          9.12696123123169e-8,
          -1.0640360414981842e-7,
          1.0058283805847168e-7,
          1.862645149230957e-8,
          -4.842877388000488e-8,
          3.4458935260772705e-8,
          -1.51805579662323e-7,
          -1.1734664440155029e-7,
          -1.909211277961731e-8,
          -4.190951585769653e-8,
          -1.862645149230957e-8,
          6.05359673500061e-8,
          -4.330649971961975e-8,
          6.51925802230835e-8,
          -6.612390279769897e-8,
          6.51925802230835e-9,
          2.3283064365386963e-8,
          -2.2351741790771484e-8,
          6.332993507385254e-8,
          6.332993507385254e-8,
          -9.068753570318222e-8,
          2.421438694000244e-8,
          -1.1548399925231934e-7,
          -3.5390257835388184e-8,
          -6.891787052154541e-8,
          6.891787052154541e-8,
          3.073364496231079e-8,
          -2.3655593395233154e-7,
          1.0384246706962585e-7,
          -2.514570951461792e-8,
          -2.2351741790771484e-8,
          1.0989606380462646e-7,
          5.029141902923584e-8,
          -1.5029218047857285e-7,
          5.3551048040390015e-8,
          1.7695128917694092e-8,
          2.3283064365386963e-8,
          8.102506399154663e-8,
          2.3283064365386963e-8,
          -6.984919309616089e-8,
          6.05359673500061e-8,
          -8.66129994392395e-8,
          -1.2759119272232056e-7,
          4.586763679981232e-8,
          -1.5203841030597687e-7,
          6.146728992462158e-8,
          -4.423782229423523e-9,
          1.0896474123001099e-7,
          -1.5273690223693848e-7,
          7.264316082000732e-8,
          1.4528632164001465e-7,
          7.869675755500793e-8,
          1.2211967259645462e-7,
          1.1175870895385742e-8,
          7.078051567077637e-8,
          1.043081283569336e-7,
          2.2584572434425354e-8,
          -8.195638656616211e-8,
          1.9231811165809631e-7,
          6.612390279769897e-8,
          -3.725290298461914e-9,
          1.30385160446167e-8,
          -6.332993507385254e-8,
          -2.60770320892334e-8,
          8.847564458847046e-9,
          9.12696123123169e-8,
          -2.7939677238464355e-8,
          -2.1886080503463745e-8,
          -7.82310962677002e-8,
          1.862645149230957e-8,
          -1.862645149230957e-8,
          -1.2479722499847412e-7,
          4.889443516731262e-9,
          4.842877388000488e-8,
          1.0523945093154907e-7,
          1.6205012798309326e-7,
          3.91155481338501e-8,
          -4.0046870708465576e-8,
          1.7881393432617188e-7,
          -7.450580596923828e-9,
          1.1175870895385742e-8,
          -3.166496753692627e-8,
          1.3783574104309082e-7,
          -5.587935447692871e-9,
          1.7695128917694092e-8,
          -7.962808012962341e-8,
          -3.073364496231079e-8,
          0,
          5.587935447692871e-9,
          1.0058283805847168e-7,
          2.421438694000244e-8,
          -5.21540641784668e-8,
          2.5960616767406464e-8,
          -8.195638656616211e-8,
          -5.122274160385132e-9,
          -8.940696716308594e-8,
          1.1455267667770386e-7,
          -2.2351741790771484e-8,
          3.213062882423401e-8,
          6.51925802230835e-9,
          3.073364496231079e-8,
          5.8673322200775146e-8,
          -9.685754776000977e-8,
          -1.3969838619232178e-8,
          -1.434236764907837e-7,
          -4.400499165058136e-8,
          -5.052424967288971e-8,
          -1.19674950838089e-7,
          -8.032657206058502e-8,
          -7.264316082000732e-8,
          1.862645149230957e-8,
          3.958120942115784e-9,
          8.754432201385498e-8,
          -1.0710209608078003e-7,
          -6.51925802230835e-9,
          1.434236764907837e-7,
          7.450580596923828e-9,
          -5.3085386753082275e-8,
          2.8870999813079834e-8,
          -1.564621925354004e-7,
          7.916241884231567e-8,
          6.51925802230835e-9,
          -1.341104507446289e-7,
          -9.825453162193298e-8,
          4.470348358154297e-8,
          -5.029141902923584e-8,
          -5.960464477539063e-8,
          -2.1420419216156006e-8,
          -1.3783574104309082e-7,
          -1.862645149230957e-9,
          8.335337042808533e-8,
          -4.7497451305389404e-8,
          1.2665987014770508e-7,
          2.60770320892334e-8,
          -3.725290298461914e-8,
          4.0046870708465576e-8,
          -4.8690708354115486e-8,
          -7.2177499532699585e-9,
          -5.122274160385132e-8,
          -1.4295801520347595e-7,
          4.6566128730773926e-9,
          1.4901161193847656e-7,
          4.6566128730773926e-8,
          -1.0436633601784706e-7,
          1.043081283569336e-7,
          1.3597309589385986e-7,
          -8.754432201385498e-8,
          2.4586915969848633e-7,
          9.173527359962463e-8,
          0,
          5.774199962615967e-8,
          -6.891787052154541e-8,
          -4.0978193283081055e-8,
          1.7695128917694092e-8,
          3.5390257835388184e-8,
          -6.705522537231445e-8,
          1.043081283569336e-7,
          4.842877388000488e-8,
          1.2665987014770508e-7,
          -5.9371814131736755e-8,
          -4.516914486885071e-8,
          1.862645149230957e-9,
          1.7695128917694092e-8,
          5.005858838558197e-8,
          6.05359673500061e-8,
          8.009374141693115e-8,
          1.862645149230957e-9,
          8.940696716308594e-8,
          3.958120942115784e-9,
          6.984919309616089e-9,
          -1.0104849934577942e-7,
          -6.51925802230835e-8,
          -8.067581802606583e-8,
          -6.705522537231445e-8,
          -4.470348358154297e-8,
          -6.332993507385254e-8,
          -1.862645149230957e-8,
          -7.264316082000732e-8,
          5.494803190231323e-8,
          -7.078051567077637e-8,
          -1.1175870895385742e-8,
          -6.51925802230835e-8,
          -2.514570951461792e-8,
          7.450580596923828e-8,
          2.7939677238464355e-8,
          -1.3317912817001343e-7,
          1.511070877313614e-7,
          9.499490261077881e-8,
          3.4458935260772705e-8,
          -3.725290298461914e-9,
          9.313225746154785e-9,
          -8.405186235904694e-8,
          8.42846930027008e-8,
          5.21540641784668e-8,
          1.0244548320770264e-7,
          -1.076841726899147e-7,
          -1.30385160446167e-7,
          -5.3085386753082275e-8,
          5.587935447692871e-8,
          3.073364496231079e-8,
          6.984919309616089e-9,
          8.521601557731628e-8,
          2.2351741790771484e-8,
          -3.771856427192688e-8,
          -1.6763806343078613e-8,
          -1.327134668827057e-7,
          -7.82310962677002e-8,
          -1.30385160446167e-8,
          6.51925802230835e-9,
          -8.195638656616211e-8,
          -5.587935447692871e-9,
          1.0477378964424133e-7,
          3.725290298461914e-9,
          -4.284083843231201e-8,
          -2.1886080503463745e-7,
          3.725290298461914e-8,
          -2.1792948246002197e-7,
          -1.1175870895385742e-7,
          -7.636845111846924e-8,
          9.313225746154785e-9,
          9.220093488693237e-8,
          9.872019290924072e-8,
          1.3783574104309082e-7,
          8.195638656616211e-8,
          -1.6391277313232422e-7,
          4.470348358154297e-8,
          0,
          3.725290298461914e-9,
          8.195638656616211e-8,
          -5.960464477539063e-8,
          -1.1175870895385742e-8,
          -2.2351741790771484e-8,
          1.1175870895385742e-8,
          1.210719347000122e-7,
          -9.499490261077881e-8,
          1.862645149230957e-8,
          2.9802322387695312e-8,
          -8.475035429000854e-8,
          1.2665987014770508e-7,
          -1.234002411365509e-7,
          1.0803341865539551e-7,
          4.0978193283081055e-8,
          -2.60770320892334e-8,
          -1.2386590242385864e-7,
          -9.313225746154785e-9,
          2.2351741790771484e-8,
          -7.82310962677002e-8,
          -6.705522537231445e-8,
          8.475035429000854e-8,
          -1.043081283569336e-7,
          1.1129304766654968e-7,
          1.448206603527069e-7,
          -7.450580596923828e-8,
          -1.0523945093154907e-7,
          -9.499490261077881e-8,
          2.9802322387695312e-8,
          2.0954757928848267e-7,
          7.450580596923828e-9,
          1.7136335372924805e-7,
          -1.4901161193847656e-8,
          -5.960464477539063e-8,
          -9.685754776000977e-8,
          1.4901161193847656e-8,
          -6.332993507385254e-8,
          -3.818422555923462e-8,
          -2.7939677238464355e-9,
          -1.862645149230957e-8,
          -8.195638656616211e-8,
          3.259629011154175e-8,
          6.379559636116028e-8,
          7.078051567077637e-8,
          2.6891939342021942e-8,
          -7.82310962677002e-8,
          -3.9814040064811707e-8,
          -1.8719583749771118e-7,
          -1.1175870895385742e-8,
          2.2351741790771484e-8,
          4.470348358154297e-8,
          1.862645149230957e-8,
          2.9802322387695312e-8,
          -2.086162567138672e-7,
          -2.6659108698368073e-8,
          5.960464477539063e-8,
          6.332993507385254e-8,
          9.313225746154785e-8,
          1.8533319234848022e-7,
          -1.0803341865539551e-7,
          4.470348358154297e-8,
          -4.842877388000488e-8,
          5.203764885663986e-8,
          0,
          -6.332993507385254e-8,
          1.9371509552001953e-7,
          2.9802322387695312e-8,
          -1.3969838619232178e-8,
          -1.4901161193847656e-8,
          -4.470348358154297e-8,
          -3.026798367500305e-8,
          -7.450580596923828e-9,
          2.7939677238464355e-8,
          -2.421438694000244e-8,
          -1.3969838619232178e-8,
          0,
          -5.681067705154419e-8,
          -1.4901161193847656e-7,
          1.1920928955078125e-7,
          -1.5273690223693848e-7,
          3.725290298461914e-9,
          7.82310962677002e-8,
          1.0943040251731873e-8,
          -4.0978193283081055e-8,
          -1.4901161193847656e-7,
          -4.842877388000488e-8,
          -2.9802322387695312e-8,
          -1.6763806343078613e-7,
          1.6787089407444e-7,
          -1.9744038581848145e-7,
          1.0244548320770264e-7,
          1.3969838619232178e-7,
          -4.889443516731262e-8,
          -1.862645149230957e-9,
          9.918585419654846e-8,
          2.468004822731018e-7,
          -3.3527612686157227e-8,
          1.1175870895385742e-8,
          5.8673322200775146e-8,
          1.825392246246338e-7,
          3.620516508817673e-8,
          5.960464477539063e-8,
          7.031485438346863e-8,
          2.0489096641540527e-8,
          4.0978193283081055e-8,
          -2.9802322387695312e-8,
          7.450580596923828e-8,
          5.587935447692871e-8,
          2.9802322387695312e-8,
          2.3283064365386963e-8,
          -5.960464477539063e-8,
          1.257285475730896e-7,
          2.4330802261829376e-8,
          -1.0803341865539551e-7,
          -1.8533319234848022e-7,
          1.7695128917694092e-7,
          6.05359673500061e-9,
          8.195638656616211e-8,
          1.1175870895385742e-8,
          8.847564458847046e-9,
          -5.587935447692871e-8,
          -1.4901161193847656e-8,
          1.6763806343078613e-7,
          1.4901161193847656e-8,
          1.30385160446167e-7,
          6.332993507385254e-8,
          -5.587935447692871e-8,
          -2.514570951461792e-8,
          -5.21540641784668e-8,
          -1.2665987014770508e-7,
          2.7939677238464355e-8,
          4.1211023926734924e-8,
          -1.4621764421463013e-7,
          -7.078051567077637e-8,
          -3.14321368932724e-8,
          1.5273690223693848e-7,
          1.1920928955078125e-7,
          -1.548323780298233e-7,
          -6.984919309616089e-8,
          -8.754432201385498e-8,
          -9.406358003616333e-8,
          -7.171183824539185e-8,
          4.586763679981232e-8,
          -4.0745362639427185e-9,
          -7.82310962677002e-8,
          -1.4784745872020721e-8,
          2.8870999813079834e-8,
          -2.0023435354232788e-8,
          -1.6763806343078613e-8,
          5.6228600442409515e-8,
          -1.2281816452741623e-7,
          -1.5832483768463135e-8,
          2.457527443766594e-7,
          -1.1734664440155029e-7,
          9.220093488693237e-8,
          -4.377216100692749e-8,
          -4.190951585769653e-9,
          1.30385160446167e-8,
          -4.866160452365875e-8,
          -4.423782229423523e-8,
          3.451714292168617e-8,
          2.2817403078079224e-7,
          2.3283064365386963e-8,
          -1.8067657947540283e-7,
          -1.2654345482587814e-7,
          9.406358003616333e-8,
          2.0489096641540527e-7,
          -1.5203841030597687e-7,
          -7.28759914636612e-8,
          -2.0489096641540527e-8,
          -8.335337042808533e-8,
          1.317821443080902e-7,
          -8.940696716308594e-8,
          -3.958120942115784e-9,
          8.149072527885437e-8,
          4.190951585769653e-8,
          3.632158041000366e-8,
          1.0617077350616455e-7,
          6.51925802230835e-8,
          -8.312053978443146e-8,
          9.313225746154785e-8,
          2.076849341392517e-7,
          -1.2526288628578186e-7,
          9.313225746154785e-8,
          1.3224780559539795e-7,
          2.0489096641540527e-8,
          1.4621764421463013e-7,
          5.21540641784668e-8,
          -7.171183824539185e-8,
          -1.6344711184501648e-7,
          -3.026798367500305e-9,
          9.313225746154785e-9,
          -4.563480615615845e-8,
          4.377216100692749e-8,
          -1.601874828338623e-7,
          1.3562384992837906e-7,
          -5.727633833885193e-8,
          -3.073364496231079e-8,
          3.91155481338501e-8,
          -8.614733815193176e-8,
          1.1385418474674225e-7,
          -6.146728992462158e-8,
          -5.587935447692871e-8,
          7.35744833946228e-8,
          -3.771856427192688e-8,
          -3.5390257835388184e-8,
          4.0512531995773315e-8,
          3.94647940993309e-8,
          -9.499490261077881e-8,
          3.3527612686157227e-8,
          4.6566128730773926e-9,
          1.327134668827057e-7,
          -1.9371509552001953e-7,
          1.0058283805847168e-7,
          1.4761462807655334e-7,
          1.1548399925231934e-7,
          -5.3085386753082275e-8,
          -5.029141902923584e-8,
          -4.7497451305389404e-8,
          1.7462298274040222e-8,
          -1.3737007975578308e-8,
          -1.30385160446167e-8,
          2.421438694000244e-8,
          9.778887033462524e-8,
          1.3131648302078247e-7,
          6.984919309616089e-8,
          -1.2433156371116638e-7,
          1.7136335372924805e-7,
          -3.073364496231079e-8,
          -5.774199962615967e-8,
          1.8905848264694214e-7,
          1.30385160446167e-8,
          -2.60770320892334e-8,
          -1.0989606380462646e-7,
          -6.146728992462158e-8,
          -9.499490261077881e-8,
          1.2689270079135895e-7,
          1.0873191058635712e-7,
          -9.313225746154785e-9,
          1.6763806343078613e-8,
          2.0582228899002075e-7,
          -3.818422555923462e-8,
          -1.6763806343078613e-8,
          1.7741695046424866e-7,
          3.632158041000366e-8,
          5.21540641784668e-8,
          5.820766091346741e-8,
          2.1886080503463745e-8,
          -4.7497451305389404e-8,
          9.313225746154785e-9,
          7.776543498039246e-8,
          -2.3283064365386963e-9,
          -6.332993507385254e-8,
          -8.149072527885437e-8,
          -7.334165275096893e-8,
          -1.4901161193847656e-8,
          -9.359791874885559e-8,
          -9.080395102500916e-9,
          8.381903171539307e-8,
          -3.166496753692627e-8,
          2.584420144557953e-8,
          -7.35744833946228e-8,
          -2.2351741790771484e-8,
          -6.542541086673737e-8,
          1.5762634575366974e-7,
          -5.960464477539063e-8,
          -9.406358003616333e-8,
          1.0989606380462646e-7,
          -1.126900315284729e-7,
          1.7206184566020966e-7,
          8.009374141693115e-8,
          3.725290298461914e-8,
          1.4901161193847656e-8,
          -2.421438694000244e-8,
          -8.847564458847046e-8,
          3.026798367500305e-9,
          5.168840289115906e-8,
          1.0174699127674103e-7,
          -5.3085386753082275e-8,
          4.6566128730773926e-9,
          -9.872019290924072e-8,
          1.3224780559539795e-7,
          -1.7462298274040222e-7,
          -3.026798367500305e-8,
          7.171183824539185e-8,
          -7.404014468193054e-8,
          1.1175870895385742e-7,
          2.9383227229118347e-7,
          -9.173527359962463e-8,
          3.632158041000366e-8,
          1.8440186977386475e-7,
          -1.2246891856193542e-7,
          -8.66129994392395e-8,
          1.648440957069397e-7,
          8.381903171539307e-9,
          -9.685754776000977e-8,
          1.5692785382270813e-7,
          4.330649971961975e-8,
          1.1408701539039612e-7,
          -4.7963112592697144e-8,
          -6.51925802230835e-8,
          -5.494803190231323e-8,
          -1.862645149230957e-9,
          -5.494803190231323e-8,
          6.705522537231445e-8,
          2.2351741790771484e-8,
          -4.470348358154297e-8,
          5.192123353481293e-8,
          1.2665987014770508e-7,
          2.7008354663848877e-8,
          -2.3283064365386963e-8,
          2.60770320892334e-8,
          7.310882210731506e-8,
          3.3527612686157227e-8,
          -4.423782229423523e-8,
          -2.230517566204071e-7,
          3.771856427192688e-8,
          6.938353180885315e-8,
          1.708976924419403e-7,
          -9.243376553058624e-8,
          2.1513551473617554e-7,
          -1.3597309589385986e-7,
          -9.848736226558685e-8,
          -1.0710209608078003e-8,
          -5.960464477539063e-8,
          -1.4784745872020721e-7,
          7.264316082000732e-8,
          -5.3783878684043884e-8,
          -3.026798367500305e-8,
          -8.568167686462402e-8,
          7.729977369308472e-8,
          -1.257285475730896e-7,
          5.21540641784668e-8,
          1.9744038581848145e-7,
          1.0896474123001099e-7,
          -1.3294629752635956e-7,
          -3.3527612686157227e-8,
          -1.0896474123001099e-7,
          3.073364496231079e-8,
          -6.426125764846802e-8,
          -3.213062882423401e-8,
          -1.8440186977386475e-7,
          -9.872019290924072e-8,
          7.078051567077637e-8,
          1.0058283805847168e-7,
          -2.60770320892334e-8,
          -3.725290298461914e-8,
          3.166496753692627e-8,
          -8.940696716308594e-8,
          4.0978193283081055e-8,
          -4.284083843231201e-8,
          -1.9371509552001953e-7,
          -1.1920928955078125e-7,
          6.332993507385254e-8,
          4.563480615615845e-8,
          -1.0617077350616455e-7,
          1.0244548320770264e-8,
          -1.4901161193847656e-8,
          -3.67872416973114e-8,
          -1.0535586625337601e-7,
          2.7939677238464355e-8,
          8.195638656616211e-8,
          -6.658956408500671e-8,
          5.4016709327697754e-8,
          1.8440186977386475e-7,
          -7.916241884231567e-8,
          5.587935447692871e-9,
          2.7939677238464355e-8,
          1.1076917871832848e-7,
          1.862645149230957e-8,
          -1.2922100722789764e-8,
          7.636845111846924e-8,
          -6.332993507385254e-8,
          9.499490261077881e-8,
          -5.029141902923584e-8,
          3.259629011154175e-8,
          1.862645149230957e-8,
          1.1021620593965054e-7,
          -3.2247044146060944e-8,
          -3.5390257835388184e-8,
          4.470348358154297e-8,
          1.4156103134155273e-7,
          -7.078051567077637e-8,
          -7.264316082000732e-8,
          -7.078051567077637e-8,
          5.4016709327697754e-8,
          -2.0139850676059723e-7,
          1.30385160446167e-8,
          -4.0978193283081055e-8,
          7.450580596923828e-8,
          1.4901161193847656e-8,
          -1.3969838619232178e-9,
          -6.146728992462158e-8,
          -4.936009645462036e-8,
          -8.009374141693115e-8,
          -2.0489096641540527e-8,
          -5.960464477539063e-8,
          8.568167686462402e-8,
          1.2759119272232056e-7,
          1.4901161193847656e-8,
          8.381903171539307e-8,
          -7.636845111846924e-8,
          -9.371433407068253e-8,
          6.763730198144913e-8,
          2.421438694000244e-8,
          1.4528632164001465e-7,
          1.3783574104309082e-7,
          2.60770320892334e-8,
          6.51925802230835e-8,
          -2.421438694000244e-8,
          -7.450580596923828e-8,
          -2.2351741790771484e-8,
          -1.0128132998943329e-7,
          -4.0046870708465576e-8,
          9.033828973770142e-8,
          -2.0489096641540527e-8,
          8.288770914077759e-8,
          0,
          -7.741618901491165e-8,
          4.470348358154297e-8,
          2.6542693376541138e-8,
          6.146728992462158e-8,
          2.1420419216156006e-8,
          -7.031485438346863e-8,
          9.313225746154785e-9,
          -3.632158041000366e-8,
          -8.195638656616211e-8,
          -3.725290298461914e-8,
          7.636845111846924e-8,
          1.4156103134155273e-7,
          1.1175870895385742e-7,
          7.613562047481537e-8,
          -1.30385160446167e-7,
          2.3283064365386963e-8,
          6.332993507385254e-8,
          -3.166496753692627e-8,
          5.681067705154419e-8,
          9.778887033462524e-8,
          -9.499490261077881e-8,
          6.007030606269836e-8,
          -1.862645149230957e-9,
          1.1548399925231934e-7,
          1.1373776942491531e-7,
          1.3969838619232178e-9,
          1.126900315284729e-7,
          9.872019290924072e-8,
          -2.2351741790771484e-8,
          2.7939677238464355e-8,
          -4.190951585769653e-8,
          -2.0372681319713593e-8,
          -2.039596438407898e-7,
          3.5390257835388184e-8,
          -6.51925802230835e-9,
          3.236345946788788e-8,
          -3.725290298461914e-8,
          1.4901161193847656e-7,
          -1.7695128917694092e-8,
          1.5832483768463135e-7,
          4.400499165058136e-8,
          1.2479722499847412e-7,
          -3.5390257835388184e-8,
          -1.1175870895385742e-7,
          -8.381903171539307e-8,
          -3.3527612686157227e-8,
          -2.7939677238464355e-9,
          -2.2351741790771484e-8,
          -2.0489096641540527e-8,
          1.30385160446167e-7,
          7.939524948596954e-8,
          -1.0244548320770264e-7,
          3.725290298461914e-8,
          -9.406358003616333e-8,
          2.7939677238464355e-8,
          -7.078051567077637e-8,
          1.2479722499847412e-7,
          -2.514570951461792e-8,
          2.2264430299401283e-8,
          9.359791874885559e-8,
          -8.195638656616211e-8,
          1.2293457984924316e-7,
          3.818422555923462e-8,
          1.0244548320770264e-7,
          -9.033828973770142e-8,
          -3.1548552215099335e-8,
          -5.774199962615967e-8,
          -5.21540641784668e-8,
          -2.421438694000244e-8,
          -3.725290298461914e-8,
          8.009374141693115e-8,
          7.264316082000732e-8,
          1.909211277961731e-8,
          -6.891787052154541e-8,
          1.7136335372924805e-7,
          -7.82310962677002e-8,
          -2.0675361156463623e-7,
          1.862645149230957e-9,
          3.818422555923462e-8,
          -3.166496753692627e-8,
          -6.239861249923706e-8,
          -3.585591912269592e-8,
          -1.0919757187366486e-7,
          1.2852251529693604e-7,
          2.0489096641540527e-8,
          -1.3504177331924438e-8,
          -6.705522537231445e-8,
          1.6577541828155518e-7,
          4.284083843231201e-8,
          -1.0803341865539551e-7,
          -2.0489096641540527e-8,
          -1.210719347000122e-8,
          5.21540641784668e-8,
          -5.774199962615967e-8,
          1.3597309589385986e-7,
          -2.7939677238464355e-8,
          3.3527612686157227e-8,
          -4.7497451305389404e-8,
          -1.5832483768463135e-8,
          8.381903171539307e-9,
          8.381903171539307e-8,
          9.685754776000977e-8,
          -9.406358003616333e-8,
          2.1886080503463745e-8,
          -9.383074939250946e-8,
          -5.960464477539063e-8,
          7.078051567077637e-8,
          1.1874362826347351e-7,
          -4.0978193283081055e-8,
          -1.3131648302078247e-7,
          -9.313225746154785e-9,
          4.0978193283081055e-8,
          1.3317912817001343e-7,
          -6.332993507385254e-8,
          1.862645149230957e-7,
          -6.51925802230835e-9,
          1.1548399925231934e-7,
          -3.725290298461914e-9,
          -1.471489667892456e-7,
          1.6763806343078613e-7,
          4.0978193283081055e-8,
          -1.3504177331924438e-8,
          -1.862645149230957e-9,
          6.51925802230835e-8,
          -3.3527612686157227e-8,
          5.587935447692871e-8,
          7.450580596923828e-9,
          1.1920928955078125e-7,
          4.0046870708465576e-8,
          -5.4016709327697754e-8,
          1.3224780559539795e-7,
          -4.936009645462036e-8,
          -3.3527612686157227e-8,
          -7.12461769580841e-8,
          -5.774199962615967e-8,
          6.728805601596832e-8,
          -5.681067705154419e-8,
          -1.043081283569336e-7,
          -2.7939677238464355e-8,
          -6.891787052154541e-8,
          -7.450580596923828e-8,
          8.591450750827789e-8,
          7.869675755500793e-8,
          -3.91155481338501e-8,
          -8.381903171539307e-8,
          -8.754432201385498e-8,
          -7.450580596923828e-8,
          9.313225746154785e-9,
          -1.0058283805847168e-7,
          1.1175870895385742e-8,
          -1.30385160446167e-8,
          5.4016709327697754e-8,
          3.5390257835388184e-8,
          5.960464477539063e-8,
          -2.1606683731079102e-7,
          1.280568540096283e-7,
          -9.872019290924072e-8,
          1.436856109648943e-7,
          -2.7939677238464355e-8,
          2.9802322387695312e-8,
          -8.940696716308594e-8,
          1.051812432706356e-7,
          -5.960464477539063e-8,
          -1.7601996660232544e-7,
          -1.1175870895385742e-8,
          -7.450580596923828e-9,
          1.8812716007232666e-7,
          -1.9045546650886536e-7,
          -9.313225746154785e-9,
          -1.4901161193847656e-8,
          -3.259629011154175e-8,
          3.91155481338501e-8,
          5.029141902923584e-8,
          2.9802322387695312e-8,
          3.259629011154175e-9,
          -2.514570951461792e-8,
          -5.774199962615967e-8,
          -9.12696123123169e-8,
          -2.561137080192566e-8,
          1.1175870895385742e-8,
          2.7939677238464355e-9,
          -8.102506399154663e-8,
          1.3783574104309082e-7,
          -3.725290298461914e-8,
          0,
          7.532071322202682e-8,
          7.264316082000732e-8,
          1.341104507446289e-7,
          3.306195139884949e-8,
          -1.932494342327118e-8,
          -3.91155481338501e-8,
          1.210719347000122e-7,
          1.4901161193847656e-8,
          -7.59027898311615e-8,
          -1.4901161193847656e-8,
          -7.578637450933456e-8,
          8.195638656616211e-8,
          -1.19674950838089e-7,
          7.450580596923828e-9,
          1.30385160446167e-8,
          5.8906152844429016e-8,
          -2.0023435354232788e-7,
          -9.685754776000977e-8,
          1.1548399925231934e-7,
          -1.4808028936386108e-7,
          -1.5832483768463135e-8,
          -1.3224780559539795e-7,
          -9.709037840366364e-8,
          -5.681067705154419e-8,
          1.043081283569336e-7,
          7.264316082000732e-8,
          -3.5390257835388184e-8,
          -4.656612873077393e-10,
          -2.0489096641540527e-8,
          1.5273690223693848e-7,
          1.2706732377409935e-7,
          1.862645149230957e-9,
          1.862645149230957e-9,
          5.21540641784668e-8,
          1.2433156371116638e-7,
          2.7939677238464355e-8,
          -4.0978193283081055e-8,
          9.313225746154785e-9,
          1.0174699127674103e-7,
          1.30385160446167e-8,
          -3.3527612686157227e-8,
          -7.753260433673859e-8,
          -5.4016709327697754e-8,
          1.4202669262886047e-7,
          -1.1920928955078125e-7,
          -5.029141902923584e-8,
          2.60770320892334e-8,
          1.2665987014770508e-7,
          1.1280644685029984e-7,
          -8.754432201385498e-8,
          5.587935447692871e-9,
          9.685754776000977e-8,
          6.51925802230835e-8,
          6.332993507385254e-8,
          7.729977369308472e-8,
          -5.774199962615967e-8,
          -2.7939677238464355e-9,
          -1.6763806343078613e-8,
          -7.82310962677002e-8,
          -2.0489096641540527e-8,
          1.6763806343078613e-8,
          1.387670636177063e-7,
          7.078051567077637e-8,
          1.3504177331924438e-8,
          -1.6763806343078613e-7,
          2.1792948246002197e-7,
          9.150244295597076e-8,
          1.1525116860866547e-8,
          1.4528632164001465e-7,
          1.1175870895385742e-8,
          7.59027898311615e-8,
          3.026798367500305e-9,
          -3.841705620288849e-8,
          -1.5832483768463135e-8,
          3.5390257835388184e-8,
          1.816079020500183e-8,
          7.264316082000732e-8,
          1.1362135410308838e-7,
          -3.073364496231079e-8,
          -1.6763806343078613e-7,
          1.0244548320770264e-7,
          -6.51925802230835e-8,
          6.705522537231445e-8,
          -1.2014061212539673e-7,
          -3.1781382858753204e-8,
          -1.0774238035082817e-7,
          3.073364496231079e-8,
          1.210719347000122e-7,
          5.774199962615967e-8,
          -2.0489096641540527e-8,
          -7.450580596923828e-9,
          -1.6763806343078613e-8,
          5.960464477539063e-8,
          -8.568167686462402e-8,
          -4.0978193283081055e-8,
          -5.21540641784668e-8,
          5.4016709327697754e-8,
          -1.862645149230957e-8,
          -1.043081283569336e-7,
          5.774199962615967e-8,
          8.940696716308594e-8,
          -3.725290298461914e-9,
          -1.648440957069397e-7,
          -7.636845111846924e-8,
          -3.166496753692627e-8,
          -4.470348358154297e-8,
          1.6763806343078613e-7,
          -1.25030055642128e-7,
          7.450580596923828e-9,
          1.0803341865539551e-7,
          -1.6763806343078613e-8,
          2.3283064365386963e-8,
          -1.862645149230957e-7,
          -1.4156103134155273e-7,
          8.195638656616211e-8,
          -5.820766091346741e-8,
          4.0978193283081055e-8,
          1.0803341865539551e-7,
          9.12696123123169e-8,
          -6.705522537231445e-8,
          5.4016709327697754e-8,
          1.257285475730896e-7,
          -1.5459954738616943e-7,
          -7.078051567077637e-8,
          -1.341104507446289e-7,
          -2.9802322387695312e-8,
          -2.7008354663848877e-8,
          -2.3283064365386963e-7,
          -6.51925802230835e-8,
          1.6763806343078613e-8,
          -9.313225746154785e-8,
          -7.636845111846924e-8,
          -7.916241884231567e-8,
          1.6205012798309326e-7,
          9.359791874885559e-8,
          5.774199962615967e-8,
          -7.35744833946228e-8,
          9.313225746154785e-9,
          -9.499490261077881e-8,
          -4.377216100692749e-8,
          -1.862645149230957e-8,
          -1.2852251529693604e-7,
          9.685754776000977e-8,
          1.1734664440155029e-7,
          9.709037840366364e-8,
          -7.636845111846924e-8,
          6.705522537231445e-8,
          -1.1175870895385742e-8,
          5.844049155712128e-8,
          1.3597309589385986e-7,
          1.3969838619232178e-8,
          -5.8673322200775146e-8,
          -6.239861249923706e-8,
          -4.656612873077393e-10,
          1.0803341865539551e-7,
          -1.6577541828155518e-7,
          5.4016709327697754e-8,
          -4.6566128730773926e-8,
          -1.341104507446289e-7,
          -1.1548399925231934e-7,
          1.2479722499847412e-7,
          -1.1548399925231934e-7,
          -2.9802322387695312e-8,
          8.381903171539307e-9,
          -4.6566128730773926e-8,
          -3.073364496231079e-8,
          1.210719347000122e-7,
          4.0978193283081055e-8,
          4.842877388000488e-8,
          -2.60770320892334e-8,
          1.0151416063308716e-7,
          2.9802322387695312e-8,
          0,
          -3.5390257835388184e-8,
          -3.818422555923462e-8,
          1.4872057363390923e-7,
          -3.725290298461914e-8,
          -8.940696716308594e-8,
          1.150183379650116e-7,
          1.8067657947540283e-7,
          7.264316082000732e-8,
          -9.499490261077881e-8,
          8.568167686462402e-8,
          -1.6670674085617065e-7,
          1.1734664440155029e-7,
          9.313225746154785e-9,
          1.2479722499847412e-7,
          2.123415470123291e-7,
          9.12696123123169e-8,
          3.725290298461914e-8,
          2.8870999813079834e-8,
          5.960464477539063e-8,
          -9.685754776000977e-8,
          -4.0978193283081055e-8,
          7.450580596923828e-8,
          -2.1886080503463745e-8,
          -9.778887033462524e-8,
          2.3283064365386963e-8,
          5.587935447692871e-8,
          1.2852251529693604e-7,
          7.729977369308472e-8,
          -1.0058283805847168e-7,
          5.2852556109428406e-8,
          9.313225746154785e-9,
          1.1548399925231934e-7,
          8.568167686462402e-8,
          -3.166496753692627e-8,
          8.195638656616211e-8,
          -6.146728992462158e-8,
          -1.4901161193847656e-8,
          7.35744833946228e-8,
          -4.6566128730773926e-9,
          5.2619725465774536e-8,
          -7.078051567077637e-8,
          4.6566128730773926e-8,
          9.313225746154785e-10,
          -3.3527612686157227e-8,
          -3.725290298461914e-8,
          -2.0721927285194397e-7,
          3.725290298461914e-9,
          6.984919309616089e-8,
          -1.9231811165809631e-7,
          -2.2584572434425354e-8,
          -8.288770914077759e-8,
          3.91155481338501e-8,
          -2.421438694000244e-8,
          -1.862645149230957e-9,
          -1.4901161193847656e-8,
          6.28642737865448e-9,
          4.0978193283081055e-8,
          -4.6566128730773926e-9,
          -1.9185245037078857e-7,
          -3.91155481338501e-8,
          -2.421438694000244e-8,
          5.8673322200775146e-8,
          -1.5867408365011215e-7,
          9.313225746154785e-8,
          7.729977369308472e-8,
          -3.5390257835388184e-8,
          2.1047890186309814e-7,
          1.30385160446167e-8,
          4.842877388000488e-8,
          -7.264316082000732e-8,
          5.587935447692871e-9,
          1.4901161193847656e-7,
          -2.2351741790771484e-8,
          -7.543712854385376e-8,
          -2.1420419216156006e-8,
          8.754432201385498e-8,
          -2.3748725652694702e-8,
          1.1362135410308838e-7,
          -2.3748725652694702e-8,
          -7.729977369308472e-8,
          1.0058283805847168e-7,
          5.774199962615967e-8,
          -5.029141902923584e-8,
          5.122274160385132e-8,
          -3.725290298461914e-8,
          -1.3317912817001343e-7,
          2.9336661100387573e-8,
          8.940696716308594e-8,
          -2.0489096641540527e-8,
          -3.91155481338501e-8,
          1.4260876923799515e-8,
          -2.8312206268310547e-7,
          3.725290298461914e-9,
          -8.381903171539307e-9,
          -6.891787052154541e-8,
          9.313225746154785e-9,
          -6.51925802230835e-9,
          -1.0069925338029861e-7,
          -1.424923539161682e-7,
          1.103617250919342e-7,
          -4.842877388000488e-8,
          -3.725290298461914e-8,
          2.7939677238464355e-8,
          1.6205012798309326e-7,
          -1.0710209608078003e-8,
          -5.960464477539063e-8,
          -1.387670636177063e-7,
          -4.842877388000488e-8,
          6.891787052154541e-8,
          -1.2665987014770508e-7,
          -2.1420419216156006e-8,
          -1.4528632164001465e-7,
          3.725290298461914e-9,
          1.5832483768463135e-8,
          -4.630419425666332e-8,
          1.210719347000122e-8,
          2.7939677238464355e-8,
          -8.381903171539307e-9,
          -1.394655555486679e-7,
          3.632158041000366e-8,
          3.4458935260772705e-8,
          -1.2479722499847412e-7,
          -3.4458935260772705e-8,
          -1.7695128917694092e-7,
          6.05359673500061e-8,
          -4.6798959374427795e-8,
          -8.66129994392395e-8,
          -1.4202669262886047e-8,
          -1.1455267667770386e-7,
          -8.66129994392395e-8,
          2.3096799850463867e-7,
          -1.8812716007232666e-7,
          -3.632158041000366e-8,
          -6.51925802230835e-9,
          -9.049836080521345e-8,
          -5.4016709327697754e-8,
          3.3993273973464966e-8,
          -1.7415732145309448e-7,
          -4.284083843231201e-8,
          -4.563480615615845e-8,
          -4.936009645462036e-8,
          1.257285475730896e-7,
          2.8405338525772095e-8,
          -6.612390279769897e-8,
          2.1327286958694458e-7,
          -2.60770320892334e-8,
          -4.6798959374427795e-8,
          -1.3969838619232178e-8,
          7.916241884231567e-9,
          -4.848698154091835e-8,
          1.210719347000122e-8,
          -1.909211277961731e-7,
          6.024492904543877e-8,
          -1.387670636177063e-7,
          4.842877388000488e-8,
          -9.872019290924072e-8,
          7.450580596923828e-8,
          -4.7497451305389404e-8,
          6.938353180885315e-8,
          -1.30385160446167e-7,
          8.195638656616211e-8,
          3.725290298461914e-8,
          -1.0186340659856796e-8,
          -7.543712854385376e-8,
          9.872019290924072e-8,
          -6.51925802230835e-8,
          5.4016709327697754e-8,
          2.7939677238464355e-8,
          -5.4016709327697754e-8,
          -6.705522537231445e-8,
          9.12696123123169e-8,
          -3.259629011154175e-9,
          -4.0046870708465576e-8,
          -2.0489096641540527e-8,
          6.146728992462158e-8,
          -2.1944288164377213e-8,
          -2.7008354663848877e-8,
          1.2014061212539673e-7,
          1.2293457984924316e-7,
          -4.0046870708465576e-8,
          -4.3655745685100555e-8,
          -6.51925802230835e-9,
          -8.195638656616211e-8,
          -8.847564458847046e-8,
          8.009374141693115e-8,
          3.4458935260772705e-8,
          1.6298145055770874e-7,
          5.587935447692871e-8,
          7.82310962677002e-8,
          -5.545734893530607e-8,
          -8.195638656616211e-8,
          1.955777406692505e-7,
          5.774199962615967e-8,
          9.313225746154785e-9,
          3.725290298461914e-8,
          6.51925802230835e-8,
          -2.2351741790771484e-8,
          6.05359673500061e-8,
          4.377216100692749e-8,
          -2.9802322387695312e-8,
          -1.1548399925231934e-7,
          -3.259629011154175e-8,
          3.247987478971481e-8,
          3.3760443329811096e-9,
          2.3283064365386963e-8,
          -1.071603037416935e-7,
          6.51925802230835e-9,
          -6.332993507385254e-8,
          1.2200325727462769e-7,
          -5.774199962615967e-8,
          7.683411240577698e-8,
          9.499490261077881e-8,
          -1.043081283569336e-7,
          -6.612390279769897e-8,
          -2.5960616767406464e-8,
          5.21540641784668e-8,
          1.555308699607849e-7,
          -1.8347054719924927e-7,
          -6.05359673500061e-8,
          -5.4016709327697754e-8,
          -1.0244548320770264e-7,
          1.0803341865539551e-7,
          -8.847564458847046e-8,
          -4.377216100692749e-8,
          9.778887033462524e-8,
          -1.862645149230957e-8,
          -1.0523945093154907e-7,
          -1.2014061212539673e-7,
          5.494803190231323e-8,
          7.450580596923828e-9,
          1.862645149230957e-9,
          7.636845111846924e-8,
          -8.102506399154663e-8,
          4.0978193283081055e-8,
          -6.332993507385254e-8,
          4.6566128730773926e-9,
          -7.82310962677002e-8,
          1.3597309589385986e-7,
          -1.909211277961731e-8,
          7.299240678548813e-8,
          -1.3387762010097504e-7,
          8.253846317529678e-8,
          -7.82310962677002e-8,
          -1.1175870895385742e-8,
          7.729977369308472e-8,
          1.5064142644405365e-7,
          -7.636845111846924e-8,
          -7.729977369308472e-8,
          -9.66247171163559e-8,
          -5.21540641784668e-8,
          -1.1012889444828033e-7,
          -8.89413058757782e-8,
          5.3085386753082275e-8,
          -3.958120942115784e-8,
          1.2689270079135895e-7
         ],
         "xaxis": "x",
         "yaxis": "y"
        }
       ],
       "layout": {
        "barmode": "relative",
        "legend": {
         "title": {
          "text": "variable"
         },
         "tracegroupgap": 0
        },
        "margin": {
         "t": 60
        },
        "template": {
         "data": {
          "bar": [
           {
            "error_x": {
             "color": "#2a3f5f"
            },
            "error_y": {
             "color": "#2a3f5f"
            },
            "marker": {
             "line": {
              "color": "#E5ECF6",
              "width": 0.5
             },
             "pattern": {
              "fillmode": "overlay",
              "size": 10,
              "solidity": 0.2
             }
            },
            "type": "bar"
           }
          ],
          "barpolar": [
           {
            "marker": {
             "line": {
              "color": "#E5ECF6",
              "width": 0.5
             },
             "pattern": {
              "fillmode": "overlay",
              "size": 10,
              "solidity": 0.2
             }
            },
            "type": "barpolar"
           }
          ],
          "carpet": [
           {
            "aaxis": {
             "endlinecolor": "#2a3f5f",
             "gridcolor": "white",
             "linecolor": "white",
             "minorgridcolor": "white",
             "startlinecolor": "#2a3f5f"
            },
            "baxis": {
             "endlinecolor": "#2a3f5f",
             "gridcolor": "white",
             "linecolor": "white",
             "minorgridcolor": "white",
             "startlinecolor": "#2a3f5f"
            },
            "type": "carpet"
           }
          ],
          "choropleth": [
           {
            "colorbar": {
             "outlinewidth": 0,
             "ticks": ""
            },
            "type": "choropleth"
           }
          ],
          "contour": [
           {
            "colorbar": {
             "outlinewidth": 0,
             "ticks": ""
            },
            "colorscale": [
             [
              0,
              "#0d0887"
             ],
             [
              0.1111111111111111,
              "#46039f"
             ],
             [
              0.2222222222222222,
              "#7201a8"
             ],
             [
              0.3333333333333333,
              "#9c179e"
             ],
             [
              0.4444444444444444,
              "#bd3786"
             ],
             [
              0.5555555555555556,
              "#d8576b"
             ],
             [
              0.6666666666666666,
              "#ed7953"
             ],
             [
              0.7777777777777778,
              "#fb9f3a"
             ],
             [
              0.8888888888888888,
              "#fdca26"
             ],
             [
              1,
              "#f0f921"
             ]
            ],
            "type": "contour"
           }
          ],
          "contourcarpet": [
           {
            "colorbar": {
             "outlinewidth": 0,
             "ticks": ""
            },
            "type": "contourcarpet"
           }
          ],
          "heatmap": [
           {
            "colorbar": {
             "outlinewidth": 0,
             "ticks": ""
            },
            "colorscale": [
             [
              0,
              "#0d0887"
             ],
             [
              0.1111111111111111,
              "#46039f"
             ],
             [
              0.2222222222222222,
              "#7201a8"
             ],
             [
              0.3333333333333333,
              "#9c179e"
             ],
             [
              0.4444444444444444,
              "#bd3786"
             ],
             [
              0.5555555555555556,
              "#d8576b"
             ],
             [
              0.6666666666666666,
              "#ed7953"
             ],
             [
              0.7777777777777778,
              "#fb9f3a"
             ],
             [
              0.8888888888888888,
              "#fdca26"
             ],
             [
              1,
              "#f0f921"
             ]
            ],
            "type": "heatmap"
           }
          ],
          "heatmapgl": [
           {
            "colorbar": {
             "outlinewidth": 0,
             "ticks": ""
            },
            "colorscale": [
             [
              0,
              "#0d0887"
             ],
             [
              0.1111111111111111,
              "#46039f"
             ],
             [
              0.2222222222222222,
              "#7201a8"
             ],
             [
              0.3333333333333333,
              "#9c179e"
             ],
             [
              0.4444444444444444,
              "#bd3786"
             ],
             [
              0.5555555555555556,
              "#d8576b"
             ],
             [
              0.6666666666666666,
              "#ed7953"
             ],
             [
              0.7777777777777778,
              "#fb9f3a"
             ],
             [
              0.8888888888888888,
              "#fdca26"
             ],
             [
              1,
              "#f0f921"
             ]
            ],
            "type": "heatmapgl"
           }
          ],
          "histogram": [
           {
            "marker": {
             "pattern": {
              "fillmode": "overlay",
              "size": 10,
              "solidity": 0.2
             }
            },
            "type": "histogram"
           }
          ],
          "histogram2d": [
           {
            "colorbar": {
             "outlinewidth": 0,
             "ticks": ""
            },
            "colorscale": [
             [
              0,
              "#0d0887"
             ],
             [
              0.1111111111111111,
              "#46039f"
             ],
             [
              0.2222222222222222,
              "#7201a8"
             ],
             [
              0.3333333333333333,
              "#9c179e"
             ],
             [
              0.4444444444444444,
              "#bd3786"
             ],
             [
              0.5555555555555556,
              "#d8576b"
             ],
             [
              0.6666666666666666,
              "#ed7953"
             ],
             [
              0.7777777777777778,
              "#fb9f3a"
             ],
             [
              0.8888888888888888,
              "#fdca26"
             ],
             [
              1,
              "#f0f921"
             ]
            ],
            "type": "histogram2d"
           }
          ],
          "histogram2dcontour": [
           {
            "colorbar": {
             "outlinewidth": 0,
             "ticks": ""
            },
            "colorscale": [
             [
              0,
              "#0d0887"
             ],
             [
              0.1111111111111111,
              "#46039f"
             ],
             [
              0.2222222222222222,
              "#7201a8"
             ],
             [
              0.3333333333333333,
              "#9c179e"
             ],
             [
              0.4444444444444444,
              "#bd3786"
             ],
             [
              0.5555555555555556,
              "#d8576b"
             ],
             [
              0.6666666666666666,
              "#ed7953"
             ],
             [
              0.7777777777777778,
              "#fb9f3a"
             ],
             [
              0.8888888888888888,
              "#fdca26"
             ],
             [
              1,
              "#f0f921"
             ]
            ],
            "type": "histogram2dcontour"
           }
          ],
          "mesh3d": [
           {
            "colorbar": {
             "outlinewidth": 0,
             "ticks": ""
            },
            "type": "mesh3d"
           }
          ],
          "parcoords": [
           {
            "line": {
             "colorbar": {
              "outlinewidth": 0,
              "ticks": ""
             }
            },
            "type": "parcoords"
           }
          ],
          "pie": [
           {
            "automargin": true,
            "type": "pie"
           }
          ],
          "scatter": [
           {
            "fillpattern": {
             "fillmode": "overlay",
             "size": 10,
             "solidity": 0.2
            },
            "type": "scatter"
           }
          ],
          "scatter3d": [
           {
            "line": {
             "colorbar": {
              "outlinewidth": 0,
              "ticks": ""
             }
            },
            "marker": {
             "colorbar": {
              "outlinewidth": 0,
              "ticks": ""
             }
            },
            "type": "scatter3d"
           }
          ],
          "scattercarpet": [
           {
            "marker": {
             "colorbar": {
              "outlinewidth": 0,
              "ticks": ""
             }
            },
            "type": "scattercarpet"
           }
          ],
          "scattergeo": [
           {
            "marker": {
             "colorbar": {
              "outlinewidth": 0,
              "ticks": ""
             }
            },
            "type": "scattergeo"
           }
          ],
          "scattergl": [
           {
            "marker": {
             "colorbar": {
              "outlinewidth": 0,
              "ticks": ""
             }
            },
            "type": "scattergl"
           }
          ],
          "scattermapbox": [
           {
            "marker": {
             "colorbar": {
              "outlinewidth": 0,
              "ticks": ""
             }
            },
            "type": "scattermapbox"
           }
          ],
          "scatterpolar": [
           {
            "marker": {
             "colorbar": {
              "outlinewidth": 0,
              "ticks": ""
             }
            },
            "type": "scatterpolar"
           }
          ],
          "scatterpolargl": [
           {
            "marker": {
             "colorbar": {
              "outlinewidth": 0,
              "ticks": ""
             }
            },
            "type": "scatterpolargl"
           }
          ],
          "scatterternary": [
           {
            "marker": {
             "colorbar": {
              "outlinewidth": 0,
              "ticks": ""
             }
            },
            "type": "scatterternary"
           }
          ],
          "surface": [
           {
            "colorbar": {
             "outlinewidth": 0,
             "ticks": ""
            },
            "colorscale": [
             [
              0,
              "#0d0887"
             ],
             [
              0.1111111111111111,
              "#46039f"
             ],
             [
              0.2222222222222222,
              "#7201a8"
             ],
             [
              0.3333333333333333,
              "#9c179e"
             ],
             [
              0.4444444444444444,
              "#bd3786"
             ],
             [
              0.5555555555555556,
              "#d8576b"
             ],
             [
              0.6666666666666666,
              "#ed7953"
             ],
             [
              0.7777777777777778,
              "#fb9f3a"
             ],
             [
              0.8888888888888888,
              "#fdca26"
             ],
             [
              1,
              "#f0f921"
             ]
            ],
            "type": "surface"
           }
          ],
          "table": [
           {
            "cells": {
             "fill": {
              "color": "#EBF0F8"
             },
             "line": {
              "color": "white"
             }
            },
            "header": {
             "fill": {
              "color": "#C8D4E3"
             },
             "line": {
              "color": "white"
             }
            },
            "type": "table"
           }
          ]
         },
         "layout": {
          "annotationdefaults": {
           "arrowcolor": "#2a3f5f",
           "arrowhead": 0,
           "arrowwidth": 1
          },
          "autotypenumbers": "strict",
          "coloraxis": {
           "colorbar": {
            "outlinewidth": 0,
            "ticks": ""
           }
          },
          "colorscale": {
           "diverging": [
            [
             0,
             "#8e0152"
            ],
            [
             0.1,
             "#c51b7d"
            ],
            [
             0.2,
             "#de77ae"
            ],
            [
             0.3,
             "#f1b6da"
            ],
            [
             0.4,
             "#fde0ef"
            ],
            [
             0.5,
             "#f7f7f7"
            ],
            [
             0.6,
             "#e6f5d0"
            ],
            [
             0.7,
             "#b8e186"
            ],
            [
             0.8,
             "#7fbc41"
            ],
            [
             0.9,
             "#4d9221"
            ],
            [
             1,
             "#276419"
            ]
           ],
           "sequential": [
            [
             0,
             "#0d0887"
            ],
            [
             0.1111111111111111,
             "#46039f"
            ],
            [
             0.2222222222222222,
             "#7201a8"
            ],
            [
             0.3333333333333333,
             "#9c179e"
            ],
            [
             0.4444444444444444,
             "#bd3786"
            ],
            [
             0.5555555555555556,
             "#d8576b"
            ],
            [
             0.6666666666666666,
             "#ed7953"
            ],
            [
             0.7777777777777778,
             "#fb9f3a"
            ],
            [
             0.8888888888888888,
             "#fdca26"
            ],
            [
             1,
             "#f0f921"
            ]
           ],
           "sequentialminus": [
            [
             0,
             "#0d0887"
            ],
            [
             0.1111111111111111,
             "#46039f"
            ],
            [
             0.2222222222222222,
             "#7201a8"
            ],
            [
             0.3333333333333333,
             "#9c179e"
            ],
            [
             0.4444444444444444,
             "#bd3786"
            ],
            [
             0.5555555555555556,
             "#d8576b"
            ],
            [
             0.6666666666666666,
             "#ed7953"
            ],
            [
             0.7777777777777778,
             "#fb9f3a"
            ],
            [
             0.8888888888888888,
             "#fdca26"
            ],
            [
             1,
             "#f0f921"
            ]
           ]
          },
          "colorway": [
           "#636efa",
           "#EF553B",
           "#00cc96",
           "#ab63fa",
           "#FFA15A",
           "#19d3f3",
           "#FF6692",
           "#B6E880",
           "#FF97FF",
           "#FECB52"
          ],
          "font": {
           "color": "#2a3f5f"
          },
          "geo": {
           "bgcolor": "white",
           "lakecolor": "white",
           "landcolor": "#E5ECF6",
           "showlakes": true,
           "showland": true,
           "subunitcolor": "white"
          },
          "hoverlabel": {
           "align": "left"
          },
          "hovermode": "closest",
          "mapbox": {
           "style": "light"
          },
          "paper_bgcolor": "white",
          "plot_bgcolor": "#E5ECF6",
          "polar": {
           "angularaxis": {
            "gridcolor": "white",
            "linecolor": "white",
            "ticks": ""
           },
           "bgcolor": "#E5ECF6",
           "radialaxis": {
            "gridcolor": "white",
            "linecolor": "white",
            "ticks": ""
           }
          },
          "scene": {
           "xaxis": {
            "backgroundcolor": "#E5ECF6",
            "gridcolor": "white",
            "gridwidth": 2,
            "linecolor": "white",
            "showbackground": true,
            "ticks": "",
            "zerolinecolor": "white"
           },
           "yaxis": {
            "backgroundcolor": "#E5ECF6",
            "gridcolor": "white",
            "gridwidth": 2,
            "linecolor": "white",
            "showbackground": true,
            "ticks": "",
            "zerolinecolor": "white"
           },
           "zaxis": {
            "backgroundcolor": "#E5ECF6",
            "gridcolor": "white",
            "gridwidth": 2,
            "linecolor": "white",
            "showbackground": true,
            "ticks": "",
            "zerolinecolor": "white"
           }
          },
          "shapedefaults": {
           "line": {
            "color": "#2a3f5f"
           }
          },
          "ternary": {
           "aaxis": {
            "gridcolor": "white",
            "linecolor": "white",
            "ticks": ""
           },
           "baxis": {
            "gridcolor": "white",
            "linecolor": "white",
            "ticks": ""
           },
           "bgcolor": "#E5ECF6",
           "caxis": {
            "gridcolor": "white",
            "linecolor": "white",
            "ticks": ""
           }
          },
          "title": {
           "x": 0.05
          },
          "xaxis": {
           "automargin": true,
           "gridcolor": "white",
           "linecolor": "white",
           "ticks": "",
           "title": {
            "standoff": 15
           },
           "zerolinecolor": "white",
           "zerolinewidth": 2
          },
          "yaxis": {
           "automargin": true,
           "gridcolor": "white",
           "linecolor": "white",
           "ticks": "",
           "title": {
            "standoff": 15
           },
           "zerolinecolor": "white",
           "zerolinewidth": 2
          }
         }
        },
        "xaxis": {
         "anchor": "y",
         "domain": [
          0,
          1
         ],
         "title": {
          "text": "value"
         }
        },
        "yaxis": {
         "anchor": "x",
         "domain": [
          0,
          1
         ],
         "title": {
          "text": "count"
         }
        }
       }
      }
     },
     "metadata": {},
     "output_type": "display_data"
    }
   ],
   "source": [
    "px.histogram(raw_data[3][\"node_level_repr_pre_encoder\"])"
   ]
  },
  {
   "cell_type": "markdown",
   "metadata": {},
   "source": [
    "## Combining the body and policy head"
   ]
  },
  {
   "cell_type": "code",
   "execution_count": 93,
   "metadata": {},
   "outputs": [
    {
     "data": {
      "text/plain": [
       "0.5022"
      ]
     },
     "execution_count": 93,
     "metadata": {},
     "output_type": "execute_result"
    }
   ],
   "source": [
    "decision_logits.argmax(axis=1).mean()"
   ]
  },
  {
   "cell_type": "code",
   "execution_count": 94,
   "metadata": {},
   "outputs": [
    {
     "data": {
      "text/plain": [
       "0.9978"
      ]
     },
     "execution_count": 94,
     "metadata": {},
     "output_type": "execute_result"
    }
   ],
   "source": [
    "correct_decision.mean()"
   ]
  }
 ],
 "metadata": {
  "kernelspec": {
   "display_name": "pvg-experiments",
   "language": "python",
   "name": "python3"
  },
  "language_info": {
   "codemirror_mode": {
    "name": "ipython",
    "version": 3
   },
   "file_extension": ".py",
   "mimetype": "text/x-python",
   "name": "python",
   "nbconvert_exporter": "python",
   "pygments_lexer": "ipython3",
   "version": "3.11.6"
  }
 },
 "nbformat": 4,
 "nbformat_minor": 2
}
