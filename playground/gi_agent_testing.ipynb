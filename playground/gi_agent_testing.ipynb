{
 "cells": [
  {
   "cell_type": "markdown",
   "metadata": {},
   "source": [
    "# Testing graph isomorphism agents"
   ]
  },
  {
   "cell_type": "markdown",
   "metadata": {},
   "source": [
    "## Setup"
   ]
  },
  {
   "cell_type": "code",
   "execution_count": 1,
   "metadata": {},
   "outputs": [],
   "source": [
    "FORCE_CPU = True\n",
    "\n",
    "SEED = 349287\n",
    "\n",
    "LOAD_CHECKPOINT = False\n",
    "CHECKPOINT_RUN_ID = \"ppo_gi_fixed_shared_min_2_2_3\"\n",
    "CHECKPOINT_VERSION = \"v0\"\n",
    "NORMALIZE_MESSAGE_HISTORY_DEFAULT = True\n",
    "\n",
    "BATCH_SIZE = 128"
   ]
  },
  {
   "cell_type": "code",
   "execution_count": 2,
   "metadata": {},
   "outputs": [],
   "source": [
    "import torch\n",
    "from torch import Tensor\n",
    "from torch import nn\n",
    "\n",
    "from tensordict import TensorDictBase\n",
    "from tensordict.nn import TensorDictSequential\n",
    "\n",
    "import numpy as np\n",
    "\n",
    "from tqdm import tqdm\n",
    "\n",
    "import pandas as pd\n",
    "\n",
    "import plotly.graph_objects as go\n",
    "import plotly.express as px\n",
    "\n",
    "from rich.console import Console\n",
    "from rich.table import Table\n",
    "\n",
    "from pvg import (\n",
    "    Parameters,\n",
    "    ScenarioType,\n",
    "    TrainerType,\n",
    "    AgentsParameters,\n",
    "    GraphIsomorphismAgentParameters,\n",
    ")\n",
    "from pvg.experiment_settings import ExperimentSettings\n",
    "from pvg.graph_isomorphism import (\n",
    "    GraphIsomorphismAgentHooks,\n",
    ")\n",
    "from pvg.scenario_instance import build_scenario_instance\n",
    "from pvg.scenario_base import DataLoader"
   ]
  },
  {
   "cell_type": "code",
   "execution_count": 3,
   "metadata": {},
   "outputs": [],
   "source": [
    "torch.manual_seed(SEED)\n",
    "torch_generator = torch.Generator().manual_seed(SEED)"
   ]
  },
  {
   "cell_type": "code",
   "execution_count": 4,
   "metadata": {},
   "outputs": [
    {
     "name": "stdout",
     "output_type": "stream",
     "text": [
      "cpu\n"
     ]
    }
   ],
   "source": [
    "if not FORCE_CPU and torch.cuda.is_available():\n",
    "    device = torch.device(\"cuda\")\n",
    "else:\n",
    "    device = torch.device(\"cpu\")\n",
    "print(device)"
   ]
  },
  {
   "cell_type": "markdown",
   "metadata": {},
   "source": [
    "## Create scenario and agents"
   ]
  },
  {
   "cell_type": "code",
   "execution_count": 5,
   "metadata": {},
   "outputs": [],
   "source": [
    "params = Parameters(\n",
    "    scenario=ScenarioType.GRAPH_ISOMORPHISM,\n",
    "    trainer=TrainerType.VANILLA_PPO,\n",
    "    dataset=\"eru10000\",\n",
    "    seed=SEED,\n",
    "    agents=AgentsParameters(\n",
    "        verifier=GraphIsomorphismAgentParameters(\n",
    "            load_checkpoint_and_parameters=LOAD_CHECKPOINT,\n",
    "            checkpoint_run_id=CHECKPOINT_RUN_ID,\n",
    "            checkpoint_version=CHECKPOINT_VERSION,\n",
    "            normalize_message_history=NORMALIZE_MESSAGE_HISTORY_DEFAULT,\n",
    "        ),\n",
    "        prover=GraphIsomorphismAgentParameters(\n",
    "            load_checkpoint_and_parameters=LOAD_CHECKPOINT,\n",
    "            checkpoint_run_id=CHECKPOINT_RUN_ID,\n",
    "            checkpoint_version=CHECKPOINT_VERSION,\n",
    "            normalize_message_history=NORMALIZE_MESSAGE_HISTORY_DEFAULT,\n",
    "        ),\n",
    "    ),\n",
    ")"
   ]
  },
  {
   "cell_type": "code",
   "execution_count": 6,
   "metadata": {},
   "outputs": [],
   "source": [
    "settings = ExperimentSettings(\n",
    "    device=device,\n",
    ")"
   ]
  },
  {
   "cell_type": "code",
   "execution_count": 7,
   "metadata": {},
   "outputs": [],
   "source": [
    "scenario_instance = build_scenario_instance(\n",
    "    params=params,\n",
    "    settings=settings,\n",
    ")"
   ]
  },
  {
   "cell_type": "code",
   "execution_count": 8,
   "metadata": {},
   "outputs": [],
   "source": [
    "class TensorDictSequentialHooks(TensorDictSequential):\n",
    "    def forward(\n",
    "        self,\n",
    "        tensordict: TensorDictBase,\n",
    "        tensordict_out: TensorDictBase | None = None,\n",
    "        **kwargs,\n",
    "    ) -> TensorDictBase:\n",
    "        for module in self.module:\n",
    "            tensordict = self._run_module(module, tensordict, **kwargs)\n",
    "        if tensordict_out is not None:\n",
    "            tensordict_out.update(tensordict, inplace=True)\n",
    "            return tensordict_out\n",
    "        return tensordict"
   ]
  },
  {
   "cell_type": "code",
   "execution_count": 9,
   "metadata": {},
   "outputs": [],
   "source": [
    "combined_body = scenario_instance.combined_body\n",
    "combined_policy_head = scenario_instance.combined_policy_head"
   ]
  },
  {
   "cell_type": "code",
   "execution_count": 10,
   "metadata": {},
   "outputs": [],
   "source": [
    "combined_actor = TensorDictSequentialHooks(combined_body, combined_policy_head)"
   ]
  },
  {
   "cell_type": "code",
   "execution_count": 11,
   "metadata": {},
   "outputs": [],
   "source": [
    "dataset = scenario_instance.train_dataset"
   ]
  },
  {
   "cell_type": "code",
   "execution_count": 12,
   "metadata": {},
   "outputs": [
    {
     "data": {
      "text/plain": [
       "GraphIsomorphismDataset(\n",
       "    fields={\n",
       "        adjacency: MemoryMappedTensor(shape=torch.Size([10000, 2, 11, 11]), device=cpu, dtype=torch.int32, is_shared=True),\n",
       "        node_mask: MemoryMappedTensor(shape=torch.Size([10000, 2, 11]), device=cpu, dtype=torch.bool, is_shared=True),\n",
       "        wl_score: MemoryMappedTensor(shape=torch.Size([10000]), device=cpu, dtype=torch.int32, is_shared=True),\n",
       "        x: MemoryMappedTensor(shape=torch.Size([10000, 2, 11, 8]), device=cpu, dtype=torch.float32, is_shared=True),\n",
       "        y: MemoryMappedTensor(shape=torch.Size([10000]), device=cpu, dtype=torch.int64, is_shared=True)},\n",
       "    batch_size=torch.Size([10000]),\n",
       "    device=None,\n",
       "    is_shared=False)"
      ]
     },
     "execution_count": 12,
     "metadata": {},
     "output_type": "execute_result"
    }
   ],
   "source": [
    "dataset"
   ]
  },
  {
   "cell_type": "code",
   "execution_count": 13,
   "metadata": {},
   "outputs": [
    {
     "data": {
      "text/plain": [
       "11"
      ]
     },
     "execution_count": 13,
     "metadata": {},
     "output_type": "execute_result"
    }
   ],
   "source": [
    "max_num_nodes = dataset[\"x\"].shape[-2]\n",
    "max_num_nodes"
   ]
  },
  {
   "cell_type": "markdown",
   "metadata": {},
   "source": [
    "## Looking at intermediate computations"
   ]
  },
  {
   "cell_type": "code",
   "execution_count": 14,
   "metadata": {},
   "outputs": [],
   "source": [
    "dataloader = DataLoader(\n",
    "    dataset=dataset,\n",
    "    batch_size=BATCH_SIZE,\n",
    "    generator=torch_generator,\n",
    ")"
   ]
  },
  {
   "cell_type": "code",
   "execution_count": 15,
   "metadata": {},
   "outputs": [],
   "source": [
    "statistic_collectors = {}"
   ]
  },
  {
   "cell_type": "code",
   "execution_count": 16,
   "metadata": {},
   "outputs": [],
   "source": [
    "statistic_collectors[\"gnn_output\"] = lambda storage: (\n",
    "    storage[\"gnn_output\"][:, 0].sum(dim=1) - storage[\"gnn_output\"][:, 1].sum(dim=1)\n",
    ").mean(dim=1)"
   ]
  },
  {
   "cell_type": "code",
   "execution_count": 17,
   "metadata": {},
   "outputs": [],
   "source": [
    "statistic_collectors[\"gnn_output_rounded\"] = lambda storage: (\n",
    "    storage[\"gnn_output_rounded\"][:, 0].sum(dim=1)\n",
    "    - storage[\"gnn_output_rounded\"][:, 1].sum(dim=1)\n",
    ").mean(dim=1)"
   ]
  },
  {
   "cell_type": "code",
   "execution_count": 18,
   "metadata": {},
   "outputs": [],
   "source": [
    "statistic_collectors[\"gnn_output_flatter\"] = lambda storage: (\n",
    "    storage[\"gnn_output_flatter\"][:, :max_num_nodes].sum(dim=1)\n",
    "    - storage[\"gnn_output_flatter\"][:, max_num_nodes:].sum(dim=1)\n",
    ").mean(dim=1)"
   ]
  },
  {
   "cell_type": "code",
   "execution_count": 19,
   "metadata": {},
   "outputs": [],
   "source": [
    "statistic_collectors[\"transformer_input_initial\"] = lambda storage: (\n",
    "    storage[\"transformer_input_initial\"][:, 2:max_num_nodes+2].sum(dim=1)\n",
    "    - storage[\"transformer_input_initial\"][:, max_num_nodes+2:].sum(dim=1)\n",
    ").mean(dim=1)"
   ]
  },
  {
   "cell_type": "code",
   "execution_count": 20,
   "metadata": {},
   "outputs": [],
   "source": [
    "statistic_collectors[\"transformer_input_pre_encoder\"] = lambda storage: (\n",
    "    storage[\"transformer_input_pre_encoder\"][:, 2:max_num_nodes+2].sum(dim=1)\n",
    "    - storage[\"transformer_input_pre_encoder\"][:, max_num_nodes+2:].sum(dim=1)\n",
    ").mean(dim=1)"
   ]
  },
  {
   "cell_type": "code",
   "execution_count": 21,
   "metadata": {},
   "outputs": [],
   "source": [
    "statistic_collectors[\"transformer_input\"] = lambda storage: (\n",
    "    storage[\"transformer_input\"][:, 2:max_num_nodes+2].sum(dim=1)\n",
    "    - storage[\"transformer_input\"][:, max_num_nodes+2:].sum(dim=1)\n",
    ").mean(dim=1)"
   ]
  },
  {
   "cell_type": "code",
   "execution_count": 22,
   "metadata": {},
   "outputs": [],
   "source": [
    "statistic_collectors[\"transformer_output_flatter\"] = lambda storage: (\n",
    "    storage[\"transformer_output_flatter\"][:, 2:max_num_nodes+2].sum(dim=1)\n",
    "    - storage[\"transformer_output_flatter\"][:, max_num_nodes+2:].sum(dim=1)\n",
    ").mean(dim=1)"
   ]
  },
  {
   "cell_type": "code",
   "execution_count": 23,
   "metadata": {},
   "outputs": [],
   "source": [
    "statistic_collectors[\"node_level_repr_pre_encoder\"] = lambda storage: (\n",
    "    storage[\"node_level_repr_pre_encoder\"][:, 0].sum(dim=1)\n",
    "    - storage[\"node_level_repr_pre_encoder\"][:, 1].sum(dim=1)\n",
    ").mean(dim=1)"
   ]
  },
  {
   "cell_type": "code",
   "execution_count": 24,
   "metadata": {},
   "outputs": [],
   "source": [
    "statistic_collectors[\"node_level_repr\"] = lambda storage: (\n",
    "    storage[\"node_level_repr\"][:, 0].sum(dim=1)\n",
    "    - storage[\"node_level_repr\"][:, 1].sum(dim=1)\n",
    ").mean(dim=1)"
   ]
  },
  {
   "cell_type": "code",
   "execution_count": 25,
   "metadata": {},
   "outputs": [],
   "source": [
    "stats = {\n",
    "    key: np.empty(len(dataset), dtype=np.float32)\n",
    "    for key in statistic_collectors.keys()\n",
    "}"
   ]
  },
  {
   "cell_type": "code",
   "execution_count": 26,
   "metadata": {},
   "outputs": [],
   "source": [
    "storage = {}\n",
    "hooks = GraphIsomorphismAgentHooks.create_recorder_hooks(storage, per_agent=True)"
   ]
  },
  {
   "cell_type": "code",
   "execution_count": 27,
   "metadata": {},
   "outputs": [],
   "source": [
    "decision_logits = np.empty((len(dataset), 3), dtype=np.float32)\n",
    "correct_decision = np.empty(len(dataset), dtype=bool)"
   ]
  },
  {
   "cell_type": "code",
   "execution_count": 28,
   "metadata": {},
   "outputs": [
    {
     "name": "stderr",
     "output_type": "stream",
     "text": [
      "100%|██████████| 79/79 [00:05<00:00, 14.96it/s]\n"
     ]
    }
   ],
   "source": [
    "for i, batch in tqdm(enumerate(dataloader), total=len(dataloader)):\n",
    "    batch[\"message\"] = torch.zeros_like(batch[\"y\"])\n",
    "    batch[\"ignore_message\"] = torch.ones_like(batch[\"y\"], dtype=torch.bool)\n",
    "    batch[\"round\"] = torch.zeros(batch.batch_size, dtype=torch.int64)\n",
    "    batch[\"decision_restriction\"] = torch.zeros(batch.batch_size, dtype=torch.int64)\n",
    "    actor_out = combined_actor(batch, hooks=hooks)\n",
    "    batch_decision_logits = (\n",
    "        actor_out[\"agents\"][\"decision_logits\"][:, 0].detach().cpu().numpy()\n",
    "    )\n",
    "    decision_logits[i * BATCH_SIZE : (i + 1) * BATCH_SIZE] = batch_decision_logits\n",
    "    batch_y = batch[\"y\"].detach().cpu().numpy()\n",
    "    correct_decision[i * BATCH_SIZE : (i + 1) * BATCH_SIZE] = (\n",
    "        batch_y == batch_decision_logits.argmax(axis=1)\n",
    "    )\n",
    "    for key, collector in statistic_collectors.items():\n",
    "        stats[key][i * BATCH_SIZE : (i + 1) * BATCH_SIZE] = (\n",
    "            collector(storage[\"verifier\"]).detach().cpu().numpy()\n",
    "        )"
   ]
  },
  {
   "cell_type": "code",
   "execution_count": 29,
   "metadata": {},
   "outputs": [
    {
     "data": {
      "text/plain": [
       "TensorDict(\n",
       "    fields={\n",
       "        adjacency: Tensor(shape=torch.Size([16, 2, 11, 11]), device=cpu, dtype=torch.int32, is_shared=False),\n",
       "        agents: TensorDict(\n",
       "            fields={\n",
       "                decision_logits: Tensor(shape=torch.Size([16, 2, 3]), device=cpu, dtype=torch.float32, is_shared=False),\n",
       "                graph_level_repr: Tensor(shape=torch.Size([16, 2, 2, 16]), device=cpu, dtype=torch.float32, is_shared=False),\n",
       "                node_level_repr: Tensor(shape=torch.Size([16, 2, 2, 11, 16]), device=cpu, dtype=torch.float32, is_shared=False),\n",
       "                node_selected_logits: Tensor(shape=torch.Size([16, 2, 22]), device=cpu, dtype=torch.float32, is_shared=False)},\n",
       "            batch_size=torch.Size([16]),\n",
       "            device=None,\n",
       "            is_shared=False),\n",
       "        decision_restriction: Tensor(shape=torch.Size([16]), device=cpu, dtype=torch.int64, is_shared=False),\n",
       "        ignore_message: Tensor(shape=torch.Size([16]), device=cpu, dtype=torch.bool, is_shared=False),\n",
       "        message: Tensor(shape=torch.Size([16]), device=cpu, dtype=torch.int64, is_shared=False),\n",
       "        node_mask: Tensor(shape=torch.Size([16, 2, 11]), device=cpu, dtype=torch.bool, is_shared=False),\n",
       "        round: Tensor(shape=torch.Size([16]), device=cpu, dtype=torch.int64, is_shared=False),\n",
       "        wl_score: Tensor(shape=torch.Size([16]), device=cpu, dtype=torch.int32, is_shared=False),\n",
       "        x: Tensor(shape=torch.Size([16, 2, 11, 8]), device=cpu, dtype=torch.float32, is_shared=False),\n",
       "        y: Tensor(shape=torch.Size([16]), device=cpu, dtype=torch.int64, is_shared=False)},\n",
       "    batch_size=torch.Size([16]),\n",
       "    device=None,\n",
       "    is_shared=False)"
      ]
     },
     "execution_count": 29,
     "metadata": {},
     "output_type": "execute_result"
    }
   ],
   "source": [
    "actor_out"
   ]
  },
  {
   "cell_type": "code",
   "execution_count": 30,
   "metadata": {},
   "outputs": [],
   "source": [
    "max_wl_score = torch.max(dataset[\"wl_score\"]).item()"
   ]
  },
  {
   "cell_type": "code",
   "execution_count": 31,
   "metadata": {},
   "outputs": [],
   "source": [
    "means = {}\n",
    "stds = {}\n",
    "raw_data = {}\n",
    "for wl_score in range(-1, max_wl_score + 1):\n",
    "    if wl_score not in dataset[\"wl_score\"]:\n",
    "        means[wl_score] = {key: np.nan for key in stats.keys()}\n",
    "        stds[wl_score] = {key: np.nan for key in stats.keys()}\n",
    "        raw_data[wl_score] = {key: np.empty(0, dtype=np.float32) for key in stats.keys()}\n",
    "        continue\n",
    "    mask = (dataset[\"wl_score\"] == wl_score).numpy()\n",
    "    means[wl_score] = {key: stats[key][mask].mean() for key in stats.keys()}\n",
    "    stds[wl_score] = {key: stats[key][mask].std() for key in stats.keys()}\n",
    "    raw_data[wl_score] = {key: stats[key][mask] for key in stats.keys()}"
   ]
  },
  {
   "cell_type": "code",
   "execution_count": 32,
   "metadata": {},
   "outputs": [
    {
     "data": {
      "text/html": [
       "<pre style=\"white-space:pre;overflow-x:auto;line-height:normal;font-family:Menlo,'DejaVu Sans Mono',consolas,'Courier New',monospace\">┏━━━━━━━┳━━━━━━━━━━━┳━━━━━━━━━━━┳━━━━━━━━━━━┳━━━━━━━━━━━┳━━━━━━━━━━━┳━━━━━━━━━━┳━━━━━━━━━━━┳━━━━━━━━━━┳━━━━━━━━━━━┓\n",
       "┃<span style=\"font-weight: bold\"> Score </span>┃<span style=\"font-weight: bold\"> gnn_outp… </span>┃<span style=\"font-weight: bold\"> gnn_outp… </span>┃<span style=\"font-weight: bold\"> gnn_outp… </span>┃<span style=\"font-weight: bold\"> transfor… </span>┃<span style=\"font-weight: bold\"> transfor… </span>┃<span style=\"font-weight: bold\"> transfo… </span>┃<span style=\"font-weight: bold\"> transfor… </span>┃<span style=\"font-weight: bold\"> node_le… </span>┃<span style=\"font-weight: bold\"> node_lev… </span>┃\n",
       "┡━━━━━━━╇━━━━━━━━━━━╇━━━━━━━━━━━╇━━━━━━━━━━━╇━━━━━━━━━━━╇━━━━━━━━━━━╇━━━━━━━━━━╇━━━━━━━━━━━╇━━━━━━━━━━╇━━━━━━━━━━━┩\n",
       "│ -1    │ -0.0000   │ -0.0000   │ -0.0000   │ -0.0000   │ -0.0000   │ -0.0000  │ -0.0000   │ -0.0000  │ 0.0000    │\n",
       "│ 0     │ nan       │ nan       │ nan       │ nan       │ nan       │ nan      │ nan       │ nan      │ nan       │\n",
       "│ 1     │ 0.0062    │ 0.0062    │ 0.0062    │ 0.0062    │ 0.0052    │ -0.0030  │ 0.0000    │ 0.0000   │ -0.0002   │\n",
       "│ 2     │ 0.0001    │ 0.0001    │ 0.0001    │ 0.0001    │ 0.0001    │ -0.0001  │ -0.0000   │ -0.0000  │ -0.0001   │\n",
       "│ 3     │ -0.0000   │ -0.0000   │ -0.0000   │ -0.0000   │ -0.0000   │ -0.0000  │ -0.0000   │ -0.0000  │ 0.0000    │\n",
       "│ 4     │ -0.0000   │ -0.0000   │ -0.0000   │ -0.0000   │ -0.0000   │ -0.0000  │ -0.0000   │ -0.0000  │ -0.0000   │\n",
       "│ 5     │ -0.0000   │ -0.0000   │ -0.0000   │ -0.0000   │ -0.0000   │ -0.0000  │ 0.0000    │ 0.0000   │ -0.0000   │\n",
       "└───────┴───────────┴───────────┴───────────┴───────────┴───────────┴──────────┴───────────┴──────────┴───────────┘\n",
       "</pre>\n"
      ],
      "text/plain": [
       "┏━━━━━━━┳━━━━━━━━━━━┳━━━━━━━━━━━┳━━━━━━━━━━━┳━━━━━━━━━━━┳━━━━━━━━━━━┳━━━━━━━━━━┳━━━━━━━━━━━┳━━━━━━━━━━┳━━━━━━━━━━━┓\n",
       "┃\u001b[1m \u001b[0m\u001b[1mScore\u001b[0m\u001b[1m \u001b[0m┃\u001b[1m \u001b[0m\u001b[1mgnn_outp…\u001b[0m\u001b[1m \u001b[0m┃\u001b[1m \u001b[0m\u001b[1mgnn_outp…\u001b[0m\u001b[1m \u001b[0m┃\u001b[1m \u001b[0m\u001b[1mgnn_outp…\u001b[0m\u001b[1m \u001b[0m┃\u001b[1m \u001b[0m\u001b[1mtransfor…\u001b[0m\u001b[1m \u001b[0m┃\u001b[1m \u001b[0m\u001b[1mtransfor…\u001b[0m\u001b[1m \u001b[0m┃\u001b[1m \u001b[0m\u001b[1mtransfo…\u001b[0m\u001b[1m \u001b[0m┃\u001b[1m \u001b[0m\u001b[1mtransfor…\u001b[0m\u001b[1m \u001b[0m┃\u001b[1m \u001b[0m\u001b[1mnode_le…\u001b[0m\u001b[1m \u001b[0m┃\u001b[1m \u001b[0m\u001b[1mnode_lev…\u001b[0m\u001b[1m \u001b[0m┃\n",
       "┡━━━━━━━╇━━━━━━━━━━━╇━━━━━━━━━━━╇━━━━━━━━━━━╇━━━━━━━━━━━╇━━━━━━━━━━━╇━━━━━━━━━━╇━━━━━━━━━━━╇━━━━━━━━━━╇━━━━━━━━━━━┩\n",
       "│ -1    │ -0.0000   │ -0.0000   │ -0.0000   │ -0.0000   │ -0.0000   │ -0.0000  │ -0.0000   │ -0.0000  │ 0.0000    │\n",
       "│ 0     │ nan       │ nan       │ nan       │ nan       │ nan       │ nan      │ nan       │ nan      │ nan       │\n",
       "│ 1     │ 0.0062    │ 0.0062    │ 0.0062    │ 0.0062    │ 0.0052    │ -0.0030  │ 0.0000    │ 0.0000   │ -0.0002   │\n",
       "│ 2     │ 0.0001    │ 0.0001    │ 0.0001    │ 0.0001    │ 0.0001    │ -0.0001  │ -0.0000   │ -0.0000  │ -0.0001   │\n",
       "│ 3     │ -0.0000   │ -0.0000   │ -0.0000   │ -0.0000   │ -0.0000   │ -0.0000  │ -0.0000   │ -0.0000  │ 0.0000    │\n",
       "│ 4     │ -0.0000   │ -0.0000   │ -0.0000   │ -0.0000   │ -0.0000   │ -0.0000  │ -0.0000   │ -0.0000  │ -0.0000   │\n",
       "│ 5     │ -0.0000   │ -0.0000   │ -0.0000   │ -0.0000   │ -0.0000   │ -0.0000  │ 0.0000    │ 0.0000   │ -0.0000   │\n",
       "└───────┴───────────┴───────────┴───────────┴───────────┴───────────┴──────────┴───────────┴──────────┴───────────┘\n"
      ]
     },
     "metadata": {},
     "output_type": "display_data"
    }
   ],
   "source": [
    "console = Console()\n",
    "\n",
    "table = Table()\n",
    "table.add_column(\"Score\")\n",
    "for key in stats.keys():\n",
    "    table.add_column(key)\n",
    "\n",
    "for key, mean, std in zip(means.keys(), means.values(), stds.values()):\n",
    "    table.add_row(str(key), *[f\"{mean[key]:.4f}\" for key in stats.keys()])\n",
    "\n",
    "console.print(table)\n"
   ]
  },
  {
   "cell_type": "code",
   "execution_count": 33,
   "metadata": {},
   "outputs": [
    {
     "data": {
      "application/vnd.plotly.v1+json": {
       "config": {
        "plotlyServerURL": "https://plot.ly"
       },
       "data": [
        {
         "error_y": {
          "array": [
           1.4129942371710058e-7,
           null,
           0.1408502161502838,
           0.003442877670750022,
           0.00038799134199507535,
           0.000008431155038124416,
           0
          ],
          "type": "data"
         },
         "type": "scatter",
         "x": [
          -1,
          0,
          1,
          2,
          3,
          4,
          5
         ],
         "y": [
          -9.524635524726932e-10,
          null,
          0.006199064198881388,
          0.00006563876377185807,
          -0.0000010904335567829548,
          -3.619140613864147e-7,
          -1.6763806343078613e-7
         ]
        }
       ],
       "layout": {
        "template": {
         "data": {
          "bar": [
           {
            "error_x": {
             "color": "#2a3f5f"
            },
            "error_y": {
             "color": "#2a3f5f"
            },
            "marker": {
             "line": {
              "color": "#E5ECF6",
              "width": 0.5
             },
             "pattern": {
              "fillmode": "overlay",
              "size": 10,
              "solidity": 0.2
             }
            },
            "type": "bar"
           }
          ],
          "barpolar": [
           {
            "marker": {
             "line": {
              "color": "#E5ECF6",
              "width": 0.5
             },
             "pattern": {
              "fillmode": "overlay",
              "size": 10,
              "solidity": 0.2
             }
            },
            "type": "barpolar"
           }
          ],
          "carpet": [
           {
            "aaxis": {
             "endlinecolor": "#2a3f5f",
             "gridcolor": "white",
             "linecolor": "white",
             "minorgridcolor": "white",
             "startlinecolor": "#2a3f5f"
            },
            "baxis": {
             "endlinecolor": "#2a3f5f",
             "gridcolor": "white",
             "linecolor": "white",
             "minorgridcolor": "white",
             "startlinecolor": "#2a3f5f"
            },
            "type": "carpet"
           }
          ],
          "choropleth": [
           {
            "colorbar": {
             "outlinewidth": 0,
             "ticks": ""
            },
            "type": "choropleth"
           }
          ],
          "contour": [
           {
            "colorbar": {
             "outlinewidth": 0,
             "ticks": ""
            },
            "colorscale": [
             [
              0,
              "#0d0887"
             ],
             [
              0.1111111111111111,
              "#46039f"
             ],
             [
              0.2222222222222222,
              "#7201a8"
             ],
             [
              0.3333333333333333,
              "#9c179e"
             ],
             [
              0.4444444444444444,
              "#bd3786"
             ],
             [
              0.5555555555555556,
              "#d8576b"
             ],
             [
              0.6666666666666666,
              "#ed7953"
             ],
             [
              0.7777777777777778,
              "#fb9f3a"
             ],
             [
              0.8888888888888888,
              "#fdca26"
             ],
             [
              1,
              "#f0f921"
             ]
            ],
            "type": "contour"
           }
          ],
          "contourcarpet": [
           {
            "colorbar": {
             "outlinewidth": 0,
             "ticks": ""
            },
            "type": "contourcarpet"
           }
          ],
          "heatmap": [
           {
            "colorbar": {
             "outlinewidth": 0,
             "ticks": ""
            },
            "colorscale": [
             [
              0,
              "#0d0887"
             ],
             [
              0.1111111111111111,
              "#46039f"
             ],
             [
              0.2222222222222222,
              "#7201a8"
             ],
             [
              0.3333333333333333,
              "#9c179e"
             ],
             [
              0.4444444444444444,
              "#bd3786"
             ],
             [
              0.5555555555555556,
              "#d8576b"
             ],
             [
              0.6666666666666666,
              "#ed7953"
             ],
             [
              0.7777777777777778,
              "#fb9f3a"
             ],
             [
              0.8888888888888888,
              "#fdca26"
             ],
             [
              1,
              "#f0f921"
             ]
            ],
            "type": "heatmap"
           }
          ],
          "heatmapgl": [
           {
            "colorbar": {
             "outlinewidth": 0,
             "ticks": ""
            },
            "colorscale": [
             [
              0,
              "#0d0887"
             ],
             [
              0.1111111111111111,
              "#46039f"
             ],
             [
              0.2222222222222222,
              "#7201a8"
             ],
             [
              0.3333333333333333,
              "#9c179e"
             ],
             [
              0.4444444444444444,
              "#bd3786"
             ],
             [
              0.5555555555555556,
              "#d8576b"
             ],
             [
              0.6666666666666666,
              "#ed7953"
             ],
             [
              0.7777777777777778,
              "#fb9f3a"
             ],
             [
              0.8888888888888888,
              "#fdca26"
             ],
             [
              1,
              "#f0f921"
             ]
            ],
            "type": "heatmapgl"
           }
          ],
          "histogram": [
           {
            "marker": {
             "pattern": {
              "fillmode": "overlay",
              "size": 10,
              "solidity": 0.2
             }
            },
            "type": "histogram"
           }
          ],
          "histogram2d": [
           {
            "colorbar": {
             "outlinewidth": 0,
             "ticks": ""
            },
            "colorscale": [
             [
              0,
              "#0d0887"
             ],
             [
              0.1111111111111111,
              "#46039f"
             ],
             [
              0.2222222222222222,
              "#7201a8"
             ],
             [
              0.3333333333333333,
              "#9c179e"
             ],
             [
              0.4444444444444444,
              "#bd3786"
             ],
             [
              0.5555555555555556,
              "#d8576b"
             ],
             [
              0.6666666666666666,
              "#ed7953"
             ],
             [
              0.7777777777777778,
              "#fb9f3a"
             ],
             [
              0.8888888888888888,
              "#fdca26"
             ],
             [
              1,
              "#f0f921"
             ]
            ],
            "type": "histogram2d"
           }
          ],
          "histogram2dcontour": [
           {
            "colorbar": {
             "outlinewidth": 0,
             "ticks": ""
            },
            "colorscale": [
             [
              0,
              "#0d0887"
             ],
             [
              0.1111111111111111,
              "#46039f"
             ],
             [
              0.2222222222222222,
              "#7201a8"
             ],
             [
              0.3333333333333333,
              "#9c179e"
             ],
             [
              0.4444444444444444,
              "#bd3786"
             ],
             [
              0.5555555555555556,
              "#d8576b"
             ],
             [
              0.6666666666666666,
              "#ed7953"
             ],
             [
              0.7777777777777778,
              "#fb9f3a"
             ],
             [
              0.8888888888888888,
              "#fdca26"
             ],
             [
              1,
              "#f0f921"
             ]
            ],
            "type": "histogram2dcontour"
           }
          ],
          "mesh3d": [
           {
            "colorbar": {
             "outlinewidth": 0,
             "ticks": ""
            },
            "type": "mesh3d"
           }
          ],
          "parcoords": [
           {
            "line": {
             "colorbar": {
              "outlinewidth": 0,
              "ticks": ""
             }
            },
            "type": "parcoords"
           }
          ],
          "pie": [
           {
            "automargin": true,
            "type": "pie"
           }
          ],
          "scatter": [
           {
            "fillpattern": {
             "fillmode": "overlay",
             "size": 10,
             "solidity": 0.2
            },
            "type": "scatter"
           }
          ],
          "scatter3d": [
           {
            "line": {
             "colorbar": {
              "outlinewidth": 0,
              "ticks": ""
             }
            },
            "marker": {
             "colorbar": {
              "outlinewidth": 0,
              "ticks": ""
             }
            },
            "type": "scatter3d"
           }
          ],
          "scattercarpet": [
           {
            "marker": {
             "colorbar": {
              "outlinewidth": 0,
              "ticks": ""
             }
            },
            "type": "scattercarpet"
           }
          ],
          "scattergeo": [
           {
            "marker": {
             "colorbar": {
              "outlinewidth": 0,
              "ticks": ""
             }
            },
            "type": "scattergeo"
           }
          ],
          "scattergl": [
           {
            "marker": {
             "colorbar": {
              "outlinewidth": 0,
              "ticks": ""
             }
            },
            "type": "scattergl"
           }
          ],
          "scattermapbox": [
           {
            "marker": {
             "colorbar": {
              "outlinewidth": 0,
              "ticks": ""
             }
            },
            "type": "scattermapbox"
           }
          ],
          "scatterpolar": [
           {
            "marker": {
             "colorbar": {
              "outlinewidth": 0,
              "ticks": ""
             }
            },
            "type": "scatterpolar"
           }
          ],
          "scatterpolargl": [
           {
            "marker": {
             "colorbar": {
              "outlinewidth": 0,
              "ticks": ""
             }
            },
            "type": "scatterpolargl"
           }
          ],
          "scatterternary": [
           {
            "marker": {
             "colorbar": {
              "outlinewidth": 0,
              "ticks": ""
             }
            },
            "type": "scatterternary"
           }
          ],
          "surface": [
           {
            "colorbar": {
             "outlinewidth": 0,
             "ticks": ""
            },
            "colorscale": [
             [
              0,
              "#0d0887"
             ],
             [
              0.1111111111111111,
              "#46039f"
             ],
             [
              0.2222222222222222,
              "#7201a8"
             ],
             [
              0.3333333333333333,
              "#9c179e"
             ],
             [
              0.4444444444444444,
              "#bd3786"
             ],
             [
              0.5555555555555556,
              "#d8576b"
             ],
             [
              0.6666666666666666,
              "#ed7953"
             ],
             [
              0.7777777777777778,
              "#fb9f3a"
             ],
             [
              0.8888888888888888,
              "#fdca26"
             ],
             [
              1,
              "#f0f921"
             ]
            ],
            "type": "surface"
           }
          ],
          "table": [
           {
            "cells": {
             "fill": {
              "color": "#EBF0F8"
             },
             "line": {
              "color": "white"
             }
            },
            "header": {
             "fill": {
              "color": "#C8D4E3"
             },
             "line": {
              "color": "white"
             }
            },
            "type": "table"
           }
          ]
         },
         "layout": {
          "annotationdefaults": {
           "arrowcolor": "#2a3f5f",
           "arrowhead": 0,
           "arrowwidth": 1
          },
          "autotypenumbers": "strict",
          "coloraxis": {
           "colorbar": {
            "outlinewidth": 0,
            "ticks": ""
           }
          },
          "colorscale": {
           "diverging": [
            [
             0,
             "#8e0152"
            ],
            [
             0.1,
             "#c51b7d"
            ],
            [
             0.2,
             "#de77ae"
            ],
            [
             0.3,
             "#f1b6da"
            ],
            [
             0.4,
             "#fde0ef"
            ],
            [
             0.5,
             "#f7f7f7"
            ],
            [
             0.6,
             "#e6f5d0"
            ],
            [
             0.7,
             "#b8e186"
            ],
            [
             0.8,
             "#7fbc41"
            ],
            [
             0.9,
             "#4d9221"
            ],
            [
             1,
             "#276419"
            ]
           ],
           "sequential": [
            [
             0,
             "#0d0887"
            ],
            [
             0.1111111111111111,
             "#46039f"
            ],
            [
             0.2222222222222222,
             "#7201a8"
            ],
            [
             0.3333333333333333,
             "#9c179e"
            ],
            [
             0.4444444444444444,
             "#bd3786"
            ],
            [
             0.5555555555555556,
             "#d8576b"
            ],
            [
             0.6666666666666666,
             "#ed7953"
            ],
            [
             0.7777777777777778,
             "#fb9f3a"
            ],
            [
             0.8888888888888888,
             "#fdca26"
            ],
            [
             1,
             "#f0f921"
            ]
           ],
           "sequentialminus": [
            [
             0,
             "#0d0887"
            ],
            [
             0.1111111111111111,
             "#46039f"
            ],
            [
             0.2222222222222222,
             "#7201a8"
            ],
            [
             0.3333333333333333,
             "#9c179e"
            ],
            [
             0.4444444444444444,
             "#bd3786"
            ],
            [
             0.5555555555555556,
             "#d8576b"
            ],
            [
             0.6666666666666666,
             "#ed7953"
            ],
            [
             0.7777777777777778,
             "#fb9f3a"
            ],
            [
             0.8888888888888888,
             "#fdca26"
            ],
            [
             1,
             "#f0f921"
            ]
           ]
          },
          "colorway": [
           "#636efa",
           "#EF553B",
           "#00cc96",
           "#ab63fa",
           "#FFA15A",
           "#19d3f3",
           "#FF6692",
           "#B6E880",
           "#FF97FF",
           "#FECB52"
          ],
          "font": {
           "color": "#2a3f5f"
          },
          "geo": {
           "bgcolor": "white",
           "lakecolor": "white",
           "landcolor": "#E5ECF6",
           "showlakes": true,
           "showland": true,
           "subunitcolor": "white"
          },
          "hoverlabel": {
           "align": "left"
          },
          "hovermode": "closest",
          "mapbox": {
           "style": "light"
          },
          "paper_bgcolor": "white",
          "plot_bgcolor": "#E5ECF6",
          "polar": {
           "angularaxis": {
            "gridcolor": "white",
            "linecolor": "white",
            "ticks": ""
           },
           "bgcolor": "#E5ECF6",
           "radialaxis": {
            "gridcolor": "white",
            "linecolor": "white",
            "ticks": ""
           }
          },
          "scene": {
           "xaxis": {
            "backgroundcolor": "#E5ECF6",
            "gridcolor": "white",
            "gridwidth": 2,
            "linecolor": "white",
            "showbackground": true,
            "ticks": "",
            "zerolinecolor": "white"
           },
           "yaxis": {
            "backgroundcolor": "#E5ECF6",
            "gridcolor": "white",
            "gridwidth": 2,
            "linecolor": "white",
            "showbackground": true,
            "ticks": "",
            "zerolinecolor": "white"
           },
           "zaxis": {
            "backgroundcolor": "#E5ECF6",
            "gridcolor": "white",
            "gridwidth": 2,
            "linecolor": "white",
            "showbackground": true,
            "ticks": "",
            "zerolinecolor": "white"
           }
          },
          "shapedefaults": {
           "line": {
            "color": "#2a3f5f"
           }
          },
          "ternary": {
           "aaxis": {
            "gridcolor": "white",
            "linecolor": "white",
            "ticks": ""
           },
           "baxis": {
            "gridcolor": "white",
            "linecolor": "white",
            "ticks": ""
           },
           "bgcolor": "#E5ECF6",
           "caxis": {
            "gridcolor": "white",
            "linecolor": "white",
            "ticks": ""
           }
          },
          "title": {
           "x": 0.05
          },
          "xaxis": {
           "automargin": true,
           "gridcolor": "white",
           "linecolor": "white",
           "ticks": "",
           "title": {
            "standoff": 15
           },
           "zerolinecolor": "white",
           "zerolinewidth": 2
          },
          "yaxis": {
           "automargin": true,
           "gridcolor": "white",
           "linecolor": "white",
           "ticks": "",
           "title": {
            "standoff": 15
           },
           "zerolinecolor": "white",
           "zerolinewidth": 2
          }
         }
        },
        "title": {
         "text": "gnn_output_mean"
        },
        "xaxis": {
         "title": {
          "text": "wl_score"
         }
        },
        "yaxis": {
         "title": {
          "text": "Mean"
         }
        }
       }
      }
     },
     "metadata": {},
     "output_type": "display_data"
    }
   ],
   "source": [
    "gnn_output_mean = np.array([means[wl_score][\"gnn_output\"] for wl_score in range(-1, max_wl_score + 1)])\n",
    "gnn_output_std = np.array([stds[wl_score][\"gnn_output\"] for wl_score in range(-1, max_wl_score + 1)])\n",
    "x = list(range(-1, max_wl_score + 1))\n",
    "\n",
    "fig = go.Figure(data=go.Scatter(x=x, y=gnn_output_mean, error_y=dict(type='data', array=gnn_output_std)))\n",
    "fig.update_layout(title=\"gnn_output_mean\", xaxis_title=\"wl_score\", yaxis_title=\"Mean\")\n",
    "fig.show()"
   ]
  },
  {
   "cell_type": "code",
   "execution_count": 34,
   "metadata": {},
   "outputs": [
    {
     "data": {
      "application/vnd.plotly.v1+json": {
       "config": {
        "plotlyServerURL": "https://plot.ly"
       },
       "data": [
        {
         "error_y": {
          "array": [
           1.4129942371710058e-7,
           null,
           0.1408502161502838,
           0.003442877670750022,
           0.00038799134199507535,
           0.000008431155038124416,
           0
          ],
          "type": "data"
         },
         "type": "scatter",
         "x": [
          -1,
          0,
          1,
          2,
          3,
          4,
          5
         ],
         "y": [
          -9.524635524726932e-10,
          null,
          0.006199064198881388,
          0.00006563876377185807,
          -0.0000010904335567829548,
          -3.619140613864147e-7,
          -1.6763806343078613e-7
         ]
        }
       ],
       "layout": {
        "template": {
         "data": {
          "bar": [
           {
            "error_x": {
             "color": "#2a3f5f"
            },
            "error_y": {
             "color": "#2a3f5f"
            },
            "marker": {
             "line": {
              "color": "#E5ECF6",
              "width": 0.5
             },
             "pattern": {
              "fillmode": "overlay",
              "size": 10,
              "solidity": 0.2
             }
            },
            "type": "bar"
           }
          ],
          "barpolar": [
           {
            "marker": {
             "line": {
              "color": "#E5ECF6",
              "width": 0.5
             },
             "pattern": {
              "fillmode": "overlay",
              "size": 10,
              "solidity": 0.2
             }
            },
            "type": "barpolar"
           }
          ],
          "carpet": [
           {
            "aaxis": {
             "endlinecolor": "#2a3f5f",
             "gridcolor": "white",
             "linecolor": "white",
             "minorgridcolor": "white",
             "startlinecolor": "#2a3f5f"
            },
            "baxis": {
             "endlinecolor": "#2a3f5f",
             "gridcolor": "white",
             "linecolor": "white",
             "minorgridcolor": "white",
             "startlinecolor": "#2a3f5f"
            },
            "type": "carpet"
           }
          ],
          "choropleth": [
           {
            "colorbar": {
             "outlinewidth": 0,
             "ticks": ""
            },
            "type": "choropleth"
           }
          ],
          "contour": [
           {
            "colorbar": {
             "outlinewidth": 0,
             "ticks": ""
            },
            "colorscale": [
             [
              0,
              "#0d0887"
             ],
             [
              0.1111111111111111,
              "#46039f"
             ],
             [
              0.2222222222222222,
              "#7201a8"
             ],
             [
              0.3333333333333333,
              "#9c179e"
             ],
             [
              0.4444444444444444,
              "#bd3786"
             ],
             [
              0.5555555555555556,
              "#d8576b"
             ],
             [
              0.6666666666666666,
              "#ed7953"
             ],
             [
              0.7777777777777778,
              "#fb9f3a"
             ],
             [
              0.8888888888888888,
              "#fdca26"
             ],
             [
              1,
              "#f0f921"
             ]
            ],
            "type": "contour"
           }
          ],
          "contourcarpet": [
           {
            "colorbar": {
             "outlinewidth": 0,
             "ticks": ""
            },
            "type": "contourcarpet"
           }
          ],
          "heatmap": [
           {
            "colorbar": {
             "outlinewidth": 0,
             "ticks": ""
            },
            "colorscale": [
             [
              0,
              "#0d0887"
             ],
             [
              0.1111111111111111,
              "#46039f"
             ],
             [
              0.2222222222222222,
              "#7201a8"
             ],
             [
              0.3333333333333333,
              "#9c179e"
             ],
             [
              0.4444444444444444,
              "#bd3786"
             ],
             [
              0.5555555555555556,
              "#d8576b"
             ],
             [
              0.6666666666666666,
              "#ed7953"
             ],
             [
              0.7777777777777778,
              "#fb9f3a"
             ],
             [
              0.8888888888888888,
              "#fdca26"
             ],
             [
              1,
              "#f0f921"
             ]
            ],
            "type": "heatmap"
           }
          ],
          "heatmapgl": [
           {
            "colorbar": {
             "outlinewidth": 0,
             "ticks": ""
            },
            "colorscale": [
             [
              0,
              "#0d0887"
             ],
             [
              0.1111111111111111,
              "#46039f"
             ],
             [
              0.2222222222222222,
              "#7201a8"
             ],
             [
              0.3333333333333333,
              "#9c179e"
             ],
             [
              0.4444444444444444,
              "#bd3786"
             ],
             [
              0.5555555555555556,
              "#d8576b"
             ],
             [
              0.6666666666666666,
              "#ed7953"
             ],
             [
              0.7777777777777778,
              "#fb9f3a"
             ],
             [
              0.8888888888888888,
              "#fdca26"
             ],
             [
              1,
              "#f0f921"
             ]
            ],
            "type": "heatmapgl"
           }
          ],
          "histogram": [
           {
            "marker": {
             "pattern": {
              "fillmode": "overlay",
              "size": 10,
              "solidity": 0.2
             }
            },
            "type": "histogram"
           }
          ],
          "histogram2d": [
           {
            "colorbar": {
             "outlinewidth": 0,
             "ticks": ""
            },
            "colorscale": [
             [
              0,
              "#0d0887"
             ],
             [
              0.1111111111111111,
              "#46039f"
             ],
             [
              0.2222222222222222,
              "#7201a8"
             ],
             [
              0.3333333333333333,
              "#9c179e"
             ],
             [
              0.4444444444444444,
              "#bd3786"
             ],
             [
              0.5555555555555556,
              "#d8576b"
             ],
             [
              0.6666666666666666,
              "#ed7953"
             ],
             [
              0.7777777777777778,
              "#fb9f3a"
             ],
             [
              0.8888888888888888,
              "#fdca26"
             ],
             [
              1,
              "#f0f921"
             ]
            ],
            "type": "histogram2d"
           }
          ],
          "histogram2dcontour": [
           {
            "colorbar": {
             "outlinewidth": 0,
             "ticks": ""
            },
            "colorscale": [
             [
              0,
              "#0d0887"
             ],
             [
              0.1111111111111111,
              "#46039f"
             ],
             [
              0.2222222222222222,
              "#7201a8"
             ],
             [
              0.3333333333333333,
              "#9c179e"
             ],
             [
              0.4444444444444444,
              "#bd3786"
             ],
             [
              0.5555555555555556,
              "#d8576b"
             ],
             [
              0.6666666666666666,
              "#ed7953"
             ],
             [
              0.7777777777777778,
              "#fb9f3a"
             ],
             [
              0.8888888888888888,
              "#fdca26"
             ],
             [
              1,
              "#f0f921"
             ]
            ],
            "type": "histogram2dcontour"
           }
          ],
          "mesh3d": [
           {
            "colorbar": {
             "outlinewidth": 0,
             "ticks": ""
            },
            "type": "mesh3d"
           }
          ],
          "parcoords": [
           {
            "line": {
             "colorbar": {
              "outlinewidth": 0,
              "ticks": ""
             }
            },
            "type": "parcoords"
           }
          ],
          "pie": [
           {
            "automargin": true,
            "type": "pie"
           }
          ],
          "scatter": [
           {
            "fillpattern": {
             "fillmode": "overlay",
             "size": 10,
             "solidity": 0.2
            },
            "type": "scatter"
           }
          ],
          "scatter3d": [
           {
            "line": {
             "colorbar": {
              "outlinewidth": 0,
              "ticks": ""
             }
            },
            "marker": {
             "colorbar": {
              "outlinewidth": 0,
              "ticks": ""
             }
            },
            "type": "scatter3d"
           }
          ],
          "scattercarpet": [
           {
            "marker": {
             "colorbar": {
              "outlinewidth": 0,
              "ticks": ""
             }
            },
            "type": "scattercarpet"
           }
          ],
          "scattergeo": [
           {
            "marker": {
             "colorbar": {
              "outlinewidth": 0,
              "ticks": ""
             }
            },
            "type": "scattergeo"
           }
          ],
          "scattergl": [
           {
            "marker": {
             "colorbar": {
              "outlinewidth": 0,
              "ticks": ""
             }
            },
            "type": "scattergl"
           }
          ],
          "scattermapbox": [
           {
            "marker": {
             "colorbar": {
              "outlinewidth": 0,
              "ticks": ""
             }
            },
            "type": "scattermapbox"
           }
          ],
          "scatterpolar": [
           {
            "marker": {
             "colorbar": {
              "outlinewidth": 0,
              "ticks": ""
             }
            },
            "type": "scatterpolar"
           }
          ],
          "scatterpolargl": [
           {
            "marker": {
             "colorbar": {
              "outlinewidth": 0,
              "ticks": ""
             }
            },
            "type": "scatterpolargl"
           }
          ],
          "scatterternary": [
           {
            "marker": {
             "colorbar": {
              "outlinewidth": 0,
              "ticks": ""
             }
            },
            "type": "scatterternary"
           }
          ],
          "surface": [
           {
            "colorbar": {
             "outlinewidth": 0,
             "ticks": ""
            },
            "colorscale": [
             [
              0,
              "#0d0887"
             ],
             [
              0.1111111111111111,
              "#46039f"
             ],
             [
              0.2222222222222222,
              "#7201a8"
             ],
             [
              0.3333333333333333,
              "#9c179e"
             ],
             [
              0.4444444444444444,
              "#bd3786"
             ],
             [
              0.5555555555555556,
              "#d8576b"
             ],
             [
              0.6666666666666666,
              "#ed7953"
             ],
             [
              0.7777777777777778,
              "#fb9f3a"
             ],
             [
              0.8888888888888888,
              "#fdca26"
             ],
             [
              1,
              "#f0f921"
             ]
            ],
            "type": "surface"
           }
          ],
          "table": [
           {
            "cells": {
             "fill": {
              "color": "#EBF0F8"
             },
             "line": {
              "color": "white"
             }
            },
            "header": {
             "fill": {
              "color": "#C8D4E3"
             },
             "line": {
              "color": "white"
             }
            },
            "type": "table"
           }
          ]
         },
         "layout": {
          "annotationdefaults": {
           "arrowcolor": "#2a3f5f",
           "arrowhead": 0,
           "arrowwidth": 1
          },
          "autotypenumbers": "strict",
          "coloraxis": {
           "colorbar": {
            "outlinewidth": 0,
            "ticks": ""
           }
          },
          "colorscale": {
           "diverging": [
            [
             0,
             "#8e0152"
            ],
            [
             0.1,
             "#c51b7d"
            ],
            [
             0.2,
             "#de77ae"
            ],
            [
             0.3,
             "#f1b6da"
            ],
            [
             0.4,
             "#fde0ef"
            ],
            [
             0.5,
             "#f7f7f7"
            ],
            [
             0.6,
             "#e6f5d0"
            ],
            [
             0.7,
             "#b8e186"
            ],
            [
             0.8,
             "#7fbc41"
            ],
            [
             0.9,
             "#4d9221"
            ],
            [
             1,
             "#276419"
            ]
           ],
           "sequential": [
            [
             0,
             "#0d0887"
            ],
            [
             0.1111111111111111,
             "#46039f"
            ],
            [
             0.2222222222222222,
             "#7201a8"
            ],
            [
             0.3333333333333333,
             "#9c179e"
            ],
            [
             0.4444444444444444,
             "#bd3786"
            ],
            [
             0.5555555555555556,
             "#d8576b"
            ],
            [
             0.6666666666666666,
             "#ed7953"
            ],
            [
             0.7777777777777778,
             "#fb9f3a"
            ],
            [
             0.8888888888888888,
             "#fdca26"
            ],
            [
             1,
             "#f0f921"
            ]
           ],
           "sequentialminus": [
            [
             0,
             "#0d0887"
            ],
            [
             0.1111111111111111,
             "#46039f"
            ],
            [
             0.2222222222222222,
             "#7201a8"
            ],
            [
             0.3333333333333333,
             "#9c179e"
            ],
            [
             0.4444444444444444,
             "#bd3786"
            ],
            [
             0.5555555555555556,
             "#d8576b"
            ],
            [
             0.6666666666666666,
             "#ed7953"
            ],
            [
             0.7777777777777778,
             "#fb9f3a"
            ],
            [
             0.8888888888888888,
             "#fdca26"
            ],
            [
             1,
             "#f0f921"
            ]
           ]
          },
          "colorway": [
           "#636efa",
           "#EF553B",
           "#00cc96",
           "#ab63fa",
           "#FFA15A",
           "#19d3f3",
           "#FF6692",
           "#B6E880",
           "#FF97FF",
           "#FECB52"
          ],
          "font": {
           "color": "#2a3f5f"
          },
          "geo": {
           "bgcolor": "white",
           "lakecolor": "white",
           "landcolor": "#E5ECF6",
           "showlakes": true,
           "showland": true,
           "subunitcolor": "white"
          },
          "hoverlabel": {
           "align": "left"
          },
          "hovermode": "closest",
          "mapbox": {
           "style": "light"
          },
          "paper_bgcolor": "white",
          "plot_bgcolor": "#E5ECF6",
          "polar": {
           "angularaxis": {
            "gridcolor": "white",
            "linecolor": "white",
            "ticks": ""
           },
           "bgcolor": "#E5ECF6",
           "radialaxis": {
            "gridcolor": "white",
            "linecolor": "white",
            "ticks": ""
           }
          },
          "scene": {
           "xaxis": {
            "backgroundcolor": "#E5ECF6",
            "gridcolor": "white",
            "gridwidth": 2,
            "linecolor": "white",
            "showbackground": true,
            "ticks": "",
            "zerolinecolor": "white"
           },
           "yaxis": {
            "backgroundcolor": "#E5ECF6",
            "gridcolor": "white",
            "gridwidth": 2,
            "linecolor": "white",
            "showbackground": true,
            "ticks": "",
            "zerolinecolor": "white"
           },
           "zaxis": {
            "backgroundcolor": "#E5ECF6",
            "gridcolor": "white",
            "gridwidth": 2,
            "linecolor": "white",
            "showbackground": true,
            "ticks": "",
            "zerolinecolor": "white"
           }
          },
          "shapedefaults": {
           "line": {
            "color": "#2a3f5f"
           }
          },
          "ternary": {
           "aaxis": {
            "gridcolor": "white",
            "linecolor": "white",
            "ticks": ""
           },
           "baxis": {
            "gridcolor": "white",
            "linecolor": "white",
            "ticks": ""
           },
           "bgcolor": "#E5ECF6",
           "caxis": {
            "gridcolor": "white",
            "linecolor": "white",
            "ticks": ""
           }
          },
          "title": {
           "x": 0.05
          },
          "xaxis": {
           "automargin": true,
           "gridcolor": "white",
           "linecolor": "white",
           "ticks": "",
           "title": {
            "standoff": 15
           },
           "zerolinecolor": "white",
           "zerolinewidth": 2
          },
          "yaxis": {
           "automargin": true,
           "gridcolor": "white",
           "linecolor": "white",
           "ticks": "",
           "title": {
            "standoff": 15
           },
           "zerolinecolor": "white",
           "zerolinewidth": 2
          }
         }
        },
        "title": {
         "text": "gnn_output_rounded_mean"
        },
        "xaxis": {
         "title": {
          "text": "wl_score"
         }
        },
        "yaxis": {
         "title": {
          "text": "Mean"
         }
        }
       }
      }
     },
     "metadata": {},
     "output_type": "display_data"
    }
   ],
   "source": [
    "gnn_output_rounded_mean = np.array([means[wl_score][\"gnn_output_rounded\"] for wl_score in range(-1, max_wl_score + 1)])\n",
    "gnn_output_rounded_std = np.array([stds[wl_score][\"gnn_output_rounded\"] for wl_score in range(-1, max_wl_score + 1)])\n",
    "x = list(range(-1, max_wl_score + 1))\n",
    "\n",
    "fig = go.Figure(data=go.Scatter(x=x, y=gnn_output_rounded_mean, error_y=dict(type='data', array=gnn_output_rounded_std)))\n",
    "fig.update_layout(title=\"gnn_output_rounded_mean\", xaxis_title=\"wl_score\", yaxis_title=\"Mean\")\n",
    "fig.show()"
   ]
  },
  {
   "cell_type": "code",
   "execution_count": 35,
   "metadata": {},
   "outputs": [
    {
     "data": {
      "application/vnd.plotly.v1+json": {
       "config": {
        "plotlyServerURL": "https://plot.ly"
       },
       "data": [
        {
         "error_y": {
          "array": [
           2.0149907697941671e-7,
           null,
           2.0799778610580688e-7,
           2.017109750340751e-7,
           2.0484706908519001e-7,
           2.0268456069061358e-7,
           0
          ],
          "type": "data"
         },
         "type": "scatter",
         "x": [
          -1,
          0,
          1,
          2,
          3,
          4,
          5
         ],
         "y": [
          -4.587144886158967e-9,
          null,
          3.4179539198930797e-9,
          -6.362679272342575e-9,
          -2.654900077558864e-9,
          -2.8345366942517103e-8,
          7.450580596923828e-8
         ]
        }
       ],
       "layout": {
        "template": {
         "data": {
          "bar": [
           {
            "error_x": {
             "color": "#2a3f5f"
            },
            "error_y": {
             "color": "#2a3f5f"
            },
            "marker": {
             "line": {
              "color": "#E5ECF6",
              "width": 0.5
             },
             "pattern": {
              "fillmode": "overlay",
              "size": 10,
              "solidity": 0.2
             }
            },
            "type": "bar"
           }
          ],
          "barpolar": [
           {
            "marker": {
             "line": {
              "color": "#E5ECF6",
              "width": 0.5
             },
             "pattern": {
              "fillmode": "overlay",
              "size": 10,
              "solidity": 0.2
             }
            },
            "type": "barpolar"
           }
          ],
          "carpet": [
           {
            "aaxis": {
             "endlinecolor": "#2a3f5f",
             "gridcolor": "white",
             "linecolor": "white",
             "minorgridcolor": "white",
             "startlinecolor": "#2a3f5f"
            },
            "baxis": {
             "endlinecolor": "#2a3f5f",
             "gridcolor": "white",
             "linecolor": "white",
             "minorgridcolor": "white",
             "startlinecolor": "#2a3f5f"
            },
            "type": "carpet"
           }
          ],
          "choropleth": [
           {
            "colorbar": {
             "outlinewidth": 0,
             "ticks": ""
            },
            "type": "choropleth"
           }
          ],
          "contour": [
           {
            "colorbar": {
             "outlinewidth": 0,
             "ticks": ""
            },
            "colorscale": [
             [
              0,
              "#0d0887"
             ],
             [
              0.1111111111111111,
              "#46039f"
             ],
             [
              0.2222222222222222,
              "#7201a8"
             ],
             [
              0.3333333333333333,
              "#9c179e"
             ],
             [
              0.4444444444444444,
              "#bd3786"
             ],
             [
              0.5555555555555556,
              "#d8576b"
             ],
             [
              0.6666666666666666,
              "#ed7953"
             ],
             [
              0.7777777777777778,
              "#fb9f3a"
             ],
             [
              0.8888888888888888,
              "#fdca26"
             ],
             [
              1,
              "#f0f921"
             ]
            ],
            "type": "contour"
           }
          ],
          "contourcarpet": [
           {
            "colorbar": {
             "outlinewidth": 0,
             "ticks": ""
            },
            "type": "contourcarpet"
           }
          ],
          "heatmap": [
           {
            "colorbar": {
             "outlinewidth": 0,
             "ticks": ""
            },
            "colorscale": [
             [
              0,
              "#0d0887"
             ],
             [
              0.1111111111111111,
              "#46039f"
             ],
             [
              0.2222222222222222,
              "#7201a8"
             ],
             [
              0.3333333333333333,
              "#9c179e"
             ],
             [
              0.4444444444444444,
              "#bd3786"
             ],
             [
              0.5555555555555556,
              "#d8576b"
             ],
             [
              0.6666666666666666,
              "#ed7953"
             ],
             [
              0.7777777777777778,
              "#fb9f3a"
             ],
             [
              0.8888888888888888,
              "#fdca26"
             ],
             [
              1,
              "#f0f921"
             ]
            ],
            "type": "heatmap"
           }
          ],
          "heatmapgl": [
           {
            "colorbar": {
             "outlinewidth": 0,
             "ticks": ""
            },
            "colorscale": [
             [
              0,
              "#0d0887"
             ],
             [
              0.1111111111111111,
              "#46039f"
             ],
             [
              0.2222222222222222,
              "#7201a8"
             ],
             [
              0.3333333333333333,
              "#9c179e"
             ],
             [
              0.4444444444444444,
              "#bd3786"
             ],
             [
              0.5555555555555556,
              "#d8576b"
             ],
             [
              0.6666666666666666,
              "#ed7953"
             ],
             [
              0.7777777777777778,
              "#fb9f3a"
             ],
             [
              0.8888888888888888,
              "#fdca26"
             ],
             [
              1,
              "#f0f921"
             ]
            ],
            "type": "heatmapgl"
           }
          ],
          "histogram": [
           {
            "marker": {
             "pattern": {
              "fillmode": "overlay",
              "size": 10,
              "solidity": 0.2
             }
            },
            "type": "histogram"
           }
          ],
          "histogram2d": [
           {
            "colorbar": {
             "outlinewidth": 0,
             "ticks": ""
            },
            "colorscale": [
             [
              0,
              "#0d0887"
             ],
             [
              0.1111111111111111,
              "#46039f"
             ],
             [
              0.2222222222222222,
              "#7201a8"
             ],
             [
              0.3333333333333333,
              "#9c179e"
             ],
             [
              0.4444444444444444,
              "#bd3786"
             ],
             [
              0.5555555555555556,
              "#d8576b"
             ],
             [
              0.6666666666666666,
              "#ed7953"
             ],
             [
              0.7777777777777778,
              "#fb9f3a"
             ],
             [
              0.8888888888888888,
              "#fdca26"
             ],
             [
              1,
              "#f0f921"
             ]
            ],
            "type": "histogram2d"
           }
          ],
          "histogram2dcontour": [
           {
            "colorbar": {
             "outlinewidth": 0,
             "ticks": ""
            },
            "colorscale": [
             [
              0,
              "#0d0887"
             ],
             [
              0.1111111111111111,
              "#46039f"
             ],
             [
              0.2222222222222222,
              "#7201a8"
             ],
             [
              0.3333333333333333,
              "#9c179e"
             ],
             [
              0.4444444444444444,
              "#bd3786"
             ],
             [
              0.5555555555555556,
              "#d8576b"
             ],
             [
              0.6666666666666666,
              "#ed7953"
             ],
             [
              0.7777777777777778,
              "#fb9f3a"
             ],
             [
              0.8888888888888888,
              "#fdca26"
             ],
             [
              1,
              "#f0f921"
             ]
            ],
            "type": "histogram2dcontour"
           }
          ],
          "mesh3d": [
           {
            "colorbar": {
             "outlinewidth": 0,
             "ticks": ""
            },
            "type": "mesh3d"
           }
          ],
          "parcoords": [
           {
            "line": {
             "colorbar": {
              "outlinewidth": 0,
              "ticks": ""
             }
            },
            "type": "parcoords"
           }
          ],
          "pie": [
           {
            "automargin": true,
            "type": "pie"
           }
          ],
          "scatter": [
           {
            "fillpattern": {
             "fillmode": "overlay",
             "size": 10,
             "solidity": 0.2
            },
            "type": "scatter"
           }
          ],
          "scatter3d": [
           {
            "line": {
             "colorbar": {
              "outlinewidth": 0,
              "ticks": ""
             }
            },
            "marker": {
             "colorbar": {
              "outlinewidth": 0,
              "ticks": ""
             }
            },
            "type": "scatter3d"
           }
          ],
          "scattercarpet": [
           {
            "marker": {
             "colorbar": {
              "outlinewidth": 0,
              "ticks": ""
             }
            },
            "type": "scattercarpet"
           }
          ],
          "scattergeo": [
           {
            "marker": {
             "colorbar": {
              "outlinewidth": 0,
              "ticks": ""
             }
            },
            "type": "scattergeo"
           }
          ],
          "scattergl": [
           {
            "marker": {
             "colorbar": {
              "outlinewidth": 0,
              "ticks": ""
             }
            },
            "type": "scattergl"
           }
          ],
          "scattermapbox": [
           {
            "marker": {
             "colorbar": {
              "outlinewidth": 0,
              "ticks": ""
             }
            },
            "type": "scattermapbox"
           }
          ],
          "scatterpolar": [
           {
            "marker": {
             "colorbar": {
              "outlinewidth": 0,
              "ticks": ""
             }
            },
            "type": "scatterpolar"
           }
          ],
          "scatterpolargl": [
           {
            "marker": {
             "colorbar": {
              "outlinewidth": 0,
              "ticks": ""
             }
            },
            "type": "scatterpolargl"
           }
          ],
          "scatterternary": [
           {
            "marker": {
             "colorbar": {
              "outlinewidth": 0,
              "ticks": ""
             }
            },
            "type": "scatterternary"
           }
          ],
          "surface": [
           {
            "colorbar": {
             "outlinewidth": 0,
             "ticks": ""
            },
            "colorscale": [
             [
              0,
              "#0d0887"
             ],
             [
              0.1111111111111111,
              "#46039f"
             ],
             [
              0.2222222222222222,
              "#7201a8"
             ],
             [
              0.3333333333333333,
              "#9c179e"
             ],
             [
              0.4444444444444444,
              "#bd3786"
             ],
             [
              0.5555555555555556,
              "#d8576b"
             ],
             [
              0.6666666666666666,
              "#ed7953"
             ],
             [
              0.7777777777777778,
              "#fb9f3a"
             ],
             [
              0.8888888888888888,
              "#fdca26"
             ],
             [
              1,
              "#f0f921"
             ]
            ],
            "type": "surface"
           }
          ],
          "table": [
           {
            "cells": {
             "fill": {
              "color": "#EBF0F8"
             },
             "line": {
              "color": "white"
             }
            },
            "header": {
             "fill": {
              "color": "#C8D4E3"
             },
             "line": {
              "color": "white"
             }
            },
            "type": "table"
           }
          ]
         },
         "layout": {
          "annotationdefaults": {
           "arrowcolor": "#2a3f5f",
           "arrowhead": 0,
           "arrowwidth": 1
          },
          "autotypenumbers": "strict",
          "coloraxis": {
           "colorbar": {
            "outlinewidth": 0,
            "ticks": ""
           }
          },
          "colorscale": {
           "diverging": [
            [
             0,
             "#8e0152"
            ],
            [
             0.1,
             "#c51b7d"
            ],
            [
             0.2,
             "#de77ae"
            ],
            [
             0.3,
             "#f1b6da"
            ],
            [
             0.4,
             "#fde0ef"
            ],
            [
             0.5,
             "#f7f7f7"
            ],
            [
             0.6,
             "#e6f5d0"
            ],
            [
             0.7,
             "#b8e186"
            ],
            [
             0.8,
             "#7fbc41"
            ],
            [
             0.9,
             "#4d9221"
            ],
            [
             1,
             "#276419"
            ]
           ],
           "sequential": [
            [
             0,
             "#0d0887"
            ],
            [
             0.1111111111111111,
             "#46039f"
            ],
            [
             0.2222222222222222,
             "#7201a8"
            ],
            [
             0.3333333333333333,
             "#9c179e"
            ],
            [
             0.4444444444444444,
             "#bd3786"
            ],
            [
             0.5555555555555556,
             "#d8576b"
            ],
            [
             0.6666666666666666,
             "#ed7953"
            ],
            [
             0.7777777777777778,
             "#fb9f3a"
            ],
            [
             0.8888888888888888,
             "#fdca26"
            ],
            [
             1,
             "#f0f921"
            ]
           ],
           "sequentialminus": [
            [
             0,
             "#0d0887"
            ],
            [
             0.1111111111111111,
             "#46039f"
            ],
            [
             0.2222222222222222,
             "#7201a8"
            ],
            [
             0.3333333333333333,
             "#9c179e"
            ],
            [
             0.4444444444444444,
             "#bd3786"
            ],
            [
             0.5555555555555556,
             "#d8576b"
            ],
            [
             0.6666666666666666,
             "#ed7953"
            ],
            [
             0.7777777777777778,
             "#fb9f3a"
            ],
            [
             0.8888888888888888,
             "#fdca26"
            ],
            [
             1,
             "#f0f921"
            ]
           ]
          },
          "colorway": [
           "#636efa",
           "#EF553B",
           "#00cc96",
           "#ab63fa",
           "#FFA15A",
           "#19d3f3",
           "#FF6692",
           "#B6E880",
           "#FF97FF",
           "#FECB52"
          ],
          "font": {
           "color": "#2a3f5f"
          },
          "geo": {
           "bgcolor": "white",
           "lakecolor": "white",
           "landcolor": "#E5ECF6",
           "showlakes": true,
           "showland": true,
           "subunitcolor": "white"
          },
          "hoverlabel": {
           "align": "left"
          },
          "hovermode": "closest",
          "mapbox": {
           "style": "light"
          },
          "paper_bgcolor": "white",
          "plot_bgcolor": "#E5ECF6",
          "polar": {
           "angularaxis": {
            "gridcolor": "white",
            "linecolor": "white",
            "ticks": ""
           },
           "bgcolor": "#E5ECF6",
           "radialaxis": {
            "gridcolor": "white",
            "linecolor": "white",
            "ticks": ""
           }
          },
          "scene": {
           "xaxis": {
            "backgroundcolor": "#E5ECF6",
            "gridcolor": "white",
            "gridwidth": 2,
            "linecolor": "white",
            "showbackground": true,
            "ticks": "",
            "zerolinecolor": "white"
           },
           "yaxis": {
            "backgroundcolor": "#E5ECF6",
            "gridcolor": "white",
            "gridwidth": 2,
            "linecolor": "white",
            "showbackground": true,
            "ticks": "",
            "zerolinecolor": "white"
           },
           "zaxis": {
            "backgroundcolor": "#E5ECF6",
            "gridcolor": "white",
            "gridwidth": 2,
            "linecolor": "white",
            "showbackground": true,
            "ticks": "",
            "zerolinecolor": "white"
           }
          },
          "shapedefaults": {
           "line": {
            "color": "#2a3f5f"
           }
          },
          "ternary": {
           "aaxis": {
            "gridcolor": "white",
            "linecolor": "white",
            "ticks": ""
           },
           "baxis": {
            "gridcolor": "white",
            "linecolor": "white",
            "ticks": ""
           },
           "bgcolor": "#E5ECF6",
           "caxis": {
            "gridcolor": "white",
            "linecolor": "white",
            "ticks": ""
           }
          },
          "title": {
           "x": 0.05
          },
          "xaxis": {
           "automargin": true,
           "gridcolor": "white",
           "linecolor": "white",
           "ticks": "",
           "title": {
            "standoff": 15
           },
           "zerolinecolor": "white",
           "zerolinewidth": 2
          },
          "yaxis": {
           "automargin": true,
           "gridcolor": "white",
           "linecolor": "white",
           "ticks": "",
           "title": {
            "standoff": 15
           },
           "zerolinecolor": "white",
           "zerolinewidth": 2
          }
         }
        },
        "title": {
         "text": "node_level_repr_pre_encoder_mean"
        },
        "xaxis": {
         "title": {
          "text": "wl_score"
         }
        },
        "yaxis": {
         "title": {
          "text": "Mean"
         }
        }
       }
      }
     },
     "metadata": {},
     "output_type": "display_data"
    }
   ],
   "source": [
    "node_level_repr_pre_encoder_mean = np.array([means[wl_score][\"node_level_repr_pre_encoder\"] for wl_score in range(-1, max_wl_score + 1)])\n",
    "node_level_repr_pre_encoder_std = np.array([stds[wl_score][\"node_level_repr_pre_encoder\"] for wl_score in range(-1, max_wl_score + 1)])\n",
    "x = list(range(-1, max_wl_score + 1))\n",
    "\n",
    "fig = go.Figure(data=go.Scatter(x=x, y=node_level_repr_pre_encoder_mean, error_y=dict(type='data', array=node_level_repr_pre_encoder_std)))\n",
    "fig.update_layout(title=\"node_level_repr_pre_encoder_mean\", xaxis_title=\"wl_score\", yaxis_title=\"Mean\")\n",
    "fig.show()"
   ]
  },
  {
   "cell_type": "code",
   "execution_count": 36,
   "metadata": {},
   "outputs": [
    {
     "data": {
      "text/plain": [
       "dict_keys([-1, 0, 1, 2, 3, 4, 5])"
      ]
     },
     "execution_count": 36,
     "metadata": {},
     "output_type": "execute_result"
    }
   ],
   "source": [
    "raw_data.keys()"
   ]
  },
  {
   "cell_type": "code",
   "execution_count": 37,
   "metadata": {},
   "outputs": [
    {
     "data": {
      "application/vnd.plotly.v1+json": {
       "config": {
        "plotlyServerURL": "https://plot.ly"
       },
       "data": [
        {
         "alignmentgroup": "True",
         "bingroup": "x",
         "hovertemplate": "variable=0<br>value=%{x}<br>count=%{y}<extra></extra>",
         "legendgroup": "0",
         "marker": {
          "color": "#636efa",
          "pattern": {
           "shape": ""
          }
         },
         "name": "0",
         "offsetgroup": "0",
         "orientation": "v",
         "showlegend": true,
         "type": "histogram",
         "x": [
          5.960464477539063e-8,
          -3.0547380447387695e-7,
          -1.862645149230957e-7,
          1.341104507446289e-7,
          1.7136335372924805e-7,
          -3.948807716369629e-7,
          2.8312206268310547e-7,
          -1.1920928955078125e-7,
          -7.450580596923828e-9,
          -5.21540641784668e-8,
          7.450580596923828e-8,
          3.8743019104003906e-7,
          -6.332993507385254e-7,
          -2.60770320892334e-7,
          -5.960464477539063e-8,
          4.470348358154297e-8,
          3.129243850708008e-7,
          -1.862645149230957e-7,
          -2.0116567611694336e-7,
          -8.940696716308594e-8,
          5.960464477539063e-8,
          1.043081283569336e-7,
          3.0547380447387695e-7,
          -1.2665987014770508e-7,
          -2.980232238769531e-7,
          -2.0116567611694336e-7,
          2.2351741790771484e-7,
          2.3096799850463867e-7,
          -2.0116567611694336e-7,
          -2.5331974029541016e-7,
          -1.341104507446289e-7,
          2.8312206268310547e-7,
          -1.6391277313232422e-7,
          1.4156103134155273e-7,
          -8.195638656616211e-8,
          -2.384185791015625e-7,
          7.450580596923828e-8,
          6.705522537231445e-8,
          -1.862645149230957e-7,
          2.905726432800293e-7,
          -2.980232238769531e-7,
          -7.450580596923828e-8,
          2.682209014892578e-7,
          -3.5762786865234375e-7,
          -1.043081283569336e-7,
          4.246830940246582e-7,
          7.450580596923828e-8,
          1.341104507446289e-7,
          -2.9802322387695312e-8,
          0,
          2.384185791015625e-7,
          -7.450580596923828e-9,
          -4.544854164123535e-7,
          -5.848705768585205e-7,
          -1.6391277313232422e-7,
          -4.423782229423523e-8,
          1.993030309677124e-7,
          -7.450580596923828e-8,
          -2.905726432800293e-7,
          2.3515895009040833e-7,
          -1.1920928955078125e-7,
          -8.195638656616211e-8,
          -2.980232238769531e-7,
          2.1606683731079102e-7,
          -2.100132405757904e-7,
          -2.5890767574310303e-7,
          -1.341104507446289e-7,
          -3.427267074584961e-7,
          -1.4901161193847656e-8,
          -4.172325134277344e-7,
          9.685754776000977e-8,
          -3.725290298461914e-8,
          1.6763806343078613e-8,
          5.21540641784668e-8,
          -7.450580596923828e-9,
          -3.650784492492676e-7,
          -7.962808012962341e-8,
          5.21540641784668e-8,
          8.381903171539307e-8,
          2.9802322387695312e-8,
          -3.501772880554199e-7,
          2.9802322387695312e-8,
          6.705522537231445e-8,
          -3.2782554626464844e-7,
          1.6391277313232422e-7,
          7.636845111846924e-8,
          -1.1920928955078125e-7,
          -1.564621925354004e-7,
          -3.650784492492676e-7,
          1.1827796697616577e-7,
          2.1373853087425232e-7,
          2.8870999813079834e-8,
          4.0978193283081055e-8,
          -3.3387914299964905e-7,
          9.080395102500916e-8,
          -1.1175870895385742e-7,
          -2.1792948246002197e-7,
          -2.9802322387695312e-8,
          -5.21540641784668e-8,
          4.3958425521850586e-7,
          4.949979484081268e-7,
          2.3096799850463867e-7,
          1.6111880540847778e-7,
          8.847564458847046e-8,
          -2.1606683731079102e-7,
          8.521601557731628e-8,
          -1.4901161193847656e-8,
          2.0302832126617432e-7,
          -2.3096799850463867e-7,
          -7.171183824539185e-8,
          -1.1175870895385742e-7,
          5.075708031654358e-8,
          -4.842877388000488e-7,
          -2.2910535335540771e-7,
          5.4016709327697754e-8,
          2.2817403078079224e-8,
          -3.7997961044311523e-7,
          2.682209014892578e-7,
          4.2282044887542725e-7,
          -9.313225746154785e-9,
          5.21540641784668e-8,
          -2.975575625896454e-7,
          2.2817403078079224e-7,
          1.4901161193847656e-8,
          -1.2014061212539673e-7,
          2.086162567138672e-7,
          -2.4586915969848633e-7,
          1.280568540096283e-7,
          -2.2491440176963806e-7,
          -2.0116567611694336e-7,
          2.2351741790771484e-7,
          2.6961788535118103e-7,
          3.403984010219574e-7,
          5.21540641784668e-8,
          -3.2782554626464844e-7,
          1.7508864402770996e-7,
          1.257285475730896e-7,
          -2.2584572434425354e-7,
          -1.4668330550193787e-7,
          -2.7939677238464355e-8,
          -1.862645149230957e-7,
          5.21540641784668e-8,
          7.450580596923828e-9,
          3.78582626581192e-7,
          1.1920928955078125e-7,
          -2.4586915969848633e-7,
          1.7462298274040222e-7,
          -1.0337680578231812e-7,
          1.341104507446289e-7,
          -1.6577541828155518e-7,
          8.195638656616211e-8,
          0,
          -2.384185791015625e-7,
          1.4156103134155273e-7,
          -4.945322871208191e-7,
          2.9802322387695312e-8,
          2.1606683731079102e-7,
          -4.470348358154297e-8,
          -2.086162567138672e-7,
          -1.0803341865539551e-7,
          -2.905726432800293e-7,
          -2.9802322387695312e-8,
          7.450580596923828e-9,
          -2.60770320892334e-8,
          -1.4901161193847656e-7,
          -8.940696716308594e-8,
          -4.423782229423523e-7,
          4.544854164123535e-7,
          4.023313522338867e-7,
          -1.043081283569336e-7,
          -5.21540641784668e-8,
          -3.343448042869568e-7,
          0,
          -2.60770320892334e-7,
          3.259629011154175e-8,
          -3.725290298461914e-8,
          -2.980232238769531e-7,
          -4.842877388000488e-8,
          1.601874828338623e-7,
          -2.4959444999694824e-7,
          1.2665987014770508e-7,
          3.6600977182388306e-7,
          4.600733518600464e-7,
          -1.1175870895385742e-7,
          -1.8067657947540283e-7,
          1.2293457984924316e-7,
          1.8998980522155762e-7,
          2.123415470123291e-7,
          3.725290298461914e-8,
          1.8998980522155762e-7,
          -5.587935447692871e-8,
          -7.078051567077637e-8,
          -5.7392753660678864e-8,
          2.60770320892334e-7,
          -1.564621925354004e-7,
          -1.6763806343078613e-7,
          -3.3155083656311035e-7,
          4.470348358154297e-8,
          -1.6391277313232422e-7,
          3.073364496231079e-8,
          -3.203749656677246e-7,
          2.3096799850463867e-7,
          -6.332993507385254e-8,
          5.21540641784668e-8,
          -2.7194619178771973e-7,
          -2.1606683731079102e-7,
          -1.6298145055770874e-7,
          1.9371509552001953e-7,
          -4.6938657760620117e-7,
          5.587935447692871e-8,
          -2.3469328880310059e-7,
          6.705522537231445e-8,
          -6.379559636116028e-8,
          -2.384185791015625e-7,
          1.7136335372924805e-7,
          -2.2165477275848389e-7,
          -2.123415470123291e-7,
          -1.043081283569336e-7,
          -1.1548399925231934e-7,
          -4.367902874946594e-7,
          2.4586915969848633e-7,
          -3.129243850708008e-7,
          1.3690441846847534e-7,
          1.0803341865539551e-7,
          1.2293457984924316e-7,
          6.332993507385254e-8,
          -1.3783574104309082e-7,
          5.634501576423645e-8,
          -3.166496753692627e-7,
          -4.470348358154297e-8,
          3.2782554626464844e-7,
          -6.146728992462158e-8,
          -4.284083843231201e-8,
          -9.96515154838562e-8,
          -9.778887033462524e-8,
          2.6263296604156494e-7,
          1.0989606380462646e-7,
          -1.8812716007232666e-7,
          -1.2665987014770508e-7,
          2.952292561531067e-7,
          8.940696716308594e-8,
          -7.310882210731506e-8,
          -1.2200325727462769e-7,
          -2.5192275643348694e-7,
          7.497146725654602e-8,
          -1.424923539161682e-7,
          1.2386590242385864e-7,
          2.598389983177185e-7,
          6.170012056827545e-8,
          -1.6763806343078613e-7,
          -7.078051567077637e-8,
          9.033828973770142e-8,
          7.2177499532699585e-9,
          -4.076864570379257e-7,
          -1.3550743460655212e-7,
          1.6670674085617065e-7,
          2.0908191800117493e-7,
          2.752058207988739e-7,
          -4.4889748096466064e-7,
          2.9243528842926025e-7,
          9.778887033462524e-9,
          2.5425106287002563e-7,
          -4.842877388000488e-8,
          2.5425106287002563e-7,
          -4.237517714500427e-8,
          -3.0547380447387695e-7,
          3.1478703022003174e-7,
          1.862645149230957e-7,
          8.568167686462402e-8,
          1.9744038581848145e-7,
          7.217749953269958e-8,
          -3.450550138950348e-7,
          4.246830940246582e-7,
          -1.387670636177063e-7,
          4.656612873077393e-10,
          3.427267074584961e-7,
          1.862645149230957e-8,
          3.585591912269592e-8,
          1.4156103134155273e-7,
          -6.146728992462158e-8,
          -1.4761462807655334e-7,
          3.871973603963852e-7,
          -3.259629011154175e-7,
          -1.3597309589385986e-7,
          -1.7695128917694092e-7,
          2.92900949716568e-7,
          1.6577541828155518e-7,
          -9.12696123123169e-8,
          1.7043203115463257e-7,
          2.1187588572502136e-7,
          -5.541369318962097e-8,
          -2.0023435354232788e-7,
          -3.259629011154175e-8,
          2.1606683731079102e-7,
          1.457519829273224e-7,
          1.387670636177063e-7,
          -7.35744833946228e-8,
          2.868473529815674e-7,
          -5.4016709327697754e-8,
          4.814937710762024e-7,
          -2.0954757928848267e-7,
          -2.0442530512809753e-7,
          2.0489096641540527e-7,
          -3.457535058259964e-7,
          6.027985364198685e-7,
          -2.8870999813079834e-7,
          -1.30385160446167e-7,
          4.400499165058136e-8,
          -2.7939677238464355e-7,
          -1.7182901501655579e-7,
          1.043081283569336e-7,
          -3.073364496231079e-7,
          4.116445779800415e-7,
          2.8870999813079834e-7,
          -2.1606683731079102e-7,
          -4.926696419715881e-7,
          4.470348358154297e-8,
          2.575106918811798e-7,
          2.682209014892578e-7,
          -5.029141902923584e-8,
          -1.0244548320770264e-8,
          3.0780211091041565e-7,
          -2.2165477275848389e-7,
          -1.4528632164001465e-7,
          -3.8370490074157715e-7,
          8.381903171539307e-9,
          -1.3224780559539795e-7,
          -2.7939677238464355e-8,
          -1.73225998878479e-7,
          1.862645149230957e-8,
          6.845220923423767e-8,
          2.8079375624656677e-7,
          1.1175870895385742e-8,
          -9.685754776000977e-8,
          -5.4016709327697754e-8,
          -5.331821739673615e-7,
          2.076849341392517e-7,
          -1.0244548320770264e-7,
          -2.1792948246002197e-7,
          -4.009343683719635e-7,
          1.8440186977386475e-7,
          -1.73225998878479e-7,
          3.0547380447387695e-7,
          -7.636845111846924e-8,
          5.21540641784668e-8,
          3.129243850708008e-7,
          -7.636845111846924e-8,
          -4.842877388000488e-8,
          -2.682209014892578e-7,
          -2.8312206268310547e-7,
          2.086162567138672e-7,
          1.2665987014770508e-7,
          -1.2945383787155151e-7,
          2.5331974029541016e-7,
          -3.46451997756958e-7,
          1.9371509552001953e-7,
          -2.0116567611694336e-7,
          -1.4528632164001465e-7,
          -1.862645149230957e-8,
          5.21540641784668e-8,
          5.364418029785156e-7,
          9.872019290924072e-8,
          1.4901161193847656e-7,
          -5.960464477539063e-8,
          -6.705522537231445e-8,
          -3.501772880554199e-7,
          -5.289912223815918e-7,
          1.2665987014770508e-7,
          1.601874828338623e-7,
          -1.9744038581848145e-7,
          -3.725290298461914e-9,
          3.203749656677246e-7,
          1.6763806343078613e-7,
          1.1920928955078125e-7,
          -7.450580596923828e-9,
          -2.9802322387695312e-8,
          3.725290298461914e-8,
          -3.129243850708008e-7,
          1.862645149230957e-8,
          4.0978193283081055e-8,
          -1.434236764907837e-7,
          1.6111880540847778e-7,
          -2.60770320892334e-8,
          3.725290298461914e-9,
          7.450580596923828e-8,
          -1.1920928955078125e-7,
          -4.917383193969727e-7,
          2.60770320892334e-7,
          -5.606561899185181e-7,
          1.341104507446289e-7,
          8.195638656616211e-8,
          6.705522537231445e-8,
          2.1420419216156006e-7,
          1.2665987014770508e-7,
          2.682209014892578e-7,
          5.513429641723633e-7,
          1.4901161193847656e-8,
          1.6391277313232422e-7,
          -7.450580596923828e-8,
          1.043081283569336e-7,
          -1.5273690223693848e-7,
          4.023313522338867e-7,
          1.0244548320770264e-7,
          -1.1175870895385742e-8,
          9.313225746154785e-8,
          -2.123415470123291e-7,
          -1.955777406692505e-8,
          -8.381903171539307e-8,
          -1.4901161193847656e-8,
          2.60770320892334e-7,
          3.5390257835388184e-7,
          2.980232238769531e-7,
          2.775341272354126e-7,
          -3.3155083656311035e-7,
          -1.6391277313232422e-7,
          -7.450580596923828e-9,
          -8.940696716308594e-8,
          2.7939677238464355e-7,
          -2.3469328880310059e-7,
          -1.7508864402770996e-7,
          -8.195638656616211e-8,
          1.4156103134155273e-7,
          6.034970283508301e-7,
          1.341104507446289e-7,
          1.862645149230957e-7,
          -1.1920928955078125e-7,
          2.9802322387695312e-8,
          7.450580596923828e-9,
          -5.21540641784668e-8,
          -1.9371509552001953e-7,
          1.7136335372924805e-7,
          -4.470348358154297e-8,
          -7.450580596923828e-8,
          2.086162567138672e-7,
          4.470348358154297e-8,
          2.384185791015625e-7,
          5.21540641784668e-8,
          1.8440186977386475e-7,
          7.450580596923828e-9,
          3.427267074584961e-7,
          1.1920928955078125e-7,
          1.9371509552001953e-7,
          -6.705522537231445e-8,
          -1.2665987014770508e-7,
          -3.650784492492676e-7,
          -2.682209014892578e-7,
          1.862645149230957e-7,
          -1.4901161193847656e-8,
          3.650784492492676e-7,
          1.7881393432617188e-7,
          4.76837158203125e-7,
          8.568167686462402e-8,
          -1.7136335372924805e-7,
          -3.3527612686157227e-7,
          5.178153514862061e-7,
          -1.4901161193847656e-8,
          -1.1920928955078125e-7,
          -1.862645149230957e-7,
          -1.1175870895385742e-7,
          -9.313225746154785e-8,
          -1.2665987014770508e-7,
          1.1175870895385742e-7,
          2.980232238769531e-7,
          5.960464477539063e-8,
          -1.7136335372924805e-7,
          -2.2351741790771484e-8,
          -1.4156103134155273e-7,
          -4.470348358154297e-8,
          -7.450580596923828e-8,
          -1.6391277313232422e-7,
          -3.725290298461914e-8,
          7.450580596923828e-8,
          8.940696716308594e-8,
          -2.9802322387695312e-8,
          1.7881393432617188e-7,
          3.427267074584961e-7,
          2.0116567611694336e-7,
          -4.470348358154297e-8,
          -1.043081283569336e-7,
          2.0116567611694336e-7,
          3.501772880554199e-7,
          3.129243850708008e-7,
          -2.2351741790771484e-7,
          5.587935447692871e-7,
          1.4156103134155273e-7,
          1.9371509552001953e-7,
          3.129243850708008e-7,
          -2.2724270820617676e-7,
          1.7508864402770996e-7,
          -2.8312206268310547e-7,
          -1.4901161193847656e-7,
          3.5762786865234375e-7,
          -1.1175870895385742e-7,
          -2.980232238769531e-7,
          2.682209014892578e-7,
          1.4901161193847656e-8,
          2.8312206268310547e-7,
          3.948807716369629e-7,
          7.450580596923828e-8,
          -7.078051567077637e-8,
          -2.2351741790771484e-8,
          -2.9802322387695312e-8,
          -1.043081283569336e-7,
          9.685754776000977e-8,
          -4.842877388000488e-8,
          -1.7136335372924805e-7,
          3.0547380447387695e-7,
          -1.2665987014770508e-7,
          -7.450580596923828e-9,
          4.470348358154297e-8,
          3.725290298461914e-8,
          6.705522537231445e-8,
          1.30385160446167e-7,
          1.043081283569336e-7,
          2.5890767574310303e-7,
          2.384185791015625e-7,
          1.5739351511001587e-7,
          2.2351741790771484e-8,
          4.6193599700927734e-7,
          3.725290298461914e-8,
          -1.8347054719924927e-7,
          -4.3213367462158203e-7,
          5.21540641784668e-8,
          4.76837158203125e-7,
          4.377216100692749e-8,
          6.705522537231445e-8,
          -4.0046870708465576e-8,
          6.705522537231445e-8,
          2.1606683731079102e-7,
          -9.685754776000977e-8,
          -7.450580596923828e-9,
          -1.1175870895385742e-7,
          -2.1606683731079102e-7,
          -4.470348358154297e-8,
          9.685754776000977e-8,
          -2.738088369369507e-7,
          1.043081283569336e-7,
          3.0547380447387695e-7,
          6.705522537231445e-8,
          1.4156103134155273e-7,
          -1.0989606380462646e-7,
          2.6170164346694946e-7,
          1.6391277313232422e-7,
          9.685754776000977e-8,
          -1.1175870895385742e-8,
          -2.2910535335540771e-7,
          -4.470348358154297e-8,
          1.94646418094635e-7,
          2.9802322387695312e-8,
          -1.4901161193847656e-7,
          -1.4901161193847656e-8,
          -2.384185791015625e-7,
          -1.1920928955078125e-7,
          3.1851232051849365e-7,
          2.7939677238464355e-8,
          -8.195638656616211e-8,
          4.470348358154297e-7,
          -1.6577541828155518e-7,
          -6.705522537231445e-8,
          -2.3096799850463867e-7,
          -2.4959444999694824e-7,
          -2.2351741790771484e-7,
          1.4901161193847656e-8,
          -8.940696716308594e-8,
          -6.705522537231445e-8,
          5.094334483146667e-7,
          1.9371509552001953e-7,
          6.705522537231445e-8,
          1.6391277313232422e-7,
          -8.66129994392395e-8,
          -3.7439167499542236e-7,
          -2.9336661100387573e-7,
          1.5273690223693848e-7,
          2.980232238769531e-7,
          -1.7508864402770996e-7,
          -2.7567148208618164e-7,
          -4.470348358154297e-8,
          3.3527612686157227e-7,
          3.5762786865234375e-7,
          7.450580596923828e-8,
          4.284083843231201e-8,
          0,
          -4.544854164123535e-7,
          -3.3527612686157227e-8,
          0,
          -2.039596438407898e-7,
          -2.7939677238464355e-8,
          -1.6391277313232422e-7,
          -5.960464477539063e-8,
          1.0058283805847168e-7,
          -4.023313522338867e-7,
          -1.9744038581848145e-7,
          -8.195638656616211e-8,
          -1.3783574104309082e-7,
          2.3655593395233154e-7,
          -1.1827796697616577e-7,
          -4.470348358154297e-8,
          -4.6938657760620117e-7,
          -5.960464477539063e-8,
          -3.781169652938843e-7,
          -2.4028122425079346e-7,
          1.1920928955078125e-7,
          -1.341104507446289e-7,
          -3.725290298461914e-9,
          1.4901161193847656e-7,
          1.6763806343078613e-7,
          2.1606683731079102e-7,
          -1.4901161193847656e-8,
          1.1175870895385742e-7,
          -7.450580596923828e-9,
          -1.043081283569336e-7,
          1.0337680578231812e-7,
          2.60770320892334e-8,
          -2.0954757928848267e-7,
          1.4435499906539917e-7,
          2.9802322387695312e-8,
          -2.7939677238464355e-9,
          -3.390014171600342e-7,
          -6.51925802230835e-8,
          -1.6763806343078613e-7,
          -2.169981598854065e-7,
          -1.4901161193847656e-8,
          -1.30385160446167e-7,
          -3.0547380447387695e-7,
          -2.6263296604156494e-7,
          1.0151416063308716e-7,
          2.0489096641540527e-7,
          -3.986060619354248e-7,
          -2.859160304069519e-7,
          1.862645149230957e-7,
          5.21540641784668e-8,
          1.0058283805847168e-7,
          -2.3469328880310059e-7,
          -1.4156103134155273e-7,
          -1.862645149230957e-8,
          -2.9802322387695312e-8,
          -1.862645149230957e-9,
          9.313225746154785e-8,
          -2.3096799850463867e-7,
          9.313225746154785e-8,
          -2.8312206268310547e-7,
          1.862645149230957e-8,
          -2.1606683731079102e-7,
          -6.146728992462158e-8,
          -6.612390279769897e-8,
          -8.195638656616211e-8,
          -1.94646418094635e-7,
          -3.46451997756958e-7,
          -7.636845111846924e-8,
          3.46451997756958e-7,
          5.21540641784668e-8,
          -3.3527612686157227e-8,
          -2.682209014892578e-7,
          -1.1920928955078125e-7,
          2.0116567611694336e-7,
          -1.5739351511001587e-7,
          9.406358003616333e-8,
          -9.872019290924072e-8,
          -2.682209014892578e-7,
          -6.612390279769897e-8,
          -1.862645149230957e-8,
          -3.110617399215698e-7,
          2.7008354663848877e-7,
          1.0151416063308716e-7,
          1.7508864402770996e-7,
          -3.0547380447387695e-7,
          3.5762786865234375e-7,
          6.51925802230835e-8,
          5.960464477539063e-8,
          3.3527612686157227e-8,
          1.7508864402770996e-7,
          -3.427267074584961e-7,
          4.377216100692749e-8,
          -5.029141902923584e-8,
          1.8998980522155762e-7,
          -1.8719583749771118e-7,
          1.1734664440155029e-7,
          1.2665987014770508e-7,
          -2.1979212760925293e-7,
          1.3969838619232178e-8,
          3.725290298461914e-8,
          4.470348358154297e-8,
          1.5832483768463135e-7,
          2.1606683731079102e-7,
          1.3317912817001343e-7,
          9.033828973770142e-8,
          -2.8777867555618286e-7,
          1.9185245037078857e-7,
          3.501772880554199e-7,
          2.4586915969848633e-7,
          0,
          1.4901161193847656e-8,
          2.086162567138672e-7,
          2.384185791015625e-7,
          3.0547380447387695e-7,
          3.129243850708008e-7,
          1.9371509552001953e-7,
          -2.9802322387695312e-8,
          -2.2351741790771484e-8,
          9.685754776000977e-8,
          1.341104507446289e-7,
          -1.7136335372924805e-7,
          6.705522537231445e-8,
          3.0547380447387695e-7,
          7.450580596923828e-8,
          4.76837158203125e-7,
          2.384185791015625e-7,
          1.564621925354004e-7,
          1.9371509552001953e-7,
          1.4156103134155273e-7,
          1.043081283569336e-7,
          2.8312206268310547e-7,
          -1.043081283569336e-7,
          -1.4901161193847656e-7,
          2.2351741790771484e-8,
          -1.4901161193847656e-8,
          4.470348358154297e-8,
          -1.6391277313232422e-7,
          1.043081283569336e-7,
          -1.6391277313232422e-7,
          2.9802322387695312e-8,
          -2.682209014892578e-7,
          2.682209014892578e-7,
          2.2351741790771484e-7,
          -2.8312206268310547e-7,
          -2.384185791015625e-7,
          -2.980232238769531e-7,
          2.9802322387695312e-8,
          9.685754776000977e-8,
          1.7881393432617188e-7,
          7.450580596923828e-8,
          1.341104507446289e-7,
          -3.427267074584961e-7,
          2.2351741790771484e-8,
          1.2665987014770508e-7,
          -1.862645149230957e-7,
          -2.5331974029541016e-7,
          -5.066394805908203e-7,
          8.940696716308594e-8,
          1.4156103134155273e-7,
          6.705522537231445e-8,
          1.6391277313232422e-7,
          8.195638656616211e-8,
          -1.9371509552001953e-7,
          2.60770320892334e-7,
          1.4901161193847656e-8,
          -2.5331974029541016e-7,
          7.450580596923828e-9,
          1.341104507446289e-7,
          5.21540641784668e-8,
          -2.3096799850463867e-7,
          1.6391277313232422e-7,
          -2.1606683731079102e-7,
          3.501772880554199e-7,
          -2.384185791015625e-7,
          -1.043081283569336e-7,
          -8.940696716308594e-8,
          1.4901161193847656e-8,
          -1.341104507446289e-7,
          -3.2782554626464844e-7,
          1.043081283569336e-7,
          1.7881393432617188e-7,
          -3.7997961044311523e-7,
          8.195638656616211e-8,
          -2.8312206268310547e-7,
          -3.7997961044311523e-7,
          6.705522537231445e-8,
          -2.1606683731079102e-7,
          3.725290298461914e-7,
          -8.195638656616211e-8,
          -3.427267074584961e-7,
          -2.7008354663848877e-8,
          4.470348358154297e-8,
          -1.6391277313232422e-7,
          -1.4901161193847656e-7,
          2.2351741790771484e-8,
          -1.6670674085617065e-7,
          -4.4796615839004517e-7,
          -1.3969838619232178e-7,
          3.91155481338501e-8,
          1.9837170839309692e-7,
          -1.5832483768463135e-8,
          -1.1175870895385742e-7,
          -4.023313522338867e-7,
          -2.421438694000244e-7,
          3.0547380447387695e-7,
          -2.2351741790771484e-8,
          -1.2665987014770508e-7,
          2.7939677238464355e-9,
          2.1606683731079102e-7,
          -1.7136335372924805e-7,
          9.685754776000977e-8,
          -2.3189932107925415e-7,
          1.5273690223693848e-7,
          -2.2351741790771484e-7,
          2.2351741790771484e-8,
          8.195638656616211e-8,
          6.705522537231445e-8,
          1.6391277313232422e-7,
          -8.381903171539307e-8,
          -1.341104507446289e-7,
          -5.029141902923584e-8,
          1.7695128917694092e-7,
          -3.725290298461914e-7,
          2.1420419216156006e-7,
          -1.862645149230957e-7,
          -2.086162567138672e-7,
          0,
          -1.2665987014770508e-7,
          -3.5669654607772827e-7,
          7.450580596923828e-9,
          -1.1175870895385742e-7,
          -8.847564458847046e-8,
          2.7567148208618164e-7,
          1.695007085800171e-7,
          5.21540641784668e-8,
          -3.948807716369629e-7,
          -1.4901161193847656e-8,
          -3.082677721977234e-7,
          3.213062882423401e-7,
          2.2444874048233032e-7,
          2.9802322387695312e-8,
          1.7043203115463257e-7,
          -1.043081283569336e-7,
          8.940696716308594e-8,
          1.1920928955078125e-7,
          -7.450580596923828e-9,
          3.725290298461914e-8,
          -9.406358003616333e-8,
          -1.043081283569336e-7,
          -5.21540641784668e-8,
          -2.682209014892578e-7,
          -1.4156103134155273e-7,
          1.3504177331924438e-7,
          -1.1175870895385742e-7,
          -6.05359673500061e-8,
          4.6193599700927734e-7,
          1.7136335372924805e-7,
          -8.940696716308594e-8,
          1.7136335372924805e-7,
          -3.2782554626464844e-7,
          -1.4901161193847656e-8,
          -8.195638656616211e-8,
          1.1920928955078125e-7,
          5.21540641784668e-7,
          -1.1920928955078125e-7,
          -1.2665987014770508e-7,
          -9.685754776000977e-8,
          -3.762543201446533e-7,
          2.9802322387695312e-8,
          -3.725290298461914e-7,
          -4.023313522338867e-7,
          7.450580596923828e-8,
          -1.9371509552001953e-7,
          -1.4901161193847656e-8,
          -3.501772880554199e-7,
          3.6600977182388306e-7,
          -3.9301812648773193e-7,
          2.9802322387695312e-8,
          -1.8067657947540283e-7,
          -2.2351741790771484e-8,
          9.313225746154785e-9,
          -1.6205012798309326e-7,
          3.6694109439849854e-7,
          -2.9243528842926025e-7,
          -1.30385160446167e-7,
          -7.450580596923828e-9,
          5.960464477539063e-8,
          1.601874828338623e-7,
          -5.699694156646729e-7,
          -1.1175870895385742e-7,
          -7.741618901491165e-8,
          4.842877388000488e-8,
          3.0547380447387695e-7,
          -1.9371509552001953e-7,
          -5.587935447692871e-8,
          4.4330954551696777e-7,
          3.3527612686157227e-8,
          4.7963112592697144e-8,
          1.0803341865539551e-7,
          2.8870999813079834e-7,
          -2.3655593395233154e-7,
          2.1606683731079102e-7,
          -1.4901161193847656e-8,
          -1.0803341865539551e-7,
          -2.6263296604156494e-7,
          9.12696123123169e-8,
          -2.0489096641540527e-7,
          -1.4901161193847656e-7,
          2.146698534488678e-7,
          -1.708976924419403e-7,
          -8.009374141693115e-8,
          -4.838220775127411e-7,
          6.705522537231445e-8,
          -9.313225746154785e-8,
          -3.2782554626464844e-7,
          -7.310882210731506e-8,
          -1.4901161193847656e-7,
          5.774199962615967e-8,
          -1.862645149230957e-8,
          1.9371509552001953e-7,
          1.4156103134155273e-7,
          -2.086162567138672e-7,
          1.0058283805847168e-7,
          1.0617077350616455e-7,
          1.4901161193847656e-8,
          -1.4156103134155273e-7,
          2.718297764658928e-7,
          -1.7532147467136383e-7,
          -2.0489096641540527e-7,
          -4.470348358154297e-8,
          -5.797483026981354e-8,
          -4.842877388000488e-8,
          1.7508864402770996e-7,
          2.2351741790771484e-8,
          4.889443516731262e-7,
          -1.862645149230957e-9,
          -2.4028122425079346e-7,
          1.685693860054016e-7,
          2.3469328880310059e-7,
          -8.614733815193176e-9,
          1.2014061212539673e-7,
          -7.199123501777649e-7,
          2.644956111907959e-7,
          -2.2351741790771484e-8,
          -4.842877388000488e-8,
          -1.1734664440155029e-7,
          4.3213367462158203e-7,
          -5.960464477539063e-8,
          -8.754432201385498e-8,
          2.123415470123291e-7,
          -1.4528632164001465e-7,
          -1.862645149230957e-7,
          1.6298145055770874e-8,
          -1.30385160446167e-7,
          2.5331974029541016e-7,
          2.0116567611694336e-7,
          -1.5273690223693848e-7,
          2.905726432800293e-7,
          1.341104507446289e-7,
          8.009374141693115e-8,
          -3.203749656677246e-7,
          -8.940696716308594e-8,
          9.685754776000977e-8,
          4.0978193283081055e-8,
          3.390014171600342e-7,
          1.2665987014770508e-7,
          5.21540641784668e-8,
          -5.960464477539063e-8,
          -1.1362135410308838e-7,
          -4.470348358154297e-8,
          1.8347054719924927e-7,
          -1.564621925354004e-7,
          -5.960464477539063e-8,
          2.7939677238464355e-8,
          1.1920928955078125e-7,
          -4.0978193283081055e-8,
          -1.695007085800171e-7,
          3.8743019104003906e-7,
          -2.5704503059387207e-7,
          3.334134817123413e-7,
          6.51925802230835e-8,
          -1.862645149230957e-8,
          1.862645149230957e-9,
          -3.4458935260772705e-8,
          1.4156103134155273e-7,
          2.477318048477173e-7,
          -7.264316082000732e-8,
          -1.5273690223693848e-7,
          -2.7194619178771973e-7,
          1.210719347000122e-7,
          -8.568167686462402e-8,
          -2.905726432800293e-7,
          7.450580596923828e-9,
          -1.4901161193847656e-7,
          -3.334134817123413e-7,
          -3.501772880554199e-7,
          -1.862645149230957e-7,
          1.043081283569336e-7,
          -3.650784492492676e-7,
          5.21540641784668e-8,
          -3.725290298461914e-7,
          -1.601874828338623e-7,
          1.6391277313232422e-7,
          -5.587935447692871e-8,
          -4.4330954551696777e-7,
          5.21540641784668e-8,
          3.7066638469696045e-7,
          -3.501772880554199e-7,
          -2.9243528842926025e-7,
          -5.21540641784668e-8,
          -9.685754776000977e-8,
          -1.0896474123001099e-7,
          1.30385160446167e-7,
          -5.029141902923584e-8,
          2.980232238769531e-7,
          -2.60770320892334e-7,
          3.632158041000366e-7,
          -1.0803341865539551e-7,
          3.762543201446533e-7,
          -1.6763806343078613e-7,
          1.1175870895385742e-7,
          5.587935447692871e-8,
          -2.2351741790771484e-7,
          1.862645149230957e-8,
          -1.043081283569336e-7,
          2.0116567611694336e-7,
          -2.5704503059387207e-7,
          -9.872019290924072e-8,
          -2.4959444999694824e-7,
          -2.952292561531067e-7,
          1.043081283569336e-7,
          2.1792948246002197e-7,
          -2.421438694000244e-7,
          -2.1047890186309814e-7,
          9.872019290924072e-8,
          -5.8673322200775146e-8,
          -5.960464477539063e-8,
          -9.872019290924072e-8,
          -2.4959444999694824e-7,
          3.390014171600342e-7,
          4.6566128730773926e-8,
          -2.2351741790771484e-8,
          1.825392246246338e-7,
          -3.5390257835388184e-7,
          -2.4959444999694824e-7,
          1.862645149230957e-8,
          7.450580596923828e-8,
          6.705522537231445e-8,
          -1.6391277313232422e-7,
          2.086162567138672e-7,
          1.4621764421463013e-7,
          1.4901161193847656e-7,
          1.8998980522155762e-7,
          -2.905726432800293e-7,
          -1.7881393432617188e-7,
          2.4121254682540894e-7,
          -1.5273690223693848e-7,
          -1.7136335372924805e-7,
          -3.725290298461914e-8,
          -2.3096799850463867e-7,
          4.3958425521850586e-7,
          -1.1920928955078125e-7,
          -7.82310962677002e-8,
          3.7997961044311523e-7,
          1.1175870895385742e-8,
          3.948807716369629e-7,
          1.5739351511001587e-7,
          -3.725290298461914e-8,
          -8.940696716308594e-8,
          -2.0489096641540527e-7,
          7.82310962677002e-8,
          -2.9802322387695312e-8,
          -9.685754776000977e-8,
          1.8998980522155762e-7,
          1.2665987014770508e-7,
          -2.2724270820617676e-7,
          -2.728775143623352e-7,
          8.195638656616211e-8,
          1.564621925354004e-7,
          -5.066394805908203e-7,
          -4.209578037261963e-7,
          7.450580596923828e-8,
          -2.9802322387695312e-8,
          -1.1175870895385742e-8,
          1.0058283805847168e-7,
          -3.650784492492676e-7,
          -1.4528632164001465e-7,
          1.1175870895385742e-7,
          1.7881393432617188e-7,
          1.3317912817001343e-7,
          -3.427267074584961e-7,
          5.979090929031372e-7,
          2.2351741790771484e-8,
          1.7508864402770996e-7,
          -1.341104507446289e-7,
          3.3527612686157227e-8,
          2.728775143623352e-7,
          -1.9278377294540405e-7,
          3.4458935260772705e-8,
          -1.341104507446289e-7,
          -9.685754776000977e-8,
          1.862645149230957e-7,
          -1.1734664440155029e-7,
          7.450580596923828e-9,
          -2.1606683731079102e-7,
          3.594905138015747e-7,
          2.682209014892578e-7,
          -2.2351741790771484e-7,
          2.0116567611694336e-7,
          -6.239861249923706e-8,
          5.960464477539063e-8,
          4.172325134277344e-7,
          -4.3958425521850586e-7,
          -1.341104507446289e-7,
          2.7194619178771973e-7,
          2.086162567138672e-7,
          -5.4016709327697754e-8,
          -5.960464477539063e-8,
          2.9802322387695312e-8,
          -2.2351741790771484e-8,
          -2.9802322387695312e-8,
          -1.2759119272232056e-7,
          1.1548399925231934e-7,
          -1.685693860054016e-7,
          -5.480833351612091e-7,
          7.450580596923828e-9,
          -1.3317912817001343e-7,
          1.4901161193847656e-8,
          -4.470348358154297e-8,
          1.2665987014770508e-7,
          7.543712854385376e-8,
          -1.862645149230957e-8,
          -3.725290298461914e-8,
          -2.7939677238464355e-9,
          -1.825392246246338e-7,
          -6.705522537231445e-8,
          1.862645149230957e-7,
          3.632158041000366e-7,
          -6.332993507385254e-8,
          1.1920928955078125e-7,
          1.6391277313232422e-7,
          -1.825392246246338e-7,
          -1.1734664440155029e-7,
          -6.332993507385254e-8,
          1.7881393432617188e-7,
          1.9371509552001953e-7,
          1.1175870895385742e-7,
          1.6298145055770874e-7,
          -7.450580596923828e-8,
          1.043081283569336e-7,
          -1.1920928955078125e-7,
          -3.5855919122695923e-7,
          4.116445779800415e-7,
          2.4586915969848633e-7,
          2.086162567138672e-7,
          -3.986060619354248e-7,
          -1.7695128917694092e-7,
          -2.384185791015625e-7,
          3.557652235031128e-7,
          3.557652235031128e-7,
          -1.7229467630386353e-7,
          5.960464477539063e-8,
          7.264316082000732e-8,
          5.364418029785156e-7,
          2.0116567611694336e-7,
          -1.4156103134155273e-7,
          -1.6391277313232422e-7,
          5.587935447692871e-8,
          -9.313225746154785e-9,
          2.5331974029541016e-7,
          2.9802322387695312e-8,
          5.960464477539063e-8,
          4.0978193283081055e-8,
          2.8312206268310547e-7,
          -1.4156103134155273e-7,
          2.5704503059387207e-7,
          2.9802322387695312e-8,
          1.1920928955078125e-7,
          2.8032809495925903e-7,
          1.6391277313232422e-7,
          1.2293457984924316e-7,
          1.1362135410308838e-7,
          -1.7881393432617188e-7,
          2.60770320892334e-8,
          1.1175870895385742e-7,
          1.1175870895385742e-7,
          1.4901161193847656e-8,
          -2.9802322387695312e-8,
          -1.862645149230957e-7,
          -5.21540641784668e-8,
          1.4156103134155273e-7,
          -2.905726432800293e-7,
          5.774199962615967e-8,
          1.1548399925231934e-7,
          -2.384185791015625e-7,
          5.21540641784668e-8,
          -4.470348358154297e-8,
          -2.8312206268310547e-7,
          -7.078051567077637e-8,
          -1.4901161193847656e-8,
          1.4156103134155273e-7,
          -3.3527612686157227e-8,
          -1.6577541828155518e-7,
          -6.705522537231445e-8,
          1.6763806343078613e-7,
          -4.731118679046631e-7,
          5.21540641784668e-8,
          -2.1792948246002197e-7,
          2.086162567138672e-7,
          2.123415470123291e-7,
          2.086162567138672e-7,
          -5.960464477539063e-8,
          1.4901161193847656e-8,
          -7.636845111846924e-8,
          -1.7136335372924805e-7,
          2.2351741790771484e-8,
          3.3527612686157227e-7,
          -1.1175870895385742e-7,
          -2.3469328880310059e-7,
          -1.4156103134155273e-7,
          -3.5669654607772827e-7,
          1.126900315284729e-7,
          -4.386529326438904e-7,
          3.1013041734695435e-7,
          1.4901161193847656e-8,
          -7.450580596923828e-9,
          1.1175870895385742e-7,
          3.0547380447387695e-7,
          3.725290298461914e-8,
          -1.2293457984924316e-7,
          3.203749656677246e-7,
          -1.2479722499847412e-7,
          -5.122274160385132e-8,
          5.587935447692871e-8,
          -7.078051567077637e-8,
          2.3283064365386963e-8,
          8.940696716308594e-8,
          1.8719583749771118e-7,
          1.1920928955078125e-7,
          -3.380700945854187e-7,
          2.2351741790771484e-7,
          3.175809979438782e-7,
          1.7881393432617188e-7,
          2.3283064365386963e-7,
          -1.7881393432617188e-7,
          9.313225746154785e-9,
          -1.30385160446167e-7,
          1.7508864402770996e-7,
          -1.30385160446167e-7,
          2.2351741790771484e-7,
          -1.1548399925231934e-7,
          -1.6763806343078613e-7,
          -9.685754776000977e-8,
          1.4528632164001465e-7,
          1.8812716007232666e-7,
          -6.705522537231445e-8,
          -4.563480615615845e-8,
          6.332993507385254e-8,
          2.1420419216156006e-7,
          -1.8998980522155762e-7,
          7.450580596923828e-9,
          -2.384185791015625e-7,
          -1.4901161193847656e-8,
          1.0058283805847168e-7,
          4.284083843231201e-8,
          3.0174851417541504e-7,
          9.313225746154785e-8,
          -2.775341272354126e-7,
          8.195638656616211e-8,
          -2.0302832126617432e-7,
          1.7136335372924805e-7,
          -7.450580596923828e-8,
          -7.450580596923828e-9,
          3.725290298461914e-8,
          3.5762786865234375e-7,
          6.612390279769897e-8,
          1.862645149230957e-9,
          3.3527612686157227e-8,
          3.296881914138794e-7,
          1.1920928955078125e-7,
          -7.450580596923828e-9,
          -1.5273690223693848e-7,
          1.73225998878479e-7,
          2.7939677238464355e-8,
          -5.261972546577454e-7,
          -3.129243850708008e-7,
          1.8719583749771118e-7,
          -5.317851901054382e-7,
          -1.0803341865539551e-7,
          1.1734664440155029e-7,
          -3.501772880554199e-7,
          6.612390279769897e-8,
          -1.6763806343078613e-7,
          -9.872019290924072e-8,
          -1.5925616025924683e-7,
          1.2665987014770508e-7,
          7.450580596923828e-9,
          -6.984919309616089e-8,
          -2.60770320892334e-8,
          -4.10713255405426e-7,
          3.3527612686157227e-8,
          8.847564458847046e-8,
          2.7567148208618164e-7,
          3.725290298461914e-9,
          -4.470348358154297e-8,
          1.2293457984924316e-7,
          2.0489096641540527e-7,
          -2.7939677238464355e-7,
          -3.3527612686157227e-8,
          -9.313225746154785e-9,
          4.0512531995773315e-7,
          -1.0244548320770264e-7,
          9.406358003616333e-8,
          2.0209699869155884e-7,
          6.332993507385254e-8,
          3.3527612686157227e-8,
          7.450580596923828e-8,
          3.259629011154175e-8,
          -1.2479722499847412e-7,
          6.798654794692993e-8,
          -2.7194619178771973e-7,
          -3.771856427192688e-8,
          1.3783574104309082e-7,
          -4.470348358154297e-8,
          4.190951585769653e-8,
          -4.414469003677368e-7,
          -4.842877388000488e-8,
          3.427267074584961e-7,
          2.0023435354232788e-7,
          2.5425106287002563e-7,
          -1.3131648302078247e-7,
          1.862645149230957e-8,
          3.91155481338501e-8,
          -1.0151416063308716e-7,
          -8.288770914077759e-8,
          -1.6391277313232422e-7,
          1.7974525690078735e-7,
          -6.05359673500061e-8,
          5.774199962615967e-8,
          -1.5925616025924683e-7,
          2.598389983177185e-7,
          1.2200325727462769e-7,
          -4.10713255405426e-7,
          2.2351741790771484e-7,
          -5.8673322200775146e-8,
          4.936009645462036e-8,
          -4.0046870708465576e-8,
          -5.736947059631348e-7,
          -5.029141902923584e-8,
          -4.284083843231201e-8,
          1.5087425708770752e-7,
          3.3527612686157227e-8,
          3.632158041000366e-8,
          -3.902241587638855e-7,
          -2.4586915969848633e-7,
          4.6659260988235474e-7,
          2.7008354663848877e-8,
          9.313225746154785e-10,
          -3.259629011154175e-7,
          -2.7008354663848877e-8,
          1.210719347000122e-8,
          -1.6577541828155518e-7,
          -2.4400651454925537e-7,
          2.430751919746399e-7,
          -1.8812716007232666e-7,
          2.1792948246002197e-7,
          -1.0803341865539551e-7,
          -3.3993273973464966e-7,
          2.5331974029541016e-7,
          1.695007085800171e-7,
          -1.30385160446167e-7,
          1.3969838619232178e-7,
          -2.4028122425079346e-7,
          -1.0058283805847168e-7,
          1.5832483768463135e-7,
          2.039596438407898e-7,
          2.989545464515686e-7,
          1.4994293451309204e-7,
          -4.284083843231201e-8,
          2.5890767574310303e-7,
          -2.123415470123291e-7,
          -6.05359673500061e-8,
          1.9650906324386597e-7,
          2.0489096641540527e-8,
          -3.548339009284973e-7,
          -1.1082738637924194e-7,
          1.8440186977386475e-7,
          -2.477318048477173e-7,
          1.6577541828155518e-7,
          5.960464477539063e-8,
          1.5273690223693848e-7,
          -3.2782554626464844e-7,
          -1.6391277313232422e-7,
          6.705522537231445e-8,
          7.450580596923828e-8,
          1.6577541828155518e-7,
          -2.3096799850463867e-7,
          1.0989606380462646e-7,
          4.0046870708465576e-8,
          -1.6391277313232422e-7,
          7.450580596923828e-9,
          1.7415732145309448e-7,
          2.9802322387695312e-8,
          -1.564621925354004e-7,
          -7.078051567077637e-8,
          1.341104507446289e-7,
          2.7567148208618164e-7,
          8.940696716308594e-8,
          2.980232238769531e-7,
          -1.8998980522155762e-7,
          0,
          2.4586915969848633e-7,
          -1.4901161193847656e-8,
          8.568167686462402e-8,
          -1.1175870895385742e-7,
          3.650784492492676e-7,
          1.1175870895385742e-7,
          2.421438694000244e-7,
          -2.4586915969848633e-7,
          -2.0116567611694336e-7,
          -9.313225746154785e-8,
          4.842877388000488e-8,
          2.3469328880310059e-7,
          -2.980232238769531e-7,
          3.5762786865234375e-7,
          -1.4901161193847656e-7,
          -3.0547380447387695e-7,
          -4.76837158203125e-7,
          -2.8312206268310547e-7,
          -9.685754776000977e-8,
          -2.9802322387695312e-8,
          7.003545761108398e-7,
          8.940696716308594e-8,
          -1.9371509552001953e-7,
          -2.682209014892578e-7,
          5.960464477539063e-8,
          -2.7567148208618164e-7,
          -1.564621925354004e-7,
          1.1920928955078125e-7,
          -1.9371509552001953e-7,
          -3.725290298461914e-9,
          -1.9371509552001953e-7,
          2.086162567138672e-7,
          8.102506399154663e-8,
          -2.9802322387695312e-8,
          -2.9616057872772217e-7,
          1.7881393432617188e-7,
          -1.4156103134155273e-7,
          -2.9802322387695312e-8,
          3.725290298461914e-8,
          -8.940696716308594e-8,
          -3.0547380447387695e-7,
          5.21540641784668e-8,
          2.5331974029541016e-7,
          1.387670636177063e-7,
          1.6391277313232422e-7,
          -2.9802322387695312e-8,
          1.862645149230957e-7,
          3.7997961044311523e-7,
          3.427267074584961e-7,
          3.5762786865234375e-7,
          -4.3213367462158203e-7,
          -2.0675361156463623e-7,
          -1.6391277313232422e-7,
          -1.341104507446289e-7,
          -8.940696716308594e-8,
          1.4156103134155273e-7,
          -1.9371509552001953e-7,
          3.129243850708008e-7,
          2.123415470123291e-7,
          2.9802322387695312e-8,
          -5.960464477539063e-8,
          2.2351741790771484e-8,
          8.940696716308594e-8,
          -2.682209014892578e-7,
          4.470348358154297e-8,
          -2.980232238769531e-7,
          -4.470348358154297e-8,
          -3.5762786865234375e-7,
          1.7695128917694092e-8,
          -6.984919309616089e-8,
          -1.4901161193847656e-8,
          -2.60770320892334e-8,
          3.0919909477233887e-7,
          -2.1420419216156006e-8,
          -2.514570951461792e-7,
          -1.30385160446167e-8,
          1.5459954738616943e-7,
          -3.91155481338501e-8,
          3.501772880554199e-7,
          1.955777406692505e-7,
          -3.520399332046509e-7,
          -1.4901161193847656e-8,
          -5.21540641784668e-8,
          -3.6694109439849854e-7,
          -8.754432201385498e-8,
          -2.1606683731079102e-7,
          -2.7194619178771973e-7,
          4.470348358154297e-8,
          2.9802322387695312e-8,
          -3.78582626581192e-7,
          3.7532299757003784e-7,
          2.421438694000244e-8,
          -1.1920928955078125e-7,
          2.7706846594810486e-7,
          2.60770320892334e-7,
          -1.9231811165809631e-7,
          1.564621925354004e-7,
          1.6391277313232422e-7,
          -2.868473529815674e-7,
          -3.725290298461914e-8,
          2.8870999813079834e-8,
          -3.264285624027252e-7,
          -3.1385570764541626e-7,
          -4.791654646396637e-7,
          9.685754776000977e-8,
          2.2351741790771484e-7,
          2.505257725715637e-7,
          2.2351741790771484e-8,
          5.21540641784668e-8,
          -1.862645149230957e-7,
          -3.3527612686157227e-8,
          2.980232238769531e-7,
          6.705522537231445e-8,
          7.078051567077637e-8,
          1.862645149230957e-7,
          -8.568167686462402e-8,
          -3.296881914138794e-7,
          -3.259629011154175e-8,
          -1.7881393432617188e-7,
          -1.955777406692505e-7,
          2.896413207054138e-7,
          0,
          -9.685754776000977e-8,
          -2.384185791015625e-7,
          1.2665987014770508e-7,
          2.952292561531067e-7,
          -8.940696716308594e-8,
          -2.384185791015625e-7,
          -1.4901161193847656e-8,
          -3.8743019104003906e-7,
          -1.4901161193847656e-8,
          4.470348358154297e-8,
          2.635642886161804e-7,
          3.948807716369629e-7,
          -4.647299647331238e-7,
          -8.288770914077759e-8,
          -1.4156103134155273e-7,
          5.21540641784668e-8,
          7.450580596923828e-8,
          1.043081283569336e-7,
          3.725290298461914e-8,
          -1.4528632164001465e-7,
          -3.67872416973114e-8,
          3.026798367500305e-7,
          -1.9371509552001953e-7,
          -1.6391277313232422e-7,
          -8.940696716308594e-8,
          -1.1920928955078125e-7,
          -4.842877388000488e-7,
          -3.725290298461914e-9,
          -3.0547380447387695e-7,
          -8.568167686462402e-8,
          -1.0058283805847168e-7,
          -2.1979212760925293e-7,
          -3.7997961044311523e-7,
          -1.8440186977386475e-7,
          -2.4586915969848633e-7,
          -2.384185791015625e-7,
          -8.149072527885437e-8,
          1.7881393432617188e-7,
          4.023313522338867e-7,
          2.3096799850463867e-7,
          -3.725290298461914e-8,
          1.2665987014770508e-7,
          -2.2724270820617676e-7,
          -1.043081283569336e-7,
          -2.9802322387695312e-8,
          -8.940696716308594e-8,
          1.043081283569336e-7,
          6.705522537231445e-8,
          1.7136335372924805e-7,
          -1.8067657947540283e-7,
          8.568167686462402e-8,
          8.195638656616211e-8,
          1.4901161193847656e-8,
          -8.568167686462402e-8,
          3.380700945854187e-7,
          -3.818422555923462e-8,
          -9.313225746154785e-8,
          -7.078051567077637e-8,
          -6.705522537231445e-8,
          1.7043203115463257e-7,
          -3.0547380447387695e-7,
          1.6391277313232422e-7,
          -1.4156103134155273e-7,
          1.3783574104309082e-7,
          -1.4528632164001465e-7,
          1.9371509552001953e-7,
          -2.682209014892578e-7,
          4.256144165992737e-7,
          -2.0302832126617432e-7,
          -3.725290298461914e-8,
          1.7136335372924805e-7,
          -2.2351741790771484e-8,
          -3.296881914138794e-7,
          1.7136335372924805e-7,
          1.6391277313232422e-7,
          -3.650784492492676e-7,
          -1.043081283569336e-7,
          1.4901161193847656e-7,
          3.166496753692627e-8,
          1.862645149230957e-7,
          5.960464477539063e-8,
          2.3655593395233154e-7,
          4.991888999938965e-7,
          -7.59027898311615e-8,
          1.1175870895385742e-7,
          -5.960464477539063e-8,
          -4.917383193969727e-7,
          -4.470348358154297e-8,
          -2.5331974029541016e-7,
          -1.1175870895385742e-8,
          2.514570951461792e-7,
          2.9802322387695312e-8,
          -1.7136335372924805e-7,
          1.4528632164001465e-7,
          1.7881393432617188e-7,
          -2.3399479687213898e-7,
          -1.2293457984924316e-7,
          -2.0116567611694336e-7,
          -3.725290298461914e-8,
          3.725290298461914e-8,
          1.4901161193847656e-8,
          8.754432201385498e-8,
          1.1175870895385742e-8,
          2.2351741790771484e-8,
          4.0978193283081055e-7,
          -3.632158041000366e-7,
          -3.3527612686157227e-7,
          -3.8743019104003906e-7,
          1.1920928955078125e-7,
          -2.8312206268310547e-7,
          2.2724270820617676e-7,
          2.1792948246002197e-7,
          -5.587935447692871e-8,
          -8.940696716308594e-8,
          3.91155481338501e-7,
          2.3096799850463867e-7,
          2.7939677238464355e-8,
          3.0547380447387695e-7,
          2.5331974029541016e-7,
          -1.043081283569336e-7,
          1.4901161193847656e-8,
          -4.1909515857696533e-7,
          -2.0489096641540527e-8,
          8.568167686462402e-8,
          -2.1513551473617554e-7,
          -1.0058283805847168e-7,
          -2.086162567138672e-7,
          5.21540641784668e-8,
          -1.3224780559539795e-7,
          8.195638656616211e-8,
          -1.1175870895385742e-7,
          -2.60770320892334e-7,
          -4.6566128730773926e-9,
          -3.203749656677246e-7,
          1.7136335372924805e-7,
          2.2351741790771484e-8,
          1.434236764907837e-7,
          -1.1175870895385742e-8,
          -1.434236764907837e-7,
          -1.1082738637924194e-7,
          4.470348358154297e-8,
          2.812594175338745e-7,
          -2.4586915969848633e-7,
          4.284083843231201e-8,
          -1.8533319234848022e-7,
          1.5273690223693848e-7,
          1.4156103134155273e-7,
          1.4528632164001465e-7,
          2.2351741790771484e-7,
          1.7136335372924805e-7,
          1.6391277313232422e-7,
          1.30385160446167e-7,
          -2.9802322387695312e-8,
          -9.499490261077881e-8,
          3.213062882423401e-8,
          -1.7508864402770996e-7,
          -2.1979212760925293e-7,
          -5.21540641784668e-8,
          3.427267074584961e-7,
          1.0989606380462646e-7,
          3.203749656677246e-7,
          2.384185791015625e-7,
          -1.564621925354004e-7,
          -1.862645149230957e-7,
          1.4901161193847656e-7,
          2.421438694000244e-7,
          3.725290298461914e-8,
          -2.1420419216156006e-7,
          2.849847078323364e-7,
          8.754432201385498e-8,
          -1.7881393432617188e-7,
          4.470348358154297e-8,
          1.5366822481155396e-7,
          -7.450580596923828e-8,
          -3.6135315895080566e-7,
          -3.0919909477233887e-7,
          -2.2351741790771484e-8,
          -7.078051567077637e-8,
          4.470348358154297e-8,
          4.7497451305389404e-7,
          1.1734664440155029e-7,
          -1.1920928955078125e-7,
          -8.381903171539307e-8,
          -3.296881914138794e-7,
          2.9802322387695312e-8,
          1.6763806343078613e-7,
          -2.0116567611694336e-7,
          -5.21540641784668e-8,
          -2.644956111907959e-7,
          5.364418029785156e-7,
          2.4586915969848633e-7,
          -1.0803341865539551e-7,
          1.30385160446167e-7,
          -6.332993507385254e-8,
          -8.89413058757782e-8,
          4.866160452365875e-8,
          -1.5366822481155396e-7,
          2.682209014892578e-7,
          -1.30385160446167e-8,
          5.587935447692871e-8,
          1.2293457984924316e-7,
          2.7939677238464355e-8,
          -4.507601261138916e-7,
          8.940696716308594e-8,
          2.1606683731079102e-7,
          7.82310962677002e-8,
          -9.313225746154785e-9,
          -4.842877388000488e-8,
          2.60770320892334e-8,
          -2.5425106287002563e-7,
          -7.82310962677002e-8,
          -2.849847078323364e-7,
          -1.0617077350616455e-7,
          -2.7567148208618164e-7,
          4.190951585769653e-8,
          2.1094456315040588e-7,
          -2.086162567138672e-7,
          1.0058283805847168e-7,
          1.2665987014770508e-7,
          -1.1548399925231934e-7,
          3.557652235031128e-7,
          1.862645149230957e-9,
          -1.7881393432617188e-7,
          7.450580596923828e-9,
          -2.3469328880310059e-7,
          2.5425106287002563e-7,
          3.725290298461914e-9,
          1.3224780559539795e-7,
          -2.6542693376541138e-8,
          -1.4901161193847656e-8,
          -1.471489667892456e-7,
          9.499490261077881e-8,
          5.960464477539063e-8,
          4.3213367462158203e-7,
          1.5087425708770752e-7,
          -4.936009645462036e-8,
          1.862645149230957e-7,
          -3.3248215913772583e-7,
          1.1920928955078125e-7,
          4.470348358154297e-8,
          6.891787052154541e-8,
          -1.1175870895385742e-7,
          -2.384185791015625e-7,
          -1.7508864402770996e-7,
          -1.1641532182693481e-7,
          3.725290298461914e-8,
          -2.253800630569458e-7,
          -6.146728992462158e-8,
          1.1082738637924194e-7,
          1.8067657947540283e-7,
          -2.1047890186309814e-7,
          2.2351741790771484e-7,
          2.39349901676178e-7,
          5.4016709327697754e-8,
          -1.8067657947540283e-7,
          5.029141902923584e-8,
          2.1606683731079102e-7,
          9.12696123123169e-8,
          4.209578037261963e-7,
          1.1920928955078125e-7,
          -1.2665987014770508e-7,
          3.725290298461914e-9,
          1.7136335372924805e-7,
          2.0116567611694336e-7,
          1.3224780559539795e-7,
          -7.82310962677002e-8,
          2.2910535335540771e-7,
          -1.1362135410308838e-7,
          -1.4901161193847656e-8,
          -7.450580596923828e-8,
          7.450580596923828e-8,
          -1.1175870895385742e-7,
          3.166496753692627e-8,
          7.12461769580841e-8,
          -2.2351741790771484e-8,
          3.501772880554199e-7,
          1.043081283569336e-7,
          1.103617250919342e-7,
          -4.023313522338867e-7,
          1.8067657947540283e-7,
          1.9371509552001953e-7,
          -1.6763806343078613e-8,
          2.1606683731079102e-7,
          1.564621925354004e-7,
          6.798654794692993e-8,
          1.1920928955078125e-7,
          -1.3783574104309082e-7,
          8.381903171539307e-9,
          2.086162567138672e-7,
          -1.9371509552001953e-7,
          -9.313225746154785e-8,
          2.60770320892334e-7,
          -1.0244548320770264e-7,
          1.2665987014770508e-7,
          1.862645149230957e-8,
          -6.705522537231445e-8,
          2.421438694000244e-8,
          2.60770320892334e-8,
          1.1920928955078125e-7,
          -2.123415470123291e-7,
          -7.450580596923828e-8,
          3.725290298461914e-8,
          -1.564621925354004e-7,
          1.30385160446167e-7,
          -5.960464477539063e-8,
          2.384185791015625e-7,
          -2.9802322387695312e-8,
          -4.842877388000488e-8,
          -2.384185791015625e-7,
          -1.4528632164001465e-7,
          -1.341104507446289e-7,
          -3.390014171600342e-7,
          -1.1641532182693481e-7,
          4.302710294723511e-7,
          1.4901161193847656e-7,
          3.334134817123413e-7,
          1.825392246246338e-7,
          7.82310962677002e-8,
          -3.2782554626464844e-7,
          2.7567148208618164e-7,
          1.4901161193847656e-8,
          8.381903171539307e-8,
          3.427267074584961e-7,
          -2.5331974029541016e-7,
          -2.4586915969848633e-7,
          2.384185791015625e-7,
          2.9802322387695312e-8,
          4.470348358154297e-8,
          1.862645149230957e-7,
          -8.195638656616211e-8,
          1.7881393432617188e-7,
          -1.2665987014770508e-7,
          -3.688037395477295e-7,
          -5.3085386753082275e-8,
          -4.470348358154297e-8,
          2.3096799850463867e-7,
          -2.980232238769531e-7,
          2.4586915969848633e-7,
          -3.129243850708008e-7,
          2.60770320892334e-8,
          -7.264316082000732e-8,
          -9.313225746154785e-8,
          1.8998980522155762e-7,
          3.0919909477233887e-7,
          -4.4889748096466064e-7,
          2.3096799850463867e-7,
          3.6694109439849854e-7,
          8.568167686462402e-8,
          0,
          2.4586915969848633e-7,
          0,
          -7.078051567077637e-8,
          2.9103830456733704e-7,
          -9.313225746154785e-9,
          1.043081283569336e-7,
          2.5890767574310303e-7,
          1.8812716007232666e-7,
          -5.21540641784668e-7,
          -7.35744833946228e-8,
          4.0978193283081055e-8,
          -5.4016709327697754e-8,
          6.891787052154541e-8,
          -9.313225746154785e-8,
          1.4156103134155273e-7,
          2.2631138563156128e-7,
          -3.6973506212234497e-7,
          2.0302832126617432e-7,
          -3.7997961044311523e-7,
          -1.341104507446289e-7,
          -2.2724270820617676e-7,
          5.62518835067749e-7,
          -7.450580596923828e-8,
          6.407499313354492e-7,
          -1.043081283569336e-7,
          -2.1606683731079102e-7,
          2.5425106287002563e-7,
          1.825392246246338e-7,
          3.5529956221580505e-7,
          -3.3155083656311035e-7,
          -1.862645149230957e-8,
          3.7997961044311523e-7,
          1.471489667892456e-7,
          -2.3655593395233154e-7,
          -2.6263296604156494e-7,
          -2.1606683731079102e-7,
          4.544854164123535e-7,
          -7.450580596923828e-9,
          8.195638656616211e-8,
          -2.2351741790771484e-8,
          1.9371509552001953e-7,
          2.0675361156463623e-7,
          -5.960464477539063e-8,
          -1.564621925354004e-7,
          -9.685754776000977e-8,
          -5.587935447692871e-8,
          1.6391277313232422e-7,
          1.4901161193847656e-8,
          -1.210719347000122e-7,
          2.5331974029541016e-7,
          -7.450580596923828e-9,
          5.774199962615967e-8,
          5.587935447692871e-7,
          -3.129243850708008e-7,
          3.129243850708008e-7,
          4.5634806156158447e-7,
          -4.5821070671081543e-7,
          8.195638656616211e-8,
          1.1827796697616577e-7,
          -3.073364496231079e-8,
          -2.0489096641540527e-7,
          3.2782554626464844e-7,
          1.1920928955078125e-7,
          1.1175870895385742e-8,
          1.4901161193847656e-7,
          1.7136335372924805e-7,
          1.0803341865539551e-7,
          1.043081283569336e-7,
          1.9371509552001953e-7,
          6.705522537231445e-8,
          -8.940696716308594e-8,
          -2.644956111907959e-7,
          -9.685754776000977e-8,
          -2.2258609533309937e-7,
          -2.682209014892578e-7,
          3.3993273973464966e-8,
          7.450580596923828e-8,
          -6.426125764846802e-8,
          -1.341104507446289e-7,
          2.868473529815674e-7,
          1.0803341865539551e-7,
          2.2351741790771484e-8,
          -2.0675361156463623e-7,
          7.450580596923828e-9,
          -1.564621925354004e-7,
          -2.60770320892334e-8,
          -2.2444874048233032e-7,
          -1.7695128917694092e-7,
          -1.4901161193847656e-8,
          -2.3469328880310059e-7,
          -1.7136335372924805e-7,
          5.140900611877441e-7,
          0,
          -9.685754776000977e-8,
          -1.1920928955078125e-7,
          -2.1979212760925293e-7,
          -2.1792948246002197e-7,
          2.682209014892578e-7,
          -5.21540641784668e-8,
          -2.5331974029541016e-7,
          2.5331974029541016e-7,
          -4.470348358154297e-8,
          -1.30385160446167e-8,
          1.2665987014770508e-7,
          1.4901161193847656e-8,
          3.3527612686157227e-7,
          9.685754776000977e-8,
          -2.421438694000244e-8,
          2.477318048477173e-7,
          1.1175870895385742e-7,
          -1.6391277313232422e-7,
          -3.3527612686157227e-7,
          -2.5704503059387207e-7,
          3.0547380447387695e-7,
          2.7474015951156616e-8,
          2.4400651454925537e-7,
          -2.8405338525772095e-7,
          1.341104507446289e-7,
          -1.601874828338623e-7,
          -1.7881393432617188e-7,
          -1.8300488591194153e-7,
          2.8312206268310547e-7,
          2.421438694000244e-8,
          3.129243850708008e-7,
          5.103647708892822e-7,
          -3.0174851417541504e-7,
          8.195638656616211e-8,
          -2.3469328880310059e-7,
          9.778887033462524e-9,
          -3.725290298461914e-8,
          -2.3096799850463867e-7,
          5.21540641784668e-8,
          1.4901161193847656e-8,
          3.725290298461914e-8,
          5.681067705154419e-8,
          -1.1455267667770386e-7,
          -4.842877388000488e-8,
          -6.239861249923706e-8,
          1.778826117515564e-7,
          -1.2014061212539673e-7,
          1.862645149230957e-8,
          -3.296881914138794e-7,
          -2.1792948246002197e-7,
          1.825392246246338e-7,
          9.685754776000977e-8,
          -3.2689422369003296e-7,
          3.5762786865234375e-7,
          2.5704503059387207e-7,
          1.4901161193847656e-8,
          -2.3283064365386963e-8,
          3.1385570764541626e-7,
          4.246830940246582e-7,
          2.0116567611694336e-7,
          -2.421438694000244e-8,
          5.21540641784668e-8,
          1.5273690223693848e-7,
          1.0989606380462646e-7,
          -1.7695128917694092e-7,
          2.2351741790771484e-7,
          3.417953848838806e-7,
          1.1548399925231934e-7,
          -1.1175870895385742e-8,
          -1.601874828338623e-7,
          7.450580596923828e-8,
          4.470348358154297e-8,
          3.688037395477295e-7,
          -3.203749656677246e-7,
          -9.778887033462524e-8,
          -1.0244548320770264e-7,
          4.6566128730773926e-8,
          -1.4156103134155273e-7,
          -1.8440186977386475e-7,
          1.2293457984924316e-7,
          3.129243850708008e-7,
          -3.725290298461914e-9,
          -1.0058283805847168e-7,
          -2.6263296604156494e-7,
          -9.499490261077881e-8,
          4.0046870708465576e-8,
          2.3469328880310059e-7,
          1.043081283569336e-7,
          -5.21540641784668e-8,
          -1.1175870895385742e-8,
          2.337619662284851e-7,
          -3.3527612686157227e-8,
          -6.332993507385254e-8,
          -1.8440186977386475e-7,
          2.253800630569458e-7,
          -5.8673322200775146e-8,
          2.384185791015625e-7,
          -3.725290298461914e-7,
          -8.568167686462402e-8,
          -6.705522537231445e-8,
          -2.905726432800293e-7,
          9.685754776000977e-8,
          2.1606683731079102e-7,
          -2.1979212760925293e-7,
          -3.5390257835388184e-7,
          -2.9802322387695312e-8,
          -3.5762786865234375e-7,
          7.450580596923828e-8,
          -1.0058283805847168e-7,
          -2.9802322387695312e-8,
          5.21540641784668e-8,
          5.587935447692871e-7,
          -1.4901161193847656e-7,
          -1.7881393432617188e-7,
          1.4901161193847656e-8,
          -2.2351741790771484e-8,
          2.086162567138672e-7,
          8.940696716308594e-8,
          3.427267074584961e-7,
          1.9744038581848145e-7,
          4.880130290985107e-7,
          1.9744038581848145e-7,
          -2.7939677238464355e-7,
          -3.3155083656311035e-7,
          1.7881393432617188e-7,
          -1.7881393432617188e-7,
          -1.8998980522155762e-7,
          4.0978193283081055e-8,
          7.078051567077637e-7,
          -4.023313522338867e-7,
          1.564621925354004e-7,
          3.129243850708008e-7,
          -1.4901161193847656e-8,
          -1.9371509552001953e-7,
          -2.905726432800293e-7,
          1.1175870895385742e-7,
          -2.942979335784912e-7,
          1.9371509552001953e-7,
          2.60770320892334e-7,
          1.1920928955078125e-7,
          1.2665987014770508e-7,
          1.341104507446289e-7,
          1.6391277313232422e-7,
          -1.4901161193847656e-8,
          4.4330954551696777e-7,
          2.8312206268310547e-7,
          2.4586915969848633e-7,
          -1.4901161193847656e-7,
          -2.9802322387695312e-8,
          8.568167686462402e-8,
          5.960464477539063e-8,
          -1.341104507446289e-7,
          -3.3155083656311035e-7,
          4.172325134277344e-7,
          -2.905726432800293e-7,
          -1.341104507446289e-7,
          -1.5273690223693848e-7,
          3.6135315895080566e-7,
          3.2782554626464844e-7,
          4.5821070671081543e-7,
          1.4901161193847656e-7,
          -4.470348358154297e-8,
          5.587935447692871e-8,
          -2.980232238769531e-7,
          3.166496753692627e-8,
          2.1979212760925293e-7,
          -1.564621925354004e-7,
          -2.1606683731079102e-7,
          -2.384185791015625e-7,
          -1.341104507446289e-7,
          -7.078051567077637e-8,
          -4.0978193283081055e-7,
          1.341104507446289e-7,
          1.7881393432617188e-7,
          7.450580596923828e-8,
          -1.4901161193847656e-8,
          -7.450580596923828e-8,
          -2.0116567611694336e-7,
          -2.384185791015625e-7,
          1.4901161193847656e-7,
          -1.4901161193847656e-8,
          -2.942979335784912e-7,
          -1.341104507446289e-7,
          1.6391277313232422e-7,
          -1.601874828338623e-7,
          1.341104507446289e-7,
          4.470348358154297e-8,
          2.8312206268310547e-7,
          -1.1920928955078125e-7,
          0,
          -7.078051567077637e-8,
          2.8312206268310547e-7,
          6.332993507385254e-8,
          -1.1175870895385742e-7,
          3.203749656677246e-7,
          -3.427267074584961e-7,
          -5.21540641784668e-8,
          -5.960464477539063e-8,
          1.30385160446167e-7,
          -5.736947059631348e-7,
          -1.043081283569336e-7,
          9.685754776000977e-8,
          -1.4901161193847656e-7,
          2.4586915969848633e-7,
          2.0116567611694336e-7,
          2.9802322387695312e-8,
          -1.5273690223693848e-7,
          -2.5704503059387207e-7,
          4.0978193283081055e-8,
          2.2165477275848389e-7,
          -2.9802322387695312e-8,
          1.2665987014770508e-7,
          0,
          -1.9371509552001953e-7,
          6.332993507385254e-8,
          2.1979212760925293e-7,
          2.421438694000244e-7,
          -4.0978193283081055e-7,
          5.6694261729717255e-8,
          -1.0617077350616455e-7,
          -7.450580596923828e-9,
          -2.086162567138672e-7,
          1.0617077350616455e-7,
          -2.980232238769531e-7,
          4.470348358154297e-8,
          -2.4097971618175507e-7,
          -1.564621925354004e-7,
          -1.825392246246338e-7,
          -1.4901161193847656e-8,
          -2.1420419216156006e-7,
          1.6763806343078613e-7,
          -6.915070116519928e-8,
          -1.0244548320770264e-7,
          -3.5390257835388184e-7,
          7.450580596923828e-8,
          -5.681067705154419e-8,
          1.6437843441963196e-7,
          1.6391277313232422e-7,
          2.4400651454925537e-7,
          3.6694109439849854e-7,
          -9.313225746154785e-9,
          -2.3283064365386963e-7,
          2.60770320892334e-7,
          -1.9744038581848145e-7,
          1.9371509552001953e-7,
          -4.3213367462158203e-7,
          1.9744038581848145e-7,
          4.470348358154297e-8,
          4.507601261138916e-7,
          -5.960464477539063e-8,
          -1.3224780559539795e-7,
          5.960464477539063e-8,
          1.4901161193847656e-8,
          1.955777406692505e-7,
          -9.313225746154785e-8,
          1.7881393432617188e-7,
          -2.3748725652694702e-7,
          2.551823854446411e-7,
          -3.650784492492676e-7,
          7.450580596923828e-9,
          1.825392246246338e-7,
          1.4901161193847656e-8,
          1.7136335372924805e-7,
          -3.5762786865234375e-7,
          1.1408701539039612e-7,
          3.0873343348503113e-7,
          -2.60770320892334e-8,
          0,
          3.166496753692627e-8,
          -2.2165477275848389e-7,
          2.0489096641540527e-8,
          3.725290298461914e-8,
          -6.705522537231445e-8,
          1.7136335372924805e-7,
          2.123415470123291e-7,
          1.0896474123001099e-7,
          -2.2351741790771484e-7,
          -2.5331974029541016e-7,
          2.086162567138672e-7,
          -1.9744038581848145e-7,
          -1.564621925354004e-7,
          -1.4156103134155273e-7,
          2.421438694000244e-7,
          8.009374141693115e-8,
          5.21540641784668e-8,
          5.494803190231323e-8,
          2.7939677238464355e-7,
          3.781169652938843e-7,
          7.82310962677002e-8,
          -1.341104507446289e-7,
          -6.705522537231445e-8,
          -4.172325134277344e-7,
          1.2665987014770508e-7,
          -1.424923539161682e-7,
          -1.126900315284729e-7,
          -4.284083843231201e-8,
          4.470348358154297e-8,
          2.5331974029541016e-7,
          -1.8998980522155762e-7,
          5.4016709327697754e-8,
          -1.7881393432617188e-7,
          1.862645149230957e-7,
          -3.1851232051849365e-7,
          1.7508864402770996e-7,
          -1.2665987014770508e-7,
          -3.3527612686157227e-7,
          -5.960464477539063e-8,
          1.1734664440155029e-7,
          1.2665987014770508e-7,
          2.8312206268310547e-7,
          -4.284083843231201e-8,
          -1.026783138513565e-7,
          -7.636845111846924e-8,
          -3.2782554626464844e-7,
          -1.3783574104309082e-7,
          2.7567148208618164e-7,
          -3.650784492492676e-7,
          -6.705522537231445e-8,
          -2.2351741790771484e-7,
          -3.4458935260772705e-8,
          -1.7136335372924805e-7,
          -8.195638656616211e-8,
          -1.0617077350616455e-7,
          3.91155481338501e-8,
          -4.76837158203125e-7,
          -5.960464477539063e-8,
          -3.166496753692627e-7,
          1.1920928955078125e-7,
          -9.313225746154785e-8,
          4.470348358154297e-8,
          -1.043081283569336e-7,
          2.384185791015625e-7,
          -4.470348358154297e-8,
          1.564621925354004e-7,
          -3.3155083656311035e-7,
          4.0978193283081055e-8,
          -7.078051567077637e-8,
          -2.2351741790771484e-8,
          -5.075708031654358e-8,
          -3.3527612686157227e-7,
          2.300366759300232e-7,
          -1.4156103134155273e-7,
          -3.725290298461914e-8,
          1.2479722499847412e-7,
          1.7881393432617188e-7,
          -7.450580596923828e-8,
          -1.0058283805847168e-7,
          -2.4586915969848633e-7,
          9.220093488693237e-8,
          1.4156103134155273e-7,
          8.195638656616211e-8,
          -1.0058283805847168e-7,
          -7.450580596923828e-8,
          -2.2351741790771484e-8,
          0,
          2.2351741790771484e-8,
          2.6030465960502625e-7,
          1.564621925354004e-7,
          3.296881914138794e-7,
          -1.7136335372924805e-7,
          -1.6391277313232422e-7,
          -1.4901161193847656e-8,
          7.82310962677002e-8,
          -1.6391277313232422e-7,
          -3.725290298461914e-9,
          1.6205012798309326e-7,
          2.998858690261841e-7,
          -2.551823854446411e-7,
          -1.9744038581848145e-7,
          -3.129243850708008e-7,
          1.695007085800171e-7,
          8.195638656616211e-8,
          -5.21540641784668e-8,
          -1.1175870895385742e-8,
          2.980232238769531e-7,
          7.450580596923828e-9,
          -5.21540641784668e-8,
          -2.9802322387695312e-8,
          7.450580596923828e-8,
          6.705522537231445e-8,
          1.9744038581848145e-7,
          -6.51925802230835e-9,
          2.086162567138672e-7,
          -1.3969838619232178e-7,
          -9.313225746154785e-9,
          -9.685754776000977e-8,
          -1.862645149230957e-8,
          2.0116567611694336e-7,
          -3.725290298461914e-8,
          -4.470348358154297e-8,
          1.0058283805847168e-7,
          1.1175870895385742e-8,
          -3.948807716369629e-7,
          -3.650784492492676e-7,
          -1.4901161193847656e-8,
          7.450580596923828e-8,
          -5.4016709327697754e-8,
          7.450580596923828e-8,
          3.129243850708008e-7,
          1.2665987014770508e-7,
          9.313225746154785e-8,
          1.2759119272232056e-7,
          -4.190951585769653e-9,
          2.905726432800293e-7,
          4.470348358154297e-8,
          -2.2165477275848389e-7,
          -7.450580596923828e-8,
          1.3783574104309082e-7,
          -2.2351741790771484e-8,
          -2.9313378036022186e-7,
          -8.568167686462402e-8,
          -1.7136335372924805e-7,
          2.421438694000244e-7,
          1.6391277313232422e-7,
          -1.341104507446289e-7,
          -1.0989606380462646e-7,
          -7.264316082000732e-8,
          8.940696716308594e-8,
          -8.568167686462402e-8,
          -1.3504177331924438e-7,
          -4.76837158203125e-7,
          3.1385570764541626e-7,
          -5.21540641784668e-8,
          2.384185791015625e-7,
          1.2665987014770508e-7,
          1.9371509552001953e-7,
          -3.129243850708008e-7,
          -4.470348358154297e-8,
          4.516914486885071e-8,
          -2.0116567611694336e-7,
          3.3527612686157227e-8,
          -3.129243850708008e-7,
          -3.501772880554199e-7,
          -9.685754776000977e-8,
          3.0547380447387695e-7,
          -1.2293457984924316e-7,
          4.805624485015869e-7,
          2.60770320892334e-8,
          3.0547380447387695e-7,
          4.805624485015869e-7,
          -3.501772880554199e-7,
          -3.46451997756958e-7,
          1.4901161193847656e-8,
          -2.7194619178771973e-7,
          1.5273690223693848e-7,
          2.6263296604156494e-7,
          -1.2665987014770508e-7,
          -2.5331974029541016e-7,
          2.2351741790771484e-7,
          -2.3096799850463867e-7,
          -1.6763806343078613e-8,
          -2.905726432800293e-7,
          -1.6205012798309326e-7,
          -4.5821070671081543e-7,
          -1.7136335372924805e-7,
          1.2479722499847412e-7,
          3.725290298461914e-9,
          1.1082738637924194e-7,
          -1.9185245037078857e-7,
          1.341104507446289e-7,
          -1.816079020500183e-7,
          1.0058283805847168e-7,
          -1.1920928955078125e-7,
          -3.0547380447387695e-7,
          1.862645149230957e-7,
          8.754432201385498e-8,
          1.1175870895385742e-7,
          -7.078051567077637e-8,
          2.8940849006175995e-7,
          2.1606683731079102e-7,
          -9.685754776000977e-8,
          2.942979335784912e-7,
          3.241002559661865e-7,
          2.2351741790771484e-8,
          -2.4959444999694824e-7,
          3.725290298461914e-9,
          1.9371509552001953e-7,
          2.5331974029541016e-7,
          2.384185791015625e-7,
          1.30385160446167e-8,
          5.774199962615967e-8,
          3.0547380447387695e-7,
          -1.0523945093154907e-7,
          1.7229467630386353e-8,
          1.4901161193847656e-7,
          2.2351741790771484e-8,
          4.0978193283081055e-8,
          -1.4156103134155273e-7,
          -6.705522537231445e-8,
          3.725290298461914e-8,
          -2.7567148208618164e-7,
          -6.146728992462158e-8,
          3.7066638469696045e-7,
          3.725290298461914e-9,
          -7.450580596923828e-9,
          2.4586915969848633e-7,
          -4.470348358154297e-7,
          -8.195638656616211e-8,
          -1.043081283569336e-7,
          1.6205012798309326e-7,
          -4.842877388000488e-8,
          -2.5331974029541016e-7,
          -4.842877388000488e-8,
          -4.507601261138916e-7,
          -2.9802322387695312e-8,
          5.494803190231323e-8,
          2.2724270820617676e-7,
          -1.257285475730896e-8,
          -8.195638656616211e-8,
          -1.1175870895385742e-7,
          -4.842877388000488e-8,
          -3.427267074584961e-7,
          -1.8812716007232666e-7,
          1.1548399925231934e-7,
          1.1175870895385742e-8,
          -2.7939677238464355e-7,
          -8.195638656616211e-8,
          -1.8067657947540283e-7,
          4.246830940246582e-7,
          -5.960464477539063e-8,
          4.470348358154297e-8,
          -3.46451997756958e-7,
          6.705522537231445e-8,
          -4.6566128730773926e-8,
          2.253800630569458e-7,
          7.078051567077637e-8,
          -1.8673017621040344e-7,
          -7.636845111846924e-8,
          -8.195638656616211e-8,
          1.4994293451309204e-7,
          1.2293457984924316e-7,
          2.5331974029541016e-7,
          -5.21540641784668e-8,
          -2.644956111907959e-7,
          1.471489667892456e-7,
          -1.2665987014770508e-7,
          3.725290298461914e-8,
          1.2828968465328217e-7,
          -5.960464477539063e-8,
          2.2351741790771484e-7,
          -4.998873919248581e-7,
          -1.341104507446289e-7,
          -1.4156103134155273e-7,
          -2.3748725652694702e-7,
          3.3527612686157227e-8,
          1.1175870895385742e-7,
          -9.12696123123169e-8,
          1.73225998878479e-7,
          4.172325134277344e-7,
          -1.1548399925231934e-7,
          7.82310962677002e-8,
          1.2665987014770508e-7,
          1.7834827303886414e-7,
          -2.1979212760925293e-7,
          5.21540641784668e-8,
          1.9371509552001953e-7,
          -5.704350769519806e-8,
          -5.923211574554443e-7,
          2.7939677238464355e-7,
          -2.682209014892578e-7,
          -2.4586915969848633e-7,
          3.725290298461914e-8,
          1.0803341865539551e-7,
          -6.705522537231445e-8,
          -1.6763806343078613e-7,
          -2.123415470123291e-7,
          -1.043081283569336e-7,
          -2.2351741790771484e-8,
          -4.5634806156158447e-7,
          -5.587935447692871e-8,
          -7.636845111846924e-8,
          4.0978193283081055e-8,
          1.601874828338623e-7,
          -7.450580596923828e-9,
          1.5273690223693848e-7,
          1.2665987014770508e-7,
          -7.450580596923828e-9,
          -1.4528632164001465e-7,
          -2.2165477275848389e-7,
          4.6566128730773926e-8,
          -2.9802322387695312e-8,
          2.8312206268310547e-7,
          -5.587935447692871e-7,
          -1.7136335372924805e-7,
          2.989545464515686e-7,
          1.1175870895385742e-8,
          2.3562461137771606e-7,
          -1.4901161193847656e-7,
          -7.82310962677002e-8,
          -2.1420419216156006e-8,
          5.029141902923584e-8,
          -1.564621925354004e-7,
          2.4028122425079346e-7,
          2.5704503059387207e-7,
          1.7695128917694092e-8,
          2.551823854446411e-7,
          6.780028343200684e-7,
          -2.5890767574310303e-7,
          2.7939677238464355e-8,
          -3.334134817123413e-7,
          -2.2351741790771484e-7,
          1.4901161193847656e-7,
          3.725290298461914e-7,
          -1.043081283569336e-7,
          -1.8998980522155762e-7,
          2.3096799850463867e-7,
          2.5331974029541016e-7,
          -6.51925802230835e-8,
          -2.5890767574310303e-7,
          -1.3597309589385986e-7,
          1.0291114449501038e-7,
          3.46451997756958e-7,
          -1.564621925354004e-7,
          -1.1175870895385742e-8,
          2.0489096641540527e-7,
          -8.940696716308594e-8,
          3.725290298461914e-8,
          -4.023313522338867e-7,
          -3.2782554626464844e-7,
          8.568167686462402e-8,
          2.5331974029541016e-7,
          2.3096799850463867e-7,
          3.725290298461914e-8,
          6.705522537231445e-8,
          3.8743019104003906e-7,
          1.4901161193847656e-7,
          -1.1175870895385742e-7,
          4.470348358154297e-8,
          1.1548399925231934e-7,
          7.450580596923828e-8,
          -2.9802322387695312e-8,
          2.384185791015625e-7,
          2.682209014892578e-7,
          1.7881393432617188e-7,
          -8.568167686462402e-8,
          1.1920928955078125e-7,
          5.21540641784668e-8,
          -1.862645149230957e-7,
          2.086162567138672e-7,
          4.0978193283081055e-8,
          -1.4901161193847656e-8,
          -1.9371509552001953e-7,
          3.3527612686157227e-8,
          -2.5331974029541016e-7,
          -2.905726432800293e-7,
          -5.21540641784668e-8,
          -1.4901161193847656e-8,
          -4.917383193969727e-7,
          0,
          -1.4901161193847656e-8,
          5.21540641784668e-8,
          2.086162567138672e-7,
          -2.6775524020195007e-7,
          -1.4156103134155273e-7,
          1.564621925354004e-7,
          -5.960464477539063e-8,
          1.1175870895385742e-7,
          -2.819579094648361e-7,
          7.450580596923828e-9,
          3.725290298461914e-9,
          -5.960464477539063e-8,
          6.705522537231445e-8,
          -8.195638656616211e-8,
          4.0978193283081055e-8,
          5.960464477539063e-8,
          -4.842877388000488e-8,
          -8.940696716308594e-8,
          1.043081283569336e-7,
          8.195638656616211e-8,
          3.0174851417541504e-7,
          -2.2724270820617676e-7,
          -2.8708018362522125e-7,
          2.5704503059387207e-7,
          -1.4901161193847656e-8,
          -5.005858838558197e-7,
          1.7136335372924805e-7,
          -5.21540641784668e-8,
          7.450580596923828e-9,
          9.313225746154785e-8,
          -2.9802322387695312e-8,
          -4.842877388000488e-8,
          6.705522537231445e-8,
          8.568167686462402e-8,
          -1.043081283569336e-7,
          0,
          -3.725290298461914e-7,
          4.842877388000488e-8,
          1.9371509552001953e-7,
          2.9802322387695312e-8,
          -7.450580596923828e-8,
          4.470348358154297e-8,
          -1.1548399925231934e-7,
          1.4901161193847656e-8,
          2.4959444999694824e-7,
          -3.3155083656311035e-7,
          -1.043081283569336e-7,
          1.862645149230957e-7,
          -2.2351741790771484e-7,
          -1.1920928955078125e-7,
          5.960464477539063e-8,
          -6.984919309616089e-10,
          8.568167686462402e-8,
          2.7567148208618164e-7,
          1.2665987014770508e-7,
          2.1606683731079102e-7,
          1.4901161193847656e-7,
          -1.564621925354004e-7,
          7.450580596923828e-8,
          0,
          4.842877388000488e-8,
          -8.195638656616211e-8,
          -2.1979212760925293e-7,
          2.7567148208618164e-7,
          -5.21540641784668e-8,
          7.450580596923828e-9,
          1.4901161193847656e-8,
          1.6391277313232422e-7,
          -9.685754776000977e-8,
          2.5331974029541016e-7,
          -4.507601261138916e-7,
          2.5704503059387207e-7,
          1.9371509552001953e-7,
          -7.078051567077637e-8,
          3.3527612686157227e-8,
          -6.705522537231445e-8,
          -1.0803341865539551e-7,
          -5.960464477539063e-8,
          7.450580596923828e-8,
          -3.948807716369629e-7,
          3.2782554626464844e-7,
          2.60770320892334e-7,
          2.905726432800293e-7,
          2.123415470123291e-7,
          9.685754776000977e-8,
          -1.755543053150177e-7,
          -1.862645149230957e-7,
          -2.2351741790771484e-8,
          1.1175870895385742e-7,
          9.685754776000977e-8,
          8.940696716308594e-8,
          -3.948807716369629e-7,
          8.195638656616211e-8,
          -1.4901161193847656e-8,
          -2.682209014892578e-7,
          0,
          4.3213367462158203e-7,
          -2.7567148208618164e-7,
          -8.195638656616211e-8,
          -2.3096799850463867e-7,
          -1.6391277313232422e-7,
          1.4901161193847656e-7,
          -2.4586915969848633e-7,
          4.470348358154297e-8,
          3.725290298461914e-8,
          1.1175870895385742e-7,
          1.3504177331924438e-7,
          2.1606683731079102e-7,
          1.564621925354004e-7,
          -3.501772880554199e-7,
          -2.2351741790771484e-8,
          6.705522537231445e-8,
          -1.825392246246338e-7,
          5.960464477539063e-8,
          -2.253800630569458e-7,
          1.862645149230957e-7,
          -4.209578037261963e-7,
          -1.3969838619232178e-7,
          -3.0547380447387695e-7,
          -7.82310962677002e-8,
          -3.203749656677246e-7,
          1.1175870895385742e-7,
          -4.76837158203125e-7,
          6.332993507385254e-8,
          -1.1175870895385742e-7,
          -9.685754776000977e-8,
          8.940696716308594e-8,
          6.51925802230835e-8,
          1.2293457984924316e-7,
          5.587935447692871e-8,
          -7.636845111846924e-8,
          -2.8870999813079834e-7,
          -7.450580596923828e-8,
          -7.450580596923828e-9,
          3.725290298461914e-8,
          3.725290298461914e-9,
          0,
          -5.387701094150543e-7,
          -5.960464477539063e-8,
          2.9802322387695312e-8,
          1.4901161193847656e-8,
          2.2351741790771484e-7,
          -1.4901161193847656e-7,
          -2.5331974029541016e-7,
          -1.1175870895385742e-7,
          -1.4156103134155273e-7,
          1.9371509552001953e-7,
          4.470348358154297e-8,
          -1.2665987014770508e-7,
          2.4586915969848633e-7,
          1.1920928955078125e-7,
          -7.450580596923828e-9,
          1.7136335372924805e-7,
          8.195638656616211e-8,
          -4.470348358154297e-8,
          1.341104507446289e-7,
          1.4901161193847656e-7,
          -1.043081283569336e-7,
          9.685754776000977e-8,
          1.4901161193847656e-8,
          3.129243850708008e-7,
          -6.705522537231445e-8,
          -7.450580596923828e-8,
          -7.450580596923828e-8,
          1.1920928955078125e-7,
          1.695007085800171e-7,
          -2.2351741790771484e-8,
          1.4901161193847656e-7,
          2.9802322387695312e-8,
          2.123415470123291e-7,
          -1.8998980522155762e-7,
          -4.470348358154297e-8,
          -3.725290298461914e-9,
          -2.3096799850463867e-7,
          -2.3096799850463867e-7,
          8.195638656616211e-8,
          -1.341104507446289e-7,
          -7.450580596923828e-9,
          -1.043081283569336e-7,
          -2.086162567138672e-7,
          2.2351741790771484e-7,
          -2.9802322387695312e-8,
          2.2351741790771484e-7,
          -7.450580596923828e-9,
          1.825392246246338e-7,
          2.2351741790771484e-7,
          -2.0116567611694336e-7,
          2.868473529815674e-7,
          -2.2351741790771484e-8,
          3.129243850708008e-7,
          -1.3969838619232178e-8,
          -3.0547380447387695e-7,
          2.1606683731079102e-7,
          3.725290298461914e-8,
          1.4901161193847656e-8,
          -1.4901161193847656e-7,
          -2.5704503059387207e-7,
          -1.3597309589385986e-7,
          1.4901161193847656e-7,
          9.313225746154785e-9,
          -2.980232238769531e-7,
          7.450580596923828e-9,
          -5.960464477539063e-8,
          -4.470348358154297e-8,
          -9.685754776000977e-8,
          -1.4901161193847656e-8,
          2.3096799850463867e-7,
          -7.450580596923828e-8,
          -3.650784492492676e-7,
          -4.33996319770813e-7,
          1.043081283569336e-7,
          1.6391277313232422e-7,
          1.1920928955078125e-7,
          8.940696716308594e-8,
          7.450580596923828e-9,
          4.153698682785034e-7,
          1.4901161193847656e-8,
          -1.4156103134155273e-7,
          1.4901161193847656e-8,
          -5.21540641784668e-8,
          1.1920928955078125e-7,
          -1.1175870895385742e-7,
          -9.685754776000977e-8,
          -4.172325134277344e-7,
          1.7881393432617188e-7,
          -1.6391277313232422e-7,
          7.078051567077637e-8,
          -4.470348358154297e-8,
          -2.3096799850463867e-7,
          1.043081283569336e-7,
          1.341104507446289e-7,
          1.6205012798309326e-7,
          4.470348358154297e-7,
          1.8067657947540283e-7,
          1.0058283805847168e-7,
          0,
          3.501772880554199e-7,
          1.862645149230957e-7,
          4.470348358154297e-8,
          -2.5704503059387207e-7,
          1.3969838619232178e-7,
          -2.086162567138672e-7,
          2.384185791015625e-7,
          -1.2665987014770508e-7,
          -2.9802322387695312e-8,
          -3.427267074584961e-7,
          4.3213367462158203e-7,
          -3.725290298461914e-7,
          1.1175870895385742e-7,
          -2.682209014892578e-7,
          -8.195638656616211e-8,
          0,
          -1.341104507446289e-7,
          2.2351741790771484e-8,
          9.685754776000977e-8,
          -4.284083843231201e-8,
          2.5331974029541016e-7,
          -2.1979212760925293e-7,
          -8.195638656616211e-8,
          -1.4901161193847656e-7,
          8.940696716308594e-8,
          1.4156103134155273e-7,
          4.470348358154297e-7,
          -6.705522537231445e-8,
          -3.427267074584961e-7,
          3.129243850708008e-7,
          -4.0978193283081055e-8,
          -3.725290298461914e-8,
          3.8743019104003906e-7,
          -2.9802322387695312e-8,
          4.470348358154297e-8,
          4.6938657760620117e-7,
          -2.0116567611694336e-7,
          2.514570951461792e-7,
          -7.078051567077637e-8,
          -4.842877388000488e-8,
          3.427267074584961e-7,
          1.1920928955078125e-7,
          -3.129243850708008e-7,
          2.2351741790771484e-7,
          3.91155481338501e-7,
          4.377216100692749e-8,
          -1.825392246246338e-7,
          -1.73225998878479e-7,
          2.7194619178771973e-7,
          1.4156103134155273e-7,
          -1.1175870895385742e-7,
          -1.1175870895385742e-7,
          5.546025931835175e-7,
          3.9208680391311646e-7,
          4.023313522338867e-7,
          2.0838342607021332e-8,
          1.8998980522155762e-7,
          -2.477318048477173e-7,
          -3.3527612686157227e-7,
          -1.862645149230957e-7,
          -2.1606683731079102e-7,
          4.668254405260086e-7,
          -4.0978193283081055e-8,
          4.116445779800415e-7,
          1.7881393432617188e-7,
          -5.21540641784668e-8,
          5.21540641784668e-8,
          3.0174851417541504e-7,
          -6.705522537231445e-8,
          -2.3469328880310059e-7,
          2.9802322387695312e-8,
          -5.587935447692871e-8,
          4.190951585769653e-9,
          -4.842877388000488e-8,
          4.889443516731262e-8,
          1.8347054719924927e-7,
          1.1920928955078125e-7,
          -3.948807716369629e-7,
          -7.264316082000732e-8,
          2.60770320892334e-8,
          -1.862645149230957e-7,
          7.82310962677002e-8,
          1.4156103134155273e-7,
          3.725290298461914e-8,
          -2.8079375624656677e-7,
          -2.123415470123291e-7,
          1.6670674085617065e-7,
          -1.825392246246338e-7,
          3.4458935260772705e-8,
          -8.102506399154663e-8,
          2.421438694000244e-8,
          -1.9371509552001953e-7,
          -1.0058283805847168e-7,
          -3.948807716369629e-7,
          3.110617399215698e-7,
          -1.8998980522155762e-7,
          9.220093488693237e-8,
          2.3283064365386963e-7,
          6.332993507385254e-8,
          -6.705522537231445e-8,
          -1.1920928955078125e-7,
          -2.60770320892334e-8,
          -1.2293457984924316e-7,
          -1.1175870895385742e-7,
          1.862645149230957e-9,
          8.940696716308594e-8,
          2.5331974029541016e-7,
          1.30385160446167e-7,
          7.264316082000732e-8,
          -2.9802322387695312e-8,
          -3.725290298461914e-9,
          -4.76837158203125e-7,
          -6.612390279769897e-8,
          5.21540641784668e-8,
          -2.0116567611694336e-7,
          1.2665987014770508e-7,
          -3.213062882423401e-7,
          5.960464477539063e-8,
          -1.601874828338623e-7,
          1.564621925354004e-7,
          3.5762786865234375e-7,
          1.1920928955078125e-7,
          -1.2293457984924316e-7,
          -3.771856427192688e-8,
          2.9802322387695312e-8,
          3.725290298461914e-8,
          1.5273690223693848e-7,
          -1.8998980522155762e-7,
          -2.2351741790771484e-7,
          -6.891787052154541e-8,
          4.0978193283081055e-8,
          -7.078051567077637e-8,
          9.499490261077881e-8,
          3.0547380447387695e-7,
          -2.123415470123291e-7,
          -3.5390257835388184e-7,
          1.30385160446167e-7,
          -2.5331974029541016e-7,
          -2.3469328880310059e-7,
          -1.564621925354004e-7,
          -6.100162863731384e-8,
          1.9650906324386597e-7,
          -2.3096799850463867e-7,
          2.60770320892334e-7,
          3.166496753692627e-7,
          1.9744038581848145e-7,
          2.3655593395233154e-7,
          -7.450580596923828e-9,
          -2.384185791015625e-7,
          2.7939677238464355e-8,
          -1.3783574104309082e-7,
          1.2665987014770508e-7,
          1.3783574104309082e-7,
          3.557652235031128e-7,
          8.381903171539307e-9,
          -1.1548399925231934e-7,
          -1.955777406692505e-7,
          -8.940696716308594e-8,
          2.868473529815674e-7,
          2.6659108698368073e-8,
          -7.450580596923828e-9,
          -2.421438694000244e-7,
          0,
          -4.470348358154297e-8,
          -1.1175870895385742e-7,
          1.2200325727462769e-7,
          -2.2351741790771484e-8,
          4.470348358154297e-8,
          -1.4901161193847656e-7,
          1.1175870895385742e-8,
          -1.434236764907837e-7,
          2.868473529815674e-7,
          -6.705522537231445e-8,
          3.5390257835388184e-8,
          -1.7508864402770996e-7,
          1.564621925354004e-7,
          -1.3224780559539795e-7,
          -2.5425106287002563e-7,
          -5.029141902923584e-8,
          -1.5273690223693848e-7,
          2.086162567138672e-7,
          3.725290298461914e-8,
          -2.7567148208618164e-7,
          -3.986060619354248e-7,
          -1.1175870895385742e-7,
          -3.6135315895080566e-7,
          5.587935447692871e-8,
          1.601874828338623e-7,
          1.6763806343078613e-7,
          1.1920928955078125e-7,
          6.146728992462158e-8,
          1.2665987014770508e-7,
          -2.60770320892334e-7,
          1.862645149230957e-7,
          -1.862645149230957e-7,
          -2.60770320892334e-7,
          5.327165126800537e-7,
          8.940696716308594e-8,
          -1.210719347000122e-8,
          4.842877388000488e-8,
          2.60770320892334e-7,
          8.195638656616211e-8,
          1.0943040251731873e-8,
          -2.2724270820617676e-7,
          2.868473529815674e-7,
          3.7997961044311523e-7,
          8.195638656616211e-8,
          -9.825453162193298e-8,
          1.5087425708770752e-7,
          -1.2479722499847412e-7,
          0,
          2.5331974029541016e-7,
          3.427267074584961e-7,
          1.8998980522155762e-7,
          3.725290298461914e-7,
          3.3527612686157227e-8,
          -7.82310962677002e-8,
          -8.195638656616211e-8,
          -5.960464477539063e-8,
          -1.0523945093154907e-7,
          -1.7508864402770996e-7,
          -2.4586915969848633e-7,
          2.2165477275848389e-7,
          1.5925616025924683e-7,
          8.195638656616211e-8,
          -8.940696716308594e-8,
          -7.078051567077637e-8,
          -1.6391277313232422e-7,
          0,
          9.313225746154785e-8,
          -5.960464477539063e-8,
          0,
          -1.862645149230957e-7,
          1.862645149230957e-7,
          -3.427267074584961e-7,
          -3.725290298461914e-9,
          -1.4901161193847656e-8,
          1.862645149230957e-8,
          6.705522537231445e-8,
          -1.7881393432617188e-7,
          -2.3096799850463867e-7,
          -1.4156103134155273e-7,
          -8.288770914077759e-8,
          -2.0116567611694336e-7,
          3.3527612686157227e-7,
          -5.401670932769775e-7,
          1.9371509552001953e-7,
          4.0978193283081055e-8,
          -7.450580596923828e-8,
          1.1920928955078125e-7,
          1.601874828338623e-7,
          2.859160304069519e-7,
          1.564621925354004e-7,
          4.470348358154297e-8,
          -2.421438694000244e-8,
          7.450580596923828e-9,
          -1.6763806343078613e-7,
          -3.725290298461914e-8,
          7.82310962677002e-8,
          7.450580596923828e-9,
          3.725290298461914e-8,
          -4.470348358154297e-8,
          -1.825392246246338e-7,
          2.60770320892334e-8,
          -1.6391277313232422e-7,
          -2.2724270820617676e-7,
          -1.341104507446289e-7,
          9.499490261077881e-8,
          -3.2223761081695557e-7,
          1.9371509552001953e-7,
          -1.0803341865539551e-7,
          1.7136335372924805e-7,
          1.1920928955078125e-7,
          -2.8312206268310547e-7,
          -4.470348358154297e-8,
          1.1175870895385742e-7,
          1.7881393432617188e-7,
          1.043081283569336e-7,
          -1.564621925354004e-7,
          5.21540641784668e-8,
          -4.470348358154297e-8,
          5.122274160385132e-8,
          2.0302832126617432e-7,
          -8.940696716308594e-8,
          -2.2165477275848389e-7,
          5.960464477539063e-8,
          -3.948807716369629e-7,
          -9.778887033462524e-8,
          -3.501772880554199e-7,
          1.9371509552001953e-7,
          -4.470348358154297e-8,
          -2.123415470123291e-7,
          -7.450580596923828e-9,
          -5.587935447692871e-8,
          3.0919909477233887e-7,
          -2.253800630569458e-7,
          -1.6577541828155518e-7,
          -2.5331974029541016e-7,
          8.195638656616211e-8,
          -1.9278377294540405e-7,
          1.1548399925231934e-7,
          -1.210719347000122e-7,
          -1.9744038581848145e-7,
          -3.166496753692627e-7,
          -1.30385160446167e-7,
          -2.60770320892334e-8,
          -3.166496753692627e-8,
          -1.9185245037078857e-7,
          0,
          -9.685754776000977e-8,
          1.4901161193847656e-8,
          2.1606683731079102e-7,
          3.166496753692627e-7,
          -2.7194619178771973e-7,
          2.086162567138672e-7,
          8.568167686462402e-8,
          2.2351741790771484e-8,
          -2.644956111907959e-7,
          1.043081283569336e-7,
          4.470348358154297e-8,
          -1.3504177331924438e-7,
          -2.980232238769531e-7,
          2.384185791015625e-7,
          2.1606683731079102e-7,
          -1.257285475730896e-8,
          -3.203749656677246e-7,
          6.332993507385254e-8,
          -1.5459954738616943e-7,
          8.568167686462402e-8,
          -3.91155481338501e-8,
          -1.73225998878479e-7,
          2.0489096641540527e-7,
          5.21540641784668e-8,
          -5.960464477539063e-8,
          -2.0489096641540527e-7,
          4.470348358154297e-8,
          -1.9185245037078857e-7,
          -4.0978193283081055e-8,
          2.784654498100281e-7,
          -1.4901161193847656e-8,
          1.30385160446167e-7,
          -3.501772880554199e-7,
          -1.5832483768463135e-8,
          -3.166496753692627e-7,
          -2.2351741790771484e-8,
          1.3550743460655212e-7,
          2.253800630569458e-7,
          -1.564621925354004e-7,
          -2.086162567138672e-7,
          1.0989606380462646e-7,
          -3.129243850708008e-7,
          -7.450580596923828e-8,
          5.736947059631348e-7,
          2.2910535335540771e-7,
          -6.891787052154541e-8,
          2.3469328880310059e-7,
          1.8998980522155762e-7,
          -2.1606683731079102e-7,
          7.450580596923828e-9,
          3.0547380447387695e-7,
          7.82310962677002e-8,
          6.034970283508301e-7,
          2.598389983177185e-7,
          -1.9744038581848145e-7,
          3.632158041000366e-8,
          1.8533319234848022e-7,
          1.043081283569336e-7,
          -3.2782554626464844e-7,
          -1.601874828338623e-7,
          -4.470348358154297e-8,
          -3.632158041000366e-7,
          -1.0989606380462646e-7,
          5.960464477539063e-8,
          -1.2479722499847412e-7,
          -3.9208680391311646e-7,
          2.980232238769531e-7,
          -9.685754776000977e-8,
          2.3283064365386963e-7,
          -1.0593794286251068e-7,
          4.470348358154297e-7,
          7.078051567077637e-8,
          1.7136335372924805e-7,
          1.9371509552001953e-7,
          8.568167686462402e-8,
          -1.0617077350616455e-7,
          -1.7695128917694092e-7,
          -3.2782554626464844e-7,
          -1.4901161193847656e-7,
          -2.123415470123291e-7,
          3.2782554626464844e-7,
          -1.0617077350616455e-7,
          -3.725290298461914e-9,
          -1.6763806343078613e-8,
          -1.862645149230957e-8,
          1.0058283805847168e-7,
          -7.636845111846924e-8,
          -5.122274160385132e-8,
          -1.1548399925231934e-7,
          -2.4028122425079346e-7,
          -7.450580596923828e-8,
          -7.450580596923828e-9,
          1.9185245037078857e-7,
          9.685754776000977e-8,
          -1.1734664440155029e-7,
          -2.60770320892334e-8,
          -3.166496753692627e-8,
          -1.364387571811676e-7,
          -2.849847078323364e-7,
          2.5657936930656433e-7,
          3.1781382858753204e-8,
          4.0978193283081055e-8,
          3.725290298461914e-8,
          -2.9802322387695312e-8,
          -9.96515154838562e-8,
          7.450580596923828e-8,
          -1.434236764907837e-7,
          -2.7101486921310425e-7,
          9.12696123123169e-8,
          -1.3224780559539795e-7,
          3.259629011154175e-8,
          -5.21540641784668e-8,
          -1.8998980522155762e-7,
          -1.862645149230957e-8,
          -1.7881393432617188e-7,
          8.940696716308594e-8,
          -1.4901161193847656e-8,
          1.7136335372924805e-7,
          -3.3527612686157227e-7,
          1.043081283569336e-7,
          -1.6391277313232422e-7,
          -2.1979212760925293e-7,
          -1.1175870895385742e-7,
          1.9371509552001953e-7,
          3.2782554626464844e-7,
          1.862645149230957e-7,
          -7.078051567077637e-8,
          2.5331974029541016e-7,
          4.470348358154297e-8,
          -3.3527612686157227e-7,
          2.60770320892334e-7,
          2.8312206268310547e-7,
          5.21540641784668e-8,
          -1.1920928955078125e-7,
          5.960464477539063e-8,
          1.6391277313232422e-7,
          -9.685754776000977e-8,
          -4.284083843231201e-7,
          3.7997961044311523e-7,
          1.5273690223693848e-7,
          -2.086162567138672e-7,
          -4.5821070671081543e-7,
          1.4156103134155273e-7,
          1.043081283569336e-7,
          1.6391277313232422e-7,
          -1.4901161193847656e-7,
          7.450580596923828e-9,
          1.341104507446289e-7,
          -2.3096799850463867e-7,
          8.940696716308594e-8,
          -1.9371509552001953e-7,
          -1.341104507446289e-7,
          7.82310962677002e-8,
          5.960464477539063e-8,
          -1.8998980522155762e-7,
          2.0116567611694336e-7,
          2.384185791015625e-7,
          1.4901161193847656e-7,
          7.078051567077637e-8,
          3.725290298461914e-8,
          -2.8312206268310547e-7,
          3.650784492492676e-7,
          -1.043081283569336e-7,
          -3.725290298461914e-8,
          3.8743019104003906e-7,
          -1.862645149230957e-8,
          -1.825392246246338e-7,
          -7.078051567077637e-8,
          1.341104507446289e-7,
          -1.1920928955078125e-7,
          2.2351741790771484e-7,
          5.21540641784668e-8,
          -4.880130290985107e-7,
          2.8312206268310547e-7,
          -1.1175870895385742e-7,
          -2.3469328880310059e-7,
          -4.3213367462158203e-7,
          -1.1920928955078125e-7,
          2.086162567138672e-7,
          -1.5273690223693848e-7,
          8.195638656616211e-8,
          2.3096799850463867e-7,
          -1.6391277313232422e-7,
          -3.3527612686157227e-7,
          -1.862645149230957e-8,
          -1.1548399925231934e-7,
          -4.023313522338867e-7,
          1.2665987014770508e-7,
          -2.4959444999694824e-7,
          -1.8440186977386475e-7,
          2.384185791015625e-7,
          -4.3958425521850586e-7,
          4.470348358154297e-8,
          -2.9802322387695312e-8,
          2.9802322387695312e-8,
          -1.043081283569336e-7,
          2.682209014892578e-7,
          1.4901161193847656e-7,
          1.1175870895385742e-7,
          -2.905726432800293e-7,
          1.6391277313232422e-7,
          3.650784492492676e-7,
          -2.086162567138672e-7,
          -1.6391277313232422e-7,
          -3.129243850708008e-7,
          -1.6391277313232422e-7,
          4.470348358154297e-8,
          3.0547380447387695e-7,
          -2.1606683731079102e-7,
          -1.4156103134155273e-7,
          1.1920928955078125e-7,
          1.1920928955078125e-7,
          4.172325134277344e-7,
          -2.9802322387695312e-8,
          1.6391277313232422e-7,
          1.6391277313232422e-7,
          4.023313522338867e-7,
          5.21540641784668e-8,
          1.4528632164001465e-7,
          2.7194619178771973e-7,
          -2.2351741790771484e-8,
          -6.705522537231445e-8,
          2.1606683731079102e-7,
          9.685754776000977e-8,
          -7.450580596923828e-9,
          4.470348358154297e-7,
          2.980232238769531e-7,
          -7.450580596923828e-9,
          -4.246830940246582e-7,
          -1.4901161193847656e-7,
          1.4901161193847656e-8,
          -2.7194619178771973e-7,
          6.705522537231445e-8,
          7.450580596923828e-8,
          9.685754776000977e-8,
          3.241002559661865e-7,
          2.2351741790771484e-7,
          1.7508864402770996e-7,
          3.427267074584961e-7,
          -2.5331974029541016e-7,
          2.60770320892334e-7,
          -3.129243850708008e-7,
          2.0116567611694336e-7,
          5.960464477539063e-8,
          -7.82310962677002e-8,
          -1.564621925354004e-7,
          -5.21540641784668e-8,
          -3.3527612686157227e-8,
          -1.2665987014770508e-7,
          2.682209014892578e-7,
          2.60770320892334e-7,
          6.183981895446777e-7,
          -1.4901161193847656e-8,
          2.8312206268310547e-7,
          5.21540641784668e-8,
          -1.7881393432617188e-7,
          -1.7508864402770996e-7,
          -1.6391277313232422e-7,
          3.3527612686157227e-7,
          1.4156103134155273e-7,
          -1.043081283569336e-7,
          -6.705522537231445e-8,
          -1.043081283569336e-7,
          -4.470348358154297e-8,
          2.4586915969848633e-7,
          2.2351741790771484e-7,
          2.1606683731079102e-7,
          -1.4901161193847656e-8,
          3.725290298461914e-9,
          9.685754776000977e-8,
          -3.5762786865234375e-7,
          -1.4901161193847656e-8,
          -1.7881393432617188e-7,
          -1.043081283569336e-7,
          -6.705522537231445e-8,
          -7.264316082000732e-8,
          -1.6763806343078613e-7,
          -3.688037395477295e-7,
          3.688037395477295e-7,
          1.601874828338623e-7,
          -4.842877388000488e-8,
          1.4901161193847656e-8,
          -2.7939677238464355e-7
         ],
         "xaxis": "x",
         "yaxis": "y"
        }
       ],
       "layout": {
        "barmode": "relative",
        "legend": {
         "title": {
          "text": "variable"
         },
         "tracegroupgap": 0
        },
        "margin": {
         "t": 60
        },
        "template": {
         "data": {
          "bar": [
           {
            "error_x": {
             "color": "#2a3f5f"
            },
            "error_y": {
             "color": "#2a3f5f"
            },
            "marker": {
             "line": {
              "color": "#E5ECF6",
              "width": 0.5
             },
             "pattern": {
              "fillmode": "overlay",
              "size": 10,
              "solidity": 0.2
             }
            },
            "type": "bar"
           }
          ],
          "barpolar": [
           {
            "marker": {
             "line": {
              "color": "#E5ECF6",
              "width": 0.5
             },
             "pattern": {
              "fillmode": "overlay",
              "size": 10,
              "solidity": 0.2
             }
            },
            "type": "barpolar"
           }
          ],
          "carpet": [
           {
            "aaxis": {
             "endlinecolor": "#2a3f5f",
             "gridcolor": "white",
             "linecolor": "white",
             "minorgridcolor": "white",
             "startlinecolor": "#2a3f5f"
            },
            "baxis": {
             "endlinecolor": "#2a3f5f",
             "gridcolor": "white",
             "linecolor": "white",
             "minorgridcolor": "white",
             "startlinecolor": "#2a3f5f"
            },
            "type": "carpet"
           }
          ],
          "choropleth": [
           {
            "colorbar": {
             "outlinewidth": 0,
             "ticks": ""
            },
            "type": "choropleth"
           }
          ],
          "contour": [
           {
            "colorbar": {
             "outlinewidth": 0,
             "ticks": ""
            },
            "colorscale": [
             [
              0,
              "#0d0887"
             ],
             [
              0.1111111111111111,
              "#46039f"
             ],
             [
              0.2222222222222222,
              "#7201a8"
             ],
             [
              0.3333333333333333,
              "#9c179e"
             ],
             [
              0.4444444444444444,
              "#bd3786"
             ],
             [
              0.5555555555555556,
              "#d8576b"
             ],
             [
              0.6666666666666666,
              "#ed7953"
             ],
             [
              0.7777777777777778,
              "#fb9f3a"
             ],
             [
              0.8888888888888888,
              "#fdca26"
             ],
             [
              1,
              "#f0f921"
             ]
            ],
            "type": "contour"
           }
          ],
          "contourcarpet": [
           {
            "colorbar": {
             "outlinewidth": 0,
             "ticks": ""
            },
            "type": "contourcarpet"
           }
          ],
          "heatmap": [
           {
            "colorbar": {
             "outlinewidth": 0,
             "ticks": ""
            },
            "colorscale": [
             [
              0,
              "#0d0887"
             ],
             [
              0.1111111111111111,
              "#46039f"
             ],
             [
              0.2222222222222222,
              "#7201a8"
             ],
             [
              0.3333333333333333,
              "#9c179e"
             ],
             [
              0.4444444444444444,
              "#bd3786"
             ],
             [
              0.5555555555555556,
              "#d8576b"
             ],
             [
              0.6666666666666666,
              "#ed7953"
             ],
             [
              0.7777777777777778,
              "#fb9f3a"
             ],
             [
              0.8888888888888888,
              "#fdca26"
             ],
             [
              1,
              "#f0f921"
             ]
            ],
            "type": "heatmap"
           }
          ],
          "heatmapgl": [
           {
            "colorbar": {
             "outlinewidth": 0,
             "ticks": ""
            },
            "colorscale": [
             [
              0,
              "#0d0887"
             ],
             [
              0.1111111111111111,
              "#46039f"
             ],
             [
              0.2222222222222222,
              "#7201a8"
             ],
             [
              0.3333333333333333,
              "#9c179e"
             ],
             [
              0.4444444444444444,
              "#bd3786"
             ],
             [
              0.5555555555555556,
              "#d8576b"
             ],
             [
              0.6666666666666666,
              "#ed7953"
             ],
             [
              0.7777777777777778,
              "#fb9f3a"
             ],
             [
              0.8888888888888888,
              "#fdca26"
             ],
             [
              1,
              "#f0f921"
             ]
            ],
            "type": "heatmapgl"
           }
          ],
          "histogram": [
           {
            "marker": {
             "pattern": {
              "fillmode": "overlay",
              "size": 10,
              "solidity": 0.2
             }
            },
            "type": "histogram"
           }
          ],
          "histogram2d": [
           {
            "colorbar": {
             "outlinewidth": 0,
             "ticks": ""
            },
            "colorscale": [
             [
              0,
              "#0d0887"
             ],
             [
              0.1111111111111111,
              "#46039f"
             ],
             [
              0.2222222222222222,
              "#7201a8"
             ],
             [
              0.3333333333333333,
              "#9c179e"
             ],
             [
              0.4444444444444444,
              "#bd3786"
             ],
             [
              0.5555555555555556,
              "#d8576b"
             ],
             [
              0.6666666666666666,
              "#ed7953"
             ],
             [
              0.7777777777777778,
              "#fb9f3a"
             ],
             [
              0.8888888888888888,
              "#fdca26"
             ],
             [
              1,
              "#f0f921"
             ]
            ],
            "type": "histogram2d"
           }
          ],
          "histogram2dcontour": [
           {
            "colorbar": {
             "outlinewidth": 0,
             "ticks": ""
            },
            "colorscale": [
             [
              0,
              "#0d0887"
             ],
             [
              0.1111111111111111,
              "#46039f"
             ],
             [
              0.2222222222222222,
              "#7201a8"
             ],
             [
              0.3333333333333333,
              "#9c179e"
             ],
             [
              0.4444444444444444,
              "#bd3786"
             ],
             [
              0.5555555555555556,
              "#d8576b"
             ],
             [
              0.6666666666666666,
              "#ed7953"
             ],
             [
              0.7777777777777778,
              "#fb9f3a"
             ],
             [
              0.8888888888888888,
              "#fdca26"
             ],
             [
              1,
              "#f0f921"
             ]
            ],
            "type": "histogram2dcontour"
           }
          ],
          "mesh3d": [
           {
            "colorbar": {
             "outlinewidth": 0,
             "ticks": ""
            },
            "type": "mesh3d"
           }
          ],
          "parcoords": [
           {
            "line": {
             "colorbar": {
              "outlinewidth": 0,
              "ticks": ""
             }
            },
            "type": "parcoords"
           }
          ],
          "pie": [
           {
            "automargin": true,
            "type": "pie"
           }
          ],
          "scatter": [
           {
            "fillpattern": {
             "fillmode": "overlay",
             "size": 10,
             "solidity": 0.2
            },
            "type": "scatter"
           }
          ],
          "scatter3d": [
           {
            "line": {
             "colorbar": {
              "outlinewidth": 0,
              "ticks": ""
             }
            },
            "marker": {
             "colorbar": {
              "outlinewidth": 0,
              "ticks": ""
             }
            },
            "type": "scatter3d"
           }
          ],
          "scattercarpet": [
           {
            "marker": {
             "colorbar": {
              "outlinewidth": 0,
              "ticks": ""
             }
            },
            "type": "scattercarpet"
           }
          ],
          "scattergeo": [
           {
            "marker": {
             "colorbar": {
              "outlinewidth": 0,
              "ticks": ""
             }
            },
            "type": "scattergeo"
           }
          ],
          "scattergl": [
           {
            "marker": {
             "colorbar": {
              "outlinewidth": 0,
              "ticks": ""
             }
            },
            "type": "scattergl"
           }
          ],
          "scattermapbox": [
           {
            "marker": {
             "colorbar": {
              "outlinewidth": 0,
              "ticks": ""
             }
            },
            "type": "scattermapbox"
           }
          ],
          "scatterpolar": [
           {
            "marker": {
             "colorbar": {
              "outlinewidth": 0,
              "ticks": ""
             }
            },
            "type": "scatterpolar"
           }
          ],
          "scatterpolargl": [
           {
            "marker": {
             "colorbar": {
              "outlinewidth": 0,
              "ticks": ""
             }
            },
            "type": "scatterpolargl"
           }
          ],
          "scatterternary": [
           {
            "marker": {
             "colorbar": {
              "outlinewidth": 0,
              "ticks": ""
             }
            },
            "type": "scatterternary"
           }
          ],
          "surface": [
           {
            "colorbar": {
             "outlinewidth": 0,
             "ticks": ""
            },
            "colorscale": [
             [
              0,
              "#0d0887"
             ],
             [
              0.1111111111111111,
              "#46039f"
             ],
             [
              0.2222222222222222,
              "#7201a8"
             ],
             [
              0.3333333333333333,
              "#9c179e"
             ],
             [
              0.4444444444444444,
              "#bd3786"
             ],
             [
              0.5555555555555556,
              "#d8576b"
             ],
             [
              0.6666666666666666,
              "#ed7953"
             ],
             [
              0.7777777777777778,
              "#fb9f3a"
             ],
             [
              0.8888888888888888,
              "#fdca26"
             ],
             [
              1,
              "#f0f921"
             ]
            ],
            "type": "surface"
           }
          ],
          "table": [
           {
            "cells": {
             "fill": {
              "color": "#EBF0F8"
             },
             "line": {
              "color": "white"
             }
            },
            "header": {
             "fill": {
              "color": "#C8D4E3"
             },
             "line": {
              "color": "white"
             }
            },
            "type": "table"
           }
          ]
         },
         "layout": {
          "annotationdefaults": {
           "arrowcolor": "#2a3f5f",
           "arrowhead": 0,
           "arrowwidth": 1
          },
          "autotypenumbers": "strict",
          "coloraxis": {
           "colorbar": {
            "outlinewidth": 0,
            "ticks": ""
           }
          },
          "colorscale": {
           "diverging": [
            [
             0,
             "#8e0152"
            ],
            [
             0.1,
             "#c51b7d"
            ],
            [
             0.2,
             "#de77ae"
            ],
            [
             0.3,
             "#f1b6da"
            ],
            [
             0.4,
             "#fde0ef"
            ],
            [
             0.5,
             "#f7f7f7"
            ],
            [
             0.6,
             "#e6f5d0"
            ],
            [
             0.7,
             "#b8e186"
            ],
            [
             0.8,
             "#7fbc41"
            ],
            [
             0.9,
             "#4d9221"
            ],
            [
             1,
             "#276419"
            ]
           ],
           "sequential": [
            [
             0,
             "#0d0887"
            ],
            [
             0.1111111111111111,
             "#46039f"
            ],
            [
             0.2222222222222222,
             "#7201a8"
            ],
            [
             0.3333333333333333,
             "#9c179e"
            ],
            [
             0.4444444444444444,
             "#bd3786"
            ],
            [
             0.5555555555555556,
             "#d8576b"
            ],
            [
             0.6666666666666666,
             "#ed7953"
            ],
            [
             0.7777777777777778,
             "#fb9f3a"
            ],
            [
             0.8888888888888888,
             "#fdca26"
            ],
            [
             1,
             "#f0f921"
            ]
           ],
           "sequentialminus": [
            [
             0,
             "#0d0887"
            ],
            [
             0.1111111111111111,
             "#46039f"
            ],
            [
             0.2222222222222222,
             "#7201a8"
            ],
            [
             0.3333333333333333,
             "#9c179e"
            ],
            [
             0.4444444444444444,
             "#bd3786"
            ],
            [
             0.5555555555555556,
             "#d8576b"
            ],
            [
             0.6666666666666666,
             "#ed7953"
            ],
            [
             0.7777777777777778,
             "#fb9f3a"
            ],
            [
             0.8888888888888888,
             "#fdca26"
            ],
            [
             1,
             "#f0f921"
            ]
           ]
          },
          "colorway": [
           "#636efa",
           "#EF553B",
           "#00cc96",
           "#ab63fa",
           "#FFA15A",
           "#19d3f3",
           "#FF6692",
           "#B6E880",
           "#FF97FF",
           "#FECB52"
          ],
          "font": {
           "color": "#2a3f5f"
          },
          "geo": {
           "bgcolor": "white",
           "lakecolor": "white",
           "landcolor": "#E5ECF6",
           "showlakes": true,
           "showland": true,
           "subunitcolor": "white"
          },
          "hoverlabel": {
           "align": "left"
          },
          "hovermode": "closest",
          "mapbox": {
           "style": "light"
          },
          "paper_bgcolor": "white",
          "plot_bgcolor": "#E5ECF6",
          "polar": {
           "angularaxis": {
            "gridcolor": "white",
            "linecolor": "white",
            "ticks": ""
           },
           "bgcolor": "#E5ECF6",
           "radialaxis": {
            "gridcolor": "white",
            "linecolor": "white",
            "ticks": ""
           }
          },
          "scene": {
           "xaxis": {
            "backgroundcolor": "#E5ECF6",
            "gridcolor": "white",
            "gridwidth": 2,
            "linecolor": "white",
            "showbackground": true,
            "ticks": "",
            "zerolinecolor": "white"
           },
           "yaxis": {
            "backgroundcolor": "#E5ECF6",
            "gridcolor": "white",
            "gridwidth": 2,
            "linecolor": "white",
            "showbackground": true,
            "ticks": "",
            "zerolinecolor": "white"
           },
           "zaxis": {
            "backgroundcolor": "#E5ECF6",
            "gridcolor": "white",
            "gridwidth": 2,
            "linecolor": "white",
            "showbackground": true,
            "ticks": "",
            "zerolinecolor": "white"
           }
          },
          "shapedefaults": {
           "line": {
            "color": "#2a3f5f"
           }
          },
          "ternary": {
           "aaxis": {
            "gridcolor": "white",
            "linecolor": "white",
            "ticks": ""
           },
           "baxis": {
            "gridcolor": "white",
            "linecolor": "white",
            "ticks": ""
           },
           "bgcolor": "#E5ECF6",
           "caxis": {
            "gridcolor": "white",
            "linecolor": "white",
            "ticks": ""
           }
          },
          "title": {
           "x": 0.05
          },
          "xaxis": {
           "automargin": true,
           "gridcolor": "white",
           "linecolor": "white",
           "ticks": "",
           "title": {
            "standoff": 15
           },
           "zerolinecolor": "white",
           "zerolinewidth": 2
          },
          "yaxis": {
           "automargin": true,
           "gridcolor": "white",
           "linecolor": "white",
           "ticks": "",
           "title": {
            "standoff": 15
           },
           "zerolinecolor": "white",
           "zerolinewidth": 2
          }
         }
        },
        "xaxis": {
         "anchor": "y",
         "domain": [
          0,
          1
         ],
         "title": {
          "text": "value"
         }
        },
        "yaxis": {
         "anchor": "x",
         "domain": [
          0,
          1
         ],
         "title": {
          "text": "count"
         }
        }
       }
      }
     },
     "metadata": {},
     "output_type": "display_data"
    }
   ],
   "source": [
    "px.histogram(raw_data[3][\"node_level_repr_pre_encoder\"])"
   ]
  },
  {
   "cell_type": "markdown",
   "metadata": {},
   "source": [
    "## Combining the body and policy head"
   ]
  },
  {
   "cell_type": "code",
   "execution_count": 38,
   "metadata": {},
   "outputs": [
    {
     "data": {
      "text/plain": [
       "2.0"
      ]
     },
     "execution_count": 38,
     "metadata": {},
     "output_type": "execute_result"
    }
   ],
   "source": [
    "decision_logits.argmax(axis=1).mean()"
   ]
  },
  {
   "cell_type": "code",
   "execution_count": 39,
   "metadata": {},
   "outputs": [
    {
     "data": {
      "text/plain": [
       "0.0"
      ]
     },
     "execution_count": 39,
     "metadata": {},
     "output_type": "execute_result"
    }
   ],
   "source": [
    "correct_decision.mean()"
   ]
  }
 ],
 "metadata": {
  "kernelspec": {
   "display_name": "pvg-experiments",
   "language": "python",
   "name": "python3"
  },
  "language_info": {
   "codemirror_mode": {
    "name": "ipython",
    "version": 3
   },
   "file_extension": ".py",
   "mimetype": "text/x-python",
   "name": "python",
   "nbconvert_exporter": "python",
   "pygments_lexer": "ipython3",
   "version": "3.11.6"
  }
 },
 "nbformat": 4,
 "nbformat_minor": 2
}
