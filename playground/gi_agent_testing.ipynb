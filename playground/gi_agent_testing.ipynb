{
 "cells": [
  {
   "cell_type": "markdown",
   "metadata": {},
   "source": [
    "# Testing power of agent architectures for graph isomorphism"
   ]
  },
  {
   "cell_type": "markdown",
   "metadata": {},
   "source": [
    "## Setup"
   ]
  },
  {
   "cell_type": "code",
   "execution_count": 1,
   "metadata": {},
   "outputs": [],
   "source": [
    "FORCE_CPU = False\n",
    "\n",
    "SEED = 349287\n",
    "\n",
    "DATASET_NAME = \"er10000\"\n",
    "TEST_SIZE = 0.2\n",
    "\n",
    "D_DECIDER = 16\n",
    "\n",
    "BATCH_SIZE = 256\n",
    "NUM_EPOCHS = 200\n",
    "LEARNING_RATE = 0.01"
   ]
  },
  {
   "cell_type": "code",
   "execution_count": 2,
   "metadata": {},
   "outputs": [],
   "source": [
    "from abc import ABC\n",
    "\n",
    "import numpy as np\n",
    "\n",
    "import torch\n",
    "from torch import nn\n",
    "import torch.nn.functional as F\n",
    "from torch import Tensor\n",
    "from torch.utils.data import random_split\n",
    "\n",
    "from torch_geometric.data import Batch as GeometricBatch\n",
    "from torch_geometric.loader import DataLoader\n",
    "from torch_geometric.transforms import BaseTransform\n",
    "\n",
    "from jaxtyping import Float\n",
    "\n",
    "from tqdm import tqdm\n",
    "\n",
    "import plotly.graph_objs as go\n",
    "\n",
    "from pvg.scenarios import GraphIsomorphismAgent\n",
    "from pvg.data import GraphIsomorphismDataset, GraphIsomorphismData\n",
    "from pvg.parameters import Parameters, GraphIsomorphismParameters"
   ]
  },
  {
   "cell_type": "code",
   "execution_count": 3,
   "metadata": {},
   "outputs": [],
   "source": [
    "torch.manual_seed(SEED)\n",
    "np.random.seed(SEED)"
   ]
  },
  {
   "cell_type": "code",
   "execution_count": 4,
   "metadata": {},
   "outputs": [],
   "source": [
    "params = Parameters(\n",
    "    scenario=\"graph_isomorphism\",\n",
    "    trainer=\"test\",\n",
    "    dataset=DATASET_NAME,\n",
    "    max_message_rounds=1,\n",
    "    graph_isomorphism=GraphIsomorphismParameters(\n",
    "        prover_d_gnn=8,\n",
    "        verifier_d_gnn=8,\n",
    "    )\n",
    ")"
   ]
  },
  {
   "cell_type": "code",
   "execution_count": 5,
   "metadata": {},
   "outputs": [
    {
     "name": "stdout",
     "output_type": "stream",
     "text": [
      "cuda\n"
     ]
    }
   ],
   "source": [
    "if not FORCE_CPU and torch.cuda.is_available():\n",
    "    device = torch.device(\"cuda\")\n",
    "else:\n",
    "    device = torch.device(\"cpu\")\n",
    "print(device)"
   ]
  },
  {
   "cell_type": "markdown",
   "metadata": {},
   "source": [
    "## Load dataset"
   ]
  },
  {
   "cell_type": "code",
   "execution_count": 6,
   "metadata": {},
   "outputs": [],
   "source": [
    "class ScoreToBitTransform(BaseTransform):\n",
    "    \"\"\"A transform that converts the score to a bit indicating isomorphism.\"\"\"\n",
    "    def __call__(self, data):\n",
    "        for store in data.node_stores:\n",
    "            store.y = (store.wl_score == -1).long()\n",
    "        return data"
   ]
  },
  {
   "cell_type": "code",
   "execution_count": 7,
   "metadata": {},
   "outputs": [
    {
     "data": {
      "text/plain": [
       "GraphIsomorphismDataset(name='er10000', num_features=1, num_pairs=10000)"
      ]
     },
     "execution_count": 7,
     "metadata": {},
     "output_type": "execute_result"
    }
   ],
   "source": [
    "dataset = GraphIsomorphismDataset(params, transform=ScoreToBitTransform())\n",
    "dataset"
   ]
  },
  {
   "cell_type": "code",
   "execution_count": 8,
   "metadata": {},
   "outputs": [],
   "source": [
    "train_dataset, test_dataset = random_split(dataset, (1 - TEST_SIZE, TEST_SIZE))"
   ]
  },
  {
   "cell_type": "markdown",
   "metadata": {},
   "source": [
    "## Agents"
   ]
  },
  {
   "cell_type": "code",
   "execution_count": 9,
   "metadata": {},
   "outputs": [],
   "source": [
    "class GraphIsomorphismSoloAgent(GraphIsomorphismAgent, ABC):\n",
    "    def _build_model(self, num_layers: int, d_gnn: int, num_heads: int) -> nn.Module:\n",
    "        # Build up the GNN module\n",
    "        self.gnn, self.attention = self._build_gnn_and_attention(\n",
    "            d_input=1,\n",
    "            d_gnn=d_gnn,\n",
    "            num_layers=num_layers,\n",
    "            num_heads=num_heads,\n",
    "        )\n",
    "\n",
    "        # Build the decider, which decides whether the graphs are isomorphic\n",
    "        self.decider = self._build_decider(\n",
    "            d_gnn=d_gnn,\n",
    "            d_decider=D_DECIDER,\n",
    "            d_out=2,\n",
    "        )\n",
    "\n",
    "    def forward(\n",
    "        self, data: GraphIsomorphismData | GeometricBatch\n",
    "    ) -> Float[Tensor, \"batch_size 2\"]:\n",
    "        # print(\"y\", data.y)\n",
    "        gnn_output, attention_output, _ = self._run_gnn_and_attention(data)\n",
    "        gnn_attn_output = gnn_output + attention_output\n",
    "        decider_logits = self.decider(gnn_output)\n",
    "        return decider_logits\n",
    "    \n",
    "    def to(self, device: str | torch.device):\n",
    "        self.gnn.to(device)\n",
    "        self.attention.to(device)\n",
    "        self.decider.to(device)\n",
    "        return self\n",
    "\n",
    "\n",
    "class GraphIsomorphismSoloProver(GraphIsomorphismSoloAgent):\n",
    "    def __init__(self, params: Parameters, device: str | torch.device):\n",
    "        super().__init__(params, device)\n",
    "        self._build_model(\n",
    "            num_layers=params.graph_isomorphism.prover_num_layers,\n",
    "            d_gnn=params.graph_isomorphism.prover_d_gnn,\n",
    "            num_heads=params.graph_isomorphism.prover_num_heads,\n",
    "        )\n",
    "\n",
    "\n",
    "class GraphIsomorphismSoloVerifier(GraphIsomorphismSoloAgent):\n",
    "    def __init__(self, params: Parameters, device: str | torch.device):\n",
    "        super().__init__(params, device)\n",
    "        self._build_model(\n",
    "            num_layers=params.graph_isomorphism.verifier_num_layers,\n",
    "            d_gnn=params.graph_isomorphism.verifier_d_gnn,\n",
    "            num_heads=params.graph_isomorphism.verifier_num_heads,\n",
    "        )"
   ]
  },
  {
   "cell_type": "code",
   "execution_count": 10,
   "metadata": {},
   "outputs": [
    {
     "data": {
      "text/plain": [
       "GraphIsomorphismSoloProver(\n",
       "  (gnn): Sequential(\n",
       "    (0): Linear(1, 8, bias=True)\n",
       "    (1): ReLU(inplace=True)\n",
       "    (2): GINConv(nn=Sequential(\n",
       "    (0): Linear(in_features=8, out_features=32, bias=True)\n",
       "    (1): ReLU(inplace=True)\n",
       "    (2): Linear(in_features=32, out_features=8, bias=True)\n",
       "  ))\n",
       "    (3): ReLU(inplace=True)\n",
       "    (4): GINConv(nn=Sequential(\n",
       "    (0): Linear(in_features=8, out_features=32, bias=True)\n",
       "    (1): ReLU(inplace=True)\n",
       "    (2): Linear(in_features=32, out_features=8, bias=True)\n",
       "  ))\n",
       "    (5): ReLU(inplace=True)\n",
       "    (6): GINConv(nn=Sequential(\n",
       "    (0): Linear(in_features=8, out_features=32, bias=True)\n",
       "    (1): ReLU(inplace=True)\n",
       "    (2): Linear(in_features=32, out_features=8, bias=True)\n",
       "  ))\n",
       "    (7): ReLU(inplace=True)\n",
       "    (8): GINConv(nn=Sequential(\n",
       "    (0): Linear(in_features=8, out_features=32, bias=True)\n",
       "    (1): ReLU(inplace=True)\n",
       "    (2): Linear(in_features=32, out_features=8, bias=True)\n",
       "  ))\n",
       "    (9): ReLU(inplace=True)\n",
       "    (10): GINConv(nn=Sequential(\n",
       "    (0): Linear(in_features=8, out_features=32, bias=True)\n",
       "    (1): ReLU(inplace=True)\n",
       "    (2): Linear(in_features=32, out_features=8, bias=True)\n",
       "  ))\n",
       "  )\n",
       "  (attention): MultiheadAttention(\n",
       "    (out_proj): NonDynamicallyQuantizableLinear(in_features=8, out_features=8, bias=True)\n",
       "  )\n",
       "  (decider): Sequential(\n",
       "    (0): ReLU(inplace=True)\n",
       "    (1): Linear(in_features=8, out_features=16, bias=True)\n",
       "    (2): ReLU(inplace=True)\n",
       "    (3): Reduce('pair batch_size max_nodes d_decider -> pair batch_size d_decider', 'max')\n",
       "    (4): Rearrange('pair batch_size d_decider -> batch_size (pair d_decider)')\n",
       "    (5): Linear(in_features=32, out_features=16, bias=True)\n",
       "    (6): ReLU(inplace=True)\n",
       "    (7): Linear(in_features=16, out_features=2, bias=True)\n",
       "  )\n",
       ")"
      ]
     },
     "execution_count": 10,
     "metadata": {},
     "output_type": "execute_result"
    }
   ],
   "source": [
    "prover = GraphIsomorphismSoloProver(params, device)\n",
    "prover"
   ]
  },
  {
   "cell_type": "code",
   "execution_count": 11,
   "metadata": {},
   "outputs": [
    {
     "data": {
      "text/plain": [
       "GraphIsomorphismSoloVerifier(\n",
       "  (gnn): Sequential(\n",
       "    (0): Linear(1, 8, bias=True)\n",
       "    (1): ReLU(inplace=True)\n",
       "    (2): GINConv(nn=Sequential(\n",
       "    (0): Linear(in_features=8, out_features=32, bias=True)\n",
       "    (1): ReLU(inplace=True)\n",
       "    (2): Linear(in_features=32, out_features=8, bias=True)\n",
       "  ))\n",
       "    (3): ReLU(inplace=True)\n",
       "    (4): GINConv(nn=Sequential(\n",
       "    (0): Linear(in_features=8, out_features=32, bias=True)\n",
       "    (1): ReLU(inplace=True)\n",
       "    (2): Linear(in_features=32, out_features=8, bias=True)\n",
       "  ))\n",
       "  )\n",
       "  (attention): MultiheadAttention(\n",
       "    (out_proj): NonDynamicallyQuantizableLinear(in_features=8, out_features=8, bias=True)\n",
       "  )\n",
       "  (decider): Sequential(\n",
       "    (0): ReLU(inplace=True)\n",
       "    (1): Linear(in_features=8, out_features=16, bias=True)\n",
       "    (2): ReLU(inplace=True)\n",
       "    (3): Reduce('pair batch_size max_nodes d_decider -> pair batch_size d_decider', 'max')\n",
       "    (4): Rearrange('pair batch_size d_decider -> batch_size (pair d_decider)')\n",
       "    (5): Linear(in_features=32, out_features=16, bias=True)\n",
       "    (6): ReLU(inplace=True)\n",
       "    (7): Linear(in_features=16, out_features=2, bias=True)\n",
       "  )\n",
       ")"
      ]
     },
     "execution_count": 11,
     "metadata": {},
     "output_type": "execute_result"
    }
   ],
   "source": [
    "verifier = GraphIsomorphismSoloVerifier(params, device)\n",
    "verifier"
   ]
  },
  {
   "cell_type": "markdown",
   "metadata": {},
   "source": [
    "## Train"
   ]
  },
  {
   "cell_type": "code",
   "execution_count": 12,
   "metadata": {},
   "outputs": [
    {
     "name": "stderr",
     "output_type": "stream",
     "text": [
      "[autoreload of Sequential_944f97 failed: Traceback (most recent call last):\n",
      "  File \"/home/sam/.virtualenvs/pvg-experiments/lib/python3.11/site-packages/IPython/extensions/autoreload.py\", line 276, in check\n",
      "    superreload(m, reload, self.old_objects)\n",
      "  File \"/home/sam/.virtualenvs/pvg-experiments/lib/python3.11/site-packages/IPython/extensions/autoreload.py\", line 475, in superreload\n",
      "    module = reload(module)\n",
      "             ^^^^^^^^^^^^^^\n",
      "  File \"/usr/lib/python3.11/importlib/__init__.py\", line 168, in reload\n",
      "    raise ModuleNotFoundError(f\"spec not found for the module {name!r}\", name=name)\n",
      "ModuleNotFoundError: spec not found for the module 'Sequential_944f97'\n",
      "]\n"
     ]
    }
   ],
   "source": [
    "for name, param in prover.named_parameters():\n",
    "    if name.startswith(\"gnn\") or name.startswith(\"attention\"):\n",
    "        param.requires_grad = False\n",
    "for name, param in verifier.named_parameters():\n",
    "    if name.startswith(\"gnn\") or name.startswith(\"attention\"):\n",
    "        param.requires_grad = False"
   ]
  },
  {
   "cell_type": "code",
   "execution_count": 13,
   "metadata": {},
   "outputs": [
    {
     "name": "stderr",
     "output_type": "stream",
     "text": [
      "Epoch 1: 100%|██████████| 32/32 [00:02<00:00, 13.35it/s]\n"
     ]
    },
    {
     "name": "stdout",
     "output_type": "stream",
     "text": [
      "Prover: loss: 0.6948, accuracy: 49.4629%\n",
      "Verifier: loss: 0.6954, accuracy: 49.3652%\n"
     ]
    },
    {
     "name": "stderr",
     "output_type": "stream",
     "text": [
      "Epoch 2: 100%|██████████| 32/32 [00:00<00:00, 34.40it/s]\n"
     ]
    },
    {
     "name": "stdout",
     "output_type": "stream",
     "text": [
      "Prover: loss: 0.6934, accuracy: 50.6348%\n",
      "Verifier: loss: 0.6935, accuracy: 50.8545%\n"
     ]
    },
    {
     "name": "stderr",
     "output_type": "stream",
     "text": [
      "Epoch 3: 100%|██████████| 32/32 [00:00<00:00, 41.18it/s]\n"
     ]
    },
    {
     "name": "stdout",
     "output_type": "stream",
     "text": [
      "Prover: loss: 0.6941, accuracy: 49.3042%\n",
      "Verifier: loss: 0.6944, accuracy: 48.8770%\n"
     ]
    },
    {
     "name": "stderr",
     "output_type": "stream",
     "text": [
      "Epoch 4: 100%|██████████| 32/32 [00:00<00:00, 41.45it/s]\n"
     ]
    },
    {
     "name": "stdout",
     "output_type": "stream",
     "text": [
      "Prover: loss: 0.6933, accuracy: 49.8291%\n",
      "Verifier: loss: 0.6935, accuracy: 49.5483%\n"
     ]
    },
    {
     "name": "stderr",
     "output_type": "stream",
     "text": [
      "Epoch 5: 100%|██████████| 32/32 [00:00<00:00, 38.83it/s]\n"
     ]
    },
    {
     "name": "stdout",
     "output_type": "stream",
     "text": [
      "Prover: loss: 0.6936, accuracy: 50.4761%\n",
      "Verifier: loss: 0.6936, accuracy: 49.9756%\n"
     ]
    },
    {
     "name": "stderr",
     "output_type": "stream",
     "text": [
      "Epoch 6: 100%|██████████| 32/32 [00:00<00:00, 39.27it/s]\n"
     ]
    },
    {
     "name": "stdout",
     "output_type": "stream",
     "text": [
      "Prover: loss: 0.6936, accuracy: 49.2798%\n",
      "Verifier: loss: 0.6937, accuracy: 49.9268%\n"
     ]
    },
    {
     "name": "stderr",
     "output_type": "stream",
     "text": [
      "Epoch 7: 100%|██████████| 32/32 [00:00<00:00, 40.45it/s]\n"
     ]
    },
    {
     "name": "stdout",
     "output_type": "stream",
     "text": [
      "Prover: loss: 0.6934, accuracy: 49.9634%\n",
      "Verifier: loss: 0.6936, accuracy: 49.6338%\n"
     ]
    },
    {
     "name": "stderr",
     "output_type": "stream",
     "text": [
      "Epoch 8: 100%|██████████| 32/32 [00:00<00:00, 41.53it/s]\n"
     ]
    },
    {
     "name": "stdout",
     "output_type": "stream",
     "text": [
      "Prover: loss: 0.6938, accuracy: 49.6826%\n",
      "Verifier: loss: 0.6940, accuracy: 50.1343%\n"
     ]
    },
    {
     "name": "stderr",
     "output_type": "stream",
     "text": [
      "Epoch 9: 100%|██████████| 32/32 [00:00<00:00, 42.23it/s]\n"
     ]
    },
    {
     "name": "stdout",
     "output_type": "stream",
     "text": [
      "Prover: loss: 0.6935, accuracy: 49.3408%\n",
      "Verifier: loss: 0.6935, accuracy: 50.0488%\n"
     ]
    },
    {
     "name": "stderr",
     "output_type": "stream",
     "text": [
      "Epoch 10: 100%|██████████| 32/32 [00:00<00:00, 42.32it/s]\n"
     ]
    },
    {
     "name": "stdout",
     "output_type": "stream",
     "text": [
      "Prover: loss: 0.6932, accuracy: 50.3174%\n",
      "Verifier: loss: 0.6932, accuracy: 50.5493%\n"
     ]
    },
    {
     "name": "stderr",
     "output_type": "stream",
     "text": [
      "Epoch 11: 100%|██████████| 32/32 [00:00<00:00, 42.17it/s]\n"
     ]
    },
    {
     "name": "stdout",
     "output_type": "stream",
     "text": [
      "Prover: loss: 0.6938, accuracy: 50.1831%\n",
      "Verifier: loss: 0.6937, accuracy: 49.6826%\n"
     ]
    },
    {
     "name": "stderr",
     "output_type": "stream",
     "text": [
      "Epoch 12: 100%|██████████| 32/32 [00:00<00:00, 37.68it/s]\n"
     ]
    },
    {
     "name": "stdout",
     "output_type": "stream",
     "text": [
      "Prover: loss: 0.6933, accuracy: 49.9878%\n",
      "Verifier: loss: 0.6935, accuracy: 49.0356%\n"
     ]
    },
    {
     "name": "stderr",
     "output_type": "stream",
     "text": [
      "Epoch 13: 100%|██████████| 32/32 [00:00<00:00, 40.83it/s]\n"
     ]
    },
    {
     "name": "stdout",
     "output_type": "stream",
     "text": [
      "Prover: loss: 0.6934, accuracy: 49.7192%\n",
      "Verifier: loss: 0.6935, accuracy: 49.7070%\n"
     ]
    },
    {
     "name": "stderr",
     "output_type": "stream",
     "text": [
      "Epoch 14: 100%|██████████| 32/32 [00:00<00:00, 42.07it/s]\n"
     ]
    },
    {
     "name": "stdout",
     "output_type": "stream",
     "text": [
      "Prover: loss: 0.6931, accuracy: 50.5249%\n",
      "Verifier: loss: 0.6932, accuracy: 50.2319%\n"
     ]
    },
    {
     "name": "stderr",
     "output_type": "stream",
     "text": [
      "Epoch 15: 100%|██████████| 32/32 [00:00<00:00, 42.01it/s]\n"
     ]
    },
    {
     "name": "stdout",
     "output_type": "stream",
     "text": [
      "Prover: loss: 0.6937, accuracy: 50.3296%\n",
      "Verifier: loss: 0.6937, accuracy: 50.3784%\n"
     ]
    },
    {
     "name": "stderr",
     "output_type": "stream",
     "text": [
      "Epoch 16: 100%|██████████| 32/32 [00:00<00:00, 35.60it/s]\n"
     ]
    },
    {
     "name": "stdout",
     "output_type": "stream",
     "text": [
      "Prover: loss: 0.6932, accuracy: 50.1831%\n",
      "Verifier: loss: 0.6932, accuracy: 50.5737%\n"
     ]
    },
    {
     "name": "stderr",
     "output_type": "stream",
     "text": [
      "Epoch 17: 100%|██████████| 32/32 [00:00<00:00, 40.72it/s]\n"
     ]
    },
    {
     "name": "stdout",
     "output_type": "stream",
     "text": [
      "Prover: loss: 0.6933, accuracy: 49.9878%\n",
      "Verifier: loss: 0.6932, accuracy: 49.7803%\n"
     ]
    },
    {
     "name": "stderr",
     "output_type": "stream",
     "text": [
      "Epoch 18: 100%|██████████| 32/32 [00:00<00:00, 42.63it/s]\n"
     ]
    },
    {
     "name": "stdout",
     "output_type": "stream",
     "text": [
      "Prover: loss: 0.6933, accuracy: 49.7314%\n",
      "Verifier: loss: 0.6933, accuracy: 49.9756%\n"
     ]
    },
    {
     "name": "stderr",
     "output_type": "stream",
     "text": [
      "Epoch 19: 100%|██████████| 32/32 [00:00<00:00, 43.29it/s]\n"
     ]
    },
    {
     "name": "stdout",
     "output_type": "stream",
     "text": [
      "Prover: loss: 0.6935, accuracy: 48.3643%\n",
      "Verifier: loss: 0.6935, accuracy: 49.0967%\n"
     ]
    },
    {
     "name": "stderr",
     "output_type": "stream",
     "text": [
      "Epoch 20: 100%|██████████| 32/32 [00:00<00:00, 42.40it/s]\n"
     ]
    },
    {
     "name": "stdout",
     "output_type": "stream",
     "text": [
      "Prover: loss: 0.6933, accuracy: 50.0732%\n",
      "Verifier: loss: 0.6932, accuracy: 50.3174%\n"
     ]
    },
    {
     "name": "stderr",
     "output_type": "stream",
     "text": [
      "Epoch 21: 100%|██████████| 32/32 [00:00<00:00, 41.14it/s]\n"
     ]
    },
    {
     "name": "stdout",
     "output_type": "stream",
     "text": [
      "Prover: loss: 0.6932, accuracy: 49.5361%\n",
      "Verifier: loss: 0.6932, accuracy: 49.5117%\n"
     ]
    },
    {
     "name": "stderr",
     "output_type": "stream",
     "text": [
      "Epoch 22: 100%|██████████| 32/32 [00:00<00:00, 42.86it/s]\n"
     ]
    },
    {
     "name": "stdout",
     "output_type": "stream",
     "text": [
      "Prover: loss: 0.6933, accuracy: 50.2563%\n",
      "Verifier: loss: 0.6932, accuracy: 49.7314%\n"
     ]
    },
    {
     "name": "stderr",
     "output_type": "stream",
     "text": [
      "Epoch 23: 100%|██████████| 32/32 [00:00<00:00, 42.89it/s]\n"
     ]
    },
    {
     "name": "stdout",
     "output_type": "stream",
     "text": [
      "Prover: loss: 0.6932, accuracy: 49.3408%\n",
      "Verifier: loss: 0.6930, accuracy: 50.6348%\n"
     ]
    },
    {
     "name": "stderr",
     "output_type": "stream",
     "text": [
      "Epoch 24: 100%|██████████| 32/32 [00:00<00:00, 38.65it/s]\n"
     ]
    },
    {
     "name": "stdout",
     "output_type": "stream",
     "text": [
      "Prover: loss: 0.6932, accuracy: 49.6704%\n",
      "Verifier: loss: 0.6930, accuracy: 51.1475%\n"
     ]
    },
    {
     "name": "stderr",
     "output_type": "stream",
     "text": [
      "Epoch 25: 100%|██████████| 32/32 [00:00<00:00, 42.92it/s]\n"
     ]
    },
    {
     "name": "stdout",
     "output_type": "stream",
     "text": [
      "Prover: loss: 0.6932, accuracy: 50.5615%\n",
      "Verifier: loss: 0.6929, accuracy: 50.7324%\n"
     ]
    },
    {
     "name": "stderr",
     "output_type": "stream",
     "text": [
      "Epoch 26: 100%|██████████| 32/32 [00:00<00:00, 41.18it/s]\n"
     ]
    },
    {
     "name": "stdout",
     "output_type": "stream",
     "text": [
      "Prover: loss: 0.6933, accuracy: 50.2563%\n",
      "Verifier: loss: 0.6933, accuracy: 49.8047%\n"
     ]
    },
    {
     "name": "stderr",
     "output_type": "stream",
     "text": [
      "Epoch 27: 100%|██████████| 32/32 [00:00<00:00, 42.89it/s]\n"
     ]
    },
    {
     "name": "stdout",
     "output_type": "stream",
     "text": [
      "Prover: loss: 0.6935, accuracy: 49.8169%\n",
      "Verifier: loss: 0.6931, accuracy: 50.2686%\n"
     ]
    },
    {
     "name": "stderr",
     "output_type": "stream",
     "text": [
      "Epoch 28: 100%|██████████| 32/32 [00:00<00:00, 42.95it/s]\n"
     ]
    },
    {
     "name": "stdout",
     "output_type": "stream",
     "text": [
      "Prover: loss: 0.6935, accuracy: 50.0977%\n",
      "Verifier: loss: 0.6933, accuracy: 50.8667%\n"
     ]
    },
    {
     "name": "stderr",
     "output_type": "stream",
     "text": [
      "Epoch 29: 100%|██████████| 32/32 [00:00<00:00, 42.81it/s]\n"
     ]
    },
    {
     "name": "stdout",
     "output_type": "stream",
     "text": [
      "Prover: loss: 0.6935, accuracy: 48.9380%\n",
      "Verifier: loss: 0.6932, accuracy: 50.2686%\n"
     ]
    },
    {
     "name": "stderr",
     "output_type": "stream",
     "text": [
      "Epoch 30: 100%|██████████| 32/32 [00:00<00:00, 38.62it/s]\n"
     ]
    },
    {
     "name": "stdout",
     "output_type": "stream",
     "text": [
      "Prover: loss: 0.6933, accuracy: 49.3896%\n",
      "Verifier: loss: 0.6929, accuracy: 51.4404%\n"
     ]
    },
    {
     "name": "stderr",
     "output_type": "stream",
     "text": [
      "Epoch 31: 100%|██████████| 32/32 [00:00<00:00, 41.90it/s]\n"
     ]
    },
    {
     "name": "stdout",
     "output_type": "stream",
     "text": [
      "Prover: loss: 0.6934, accuracy: 49.0601%\n",
      "Verifier: loss: 0.6928, accuracy: 51.2939%\n"
     ]
    },
    {
     "name": "stderr",
     "output_type": "stream",
     "text": [
      "Epoch 32: 100%|██████████| 32/32 [00:00<00:00, 43.20it/s]\n"
     ]
    },
    {
     "name": "stdout",
     "output_type": "stream",
     "text": [
      "Prover: loss: 0.6934, accuracy: 48.8770%\n",
      "Verifier: loss: 0.6935, accuracy: 50.1465%\n"
     ]
    },
    {
     "name": "stderr",
     "output_type": "stream",
     "text": [
      "Epoch 33: 100%|██████████| 32/32 [00:00<00:00, 43.08it/s]\n"
     ]
    },
    {
     "name": "stdout",
     "output_type": "stream",
     "text": [
      "Prover: loss: 0.6933, accuracy: 49.1577%\n",
      "Verifier: loss: 0.6932, accuracy: 50.7568%\n"
     ]
    },
    {
     "name": "stderr",
     "output_type": "stream",
     "text": [
      "Epoch 34: 100%|██████████| 32/32 [00:00<00:00, 43.28it/s]\n"
     ]
    },
    {
     "name": "stdout",
     "output_type": "stream",
     "text": [
      "Prover: loss: 0.6934, accuracy: 50.0366%\n",
      "Verifier: loss: 0.6928, accuracy: 50.8667%\n"
     ]
    },
    {
     "name": "stderr",
     "output_type": "stream",
     "text": [
      "Epoch 35: 100%|██████████| 32/32 [00:00<00:00, 43.43it/s]\n"
     ]
    },
    {
     "name": "stdout",
     "output_type": "stream",
     "text": [
      "Prover: loss: 0.6935, accuracy: 49.8779%\n",
      "Verifier: loss: 0.6931, accuracy: 50.8179%\n"
     ]
    },
    {
     "name": "stderr",
     "output_type": "stream",
     "text": [
      "Epoch 36: 100%|██████████| 32/32 [00:00<00:00, 41.16it/s]\n"
     ]
    },
    {
     "name": "stdout",
     "output_type": "stream",
     "text": [
      "Prover: loss: 0.6932, accuracy: 49.1943%\n",
      "Verifier: loss: 0.6926, accuracy: 51.7822%\n"
     ]
    },
    {
     "name": "stderr",
     "output_type": "stream",
     "text": [
      "Epoch 37: 100%|██████████| 32/32 [00:00<00:00, 43.14it/s]\n"
     ]
    },
    {
     "name": "stdout",
     "output_type": "stream",
     "text": [
      "Prover: loss: 0.6936, accuracy: 49.6460%\n",
      "Verifier: loss: 0.6935, accuracy: 50.6226%\n"
     ]
    },
    {
     "name": "stderr",
     "output_type": "stream",
     "text": [
      "Epoch 38: 100%|██████████| 32/32 [00:00<00:00, 43.45it/s]\n"
     ]
    },
    {
     "name": "stdout",
     "output_type": "stream",
     "text": [
      "Prover: loss: 0.6938, accuracy: 48.6572%\n",
      "Verifier: loss: 0.6943, accuracy: 50.4272%\n"
     ]
    },
    {
     "name": "stderr",
     "output_type": "stream",
     "text": [
      "Epoch 39: 100%|██████████| 32/32 [00:00<00:00, 42.78it/s]\n"
     ]
    },
    {
     "name": "stdout",
     "output_type": "stream",
     "text": [
      "Prover: loss: 0.6933, accuracy: 49.7437%\n",
      "Verifier: loss: 0.6930, accuracy: 50.5981%\n"
     ]
    },
    {
     "name": "stderr",
     "output_type": "stream",
     "text": [
      "Epoch 40: 100%|██████████| 32/32 [00:00<00:00, 43.27it/s]\n"
     ]
    },
    {
     "name": "stdout",
     "output_type": "stream",
     "text": [
      "Prover: loss: 0.6933, accuracy: 49.0845%\n",
      "Verifier: loss: 0.6926, accuracy: 50.9766%\n"
     ]
    },
    {
     "name": "stderr",
     "output_type": "stream",
     "text": [
      "Epoch 41: 100%|██████████| 32/32 [00:00<00:00, 41.79it/s]\n"
     ]
    },
    {
     "name": "stdout",
     "output_type": "stream",
     "text": [
      "Prover: loss: 0.6936, accuracy: 49.7314%\n",
      "Verifier: loss: 0.6936, accuracy: 50.3784%\n"
     ]
    },
    {
     "name": "stderr",
     "output_type": "stream",
     "text": [
      "Epoch 42: 100%|██████████| 32/32 [00:00<00:00, 43.01it/s]\n"
     ]
    },
    {
     "name": "stdout",
     "output_type": "stream",
     "text": [
      "Prover: loss: 0.6933, accuracy: 49.4385%\n",
      "Verifier: loss: 0.6926, accuracy: 51.7090%\n"
     ]
    },
    {
     "name": "stderr",
     "output_type": "stream",
     "text": [
      "Epoch 43: 100%|██████████| 32/32 [00:00<00:00, 43.44it/s]\n"
     ]
    },
    {
     "name": "stdout",
     "output_type": "stream",
     "text": [
      "Prover: loss: 0.6933, accuracy: 50.3174%\n",
      "Verifier: loss: 0.6928, accuracy: 51.1963%\n"
     ]
    },
    {
     "name": "stderr",
     "output_type": "stream",
     "text": [
      "Epoch 44: 100%|██████████| 32/32 [00:00<00:00, 39.05it/s]\n"
     ]
    },
    {
     "name": "stdout",
     "output_type": "stream",
     "text": [
      "Prover: loss: 0.6934, accuracy: 49.2920%\n",
      "Verifier: loss: 0.6930, accuracy: 50.5127%\n"
     ]
    },
    {
     "name": "stderr",
     "output_type": "stream",
     "text": [
      "Epoch 45: 100%|██████████| 32/32 [00:00<00:00, 43.38it/s]\n"
     ]
    },
    {
     "name": "stdout",
     "output_type": "stream",
     "text": [
      "Prover: loss: 0.6933, accuracy: 49.1577%\n",
      "Verifier: loss: 0.6925, accuracy: 51.7944%\n"
     ]
    },
    {
     "name": "stderr",
     "output_type": "stream",
     "text": [
      "Epoch 46: 100%|██████████| 32/32 [00:00<00:00, 42.14it/s]\n"
     ]
    },
    {
     "name": "stdout",
     "output_type": "stream",
     "text": [
      "Prover: loss: 0.6933, accuracy: 50.1953%\n",
      "Verifier: loss: 0.6927, accuracy: 51.6846%\n"
     ]
    },
    {
     "name": "stderr",
     "output_type": "stream",
     "text": [
      "Epoch 47: 100%|██████████| 32/32 [00:00<00:00, 43.08it/s]\n"
     ]
    },
    {
     "name": "stdout",
     "output_type": "stream",
     "text": [
      "Prover: loss: 0.6932, accuracy: 49.7437%\n",
      "Verifier: loss: 0.6927, accuracy: 51.5869%\n"
     ]
    },
    {
     "name": "stderr",
     "output_type": "stream",
     "text": [
      "Epoch 48: 100%|██████████| 32/32 [00:00<00:00, 42.91it/s]\n"
     ]
    },
    {
     "name": "stdout",
     "output_type": "stream",
     "text": [
      "Prover: loss: 0.6932, accuracy: 50.0610%\n",
      "Verifier: loss: 0.6925, accuracy: 51.8066%\n"
     ]
    },
    {
     "name": "stderr",
     "output_type": "stream",
     "text": [
      "Epoch 49: 100%|██████████| 32/32 [00:00<00:00, 43.33it/s]\n"
     ]
    },
    {
     "name": "stdout",
     "output_type": "stream",
     "text": [
      "Prover: loss: 0.6933, accuracy: 49.8047%\n",
      "Verifier: loss: 0.6927, accuracy: 51.2817%\n"
     ]
    },
    {
     "name": "stderr",
     "output_type": "stream",
     "text": [
      "Epoch 50: 100%|██████████| 32/32 [00:00<00:00, 43.25it/s]\n"
     ]
    },
    {
     "name": "stdout",
     "output_type": "stream",
     "text": [
      "Prover: loss: 0.6932, accuracy: 49.6460%\n",
      "Verifier: loss: 0.6928, accuracy: 51.5625%\n"
     ]
    },
    {
     "name": "stderr",
     "output_type": "stream",
     "text": [
      "Epoch 51: 100%|██████████| 32/32 [00:00<00:00, 42.25it/s]\n"
     ]
    },
    {
     "name": "stdout",
     "output_type": "stream",
     "text": [
      "Prover: loss: 0.6932, accuracy: 50.1099%\n",
      "Verifier: loss: 0.6927, accuracy: 51.7700%\n"
     ]
    },
    {
     "name": "stderr",
     "output_type": "stream",
     "text": [
      "Epoch 52: 100%|██████████| 32/32 [00:00<00:00, 38.52it/s]\n"
     ]
    },
    {
     "name": "stdout",
     "output_type": "stream",
     "text": [
      "Prover: loss: 0.6932, accuracy: 50.4395%\n",
      "Verifier: loss: 0.6925, accuracy: 51.7944%\n"
     ]
    },
    {
     "name": "stderr",
     "output_type": "stream",
     "text": [
      "Epoch 53: 100%|██████████| 32/32 [00:00<00:00, 41.65it/s]\n"
     ]
    },
    {
     "name": "stdout",
     "output_type": "stream",
     "text": [
      "Prover: loss: 0.6934, accuracy: 49.5239%\n",
      "Verifier: loss: 0.6928, accuracy: 51.5259%\n"
     ]
    },
    {
     "name": "stderr",
     "output_type": "stream",
     "text": [
      "Epoch 54: 100%|██████████| 32/32 [00:00<00:00, 43.13it/s]\n"
     ]
    },
    {
     "name": "stdout",
     "output_type": "stream",
     "text": [
      "Prover: loss: 0.6932, accuracy: 49.2554%\n",
      "Verifier: loss: 0.6924, accuracy: 52.0508%\n"
     ]
    },
    {
     "name": "stderr",
     "output_type": "stream",
     "text": [
      "Epoch 55: 100%|██████████| 32/32 [00:00<00:00, 43.27it/s]\n"
     ]
    },
    {
     "name": "stdout",
     "output_type": "stream",
     "text": [
      "Prover: loss: 0.6933, accuracy: 49.1333%\n",
      "Verifier: loss: 0.6925, accuracy: 51.6724%\n"
     ]
    },
    {
     "name": "stderr",
     "output_type": "stream",
     "text": [
      "Epoch 56: 100%|██████████| 32/32 [00:00<00:00, 41.99it/s]\n"
     ]
    },
    {
     "name": "stdout",
     "output_type": "stream",
     "text": [
      "Prover: loss: 0.6933, accuracy: 49.5239%\n",
      "Verifier: loss: 0.6925, accuracy: 52.0508%\n"
     ]
    },
    {
     "name": "stderr",
     "output_type": "stream",
     "text": [
      "Epoch 57: 100%|██████████| 32/32 [00:00<00:00, 38.66it/s]\n"
     ]
    },
    {
     "name": "stdout",
     "output_type": "stream",
     "text": [
      "Prover: loss: 0.6936, accuracy: 48.6694%\n",
      "Verifier: loss: 0.6931, accuracy: 51.7822%\n"
     ]
    },
    {
     "name": "stderr",
     "output_type": "stream",
     "text": [
      "Epoch 58: 100%|██████████| 32/32 [00:00<00:00, 41.08it/s]\n"
     ]
    },
    {
     "name": "stdout",
     "output_type": "stream",
     "text": [
      "Prover: loss: 0.6933, accuracy: 50.1709%\n",
      "Verifier: loss: 0.6925, accuracy: 51.5747%\n"
     ]
    },
    {
     "name": "stderr",
     "output_type": "stream",
     "text": [
      "Epoch 59: 100%|██████████| 32/32 [00:00<00:00, 38.61it/s]\n"
     ]
    },
    {
     "name": "stdout",
     "output_type": "stream",
     "text": [
      "Prover: loss: 0.6933, accuracy: 49.2065%\n",
      "Verifier: loss: 0.6925, accuracy: 51.6602%\n"
     ]
    },
    {
     "name": "stderr",
     "output_type": "stream",
     "text": [
      "Epoch 60: 100%|██████████| 32/32 [00:00<00:00, 40.58it/s]\n"
     ]
    },
    {
     "name": "stdout",
     "output_type": "stream",
     "text": [
      "Prover: loss: 0.6934, accuracy: 50.1221%\n",
      "Verifier: loss: 0.6922, accuracy: 52.0386%\n"
     ]
    },
    {
     "name": "stderr",
     "output_type": "stream",
     "text": [
      "Epoch 61: 100%|██████████| 32/32 [00:00<00:00, 42.99it/s]\n"
     ]
    },
    {
     "name": "stdout",
     "output_type": "stream",
     "text": [
      "Prover: loss: 0.6932, accuracy: 50.0122%\n",
      "Verifier: loss: 0.6923, accuracy: 51.4771%\n"
     ]
    },
    {
     "name": "stderr",
     "output_type": "stream",
     "text": [
      "Epoch 62: 100%|██████████| 32/32 [00:00<00:00, 43.02it/s]\n"
     ]
    },
    {
     "name": "stdout",
     "output_type": "stream",
     "text": [
      "Prover: loss: 0.6933, accuracy: 48.8403%\n",
      "Verifier: loss: 0.6932, accuracy: 50.5371%\n"
     ]
    },
    {
     "name": "stderr",
     "output_type": "stream",
     "text": [
      "Epoch 63: 100%|██████████| 32/32 [00:00<00:00, 42.58it/s]\n"
     ]
    },
    {
     "name": "stdout",
     "output_type": "stream",
     "text": [
      "Prover: loss: 0.6936, accuracy: 49.1455%\n",
      "Verifier: loss: 0.6938, accuracy: 50.5615%\n"
     ]
    },
    {
     "name": "stderr",
     "output_type": "stream",
     "text": [
      "Epoch 64: 100%|██████████| 32/32 [00:00<00:00, 41.32it/s]\n"
     ]
    },
    {
     "name": "stdout",
     "output_type": "stream",
     "text": [
      "Prover: loss: 0.6934, accuracy: 49.7559%\n",
      "Verifier: loss: 0.6922, accuracy: 51.9165%\n"
     ]
    },
    {
     "name": "stderr",
     "output_type": "stream",
     "text": [
      "Epoch 65: 100%|██████████| 32/32 [00:00<00:00, 42.97it/s]\n"
     ]
    },
    {
     "name": "stdout",
     "output_type": "stream",
     "text": [
      "Prover: loss: 0.6934, accuracy: 50.0732%\n",
      "Verifier: loss: 0.6923, accuracy: 50.4150%\n"
     ]
    },
    {
     "name": "stderr",
     "output_type": "stream",
     "text": [
      "Epoch 66: 100%|██████████| 32/32 [00:00<00:00, 42.51it/s]\n"
     ]
    },
    {
     "name": "stdout",
     "output_type": "stream",
     "text": [
      "Prover: loss: 0.6933, accuracy: 49.2676%\n",
      "Verifier: loss: 0.6921, accuracy: 51.7212%\n"
     ]
    },
    {
     "name": "stderr",
     "output_type": "stream",
     "text": [
      "Epoch 67: 100%|██████████| 32/32 [00:00<00:00, 42.48it/s]\n"
     ]
    },
    {
     "name": "stdout",
     "output_type": "stream",
     "text": [
      "Prover: loss: 0.6933, accuracy: 49.3286%\n",
      "Verifier: loss: 0.6919, accuracy: 51.5869%\n"
     ]
    },
    {
     "name": "stderr",
     "output_type": "stream",
     "text": [
      "Epoch 68: 100%|██████████| 32/32 [00:00<00:00, 42.89it/s]\n"
     ]
    },
    {
     "name": "stdout",
     "output_type": "stream",
     "text": [
      "Prover: loss: 0.6933, accuracy: 49.9146%\n",
      "Verifier: loss: 0.6919, accuracy: 51.3794%\n"
     ]
    },
    {
     "name": "stderr",
     "output_type": "stream",
     "text": [
      "Epoch 69: 100%|██████████| 32/32 [00:00<00:00, 42.04it/s]\n"
     ]
    },
    {
     "name": "stdout",
     "output_type": "stream",
     "text": [
      "Prover: loss: 0.6933, accuracy: 49.5728%\n",
      "Verifier: loss: 0.6921, accuracy: 51.1963%\n"
     ]
    },
    {
     "name": "stderr",
     "output_type": "stream",
     "text": [
      "Epoch 70: 100%|██████████| 32/32 [00:00<00:00, 42.99it/s]\n"
     ]
    },
    {
     "name": "stdout",
     "output_type": "stream",
     "text": [
      "Prover: loss: 0.6934, accuracy: 49.6704%\n",
      "Verifier: loss: 0.6916, accuracy: 51.5869%\n"
     ]
    },
    {
     "name": "stderr",
     "output_type": "stream",
     "text": [
      "Epoch 71: 100%|██████████| 32/32 [00:00<00:00, 38.75it/s]\n"
     ]
    },
    {
     "name": "stdout",
     "output_type": "stream",
     "text": [
      "Prover: loss: 0.6933, accuracy: 49.7314%\n",
      "Verifier: loss: 0.6917, accuracy: 51.2939%\n"
     ]
    },
    {
     "name": "stderr",
     "output_type": "stream",
     "text": [
      "Epoch 72: 100%|██████████| 32/32 [00:00<00:00, 42.61it/s]\n"
     ]
    },
    {
     "name": "stdout",
     "output_type": "stream",
     "text": [
      "Prover: loss: 0.6934, accuracy: 49.5972%\n",
      "Verifier: loss: 0.6915, accuracy: 51.3428%\n"
     ]
    },
    {
     "name": "stderr",
     "output_type": "stream",
     "text": [
      "Epoch 73: 100%|██████████| 32/32 [00:00<00:00, 42.71it/s]\n"
     ]
    },
    {
     "name": "stdout",
     "output_type": "stream",
     "text": [
      "Prover: loss: 0.6932, accuracy: 50.5615%\n",
      "Verifier: loss: 0.6909, accuracy: 51.4160%\n"
     ]
    },
    {
     "name": "stderr",
     "output_type": "stream",
     "text": [
      "Epoch 74: 100%|██████████| 32/32 [00:00<00:00, 42.09it/s]\n"
     ]
    },
    {
     "name": "stdout",
     "output_type": "stream",
     "text": [
      "Prover: loss: 0.6933, accuracy: 50.1465%\n",
      "Verifier: loss: 0.6907, accuracy: 51.4648%\n"
     ]
    },
    {
     "name": "stderr",
     "output_type": "stream",
     "text": [
      "Epoch 75: 100%|██████████| 32/32 [00:00<00:00, 42.34it/s]\n"
     ]
    },
    {
     "name": "stdout",
     "output_type": "stream",
     "text": [
      "Prover: loss: 0.6933, accuracy: 49.1699%\n",
      "Verifier: loss: 0.6902, accuracy: 51.7822%\n"
     ]
    },
    {
     "name": "stderr",
     "output_type": "stream",
     "text": [
      "Epoch 76: 100%|██████████| 32/32 [00:00<00:00, 42.23it/s]\n"
     ]
    },
    {
     "name": "stdout",
     "output_type": "stream",
     "text": [
      "Prover: loss: 0.6938, accuracy: 49.4751%\n",
      "Verifier: loss: 0.6900, accuracy: 51.1841%\n"
     ]
    },
    {
     "name": "stderr",
     "output_type": "stream",
     "text": [
      "Epoch 77: 100%|██████████| 32/32 [00:00<00:00, 42.34it/s]\n"
     ]
    },
    {
     "name": "stdout",
     "output_type": "stream",
     "text": [
      "Prover: loss: 0.6934, accuracy: 49.0845%\n",
      "Verifier: loss: 0.6897, accuracy: 50.4150%\n"
     ]
    },
    {
     "name": "stderr",
     "output_type": "stream",
     "text": [
      "Epoch 78: 100%|██████████| 32/32 [00:00<00:00, 41.21it/s]\n"
     ]
    },
    {
     "name": "stdout",
     "output_type": "stream",
     "text": [
      "Prover: loss: 0.6933, accuracy: 49.4873%\n",
      "Verifier: loss: 0.6886, accuracy: 51.0132%\n"
     ]
    },
    {
     "name": "stderr",
     "output_type": "stream",
     "text": [
      "Epoch 79: 100%|██████████| 32/32 [00:00<00:00, 37.47it/s]\n"
     ]
    },
    {
     "name": "stdout",
     "output_type": "stream",
     "text": [
      "Prover: loss: 0.6933, accuracy: 50.4761%\n",
      "Verifier: loss: 0.6871, accuracy: 52.2827%\n"
     ]
    },
    {
     "name": "stderr",
     "output_type": "stream",
     "text": [
      "Epoch 80: 100%|██████████| 32/32 [00:00<00:00, 42.66it/s]\n"
     ]
    },
    {
     "name": "stdout",
     "output_type": "stream",
     "text": [
      "Prover: loss: 0.6936, accuracy: 48.9258%\n",
      "Verifier: loss: 0.6860, accuracy: 50.5615%\n"
     ]
    },
    {
     "name": "stderr",
     "output_type": "stream",
     "text": [
      "Epoch 81: 100%|██████████| 32/32 [00:00<00:00, 41.74it/s]\n"
     ]
    },
    {
     "name": "stdout",
     "output_type": "stream",
     "text": [
      "Prover: loss: 0.6934, accuracy: 49.6582%\n",
      "Verifier: loss: 0.6855, accuracy: 52.0630%\n"
     ]
    },
    {
     "name": "stderr",
     "output_type": "stream",
     "text": [
      "Epoch 82: 100%|██████████| 32/32 [00:00<00:00, 42.14it/s]\n"
     ]
    },
    {
     "name": "stdout",
     "output_type": "stream",
     "text": [
      "Prover: loss: 0.6933, accuracy: 49.6948%\n",
      "Verifier: loss: 0.6838, accuracy: 52.8076%\n"
     ]
    },
    {
     "name": "stderr",
     "output_type": "stream",
     "text": [
      "Epoch 83: 100%|██████████| 32/32 [00:00<00:00, 38.97it/s]\n"
     ]
    },
    {
     "name": "stdout",
     "output_type": "stream",
     "text": [
      "Prover: loss: 0.6933, accuracy: 49.3286%\n",
      "Verifier: loss: 0.6832, accuracy: 53.2593%\n"
     ]
    },
    {
     "name": "stderr",
     "output_type": "stream",
     "text": [
      "Epoch 84: 100%|██████████| 32/32 [00:00<00:00, 37.30it/s]\n"
     ]
    },
    {
     "name": "stdout",
     "output_type": "stream",
     "text": [
      "Prover: loss: 0.6933, accuracy: 49.6460%\n",
      "Verifier: loss: 0.6814, accuracy: 53.1982%\n"
     ]
    },
    {
     "name": "stderr",
     "output_type": "stream",
     "text": [
      "Epoch 85: 100%|██████████| 32/32 [00:00<00:00, 40.23it/s]\n"
     ]
    },
    {
     "name": "stdout",
     "output_type": "stream",
     "text": [
      "Prover: loss: 0.6933, accuracy: 49.3774%\n",
      "Verifier: loss: 0.6823, accuracy: 51.9165%\n"
     ]
    },
    {
     "name": "stderr",
     "output_type": "stream",
     "text": [
      "Epoch 86: 100%|██████████| 32/32 [00:00<00:00, 41.31it/s]\n"
     ]
    },
    {
     "name": "stdout",
     "output_type": "stream",
     "text": [
      "Prover: loss: 0.6933, accuracy: 49.1455%\n",
      "Verifier: loss: 0.6794, accuracy: 52.9541%\n"
     ]
    },
    {
     "name": "stderr",
     "output_type": "stream",
     "text": [
      "Epoch 87: 100%|██████████| 32/32 [00:00<00:00, 37.97it/s]\n"
     ]
    },
    {
     "name": "stdout",
     "output_type": "stream",
     "text": [
      "Prover: loss: 0.6933, accuracy: 49.4873%\n",
      "Verifier: loss: 0.6793, accuracy: 53.5278%\n"
     ]
    },
    {
     "name": "stderr",
     "output_type": "stream",
     "text": [
      "Epoch 88: 100%|██████████| 32/32 [00:00<00:00, 39.18it/s]\n"
     ]
    },
    {
     "name": "stdout",
     "output_type": "stream",
     "text": [
      "Prover: loss: 0.6933, accuracy: 50.1587%\n",
      "Verifier: loss: 0.6787, accuracy: 53.3203%\n"
     ]
    },
    {
     "name": "stderr",
     "output_type": "stream",
     "text": [
      "Epoch 89: 100%|██████████| 32/32 [00:00<00:00, 39.84it/s]\n"
     ]
    },
    {
     "name": "stdout",
     "output_type": "stream",
     "text": [
      "Prover: loss: 0.6933, accuracy: 49.4263%\n",
      "Verifier: loss: 0.6770, accuracy: 53.8696%\n"
     ]
    },
    {
     "name": "stderr",
     "output_type": "stream",
     "text": [
      "Epoch 90: 100%|██████████| 32/32 [00:00<00:00, 41.83it/s]\n"
     ]
    },
    {
     "name": "stdout",
     "output_type": "stream",
     "text": [
      "Prover: loss: 0.6935, accuracy: 49.4141%\n",
      "Verifier: loss: 0.6769, accuracy: 53.6377%\n"
     ]
    },
    {
     "name": "stderr",
     "output_type": "stream",
     "text": [
      "Epoch 91: 100%|██████████| 32/32 [00:00<00:00, 43.30it/s]\n"
     ]
    },
    {
     "name": "stdout",
     "output_type": "stream",
     "text": [
      "Prover: loss: 0.6935, accuracy: 49.2920%\n",
      "Verifier: loss: 0.6780, accuracy: 52.4414%\n"
     ]
    },
    {
     "name": "stderr",
     "output_type": "stream",
     "text": [
      "Epoch 92: 100%|██████████| 32/32 [00:00<00:00, 36.59it/s]\n"
     ]
    },
    {
     "name": "stdout",
     "output_type": "stream",
     "text": [
      "Prover: loss: 0.6933, accuracy: 49.3530%\n",
      "Verifier: loss: 0.6767, accuracy: 52.8198%\n"
     ]
    },
    {
     "name": "stderr",
     "output_type": "stream",
     "text": [
      "Epoch 93: 100%|██████████| 32/32 [00:00<00:00, 40.46it/s]\n"
     ]
    },
    {
     "name": "stdout",
     "output_type": "stream",
     "text": [
      "Prover: loss: 0.6935, accuracy: 49.3408%\n",
      "Verifier: loss: 0.6751, accuracy: 53.4058%\n"
     ]
    },
    {
     "name": "stderr",
     "output_type": "stream",
     "text": [
      "Epoch 94: 100%|██████████| 32/32 [00:00<00:00, 39.35it/s]\n"
     ]
    },
    {
     "name": "stdout",
     "output_type": "stream",
     "text": [
      "Prover: loss: 0.6935, accuracy: 49.4263%\n",
      "Verifier: loss: 0.6751, accuracy: 53.6865%\n"
     ]
    },
    {
     "name": "stderr",
     "output_type": "stream",
     "text": [
      "Epoch 95: 100%|██████████| 32/32 [00:00<00:00, 41.80it/s]\n"
     ]
    },
    {
     "name": "stdout",
     "output_type": "stream",
     "text": [
      "Prover: loss: 0.6933, accuracy: 49.4385%\n",
      "Verifier: loss: 0.6734, accuracy: 54.7485%\n"
     ]
    },
    {
     "name": "stderr",
     "output_type": "stream",
     "text": [
      "Epoch 96: 100%|██████████| 32/32 [00:00<00:00, 40.89it/s]\n"
     ]
    },
    {
     "name": "stdout",
     "output_type": "stream",
     "text": [
      "Prover: loss: 0.6933, accuracy: 49.3652%\n",
      "Verifier: loss: 0.6736, accuracy: 54.2480%\n"
     ]
    },
    {
     "name": "stderr",
     "output_type": "stream",
     "text": [
      "Epoch 97: 100%|██████████| 32/32 [00:00<00:00, 42.45it/s]\n"
     ]
    },
    {
     "name": "stdout",
     "output_type": "stream",
     "text": [
      "Prover: loss: 0.6933, accuracy: 50.2563%\n",
      "Verifier: loss: 0.6751, accuracy: 53.6255%\n"
     ]
    },
    {
     "name": "stderr",
     "output_type": "stream",
     "text": [
      "Epoch 98: 100%|██████████| 32/32 [00:00<00:00, 41.31it/s]\n"
     ]
    },
    {
     "name": "stdout",
     "output_type": "stream",
     "text": [
      "Prover: loss: 0.6936, accuracy: 48.9502%\n",
      "Verifier: loss: 0.6766, accuracy: 53.2471%\n"
     ]
    },
    {
     "name": "stderr",
     "output_type": "stream",
     "text": [
      "Epoch 99: 100%|██████████| 32/32 [00:00<00:00, 34.66it/s]\n"
     ]
    },
    {
     "name": "stdout",
     "output_type": "stream",
     "text": [
      "Prover: loss: 0.6933, accuracy: 49.5605%\n",
      "Verifier: loss: 0.6792, accuracy: 53.3081%\n"
     ]
    },
    {
     "name": "stderr",
     "output_type": "stream",
     "text": [
      "Epoch 100: 100%|██████████| 32/32 [00:00<00:00, 38.82it/s]\n"
     ]
    },
    {
     "name": "stdout",
     "output_type": "stream",
     "text": [
      "Prover: loss: 0.6932, accuracy: 50.0244%\n",
      "Verifier: loss: 0.6720, accuracy: 54.7363%\n"
     ]
    },
    {
     "name": "stderr",
     "output_type": "stream",
     "text": [
      "Epoch 101: 100%|██████████| 32/32 [00:00<00:00, 42.26it/s]\n"
     ]
    },
    {
     "name": "stdout",
     "output_type": "stream",
     "text": [
      "Prover: loss: 0.6932, accuracy: 49.5850%\n",
      "Verifier: loss: 0.6707, accuracy: 54.9561%\n"
     ]
    },
    {
     "name": "stderr",
     "output_type": "stream",
     "text": [
      "Epoch 102: 100%|██████████| 32/32 [00:00<00:00, 42.66it/s]\n"
     ]
    },
    {
     "name": "stdout",
     "output_type": "stream",
     "text": [
      "Prover: loss: 0.6934, accuracy: 49.7070%\n",
      "Verifier: loss: 0.6704, accuracy: 55.2734%\n"
     ]
    },
    {
     "name": "stderr",
     "output_type": "stream",
     "text": [
      "Epoch 103: 100%|██████████| 32/32 [00:00<00:00, 42.79it/s]\n"
     ]
    },
    {
     "name": "stdout",
     "output_type": "stream",
     "text": [
      "Prover: loss: 0.6932, accuracy: 49.8779%\n",
      "Verifier: loss: 0.6711, accuracy: 53.9795%\n"
     ]
    },
    {
     "name": "stderr",
     "output_type": "stream",
     "text": [
      "Epoch 104: 100%|██████████| 32/32 [00:00<00:00, 42.36it/s]\n"
     ]
    },
    {
     "name": "stdout",
     "output_type": "stream",
     "text": [
      "Prover: loss: 0.6933, accuracy: 50.0977%\n",
      "Verifier: loss: 0.6707, accuracy: 54.5288%\n"
     ]
    },
    {
     "name": "stderr",
     "output_type": "stream",
     "text": [
      "Epoch 105: 100%|██████████| 32/32 [00:00<00:00, 41.79it/s]\n"
     ]
    },
    {
     "name": "stdout",
     "output_type": "stream",
     "text": [
      "Prover: loss: 0.6933, accuracy: 50.0488%\n",
      "Verifier: loss: 0.6691, accuracy: 54.2236%\n"
     ]
    },
    {
     "name": "stderr",
     "output_type": "stream",
     "text": [
      "Epoch 106: 100%|██████████| 32/32 [00:00<00:00, 38.39it/s]\n"
     ]
    },
    {
     "name": "stdout",
     "output_type": "stream",
     "text": [
      "Prover: loss: 0.6932, accuracy: 49.9878%\n",
      "Verifier: loss: 0.6692, accuracy: 54.5654%\n"
     ]
    },
    {
     "name": "stderr",
     "output_type": "stream",
     "text": [
      "Epoch 107: 100%|██████████| 32/32 [00:00<00:00, 42.77it/s]\n"
     ]
    },
    {
     "name": "stdout",
     "output_type": "stream",
     "text": [
      "Prover: loss: 0.6934, accuracy: 49.3530%\n",
      "Verifier: loss: 0.6720, accuracy: 53.8818%\n"
     ]
    },
    {
     "name": "stderr",
     "output_type": "stream",
     "text": [
      "Epoch 108: 100%|██████████| 32/32 [00:00<00:00, 42.62it/s]\n"
     ]
    },
    {
     "name": "stdout",
     "output_type": "stream",
     "text": [
      "Prover: loss: 0.6933, accuracy: 50.1465%\n",
      "Verifier: loss: 0.6707, accuracy: 54.3335%\n"
     ]
    },
    {
     "name": "stderr",
     "output_type": "stream",
     "text": [
      "Epoch 109: 100%|██████████| 32/32 [00:00<00:00, 42.87it/s]\n"
     ]
    },
    {
     "name": "stdout",
     "output_type": "stream",
     "text": [
      "Prover: loss: 0.6935, accuracy: 49.6826%\n",
      "Verifier: loss: 0.6687, accuracy: 54.5654%\n"
     ]
    },
    {
     "name": "stderr",
     "output_type": "stream",
     "text": [
      "Epoch 110: 100%|██████████| 32/32 [00:00<00:00, 41.30it/s]\n"
     ]
    },
    {
     "name": "stdout",
     "output_type": "stream",
     "text": [
      "Prover: loss: 0.6934, accuracy: 50.0000%\n",
      "Verifier: loss: 0.6696, accuracy: 54.3945%\n"
     ]
    },
    {
     "name": "stderr",
     "output_type": "stream",
     "text": [
      "Epoch 111: 100%|██████████| 32/32 [00:00<00:00, 41.87it/s]\n"
     ]
    },
    {
     "name": "stdout",
     "output_type": "stream",
     "text": [
      "Prover: loss: 0.6933, accuracy: 50.1343%\n",
      "Verifier: loss: 0.6690, accuracy: 54.1626%\n"
     ]
    },
    {
     "name": "stderr",
     "output_type": "stream",
     "text": [
      "Epoch 112: 100%|██████████| 32/32 [00:00<00:00, 37.19it/s]\n"
     ]
    },
    {
     "name": "stdout",
     "output_type": "stream",
     "text": [
      "Prover: loss: 0.6934, accuracy: 50.2441%\n",
      "Verifier: loss: 0.6732, accuracy: 54.0894%\n"
     ]
    },
    {
     "name": "stderr",
     "output_type": "stream",
     "text": [
      "Epoch 113: 100%|██████████| 32/32 [00:00<00:00, 41.49it/s]\n"
     ]
    },
    {
     "name": "stdout",
     "output_type": "stream",
     "text": [
      "Prover: loss: 0.6933, accuracy: 49.2676%\n",
      "Verifier: loss: 0.6702, accuracy: 53.7964%\n"
     ]
    },
    {
     "name": "stderr",
     "output_type": "stream",
     "text": [
      "Epoch 114: 100%|██████████| 32/32 [00:00<00:00, 38.88it/s]\n"
     ]
    },
    {
     "name": "stdout",
     "output_type": "stream",
     "text": [
      "Prover: loss: 0.6932, accuracy: 50.0000%\n",
      "Verifier: loss: 0.6694, accuracy: 54.2358%\n"
     ]
    },
    {
     "name": "stderr",
     "output_type": "stream",
     "text": [
      "Epoch 115: 100%|██████████| 32/32 [00:00<00:00, 42.16it/s]\n"
     ]
    },
    {
     "name": "stdout",
     "output_type": "stream",
     "text": [
      "Prover: loss: 0.6934, accuracy: 49.9512%\n",
      "Verifier: loss: 0.6669, accuracy: 54.5776%\n"
     ]
    },
    {
     "name": "stderr",
     "output_type": "stream",
     "text": [
      "Epoch 116: 100%|██████████| 32/32 [00:00<00:00, 42.88it/s]\n"
     ]
    },
    {
     "name": "stdout",
     "output_type": "stream",
     "text": [
      "Prover: loss: 0.6936, accuracy: 49.6216%\n",
      "Verifier: loss: 0.6672, accuracy: 54.5532%\n"
     ]
    },
    {
     "name": "stderr",
     "output_type": "stream",
     "text": [
      "Epoch 117: 100%|██████████| 32/32 [00:00<00:00, 41.61it/s]\n"
     ]
    },
    {
     "name": "stdout",
     "output_type": "stream",
     "text": [
      "Prover: loss: 0.6933, accuracy: 50.2808%\n",
      "Verifier: loss: 0.6686, accuracy: 54.3579%\n"
     ]
    },
    {
     "name": "stderr",
     "output_type": "stream",
     "text": [
      "Epoch 118: 100%|██████████| 32/32 [00:00<00:00, 42.69it/s]\n"
     ]
    },
    {
     "name": "stdout",
     "output_type": "stream",
     "text": [
      "Prover: loss: 0.6937, accuracy: 49.4141%\n",
      "Verifier: loss: 0.6705, accuracy: 54.1016%\n"
     ]
    },
    {
     "name": "stderr",
     "output_type": "stream",
     "text": [
      "Epoch 119: 100%|██████████| 32/32 [00:00<00:00, 42.71it/s]\n"
     ]
    },
    {
     "name": "stdout",
     "output_type": "stream",
     "text": [
      "Prover: loss: 0.6932, accuracy: 49.8047%\n",
      "Verifier: loss: 0.6653, accuracy: 54.8950%\n"
     ]
    },
    {
     "name": "stderr",
     "output_type": "stream",
     "text": [
      "Epoch 120: 100%|██████████| 32/32 [00:00<00:00, 42.45it/s]\n"
     ]
    },
    {
     "name": "stdout",
     "output_type": "stream",
     "text": [
      "Prover: loss: 0.6935, accuracy: 49.7192%\n",
      "Verifier: loss: 0.6674, accuracy: 54.8706%\n"
     ]
    },
    {
     "name": "stderr",
     "output_type": "stream",
     "text": [
      "Epoch 121: 100%|██████████| 32/32 [00:00<00:00, 40.08it/s]\n"
     ]
    },
    {
     "name": "stdout",
     "output_type": "stream",
     "text": [
      "Prover: loss: 0.6931, accuracy: 50.6958%\n",
      "Verifier: loss: 0.6685, accuracy: 53.9429%\n"
     ]
    },
    {
     "name": "stderr",
     "output_type": "stream",
     "text": [
      "Epoch 122: 100%|██████████| 32/32 [00:00<00:00, 41.63it/s]\n"
     ]
    },
    {
     "name": "stdout",
     "output_type": "stream",
     "text": [
      "Prover: loss: 0.6933, accuracy: 50.1465%\n",
      "Verifier: loss: 0.6718, accuracy: 53.7598%\n"
     ]
    },
    {
     "name": "stderr",
     "output_type": "stream",
     "text": [
      "Epoch 123: 100%|██████████| 32/32 [00:00<00:00, 41.58it/s]\n"
     ]
    },
    {
     "name": "stdout",
     "output_type": "stream",
     "text": [
      "Prover: loss: 0.6934, accuracy: 50.2319%\n",
      "Verifier: loss: 0.6688, accuracy: 54.8828%\n"
     ]
    },
    {
     "name": "stderr",
     "output_type": "stream",
     "text": [
      "Epoch 124: 100%|██████████| 32/32 [00:00<00:00, 43.56it/s]\n"
     ]
    },
    {
     "name": "stdout",
     "output_type": "stream",
     "text": [
      "Prover: loss: 0.6935, accuracy: 49.5850%\n",
      "Verifier: loss: 0.6659, accuracy: 54.9927%\n"
     ]
    },
    {
     "name": "stderr",
     "output_type": "stream",
     "text": [
      "Epoch 125: 100%|██████████| 32/32 [00:00<00:00, 43.78it/s]\n"
     ]
    },
    {
     "name": "stdout",
     "output_type": "stream",
     "text": [
      "Prover: loss: 0.6932, accuracy: 49.8169%\n",
      "Verifier: loss: 0.6654, accuracy: 54.8584%\n"
     ]
    },
    {
     "name": "stderr",
     "output_type": "stream",
     "text": [
      "Epoch 126: 100%|██████████| 32/32 [00:00<00:00, 39.66it/s]\n"
     ]
    },
    {
     "name": "stdout",
     "output_type": "stream",
     "text": [
      "Prover: loss: 0.6933, accuracy: 49.2432%\n",
      "Verifier: loss: 0.6662, accuracy: 54.2969%\n"
     ]
    },
    {
     "name": "stderr",
     "output_type": "stream",
     "text": [
      "Epoch 127: 100%|██████████| 32/32 [00:00<00:00, 44.07it/s]\n"
     ]
    },
    {
     "name": "stdout",
     "output_type": "stream",
     "text": [
      "Prover: loss: 0.6936, accuracy: 49.7803%\n",
      "Verifier: loss: 0.6661, accuracy: 55.2490%\n"
     ]
    },
    {
     "name": "stderr",
     "output_type": "stream",
     "text": [
      "Epoch 128: 100%|██████████| 32/32 [00:00<00:00, 42.43it/s]\n"
     ]
    },
    {
     "name": "stdout",
     "output_type": "stream",
     "text": [
      "Prover: loss: 0.6932, accuracy: 49.5483%\n",
      "Verifier: loss: 0.6666, accuracy: 55.0293%\n"
     ]
    },
    {
     "name": "stderr",
     "output_type": "stream",
     "text": [
      "Epoch 129: 100%|██████████| 32/32 [00:00<00:00, 44.24it/s]\n"
     ]
    },
    {
     "name": "stdout",
     "output_type": "stream",
     "text": [
      "Prover: loss: 0.6933, accuracy: 49.5361%\n",
      "Verifier: loss: 0.6663, accuracy: 54.2725%\n"
     ]
    },
    {
     "name": "stderr",
     "output_type": "stream",
     "text": [
      "Epoch 130: 100%|██████████| 32/32 [00:00<00:00, 43.00it/s]\n"
     ]
    },
    {
     "name": "stdout",
     "output_type": "stream",
     "text": [
      "Prover: loss: 0.6934, accuracy: 49.5117%\n",
      "Verifier: loss: 0.6656, accuracy: 54.6753%\n"
     ]
    },
    {
     "name": "stderr",
     "output_type": "stream",
     "text": [
      "Epoch 131: 100%|██████████| 32/32 [00:00<00:00, 43.85it/s]\n"
     ]
    },
    {
     "name": "stdout",
     "output_type": "stream",
     "text": [
      "Prover: loss: 0.6933, accuracy: 50.1587%\n",
      "Verifier: loss: 0.6649, accuracy: 54.8096%\n"
     ]
    },
    {
     "name": "stderr",
     "output_type": "stream",
     "text": [
      "Epoch 132: 100%|██████████| 32/32 [00:00<00:00, 43.95it/s]\n"
     ]
    },
    {
     "name": "stdout",
     "output_type": "stream",
     "text": [
      "Prover: loss: 0.6935, accuracy: 49.8901%\n",
      "Verifier: loss: 0.6656, accuracy: 54.8218%\n"
     ]
    },
    {
     "name": "stderr",
     "output_type": "stream",
     "text": [
      "Epoch 133: 100%|██████████| 32/32 [00:00<00:00, 44.07it/s]\n"
     ]
    },
    {
     "name": "stdout",
     "output_type": "stream",
     "text": [
      "Prover: loss: 0.6933, accuracy: 48.7549%\n",
      "Verifier: loss: 0.6665, accuracy: 53.9673%\n"
     ]
    },
    {
     "name": "stderr",
     "output_type": "stream",
     "text": [
      "Epoch 134: 100%|██████████| 32/32 [00:00<00:00, 39.73it/s]\n"
     ]
    },
    {
     "name": "stdout",
     "output_type": "stream",
     "text": [
      "Prover: loss: 0.6932, accuracy: 49.9634%\n",
      "Verifier: loss: 0.6664, accuracy: 54.2480%\n"
     ]
    },
    {
     "name": "stderr",
     "output_type": "stream",
     "text": [
      "Epoch 135: 100%|██████████| 32/32 [00:00<00:00, 43.12it/s]\n"
     ]
    },
    {
     "name": "stdout",
     "output_type": "stream",
     "text": [
      "Prover: loss: 0.6932, accuracy: 50.1221%\n",
      "Verifier: loss: 0.6646, accuracy: 54.5776%\n"
     ]
    },
    {
     "name": "stderr",
     "output_type": "stream",
     "text": [
      "Epoch 136: 100%|██████████| 32/32 [00:00<00:00, 43.73it/s]\n"
     ]
    },
    {
     "name": "stdout",
     "output_type": "stream",
     "text": [
      "Prover: loss: 0.6934, accuracy: 50.1343%\n",
      "Verifier: loss: 0.6660, accuracy: 54.1382%\n"
     ]
    },
    {
     "name": "stderr",
     "output_type": "stream",
     "text": [
      "Epoch 137: 100%|██████████| 32/32 [00:00<00:00, 43.75it/s]\n"
     ]
    },
    {
     "name": "stdout",
     "output_type": "stream",
     "text": [
      "Prover: loss: 0.6933, accuracy: 49.7192%\n",
      "Verifier: loss: 0.6674, accuracy: 54.5288%\n"
     ]
    },
    {
     "name": "stderr",
     "output_type": "stream",
     "text": [
      "Epoch 138: 100%|██████████| 32/32 [00:00<00:00, 44.11it/s]\n"
     ]
    },
    {
     "name": "stdout",
     "output_type": "stream",
     "text": [
      "Prover: loss: 0.6933, accuracy: 49.7559%\n",
      "Verifier: loss: 0.6651, accuracy: 54.9805%\n"
     ]
    },
    {
     "name": "stderr",
     "output_type": "stream",
     "text": [
      "Epoch 139: 100%|██████████| 32/32 [00:00<00:00, 39.74it/s]\n"
     ]
    },
    {
     "name": "stdout",
     "output_type": "stream",
     "text": [
      "Prover: loss: 0.6934, accuracy: 49.6826%\n",
      "Verifier: loss: 0.6654, accuracy: 54.8950%\n"
     ]
    },
    {
     "name": "stderr",
     "output_type": "stream",
     "text": [
      "Epoch 140: 100%|██████████| 32/32 [00:00<00:00, 44.26it/s]\n"
     ]
    },
    {
     "name": "stdout",
     "output_type": "stream",
     "text": [
      "Prover: loss: 0.6932, accuracy: 50.1953%\n",
      "Verifier: loss: 0.6658, accuracy: 54.5654%\n"
     ]
    },
    {
     "name": "stderr",
     "output_type": "stream",
     "text": [
      "Epoch 141: 100%|██████████| 32/32 [00:00<00:00, 44.23it/s]\n"
     ]
    },
    {
     "name": "stdout",
     "output_type": "stream",
     "text": [
      "Prover: loss: 0.6933, accuracy: 49.4141%\n",
      "Verifier: loss: 0.6670, accuracy: 54.1138%\n"
     ]
    },
    {
     "name": "stderr",
     "output_type": "stream",
     "text": [
      "Epoch 142: 100%|██████████| 32/32 [00:00<00:00, 41.64it/s]\n"
     ]
    },
    {
     "name": "stdout",
     "output_type": "stream",
     "text": [
      "Prover: loss: 0.6935, accuracy: 49.0479%\n",
      "Verifier: loss: 0.6646, accuracy: 55.2368%\n"
     ]
    },
    {
     "name": "stderr",
     "output_type": "stream",
     "text": [
      "Epoch 143: 100%|██████████| 32/32 [00:00<00:00, 39.05it/s]\n"
     ]
    },
    {
     "name": "stdout",
     "output_type": "stream",
     "text": [
      "Prover: loss: 0.6932, accuracy: 50.3906%\n",
      "Verifier: loss: 0.6650, accuracy: 54.4800%\n"
     ]
    },
    {
     "name": "stderr",
     "output_type": "stream",
     "text": [
      "Epoch 144: 100%|██████████| 32/32 [00:00<00:00, 39.20it/s]\n"
     ]
    },
    {
     "name": "stdout",
     "output_type": "stream",
     "text": [
      "Prover: loss: 0.6936, accuracy: 49.8291%\n",
      "Verifier: loss: 0.6644, accuracy: 54.7607%\n"
     ]
    },
    {
     "name": "stderr",
     "output_type": "stream",
     "text": [
      "Epoch 145: 100%|██████████| 32/32 [00:00<00:00, 42.39it/s]\n"
     ]
    },
    {
     "name": "stdout",
     "output_type": "stream",
     "text": [
      "Prover: loss: 0.6933, accuracy: 49.3408%\n",
      "Verifier: loss: 0.6650, accuracy: 54.4678%\n"
     ]
    },
    {
     "name": "stderr",
     "output_type": "stream",
     "text": [
      "Epoch 146: 100%|██████████| 32/32 [00:00<00:00, 42.85it/s]\n"
     ]
    },
    {
     "name": "stdout",
     "output_type": "stream",
     "text": [
      "Prover: loss: 0.6933, accuracy: 49.3042%\n",
      "Verifier: loss: 0.6634, accuracy: 55.4443%\n"
     ]
    },
    {
     "name": "stderr",
     "output_type": "stream",
     "text": [
      "Epoch 147: 100%|██████████| 32/32 [00:00<00:00, 41.15it/s]\n"
     ]
    },
    {
     "name": "stdout",
     "output_type": "stream",
     "text": [
      "Prover: loss: 0.6932, accuracy: 49.8657%\n",
      "Verifier: loss: 0.6669, accuracy: 54.8218%\n"
     ]
    },
    {
     "name": "stderr",
     "output_type": "stream",
     "text": [
      "Epoch 148: 100%|██████████| 32/32 [00:00<00:00, 42.64it/s]\n"
     ]
    },
    {
     "name": "stdout",
     "output_type": "stream",
     "text": [
      "Prover: loss: 0.6933, accuracy: 49.7070%\n",
      "Verifier: loss: 0.6648, accuracy: 54.6753%\n"
     ]
    },
    {
     "name": "stderr",
     "output_type": "stream",
     "text": [
      "Epoch 149: 100%|██████████| 32/32 [00:00<00:00, 42.85it/s]\n"
     ]
    },
    {
     "name": "stdout",
     "output_type": "stream",
     "text": [
      "Prover: loss: 0.6933, accuracy: 50.1343%\n",
      "Verifier: loss: 0.6644, accuracy: 54.9805%\n"
     ]
    },
    {
     "name": "stderr",
     "output_type": "stream",
     "text": [
      "Epoch 150: 100%|██████████| 32/32 [00:00<00:00, 42.59it/s]\n"
     ]
    },
    {
     "name": "stdout",
     "output_type": "stream",
     "text": [
      "Prover: loss: 0.6933, accuracy: 49.4995%\n",
      "Verifier: loss: 0.6663, accuracy: 54.3823%\n"
     ]
    },
    {
     "name": "stderr",
     "output_type": "stream",
     "text": [
      "Epoch 151: 100%|██████████| 32/32 [00:00<00:00, 42.71it/s]\n"
     ]
    },
    {
     "name": "stdout",
     "output_type": "stream",
     "text": [
      "Prover: loss: 0.6935, accuracy: 50.0488%\n",
      "Verifier: loss: 0.6701, accuracy: 54.1382%\n"
     ]
    },
    {
     "name": "stderr",
     "output_type": "stream",
     "text": [
      "Epoch 152: 100%|██████████| 32/32 [00:00<00:00, 41.74it/s]\n"
     ]
    },
    {
     "name": "stdout",
     "output_type": "stream",
     "text": [
      "Prover: loss: 0.6933, accuracy: 49.4141%\n",
      "Verifier: loss: 0.6632, accuracy: 54.9438%\n"
     ]
    },
    {
     "name": "stderr",
     "output_type": "stream",
     "text": [
      "Epoch 153: 100%|██████████| 32/32 [00:00<00:00, 38.12it/s]\n"
     ]
    },
    {
     "name": "stdout",
     "output_type": "stream",
     "text": [
      "Prover: loss: 0.6932, accuracy: 50.2197%\n",
      "Verifier: loss: 0.6643, accuracy: 54.9194%\n"
     ]
    },
    {
     "name": "stderr",
     "output_type": "stream",
     "text": [
      "Epoch 154: 100%|██████████| 32/32 [00:00<00:00, 41.34it/s]\n"
     ]
    },
    {
     "name": "stdout",
     "output_type": "stream",
     "text": [
      "Prover: loss: 0.6935, accuracy: 49.2188%\n",
      "Verifier: loss: 0.6635, accuracy: 54.7607%\n"
     ]
    },
    {
     "name": "stderr",
     "output_type": "stream",
     "text": [
      "Epoch 155: 100%|██████████| 32/32 [00:00<00:00, 40.53it/s]\n"
     ]
    },
    {
     "name": "stdout",
     "output_type": "stream",
     "text": [
      "Prover: loss: 0.6936, accuracy: 49.4263%\n",
      "Verifier: loss: 0.6656, accuracy: 54.3701%\n"
     ]
    },
    {
     "name": "stderr",
     "output_type": "stream",
     "text": [
      "Epoch 156: 100%|██████████| 32/32 [00:00<00:00, 38.55it/s]\n"
     ]
    },
    {
     "name": "stdout",
     "output_type": "stream",
     "text": [
      "Prover: loss: 0.6932, accuracy: 49.9390%\n",
      "Verifier: loss: 0.6618, accuracy: 55.3955%\n"
     ]
    },
    {
     "name": "stderr",
     "output_type": "stream",
     "text": [
      "Epoch 157: 100%|██████████| 32/32 [00:00<00:00, 39.92it/s]\n"
     ]
    },
    {
     "name": "stdout",
     "output_type": "stream",
     "text": [
      "Prover: loss: 0.6933, accuracy: 50.2197%\n",
      "Verifier: loss: 0.6635, accuracy: 54.6387%\n"
     ]
    },
    {
     "name": "stderr",
     "output_type": "stream",
     "text": [
      "Epoch 158: 100%|██████████| 32/32 [00:00<00:00, 38.93it/s]\n"
     ]
    },
    {
     "name": "stdout",
     "output_type": "stream",
     "text": [
      "Prover: loss: 0.6932, accuracy: 50.7446%\n",
      "Verifier: loss: 0.6654, accuracy: 54.5288%\n"
     ]
    },
    {
     "name": "stderr",
     "output_type": "stream",
     "text": [
      "Epoch 159: 100%|██████████| 32/32 [00:00<00:00, 38.68it/s]\n"
     ]
    },
    {
     "name": "stdout",
     "output_type": "stream",
     "text": [
      "Prover: loss: 0.6933, accuracy: 50.3662%\n",
      "Verifier: loss: 0.6626, accuracy: 54.9072%\n"
     ]
    },
    {
     "name": "stderr",
     "output_type": "stream",
     "text": [
      "Epoch 160: 100%|██████████| 32/32 [00:00<00:00, 41.48it/s]\n"
     ]
    },
    {
     "name": "stdout",
     "output_type": "stream",
     "text": [
      "Prover: loss: 0.6935, accuracy: 49.6826%\n",
      "Verifier: loss: 0.6631, accuracy: 54.7974%\n"
     ]
    },
    {
     "name": "stderr",
     "output_type": "stream",
     "text": [
      "Epoch 161: 100%|██████████| 32/32 [00:00<00:00, 37.59it/s]\n"
     ]
    },
    {
     "name": "stdout",
     "output_type": "stream",
     "text": [
      "Prover: loss: 0.6933, accuracy: 49.2432%\n",
      "Verifier: loss: 0.6627, accuracy: 54.9316%\n"
     ]
    },
    {
     "name": "stderr",
     "output_type": "stream",
     "text": [
      "Epoch 162: 100%|██████████| 32/32 [00:00<00:00, 41.79it/s]\n"
     ]
    },
    {
     "name": "stdout",
     "output_type": "stream",
     "text": [
      "Prover: loss: 0.6932, accuracy: 49.5483%\n",
      "Verifier: loss: 0.6621, accuracy: 55.3345%\n"
     ]
    },
    {
     "name": "stderr",
     "output_type": "stream",
     "text": [
      "Epoch 163: 100%|██████████| 32/32 [00:00<00:00, 41.86it/s]\n"
     ]
    },
    {
     "name": "stdout",
     "output_type": "stream",
     "text": [
      "Prover: loss: 0.6933, accuracy: 50.3174%\n",
      "Verifier: loss: 0.6660, accuracy: 54.6265%\n"
     ]
    },
    {
     "name": "stderr",
     "output_type": "stream",
     "text": [
      "Epoch 164: 100%|██████████| 32/32 [00:00<00:00, 40.36it/s]\n"
     ]
    },
    {
     "name": "stdout",
     "output_type": "stream",
     "text": [
      "Prover: loss: 0.6932, accuracy: 50.1099%\n",
      "Verifier: loss: 0.6625, accuracy: 54.7119%\n"
     ]
    },
    {
     "name": "stderr",
     "output_type": "stream",
     "text": [
      "Epoch 165: 100%|██████████| 32/32 [00:00<00:00, 40.99it/s]\n"
     ]
    },
    {
     "name": "stdout",
     "output_type": "stream",
     "text": [
      "Prover: loss: 0.6932, accuracy: 50.4761%\n",
      "Verifier: loss: 0.6631, accuracy: 55.2490%\n"
     ]
    },
    {
     "name": "stderr",
     "output_type": "stream",
     "text": [
      "Epoch 166: 100%|██████████| 32/32 [00:00<00:00, 42.22it/s]\n"
     ]
    },
    {
     "name": "stdout",
     "output_type": "stream",
     "text": [
      "Prover: loss: 0.6934, accuracy: 49.0601%\n",
      "Verifier: loss: 0.6618, accuracy: 55.2368%\n"
     ]
    },
    {
     "name": "stderr",
     "output_type": "stream",
     "text": [
      "Epoch 167: 100%|██████████| 32/32 [00:00<00:00, 36.99it/s]\n"
     ]
    },
    {
     "name": "stdout",
     "output_type": "stream",
     "text": [
      "Prover: loss: 0.6934, accuracy: 48.8770%\n",
      "Verifier: loss: 0.6623, accuracy: 54.9072%\n"
     ]
    },
    {
     "name": "stderr",
     "output_type": "stream",
     "text": [
      "Epoch 168: 100%|██████████| 32/32 [00:00<00:00, 41.71it/s]\n"
     ]
    },
    {
     "name": "stdout",
     "output_type": "stream",
     "text": [
      "Prover: loss: 0.6937, accuracy: 48.9624%\n",
      "Verifier: loss: 0.6623, accuracy: 54.8340%\n"
     ]
    },
    {
     "name": "stderr",
     "output_type": "stream",
     "text": [
      "Epoch 169: 100%|██████████| 32/32 [00:00<00:00, 41.85it/s]\n"
     ]
    },
    {
     "name": "stdout",
     "output_type": "stream",
     "text": [
      "Prover: loss: 0.6934, accuracy: 49.2065%\n",
      "Verifier: loss: 0.6626, accuracy: 54.6631%\n"
     ]
    },
    {
     "name": "stderr",
     "output_type": "stream",
     "text": [
      "Epoch 170: 100%|██████████| 32/32 [00:00<00:00, 41.55it/s]\n"
     ]
    },
    {
     "name": "stdout",
     "output_type": "stream",
     "text": [
      "Prover: loss: 0.6932, accuracy: 49.5850%\n",
      "Verifier: loss: 0.6621, accuracy: 54.7485%\n"
     ]
    },
    {
     "name": "stderr",
     "output_type": "stream",
     "text": [
      "Epoch 171: 100%|██████████| 32/32 [00:00<00:00, 41.40it/s]\n"
     ]
    },
    {
     "name": "stdout",
     "output_type": "stream",
     "text": [
      "Prover: loss: 0.6934, accuracy: 49.5605%\n",
      "Verifier: loss: 0.6608, accuracy: 55.2856%\n"
     ]
    },
    {
     "name": "stderr",
     "output_type": "stream",
     "text": [
      "Epoch 172: 100%|██████████| 32/32 [00:00<00:00, 42.13it/s]\n"
     ]
    },
    {
     "name": "stdout",
     "output_type": "stream",
     "text": [
      "Prover: loss: 0.6933, accuracy: 50.2197%\n",
      "Verifier: loss: 0.6648, accuracy: 54.6509%\n"
     ]
    },
    {
     "name": "stderr",
     "output_type": "stream",
     "text": [
      "Epoch 173: 100%|██████████| 32/32 [00:00<00:00, 41.98it/s]\n"
     ]
    },
    {
     "name": "stdout",
     "output_type": "stream",
     "text": [
      "Prover: loss: 0.6932, accuracy: 49.3530%\n",
      "Verifier: loss: 0.6691, accuracy: 54.1748%\n"
     ]
    },
    {
     "name": "stderr",
     "output_type": "stream",
     "text": [
      "Epoch 174: 100%|██████████| 32/32 [00:00<00:00, 41.27it/s]\n"
     ]
    },
    {
     "name": "stdout",
     "output_type": "stream",
     "text": [
      "Prover: loss: 0.6933, accuracy: 49.3408%\n",
      "Verifier: loss: 0.6633, accuracy: 54.6021%\n"
     ]
    },
    {
     "name": "stderr",
     "output_type": "stream",
     "text": [
      "Epoch 175: 100%|██████████| 32/32 [00:00<00:00, 39.97it/s]\n"
     ]
    },
    {
     "name": "stdout",
     "output_type": "stream",
     "text": [
      "Prover: loss: 0.6932, accuracy: 49.5728%\n",
      "Verifier: loss: 0.6684, accuracy: 53.9551%\n"
     ]
    },
    {
     "name": "stderr",
     "output_type": "stream",
     "text": [
      "Epoch 176: 100%|██████████| 32/32 [00:00<00:00, 40.92it/s]\n"
     ]
    },
    {
     "name": "stdout",
     "output_type": "stream",
     "text": [
      "Prover: loss: 0.6932, accuracy: 50.0977%\n",
      "Verifier: loss: 0.6632, accuracy: 54.8218%\n"
     ]
    },
    {
     "name": "stderr",
     "output_type": "stream",
     "text": [
      "Epoch 177: 100%|██████████| 32/32 [00:00<00:00, 42.49it/s]\n"
     ]
    },
    {
     "name": "stdout",
     "output_type": "stream",
     "text": [
      "Prover: loss: 0.6935, accuracy: 49.0356%\n",
      "Verifier: loss: 0.6774, accuracy: 52.8320%\n"
     ]
    },
    {
     "name": "stderr",
     "output_type": "stream",
     "text": [
      "Epoch 178: 100%|██████████| 32/32 [00:00<00:00, 42.49it/s]\n"
     ]
    },
    {
     "name": "stdout",
     "output_type": "stream",
     "text": [
      "Prover: loss: 0.6933, accuracy: 49.2798%\n",
      "Verifier: loss: 0.6746, accuracy: 53.4912%\n"
     ]
    },
    {
     "name": "stderr",
     "output_type": "stream",
     "text": [
      "Epoch 179: 100%|██████████| 32/32 [00:00<00:00, 40.41it/s]\n"
     ]
    },
    {
     "name": "stdout",
     "output_type": "stream",
     "text": [
      "Prover: loss: 0.6933, accuracy: 49.3042%\n",
      "Verifier: loss: 0.6687, accuracy: 53.8818%\n"
     ]
    },
    {
     "name": "stderr",
     "output_type": "stream",
     "text": [
      "Epoch 180: 100%|██████████| 32/32 [00:00<00:00, 42.17it/s]\n"
     ]
    },
    {
     "name": "stdout",
     "output_type": "stream",
     "text": [
      "Prover: loss: 0.6933, accuracy: 49.5972%\n",
      "Verifier: loss: 0.6633, accuracy: 54.4312%\n"
     ]
    },
    {
     "name": "stderr",
     "output_type": "stream",
     "text": [
      "Epoch 181: 100%|██████████| 32/32 [00:00<00:00, 37.70it/s]\n"
     ]
    },
    {
     "name": "stdout",
     "output_type": "stream",
     "text": [
      "Prover: loss: 0.6932, accuracy: 50.0244%\n",
      "Verifier: loss: 0.6650, accuracy: 54.9805%\n"
     ]
    },
    {
     "name": "stderr",
     "output_type": "stream",
     "text": [
      "Epoch 182: 100%|██████████| 32/32 [00:00<00:00, 41.30it/s]\n"
     ]
    },
    {
     "name": "stdout",
     "output_type": "stream",
     "text": [
      "Prover: loss: 0.6933, accuracy: 49.7925%\n",
      "Verifier: loss: 0.6636, accuracy: 54.9316%\n"
     ]
    },
    {
     "name": "stderr",
     "output_type": "stream",
     "text": [
      "Epoch 183: 100%|██████████| 32/32 [00:00<00:00, 41.67it/s]\n"
     ]
    },
    {
     "name": "stdout",
     "output_type": "stream",
     "text": [
      "Prover: loss: 0.6933, accuracy: 49.8047%\n",
      "Verifier: loss: 0.6618, accuracy: 55.2246%\n"
     ]
    },
    {
     "name": "stderr",
     "output_type": "stream",
     "text": [
      "Epoch 184: 100%|██████████| 32/32 [00:00<00:00, 42.10it/s]\n"
     ]
    },
    {
     "name": "stdout",
     "output_type": "stream",
     "text": [
      "Prover: loss: 0.6933, accuracy: 50.4028%\n",
      "Verifier: loss: 0.6664, accuracy: 54.1748%\n"
     ]
    },
    {
     "name": "stderr",
     "output_type": "stream",
     "text": [
      "Epoch 185: 100%|██████████| 32/32 [00:00<00:00, 42.42it/s]\n"
     ]
    },
    {
     "name": "stdout",
     "output_type": "stream",
     "text": [
      "Prover: loss: 0.6934, accuracy: 50.3174%\n",
      "Verifier: loss: 0.6630, accuracy: 55.0537%\n"
     ]
    },
    {
     "name": "stderr",
     "output_type": "stream",
     "text": [
      "Epoch 186: 100%|██████████| 32/32 [00:00<00:00, 42.89it/s]\n"
     ]
    },
    {
     "name": "stdout",
     "output_type": "stream",
     "text": [
      "Prover: loss: 0.6935, accuracy: 49.3652%\n",
      "Verifier: loss: 0.6619, accuracy: 54.5532%\n"
     ]
    },
    {
     "name": "stderr",
     "output_type": "stream",
     "text": [
      "Epoch 187: 100%|██████████| 32/32 [00:00<00:00, 41.42it/s]\n"
     ]
    },
    {
     "name": "stdout",
     "output_type": "stream",
     "text": [
      "Prover: loss: 0.6933, accuracy: 49.0845%\n",
      "Verifier: loss: 0.6615, accuracy: 54.4067%\n"
     ]
    },
    {
     "name": "stderr",
     "output_type": "stream",
     "text": [
      "Epoch 188: 100%|██████████| 32/32 [00:00<00:00, 41.49it/s]\n"
     ]
    },
    {
     "name": "stdout",
     "output_type": "stream",
     "text": [
      "Prover: loss: 0.6934, accuracy: 49.9634%\n",
      "Verifier: loss: 0.6622, accuracy: 54.5532%\n"
     ]
    },
    {
     "name": "stderr",
     "output_type": "stream",
     "text": [
      "Epoch 189: 100%|██████████| 32/32 [00:00<00:00, 38.60it/s]\n"
     ]
    },
    {
     "name": "stdout",
     "output_type": "stream",
     "text": [
      "Prover: loss: 0.6933, accuracy: 49.6338%\n",
      "Verifier: loss: 0.6613, accuracy: 55.3711%\n"
     ]
    },
    {
     "name": "stderr",
     "output_type": "stream",
     "text": [
      "Epoch 190: 100%|██████████| 32/32 [00:00<00:00, 42.47it/s]\n"
     ]
    },
    {
     "name": "stdout",
     "output_type": "stream",
     "text": [
      "Prover: loss: 0.6933, accuracy: 49.8291%\n",
      "Verifier: loss: 0.6607, accuracy: 55.4810%\n"
     ]
    },
    {
     "name": "stderr",
     "output_type": "stream",
     "text": [
      "Epoch 191: 100%|██████████| 32/32 [00:00<00:00, 42.68it/s]\n"
     ]
    },
    {
     "name": "stdout",
     "output_type": "stream",
     "text": [
      "Prover: loss: 0.6933, accuracy: 49.3774%\n",
      "Verifier: loss: 0.6614, accuracy: 54.9072%\n"
     ]
    },
    {
     "name": "stderr",
     "output_type": "stream",
     "text": [
      "Epoch 192: 100%|██████████| 32/32 [00:00<00:00, 41.10it/s]\n"
     ]
    },
    {
     "name": "stdout",
     "output_type": "stream",
     "text": [
      "Prover: loss: 0.6932, accuracy: 49.3042%\n",
      "Verifier: loss: 0.6624, accuracy: 54.5410%\n"
     ]
    },
    {
     "name": "stderr",
     "output_type": "stream",
     "text": [
      "Epoch 193: 100%|██████████| 32/32 [00:00<00:00, 42.58it/s]\n"
     ]
    },
    {
     "name": "stdout",
     "output_type": "stream",
     "text": [
      "Prover: loss: 0.6935, accuracy: 49.9390%\n",
      "Verifier: loss: 0.6657, accuracy: 54.5532%\n"
     ]
    },
    {
     "name": "stderr",
     "output_type": "stream",
     "text": [
      "Epoch 194: 100%|██████████| 32/32 [00:00<00:00, 38.21it/s]\n"
     ]
    },
    {
     "name": "stdout",
     "output_type": "stream",
     "text": [
      "Prover: loss: 0.6933, accuracy: 49.6460%\n",
      "Verifier: loss: 0.6659, accuracy: 54.4312%\n"
     ]
    },
    {
     "name": "stderr",
     "output_type": "stream",
     "text": [
      "Epoch 195: 100%|██████████| 32/32 [00:00<00:00, 41.62it/s]\n"
     ]
    },
    {
     "name": "stdout",
     "output_type": "stream",
     "text": [
      "Prover: loss: 0.6933, accuracy: 48.5596%\n",
      "Verifier: loss: 0.6617, accuracy: 55.2734%\n"
     ]
    },
    {
     "name": "stderr",
     "output_type": "stream",
     "text": [
      "Epoch 196: 100%|██████████| 32/32 [00:00<00:00, 41.44it/s]\n"
     ]
    },
    {
     "name": "stdout",
     "output_type": "stream",
     "text": [
      "Prover: loss: 0.6932, accuracy: 49.3530%\n",
      "Verifier: loss: 0.6611, accuracy: 54.9072%\n"
     ]
    },
    {
     "name": "stderr",
     "output_type": "stream",
     "text": [
      "Epoch 197: 100%|██████████| 32/32 [00:00<00:00, 42.22it/s]\n"
     ]
    },
    {
     "name": "stdout",
     "output_type": "stream",
     "text": [
      "Prover: loss: 0.6932, accuracy: 50.1465%\n",
      "Verifier: loss: 0.6604, accuracy: 54.8462%\n"
     ]
    },
    {
     "name": "stderr",
     "output_type": "stream",
     "text": [
      "Epoch 198: 100%|██████████| 32/32 [00:00<00:00, 42.65it/s]\n"
     ]
    },
    {
     "name": "stdout",
     "output_type": "stream",
     "text": [
      "Prover: loss: 0.6935, accuracy: 49.7437%\n",
      "Verifier: loss: 0.6611, accuracy: 55.1636%\n"
     ]
    },
    {
     "name": "stderr",
     "output_type": "stream",
     "text": [
      "Epoch 199: 100%|██████████| 32/32 [00:00<00:00, 42.24it/s]\n"
     ]
    },
    {
     "name": "stdout",
     "output_type": "stream",
     "text": [
      "Prover: loss: 0.6934, accuracy: 49.8657%\n",
      "Verifier: loss: 0.6610, accuracy: 55.1147%\n"
     ]
    },
    {
     "name": "stderr",
     "output_type": "stream",
     "text": [
      "Epoch 200: 100%|██████████| 32/32 [00:00<00:00, 42.41it/s]"
     ]
    },
    {
     "name": "stdout",
     "output_type": "stream",
     "text": [
      "Prover: loss: 0.6935, accuracy: 49.4751%\n",
      "Verifier: loss: 0.6661, accuracy: 54.6387%\n"
     ]
    },
    {
     "name": "stderr",
     "output_type": "stream",
     "text": [
      "\n"
     ]
    }
   ],
   "source": [
    "optimizer_prover = torch.optim.Adam(prover.parameters(), lr=LEARNING_RATE)\n",
    "optimizer_verifier = torch.optim.Adam(verifier.parameters(), lr=LEARNING_RATE)\n",
    "\n",
    "test_loader = DataLoader(\n",
    "    train_dataset, batch_size=BATCH_SIZE, shuffle=True, follow_batch=[\"x_a\", \"x_b\"]\n",
    ")\n",
    "\n",
    "\n",
    "def train_step(\n",
    "    model: GraphIsomorphismSoloAgent, optimizer, data: GraphIsomorphismData\n",
    ") -> tuple[float, float]:\n",
    "    model.train()\n",
    "    optimizer.zero_grad()\n",
    "    pred = model(data)\n",
    "    loss = F.cross_entropy(pred, data.y)\n",
    "    loss.backward()\n",
    "    optimizer.step()\n",
    "    with torch.no_grad():\n",
    "        accuracy = (pred.argmax(dim=1) == data.y).float().mean().item()\n",
    "    return loss.item(), accuracy\n",
    "\n",
    "\n",
    "prover.to(device)\n",
    "verifier.to(device)\n",
    "\n",
    "\n",
    "losses_prover = np.empty(NUM_EPOCHS)\n",
    "accuracies_prover = np.empty(NUM_EPOCHS)\n",
    "losses_verifier = np.empty(NUM_EPOCHS)\n",
    "accuracies_verifier = np.empty(NUM_EPOCHS)\n",
    "for epoch in range(NUM_EPOCHS):\n",
    "    total_loss_prover = 0\n",
    "    total_accuracy_prover = 0\n",
    "    total_loss_verifier = 0\n",
    "    total_accuracy_verifier = 0\n",
    "    for data in tqdm(test_loader, desc=f\"Epoch {epoch+1}\"):\n",
    "        data = data.to(device)\n",
    "        loss, accuracy = train_step(prover, optimizer_prover, data)\n",
    "        total_loss_prover += loss\n",
    "        total_accuracy_prover += accuracy\n",
    "        loss, accuracy = train_step(verifier, optimizer_verifier, data)\n",
    "        total_loss_verifier += loss\n",
    "        total_accuracy_verifier += accuracy\n",
    "    losses_prover[epoch] = total_loss_prover / len(test_loader)\n",
    "    accuracies_prover[epoch] = total_accuracy_prover / len(test_loader)\n",
    "    losses_verifier[epoch] = total_loss_verifier / len(test_loader)\n",
    "    accuracies_verifier[epoch] = total_accuracy_verifier / len(test_loader)\n",
    "    print(\n",
    "        f\"Prover: loss: {losses_prover[epoch]:.4f}, \"\n",
    "        f\"accuracy: {accuracies_prover[epoch]:.4%}\"\n",
    "    )\n",
    "    print(\n",
    "        f\"Verifier: loss: {losses_verifier[epoch]:.4f}, \"\n",
    "        f\"accuracy: {accuracies_verifier[epoch]:.4%}\"\n",
    "    )"
   ]
  },
  {
   "cell_type": "code",
   "execution_count": 14,
   "metadata": {},
   "outputs": [
    {
     "data": {
      "application/vnd.plotly.v1+json": {
       "config": {
        "plotlyServerURL": "https://plot.ly"
       },
       "data": [
        {
         "mode": "lines",
         "name": "Prover Loss",
         "type": "scatter",
         "x": [
          0,
          1,
          2,
          3,
          4,
          5,
          6,
          7,
          8,
          9,
          10,
          11,
          12,
          13,
          14,
          15,
          16,
          17,
          18,
          19,
          20,
          21,
          22,
          23,
          24,
          25,
          26,
          27,
          28,
          29,
          30,
          31,
          32,
          33,
          34,
          35,
          36,
          37,
          38,
          39,
          40,
          41,
          42,
          43,
          44,
          45,
          46,
          47,
          48,
          49,
          50,
          51,
          52,
          53,
          54,
          55,
          56,
          57,
          58,
          59,
          60,
          61,
          62,
          63,
          64,
          65,
          66,
          67,
          68,
          69,
          70,
          71,
          72,
          73,
          74,
          75,
          76,
          77,
          78,
          79,
          80,
          81,
          82,
          83,
          84,
          85,
          86,
          87,
          88,
          89,
          90,
          91,
          92,
          93,
          94,
          95,
          96,
          97,
          98,
          99,
          100,
          101,
          102,
          103,
          104,
          105,
          106,
          107,
          108,
          109,
          110,
          111,
          112,
          113,
          114,
          115,
          116,
          117,
          118,
          119,
          120,
          121,
          122,
          123,
          124,
          125,
          126,
          127,
          128,
          129,
          130,
          131,
          132,
          133,
          134,
          135,
          136,
          137,
          138,
          139,
          140,
          141,
          142,
          143,
          144,
          145,
          146,
          147,
          148,
          149,
          150,
          151,
          152,
          153,
          154,
          155,
          156,
          157,
          158,
          159,
          160,
          161,
          162,
          163,
          164,
          165,
          166,
          167,
          168,
          169,
          170,
          171,
          172,
          173,
          174,
          175,
          176,
          177,
          178,
          179,
          180,
          181,
          182,
          183,
          184,
          185,
          186,
          187,
          188,
          189,
          190,
          191,
          192,
          193,
          194,
          195,
          196,
          197,
          198,
          199
         ],
         "y": [
          0.69484425149858,
          0.6934161819517612,
          0.6941217351704836,
          0.6933051161468029,
          0.6935890391469002,
          0.6936494261026382,
          0.6933967415243387,
          0.6938499119132757,
          0.693509990349412,
          0.6932168416678905,
          0.6937792804092169,
          0.6933182701468468,
          0.6934075243771076,
          0.69307029992342,
          0.6936702970415354,
          0.6932419147342443,
          0.6932754795998335,
          0.6933123171329498,
          0.6934564914554358,
          0.6932590808719397,
          0.6932306233793497,
          0.6933142766356468,
          0.6932161208242178,
          0.6932243909686804,
          0.6931910291314125,
          0.6932925470173359,
          0.6934627648442984,
          0.6935178861021996,
          0.6934686508029699,
          0.6932917181402445,
          0.6933738030493259,
          0.6934405248612165,
          0.6932979840785265,
          0.6934273466467857,
          0.6935218255966902,
          0.6932049952447414,
          0.6935939770191908,
          0.6937547586858273,
          0.693262841552496,
          0.6933164689689875,
          0.6935772281140089,
          0.6933441087603569,
          0.6932977773249149,
          0.6933995950967073,
          0.6932573933154345,
          0.6932792663574219,
          0.6932488493621349,
          0.6932356506586075,
          0.6933242715895176,
          0.6932207308709621,
          0.6931981183588505,
          0.6932324934750795,
          0.6933880001306534,
          0.6932411342859268,
          0.6932929642498493,
          0.6933346353471279,
          0.6935551464557648,
          0.6932526025921106,
          0.6933039911091328,
          0.6934143658727407,
          0.6932445596903563,
          0.6933178119361401,
          0.6935870554298162,
          0.6934061273932457,
          0.6933629363775253,
          0.6932513955980539,
          0.6933398861438036,
          0.6932998038828373,
          0.6933006271719933,
          0.6933887172490358,
          0.6932834312319756,
          0.6933828610926867,
          0.6931734103709459,
          0.6932622268795967,
          0.6932959705591202,
          0.6937657594680786,
          0.6933969743549824,
          0.6932950615882874,
          0.6932825595140457,
          0.693607097491622,
          0.6933916173875332,
          0.6932678576558828,
          0.6932739932090044,
          0.6933454945683479,
          0.6932689119130373,
          0.6932665891945362,
          0.693310871720314,
          0.6933064348995686,
          0.6933085490018129,
          0.693524394184351,
          0.6935448534786701,
          0.6932629235088825,
          0.6935319248586893,
          0.6935063078999519,
          0.6932690087705851,
          0.6932925041764975,
          0.693255290389061,
          0.6936327200382948,
          0.6933285146951675,
          0.6932104639708996,
          0.6932259984314442,
          0.6934237778186798,
          0.6932006236165762,
          0.6932913865894079,
          0.6933073606342077,
          0.6932064350694418,
          0.69336555339396,
          0.6933053359389305,
          0.6934631988406181,
          0.6933627407997847,
          0.6932875886559486,
          0.6933766696602106,
          0.6933136787265539,
          0.6932212095707655,
          0.693353058770299,
          0.6935824025422335,
          0.6932567544281483,
          0.6936906930059195,
          0.6932036969810724,
          0.69349573738873,
          0.6930783502757549,
          0.6933419704437256,
          0.6933977864682674,
          0.6935390401631594,
          0.6932307593524456,
          0.6933358181267977,
          0.6936103943735361,
          0.6932423673570156,
          0.6933441497385502,
          0.6933840550482273,
          0.6932991370558739,
          0.6935030110180378,
          0.6933440957218409,
          0.6932236980646849,
          0.6932158675044775,
          0.693378284573555,
          0.6933191642165184,
          0.6933356150984764,
          0.6933881193399429,
          0.69318787753582,
          0.6933035217225552,
          0.693549819290638,
          0.6932442802935839,
          0.6935646403580904,
          0.6933482568711042,
          0.6932631731033325,
          0.6931878682225943,
          0.6933159995824099,
          0.6932629328221083,
          0.6933146677911282,
          0.6934826280921698,
          0.6932668257504702,
          0.6932494007050991,
          0.6935442723333836,
          0.6935716234147549,
          0.6932241879403591,
          0.693290650844574,
          0.6931563876569271,
          0.6932716835290194,
          0.6935231368988752,
          0.6933102328330278,
          0.6932471673935652,
          0.6932600662112236,
          0.693202855065465,
          0.6932498719543219,
          0.6934304665774107,
          0.6933897603303194,
          0.6936870086938143,
          0.6934446226805449,
          0.6932435687631369,
          0.6933505553752184,
          0.6932750679552555,
          0.6932469382882118,
          0.6933294646441936,
          0.6932133510708809,
          0.6932477783411741,
          0.693468376994133,
          0.6933212392032146,
          0.6932581700384617,
          0.6933398246765137,
          0.6932403184473515,
          0.6932782661169767,
          0.6933118999004364,
          0.6933398433029652,
          0.6933550648391247,
          0.6935056895017624,
          0.6933231949806213,
          0.6933665499091148,
          0.6933056563138962,
          0.6933088190853596,
          0.6933086309581995,
          0.6931753642857075,
          0.6934588365256786,
          0.6932868119329214,
          0.6933173574507236,
          0.6931847520172596,
          0.6932468824088573,
          0.6935078743845224,
          0.6934433560818434,
          0.693462485447526
         ]
        },
        {
         "mode": "lines",
         "name": "Verifier Loss",
         "type": "scatter",
         "x": [
          0,
          1,
          2,
          3,
          4,
          5,
          6,
          7,
          8,
          9,
          10,
          11,
          12,
          13,
          14,
          15,
          16,
          17,
          18,
          19,
          20,
          21,
          22,
          23,
          24,
          25,
          26,
          27,
          28,
          29,
          30,
          31,
          32,
          33,
          34,
          35,
          36,
          37,
          38,
          39,
          40,
          41,
          42,
          43,
          44,
          45,
          46,
          47,
          48,
          49,
          50,
          51,
          52,
          53,
          54,
          55,
          56,
          57,
          58,
          59,
          60,
          61,
          62,
          63,
          64,
          65,
          66,
          67,
          68,
          69,
          70,
          71,
          72,
          73,
          74,
          75,
          76,
          77,
          78,
          79,
          80,
          81,
          82,
          83,
          84,
          85,
          86,
          87,
          88,
          89,
          90,
          91,
          92,
          93,
          94,
          95,
          96,
          97,
          98,
          99,
          100,
          101,
          102,
          103,
          104,
          105,
          106,
          107,
          108,
          109,
          110,
          111,
          112,
          113,
          114,
          115,
          116,
          117,
          118,
          119,
          120,
          121,
          122,
          123,
          124,
          125,
          126,
          127,
          128,
          129,
          130,
          131,
          132,
          133,
          134,
          135,
          136,
          137,
          138,
          139,
          140,
          141,
          142,
          143,
          144,
          145,
          146,
          147,
          148,
          149,
          150,
          151,
          152,
          153,
          154,
          155,
          156,
          157,
          158,
          159,
          160,
          161,
          162,
          163,
          164,
          165,
          166,
          167,
          168,
          169,
          170,
          171,
          172,
          173,
          174,
          175,
          176,
          177,
          178,
          179,
          180,
          181,
          182,
          183,
          184,
          185,
          186,
          187,
          188,
          189,
          190,
          191,
          192,
          193,
          194,
          195,
          196,
          197,
          198,
          199
         ],
         "y": [
          0.695351080968976,
          0.6935036703944206,
          0.6943848747760057,
          0.6934565827250481,
          0.6935871168971062,
          0.6937419585883617,
          0.6936181019991636,
          0.6939673870801926,
          0.6935449745506048,
          0.6931537985801697,
          0.6937393806874752,
          0.6934690456837416,
          0.6934783142060041,
          0.6932357158511877,
          0.6937389895319939,
          0.6931887902319431,
          0.6932206600904465,
          0.6932680811733007,
          0.6935141626745462,
          0.6931575275957584,
          0.6931834202259779,
          0.6932426393032074,
          0.6930361241102219,
          0.6929561421275139,
          0.692897068336606,
          0.6932873073965311,
          0.6930819265544415,
          0.6933158449828625,
          0.69317183829844,
          0.6929045412689447,
          0.6928301993757486,
          0.6934596411883831,
          0.6932388637214899,
          0.6928052548319101,
          0.6931223925203085,
          0.692580746486783,
          0.6934991702437401,
          0.6942985486239195,
          0.6929674409329891,
          0.6926121897995472,
          0.6936059128493071,
          0.6925594378262758,
          0.6927858218550682,
          0.6930075734853745,
          0.6924773659557104,
          0.6927115451544523,
          0.6926698349416256,
          0.6924964524805546,
          0.6927243322134018,
          0.6927974168211222,
          0.6926572434604168,
          0.6925347838550806,
          0.6928061656653881,
          0.6924442872405052,
          0.692524004727602,
          0.6925068367272615,
          0.6930677685886621,
          0.6925123166292906,
          0.6925089098513126,
          0.6921674031764269,
          0.6923404261469841,
          0.6932010035961866,
          0.6937717776745558,
          0.6921582501381636,
          0.6922815162688494,
          0.692141305655241,
          0.6918533705174923,
          0.691930191591382,
          0.6920745279639959,
          0.6915516331791878,
          0.6916985418647528,
          0.6914615966379642,
          0.690856633707881,
          0.6907114256173372,
          0.6901504192501307,
          0.6899802591651678,
          0.6897452287375927,
          0.6885851863771677,
          0.6870804540812969,
          0.6860012579709291,
          0.68546580709517,
          0.6838417537510395,
          0.6831530947238207,
          0.6814433243125677,
          0.6822500135749578,
          0.6793900020420551,
          0.6792544312775135,
          0.6787355951964855,
          0.6769904512912035,
          0.6768970377743244,
          0.6780230049043894,
          0.6767425462603569,
          0.6750606670975685,
          0.6750910300761461,
          0.6734181176871061,
          0.6735722795128822,
          0.6750504672527313,
          0.6766137909144163,
          0.6791933886706829,
          0.6720469240099192,
          0.6706666070967913,
          0.6704272963106632,
          0.6711315829306841,
          0.6707468703389168,
          0.669098624959588,
          0.6692308224737644,
          0.6720065139234066,
          0.6706935968250036,
          0.6686531882733107,
          0.6695517245680094,
          0.6689923647791147,
          0.6732369996607304,
          0.670211061835289,
          0.669409990310669,
          0.6668944917619228,
          0.6672445815056562,
          0.6685885991901159,
          0.6705234218388796,
          0.6652805432677269,
          0.6674458365887403,
          0.668526291847229,
          0.6717667132616043,
          0.6688465941697359,
          0.6658961102366447,
          0.6654054690152407,
          0.6662056837230921,
          0.6660555768758059,
          0.6666205618530512,
          0.6663216557353735,
          0.665579816326499,
          0.6648833565413952,
          0.6656223256140947,
          0.6665302943438292,
          0.6663807779550552,
          0.6646224968135357,
          0.6660456489771605,
          0.6673573423177004,
          0.6651364248245955,
          0.6654440127313137,
          0.6658027041703463,
          0.6670404355973005,
          0.664636705070734,
          0.6650113705545664,
          0.6643903832882643,
          0.6649985983967781,
          0.6633884515613317,
          0.6668550074100494,
          0.6648249980062246,
          0.664416741579771,
          0.6662574056535959,
          0.6701493840664625,
          0.6631517354398966,
          0.6642826218158007,
          0.6634905003011227,
          0.6655585430562496,
          0.6617986895143986,
          0.6634783335030079,
          0.6654218975454569,
          0.6626340299844742,
          0.6631480641663074,
          0.6626759320497513,
          0.6621232610195875,
          0.6659651454538107,
          0.6624898072332144,
          0.6630665641278028,
          0.6617963295429945,
          0.6623060181736946,
          0.6622985787689686,
          0.6626056283712387,
          0.662148542702198,
          0.6608456093817949,
          0.6647549886256456,
          0.6691133491694927,
          0.66334387101233,
          0.6684237457811832,
          0.6632304564118385,
          0.6773598454892635,
          0.6746003553271294,
          0.668728481978178,
          0.6633014585822821,
          0.6649964470416307,
          0.663571747019887,
          0.6617847438901663,
          0.6664495058357716,
          0.6630067899823189,
          0.6619294974952936,
          0.661513302475214,
          0.6622145213186741,
          0.6612668726593256,
          0.6606859024614096,
          0.6614080220460892,
          0.6624205317348242,
          0.6657104194164276,
          0.6659134179353714,
          0.6616677064448595,
          0.6611060369759798,
          0.660377686843276,
          0.6611306387931108,
          0.6609780937433243,
          0.6661246847361326
         ]
        }
       ],
       "layout": {
        "template": {
         "data": {
          "bar": [
           {
            "error_x": {
             "color": "#2a3f5f"
            },
            "error_y": {
             "color": "#2a3f5f"
            },
            "marker": {
             "line": {
              "color": "#E5ECF6",
              "width": 0.5
             },
             "pattern": {
              "fillmode": "overlay",
              "size": 10,
              "solidity": 0.2
             }
            },
            "type": "bar"
           }
          ],
          "barpolar": [
           {
            "marker": {
             "line": {
              "color": "#E5ECF6",
              "width": 0.5
             },
             "pattern": {
              "fillmode": "overlay",
              "size": 10,
              "solidity": 0.2
             }
            },
            "type": "barpolar"
           }
          ],
          "carpet": [
           {
            "aaxis": {
             "endlinecolor": "#2a3f5f",
             "gridcolor": "white",
             "linecolor": "white",
             "minorgridcolor": "white",
             "startlinecolor": "#2a3f5f"
            },
            "baxis": {
             "endlinecolor": "#2a3f5f",
             "gridcolor": "white",
             "linecolor": "white",
             "minorgridcolor": "white",
             "startlinecolor": "#2a3f5f"
            },
            "type": "carpet"
           }
          ],
          "choropleth": [
           {
            "colorbar": {
             "outlinewidth": 0,
             "ticks": ""
            },
            "type": "choropleth"
           }
          ],
          "contour": [
           {
            "colorbar": {
             "outlinewidth": 0,
             "ticks": ""
            },
            "colorscale": [
             [
              0,
              "#0d0887"
             ],
             [
              0.1111111111111111,
              "#46039f"
             ],
             [
              0.2222222222222222,
              "#7201a8"
             ],
             [
              0.3333333333333333,
              "#9c179e"
             ],
             [
              0.4444444444444444,
              "#bd3786"
             ],
             [
              0.5555555555555556,
              "#d8576b"
             ],
             [
              0.6666666666666666,
              "#ed7953"
             ],
             [
              0.7777777777777778,
              "#fb9f3a"
             ],
             [
              0.8888888888888888,
              "#fdca26"
             ],
             [
              1,
              "#f0f921"
             ]
            ],
            "type": "contour"
           }
          ],
          "contourcarpet": [
           {
            "colorbar": {
             "outlinewidth": 0,
             "ticks": ""
            },
            "type": "contourcarpet"
           }
          ],
          "heatmap": [
           {
            "colorbar": {
             "outlinewidth": 0,
             "ticks": ""
            },
            "colorscale": [
             [
              0,
              "#0d0887"
             ],
             [
              0.1111111111111111,
              "#46039f"
             ],
             [
              0.2222222222222222,
              "#7201a8"
             ],
             [
              0.3333333333333333,
              "#9c179e"
             ],
             [
              0.4444444444444444,
              "#bd3786"
             ],
             [
              0.5555555555555556,
              "#d8576b"
             ],
             [
              0.6666666666666666,
              "#ed7953"
             ],
             [
              0.7777777777777778,
              "#fb9f3a"
             ],
             [
              0.8888888888888888,
              "#fdca26"
             ],
             [
              1,
              "#f0f921"
             ]
            ],
            "type": "heatmap"
           }
          ],
          "heatmapgl": [
           {
            "colorbar": {
             "outlinewidth": 0,
             "ticks": ""
            },
            "colorscale": [
             [
              0,
              "#0d0887"
             ],
             [
              0.1111111111111111,
              "#46039f"
             ],
             [
              0.2222222222222222,
              "#7201a8"
             ],
             [
              0.3333333333333333,
              "#9c179e"
             ],
             [
              0.4444444444444444,
              "#bd3786"
             ],
             [
              0.5555555555555556,
              "#d8576b"
             ],
             [
              0.6666666666666666,
              "#ed7953"
             ],
             [
              0.7777777777777778,
              "#fb9f3a"
             ],
             [
              0.8888888888888888,
              "#fdca26"
             ],
             [
              1,
              "#f0f921"
             ]
            ],
            "type": "heatmapgl"
           }
          ],
          "histogram": [
           {
            "marker": {
             "pattern": {
              "fillmode": "overlay",
              "size": 10,
              "solidity": 0.2
             }
            },
            "type": "histogram"
           }
          ],
          "histogram2d": [
           {
            "colorbar": {
             "outlinewidth": 0,
             "ticks": ""
            },
            "colorscale": [
             [
              0,
              "#0d0887"
             ],
             [
              0.1111111111111111,
              "#46039f"
             ],
             [
              0.2222222222222222,
              "#7201a8"
             ],
             [
              0.3333333333333333,
              "#9c179e"
             ],
             [
              0.4444444444444444,
              "#bd3786"
             ],
             [
              0.5555555555555556,
              "#d8576b"
             ],
             [
              0.6666666666666666,
              "#ed7953"
             ],
             [
              0.7777777777777778,
              "#fb9f3a"
             ],
             [
              0.8888888888888888,
              "#fdca26"
             ],
             [
              1,
              "#f0f921"
             ]
            ],
            "type": "histogram2d"
           }
          ],
          "histogram2dcontour": [
           {
            "colorbar": {
             "outlinewidth": 0,
             "ticks": ""
            },
            "colorscale": [
             [
              0,
              "#0d0887"
             ],
             [
              0.1111111111111111,
              "#46039f"
             ],
             [
              0.2222222222222222,
              "#7201a8"
             ],
             [
              0.3333333333333333,
              "#9c179e"
             ],
             [
              0.4444444444444444,
              "#bd3786"
             ],
             [
              0.5555555555555556,
              "#d8576b"
             ],
             [
              0.6666666666666666,
              "#ed7953"
             ],
             [
              0.7777777777777778,
              "#fb9f3a"
             ],
             [
              0.8888888888888888,
              "#fdca26"
             ],
             [
              1,
              "#f0f921"
             ]
            ],
            "type": "histogram2dcontour"
           }
          ],
          "mesh3d": [
           {
            "colorbar": {
             "outlinewidth": 0,
             "ticks": ""
            },
            "type": "mesh3d"
           }
          ],
          "parcoords": [
           {
            "line": {
             "colorbar": {
              "outlinewidth": 0,
              "ticks": ""
             }
            },
            "type": "parcoords"
           }
          ],
          "pie": [
           {
            "automargin": true,
            "type": "pie"
           }
          ],
          "scatter": [
           {
            "fillpattern": {
             "fillmode": "overlay",
             "size": 10,
             "solidity": 0.2
            },
            "type": "scatter"
           }
          ],
          "scatter3d": [
           {
            "line": {
             "colorbar": {
              "outlinewidth": 0,
              "ticks": ""
             }
            },
            "marker": {
             "colorbar": {
              "outlinewidth": 0,
              "ticks": ""
             }
            },
            "type": "scatter3d"
           }
          ],
          "scattercarpet": [
           {
            "marker": {
             "colorbar": {
              "outlinewidth": 0,
              "ticks": ""
             }
            },
            "type": "scattercarpet"
           }
          ],
          "scattergeo": [
           {
            "marker": {
             "colorbar": {
              "outlinewidth": 0,
              "ticks": ""
             }
            },
            "type": "scattergeo"
           }
          ],
          "scattergl": [
           {
            "marker": {
             "colorbar": {
              "outlinewidth": 0,
              "ticks": ""
             }
            },
            "type": "scattergl"
           }
          ],
          "scattermapbox": [
           {
            "marker": {
             "colorbar": {
              "outlinewidth": 0,
              "ticks": ""
             }
            },
            "type": "scattermapbox"
           }
          ],
          "scatterpolar": [
           {
            "marker": {
             "colorbar": {
              "outlinewidth": 0,
              "ticks": ""
             }
            },
            "type": "scatterpolar"
           }
          ],
          "scatterpolargl": [
           {
            "marker": {
             "colorbar": {
              "outlinewidth": 0,
              "ticks": ""
             }
            },
            "type": "scatterpolargl"
           }
          ],
          "scatterternary": [
           {
            "marker": {
             "colorbar": {
              "outlinewidth": 0,
              "ticks": ""
             }
            },
            "type": "scatterternary"
           }
          ],
          "surface": [
           {
            "colorbar": {
             "outlinewidth": 0,
             "ticks": ""
            },
            "colorscale": [
             [
              0,
              "#0d0887"
             ],
             [
              0.1111111111111111,
              "#46039f"
             ],
             [
              0.2222222222222222,
              "#7201a8"
             ],
             [
              0.3333333333333333,
              "#9c179e"
             ],
             [
              0.4444444444444444,
              "#bd3786"
             ],
             [
              0.5555555555555556,
              "#d8576b"
             ],
             [
              0.6666666666666666,
              "#ed7953"
             ],
             [
              0.7777777777777778,
              "#fb9f3a"
             ],
             [
              0.8888888888888888,
              "#fdca26"
             ],
             [
              1,
              "#f0f921"
             ]
            ],
            "type": "surface"
           }
          ],
          "table": [
           {
            "cells": {
             "fill": {
              "color": "#EBF0F8"
             },
             "line": {
              "color": "white"
             }
            },
            "header": {
             "fill": {
              "color": "#C8D4E3"
             },
             "line": {
              "color": "white"
             }
            },
            "type": "table"
           }
          ]
         },
         "layout": {
          "annotationdefaults": {
           "arrowcolor": "#2a3f5f",
           "arrowhead": 0,
           "arrowwidth": 1
          },
          "autotypenumbers": "strict",
          "coloraxis": {
           "colorbar": {
            "outlinewidth": 0,
            "ticks": ""
           }
          },
          "colorscale": {
           "diverging": [
            [
             0,
             "#8e0152"
            ],
            [
             0.1,
             "#c51b7d"
            ],
            [
             0.2,
             "#de77ae"
            ],
            [
             0.3,
             "#f1b6da"
            ],
            [
             0.4,
             "#fde0ef"
            ],
            [
             0.5,
             "#f7f7f7"
            ],
            [
             0.6,
             "#e6f5d0"
            ],
            [
             0.7,
             "#b8e186"
            ],
            [
             0.8,
             "#7fbc41"
            ],
            [
             0.9,
             "#4d9221"
            ],
            [
             1,
             "#276419"
            ]
           ],
           "sequential": [
            [
             0,
             "#0d0887"
            ],
            [
             0.1111111111111111,
             "#46039f"
            ],
            [
             0.2222222222222222,
             "#7201a8"
            ],
            [
             0.3333333333333333,
             "#9c179e"
            ],
            [
             0.4444444444444444,
             "#bd3786"
            ],
            [
             0.5555555555555556,
             "#d8576b"
            ],
            [
             0.6666666666666666,
             "#ed7953"
            ],
            [
             0.7777777777777778,
             "#fb9f3a"
            ],
            [
             0.8888888888888888,
             "#fdca26"
            ],
            [
             1,
             "#f0f921"
            ]
           ],
           "sequentialminus": [
            [
             0,
             "#0d0887"
            ],
            [
             0.1111111111111111,
             "#46039f"
            ],
            [
             0.2222222222222222,
             "#7201a8"
            ],
            [
             0.3333333333333333,
             "#9c179e"
            ],
            [
             0.4444444444444444,
             "#bd3786"
            ],
            [
             0.5555555555555556,
             "#d8576b"
            ],
            [
             0.6666666666666666,
             "#ed7953"
            ],
            [
             0.7777777777777778,
             "#fb9f3a"
            ],
            [
             0.8888888888888888,
             "#fdca26"
            ],
            [
             1,
             "#f0f921"
            ]
           ]
          },
          "colorway": [
           "#636efa",
           "#EF553B",
           "#00cc96",
           "#ab63fa",
           "#FFA15A",
           "#19d3f3",
           "#FF6692",
           "#B6E880",
           "#FF97FF",
           "#FECB52"
          ],
          "font": {
           "color": "#2a3f5f"
          },
          "geo": {
           "bgcolor": "white",
           "lakecolor": "white",
           "landcolor": "#E5ECF6",
           "showlakes": true,
           "showland": true,
           "subunitcolor": "white"
          },
          "hoverlabel": {
           "align": "left"
          },
          "hovermode": "closest",
          "mapbox": {
           "style": "light"
          },
          "paper_bgcolor": "white",
          "plot_bgcolor": "#E5ECF6",
          "polar": {
           "angularaxis": {
            "gridcolor": "white",
            "linecolor": "white",
            "ticks": ""
           },
           "bgcolor": "#E5ECF6",
           "radialaxis": {
            "gridcolor": "white",
            "linecolor": "white",
            "ticks": ""
           }
          },
          "scene": {
           "xaxis": {
            "backgroundcolor": "#E5ECF6",
            "gridcolor": "white",
            "gridwidth": 2,
            "linecolor": "white",
            "showbackground": true,
            "ticks": "",
            "zerolinecolor": "white"
           },
           "yaxis": {
            "backgroundcolor": "#E5ECF6",
            "gridcolor": "white",
            "gridwidth": 2,
            "linecolor": "white",
            "showbackground": true,
            "ticks": "",
            "zerolinecolor": "white"
           },
           "zaxis": {
            "backgroundcolor": "#E5ECF6",
            "gridcolor": "white",
            "gridwidth": 2,
            "linecolor": "white",
            "showbackground": true,
            "ticks": "",
            "zerolinecolor": "white"
           }
          },
          "shapedefaults": {
           "line": {
            "color": "#2a3f5f"
           }
          },
          "ternary": {
           "aaxis": {
            "gridcolor": "white",
            "linecolor": "white",
            "ticks": ""
           },
           "baxis": {
            "gridcolor": "white",
            "linecolor": "white",
            "ticks": ""
           },
           "bgcolor": "#E5ECF6",
           "caxis": {
            "gridcolor": "white",
            "linecolor": "white",
            "ticks": ""
           }
          },
          "title": {
           "x": 0.05
          },
          "xaxis": {
           "automargin": true,
           "gridcolor": "white",
           "linecolor": "white",
           "ticks": "",
           "title": {
            "standoff": 15
           },
           "zerolinecolor": "white",
           "zerolinewidth": 2
          },
          "yaxis": {
           "automargin": true,
           "gridcolor": "white",
           "linecolor": "white",
           "ticks": "",
           "title": {
            "standoff": 15
           },
           "zerolinecolor": "white",
           "zerolinewidth": 2
          }
         }
        },
        "title": {
         "text": "Prover and Verifier Losses"
        },
        "xaxis": {
         "title": {
          "text": "Epoch"
         }
        },
        "yaxis": {
         "title": {
          "text": "Loss"
         }
        }
       }
      }
     },
     "metadata": {},
     "output_type": "display_data"
    }
   ],
   "source": [
    "fig = go.Figure()\n",
    "\n",
    "fig.add_trace(\n",
    "    go.Scatter(\n",
    "        x=np.arange(NUM_EPOCHS), y=losses_prover, mode=\"lines\", name=\"Prover Loss\"\n",
    "    )\n",
    ")\n",
    "fig.add_trace(\n",
    "    go.Scatter(\n",
    "        x=np.arange(NUM_EPOCHS), y=losses_verifier, mode=\"lines\", name=\"Verifier Loss\"\n",
    "    )\n",
    ")\n",
    "\n",
    "fig.update_layout(\n",
    "    title=\"Prover and Verifier Losses\", xaxis_title=\"Epoch\", yaxis_title=\"Loss\"\n",
    ")\n",
    "\n",
    "fig.show()"
   ]
  },
  {
   "cell_type": "code",
   "execution_count": 15,
   "metadata": {},
   "outputs": [
    {
     "data": {
      "application/vnd.plotly.v1+json": {
       "config": {
        "plotlyServerURL": "https://plot.ly"
       },
       "data": [
        {
         "mode": "lines",
         "name": "Prover Accuracy",
         "type": "scatter",
         "x": [
          0,
          1,
          2,
          3,
          4,
          5,
          6,
          7,
          8,
          9,
          10,
          11,
          12,
          13,
          14,
          15,
          16,
          17,
          18,
          19,
          20,
          21,
          22,
          23,
          24,
          25,
          26,
          27,
          28,
          29,
          30,
          31,
          32,
          33,
          34,
          35,
          36,
          37,
          38,
          39,
          40,
          41,
          42,
          43,
          44,
          45,
          46,
          47,
          48,
          49,
          50,
          51,
          52,
          53,
          54,
          55,
          56,
          57,
          58,
          59,
          60,
          61,
          62,
          63,
          64,
          65,
          66,
          67,
          68,
          69,
          70,
          71,
          72,
          73,
          74,
          75,
          76,
          77,
          78,
          79,
          80,
          81,
          82,
          83,
          84,
          85,
          86,
          87,
          88,
          89,
          90,
          91,
          92,
          93,
          94,
          95,
          96,
          97,
          98,
          99,
          100,
          101,
          102,
          103,
          104,
          105,
          106,
          107,
          108,
          109,
          110,
          111,
          112,
          113,
          114,
          115,
          116,
          117,
          118,
          119,
          120,
          121,
          122,
          123,
          124,
          125,
          126,
          127,
          128,
          129,
          130,
          131,
          132,
          133,
          134,
          135,
          136,
          137,
          138,
          139,
          140,
          141,
          142,
          143,
          144,
          145,
          146,
          147,
          148,
          149,
          150,
          151,
          152,
          153,
          154,
          155,
          156,
          157,
          158,
          159,
          160,
          161,
          162,
          163,
          164,
          165,
          166,
          167,
          168,
          169,
          170,
          171,
          172,
          173,
          174,
          175,
          176,
          177,
          178,
          179,
          180,
          181,
          182,
          183,
          184,
          185,
          186,
          187,
          188,
          189,
          190,
          191,
          192,
          193,
          194,
          195,
          196,
          197,
          198,
          199
         ],
         "y": [
          0.49462890625,
          0.50634765625,
          0.4930419921875,
          0.498291015625,
          0.5047607421875,
          0.4927978515625,
          0.4996337890625,
          0.496826171875,
          0.493408203125,
          0.503173828125,
          0.5018310546875,
          0.4998779296875,
          0.4971923828125,
          0.5052490234375,
          0.5032958984375,
          0.5018310546875,
          0.4998779296875,
          0.497314453125,
          0.483642578125,
          0.500732421875,
          0.495361328125,
          0.5025634765625,
          0.493408203125,
          0.4967041015625,
          0.505615234375,
          0.5025634765625,
          0.4981689453125,
          0.5009765625,
          0.4893798828125,
          0.493896484375,
          0.4906005859375,
          0.48876953125,
          0.4915771484375,
          0.5003662109375,
          0.498779296875,
          0.491943359375,
          0.4964599609375,
          0.486572265625,
          0.4974365234375,
          0.4908447265625,
          0.497314453125,
          0.494384765625,
          0.503173828125,
          0.492919921875,
          0.4915771484375,
          0.501953125,
          0.4974365234375,
          0.5006103515625,
          0.498046875,
          0.4964599609375,
          0.5010986328125,
          0.50439453125,
          0.4952392578125,
          0.4925537109375,
          0.4913330078125,
          0.4952392578125,
          0.4866943359375,
          0.501708984375,
          0.4920654296875,
          0.501220703125,
          0.5001220703125,
          0.4884033203125,
          0.491455078125,
          0.49755859375,
          0.500732421875,
          0.49267578125,
          0.4932861328125,
          0.4991455078125,
          0.4957275390625,
          0.4967041015625,
          0.497314453125,
          0.4959716796875,
          0.505615234375,
          0.50146484375,
          0.49169921875,
          0.4947509765625,
          0.4908447265625,
          0.494873046875,
          0.5047607421875,
          0.4892578125,
          0.49658203125,
          0.4969482421875,
          0.4932861328125,
          0.4964599609375,
          0.4937744140625,
          0.491455078125,
          0.494873046875,
          0.5015869140625,
          0.4942626953125,
          0.494140625,
          0.492919921875,
          0.4935302734375,
          0.493408203125,
          0.4942626953125,
          0.494384765625,
          0.49365234375,
          0.5025634765625,
          0.489501953125,
          0.49560546875,
          0.500244140625,
          0.495849609375,
          0.4970703125,
          0.498779296875,
          0.5009765625,
          0.50048828125,
          0.4998779296875,
          0.4935302734375,
          0.50146484375,
          0.496826171875,
          0.5,
          0.5013427734375,
          0.50244140625,
          0.49267578125,
          0.5,
          0.49951171875,
          0.4962158203125,
          0.5028076171875,
          0.494140625,
          0.498046875,
          0.4971923828125,
          0.5069580078125,
          0.50146484375,
          0.5023193359375,
          0.495849609375,
          0.4981689453125,
          0.492431640625,
          0.497802734375,
          0.4954833984375,
          0.495361328125,
          0.4951171875,
          0.5015869140625,
          0.4989013671875,
          0.487548828125,
          0.4996337890625,
          0.501220703125,
          0.5013427734375,
          0.4971923828125,
          0.49755859375,
          0.496826171875,
          0.501953125,
          0.494140625,
          0.490478515625,
          0.50390625,
          0.498291015625,
          0.493408203125,
          0.4930419921875,
          0.4986572265625,
          0.4970703125,
          0.5013427734375,
          0.4949951171875,
          0.50048828125,
          0.494140625,
          0.502197265625,
          0.4921875,
          0.4942626953125,
          0.4993896484375,
          0.502197265625,
          0.5074462890625,
          0.503662109375,
          0.496826171875,
          0.492431640625,
          0.4954833984375,
          0.503173828125,
          0.5010986328125,
          0.5047607421875,
          0.4906005859375,
          0.48876953125,
          0.4896240234375,
          0.4920654296875,
          0.495849609375,
          0.49560546875,
          0.502197265625,
          0.4935302734375,
          0.493408203125,
          0.4957275390625,
          0.5009765625,
          0.4903564453125,
          0.4927978515625,
          0.4930419921875,
          0.4959716796875,
          0.500244140625,
          0.4979248046875,
          0.498046875,
          0.5040283203125,
          0.503173828125,
          0.49365234375,
          0.4908447265625,
          0.4996337890625,
          0.496337890625,
          0.498291015625,
          0.4937744140625,
          0.4930419921875,
          0.4993896484375,
          0.4964599609375,
          0.485595703125,
          0.4935302734375,
          0.50146484375,
          0.4974365234375,
          0.4986572265625,
          0.4947509765625
         ]
        },
        {
         "mode": "lines",
         "name": "Verifier Accuracy",
         "type": "scatter",
         "x": [
          0,
          1,
          2,
          3,
          4,
          5,
          6,
          7,
          8,
          9,
          10,
          11,
          12,
          13,
          14,
          15,
          16,
          17,
          18,
          19,
          20,
          21,
          22,
          23,
          24,
          25,
          26,
          27,
          28,
          29,
          30,
          31,
          32,
          33,
          34,
          35,
          36,
          37,
          38,
          39,
          40,
          41,
          42,
          43,
          44,
          45,
          46,
          47,
          48,
          49,
          50,
          51,
          52,
          53,
          54,
          55,
          56,
          57,
          58,
          59,
          60,
          61,
          62,
          63,
          64,
          65,
          66,
          67,
          68,
          69,
          70,
          71,
          72,
          73,
          74,
          75,
          76,
          77,
          78,
          79,
          80,
          81,
          82,
          83,
          84,
          85,
          86,
          87,
          88,
          89,
          90,
          91,
          92,
          93,
          94,
          95,
          96,
          97,
          98,
          99,
          100,
          101,
          102,
          103,
          104,
          105,
          106,
          107,
          108,
          109,
          110,
          111,
          112,
          113,
          114,
          115,
          116,
          117,
          118,
          119,
          120,
          121,
          122,
          123,
          124,
          125,
          126,
          127,
          128,
          129,
          130,
          131,
          132,
          133,
          134,
          135,
          136,
          137,
          138,
          139,
          140,
          141,
          142,
          143,
          144,
          145,
          146,
          147,
          148,
          149,
          150,
          151,
          152,
          153,
          154,
          155,
          156,
          157,
          158,
          159,
          160,
          161,
          162,
          163,
          164,
          165,
          166,
          167,
          168,
          169,
          170,
          171,
          172,
          173,
          174,
          175,
          176,
          177,
          178,
          179,
          180,
          181,
          182,
          183,
          184,
          185,
          186,
          187,
          188,
          189,
          190,
          191,
          192,
          193,
          194,
          195,
          196,
          197,
          198,
          199
         ],
         "y": [
          0.49365234375,
          0.508544921875,
          0.48876953125,
          0.4954833984375,
          0.499755859375,
          0.499267578125,
          0.496337890625,
          0.5013427734375,
          0.50048828125,
          0.5054931640625,
          0.496826171875,
          0.4903564453125,
          0.4970703125,
          0.5023193359375,
          0.5037841796875,
          0.5057373046875,
          0.497802734375,
          0.499755859375,
          0.490966796875,
          0.503173828125,
          0.4951171875,
          0.497314453125,
          0.50634765625,
          0.511474609375,
          0.50732421875,
          0.498046875,
          0.502685546875,
          0.5086669921875,
          0.502685546875,
          0.514404296875,
          0.512939453125,
          0.50146484375,
          0.507568359375,
          0.5086669921875,
          0.5081787109375,
          0.517822265625,
          0.5062255859375,
          0.5042724609375,
          0.5059814453125,
          0.509765625,
          0.5037841796875,
          0.51708984375,
          0.511962890625,
          0.505126953125,
          0.5179443359375,
          0.516845703125,
          0.515869140625,
          0.51806640625,
          0.5128173828125,
          0.515625,
          0.5177001953125,
          0.5179443359375,
          0.5152587890625,
          0.5205078125,
          0.5167236328125,
          0.5205078125,
          0.517822265625,
          0.5157470703125,
          0.5166015625,
          0.5203857421875,
          0.5147705078125,
          0.50537109375,
          0.505615234375,
          0.5191650390625,
          0.504150390625,
          0.5172119140625,
          0.515869140625,
          0.5137939453125,
          0.511962890625,
          0.515869140625,
          0.512939453125,
          0.513427734375,
          0.51416015625,
          0.5146484375,
          0.517822265625,
          0.5118408203125,
          0.504150390625,
          0.5101318359375,
          0.5228271484375,
          0.505615234375,
          0.5206298828125,
          0.528076171875,
          0.5325927734375,
          0.531982421875,
          0.5191650390625,
          0.529541015625,
          0.5352783203125,
          0.533203125,
          0.5386962890625,
          0.536376953125,
          0.5244140625,
          0.5281982421875,
          0.5340576171875,
          0.536865234375,
          0.5474853515625,
          0.54248046875,
          0.5362548828125,
          0.532470703125,
          0.5330810546875,
          0.54736328125,
          0.549560546875,
          0.552734375,
          0.539794921875,
          0.5452880859375,
          0.542236328125,
          0.545654296875,
          0.538818359375,
          0.5433349609375,
          0.545654296875,
          0.5439453125,
          0.5416259765625,
          0.5408935546875,
          0.5379638671875,
          0.5423583984375,
          0.5457763671875,
          0.5455322265625,
          0.5435791015625,
          0.541015625,
          0.5489501953125,
          0.5487060546875,
          0.5394287109375,
          0.53759765625,
          0.548828125,
          0.5499267578125,
          0.548583984375,
          0.54296875,
          0.552490234375,
          0.55029296875,
          0.542724609375,
          0.5467529296875,
          0.548095703125,
          0.5482177734375,
          0.5396728515625,
          0.54248046875,
          0.5457763671875,
          0.5413818359375,
          0.5452880859375,
          0.5498046875,
          0.5489501953125,
          0.545654296875,
          0.5411376953125,
          0.5523681640625,
          0.5447998046875,
          0.547607421875,
          0.544677734375,
          0.554443359375,
          0.5482177734375,
          0.5467529296875,
          0.5498046875,
          0.5438232421875,
          0.5413818359375,
          0.5494384765625,
          0.5491943359375,
          0.547607421875,
          0.543701171875,
          0.553955078125,
          0.54638671875,
          0.5452880859375,
          0.549072265625,
          0.5479736328125,
          0.54931640625,
          0.5533447265625,
          0.5462646484375,
          0.547119140625,
          0.552490234375,
          0.5523681640625,
          0.549072265625,
          0.54833984375,
          0.546630859375,
          0.5474853515625,
          0.5528564453125,
          0.5465087890625,
          0.541748046875,
          0.5460205078125,
          0.53955078125,
          0.5482177734375,
          0.5283203125,
          0.534912109375,
          0.538818359375,
          0.5443115234375,
          0.5498046875,
          0.54931640625,
          0.55224609375,
          0.541748046875,
          0.550537109375,
          0.5455322265625,
          0.5440673828125,
          0.5455322265625,
          0.5537109375,
          0.5548095703125,
          0.549072265625,
          0.54541015625,
          0.5455322265625,
          0.5443115234375,
          0.552734375,
          0.549072265625,
          0.5484619140625,
          0.5516357421875,
          0.5511474609375,
          0.54638671875
         ]
        }
       ],
       "layout": {
        "template": {
         "data": {
          "bar": [
           {
            "error_x": {
             "color": "#2a3f5f"
            },
            "error_y": {
             "color": "#2a3f5f"
            },
            "marker": {
             "line": {
              "color": "#E5ECF6",
              "width": 0.5
             },
             "pattern": {
              "fillmode": "overlay",
              "size": 10,
              "solidity": 0.2
             }
            },
            "type": "bar"
           }
          ],
          "barpolar": [
           {
            "marker": {
             "line": {
              "color": "#E5ECF6",
              "width": 0.5
             },
             "pattern": {
              "fillmode": "overlay",
              "size": 10,
              "solidity": 0.2
             }
            },
            "type": "barpolar"
           }
          ],
          "carpet": [
           {
            "aaxis": {
             "endlinecolor": "#2a3f5f",
             "gridcolor": "white",
             "linecolor": "white",
             "minorgridcolor": "white",
             "startlinecolor": "#2a3f5f"
            },
            "baxis": {
             "endlinecolor": "#2a3f5f",
             "gridcolor": "white",
             "linecolor": "white",
             "minorgridcolor": "white",
             "startlinecolor": "#2a3f5f"
            },
            "type": "carpet"
           }
          ],
          "choropleth": [
           {
            "colorbar": {
             "outlinewidth": 0,
             "ticks": ""
            },
            "type": "choropleth"
           }
          ],
          "contour": [
           {
            "colorbar": {
             "outlinewidth": 0,
             "ticks": ""
            },
            "colorscale": [
             [
              0,
              "#0d0887"
             ],
             [
              0.1111111111111111,
              "#46039f"
             ],
             [
              0.2222222222222222,
              "#7201a8"
             ],
             [
              0.3333333333333333,
              "#9c179e"
             ],
             [
              0.4444444444444444,
              "#bd3786"
             ],
             [
              0.5555555555555556,
              "#d8576b"
             ],
             [
              0.6666666666666666,
              "#ed7953"
             ],
             [
              0.7777777777777778,
              "#fb9f3a"
             ],
             [
              0.8888888888888888,
              "#fdca26"
             ],
             [
              1,
              "#f0f921"
             ]
            ],
            "type": "contour"
           }
          ],
          "contourcarpet": [
           {
            "colorbar": {
             "outlinewidth": 0,
             "ticks": ""
            },
            "type": "contourcarpet"
           }
          ],
          "heatmap": [
           {
            "colorbar": {
             "outlinewidth": 0,
             "ticks": ""
            },
            "colorscale": [
             [
              0,
              "#0d0887"
             ],
             [
              0.1111111111111111,
              "#46039f"
             ],
             [
              0.2222222222222222,
              "#7201a8"
             ],
             [
              0.3333333333333333,
              "#9c179e"
             ],
             [
              0.4444444444444444,
              "#bd3786"
             ],
             [
              0.5555555555555556,
              "#d8576b"
             ],
             [
              0.6666666666666666,
              "#ed7953"
             ],
             [
              0.7777777777777778,
              "#fb9f3a"
             ],
             [
              0.8888888888888888,
              "#fdca26"
             ],
             [
              1,
              "#f0f921"
             ]
            ],
            "type": "heatmap"
           }
          ],
          "heatmapgl": [
           {
            "colorbar": {
             "outlinewidth": 0,
             "ticks": ""
            },
            "colorscale": [
             [
              0,
              "#0d0887"
             ],
             [
              0.1111111111111111,
              "#46039f"
             ],
             [
              0.2222222222222222,
              "#7201a8"
             ],
             [
              0.3333333333333333,
              "#9c179e"
             ],
             [
              0.4444444444444444,
              "#bd3786"
             ],
             [
              0.5555555555555556,
              "#d8576b"
             ],
             [
              0.6666666666666666,
              "#ed7953"
             ],
             [
              0.7777777777777778,
              "#fb9f3a"
             ],
             [
              0.8888888888888888,
              "#fdca26"
             ],
             [
              1,
              "#f0f921"
             ]
            ],
            "type": "heatmapgl"
           }
          ],
          "histogram": [
           {
            "marker": {
             "pattern": {
              "fillmode": "overlay",
              "size": 10,
              "solidity": 0.2
             }
            },
            "type": "histogram"
           }
          ],
          "histogram2d": [
           {
            "colorbar": {
             "outlinewidth": 0,
             "ticks": ""
            },
            "colorscale": [
             [
              0,
              "#0d0887"
             ],
             [
              0.1111111111111111,
              "#46039f"
             ],
             [
              0.2222222222222222,
              "#7201a8"
             ],
             [
              0.3333333333333333,
              "#9c179e"
             ],
             [
              0.4444444444444444,
              "#bd3786"
             ],
             [
              0.5555555555555556,
              "#d8576b"
             ],
             [
              0.6666666666666666,
              "#ed7953"
             ],
             [
              0.7777777777777778,
              "#fb9f3a"
             ],
             [
              0.8888888888888888,
              "#fdca26"
             ],
             [
              1,
              "#f0f921"
             ]
            ],
            "type": "histogram2d"
           }
          ],
          "histogram2dcontour": [
           {
            "colorbar": {
             "outlinewidth": 0,
             "ticks": ""
            },
            "colorscale": [
             [
              0,
              "#0d0887"
             ],
             [
              0.1111111111111111,
              "#46039f"
             ],
             [
              0.2222222222222222,
              "#7201a8"
             ],
             [
              0.3333333333333333,
              "#9c179e"
             ],
             [
              0.4444444444444444,
              "#bd3786"
             ],
             [
              0.5555555555555556,
              "#d8576b"
             ],
             [
              0.6666666666666666,
              "#ed7953"
             ],
             [
              0.7777777777777778,
              "#fb9f3a"
             ],
             [
              0.8888888888888888,
              "#fdca26"
             ],
             [
              1,
              "#f0f921"
             ]
            ],
            "type": "histogram2dcontour"
           }
          ],
          "mesh3d": [
           {
            "colorbar": {
             "outlinewidth": 0,
             "ticks": ""
            },
            "type": "mesh3d"
           }
          ],
          "parcoords": [
           {
            "line": {
             "colorbar": {
              "outlinewidth": 0,
              "ticks": ""
             }
            },
            "type": "parcoords"
           }
          ],
          "pie": [
           {
            "automargin": true,
            "type": "pie"
           }
          ],
          "scatter": [
           {
            "fillpattern": {
             "fillmode": "overlay",
             "size": 10,
             "solidity": 0.2
            },
            "type": "scatter"
           }
          ],
          "scatter3d": [
           {
            "line": {
             "colorbar": {
              "outlinewidth": 0,
              "ticks": ""
             }
            },
            "marker": {
             "colorbar": {
              "outlinewidth": 0,
              "ticks": ""
             }
            },
            "type": "scatter3d"
           }
          ],
          "scattercarpet": [
           {
            "marker": {
             "colorbar": {
              "outlinewidth": 0,
              "ticks": ""
             }
            },
            "type": "scattercarpet"
           }
          ],
          "scattergeo": [
           {
            "marker": {
             "colorbar": {
              "outlinewidth": 0,
              "ticks": ""
             }
            },
            "type": "scattergeo"
           }
          ],
          "scattergl": [
           {
            "marker": {
             "colorbar": {
              "outlinewidth": 0,
              "ticks": ""
             }
            },
            "type": "scattergl"
           }
          ],
          "scattermapbox": [
           {
            "marker": {
             "colorbar": {
              "outlinewidth": 0,
              "ticks": ""
             }
            },
            "type": "scattermapbox"
           }
          ],
          "scatterpolar": [
           {
            "marker": {
             "colorbar": {
              "outlinewidth": 0,
              "ticks": ""
             }
            },
            "type": "scatterpolar"
           }
          ],
          "scatterpolargl": [
           {
            "marker": {
             "colorbar": {
              "outlinewidth": 0,
              "ticks": ""
             }
            },
            "type": "scatterpolargl"
           }
          ],
          "scatterternary": [
           {
            "marker": {
             "colorbar": {
              "outlinewidth": 0,
              "ticks": ""
             }
            },
            "type": "scatterternary"
           }
          ],
          "surface": [
           {
            "colorbar": {
             "outlinewidth": 0,
             "ticks": ""
            },
            "colorscale": [
             [
              0,
              "#0d0887"
             ],
             [
              0.1111111111111111,
              "#46039f"
             ],
             [
              0.2222222222222222,
              "#7201a8"
             ],
             [
              0.3333333333333333,
              "#9c179e"
             ],
             [
              0.4444444444444444,
              "#bd3786"
             ],
             [
              0.5555555555555556,
              "#d8576b"
             ],
             [
              0.6666666666666666,
              "#ed7953"
             ],
             [
              0.7777777777777778,
              "#fb9f3a"
             ],
             [
              0.8888888888888888,
              "#fdca26"
             ],
             [
              1,
              "#f0f921"
             ]
            ],
            "type": "surface"
           }
          ],
          "table": [
           {
            "cells": {
             "fill": {
              "color": "#EBF0F8"
             },
             "line": {
              "color": "white"
             }
            },
            "header": {
             "fill": {
              "color": "#C8D4E3"
             },
             "line": {
              "color": "white"
             }
            },
            "type": "table"
           }
          ]
         },
         "layout": {
          "annotationdefaults": {
           "arrowcolor": "#2a3f5f",
           "arrowhead": 0,
           "arrowwidth": 1
          },
          "autotypenumbers": "strict",
          "coloraxis": {
           "colorbar": {
            "outlinewidth": 0,
            "ticks": ""
           }
          },
          "colorscale": {
           "diverging": [
            [
             0,
             "#8e0152"
            ],
            [
             0.1,
             "#c51b7d"
            ],
            [
             0.2,
             "#de77ae"
            ],
            [
             0.3,
             "#f1b6da"
            ],
            [
             0.4,
             "#fde0ef"
            ],
            [
             0.5,
             "#f7f7f7"
            ],
            [
             0.6,
             "#e6f5d0"
            ],
            [
             0.7,
             "#b8e186"
            ],
            [
             0.8,
             "#7fbc41"
            ],
            [
             0.9,
             "#4d9221"
            ],
            [
             1,
             "#276419"
            ]
           ],
           "sequential": [
            [
             0,
             "#0d0887"
            ],
            [
             0.1111111111111111,
             "#46039f"
            ],
            [
             0.2222222222222222,
             "#7201a8"
            ],
            [
             0.3333333333333333,
             "#9c179e"
            ],
            [
             0.4444444444444444,
             "#bd3786"
            ],
            [
             0.5555555555555556,
             "#d8576b"
            ],
            [
             0.6666666666666666,
             "#ed7953"
            ],
            [
             0.7777777777777778,
             "#fb9f3a"
            ],
            [
             0.8888888888888888,
             "#fdca26"
            ],
            [
             1,
             "#f0f921"
            ]
           ],
           "sequentialminus": [
            [
             0,
             "#0d0887"
            ],
            [
             0.1111111111111111,
             "#46039f"
            ],
            [
             0.2222222222222222,
             "#7201a8"
            ],
            [
             0.3333333333333333,
             "#9c179e"
            ],
            [
             0.4444444444444444,
             "#bd3786"
            ],
            [
             0.5555555555555556,
             "#d8576b"
            ],
            [
             0.6666666666666666,
             "#ed7953"
            ],
            [
             0.7777777777777778,
             "#fb9f3a"
            ],
            [
             0.8888888888888888,
             "#fdca26"
            ],
            [
             1,
             "#f0f921"
            ]
           ]
          },
          "colorway": [
           "#636efa",
           "#EF553B",
           "#00cc96",
           "#ab63fa",
           "#FFA15A",
           "#19d3f3",
           "#FF6692",
           "#B6E880",
           "#FF97FF",
           "#FECB52"
          ],
          "font": {
           "color": "#2a3f5f"
          },
          "geo": {
           "bgcolor": "white",
           "lakecolor": "white",
           "landcolor": "#E5ECF6",
           "showlakes": true,
           "showland": true,
           "subunitcolor": "white"
          },
          "hoverlabel": {
           "align": "left"
          },
          "hovermode": "closest",
          "mapbox": {
           "style": "light"
          },
          "paper_bgcolor": "white",
          "plot_bgcolor": "#E5ECF6",
          "polar": {
           "angularaxis": {
            "gridcolor": "white",
            "linecolor": "white",
            "ticks": ""
           },
           "bgcolor": "#E5ECF6",
           "radialaxis": {
            "gridcolor": "white",
            "linecolor": "white",
            "ticks": ""
           }
          },
          "scene": {
           "xaxis": {
            "backgroundcolor": "#E5ECF6",
            "gridcolor": "white",
            "gridwidth": 2,
            "linecolor": "white",
            "showbackground": true,
            "ticks": "",
            "zerolinecolor": "white"
           },
           "yaxis": {
            "backgroundcolor": "#E5ECF6",
            "gridcolor": "white",
            "gridwidth": 2,
            "linecolor": "white",
            "showbackground": true,
            "ticks": "",
            "zerolinecolor": "white"
           },
           "zaxis": {
            "backgroundcolor": "#E5ECF6",
            "gridcolor": "white",
            "gridwidth": 2,
            "linecolor": "white",
            "showbackground": true,
            "ticks": "",
            "zerolinecolor": "white"
           }
          },
          "shapedefaults": {
           "line": {
            "color": "#2a3f5f"
           }
          },
          "ternary": {
           "aaxis": {
            "gridcolor": "white",
            "linecolor": "white",
            "ticks": ""
           },
           "baxis": {
            "gridcolor": "white",
            "linecolor": "white",
            "ticks": ""
           },
           "bgcolor": "#E5ECF6",
           "caxis": {
            "gridcolor": "white",
            "linecolor": "white",
            "ticks": ""
           }
          },
          "title": {
           "x": 0.05
          },
          "xaxis": {
           "automargin": true,
           "gridcolor": "white",
           "linecolor": "white",
           "ticks": "",
           "title": {
            "standoff": 15
           },
           "zerolinecolor": "white",
           "zerolinewidth": 2
          },
          "yaxis": {
           "automargin": true,
           "gridcolor": "white",
           "linecolor": "white",
           "ticks": "",
           "title": {
            "standoff": 15
           },
           "zerolinecolor": "white",
           "zerolinewidth": 2
          }
         }
        },
        "title": {
         "text": "Prover and Verifier Accuracies"
        },
        "xaxis": {
         "title": {
          "text": "Epoch"
         }
        },
        "yaxis": {
         "title": {
          "text": "Accuracy"
         }
        }
       }
      }
     },
     "metadata": {},
     "output_type": "display_data"
    }
   ],
   "source": [
    "fig = go.Figure()\n",
    "\n",
    "fig.add_trace(\n",
    "    go.Scatter(\n",
    "        x=np.arange(NUM_EPOCHS),\n",
    "        y=accuracies_prover,\n",
    "        mode=\"lines\",\n",
    "        name=\"Prover Accuracy\",\n",
    "    )\n",
    ")\n",
    "fig.add_trace(\n",
    "    go.Scatter(\n",
    "        x=np.arange(NUM_EPOCHS),\n",
    "        y=accuracies_verifier,\n",
    "        mode=\"lines\",\n",
    "        name=\"Verifier Accuracy\",\n",
    "    )\n",
    ")\n",
    "\n",
    "fig.update_layout(\n",
    "    title=\"Prover and Verifier Accuracies\", xaxis_title=\"Epoch\", yaxis_title=\"Accuracy\"\n",
    ")\n",
    "\n",
    "fig.show()"
   ]
  },
  {
   "cell_type": "markdown",
   "metadata": {},
   "source": [
    "## Test"
   ]
  },
  {
   "cell_type": "code",
   "execution_count": 16,
   "metadata": {},
   "outputs": [
    {
     "name": "stderr",
     "output_type": "stream",
     "text": [
      "Testing...: 100%|██████████| 8/8 [00:00<00:00, 23.17it/s]"
     ]
    },
    {
     "name": "stdout",
     "output_type": "stream",
     "text": [
      "\n",
      "Final Results:\n",
      "Prover: loss: 0.6935, accuracy: 49.4751%\n",
      "Verifier: loss: 0.6661, accuracy: 54.6387%\n"
     ]
    },
    {
     "name": "stderr",
     "output_type": "stream",
     "text": [
      "\n"
     ]
    }
   ],
   "source": [
    "test_loader = DataLoader(\n",
    "    test_dataset, batch_size=BATCH_SIZE, shuffle=False, follow_batch=[\"x_a\", \"x_b\"]\n",
    ")\n",
    "\n",
    "\n",
    "def test_step(\n",
    "    model: GraphIsomorphismSoloAgent, optimizer, data: GraphIsomorphismData\n",
    ") -> tuple[float, float]:\n",
    "    model.eval()\n",
    "    with torch.no_grad():\n",
    "        pred = model(data)\n",
    "        loss = F.cross_entropy(pred, data.y)\n",
    "        accuracy = (pred.argmax(dim=1) == data.y).float().mean().item()\n",
    "    return loss.item(), accuracy\n",
    "\n",
    "\n",
    "loss_prover = np.empty(NUM_EPOCHS)\n",
    "accuracy_prover = np.empty(NUM_EPOCHS)\n",
    "loss_verifier = np.empty(NUM_EPOCHS)\n",
    "accuracy_verifier = np.empty(NUM_EPOCHS)\n",
    "\n",
    "loss_prover = 0\n",
    "accuracy_prover = 0\n",
    "loss_verifier = 0\n",
    "accuracy_verifier = 0\n",
    "for data in tqdm(test_loader, desc=f\"Testing...\"):\n",
    "    data = data.to(device)\n",
    "    loss, accuracy = train_step(prover, optimizer_prover, data)\n",
    "    loss_prover += loss\n",
    "    accuracy_prover += accuracy\n",
    "    loss, accuracy = train_step(verifier, optimizer_verifier, data)\n",
    "    loss_verifier += loss\n",
    "    accuracy_verifier += accuracy\n",
    "loss_prover = loss_prover / len(test_loader)\n",
    "accuracy_prover = accuracy_prover / len(test_loader)\n",
    "loss_verifier = loss_verifier / len(test_loader)\n",
    "accuracy_verifier = accuracy_verifier / len(test_loader)\n",
    "\n",
    "print()\n",
    "print(\"Final Results:\")\n",
    "print(\n",
    "    f\"Prover: loss: {losses_prover[epoch]:.4f}, \"\n",
    "    f\"accuracy: {accuracies_prover[epoch]:.4%}\"\n",
    ")\n",
    "print(\n",
    "    f\"Verifier: loss: {losses_verifier[epoch]:.4f}, \"\n",
    "    f\"accuracy: {accuracies_verifier[epoch]:.4%}\"\n",
    ")"
   ]
  }
 ],
 "metadata": {
  "kernelspec": {
   "display_name": "pvg-experiments",
   "language": "python",
   "name": "python3"
  },
  "language_info": {
   "codemirror_mode": {
    "name": "ipython",
    "version": 3
   },
   "file_extension": ".py",
   "mimetype": "text/x-python",
   "name": "python",
   "nbconvert_exporter": "python",
   "pygments_lexer": "ipython3",
   "version": "3.11.4"
  }
 },
 "nbformat": 4,
 "nbformat_minor": 2
}
