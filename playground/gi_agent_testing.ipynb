{
 "cells": [
  {
   "cell_type": "markdown",
   "metadata": {},
   "source": [
    "# Testing graph isomorphism agents"
   ]
  },
  {
   "cell_type": "markdown",
   "metadata": {},
   "source": [
    "## Setup"
   ]
  },
  {
   "cell_type": "code",
   "execution_count": 1,
   "metadata": {},
   "outputs": [],
   "source": [
    "FORCE_CPU = True\n",
    "\n",
    "SEED = 349287"
   ]
  },
  {
   "cell_type": "code",
   "execution_count": 2,
   "metadata": {},
   "outputs": [],
   "source": [
    "import torch\n",
    "from torch import Tensor\n",
    "from torch import nn\n",
    "\n",
    "from pvg import (\n",
    "    Parameters,\n",
    "    ScenarioType,\n",
    "    TrainerType,\n",
    "    AgentsParameters,\n",
    "    GraphIsomorphismAgentParameters,\n",
    ")\n",
    "from pvg.experiment_settings import ExperimentSettings\n",
    "from pvg.graph_isomorphism import (\n",
    "    GraphIsomorphismAgentHooks,\n",
    "    GraphIsomorphismScenarioInstance,\n",
    ")"
   ]
  },
  {
   "cell_type": "code",
   "execution_count": 3,
   "metadata": {},
   "outputs": [],
   "source": [
    "torch.manual_seed(SEED)\n",
    "torch_generator = torch.Generator().manual_seed(SEED)"
   ]
  },
  {
   "cell_type": "code",
   "execution_count": 4,
   "metadata": {},
   "outputs": [
    {
     "name": "stdout",
     "output_type": "stream",
     "text": [
      "cpu\n"
     ]
    }
   ],
   "source": [
    "if not FORCE_CPU and torch.cuda.is_available():\n",
    "    device = torch.device(\"cuda\")\n",
    "else:\n",
    "    device = torch.device(\"cpu\")\n",
    "print(device)"
   ]
  },
  {
   "cell_type": "markdown",
   "metadata": {},
   "source": [
    "## Create scenario and agents"
   ]
  },
  {
   "cell_type": "code",
   "execution_count": 5,
   "metadata": {},
   "outputs": [],
   "source": [
    "params = Parameters(\n",
    "    scenario=ScenarioType.GRAPH_ISOMORPHISM,\n",
    "    trainer=TrainerType.SOLO_AGENT,\n",
    "    dataset=\"eru10000\",\n",
    "    seed=SEED,\n",
    "    agents=AgentsParameters([(\"verifier\", GraphIsomorphismAgentParameters())]),\n",
    ")"
   ]
  },
  {
   "cell_type": "code",
   "execution_count": 6,
   "metadata": {},
   "outputs": [],
   "source": [
    "settings = ExperimentSettings(\n",
    "    device=device,\n",
    ")"
   ]
  },
  {
   "cell_type": "code",
   "execution_count": 7,
   "metadata": {},
   "outputs": [],
   "source": [
    "scenario_instance = GraphIsomorphismScenarioInstance(\n",
    "    params=params,\n",
    "    settings=settings,\n",
    ")"
   ]
  },
  {
   "cell_type": "code",
   "execution_count": 8,
   "metadata": {},
   "outputs": [],
   "source": [
    "verifier_body = scenario_instance.agents[\"verifier\"].body"
   ]
  },
  {
   "cell_type": "code",
   "execution_count": 9,
   "metadata": {},
   "outputs": [],
   "source": [
    "dataset = scenario_instance.train_dataset"
   ]
  },
  {
   "cell_type": "code",
   "execution_count": 10,
   "metadata": {},
   "outputs": [
    {
     "data": {
      "text/plain": [
       "GraphIsomorphismDataset(\n",
       "    fields={\n",
       "        adjacency: MemoryMappedTensor(shape=torch.Size([10000, 2, 11, 11]), device=cpu, dtype=torch.int32, is_shared=True),\n",
       "        node_mask: MemoryMappedTensor(shape=torch.Size([10000, 2, 11]), device=cpu, dtype=torch.bool, is_shared=True),\n",
       "        x: MemoryMappedTensor(shape=torch.Size([10000, 2, 11, 8]), device=cpu, dtype=torch.float32, is_shared=True),\n",
       "        y: MemoryMappedTensor(shape=torch.Size([10000]), device=cpu, dtype=torch.int64, is_shared=True)},\n",
       "    batch_size=torch.Size([10000]),\n",
       "    device=None,\n",
       "    is_shared=False)"
      ]
     },
     "execution_count": 10,
     "metadata": {},
     "output_type": "execute_result"
    }
   ],
   "source": [
    "dataset"
   ]
  },
  {
   "cell_type": "code",
   "execution_count": 11,
   "metadata": {},
   "outputs": [
    {
     "data": {
      "text/plain": [
       "11"
      ]
     },
     "execution_count": 11,
     "metadata": {},
     "output_type": "execute_result"
    }
   ],
   "source": [
    "max_num_nodes = dataset[\"x\"].shape[-2]\n",
    "max_num_nodes"
   ]
  },
  {
   "cell_type": "markdown",
   "metadata": {},
   "source": [
    "## Looking at intermediate computations"
   ]
  },
  {
   "cell_type": "code",
   "execution_count": 84,
   "metadata": {},
   "outputs": [],
   "source": [
    "DATAPOINT = 1"
   ]
  },
  {
   "cell_type": "code",
   "execution_count": 85,
   "metadata": {},
   "outputs": [
    {
     "name": "stdout",
     "output_type": "stream",
     "text": [
      "y: 0\n"
     ]
    }
   ],
   "source": [
    "print(\"y:\", dataset[\"y\"][DATAPOINT].item())"
   ]
  },
  {
   "cell_type": "code",
   "execution_count": 86,
   "metadata": {},
   "outputs": [
    {
     "data": {
      "text/plain": [
       "TensorDict(\n",
       "    fields={\n",
       "        graph_level_repr: Tensor(shape=torch.Size([1, 2, 16]), device=cpu, dtype=torch.float32, is_shared=False),\n",
       "        node_level_repr: Tensor(shape=torch.Size([1, 2, 11, 16]), device=cpu, dtype=torch.float32, is_shared=False)},\n",
       "    batch_size=torch.Size([1]),\n",
       "    device=None,\n",
       "    is_shared=False)"
      ]
     },
     "execution_count": 86,
     "metadata": {},
     "output_type": "execute_result"
    }
   ],
   "source": [
    "storage = {}\n",
    "hooks = GraphIsomorphismAgentHooks.create_recorder_hooks(storage)\n",
    "input_td = dataset[DATAPOINT].unsqueeze(0)\n",
    "input_td[\"message\"] = torch.zeros_like(input_td[\"y\"])\n",
    "input_td[\"ignore_message\"] = torch.ones_like(input_td[\"y\"], dtype=torch.bool)\n",
    "verifier_body(input_td, hooks)"
   ]
  },
  {
   "cell_type": "code",
   "execution_count": 87,
   "metadata": {},
   "outputs": [],
   "source": [
    "for value in storage.values():\n",
    "    if value.shape[0] == 1:\n",
    "        value.squeeze_(0)"
   ]
  },
  {
   "cell_type": "code",
   "execution_count": 88,
   "metadata": {},
   "outputs": [
    {
     "name": "stdout",
     "output_type": "stream",
     "text": [
      "gnn_output : (2, 11, 16)\n",
      "gnn_output_rounded : (2, 11, 16)\n",
      "pooled_gnn_output : (2, 16)\n",
      "gnn_output_flatter : (22, 16)\n",
      "transformer_input_initial : (24, 16)\n",
      "pooled_feature : (24, 2)\n",
      "message_feature : (24, 1)\n",
      "transformer_input_pre_encoder : (24, 19)\n",
      "transformer_input : (24, 16)\n",
      "transformer_output_flatter : (24, 16)\n",
      "graph_level_repr_pre_encoder : (2, 16)\n",
      "node_level_repr_pre_encoder : (2, 11, 16)\n",
      "graph_level_repr : (2, 16)\n",
      "node_level_repr : (2, 11, 16)\n"
     ]
    }
   ],
   "source": [
    "for key, value in storage.items():\n",
    "    print(key, \":\", tuple(value.shape))"
   ]
  },
  {
   "cell_type": "code",
   "execution_count": 89,
   "metadata": {},
   "outputs": [
    {
     "name": "stdout",
     "output_type": "stream",
     "text": [
      "gnn_output\n"
     ]
    },
    {
     "data": {
      "text/plain": [
       "0.01033784169703722"
      ]
     },
     "execution_count": 89,
     "metadata": {},
     "output_type": "execute_result"
    }
   ],
   "source": [
    "print(\"gnn_output\")\n",
    "(storage[\"gnn_output\"][0].sum(dim=0) - storage[\"gnn_output\"][1].sum(dim=0)).mean().item()"
   ]
  },
  {
   "cell_type": "code",
   "execution_count": 90,
   "metadata": {},
   "outputs": [
    {
     "name": "stdout",
     "output_type": "stream",
     "text": [
      "gnn_output_rounded\n"
     ]
    },
    {
     "data": {
      "text/plain": [
       "0.010368761606514454"
      ]
     },
     "execution_count": 90,
     "metadata": {},
     "output_type": "execute_result"
    }
   ],
   "source": [
    "print(\"gnn_output_rounded\")\n",
    "(storage[\"gnn_output_rounded\"][0].sum(dim=0) - storage[\"gnn_output_rounded\"][1].sum(dim=0)).mean().item()"
   ]
  },
  {
   "cell_type": "code",
   "execution_count": 91,
   "metadata": {},
   "outputs": [
    {
     "name": "stdout",
     "output_type": "stream",
     "text": [
      "pooled_gnn_output, second graph-level representation\n"
     ]
    },
    {
     "data": {
      "text/plain": [
       "0.8901587128639221"
      ]
     },
     "execution_count": 91,
     "metadata": {},
     "output_type": "execute_result"
    }
   ],
   "source": [
    "print(\"pooled_gnn_output, second graph-level representation\")\n",
    "\n",
    "storage[\"pooled_gnn_output\"][1].mean().item()"
   ]
  },
  {
   "cell_type": "code",
   "execution_count": 92,
   "metadata": {},
   "outputs": [
    {
     "name": "stdout",
     "output_type": "stream",
     "text": [
      "gnn_output_flatter\n"
     ]
    },
    {
     "data": {
      "text/plain": [
       "0.010368761606514454"
      ]
     },
     "execution_count": 92,
     "metadata": {},
     "output_type": "execute_result"
    }
   ],
   "source": [
    "print(\"gnn_output_flatter\")\n",
    "\n",
    "(storage[\"gnn_output_flatter\"][:max_num_nodes].sum(dim=0) - storage[\"gnn_output_flatter\"][max_num_nodes:].sum(dim=0)).mean().item()"
   ]
  },
  {
   "cell_type": "code",
   "execution_count": 93,
   "metadata": {},
   "outputs": [
    {
     "name": "stdout",
     "output_type": "stream",
     "text": [
      "transformer_input_initial, second graph-level representation\n"
     ]
    },
    {
     "data": {
      "text/plain": [
       "0.8843583464622498"
      ]
     },
     "execution_count": 93,
     "metadata": {},
     "output_type": "execute_result"
    }
   ],
   "source": [
    "print(\"transformer_input_initial, second graph-level representation\")\n",
    "\n",
    "storage[\"transformer_input_initial\"][1][:-2].mean().item()"
   ]
  },
  {
   "cell_type": "code",
   "execution_count": 94,
   "metadata": {},
   "outputs": [
    {
     "name": "stdout",
     "output_type": "stream",
     "text": [
      "transformer_input_initial, node-level representations\n"
     ]
    },
    {
     "data": {
      "text/plain": [
       "0.010368761606514454"
      ]
     },
     "execution_count": 94,
     "metadata": {},
     "output_type": "execute_result"
    }
   ],
   "source": [
    "print(\"transformer_input_initial, node-level representations\")\n",
    "\n",
    "(storage[\"transformer_input_initial\"][2:max_num_nodes+2].sum(dim=0) - storage[\"transformer_input_initial\"][max_num_nodes+2:].sum(dim=0)).mean().item()"
   ]
  },
  {
   "cell_type": "code",
   "execution_count": 95,
   "metadata": {},
   "outputs": [
    {
     "name": "stdout",
     "output_type": "stream",
     "text": [
      "transformer_input_pre_encoder, second graph-level representation\n"
     ]
    },
    {
     "data": {
      "text/plain": [
       "0.8377964496612549"
      ]
     },
     "execution_count": 95,
     "metadata": {},
     "output_type": "execute_result"
    }
   ],
   "source": [
    "print(\"transformer_input_pre_encoder, second graph-level representation\")\n",
    "\n",
    "storage[\"transformer_input_pre_encoder\"][1][:-2].mean().item()"
   ]
  },
  {
   "cell_type": "code",
   "execution_count": 96,
   "metadata": {},
   "outputs": [
    {
     "name": "stdout",
     "output_type": "stream",
     "text": [
      "transformer_input_pre_encoder, node-level representations\n"
     ]
    },
    {
     "data": {
      "text/plain": [
       "0.00873158872127533"
      ]
     },
     "execution_count": 96,
     "metadata": {},
     "output_type": "execute_result"
    }
   ],
   "source": [
    "print(\"transformer_input_pre_encoder, node-level representations\")\n",
    "\n",
    "(storage[\"transformer_input_pre_encoder\"][2:max_num_nodes+2].sum(dim=0) - storage[\"transformer_input_pre_encoder\"][max_num_nodes+2:].sum(dim=0)).mean().item()"
   ]
  },
  {
   "cell_type": "code",
   "execution_count": 97,
   "metadata": {},
   "outputs": [
    {
     "name": "stdout",
     "output_type": "stream",
     "text": [
      "transformer_input, second graph-level representation\n"
     ]
    },
    {
     "data": {
      "text/plain": [
       "-0.12525179982185364"
      ]
     },
     "execution_count": 97,
     "metadata": {},
     "output_type": "execute_result"
    }
   ],
   "source": [
    "print(\"transformer_input, second graph-level representation\")\n",
    "\n",
    "storage[\"transformer_input\"][1].mean().item()"
   ]
  },
  {
   "cell_type": "code",
   "execution_count": 98,
   "metadata": {},
   "outputs": [
    {
     "name": "stdout",
     "output_type": "stream",
     "text": [
      "transformer_input, node-level representations\n"
     ]
    },
    {
     "data": {
      "text/plain": [
       "0.004510264843702316"
      ]
     },
     "execution_count": 98,
     "metadata": {},
     "output_type": "execute_result"
    }
   ],
   "source": [
    "print(\"transformer_input, node-level representations\")\n",
    "\n",
    "(storage[\"transformer_input\"][2:max_num_nodes+2].sum(dim=0) - storage[\"transformer_input\"][max_num_nodes+2:].sum(dim=0)).mean().item()"
   ]
  },
  {
   "cell_type": "code",
   "execution_count": 99,
   "metadata": {},
   "outputs": [
    {
     "name": "stdout",
     "output_type": "stream",
     "text": [
      "transformer_output_flatter, second graph-level representation\n"
     ]
    },
    {
     "data": {
      "text/plain": [
       "-7.450580596923828e-09"
      ]
     },
     "execution_count": 99,
     "metadata": {},
     "output_type": "execute_result"
    }
   ],
   "source": [
    "print(\"transformer_output_flatter, second graph-level representation\")\n",
    "\n",
    "storage[\"transformer_output_flatter\"][1].mean().item()"
   ]
  },
  {
   "cell_type": "code",
   "execution_count": 100,
   "metadata": {},
   "outputs": [
    {
     "name": "stdout",
     "output_type": "stream",
     "text": [
      "transformer_output_flatter, node-level representations\n"
     ]
    },
    {
     "data": {
      "text/plain": [
       "-2.086162567138672e-07"
      ]
     },
     "execution_count": 100,
     "metadata": {},
     "output_type": "execute_result"
    }
   ],
   "source": [
    "print(\"transformer_output_flatter, node-level representations\")\n",
    "\n",
    "(storage[\"transformer_output_flatter\"][2:max_num_nodes+2].sum(dim=0) - storage[\"transformer_output_flatter\"][max_num_nodes+2:].sum(dim=0)).mean().item()"
   ]
  },
  {
   "cell_type": "code",
   "execution_count": 101,
   "metadata": {},
   "outputs": [
    {
     "name": "stdout",
     "output_type": "stream",
     "text": [
      "node_level_repr_pre_encoder\n"
     ]
    },
    {
     "data": {
      "text/plain": [
       "-2.086162567138672e-07"
      ]
     },
     "execution_count": 101,
     "metadata": {},
     "output_type": "execute_result"
    }
   ],
   "source": [
    "print(\"node_level_repr_pre_encoder\")\n",
    "\n",
    "(storage[\"node_level_repr_pre_encoder\"][0].sum(dim=0) - storage[\"node_level_repr_pre_encoder\"][1].sum(dim=0)).mean().item()"
   ]
  }
 ],
 "metadata": {
  "kernelspec": {
   "display_name": "pvg-experiments",
   "language": "python",
   "name": "python3"
  },
  "language_info": {
   "codemirror_mode": {
    "name": "ipython",
    "version": 3
   },
   "file_extension": ".py",
   "mimetype": "text/x-python",
   "name": "python",
   "nbconvert_exporter": "python",
   "pygments_lexer": "ipython3",
   "version": "3.11.6"
  }
 },
 "nbformat": 4,
 "nbformat_minor": 2
}
