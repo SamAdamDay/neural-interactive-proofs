{
 "cells": [
  {
   "cell_type": "markdown",
   "metadata": {},
   "source": [
    "# Testing power of agent architectures for graph isomorphism"
   ]
  },
  {
   "cell_type": "markdown",
   "metadata": {},
   "source": [
    "## Setup"
   ]
  },
  {
   "cell_type": "code",
   "execution_count": 21,
   "metadata": {},
   "outputs": [],
   "source": [
    "FORCE_CPU = True\n",
    "\n",
    "DATASET_NAME = \"test\"\n",
    "\n",
    "D_DECIDER = 16"
   ]
  },
  {
   "cell_type": "code",
   "execution_count": 22,
   "metadata": {},
   "outputs": [],
   "source": [
    "import torch\n",
    "from torch import nn\n",
    "from torch import Tensor\n",
    "\n",
    "from torch_geometric.data import Batch as GeometricBatch\n",
    "from torch_geometric.loader import DataLoader\n",
    "\n",
    "from jaxtyping import Float\n",
    "\n",
    "from pvg.scenarios import GraphIsomorphismAgent\n",
    "from pvg.data import GraphIsomorphismDataset, GraphIsomorphismData\n",
    "from pvg.parameters import Parameters"
   ]
  },
  {
   "cell_type": "code",
   "execution_count": 23,
   "metadata": {},
   "outputs": [],
   "source": [
    "parameters = Parameters(\n",
    "    scenario=\"graph_isomorphism\",\n",
    "    trainer=\"test\",\n",
    "    dataset=DATASET_NAME,\n",
    "    max_message_rounds=1,\n",
    ")"
   ]
  },
  {
   "cell_type": "code",
   "execution_count": 24,
   "metadata": {},
   "outputs": [
    {
     "name": "stdout",
     "output_type": "stream",
     "text": [
      "cpu\n"
     ]
    }
   ],
   "source": [
    "if not FORCE_CPU and torch.cuda.is_available():\n",
    "    device = torch.device(\"cuda\")\n",
    "else:\n",
    "    device = torch.device(\"cpu\")\n",
    "print(device)"
   ]
  },
  {
   "cell_type": "markdown",
   "metadata": {},
   "source": [
    "## Load dataset"
   ]
  },
  {
   "cell_type": "code",
   "execution_count": 25,
   "metadata": {},
   "outputs": [
    {
     "name": "stderr",
     "output_type": "stream",
     "text": [
      "Processing...\n",
      "Done!\n"
     ]
    },
    {
     "data": {
      "text/plain": [
       "GraphIsomorphismDataset(name='test', num_features=1, num_pairs=100)"
      ]
     },
     "execution_count": 25,
     "metadata": {},
     "output_type": "execute_result"
    }
   ],
   "source": [
    "\n",
    "dataset = GraphIsomorphismDataset(parameters)\n",
    "dataset"
   ]
  },
  {
   "cell_type": "markdown",
   "metadata": {},
   "source": [
    "## Agents"
   ]
  },
  {
   "cell_type": "code",
   "execution_count": 26,
   "metadata": {},
   "outputs": [],
   "source": [
    "class GraphIsomorphismSoloAgent(GraphIsomorphismAgent):\n",
    "    def _build_model(self, num_layers: int, d_gnn: int, num_heads: int) -> nn.Module:\n",
    "        # Build up the GNN and attention modules\n",
    "        self.gnn, self.attention = self._build_gnn_and_attention(\n",
    "            d_input=1,\n",
    "            d_gnn=d_gnn,\n",
    "            num_layers=num_layers,\n",
    "            num_heads=num_heads,\n",
    "        )\n",
    "\n",
    "        # Build the decider, which decides whether the graphs are isomorphic\n",
    "        self.decider = self._build_decider(\n",
    "            d_gnn=d_gnn,\n",
    "            d_decider=D_DECIDER,\n",
    "            d_out=2,\n",
    "        )\n",
    "\n",
    "    def forward(\n",
    "        self, data: GraphIsomorphismData | GeometricBatch\n",
    "    ) -> Float[Tensor, \"batch_size 2\"]:\n",
    "        _, attention_output, _ = self._run_gnn_and_attention(data)\n",
    "        decider_logits = self.decider(attention_output)\n",
    "        return decider_logits\n",
    "    \n",
    "    def to(self, device: str | torch.device):\n",
    "        self.gnn.to(device)\n",
    "        self.attention.to(device)\n",
    "        self.decider.to(device)\n",
    "        return self\n",
    "\n",
    "\n",
    "class GraphIsomorphismSoloProver(GraphIsomorphismSoloAgent):\n",
    "    def __init__(self, parameters: Parameters, device: str | torch.device):\n",
    "        super().__init__(parameters, device)\n",
    "        self._build_model(\n",
    "            num_layers=parameters.graph_isomorphism.prover_num_layers,\n",
    "            d_gnn=parameters.graph_isomorphism.prover_d_gnn,\n",
    "            num_heads=parameters.graph_isomorphism.prover_num_heads,\n",
    "        )\n",
    "\n",
    "\n",
    "class GraphIsomorphismSoloVerifier(GraphIsomorphismSoloAgent):\n",
    "    def __init__(self, parameters: Parameters, device: str | torch.device):\n",
    "        super().__init__(parameters, device)\n",
    "        self._build_model(\n",
    "            num_layers=parameters.graph_isomorphism.verifier_num_layers,\n",
    "            d_gnn=parameters.graph_isomorphism.verifier_d_gnn,\n",
    "            num_heads=parameters.graph_isomorphism.verifier_num_heads,\n",
    "        )"
   ]
  },
  {
   "cell_type": "code",
   "execution_count": 27,
   "metadata": {},
   "outputs": [
    {
     "data": {
      "text/plain": [
       "GraphIsomorphismSoloProver(\n",
       "  (gnn): Sequential(\n",
       "    (0): Linear(1, 64, bias=True)\n",
       "    (1): ReLU(inplace=True)\n",
       "    (2): GCNConv(64, 64)\n",
       "    (3): ReLU(inplace=True)\n",
       "    (4): GCNConv(64, 64)\n",
       "    (5): ReLU(inplace=True)\n",
       "    (6): GCNConv(64, 64)\n",
       "    (7): ReLU(inplace=True)\n",
       "    (8): GCNConv(64, 64)\n",
       "    (9): ReLU(inplace=True)\n",
       "    (10): GCNConv(64, 64)\n",
       "  )\n",
       "  (attention): MultiheadAttention(\n",
       "    (out_proj): NonDynamicallyQuantizableLinear(in_features=64, out_features=64, bias=True)\n",
       "  )\n",
       "  (decider): Sequential(\n",
       "    (0): ReLU(inplace=True)\n",
       "    (1): Linear(in_features=64, out_features=16, bias=True)\n",
       "    (2): ReLU(inplace=True)\n",
       "    (3): GlobalMaxPool()\n",
       "    (4): Linear(in_features=16, out_features=2, bias=True)\n",
       "  )\n",
       ")"
      ]
     },
     "execution_count": 27,
     "metadata": {},
     "output_type": "execute_result"
    }
   ],
   "source": [
    "prover = GraphIsomorphismSoloProver(parameters, device)\n",
    "prover"
   ]
  },
  {
   "cell_type": "code",
   "execution_count": 28,
   "metadata": {},
   "outputs": [
    {
     "data": {
      "text/plain": [
       "GraphIsomorphismSoloVerifier(\n",
       "  (gnn): Sequential(\n",
       "    (0): Linear(1, 64, bias=True)\n",
       "    (1): ReLU(inplace=True)\n",
       "    (2): GCNConv(64, 64)\n",
       "    (3): ReLU(inplace=True)\n",
       "    (4): GCNConv(64, 64)\n",
       "  )\n",
       "  (attention): MultiheadAttention(\n",
       "    (out_proj): NonDynamicallyQuantizableLinear(in_features=64, out_features=64, bias=True)\n",
       "  )\n",
       "  (decider): Sequential(\n",
       "    (0): ReLU(inplace=True)\n",
       "    (1): Linear(in_features=64, out_features=16, bias=True)\n",
       "    (2): ReLU(inplace=True)\n",
       "    (3): GlobalMaxPool()\n",
       "    (4): Linear(in_features=16, out_features=2, bias=True)\n",
       "  )\n",
       ")"
      ]
     },
     "execution_count": 28,
     "metadata": {},
     "output_type": "execute_result"
    }
   ],
   "source": [
    "verifier = GraphIsomorphismSoloVerifier(parameters, device)\n",
    "verifier"
   ]
  },
  {
   "cell_type": "code",
   "execution_count": 38,
   "metadata": {},
   "outputs": [
    {
     "data": {
      "text/plain": [
       "tensor([[-0.1368, -0.2709],\n",
       "        [-0.1371, -0.2703]], grad_fn=<AddmmBackward0>)"
      ]
     },
     "execution_count": 38,
     "metadata": {},
     "output_type": "execute_result"
    }
   ],
   "source": [
    "loader = DataLoader(dataset, batch_size=2, shuffle=True, follow_batch=[\"x_a\", \"x_b\"])\n",
    "prover(next(iter(loader)))"
   ]
  }
 ],
 "metadata": {
  "kernelspec": {
   "display_name": "pvg-experiments",
   "language": "python",
   "name": "python3"
  },
  "language_info": {
   "codemirror_mode": {
    "name": "ipython",
    "version": 3
   },
   "file_extension": ".py",
   "mimetype": "text/x-python",
   "name": "python",
   "nbconvert_exporter": "python",
   "pygments_lexer": "ipython3",
   "version": "3.11.4"
  }
 },
 "nbformat": 4,
 "nbformat_minor": 2
}
