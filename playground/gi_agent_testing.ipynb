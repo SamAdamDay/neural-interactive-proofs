{
 "cells": [
  {
   "cell_type": "markdown",
   "metadata": {},
   "source": [
    "# Testing power of agent architectures for graph isomorphism"
   ]
  },
  {
   "cell_type": "markdown",
   "metadata": {},
   "source": [
    "## Setup"
   ]
  },
  {
   "cell_type": "code",
   "execution_count": 19,
   "metadata": {},
   "outputs": [],
   "source": [
    "FORCE_CPU = False\n",
    "\n",
    "SEED = 349287\n",
    "\n",
    "DATASET_NAME = \"er10000\"\n",
    "TEST_SIZE = 0.2\n",
    "\n",
    "D_DECIDER = 16\n",
    "\n",
    "FREEZE_ENCODER = False\n",
    "\n",
    "BATCH_SIZE = 256\n",
    "NUM_EPOCHS = 200\n",
    "LEARNING_RATE = 0.003"
   ]
  },
  {
   "cell_type": "code",
   "execution_count": 20,
   "metadata": {},
   "outputs": [],
   "source": [
    "from abc import ABC\n",
    "\n",
    "import numpy as np\n",
    "\n",
    "import torch\n",
    "from torch import nn\n",
    "import torch.nn.functional as F\n",
    "from torch import Tensor\n",
    "from torch.utils.data import random_split\n",
    "\n",
    "from torch_geometric.data import Batch as GeometricBatch\n",
    "from torch_geometric.loader import DataLoader\n",
    "from torch_geometric.transforms import BaseTransform\n",
    "\n",
    "from jaxtyping import Float\n",
    "\n",
    "from tqdm import tqdm\n",
    "\n",
    "import plotly.graph_objs as go\n",
    "\n",
    "from pvg.scenarios import GraphIsomorphismAgent\n",
    "from pvg.data import GraphIsomorphismDataset, GraphIsomorphismData\n",
    "from pvg.parameters import Parameters, GraphIsomorphismParameters"
   ]
  },
  {
   "cell_type": "code",
   "execution_count": 21,
   "metadata": {},
   "outputs": [],
   "source": [
    "torch.manual_seed(SEED)\n",
    "np.random.seed(SEED)"
   ]
  },
  {
   "cell_type": "code",
   "execution_count": 22,
   "metadata": {},
   "outputs": [],
   "source": [
    "params = Parameters(\n",
    "    scenario=\"graph_isomorphism\",\n",
    "    trainer=\"test\",\n",
    "    dataset=DATASET_NAME,\n",
    "    max_message_rounds=1,\n",
    "    graph_isomorphism=GraphIsomorphismParameters(\n",
    "        prover_d_gnn=8,\n",
    "        verifier_d_gnn=8,\n",
    "    )\n",
    ")"
   ]
  },
  {
   "cell_type": "code",
   "execution_count": 23,
   "metadata": {},
   "outputs": [
    {
     "name": "stdout",
     "output_type": "stream",
     "text": [
      "cpu\n"
     ]
    }
   ],
   "source": [
    "if not FORCE_CPU and torch.cuda.is_available():\n",
    "    device = torch.device(\"cuda\")\n",
    "else:\n",
    "    device = torch.device(\"cpu\")\n",
    "print(device)"
   ]
  },
  {
   "cell_type": "markdown",
   "metadata": {},
   "source": [
    "## Load dataset"
   ]
  },
  {
   "cell_type": "code",
   "execution_count": 24,
   "metadata": {},
   "outputs": [],
   "source": [
    "class ScoreToBitTransform(BaseTransform):\n",
    "    \"\"\"A transform that converts the score to a bit indicating isomorphism.\"\"\"\n",
    "    def __call__(self, data):\n",
    "        for store in data.node_stores:\n",
    "            store.y = (store.wl_score == -1).long()\n",
    "        return data"
   ]
  },
  {
   "cell_type": "code",
   "execution_count": 25,
   "metadata": {},
   "outputs": [
    {
     "data": {
      "text/plain": [
       "GraphIsomorphismDataset(name='er10000', num_features=1, num_pairs=10000)"
      ]
     },
     "execution_count": 25,
     "metadata": {},
     "output_type": "execute_result"
    }
   ],
   "source": [
    "dataset = GraphIsomorphismDataset(params, transform=ScoreToBitTransform())\n",
    "dataset"
   ]
  },
  {
   "cell_type": "code",
   "execution_count": 26,
   "metadata": {},
   "outputs": [],
   "source": [
    "train_dataset, test_dataset = random_split(dataset, (1 - TEST_SIZE, TEST_SIZE))"
   ]
  },
  {
   "cell_type": "markdown",
   "metadata": {},
   "source": [
    "## Agents"
   ]
  },
  {
   "cell_type": "code",
   "execution_count": 27,
   "metadata": {},
   "outputs": [],
   "source": [
    "class GraphIsomorphismSoloAgent(GraphIsomorphismAgent, ABC):\n",
    "    def _build_model(\n",
    "        self, num_layers: int, d_gnn: int, d_gin_mlp: int, num_heads: int\n",
    "    ) -> nn.Module:\n",
    "        # Build up the GNN module\n",
    "        self.gnn, self.attention = self._build_gnn_and_attention(\n",
    "            d_input=1,\n",
    "            d_gnn=d_gnn,\n",
    "            d_gin_mlp=d_gin_mlp,\n",
    "            num_layers=num_layers,\n",
    "            num_heads=num_heads,\n",
    "        )\n",
    "\n",
    "        # Build the decider, which decides whether the graphs are isomorphic\n",
    "        self.decider = self._build_decider(\n",
    "            d_gnn=d_gnn,\n",
    "            d_decider=D_DECIDER,\n",
    "            d_out=2,\n",
    "        )\n",
    "\n",
    "    def forward(\n",
    "        self, data: GraphIsomorphismData | GeometricBatch\n",
    "    ) -> Float[Tensor, \"batch_size 2\"]:\n",
    "        gnn_output, attention_output, _ = self._run_gnn_and_attention(data)\n",
    "        gnn_attn_output = gnn_output + attention_output\n",
    "        decider_logits = self.decider(gnn_output)\n",
    "        return decider_logits\n",
    "\n",
    "    def to(self, device: str | torch.device):\n",
    "        self.gnn.to(device)\n",
    "        self.attention.to(device)\n",
    "        self.decider.to(device)\n",
    "        return self\n",
    "\n",
    "\n",
    "class GraphIsomorphismSoloProver(GraphIsomorphismSoloAgent):\n",
    "    def __init__(self, params: Parameters, device: str | torch.device):\n",
    "        super().__init__(params, device)\n",
    "        self._build_model(\n",
    "            num_layers=params.graph_isomorphism.prover_num_layers,\n",
    "            d_gnn=params.graph_isomorphism.prover_d_gnn,\n",
    "            d_gin_mlp=params.graph_isomorphism.prover_d_gin_mlp,\n",
    "            num_heads=params.graph_isomorphism.prover_num_heads,\n",
    "        )\n",
    "\n",
    "\n",
    "class GraphIsomorphismSoloVerifier(GraphIsomorphismSoloAgent):\n",
    "    def __init__(self, params: Parameters, device: str | torch.device):\n",
    "        super().__init__(params, device)\n",
    "        self._build_model(\n",
    "            num_layers=params.graph_isomorphism.verifier_num_layers,\n",
    "            d_gnn=params.graph_isomorphism.verifier_d_gnn,\n",
    "            d_gin_mlp=params.graph_isomorphism.verifier_d_gin_mlp,\n",
    "            num_heads=params.graph_isomorphism.verifier_num_heads,\n",
    "        )"
   ]
  },
  {
   "cell_type": "code",
   "execution_count": 28,
   "metadata": {},
   "outputs": [
    {
     "data": {
      "text/plain": [
       "GraphIsomorphismSoloProver(\n",
       "  (gnn): Sequential(\n",
       "    (0): Linear(1, 8, bias=True)\n",
       "    (1): ReLU(inplace=True)\n",
       "    (2): GINConv(nn=Sequential(\n",
       "    (0): Linear(in_features=8, out_features=64, bias=True)\n",
       "    (1): ReLU(inplace=True)\n",
       "    (2): Linear(in_features=64, out_features=8, bias=True)\n",
       "  ))\n",
       "    (3): ReLU(inplace=True)\n",
       "    (4): GINConv(nn=Sequential(\n",
       "    (0): Linear(in_features=8, out_features=64, bias=True)\n",
       "    (1): ReLU(inplace=True)\n",
       "    (2): Linear(in_features=64, out_features=8, bias=True)\n",
       "  ))\n",
       "    (5): ReLU(inplace=True)\n",
       "    (6): GINConv(nn=Sequential(\n",
       "    (0): Linear(in_features=8, out_features=64, bias=True)\n",
       "    (1): ReLU(inplace=True)\n",
       "    (2): Linear(in_features=64, out_features=8, bias=True)\n",
       "  ))\n",
       "    (7): ReLU(inplace=True)\n",
       "    (8): GINConv(nn=Sequential(\n",
       "    (0): Linear(in_features=8, out_features=64, bias=True)\n",
       "    (1): ReLU(inplace=True)\n",
       "    (2): Linear(in_features=64, out_features=8, bias=True)\n",
       "  ))\n",
       "    (9): ReLU(inplace=True)\n",
       "    (10): GINConv(nn=Sequential(\n",
       "    (0): Linear(in_features=8, out_features=64, bias=True)\n",
       "    (1): ReLU(inplace=True)\n",
       "    (2): Linear(in_features=64, out_features=8, bias=True)\n",
       "  ))\n",
       "  )\n",
       "  (attention): MultiheadAttention(\n",
       "    (out_proj): NonDynamicallyQuantizableLinear(in_features=8, out_features=8, bias=True)\n",
       "  )\n",
       "  (decider): Sequential(\n",
       "    (0): ReLU(inplace=True)\n",
       "    (1): Linear(in_features=8, out_features=16, bias=True)\n",
       "    (2): ReLU(inplace=True)\n",
       "    (3): Reduce('pair batch_size max_nodes d_decider -> pair batch_size d_decider', 'max')\n",
       "    (4): Rearrange('pair batch_size d_decider -> batch_size (pair d_decider)')\n",
       "    (5): Linear(in_features=32, out_features=16, bias=True)\n",
       "    (6): ReLU(inplace=True)\n",
       "    (7): Linear(in_features=16, out_features=16, bias=True)\n",
       "    (8): ReLU(inplace=True)\n",
       "    (9): Linear(in_features=16, out_features=2, bias=True)\n",
       "  )\n",
       ")"
      ]
     },
     "execution_count": 28,
     "metadata": {},
     "output_type": "execute_result"
    }
   ],
   "source": [
    "prover = GraphIsomorphismSoloProver(params, device)\n",
    "prover"
   ]
  },
  {
   "cell_type": "code",
   "execution_count": 29,
   "metadata": {},
   "outputs": [
    {
     "data": {
      "text/plain": [
       "GraphIsomorphismSoloVerifier(\n",
       "  (gnn): Sequential(\n",
       "    (0): Linear(1, 8, bias=True)\n",
       "    (1): ReLU(inplace=True)\n",
       "    (2): GINConv(nn=Sequential(\n",
       "    (0): Linear(in_features=8, out_features=64, bias=True)\n",
       "    (1): ReLU(inplace=True)\n",
       "    (2): Linear(in_features=64, out_features=8, bias=True)\n",
       "  ))\n",
       "    (3): ReLU(inplace=True)\n",
       "    (4): GINConv(nn=Sequential(\n",
       "    (0): Linear(in_features=8, out_features=64, bias=True)\n",
       "    (1): ReLU(inplace=True)\n",
       "    (2): Linear(in_features=64, out_features=8, bias=True)\n",
       "  ))\n",
       "  )\n",
       "  (attention): MultiheadAttention(\n",
       "    (out_proj): NonDynamicallyQuantizableLinear(in_features=8, out_features=8, bias=True)\n",
       "  )\n",
       "  (decider): Sequential(\n",
       "    (0): ReLU(inplace=True)\n",
       "    (1): Linear(in_features=8, out_features=16, bias=True)\n",
       "    (2): ReLU(inplace=True)\n",
       "    (3): Reduce('pair batch_size max_nodes d_decider -> pair batch_size d_decider', 'max')\n",
       "    (4): Rearrange('pair batch_size d_decider -> batch_size (pair d_decider)')\n",
       "    (5): Linear(in_features=32, out_features=16, bias=True)\n",
       "    (6): ReLU(inplace=True)\n",
       "    (7): Linear(in_features=16, out_features=16, bias=True)\n",
       "    (8): ReLU(inplace=True)\n",
       "    (9): Linear(in_features=16, out_features=2, bias=True)\n",
       "  )\n",
       ")"
      ]
     },
     "execution_count": 29,
     "metadata": {},
     "output_type": "execute_result"
    }
   ],
   "source": [
    "verifier = GraphIsomorphismSoloVerifier(params, device)\n",
    "verifier"
   ]
  },
  {
   "cell_type": "markdown",
   "metadata": {},
   "source": [
    "## Train"
   ]
  },
  {
   "cell_type": "code",
   "execution_count": 30,
   "metadata": {},
   "outputs": [
    {
     "name": "stderr",
     "output_type": "stream",
     "text": [
      "[autoreload of Sequential_e55415 failed: Traceback (most recent call last):\n",
      "  File \"/home/sam/.virtualenvs/pvg-experiments/lib/python3.11/site-packages/IPython/extensions/autoreload.py\", line 276, in check\n",
      "    superreload(m, reload, self.old_objects)\n",
      "  File \"/home/sam/.virtualenvs/pvg-experiments/lib/python3.11/site-packages/IPython/extensions/autoreload.py\", line 475, in superreload\n",
      "    module = reload(module)\n",
      "             ^^^^^^^^^^^^^^\n",
      "  File \"/usr/lib/python3.11/importlib/__init__.py\", line 168, in reload\n",
      "    raise ModuleNotFoundError(f\"spec not found for the module {name!r}\", name=name)\n",
      "ModuleNotFoundError: spec not found for the module 'Sequential_e55415'\n",
      "]\n"
     ]
    }
   ],
   "source": [
    "if FREEZE_ENCODER:\n",
    "    prover_train_params = []\n",
    "    for name, param in prover.named_parameters():\n",
    "        if name.startswith(\"gnn\") or name.startswith(\"attention\"):\n",
    "            param.requires_grad = False\n",
    "        else:\n",
    "            prover_train_params.append(param)\n",
    "    verifier_train_params = []\n",
    "    for name, param in verifier.named_parameters():\n",
    "        if name.startswith(\"gnn\") or name.startswith(\"attention\"):\n",
    "            param.requires_grad = False\n",
    "        else:\n",
    "            verifier_train_params.append(param)\n",
    "else:\n",
    "    prover_train_params = prover.parameters()\n",
    "    verifier_train_params = verifier.parameters()"
   ]
  },
  {
   "cell_type": "code",
   "execution_count": 31,
   "metadata": {},
   "outputs": [
    {
     "name": "stderr",
     "output_type": "stream",
     "text": [
      "Epoch 1: 100%|██████████| 32/32 [00:01<00:00, 18.56it/s]\n"
     ]
    },
    {
     "name": "stdout",
     "output_type": "stream",
     "text": [
      "Prover: loss: 0.6934, accuracy: 49.4141%\n",
      "Verifier: loss: 0.6936, accuracy: 49.8413%\n"
     ]
    },
    {
     "name": "stderr",
     "output_type": "stream",
     "text": [
      "Epoch 2: 100%|██████████| 32/32 [00:01<00:00, 25.27it/s]\n"
     ]
    },
    {
     "name": "stdout",
     "output_type": "stream",
     "text": [
      "Prover: loss: 0.6932, accuracy: 50.3418%\n",
      "Verifier: loss: 0.6932, accuracy: 50.2075%\n"
     ]
    },
    {
     "name": "stderr",
     "output_type": "stream",
     "text": [
      "Epoch 3: 100%|██████████| 32/32 [00:01<00:00, 26.43it/s]\n"
     ]
    },
    {
     "name": "stdout",
     "output_type": "stream",
     "text": [
      "Prover: loss: 0.6933, accuracy: 50.0488%\n",
      "Verifier: loss: 0.6933, accuracy: 50.3174%\n"
     ]
    },
    {
     "name": "stderr",
     "output_type": "stream",
     "text": [
      "Epoch 4: 100%|██████████| 32/32 [00:00<00:00, 32.68it/s]\n"
     ]
    },
    {
     "name": "stdout",
     "output_type": "stream",
     "text": [
      "Prover: loss: 0.6933, accuracy: 49.5361%\n",
      "Verifier: loss: 0.6933, accuracy: 49.3530%\n"
     ]
    },
    {
     "name": "stderr",
     "output_type": "stream",
     "text": [
      "Epoch 5: 100%|██████████| 32/32 [00:01<00:00, 29.80it/s]\n"
     ]
    },
    {
     "name": "stdout",
     "output_type": "stream",
     "text": [
      "Prover: loss: 0.6932, accuracy: 49.9756%\n",
      "Verifier: loss: 0.6933, accuracy: 49.2798%\n"
     ]
    },
    {
     "name": "stderr",
     "output_type": "stream",
     "text": [
      "Epoch 6: 100%|██████████| 32/32 [00:01<00:00, 22.77it/s]\n"
     ]
    },
    {
     "name": "stdout",
     "output_type": "stream",
     "text": [
      "Prover: loss: 0.6934, accuracy: 49.6582%\n",
      "Verifier: loss: 0.6934, accuracy: 49.2798%\n"
     ]
    },
    {
     "name": "stderr",
     "output_type": "stream",
     "text": [
      "Epoch 7: 100%|██████████| 32/32 [00:02<00:00, 15.31it/s]\n"
     ]
    },
    {
     "name": "stdout",
     "output_type": "stream",
     "text": [
      "Prover: loss: 0.6932, accuracy: 50.1587%\n",
      "Verifier: loss: 0.6932, accuracy: 50.1953%\n"
     ]
    },
    {
     "name": "stderr",
     "output_type": "stream",
     "text": [
      "Epoch 8: 100%|██████████| 32/32 [00:01<00:00, 28.40it/s]\n"
     ]
    },
    {
     "name": "stdout",
     "output_type": "stream",
     "text": [
      "Prover: loss: 0.6930, accuracy: 50.7080%\n",
      "Verifier: loss: 0.6931, accuracy: 50.4883%\n"
     ]
    },
    {
     "name": "stderr",
     "output_type": "stream",
     "text": [
      "Epoch 9: 100%|██████████| 32/32 [00:01<00:00, 24.87it/s]\n"
     ]
    },
    {
     "name": "stdout",
     "output_type": "stream",
     "text": [
      "Prover: loss: 0.6931, accuracy: 49.8169%\n",
      "Verifier: loss: 0.6933, accuracy: 50.2319%\n"
     ]
    },
    {
     "name": "stderr",
     "output_type": "stream",
     "text": [
      "Epoch 10: 100%|██████████| 32/32 [00:01<00:00, 24.33it/s]\n"
     ]
    },
    {
     "name": "stdout",
     "output_type": "stream",
     "text": [
      "Prover: loss: 0.6924, accuracy: 52.2461%\n",
      "Verifier: loss: 0.6933, accuracy: 49.6704%\n"
     ]
    },
    {
     "name": "stderr",
     "output_type": "stream",
     "text": [
      "Epoch 11: 100%|██████████| 32/32 [00:01<00:00, 27.76it/s]\n"
     ]
    },
    {
     "name": "stdout",
     "output_type": "stream",
     "text": [
      "Prover: loss: 0.6921, accuracy: 52.4536%\n",
      "Verifier: loss: 0.6933, accuracy: 50.2319%\n"
     ]
    },
    {
     "name": "stderr",
     "output_type": "stream",
     "text": [
      "Epoch 12: 100%|██████████| 32/32 [00:01<00:00, 24.22it/s]\n"
     ]
    },
    {
     "name": "stdout",
     "output_type": "stream",
     "text": [
      "Prover: loss: 0.6917, accuracy: 52.0752%\n",
      "Verifier: loss: 0.6933, accuracy: 48.2910%\n"
     ]
    },
    {
     "name": "stderr",
     "output_type": "stream",
     "text": [
      "Epoch 13: 100%|██████████| 32/32 [00:01<00:00, 30.88it/s]\n"
     ]
    },
    {
     "name": "stdout",
     "output_type": "stream",
     "text": [
      "Prover: loss: 0.6916, accuracy: 51.9653%\n",
      "Verifier: loss: 0.6933, accuracy: 50.1831%\n"
     ]
    },
    {
     "name": "stderr",
     "output_type": "stream",
     "text": [
      "Epoch 14: 100%|██████████| 32/32 [00:00<00:00, 32.75it/s]\n"
     ]
    },
    {
     "name": "stdout",
     "output_type": "stream",
     "text": [
      "Prover: loss: 0.6901, accuracy: 53.0273%\n",
      "Verifier: loss: 0.6933, accuracy: 49.9878%\n"
     ]
    },
    {
     "name": "stderr",
     "output_type": "stream",
     "text": [
      "Epoch 15: 100%|██████████| 32/32 [00:01<00:00, 27.78it/s]\n"
     ]
    },
    {
     "name": "stdout",
     "output_type": "stream",
     "text": [
      "Prover: loss: 0.6881, accuracy: 53.6621%\n",
      "Verifier: loss: 0.6933, accuracy: 49.5728%\n"
     ]
    },
    {
     "name": "stderr",
     "output_type": "stream",
     "text": [
      "Epoch 16: 100%|██████████| 32/32 [00:01<00:00, 30.35it/s]\n"
     ]
    },
    {
     "name": "stdout",
     "output_type": "stream",
     "text": [
      "Prover: loss: 0.6879, accuracy: 54.2725%\n",
      "Verifier: loss: 0.6932, accuracy: 49.8169%\n"
     ]
    },
    {
     "name": "stderr",
     "output_type": "stream",
     "text": [
      "Epoch 17: 100%|██████████| 32/32 [00:01<00:00, 29.67it/s]\n"
     ]
    },
    {
     "name": "stdout",
     "output_type": "stream",
     "text": [
      "Prover: loss: 0.6869, accuracy: 54.0894%\n",
      "Verifier: loss: 0.6933, accuracy: 48.6206%\n"
     ]
    },
    {
     "name": "stderr",
     "output_type": "stream",
     "text": [
      "Epoch 18: 100%|██████████| 32/32 [00:01<00:00, 30.55it/s]\n"
     ]
    },
    {
     "name": "stdout",
     "output_type": "stream",
     "text": [
      "Prover: loss: 0.6870, accuracy: 53.8452%\n",
      "Verifier: loss: 0.6933, accuracy: 49.8779%\n"
     ]
    },
    {
     "name": "stderr",
     "output_type": "stream",
     "text": [
      "Epoch 19: 100%|██████████| 32/32 [00:01<00:00, 22.82it/s]\n"
     ]
    },
    {
     "name": "stdout",
     "output_type": "stream",
     "text": [
      "Prover: loss: 0.6862, accuracy: 54.5044%\n",
      "Verifier: loss: 0.6933, accuracy: 49.5361%\n"
     ]
    },
    {
     "name": "stderr",
     "output_type": "stream",
     "text": [
      "Epoch 20: 100%|██████████| 32/32 [00:01<00:00, 26.56it/s]\n"
     ]
    },
    {
     "name": "stdout",
     "output_type": "stream",
     "text": [
      "Prover: loss: 0.6885, accuracy: 53.2715%\n",
      "Verifier: loss: 0.6932, accuracy: 50.2563%\n"
     ]
    },
    {
     "name": "stderr",
     "output_type": "stream",
     "text": [
      "Epoch 21: 100%|██████████| 32/32 [00:01<00:00, 29.12it/s]\n"
     ]
    },
    {
     "name": "stdout",
     "output_type": "stream",
     "text": [
      "Prover: loss: 0.6860, accuracy: 54.1138%\n",
      "Verifier: loss: 0.6932, accuracy: 49.7070%\n"
     ]
    },
    {
     "name": "stderr",
     "output_type": "stream",
     "text": [
      "Epoch 22: 100%|██████████| 32/32 [00:01<00:00, 27.80it/s]\n"
     ]
    },
    {
     "name": "stdout",
     "output_type": "stream",
     "text": [
      "Prover: loss: 0.6838, accuracy: 54.9683%\n",
      "Verifier: loss: 0.6932, accuracy: 49.9023%\n"
     ]
    },
    {
     "name": "stderr",
     "output_type": "stream",
     "text": [
      "Epoch 23: 100%|██████████| 32/32 [00:01<00:00, 25.53it/s]\n"
     ]
    },
    {
     "name": "stdout",
     "output_type": "stream",
     "text": [
      "Prover: loss: 0.6851, accuracy: 54.1748%\n",
      "Verifier: loss: 0.6932, accuracy: 49.3530%\n"
     ]
    },
    {
     "name": "stderr",
     "output_type": "stream",
     "text": [
      "Epoch 24: 100%|██████████| 32/32 [00:01<00:00, 27.45it/s]\n"
     ]
    },
    {
     "name": "stdout",
     "output_type": "stream",
     "text": [
      "Prover: loss: 0.6865, accuracy: 54.0649%\n",
      "Verifier: loss: 0.6932, accuracy: 49.4507%\n"
     ]
    },
    {
     "name": "stderr",
     "output_type": "stream",
     "text": [
      "Epoch 25: 100%|██████████| 32/32 [00:01<00:00, 26.88it/s]\n"
     ]
    },
    {
     "name": "stdout",
     "output_type": "stream",
     "text": [
      "Prover: loss: 0.6849, accuracy: 54.6143%\n",
      "Verifier: loss: 0.6932, accuracy: 50.3296%\n"
     ]
    },
    {
     "name": "stderr",
     "output_type": "stream",
     "text": [
      "Epoch 26: 100%|██████████| 32/32 [00:01<00:00, 29.63it/s]\n"
     ]
    },
    {
     "name": "stdout",
     "output_type": "stream",
     "text": [
      "Prover: loss: 0.6833, accuracy: 55.0781%\n",
      "Verifier: loss: 0.6932, accuracy: 50.2930%\n"
     ]
    },
    {
     "name": "stderr",
     "output_type": "stream",
     "text": [
      "Epoch 27: 100%|██████████| 32/32 [00:01<00:00, 25.25it/s]\n"
     ]
    },
    {
     "name": "stdout",
     "output_type": "stream",
     "text": [
      "Prover: loss: 0.6829, accuracy: 55.2612%\n",
      "Verifier: loss: 0.6932, accuracy: 50.0732%\n"
     ]
    },
    {
     "name": "stderr",
     "output_type": "stream",
     "text": [
      "Epoch 28: 100%|██████████| 32/32 [00:00<00:00, 32.63it/s]\n"
     ]
    },
    {
     "name": "stdout",
     "output_type": "stream",
     "text": [
      "Prover: loss: 0.6828, accuracy: 54.3701%\n",
      "Verifier: loss: 0.6932, accuracy: 49.5972%\n"
     ]
    },
    {
     "name": "stderr",
     "output_type": "stream",
     "text": [
      "Epoch 29: 100%|██████████| 32/32 [00:00<00:00, 32.03it/s]\n"
     ]
    },
    {
     "name": "stdout",
     "output_type": "stream",
     "text": [
      "Prover: loss: 0.6840, accuracy: 54.8828%\n",
      "Verifier: loss: 0.6932, accuracy: 49.1943%\n"
     ]
    },
    {
     "name": "stderr",
     "output_type": "stream",
     "text": [
      "Epoch 30: 100%|██████████| 32/32 [00:01<00:00, 30.53it/s]\n"
     ]
    },
    {
     "name": "stdout",
     "output_type": "stream",
     "text": [
      "Prover: loss: 0.6842, accuracy: 54.6143%\n",
      "Verifier: loss: 0.6932, accuracy: 50.0732%\n"
     ]
    },
    {
     "name": "stderr",
     "output_type": "stream",
     "text": [
      "Epoch 31: 100%|██████████| 32/32 [00:01<00:00, 30.36it/s]\n"
     ]
    },
    {
     "name": "stdout",
     "output_type": "stream",
     "text": [
      "Prover: loss: 0.6829, accuracy: 54.4678%\n",
      "Verifier: loss: 0.6933, accuracy: 48.8159%\n"
     ]
    },
    {
     "name": "stderr",
     "output_type": "stream",
     "text": [
      "Epoch 32: 100%|██████████| 32/32 [00:01<00:00, 27.88it/s]\n"
     ]
    },
    {
     "name": "stdout",
     "output_type": "stream",
     "text": [
      "Prover: loss: 0.6838, accuracy: 54.8828%\n",
      "Verifier: loss: 0.6932, accuracy: 49.5239%\n"
     ]
    },
    {
     "name": "stderr",
     "output_type": "stream",
     "text": [
      "Epoch 33: 100%|██████████| 32/32 [00:01<00:00, 28.87it/s]\n"
     ]
    },
    {
     "name": "stdout",
     "output_type": "stream",
     "text": [
      "Prover: loss: 0.6830, accuracy: 54.6753%\n",
      "Verifier: loss: 0.6932, accuracy: 49.9512%\n"
     ]
    },
    {
     "name": "stderr",
     "output_type": "stream",
     "text": [
      "Epoch 34: 100%|██████████| 32/32 [00:01<00:00, 27.63it/s]\n"
     ]
    },
    {
     "name": "stdout",
     "output_type": "stream",
     "text": [
      "Prover: loss: 0.6822, accuracy: 55.1880%\n",
      "Verifier: loss: 0.6932, accuracy: 50.0000%\n"
     ]
    },
    {
     "name": "stderr",
     "output_type": "stream",
     "text": [
      "Epoch 35: 100%|██████████| 32/32 [00:01<00:00, 30.72it/s]\n"
     ]
    },
    {
     "name": "stdout",
     "output_type": "stream",
     "text": [
      "Prover: loss: 0.6841, accuracy: 54.5166%\n",
      "Verifier: loss: 0.6932, accuracy: 49.7314%\n"
     ]
    },
    {
     "name": "stderr",
     "output_type": "stream",
     "text": [
      "Epoch 36: 100%|██████████| 32/32 [00:01<00:00, 30.95it/s]\n"
     ]
    },
    {
     "name": "stdout",
     "output_type": "stream",
     "text": [
      "Prover: loss: 0.6811, accuracy: 56.0791%\n",
      "Verifier: loss: 0.6932, accuracy: 49.7681%\n"
     ]
    },
    {
     "name": "stderr",
     "output_type": "stream",
     "text": [
      "Epoch 37: 100%|██████████| 32/32 [00:01<00:00, 30.67it/s]\n"
     ]
    },
    {
     "name": "stdout",
     "output_type": "stream",
     "text": [
      "Prover: loss: 0.6819, accuracy: 55.6641%\n",
      "Verifier: loss: 0.6933, accuracy: 50.0366%\n"
     ]
    },
    {
     "name": "stderr",
     "output_type": "stream",
     "text": [
      "Epoch 38: 100%|██████████| 32/32 [00:01<00:00, 27.08it/s]\n"
     ]
    },
    {
     "name": "stdout",
     "output_type": "stream",
     "text": [
      "Prover: loss: 0.6805, accuracy: 56.0547%\n",
      "Verifier: loss: 0.6932, accuracy: 49.3164%\n"
     ]
    },
    {
     "name": "stderr",
     "output_type": "stream",
     "text": [
      "Epoch 39: 100%|██████████| 32/32 [00:01<00:00, 30.00it/s]\n"
     ]
    },
    {
     "name": "stdout",
     "output_type": "stream",
     "text": [
      "Prover: loss: 0.6836, accuracy: 54.9194%\n",
      "Verifier: loss: 0.6933, accuracy: 49.8779%\n"
     ]
    },
    {
     "name": "stderr",
     "output_type": "stream",
     "text": [
      "Epoch 40: 100%|██████████| 32/32 [00:00<00:00, 33.14it/s]\n"
     ]
    },
    {
     "name": "stdout",
     "output_type": "stream",
     "text": [
      "Prover: loss: 0.6811, accuracy: 55.5298%\n",
      "Verifier: loss: 0.6933, accuracy: 49.4995%\n"
     ]
    },
    {
     "name": "stderr",
     "output_type": "stream",
     "text": [
      "Epoch 41: 100%|██████████| 32/32 [00:01<00:00, 31.41it/s]\n"
     ]
    },
    {
     "name": "stdout",
     "output_type": "stream",
     "text": [
      "Prover: loss: 0.6835, accuracy: 55.2734%\n",
      "Verifier: loss: 0.6933, accuracy: 49.0479%\n"
     ]
    },
    {
     "name": "stderr",
     "output_type": "stream",
     "text": [
      "Epoch 42: 100%|██████████| 32/32 [00:00<00:00, 32.50it/s]\n"
     ]
    },
    {
     "name": "stdout",
     "output_type": "stream",
     "text": [
      "Prover: loss: 0.6836, accuracy: 54.9194%\n",
      "Verifier: loss: 0.6932, accuracy: 49.2798%\n"
     ]
    },
    {
     "name": "stderr",
     "output_type": "stream",
     "text": [
      "Epoch 43: 100%|██████████| 32/32 [00:01<00:00, 28.90it/s]\n"
     ]
    },
    {
     "name": "stdout",
     "output_type": "stream",
     "text": [
      "Prover: loss: 0.6813, accuracy: 55.5786%\n",
      "Verifier: loss: 0.6933, accuracy: 49.9634%\n"
     ]
    },
    {
     "name": "stderr",
     "output_type": "stream",
     "text": [
      "Epoch 44: 100%|██████████| 32/32 [00:01<00:00, 18.68it/s]\n"
     ]
    },
    {
     "name": "stdout",
     "output_type": "stream",
     "text": [
      "Prover: loss: 0.6842, accuracy: 54.4434%\n",
      "Verifier: loss: 0.6936, accuracy: 49.0356%\n"
     ]
    },
    {
     "name": "stderr",
     "output_type": "stream",
     "text": [
      "Epoch 45: 100%|██████████| 32/32 [00:01<00:00, 20.09it/s]\n"
     ]
    },
    {
     "name": "stdout",
     "output_type": "stream",
     "text": [
      "Prover: loss: 0.6822, accuracy: 55.0049%\n",
      "Verifier: loss: 0.6934, accuracy: 49.3774%\n"
     ]
    },
    {
     "name": "stderr",
     "output_type": "stream",
     "text": [
      "Epoch 46: 100%|██████████| 32/32 [00:01<00:00, 19.98it/s]\n"
     ]
    },
    {
     "name": "stdout",
     "output_type": "stream",
     "text": [
      "Prover: loss: 0.6823, accuracy: 55.7129%\n",
      "Verifier: loss: 0.6933, accuracy: 49.2676%\n"
     ]
    },
    {
     "name": "stderr",
     "output_type": "stream",
     "text": [
      "Epoch 47: 100%|██████████| 32/32 [00:01<00:00, 19.86it/s]\n"
     ]
    },
    {
     "name": "stdout",
     "output_type": "stream",
     "text": [
      "Prover: loss: 0.6831, accuracy: 55.0781%\n",
      "Verifier: loss: 0.6932, accuracy: 49.2188%\n"
     ]
    },
    {
     "name": "stderr",
     "output_type": "stream",
     "text": [
      "Epoch 48: 100%|██████████| 32/32 [00:01<00:00, 18.78it/s]\n"
     ]
    },
    {
     "name": "stdout",
     "output_type": "stream",
     "text": [
      "Prover: loss: 0.6814, accuracy: 55.0659%\n",
      "Verifier: loss: 0.6932, accuracy: 49.6460%\n"
     ]
    },
    {
     "name": "stderr",
     "output_type": "stream",
     "text": [
      "Epoch 49: 100%|██████████| 32/32 [00:01<00:00, 19.43it/s]\n"
     ]
    },
    {
     "name": "stdout",
     "output_type": "stream",
     "text": [
      "Prover: loss: 0.6806, accuracy: 55.8716%\n",
      "Verifier: loss: 0.6932, accuracy: 49.8169%\n"
     ]
    },
    {
     "name": "stderr",
     "output_type": "stream",
     "text": [
      "Epoch 50: 100%|██████████| 32/32 [00:01<00:00, 19.76it/s]\n"
     ]
    },
    {
     "name": "stdout",
     "output_type": "stream",
     "text": [
      "Prover: loss: 0.6810, accuracy: 56.0791%\n",
      "Verifier: loss: 0.6933, accuracy: 49.5483%\n"
     ]
    },
    {
     "name": "stderr",
     "output_type": "stream",
     "text": [
      "Epoch 51: 100%|██████████| 32/32 [00:01<00:00, 19.93it/s]\n"
     ]
    },
    {
     "name": "stdout",
     "output_type": "stream",
     "text": [
      "Prover: loss: 0.6823, accuracy: 55.3101%\n",
      "Verifier: loss: 0.6932, accuracy: 50.1099%\n"
     ]
    },
    {
     "name": "stderr",
     "output_type": "stream",
     "text": [
      "Epoch 52: 100%|██████████| 32/32 [00:01<00:00, 21.12it/s]\n"
     ]
    },
    {
     "name": "stdout",
     "output_type": "stream",
     "text": [
      "Prover: loss: 0.6811, accuracy: 55.1025%\n",
      "Verifier: loss: 0.6932, accuracy: 49.9634%\n"
     ]
    },
    {
     "name": "stderr",
     "output_type": "stream",
     "text": [
      "Epoch 53: 100%|██████████| 32/32 [00:01<00:00, 19.09it/s]\n"
     ]
    },
    {
     "name": "stdout",
     "output_type": "stream",
     "text": [
      "Prover: loss: 0.6830, accuracy: 55.2124%\n",
      "Verifier: loss: 0.6932, accuracy: 50.1831%\n"
     ]
    },
    {
     "name": "stderr",
     "output_type": "stream",
     "text": [
      "Epoch 54: 100%|██████████| 32/32 [00:01<00:00, 21.51it/s]\n"
     ]
    },
    {
     "name": "stdout",
     "output_type": "stream",
     "text": [
      "Prover: loss: 0.6805, accuracy: 55.8228%\n",
      "Verifier: loss: 0.6933, accuracy: 49.5483%\n"
     ]
    },
    {
     "name": "stderr",
     "output_type": "stream",
     "text": [
      "Epoch 55: 100%|██████████| 32/32 [00:01<00:00, 19.11it/s]\n"
     ]
    },
    {
     "name": "stdout",
     "output_type": "stream",
     "text": [
      "Prover: loss: 0.6809, accuracy: 56.0303%\n",
      "Verifier: loss: 0.6933, accuracy: 49.9634%\n"
     ]
    },
    {
     "name": "stderr",
     "output_type": "stream",
     "text": [
      "Epoch 56: 100%|██████████| 32/32 [00:01<00:00, 19.97it/s]\n"
     ]
    },
    {
     "name": "stdout",
     "output_type": "stream",
     "text": [
      "Prover: loss: 0.6805, accuracy: 55.7373%\n",
      "Verifier: loss: 0.6932, accuracy: 50.0732%\n"
     ]
    },
    {
     "name": "stderr",
     "output_type": "stream",
     "text": [
      "Epoch 57: 100%|██████████| 32/32 [00:01<00:00, 18.81it/s]\n"
     ]
    },
    {
     "name": "stdout",
     "output_type": "stream",
     "text": [
      "Prover: loss: 0.6801, accuracy: 55.6030%\n",
      "Verifier: loss: 0.6932, accuracy: 49.0234%\n"
     ]
    },
    {
     "name": "stderr",
     "output_type": "stream",
     "text": [
      "Epoch 58: 100%|██████████| 32/32 [00:01<00:00, 18.81it/s]\n"
     ]
    },
    {
     "name": "stdout",
     "output_type": "stream",
     "text": [
      "Prover: loss: 0.6818, accuracy: 55.8472%\n",
      "Verifier: loss: 0.6932, accuracy: 49.3896%\n"
     ]
    },
    {
     "name": "stderr",
     "output_type": "stream",
     "text": [
      "Epoch 59: 100%|██████████| 32/32 [00:01<00:00, 21.44it/s]\n"
     ]
    },
    {
     "name": "stdout",
     "output_type": "stream",
     "text": [
      "Prover: loss: 0.6802, accuracy: 55.7617%\n",
      "Verifier: loss: 0.6932, accuracy: 50.1465%\n"
     ]
    },
    {
     "name": "stderr",
     "output_type": "stream",
     "text": [
      "Epoch 60: 100%|██████████| 32/32 [00:01<00:00, 20.36it/s]\n"
     ]
    },
    {
     "name": "stdout",
     "output_type": "stream",
     "text": [
      "Prover: loss: 0.6797, accuracy: 55.9204%\n",
      "Verifier: loss: 0.6932, accuracy: 48.9624%\n"
     ]
    },
    {
     "name": "stderr",
     "output_type": "stream",
     "text": [
      "Epoch 61: 100%|██████████| 32/32 [00:01<00:00, 21.99it/s]\n"
     ]
    },
    {
     "name": "stdout",
     "output_type": "stream",
     "text": [
      "Prover: loss: 0.6803, accuracy: 56.2500%\n",
      "Verifier: loss: 0.6932, accuracy: 50.1099%\n"
     ]
    },
    {
     "name": "stderr",
     "output_type": "stream",
     "text": [
      "Epoch 62: 100%|██████████| 32/32 [00:01<00:00, 20.63it/s]\n"
     ]
    },
    {
     "name": "stdout",
     "output_type": "stream",
     "text": [
      "Prover: loss: 0.6791, accuracy: 55.8838%\n",
      "Verifier: loss: 0.6932, accuracy: 48.9502%\n"
     ]
    },
    {
     "name": "stderr",
     "output_type": "stream",
     "text": [
      "Epoch 63: 100%|██████████| 32/32 [00:01<00:00, 19.00it/s]\n"
     ]
    },
    {
     "name": "stdout",
     "output_type": "stream",
     "text": [
      "Prover: loss: 0.6803, accuracy: 55.9326%\n",
      "Verifier: loss: 0.6932, accuracy: 49.8047%\n"
     ]
    },
    {
     "name": "stderr",
     "output_type": "stream",
     "text": [
      "Epoch 64: 100%|██████████| 32/32 [00:01<00:00, 17.34it/s]\n"
     ]
    },
    {
     "name": "stdout",
     "output_type": "stream",
     "text": [
      "Prover: loss: 0.6799, accuracy: 55.5176%\n",
      "Verifier: loss: 0.6933, accuracy: 49.1455%\n"
     ]
    },
    {
     "name": "stderr",
     "output_type": "stream",
     "text": [
      "Epoch 65: 100%|██████████| 32/32 [00:01<00:00, 18.65it/s]\n"
     ]
    },
    {
     "name": "stdout",
     "output_type": "stream",
     "text": [
      "Prover: loss: 0.6788, accuracy: 56.1768%\n",
      "Verifier: loss: 0.6933, accuracy: 49.4873%\n"
     ]
    },
    {
     "name": "stderr",
     "output_type": "stream",
     "text": [
      "Epoch 66: 100%|██████████| 32/32 [00:01<00:00, 19.38it/s]\n"
     ]
    },
    {
     "name": "stdout",
     "output_type": "stream",
     "text": [
      "Prover: loss: 0.6794, accuracy: 56.2134%\n",
      "Verifier: loss: 0.6932, accuracy: 49.0845%\n"
     ]
    },
    {
     "name": "stderr",
     "output_type": "stream",
     "text": [
      "Epoch 67: 100%|██████████| 32/32 [00:01<00:00, 21.82it/s]\n"
     ]
    },
    {
     "name": "stdout",
     "output_type": "stream",
     "text": [
      "Prover: loss: 0.6803, accuracy: 55.4810%\n",
      "Verifier: loss: 0.6932, accuracy: 49.8535%\n"
     ]
    },
    {
     "name": "stderr",
     "output_type": "stream",
     "text": [
      "Epoch 68: 100%|██████████| 32/32 [00:01<00:00, 22.10it/s]\n"
     ]
    },
    {
     "name": "stdout",
     "output_type": "stream",
     "text": [
      "Prover: loss: 0.6790, accuracy: 55.8105%\n",
      "Verifier: loss: 0.6932, accuracy: 49.6216%\n"
     ]
    },
    {
     "name": "stderr",
     "output_type": "stream",
     "text": [
      "Epoch 69: 100%|██████████| 32/32 [00:01<00:00, 20.87it/s]\n"
     ]
    },
    {
     "name": "stdout",
     "output_type": "stream",
     "text": [
      "Prover: loss: 0.6804, accuracy: 55.8472%\n",
      "Verifier: loss: 0.6932, accuracy: 49.9268%\n"
     ]
    },
    {
     "name": "stderr",
     "output_type": "stream",
     "text": [
      "Epoch 70: 100%|██████████| 32/32 [00:01<00:00, 19.77it/s]\n"
     ]
    },
    {
     "name": "stdout",
     "output_type": "stream",
     "text": [
      "Prover: loss: 0.6830, accuracy: 55.1636%\n",
      "Verifier: loss: 0.6932, accuracy: 49.7314%\n"
     ]
    },
    {
     "name": "stderr",
     "output_type": "stream",
     "text": [
      "Epoch 71: 100%|██████████| 32/32 [00:01<00:00, 20.90it/s]\n"
     ]
    },
    {
     "name": "stdout",
     "output_type": "stream",
     "text": [
      "Prover: loss: 0.6795, accuracy: 55.8472%\n",
      "Verifier: loss: 0.6932, accuracy: 49.1577%\n"
     ]
    },
    {
     "name": "stderr",
     "output_type": "stream",
     "text": [
      "Epoch 72: 100%|██████████| 32/32 [00:01<00:00, 18.74it/s]\n"
     ]
    },
    {
     "name": "stdout",
     "output_type": "stream",
     "text": [
      "Prover: loss: 0.6795, accuracy: 56.1279%\n",
      "Verifier: loss: 0.6932, accuracy: 49.9512%\n"
     ]
    },
    {
     "name": "stderr",
     "output_type": "stream",
     "text": [
      "Epoch 73: 100%|██████████| 32/32 [00:01<00:00, 19.08it/s]\n"
     ]
    },
    {
     "name": "stdout",
     "output_type": "stream",
     "text": [
      "Prover: loss: 0.6794, accuracy: 55.3101%\n",
      "Verifier: loss: 0.6932, accuracy: 49.4019%\n"
     ]
    },
    {
     "name": "stderr",
     "output_type": "stream",
     "text": [
      "Epoch 74: 100%|██████████| 32/32 [00:01<00:00, 22.94it/s]\n"
     ]
    },
    {
     "name": "stdout",
     "output_type": "stream",
     "text": [
      "Prover: loss: 0.6799, accuracy: 56.2988%\n",
      "Verifier: loss: 0.6932, accuracy: 49.8047%\n"
     ]
    },
    {
     "name": "stderr",
     "output_type": "stream",
     "text": [
      "Epoch 75: 100%|██████████| 32/32 [00:01<00:00, 21.51it/s]\n"
     ]
    },
    {
     "name": "stdout",
     "output_type": "stream",
     "text": [
      "Prover: loss: 0.6840, accuracy: 54.5288%\n",
      "Verifier: loss: 0.6932, accuracy: 50.0000%\n"
     ]
    },
    {
     "name": "stderr",
     "output_type": "stream",
     "text": [
      "Epoch 76: 100%|██████████| 32/32 [00:01<00:00, 19.79it/s]\n"
     ]
    },
    {
     "name": "stdout",
     "output_type": "stream",
     "text": [
      "Prover: loss: 0.6803, accuracy: 55.7983%\n",
      "Verifier: loss: 0.6932, accuracy: 49.9634%\n"
     ]
    },
    {
     "name": "stderr",
     "output_type": "stream",
     "text": [
      "Epoch 77: 100%|██████████| 32/32 [00:01<00:00, 21.38it/s]\n"
     ]
    },
    {
     "name": "stdout",
     "output_type": "stream",
     "text": [
      "Prover: loss: 0.6801, accuracy: 55.6030%\n",
      "Verifier: loss: 0.6933, accuracy: 49.5361%\n"
     ]
    },
    {
     "name": "stderr",
     "output_type": "stream",
     "text": [
      "Epoch 78: 100%|██████████| 32/32 [00:01<00:00, 21.09it/s]\n"
     ]
    },
    {
     "name": "stdout",
     "output_type": "stream",
     "text": [
      "Prover: loss: 0.6806, accuracy: 56.0547%\n",
      "Verifier: loss: 0.6932, accuracy: 49.8657%\n"
     ]
    },
    {
     "name": "stderr",
     "output_type": "stream",
     "text": [
      "Epoch 79: 100%|██████████| 32/32 [00:01<00:00, 22.14it/s]\n"
     ]
    },
    {
     "name": "stdout",
     "output_type": "stream",
     "text": [
      "Prover: loss: 0.6805, accuracy: 55.1270%\n",
      "Verifier: loss: 0.6933, accuracy: 49.3286%\n"
     ]
    },
    {
     "name": "stderr",
     "output_type": "stream",
     "text": [
      "Epoch 80:  81%|████████▏ | 26/32 [00:01<00:00, 17.78it/s]\n"
     ]
    },
    {
     "ename": "KeyboardInterrupt",
     "evalue": "",
     "output_type": "error",
     "traceback": [
      "\u001b[0;31m---------------------------------------------------------------------------\u001b[0m",
      "\u001b[0;31mKeyboardInterrupt\u001b[0m                         Traceback (most recent call last)",
      "\u001b[1;32m/home/sam/Code/Projects/PVG Experiments/playground/gi_agent_testing.ipynb Cell 18\u001b[0m line \u001b[0;36m3\n\u001b[1;32m     <a href='vscode-notebook-cell:/home/sam/Code/Projects/PVG%20Experiments/playground/gi_agent_testing.ipynb#X23sZmlsZQ%3D%3D?line=35'>36</a>\u001b[0m \u001b[39mfor\u001b[39;00m data \u001b[39min\u001b[39;00m tqdm(test_loader, desc\u001b[39m=\u001b[39m\u001b[39mf\u001b[39m\u001b[39m\"\u001b[39m\u001b[39mEpoch \u001b[39m\u001b[39m{\u001b[39;00mepoch\u001b[39m+\u001b[39m\u001b[39m1\u001b[39m\u001b[39m}\u001b[39;00m\u001b[39m\"\u001b[39m):\n\u001b[1;32m     <a href='vscode-notebook-cell:/home/sam/Code/Projects/PVG%20Experiments/playground/gi_agent_testing.ipynb#X23sZmlsZQ%3D%3D?line=36'>37</a>\u001b[0m     data \u001b[39m=\u001b[39m data\u001b[39m.\u001b[39mto(device)\n\u001b[0;32m---> <a href='vscode-notebook-cell:/home/sam/Code/Projects/PVG%20Experiments/playground/gi_agent_testing.ipynb#X23sZmlsZQ%3D%3D?line=37'>38</a>\u001b[0m     loss, accuracy \u001b[39m=\u001b[39m train_step(prover, optimizer_prover, data)\n\u001b[1;32m     <a href='vscode-notebook-cell:/home/sam/Code/Projects/PVG%20Experiments/playground/gi_agent_testing.ipynb#X23sZmlsZQ%3D%3D?line=38'>39</a>\u001b[0m     total_loss_prover \u001b[39m+\u001b[39m\u001b[39m=\u001b[39m loss\n\u001b[1;32m     <a href='vscode-notebook-cell:/home/sam/Code/Projects/PVG%20Experiments/playground/gi_agent_testing.ipynb#X23sZmlsZQ%3D%3D?line=39'>40</a>\u001b[0m     total_accuracy_prover \u001b[39m+\u001b[39m\u001b[39m=\u001b[39m accuracy\n",
      "\u001b[1;32m/home/sam/Code/Projects/PVG Experiments/playground/gi_agent_testing.ipynb Cell 18\u001b[0m line \u001b[0;36m1\n\u001b[1;32m     <a href='vscode-notebook-cell:/home/sam/Code/Projects/PVG%20Experiments/playground/gi_agent_testing.ipynb#X23sZmlsZQ%3D%3D?line=13'>14</a>\u001b[0m pred \u001b[39m=\u001b[39m model(data)\n\u001b[1;32m     <a href='vscode-notebook-cell:/home/sam/Code/Projects/PVG%20Experiments/playground/gi_agent_testing.ipynb#X23sZmlsZQ%3D%3D?line=14'>15</a>\u001b[0m loss \u001b[39m=\u001b[39m F\u001b[39m.\u001b[39mcross_entropy(pred, data\u001b[39m.\u001b[39my)\n\u001b[0;32m---> <a href='vscode-notebook-cell:/home/sam/Code/Projects/PVG%20Experiments/playground/gi_agent_testing.ipynb#X23sZmlsZQ%3D%3D?line=15'>16</a>\u001b[0m loss\u001b[39m.\u001b[39;49mbackward()\n\u001b[1;32m     <a href='vscode-notebook-cell:/home/sam/Code/Projects/PVG%20Experiments/playground/gi_agent_testing.ipynb#X23sZmlsZQ%3D%3D?line=16'>17</a>\u001b[0m optimizer\u001b[39m.\u001b[39mstep()\n\u001b[1;32m     <a href='vscode-notebook-cell:/home/sam/Code/Projects/PVG%20Experiments/playground/gi_agent_testing.ipynb#X23sZmlsZQ%3D%3D?line=17'>18</a>\u001b[0m \u001b[39mwith\u001b[39;00m torch\u001b[39m.\u001b[39mno_grad():\n",
      "File \u001b[0;32m~/.virtualenvs/pvg-experiments/lib/python3.11/site-packages/torch/_tensor.py:487\u001b[0m, in \u001b[0;36mTensor.backward\u001b[0;34m(self, gradient, retain_graph, create_graph, inputs)\u001b[0m\n\u001b[1;32m    477\u001b[0m \u001b[39mif\u001b[39;00m has_torch_function_unary(\u001b[39mself\u001b[39m):\n\u001b[1;32m    478\u001b[0m     \u001b[39mreturn\u001b[39;00m handle_torch_function(\n\u001b[1;32m    479\u001b[0m         Tensor\u001b[39m.\u001b[39mbackward,\n\u001b[1;32m    480\u001b[0m         (\u001b[39mself\u001b[39m,),\n\u001b[0;32m   (...)\u001b[0m\n\u001b[1;32m    485\u001b[0m         inputs\u001b[39m=\u001b[39minputs,\n\u001b[1;32m    486\u001b[0m     )\n\u001b[0;32m--> 487\u001b[0m torch\u001b[39m.\u001b[39;49mautograd\u001b[39m.\u001b[39;49mbackward(\n\u001b[1;32m    488\u001b[0m     \u001b[39mself\u001b[39;49m, gradient, retain_graph, create_graph, inputs\u001b[39m=\u001b[39;49minputs\n\u001b[1;32m    489\u001b[0m )\n",
      "File \u001b[0;32m~/.virtualenvs/pvg-experiments/lib/python3.11/site-packages/torch/autograd/__init__.py:200\u001b[0m, in \u001b[0;36mbackward\u001b[0;34m(tensors, grad_tensors, retain_graph, create_graph, grad_variables, inputs)\u001b[0m\n\u001b[1;32m    195\u001b[0m     retain_graph \u001b[39m=\u001b[39m create_graph\n\u001b[1;32m    197\u001b[0m \u001b[39m# The reason we repeat same the comment below is that\u001b[39;00m\n\u001b[1;32m    198\u001b[0m \u001b[39m# some Python versions print out the first line of a multi-line function\u001b[39;00m\n\u001b[1;32m    199\u001b[0m \u001b[39m# calls in the traceback and some print out the last line\u001b[39;00m\n\u001b[0;32m--> 200\u001b[0m Variable\u001b[39m.\u001b[39;49m_execution_engine\u001b[39m.\u001b[39;49mrun_backward(  \u001b[39m# Calls into the C++ engine to run the backward pass\u001b[39;49;00m\n\u001b[1;32m    201\u001b[0m     tensors, grad_tensors_, retain_graph, create_graph, inputs,\n\u001b[1;32m    202\u001b[0m     allow_unreachable\u001b[39m=\u001b[39;49m\u001b[39mTrue\u001b[39;49;00m, accumulate_grad\u001b[39m=\u001b[39;49m\u001b[39mTrue\u001b[39;49;00m)\n",
      "\u001b[0;31mKeyboardInterrupt\u001b[0m: "
     ]
    }
   ],
   "source": [
    "optimizer_prover = torch.optim.Adam(prover_train_params, lr=LEARNING_RATE)\n",
    "optimizer_verifier = torch.optim.Adam(verifier_train_params, lr=LEARNING_RATE)\n",
    "\n",
    "test_loader = DataLoader(\n",
    "    train_dataset, batch_size=BATCH_SIZE, shuffle=True, follow_batch=[\"x_a\", \"x_b\"]\n",
    ")\n",
    "\n",
    "\n",
    "def train_step(\n",
    "    model: GraphIsomorphismSoloAgent, optimizer, data: GraphIsomorphismData\n",
    ") -> tuple[float, float]:\n",
    "    model.train()\n",
    "    optimizer.zero_grad()\n",
    "    pred = model(data)\n",
    "    loss = F.cross_entropy(pred, data.y)\n",
    "    loss.backward()\n",
    "    optimizer.step()\n",
    "    with torch.no_grad():\n",
    "        accuracy = (pred.argmax(dim=1) == data.y).float().mean().item()\n",
    "    return loss.item(), accuracy\n",
    "\n",
    "\n",
    "prover.to(device)\n",
    "verifier.to(device)\n",
    "\n",
    "\n",
    "losses_prover = np.empty(NUM_EPOCHS)\n",
    "accuracies_prover = np.empty(NUM_EPOCHS)\n",
    "losses_verifier = np.empty(NUM_EPOCHS)\n",
    "accuracies_verifier = np.empty(NUM_EPOCHS)\n",
    "for epoch in range(NUM_EPOCHS):\n",
    "    total_loss_prover = 0\n",
    "    total_accuracy_prover = 0\n",
    "    total_loss_verifier = 0\n",
    "    total_accuracy_verifier = 0\n",
    "    for data in tqdm(test_loader, desc=f\"Epoch {epoch+1}\"):\n",
    "        data = data.to(device)\n",
    "        loss, accuracy = train_step(prover, optimizer_prover, data)\n",
    "        total_loss_prover += loss\n",
    "        total_accuracy_prover += accuracy\n",
    "        loss, accuracy = train_step(verifier, optimizer_verifier, data)\n",
    "        total_loss_verifier += loss\n",
    "        total_accuracy_verifier += accuracy\n",
    "    losses_prover[epoch] = total_loss_prover / len(test_loader)\n",
    "    accuracies_prover[epoch] = total_accuracy_prover / len(test_loader)\n",
    "    losses_verifier[epoch] = total_loss_verifier / len(test_loader)\n",
    "    accuracies_verifier[epoch] = total_accuracy_verifier / len(test_loader)\n",
    "    print(\n",
    "        f\"Prover: loss: {losses_prover[epoch]:.4f}, \"\n",
    "        f\"accuracy: {accuracies_prover[epoch]:.4%}\"\n",
    "    )\n",
    "    print(\n",
    "        f\"Verifier: loss: {losses_verifier[epoch]:.4f}, \"\n",
    "        f\"accuracy: {accuracies_verifier[epoch]:.4%}\"\n",
    "    )"
   ]
  },
  {
   "cell_type": "code",
   "execution_count": null,
   "metadata": {},
   "outputs": [
    {
     "data": {
      "application/vnd.plotly.v1+json": {
       "config": {
        "plotlyServerURL": "https://plot.ly"
       },
       "data": [
        {
         "mode": "lines",
         "name": "Prover Loss",
         "type": "scatter",
         "x": [
          0,
          1,
          2,
          3,
          4,
          5,
          6,
          7,
          8,
          9,
          10,
          11,
          12,
          13,
          14,
          15,
          16,
          17,
          18,
          19,
          20,
          21,
          22,
          23,
          24,
          25,
          26,
          27,
          28,
          29,
          30,
          31,
          32,
          33,
          34,
          35,
          36,
          37,
          38,
          39,
          40,
          41,
          42,
          43,
          44,
          45,
          46,
          47,
          48,
          49,
          50,
          51,
          52,
          53,
          54,
          55,
          56,
          57,
          58,
          59,
          60,
          61,
          62,
          63,
          64,
          65,
          66,
          67,
          68,
          69,
          70,
          71,
          72,
          73,
          74,
          75,
          76,
          77,
          78,
          79,
          80,
          81,
          82,
          83,
          84,
          85,
          86,
          87,
          88,
          89,
          90,
          91,
          92,
          93,
          94,
          95,
          96,
          97,
          98,
          99,
          100,
          101,
          102,
          103,
          104,
          105,
          106,
          107,
          108,
          109,
          110,
          111,
          112,
          113,
          114,
          115,
          116,
          117,
          118,
          119,
          120,
          121,
          122,
          123,
          124,
          125,
          126,
          127,
          128,
          129,
          130,
          131,
          132,
          133,
          134,
          135,
          136,
          137,
          138,
          139,
          140,
          141,
          142,
          143,
          144,
          145,
          146,
          147,
          148,
          149,
          150,
          151,
          152,
          153,
          154,
          155,
          156,
          157,
          158,
          159,
          160,
          161,
          162,
          163,
          164,
          165,
          166,
          167,
          168,
          169,
          170,
          171,
          172,
          173,
          174,
          175,
          176,
          177,
          178,
          179,
          180,
          181,
          182,
          183,
          184,
          185,
          186,
          187,
          188,
          189,
          190,
          191,
          192,
          193,
          194,
          195,
          196,
          197,
          198,
          199
         ],
         "y": [
          0.6934131383895874,
          0.6931717395782471,
          0.6932490989565849,
          0.6932856403291225,
          0.6932583134621382,
          0.6933760400861502,
          0.693240899592638,
          0.6931229010224342,
          0.6933033522218466,
          0.6933054476976395,
          0.6933808829635382,
          0.6932743843644857,
          0.6933068912476301,
          0.69339494779706,
          0.6933023855090141,
          0.6932314932346344,
          0.6934143826365471,
          0.6932410262525082,
          0.6933143381029367,
          0.6932278573513031,
          0.6932152286171913,
          0.693220105022192,
          0.69315473921597,
          0.6931452471762896,
          0.6932443603873253,
          0.693157471716404,
          0.6931570116430521,
          0.6931313220411539,
          0.6930699814110994,
          0.6929536741226912,
          0.6933581586927176,
          0.6929007489234209,
          0.6927022393792868,
          0.6921587195247412,
          0.6925282664597034,
          0.6922432966530323,
          0.6917939987033606,
          0.6910469736903906,
          0.6904292684048414,
          0.6890541166067123,
          0.6888047978281975,
          0.686146067455411,
          0.6852174568921328,
          0.6854271646589041,
          0.6851030234247446,
          0.6816250551491976,
          0.6821710988879204,
          0.6782481223344803,
          0.6761468425393105,
          0.6744281947612762,
          0.6718628965318203,
          0.6710481364279985,
          0.6719974894076586,
          0.6696991045027971,
          0.6685785241425037,
          0.669392729178071,
          0.6655418518930674,
          0.6625297218561172,
          0.6674053315073252,
          0.6630094554275274,
          0.6646475624293089,
          0.6617084052413702,
          0.6586430743336678,
          0.6622774414718151,
          0.6616855710744858,
          0.665675712749362,
          0.6595538891851902,
          0.6542465258389711,
          0.6638469081372023,
          0.6605398654937744,
          0.6577107273042202,
          0.6553965508937836,
          0.6547592040151358,
          0.6507775038480759,
          0.6555857192724943,
          0.6567158717662096,
          0.6524584200233221,
          0.6517240144312382,
          0.6475714296102524,
          0.6452444978058338,
          0.6440007910132408,
          0.639299688860774,
          0.638545073568821,
          0.639445761218667,
          0.635264128446579,
          0.6470044981688261,
          0.6380368024110794,
          0.6338018495589495,
          0.6326039843261242,
          0.6349573563784361,
          0.644465995952487,
          0.6331974323838949,
          0.6338422428816557,
          0.6330231446772814,
          0.6265642885118723,
          0.6310819126665592,
          0.6277870573103428,
          0.625159127637744,
          0.6305902320891619,
          0.6229626815766096,
          0.6191936787217855,
          0.6174431405961514,
          0.6149268634617329,
          0.6157447714358568,
          0.6140231862664223,
          0.6219370439648628,
          0.6190119907259941,
          0.6119183488190174,
          0.6405277568846941,
          0.6257070153951645,
          0.6239623464643955,
          0.6261014752089977,
          0.6219427175819874,
          0.6133085731416941,
          0.6079936139285564,
          0.6100908163934946,
          0.6033905055373907,
          0.6212661024183035,
          0.6087526008486748,
          0.6002687253057957,
          0.6047042682766914,
          0.5978698562830687,
          0.5987025368958712,
          0.5969704929739237,
          0.5925120860338211,
          0.6000897530466318,
          0.5959183275699615,
          0.6019188091158867,
          0.6159884165972471,
          0.5970541182905436,
          0.5979080647230148,
          0.6010643746703863,
          0.5925193633884192,
          0.5999689605087042,
          0.5979591254144907,
          0.5975243337452412,
          0.5928012374788523,
          0.5947340298444033,
          0.6029928885400295,
          0.5867746397852898,
          0.5902428384870291,
          0.584633843973279,
          0.609382688999176,
          0.5797748621553183,
          0.5915099121630192,
          0.5748237511143088,
          0.5681929234415293,
          0.5728505533188581,
          0.5752360951155424,
          0.5804818067699671,
          0.5750638358294964,
          0.575524915009737,
          0.5708942171186209,
          0.5788627117872238,
          0.579394243657589,
          0.5626424252986908,
          0.6384128052741289,
          0.6175591498613358,
          0.599679222330451,
          0.5851925909519196,
          0.5816462375223637,
          0.5789467338472605,
          0.5742095988243818,
          0.6190957892686129,
          0.5832168366760015,
          0.5688867243006825,
          0.5623566769063473,
          0.5778155121952295,
          0.5676927138119936,
          0.5656755864620209,
          0.563265660777688,
          0.5639251861721277,
          0.5608033835887909,
          0.5569655299186707,
          0.5584433283656836,
          0.5565350968390703,
          0.5599004104733467,
          0.5727685857564211,
          0.5563632640987635,
          0.5554385017603636,
          0.5633435416966677,
          0.5493952874094248,
          0.5494006611406803,
          0.561743127182126,
          0.5565312951803207,
          0.5487861894071102,
          0.5454428773373365,
          0.5488161835819483,
          0.5616187956184149,
          0.5462206862866879,
          0.5436334256082773,
          0.5577124152332544,
          0.5476404093205929,
          0.5352163203060627,
          0.5369309149682522,
          0.537368493154645,
          0.5406199190765619,
          0.5584738068282604,
          0.5324482182040811,
          0.5348798707127571
         ]
        },
        {
         "mode": "lines",
         "name": "Verifier Loss",
         "type": "scatter",
         "x": [
          0,
          1,
          2,
          3,
          4,
          5,
          6,
          7,
          8,
          9,
          10,
          11,
          12,
          13,
          14,
          15,
          16,
          17,
          18,
          19,
          20,
          21,
          22,
          23,
          24,
          25,
          26,
          27,
          28,
          29,
          30,
          31,
          32,
          33,
          34,
          35,
          36,
          37,
          38,
          39,
          40,
          41,
          42,
          43,
          44,
          45,
          46,
          47,
          48,
          49,
          50,
          51,
          52,
          53,
          54,
          55,
          56,
          57,
          58,
          59,
          60,
          61,
          62,
          63,
          64,
          65,
          66,
          67,
          68,
          69,
          70,
          71,
          72,
          73,
          74,
          75,
          76,
          77,
          78,
          79,
          80,
          81,
          82,
          83,
          84,
          85,
          86,
          87,
          88,
          89,
          90,
          91,
          92,
          93,
          94,
          95,
          96,
          97,
          98,
          99,
          100,
          101,
          102,
          103,
          104,
          105,
          106,
          107,
          108,
          109,
          110,
          111,
          112,
          113,
          114,
          115,
          116,
          117,
          118,
          119,
          120,
          121,
          122,
          123,
          124,
          125,
          126,
          127,
          128,
          129,
          130,
          131,
          132,
          133,
          134,
          135,
          136,
          137,
          138,
          139,
          140,
          141,
          142,
          143,
          144,
          145,
          146,
          147,
          148,
          149,
          150,
          151,
          152,
          153,
          154,
          155,
          156,
          157,
          158,
          159,
          160,
          161,
          162,
          163,
          164,
          165,
          166,
          167,
          168,
          169,
          170,
          171,
          172,
          173,
          174,
          175,
          176,
          177,
          178,
          179,
          180,
          181,
          182,
          183,
          184,
          185,
          186,
          187,
          188,
          189,
          190,
          191,
          192,
          193,
          194,
          195,
          196,
          197,
          198,
          199
         ],
         "y": [
          0.6935330107808113,
          0.692909175530076,
          0.6928836163133383,
          0.6930680144578218,
          0.6928024832159281,
          0.6930318772792816,
          0.6925065815448761,
          0.6923070829361677,
          0.6923255007714033,
          0.6922086197882891,
          0.6928859520703554,
          0.6926077213138342,
          0.6923280637711287,
          0.6928319353610277,
          0.692757023498416,
          0.6922979690134525,
          0.6925689112395048,
          0.6921928152441978,
          0.6922730095684528,
          0.6921119038015604,
          0.6920394469052553,
          0.6918947733938694,
          0.6919378582388163,
          0.6917690522968769,
          0.6917982622981071,
          0.6921063233166933,
          0.6914552431553602,
          0.6917608249932528,
          0.6916383672505617,
          0.6918236743658781,
          0.6924320366233587,
          0.6914100851863623,
          0.6916446704417467,
          0.6908822096884251,
          0.6914012581110001,
          0.6913103777915239,
          0.6915708519518375,
          0.6905820965766907,
          0.6902786009013653,
          0.690126059576869,
          0.6910187974572182,
          0.6895002704113722,
          0.6905029993504286,
          0.6886916942894459,
          0.6895707603543997,
          0.6896012723445892,
          0.6888737138360739,
          0.687589542940259,
          0.6867124270647764,
          0.6865106392651796,
          0.6863940749317408,
          0.6854468993842602,
          0.6843764875084162,
          0.6829292308539152,
          0.6820365842431784,
          0.6842149384319782,
          0.6799771338701248,
          0.6778361480683088,
          0.6757518853992224,
          0.6739855874329805,
          0.6783028859645128,
          0.6740774512290955,
          0.6699013113975525,
          0.666990265250206,
          0.6669854708015919,
          0.6638130620121956,
          0.6595132183283567,
          0.658657344058156,
          0.6604408174753189,
          0.6573436409235001,
          0.653932049870491,
          0.6528412383049726,
          0.6518788114190102,
          0.6459925901144743,
          0.6439864672720432,
          0.6433394178748131,
          0.6427340060472488,
          0.6469934452325106,
          0.6442633643746376,
          0.6423851102590561,
          0.6393643692135811,
          0.643956895917654,
          0.6432901006191969,
          0.6366009376943111,
          0.633558863773942,
          0.6279207766056061,
          0.6306616924703121,
          0.6325688809156418,
          0.6401309575885534,
          0.625692954286933,
          0.6297663412988186,
          0.6289160959422588,
          0.6413131784647703,
          0.6294361688196659,
          0.6265321280807257,
          0.6211007684469223,
          0.6228725723922253,
          0.6335872504860163,
          0.6265216693282127,
          0.623892180621624,
          0.6223561484366655,
          0.6216531228274107,
          0.6196017600595951,
          0.616202624514699,
          0.6252821069210768,
          0.6179792005568743,
          0.6152100749313831,
          0.6168856602162123,
          0.6234360672533512,
          0.618805605918169,
          0.6163219902664423,
          0.6265596374869347,
          0.6151201222091913,
          0.6118247043341398,
          0.6127120424062014,
          0.6115673426538706,
          0.6101771462708712,
          0.6163689214736223,
          0.610728245228529,
          0.6066366173326969,
          0.6057850960642099,
          0.6098789777606726,
          0.6108654905110598,
          0.6085169576108456,
          0.6056994292885065,
          0.6029542051255703,
          0.6635494902729988,
          0.6393973417580128,
          0.6302909106016159,
          0.6234022565186024,
          0.6219060476869345,
          0.6208224985748529,
          0.6169159691780806,
          0.6134064346551895,
          0.6139915809035301,
          0.611974723637104,
          0.6088993903249502,
          0.6075190342962742,
          0.6093546338379383,
          0.6117761190980673,
          0.6051269732415676,
          0.607414998114109,
          0.6077933702617884,
          0.6107791215181351,
          0.6036625150591135,
          0.6024713907390833,
          0.6054317466914654,
          0.5995807833969593,
          0.6007429677993059,
          0.6073421463370323,
          0.6115135010331869,
          0.6035866681486368,
          0.6063216086477041,
          0.603831784799695,
          0.6049036309123039,
          0.6002840138971806,
          0.598364282399416,
          0.6779490187764168,
          0.69017812050879,
          0.6510179210454226,
          0.6438394915312529,
          0.6381411273032427,
          0.6339328270405531,
          0.638808460906148,
          0.6279653031378984,
          0.6246672756969929,
          0.6217660289257765,
          0.6189919076859951,
          0.6166992727667093,
          0.6113990675657988,
          0.6066946350038052,
          0.6040889993309975,
          0.6013957280665636,
          0.6029293369501829,
          0.6042759884148836,
          0.6117462571710348,
          0.6077551580965519,
          0.6076405961066484,
          0.6020182203501463,
          0.5992676224559546,
          0.6033649258315563,
          0.6007612776011229,
          0.6072473526000977,
          0.604955280199647,
          0.6058017369359732,
          0.6155719887465239,
          0.6101098507642746,
          0.6076896525919437,
          0.6046405229717493,
          0.6022697575390339,
          0.6050495393574238,
          0.6007012613117695,
          0.601290000602603,
          0.6018741838634014,
          0.6007515154778957,
          0.6038601920008659,
          0.6009502485394478,
          0.6023031640797853,
          0.5979170221835375,
          0.5968094505369663
         ]
        }
       ],
       "layout": {
        "template": {
         "data": {
          "bar": [
           {
            "error_x": {
             "color": "#2a3f5f"
            },
            "error_y": {
             "color": "#2a3f5f"
            },
            "marker": {
             "line": {
              "color": "#E5ECF6",
              "width": 0.5
             },
             "pattern": {
              "fillmode": "overlay",
              "size": 10,
              "solidity": 0.2
             }
            },
            "type": "bar"
           }
          ],
          "barpolar": [
           {
            "marker": {
             "line": {
              "color": "#E5ECF6",
              "width": 0.5
             },
             "pattern": {
              "fillmode": "overlay",
              "size": 10,
              "solidity": 0.2
             }
            },
            "type": "barpolar"
           }
          ],
          "carpet": [
           {
            "aaxis": {
             "endlinecolor": "#2a3f5f",
             "gridcolor": "white",
             "linecolor": "white",
             "minorgridcolor": "white",
             "startlinecolor": "#2a3f5f"
            },
            "baxis": {
             "endlinecolor": "#2a3f5f",
             "gridcolor": "white",
             "linecolor": "white",
             "minorgridcolor": "white",
             "startlinecolor": "#2a3f5f"
            },
            "type": "carpet"
           }
          ],
          "choropleth": [
           {
            "colorbar": {
             "outlinewidth": 0,
             "ticks": ""
            },
            "type": "choropleth"
           }
          ],
          "contour": [
           {
            "colorbar": {
             "outlinewidth": 0,
             "ticks": ""
            },
            "colorscale": [
             [
              0,
              "#0d0887"
             ],
             [
              0.1111111111111111,
              "#46039f"
             ],
             [
              0.2222222222222222,
              "#7201a8"
             ],
             [
              0.3333333333333333,
              "#9c179e"
             ],
             [
              0.4444444444444444,
              "#bd3786"
             ],
             [
              0.5555555555555556,
              "#d8576b"
             ],
             [
              0.6666666666666666,
              "#ed7953"
             ],
             [
              0.7777777777777778,
              "#fb9f3a"
             ],
             [
              0.8888888888888888,
              "#fdca26"
             ],
             [
              1,
              "#f0f921"
             ]
            ],
            "type": "contour"
           }
          ],
          "contourcarpet": [
           {
            "colorbar": {
             "outlinewidth": 0,
             "ticks": ""
            },
            "type": "contourcarpet"
           }
          ],
          "heatmap": [
           {
            "colorbar": {
             "outlinewidth": 0,
             "ticks": ""
            },
            "colorscale": [
             [
              0,
              "#0d0887"
             ],
             [
              0.1111111111111111,
              "#46039f"
             ],
             [
              0.2222222222222222,
              "#7201a8"
             ],
             [
              0.3333333333333333,
              "#9c179e"
             ],
             [
              0.4444444444444444,
              "#bd3786"
             ],
             [
              0.5555555555555556,
              "#d8576b"
             ],
             [
              0.6666666666666666,
              "#ed7953"
             ],
             [
              0.7777777777777778,
              "#fb9f3a"
             ],
             [
              0.8888888888888888,
              "#fdca26"
             ],
             [
              1,
              "#f0f921"
             ]
            ],
            "type": "heatmap"
           }
          ],
          "heatmapgl": [
           {
            "colorbar": {
             "outlinewidth": 0,
             "ticks": ""
            },
            "colorscale": [
             [
              0,
              "#0d0887"
             ],
             [
              0.1111111111111111,
              "#46039f"
             ],
             [
              0.2222222222222222,
              "#7201a8"
             ],
             [
              0.3333333333333333,
              "#9c179e"
             ],
             [
              0.4444444444444444,
              "#bd3786"
             ],
             [
              0.5555555555555556,
              "#d8576b"
             ],
             [
              0.6666666666666666,
              "#ed7953"
             ],
             [
              0.7777777777777778,
              "#fb9f3a"
             ],
             [
              0.8888888888888888,
              "#fdca26"
             ],
             [
              1,
              "#f0f921"
             ]
            ],
            "type": "heatmapgl"
           }
          ],
          "histogram": [
           {
            "marker": {
             "pattern": {
              "fillmode": "overlay",
              "size": 10,
              "solidity": 0.2
             }
            },
            "type": "histogram"
           }
          ],
          "histogram2d": [
           {
            "colorbar": {
             "outlinewidth": 0,
             "ticks": ""
            },
            "colorscale": [
             [
              0,
              "#0d0887"
             ],
             [
              0.1111111111111111,
              "#46039f"
             ],
             [
              0.2222222222222222,
              "#7201a8"
             ],
             [
              0.3333333333333333,
              "#9c179e"
             ],
             [
              0.4444444444444444,
              "#bd3786"
             ],
             [
              0.5555555555555556,
              "#d8576b"
             ],
             [
              0.6666666666666666,
              "#ed7953"
             ],
             [
              0.7777777777777778,
              "#fb9f3a"
             ],
             [
              0.8888888888888888,
              "#fdca26"
             ],
             [
              1,
              "#f0f921"
             ]
            ],
            "type": "histogram2d"
           }
          ],
          "histogram2dcontour": [
           {
            "colorbar": {
             "outlinewidth": 0,
             "ticks": ""
            },
            "colorscale": [
             [
              0,
              "#0d0887"
             ],
             [
              0.1111111111111111,
              "#46039f"
             ],
             [
              0.2222222222222222,
              "#7201a8"
             ],
             [
              0.3333333333333333,
              "#9c179e"
             ],
             [
              0.4444444444444444,
              "#bd3786"
             ],
             [
              0.5555555555555556,
              "#d8576b"
             ],
             [
              0.6666666666666666,
              "#ed7953"
             ],
             [
              0.7777777777777778,
              "#fb9f3a"
             ],
             [
              0.8888888888888888,
              "#fdca26"
             ],
             [
              1,
              "#f0f921"
             ]
            ],
            "type": "histogram2dcontour"
           }
          ],
          "mesh3d": [
           {
            "colorbar": {
             "outlinewidth": 0,
             "ticks": ""
            },
            "type": "mesh3d"
           }
          ],
          "parcoords": [
           {
            "line": {
             "colorbar": {
              "outlinewidth": 0,
              "ticks": ""
             }
            },
            "type": "parcoords"
           }
          ],
          "pie": [
           {
            "automargin": true,
            "type": "pie"
           }
          ],
          "scatter": [
           {
            "fillpattern": {
             "fillmode": "overlay",
             "size": 10,
             "solidity": 0.2
            },
            "type": "scatter"
           }
          ],
          "scatter3d": [
           {
            "line": {
             "colorbar": {
              "outlinewidth": 0,
              "ticks": ""
             }
            },
            "marker": {
             "colorbar": {
              "outlinewidth": 0,
              "ticks": ""
             }
            },
            "type": "scatter3d"
           }
          ],
          "scattercarpet": [
           {
            "marker": {
             "colorbar": {
              "outlinewidth": 0,
              "ticks": ""
             }
            },
            "type": "scattercarpet"
           }
          ],
          "scattergeo": [
           {
            "marker": {
             "colorbar": {
              "outlinewidth": 0,
              "ticks": ""
             }
            },
            "type": "scattergeo"
           }
          ],
          "scattergl": [
           {
            "marker": {
             "colorbar": {
              "outlinewidth": 0,
              "ticks": ""
             }
            },
            "type": "scattergl"
           }
          ],
          "scattermapbox": [
           {
            "marker": {
             "colorbar": {
              "outlinewidth": 0,
              "ticks": ""
             }
            },
            "type": "scattermapbox"
           }
          ],
          "scatterpolar": [
           {
            "marker": {
             "colorbar": {
              "outlinewidth": 0,
              "ticks": ""
             }
            },
            "type": "scatterpolar"
           }
          ],
          "scatterpolargl": [
           {
            "marker": {
             "colorbar": {
              "outlinewidth": 0,
              "ticks": ""
             }
            },
            "type": "scatterpolargl"
           }
          ],
          "scatterternary": [
           {
            "marker": {
             "colorbar": {
              "outlinewidth": 0,
              "ticks": ""
             }
            },
            "type": "scatterternary"
           }
          ],
          "surface": [
           {
            "colorbar": {
             "outlinewidth": 0,
             "ticks": ""
            },
            "colorscale": [
             [
              0,
              "#0d0887"
             ],
             [
              0.1111111111111111,
              "#46039f"
             ],
             [
              0.2222222222222222,
              "#7201a8"
             ],
             [
              0.3333333333333333,
              "#9c179e"
             ],
             [
              0.4444444444444444,
              "#bd3786"
             ],
             [
              0.5555555555555556,
              "#d8576b"
             ],
             [
              0.6666666666666666,
              "#ed7953"
             ],
             [
              0.7777777777777778,
              "#fb9f3a"
             ],
             [
              0.8888888888888888,
              "#fdca26"
             ],
             [
              1,
              "#f0f921"
             ]
            ],
            "type": "surface"
           }
          ],
          "table": [
           {
            "cells": {
             "fill": {
              "color": "#EBF0F8"
             },
             "line": {
              "color": "white"
             }
            },
            "header": {
             "fill": {
              "color": "#C8D4E3"
             },
             "line": {
              "color": "white"
             }
            },
            "type": "table"
           }
          ]
         },
         "layout": {
          "annotationdefaults": {
           "arrowcolor": "#2a3f5f",
           "arrowhead": 0,
           "arrowwidth": 1
          },
          "autotypenumbers": "strict",
          "coloraxis": {
           "colorbar": {
            "outlinewidth": 0,
            "ticks": ""
           }
          },
          "colorscale": {
           "diverging": [
            [
             0,
             "#8e0152"
            ],
            [
             0.1,
             "#c51b7d"
            ],
            [
             0.2,
             "#de77ae"
            ],
            [
             0.3,
             "#f1b6da"
            ],
            [
             0.4,
             "#fde0ef"
            ],
            [
             0.5,
             "#f7f7f7"
            ],
            [
             0.6,
             "#e6f5d0"
            ],
            [
             0.7,
             "#b8e186"
            ],
            [
             0.8,
             "#7fbc41"
            ],
            [
             0.9,
             "#4d9221"
            ],
            [
             1,
             "#276419"
            ]
           ],
           "sequential": [
            [
             0,
             "#0d0887"
            ],
            [
             0.1111111111111111,
             "#46039f"
            ],
            [
             0.2222222222222222,
             "#7201a8"
            ],
            [
             0.3333333333333333,
             "#9c179e"
            ],
            [
             0.4444444444444444,
             "#bd3786"
            ],
            [
             0.5555555555555556,
             "#d8576b"
            ],
            [
             0.6666666666666666,
             "#ed7953"
            ],
            [
             0.7777777777777778,
             "#fb9f3a"
            ],
            [
             0.8888888888888888,
             "#fdca26"
            ],
            [
             1,
             "#f0f921"
            ]
           ],
           "sequentialminus": [
            [
             0,
             "#0d0887"
            ],
            [
             0.1111111111111111,
             "#46039f"
            ],
            [
             0.2222222222222222,
             "#7201a8"
            ],
            [
             0.3333333333333333,
             "#9c179e"
            ],
            [
             0.4444444444444444,
             "#bd3786"
            ],
            [
             0.5555555555555556,
             "#d8576b"
            ],
            [
             0.6666666666666666,
             "#ed7953"
            ],
            [
             0.7777777777777778,
             "#fb9f3a"
            ],
            [
             0.8888888888888888,
             "#fdca26"
            ],
            [
             1,
             "#f0f921"
            ]
           ]
          },
          "colorway": [
           "#636efa",
           "#EF553B",
           "#00cc96",
           "#ab63fa",
           "#FFA15A",
           "#19d3f3",
           "#FF6692",
           "#B6E880",
           "#FF97FF",
           "#FECB52"
          ],
          "font": {
           "color": "#2a3f5f"
          },
          "geo": {
           "bgcolor": "white",
           "lakecolor": "white",
           "landcolor": "#E5ECF6",
           "showlakes": true,
           "showland": true,
           "subunitcolor": "white"
          },
          "hoverlabel": {
           "align": "left"
          },
          "hovermode": "closest",
          "mapbox": {
           "style": "light"
          },
          "paper_bgcolor": "white",
          "plot_bgcolor": "#E5ECF6",
          "polar": {
           "angularaxis": {
            "gridcolor": "white",
            "linecolor": "white",
            "ticks": ""
           },
           "bgcolor": "#E5ECF6",
           "radialaxis": {
            "gridcolor": "white",
            "linecolor": "white",
            "ticks": ""
           }
          },
          "scene": {
           "xaxis": {
            "backgroundcolor": "#E5ECF6",
            "gridcolor": "white",
            "gridwidth": 2,
            "linecolor": "white",
            "showbackground": true,
            "ticks": "",
            "zerolinecolor": "white"
           },
           "yaxis": {
            "backgroundcolor": "#E5ECF6",
            "gridcolor": "white",
            "gridwidth": 2,
            "linecolor": "white",
            "showbackground": true,
            "ticks": "",
            "zerolinecolor": "white"
           },
           "zaxis": {
            "backgroundcolor": "#E5ECF6",
            "gridcolor": "white",
            "gridwidth": 2,
            "linecolor": "white",
            "showbackground": true,
            "ticks": "",
            "zerolinecolor": "white"
           }
          },
          "shapedefaults": {
           "line": {
            "color": "#2a3f5f"
           }
          },
          "ternary": {
           "aaxis": {
            "gridcolor": "white",
            "linecolor": "white",
            "ticks": ""
           },
           "baxis": {
            "gridcolor": "white",
            "linecolor": "white",
            "ticks": ""
           },
           "bgcolor": "#E5ECF6",
           "caxis": {
            "gridcolor": "white",
            "linecolor": "white",
            "ticks": ""
           }
          },
          "title": {
           "x": 0.05
          },
          "xaxis": {
           "automargin": true,
           "gridcolor": "white",
           "linecolor": "white",
           "ticks": "",
           "title": {
            "standoff": 15
           },
           "zerolinecolor": "white",
           "zerolinewidth": 2
          },
          "yaxis": {
           "automargin": true,
           "gridcolor": "white",
           "linecolor": "white",
           "ticks": "",
           "title": {
            "standoff": 15
           },
           "zerolinecolor": "white",
           "zerolinewidth": 2
          }
         }
        },
        "title": {
         "text": "Prover and Verifier Losses"
        },
        "xaxis": {
         "title": {
          "text": "Epoch"
         }
        },
        "yaxis": {
         "title": {
          "text": "Loss"
         }
        }
       }
      }
     },
     "metadata": {},
     "output_type": "display_data"
    }
   ],
   "source": [
    "fig = go.Figure()\n",
    "\n",
    "fig.add_trace(\n",
    "    go.Scatter(\n",
    "        x=np.arange(NUM_EPOCHS), y=losses_prover, mode=\"lines\", name=\"Prover Loss\"\n",
    "    )\n",
    ")\n",
    "fig.add_trace(\n",
    "    go.Scatter(\n",
    "        x=np.arange(NUM_EPOCHS), y=losses_verifier, mode=\"lines\", name=\"Verifier Loss\"\n",
    "    )\n",
    ")\n",
    "\n",
    "fig.update_layout(\n",
    "    title=\"Prover and Verifier Losses\", xaxis_title=\"Epoch\", yaxis_title=\"Loss\"\n",
    ")\n",
    "\n",
    "fig.show()"
   ]
  },
  {
   "cell_type": "code",
   "execution_count": null,
   "metadata": {},
   "outputs": [
    {
     "data": {
      "application/vnd.plotly.v1+json": {
       "config": {
        "plotlyServerURL": "https://plot.ly"
       },
       "data": [
        {
         "mode": "lines",
         "name": "Prover Accuracy",
         "type": "scatter",
         "x": [
          0,
          1,
          2,
          3,
          4,
          5,
          6,
          7,
          8,
          9,
          10,
          11,
          12,
          13,
          14,
          15,
          16,
          17,
          18,
          19,
          20,
          21,
          22,
          23,
          24,
          25,
          26,
          27,
          28,
          29,
          30,
          31,
          32,
          33,
          34,
          35,
          36,
          37,
          38,
          39,
          40,
          41,
          42,
          43,
          44,
          45,
          46,
          47,
          48,
          49,
          50,
          51,
          52,
          53,
          54,
          55,
          56,
          57,
          58,
          59,
          60,
          61,
          62,
          63,
          64,
          65,
          66,
          67,
          68,
          69,
          70,
          71,
          72,
          73,
          74,
          75,
          76,
          77,
          78,
          79,
          80,
          81,
          82,
          83,
          84,
          85,
          86,
          87,
          88,
          89,
          90,
          91,
          92,
          93,
          94,
          95,
          96,
          97,
          98,
          99,
          100,
          101,
          102,
          103,
          104,
          105,
          106,
          107,
          108,
          109,
          110,
          111,
          112,
          113,
          114,
          115,
          116,
          117,
          118,
          119,
          120,
          121,
          122,
          123,
          124,
          125,
          126,
          127,
          128,
          129,
          130,
          131,
          132,
          133,
          134,
          135,
          136,
          137,
          138,
          139,
          140,
          141,
          142,
          143,
          144,
          145,
          146,
          147,
          148,
          149,
          150,
          151,
          152,
          153,
          154,
          155,
          156,
          157,
          158,
          159,
          160,
          161,
          162,
          163,
          164,
          165,
          166,
          167,
          168,
          169,
          170,
          171,
          172,
          173,
          174,
          175,
          176,
          177,
          178,
          179,
          180,
          181,
          182,
          183,
          184,
          185,
          186,
          187,
          188,
          189,
          190,
          191,
          192,
          193,
          194,
          195,
          196,
          197,
          198,
          199
         ],
         "y": [
          0.496337890625,
          0.5006103515625,
          0.5030517578125,
          0.4954833984375,
          0.4942626953125,
          0.490478515625,
          0.498779296875,
          0.50146484375,
          0.494384765625,
          0.4967041015625,
          0.5025634765625,
          0.4893798828125,
          0.4979248046875,
          0.4990234375,
          0.4940185546875,
          0.5015869140625,
          0.4853515625,
          0.50146484375,
          0.4913330078125,
          0.5006103515625,
          0.496337890625,
          0.5006103515625,
          0.50244140625,
          0.506103515625,
          0.5023193359375,
          0.5042724609375,
          0.503173828125,
          0.5009765625,
          0.50390625,
          0.5025634765625,
          0.4989013671875,
          0.5081787109375,
          0.510009765625,
          0.5191650390625,
          0.513427734375,
          0.5106201171875,
          0.517333984375,
          0.5208740234375,
          0.52880859375,
          0.5211181640625,
          0.5347900390625,
          0.5347900390625,
          0.53857421875,
          0.54248046875,
          0.5355224609375,
          0.5484619140625,
          0.548828125,
          0.5523681640625,
          0.5538330078125,
          0.557373046875,
          0.5634765625,
          0.5579833984375,
          0.557861328125,
          0.564208984375,
          0.5601806640625,
          0.5626220703125,
          0.5709228515625,
          0.5731201171875,
          0.5565185546875,
          0.56982421875,
          0.5692138671875,
          0.574951171875,
          0.5789794921875,
          0.5716552734375,
          0.5684814453125,
          0.5657958984375,
          0.57666015625,
          0.5750732421875,
          0.561767578125,
          0.575927734375,
          0.572998046875,
          0.5750732421875,
          0.5845947265625,
          0.5880126953125,
          0.5780029296875,
          0.5765380859375,
          0.5826416015625,
          0.579833984375,
          0.5911865234375,
          0.5897216796875,
          0.59716796875,
          0.606201171875,
          0.6024169921875,
          0.5997314453125,
          0.602294921875,
          0.5908203125,
          0.60400390625,
          0.606201171875,
          0.606689453125,
          0.6060791015625,
          0.5887451171875,
          0.6080322265625,
          0.6007080078125,
          0.6070556640625,
          0.6177978515625,
          0.6070556640625,
          0.6168212890625,
          0.6220703125,
          0.6053466796875,
          0.6162109375,
          0.62841796875,
          0.6298828125,
          0.6395263671875,
          0.6280517578125,
          0.62939453125,
          0.618896484375,
          0.622314453125,
          0.629150390625,
          0.6002197265625,
          0.621337890625,
          0.617431640625,
          0.616455078125,
          0.6209716796875,
          0.6412353515625,
          0.6502685546875,
          0.63623046875,
          0.640869140625,
          0.6187744140625,
          0.6365966796875,
          0.654052734375,
          0.65869140625,
          0.656982421875,
          0.6435546875,
          0.6580810546875,
          0.662109375,
          0.64599609375,
          0.65283203125,
          0.6517333984375,
          0.630859375,
          0.6541748046875,
          0.6546630859375,
          0.63916015625,
          0.6622314453125,
          0.6361083984375,
          0.6468505859375,
          0.6536865234375,
          0.6533203125,
          0.6553955078125,
          0.6402587890625,
          0.673828125,
          0.6558837890625,
          0.6624755859375,
          0.629638671875,
          0.6756591796875,
          0.651123046875,
          0.6783447265625,
          0.6925048828125,
          0.6766357421875,
          0.6712646484375,
          0.667236328125,
          0.6741943359375,
          0.6781005859375,
          0.679443359375,
          0.672119140625,
          0.663818359375,
          0.6904296875,
          0.6119384765625,
          0.6219482421875,
          0.6400146484375,
          0.6644287109375,
          0.6611328125,
          0.67529296875,
          0.6778564453125,
          0.6103515625,
          0.6597900390625,
          0.6754150390625,
          0.6893310546875,
          0.66455078125,
          0.681640625,
          0.6773681640625,
          0.677978515625,
          0.6790771484375,
          0.68359375,
          0.6917724609375,
          0.6910400390625,
          0.6893310546875,
          0.687255859375,
          0.658935546875,
          0.6875,
          0.6910400390625,
          0.6834716796875,
          0.7041015625,
          0.6962890625,
          0.6788330078125,
          0.6845703125,
          0.6968994140625,
          0.7041015625,
          0.6904296875,
          0.68505859375,
          0.709716796875,
          0.706787109375,
          0.6805419921875,
          0.7044677734375,
          0.7188720703125,
          0.7139892578125,
          0.7127685546875,
          0.712646484375,
          0.67822265625,
          0.7193603515625,
          0.7177734375
         ]
        },
        {
         "mode": "lines",
         "name": "Verifier Accuracy",
         "type": "scatter",
         "x": [
          0,
          1,
          2,
          3,
          4,
          5,
          6,
          7,
          8,
          9,
          10,
          11,
          12,
          13,
          14,
          15,
          16,
          17,
          18,
          19,
          20,
          21,
          22,
          23,
          24,
          25,
          26,
          27,
          28,
          29,
          30,
          31,
          32,
          33,
          34,
          35,
          36,
          37,
          38,
          39,
          40,
          41,
          42,
          43,
          44,
          45,
          46,
          47,
          48,
          49,
          50,
          51,
          52,
          53,
          54,
          55,
          56,
          57,
          58,
          59,
          60,
          61,
          62,
          63,
          64,
          65,
          66,
          67,
          68,
          69,
          70,
          71,
          72,
          73,
          74,
          75,
          76,
          77,
          78,
          79,
          80,
          81,
          82,
          83,
          84,
          85,
          86,
          87,
          88,
          89,
          90,
          91,
          92,
          93,
          94,
          95,
          96,
          97,
          98,
          99,
          100,
          101,
          102,
          103,
          104,
          105,
          106,
          107,
          108,
          109,
          110,
          111,
          112,
          113,
          114,
          115,
          116,
          117,
          118,
          119,
          120,
          121,
          122,
          123,
          124,
          125,
          126,
          127,
          128,
          129,
          130,
          131,
          132,
          133,
          134,
          135,
          136,
          137,
          138,
          139,
          140,
          141,
          142,
          143,
          144,
          145,
          146,
          147,
          148,
          149,
          150,
          151,
          152,
          153,
          154,
          155,
          156,
          157,
          158,
          159,
          160,
          161,
          162,
          163,
          164,
          165,
          166,
          167,
          168,
          169,
          170,
          171,
          172,
          173,
          174,
          175,
          176,
          177,
          178,
          179,
          180,
          181,
          182,
          183,
          184,
          185,
          186,
          187,
          188,
          189,
          190,
          191,
          192,
          193,
          194,
          195,
          196,
          197,
          198,
          199
         ],
         "y": [
          0.49755859375,
          0.50390625,
          0.5146484375,
          0.514892578125,
          0.513427734375,
          0.517333984375,
          0.5177001953125,
          0.52197265625,
          0.518798828125,
          0.51708984375,
          0.510009765625,
          0.515869140625,
          0.5145263671875,
          0.5172119140625,
          0.5150146484375,
          0.516845703125,
          0.513427734375,
          0.516845703125,
          0.519775390625,
          0.5162353515625,
          0.511962890625,
          0.516357421875,
          0.5191650390625,
          0.515625,
          0.5189208984375,
          0.513671875,
          0.5189208984375,
          0.521484375,
          0.5203857421875,
          0.5184326171875,
          0.522705078125,
          0.5174560546875,
          0.519287109375,
          0.524169921875,
          0.5220947265625,
          0.5233154296875,
          0.5208740234375,
          0.530517578125,
          0.5308837890625,
          0.5291748046875,
          0.52685546875,
          0.53369140625,
          0.53173828125,
          0.540283203125,
          0.5301513671875,
          0.5279541015625,
          0.5361328125,
          0.5445556640625,
          0.5484619140625,
          0.5467529296875,
          0.5458984375,
          0.54248046875,
          0.5472412109375,
          0.56494140625,
          0.559326171875,
          0.55615234375,
          0.568603515625,
          0.5616455078125,
          0.568115234375,
          0.56591796875,
          0.568115234375,
          0.5712890625,
          0.576904296875,
          0.579833984375,
          0.574951171875,
          0.58203125,
          0.5850830078125,
          0.5831298828125,
          0.58203125,
          0.5921630859375,
          0.5931396484375,
          0.5860595703125,
          0.5946044921875,
          0.6007080078125,
          0.596923828125,
          0.60546875,
          0.5966796875,
          0.5906982421875,
          0.5894775390625,
          0.597900390625,
          0.60302734375,
          0.5950927734375,
          0.592529296875,
          0.6011962890625,
          0.60498046875,
          0.613525390625,
          0.6007080078125,
          0.6014404296875,
          0.587646484375,
          0.6220703125,
          0.6024169921875,
          0.606201171875,
          0.58642578125,
          0.6083984375,
          0.6031494140625,
          0.6134033203125,
          0.6080322265625,
          0.606201171875,
          0.6097412109375,
          0.6083984375,
          0.6136474609375,
          0.6123046875,
          0.609619140625,
          0.6156005859375,
          0.602294921875,
          0.617919921875,
          0.6182861328125,
          0.6097412109375,
          0.6048583984375,
          0.6165771484375,
          0.6151123046875,
          0.6015625,
          0.6214599609375,
          0.62451171875,
          0.6173095703125,
          0.6190185546875,
          0.6221923828125,
          0.611328125,
          0.617431640625,
          0.625,
          0.623291015625,
          0.6175537109375,
          0.616943359375,
          0.6171875,
          0.625732421875,
          0.62939453125,
          0.5811767578125,
          0.5965576171875,
          0.60498046875,
          0.6112060546875,
          0.6138916015625,
          0.607177734375,
          0.60986328125,
          0.6185302734375,
          0.61376953125,
          0.618896484375,
          0.6220703125,
          0.6204833984375,
          0.6190185546875,
          0.6187744140625,
          0.62646484375,
          0.6156005859375,
          0.61865234375,
          0.614501953125,
          0.6246337890625,
          0.624267578125,
          0.61865234375,
          0.6295166015625,
          0.6280517578125,
          0.61865234375,
          0.6158447265625,
          0.6240234375,
          0.6151123046875,
          0.6217041015625,
          0.61865234375,
          0.62890625,
          0.6297607421875,
          0.6129150390625,
          0.5618896484375,
          0.545166015625,
          0.5765380859375,
          0.577880859375,
          0.58642578125,
          0.5849609375,
          0.597412109375,
          0.6025390625,
          0.60546875,
          0.6077880859375,
          0.6114501953125,
          0.6209716796875,
          0.623291015625,
          0.6256103515625,
          0.627197265625,
          0.6302490234375,
          0.6248779296875,
          0.6141357421875,
          0.61962890625,
          0.6180419921875,
          0.6263427734375,
          0.6298828125,
          0.623291015625,
          0.629638671875,
          0.614501953125,
          0.6192626953125,
          0.614990234375,
          0.6082763671875,
          0.6124267578125,
          0.6153564453125,
          0.6146240234375,
          0.6207275390625,
          0.6119384765625,
          0.624267578125,
          0.629638671875,
          0.616943359375,
          0.62158203125,
          0.61865234375,
          0.6182861328125,
          0.62451171875,
          0.624267578125,
          0.629150390625
         ]
        }
       ],
       "layout": {
        "template": {
         "data": {
          "bar": [
           {
            "error_x": {
             "color": "#2a3f5f"
            },
            "error_y": {
             "color": "#2a3f5f"
            },
            "marker": {
             "line": {
              "color": "#E5ECF6",
              "width": 0.5
             },
             "pattern": {
              "fillmode": "overlay",
              "size": 10,
              "solidity": 0.2
             }
            },
            "type": "bar"
           }
          ],
          "barpolar": [
           {
            "marker": {
             "line": {
              "color": "#E5ECF6",
              "width": 0.5
             },
             "pattern": {
              "fillmode": "overlay",
              "size": 10,
              "solidity": 0.2
             }
            },
            "type": "barpolar"
           }
          ],
          "carpet": [
           {
            "aaxis": {
             "endlinecolor": "#2a3f5f",
             "gridcolor": "white",
             "linecolor": "white",
             "minorgridcolor": "white",
             "startlinecolor": "#2a3f5f"
            },
            "baxis": {
             "endlinecolor": "#2a3f5f",
             "gridcolor": "white",
             "linecolor": "white",
             "minorgridcolor": "white",
             "startlinecolor": "#2a3f5f"
            },
            "type": "carpet"
           }
          ],
          "choropleth": [
           {
            "colorbar": {
             "outlinewidth": 0,
             "ticks": ""
            },
            "type": "choropleth"
           }
          ],
          "contour": [
           {
            "colorbar": {
             "outlinewidth": 0,
             "ticks": ""
            },
            "colorscale": [
             [
              0,
              "#0d0887"
             ],
             [
              0.1111111111111111,
              "#46039f"
             ],
             [
              0.2222222222222222,
              "#7201a8"
             ],
             [
              0.3333333333333333,
              "#9c179e"
             ],
             [
              0.4444444444444444,
              "#bd3786"
             ],
             [
              0.5555555555555556,
              "#d8576b"
             ],
             [
              0.6666666666666666,
              "#ed7953"
             ],
             [
              0.7777777777777778,
              "#fb9f3a"
             ],
             [
              0.8888888888888888,
              "#fdca26"
             ],
             [
              1,
              "#f0f921"
             ]
            ],
            "type": "contour"
           }
          ],
          "contourcarpet": [
           {
            "colorbar": {
             "outlinewidth": 0,
             "ticks": ""
            },
            "type": "contourcarpet"
           }
          ],
          "heatmap": [
           {
            "colorbar": {
             "outlinewidth": 0,
             "ticks": ""
            },
            "colorscale": [
             [
              0,
              "#0d0887"
             ],
             [
              0.1111111111111111,
              "#46039f"
             ],
             [
              0.2222222222222222,
              "#7201a8"
             ],
             [
              0.3333333333333333,
              "#9c179e"
             ],
             [
              0.4444444444444444,
              "#bd3786"
             ],
             [
              0.5555555555555556,
              "#d8576b"
             ],
             [
              0.6666666666666666,
              "#ed7953"
             ],
             [
              0.7777777777777778,
              "#fb9f3a"
             ],
             [
              0.8888888888888888,
              "#fdca26"
             ],
             [
              1,
              "#f0f921"
             ]
            ],
            "type": "heatmap"
           }
          ],
          "heatmapgl": [
           {
            "colorbar": {
             "outlinewidth": 0,
             "ticks": ""
            },
            "colorscale": [
             [
              0,
              "#0d0887"
             ],
             [
              0.1111111111111111,
              "#46039f"
             ],
             [
              0.2222222222222222,
              "#7201a8"
             ],
             [
              0.3333333333333333,
              "#9c179e"
             ],
             [
              0.4444444444444444,
              "#bd3786"
             ],
             [
              0.5555555555555556,
              "#d8576b"
             ],
             [
              0.6666666666666666,
              "#ed7953"
             ],
             [
              0.7777777777777778,
              "#fb9f3a"
             ],
             [
              0.8888888888888888,
              "#fdca26"
             ],
             [
              1,
              "#f0f921"
             ]
            ],
            "type": "heatmapgl"
           }
          ],
          "histogram": [
           {
            "marker": {
             "pattern": {
              "fillmode": "overlay",
              "size": 10,
              "solidity": 0.2
             }
            },
            "type": "histogram"
           }
          ],
          "histogram2d": [
           {
            "colorbar": {
             "outlinewidth": 0,
             "ticks": ""
            },
            "colorscale": [
             [
              0,
              "#0d0887"
             ],
             [
              0.1111111111111111,
              "#46039f"
             ],
             [
              0.2222222222222222,
              "#7201a8"
             ],
             [
              0.3333333333333333,
              "#9c179e"
             ],
             [
              0.4444444444444444,
              "#bd3786"
             ],
             [
              0.5555555555555556,
              "#d8576b"
             ],
             [
              0.6666666666666666,
              "#ed7953"
             ],
             [
              0.7777777777777778,
              "#fb9f3a"
             ],
             [
              0.8888888888888888,
              "#fdca26"
             ],
             [
              1,
              "#f0f921"
             ]
            ],
            "type": "histogram2d"
           }
          ],
          "histogram2dcontour": [
           {
            "colorbar": {
             "outlinewidth": 0,
             "ticks": ""
            },
            "colorscale": [
             [
              0,
              "#0d0887"
             ],
             [
              0.1111111111111111,
              "#46039f"
             ],
             [
              0.2222222222222222,
              "#7201a8"
             ],
             [
              0.3333333333333333,
              "#9c179e"
             ],
             [
              0.4444444444444444,
              "#bd3786"
             ],
             [
              0.5555555555555556,
              "#d8576b"
             ],
             [
              0.6666666666666666,
              "#ed7953"
             ],
             [
              0.7777777777777778,
              "#fb9f3a"
             ],
             [
              0.8888888888888888,
              "#fdca26"
             ],
             [
              1,
              "#f0f921"
             ]
            ],
            "type": "histogram2dcontour"
           }
          ],
          "mesh3d": [
           {
            "colorbar": {
             "outlinewidth": 0,
             "ticks": ""
            },
            "type": "mesh3d"
           }
          ],
          "parcoords": [
           {
            "line": {
             "colorbar": {
              "outlinewidth": 0,
              "ticks": ""
             }
            },
            "type": "parcoords"
           }
          ],
          "pie": [
           {
            "automargin": true,
            "type": "pie"
           }
          ],
          "scatter": [
           {
            "fillpattern": {
             "fillmode": "overlay",
             "size": 10,
             "solidity": 0.2
            },
            "type": "scatter"
           }
          ],
          "scatter3d": [
           {
            "line": {
             "colorbar": {
              "outlinewidth": 0,
              "ticks": ""
             }
            },
            "marker": {
             "colorbar": {
              "outlinewidth": 0,
              "ticks": ""
             }
            },
            "type": "scatter3d"
           }
          ],
          "scattercarpet": [
           {
            "marker": {
             "colorbar": {
              "outlinewidth": 0,
              "ticks": ""
             }
            },
            "type": "scattercarpet"
           }
          ],
          "scattergeo": [
           {
            "marker": {
             "colorbar": {
              "outlinewidth": 0,
              "ticks": ""
             }
            },
            "type": "scattergeo"
           }
          ],
          "scattergl": [
           {
            "marker": {
             "colorbar": {
              "outlinewidth": 0,
              "ticks": ""
             }
            },
            "type": "scattergl"
           }
          ],
          "scattermapbox": [
           {
            "marker": {
             "colorbar": {
              "outlinewidth": 0,
              "ticks": ""
             }
            },
            "type": "scattermapbox"
           }
          ],
          "scatterpolar": [
           {
            "marker": {
             "colorbar": {
              "outlinewidth": 0,
              "ticks": ""
             }
            },
            "type": "scatterpolar"
           }
          ],
          "scatterpolargl": [
           {
            "marker": {
             "colorbar": {
              "outlinewidth": 0,
              "ticks": ""
             }
            },
            "type": "scatterpolargl"
           }
          ],
          "scatterternary": [
           {
            "marker": {
             "colorbar": {
              "outlinewidth": 0,
              "ticks": ""
             }
            },
            "type": "scatterternary"
           }
          ],
          "surface": [
           {
            "colorbar": {
             "outlinewidth": 0,
             "ticks": ""
            },
            "colorscale": [
             [
              0,
              "#0d0887"
             ],
             [
              0.1111111111111111,
              "#46039f"
             ],
             [
              0.2222222222222222,
              "#7201a8"
             ],
             [
              0.3333333333333333,
              "#9c179e"
             ],
             [
              0.4444444444444444,
              "#bd3786"
             ],
             [
              0.5555555555555556,
              "#d8576b"
             ],
             [
              0.6666666666666666,
              "#ed7953"
             ],
             [
              0.7777777777777778,
              "#fb9f3a"
             ],
             [
              0.8888888888888888,
              "#fdca26"
             ],
             [
              1,
              "#f0f921"
             ]
            ],
            "type": "surface"
           }
          ],
          "table": [
           {
            "cells": {
             "fill": {
              "color": "#EBF0F8"
             },
             "line": {
              "color": "white"
             }
            },
            "header": {
             "fill": {
              "color": "#C8D4E3"
             },
             "line": {
              "color": "white"
             }
            },
            "type": "table"
           }
          ]
         },
         "layout": {
          "annotationdefaults": {
           "arrowcolor": "#2a3f5f",
           "arrowhead": 0,
           "arrowwidth": 1
          },
          "autotypenumbers": "strict",
          "coloraxis": {
           "colorbar": {
            "outlinewidth": 0,
            "ticks": ""
           }
          },
          "colorscale": {
           "diverging": [
            [
             0,
             "#8e0152"
            ],
            [
             0.1,
             "#c51b7d"
            ],
            [
             0.2,
             "#de77ae"
            ],
            [
             0.3,
             "#f1b6da"
            ],
            [
             0.4,
             "#fde0ef"
            ],
            [
             0.5,
             "#f7f7f7"
            ],
            [
             0.6,
             "#e6f5d0"
            ],
            [
             0.7,
             "#b8e186"
            ],
            [
             0.8,
             "#7fbc41"
            ],
            [
             0.9,
             "#4d9221"
            ],
            [
             1,
             "#276419"
            ]
           ],
           "sequential": [
            [
             0,
             "#0d0887"
            ],
            [
             0.1111111111111111,
             "#46039f"
            ],
            [
             0.2222222222222222,
             "#7201a8"
            ],
            [
             0.3333333333333333,
             "#9c179e"
            ],
            [
             0.4444444444444444,
             "#bd3786"
            ],
            [
             0.5555555555555556,
             "#d8576b"
            ],
            [
             0.6666666666666666,
             "#ed7953"
            ],
            [
             0.7777777777777778,
             "#fb9f3a"
            ],
            [
             0.8888888888888888,
             "#fdca26"
            ],
            [
             1,
             "#f0f921"
            ]
           ],
           "sequentialminus": [
            [
             0,
             "#0d0887"
            ],
            [
             0.1111111111111111,
             "#46039f"
            ],
            [
             0.2222222222222222,
             "#7201a8"
            ],
            [
             0.3333333333333333,
             "#9c179e"
            ],
            [
             0.4444444444444444,
             "#bd3786"
            ],
            [
             0.5555555555555556,
             "#d8576b"
            ],
            [
             0.6666666666666666,
             "#ed7953"
            ],
            [
             0.7777777777777778,
             "#fb9f3a"
            ],
            [
             0.8888888888888888,
             "#fdca26"
            ],
            [
             1,
             "#f0f921"
            ]
           ]
          },
          "colorway": [
           "#636efa",
           "#EF553B",
           "#00cc96",
           "#ab63fa",
           "#FFA15A",
           "#19d3f3",
           "#FF6692",
           "#B6E880",
           "#FF97FF",
           "#FECB52"
          ],
          "font": {
           "color": "#2a3f5f"
          },
          "geo": {
           "bgcolor": "white",
           "lakecolor": "white",
           "landcolor": "#E5ECF6",
           "showlakes": true,
           "showland": true,
           "subunitcolor": "white"
          },
          "hoverlabel": {
           "align": "left"
          },
          "hovermode": "closest",
          "mapbox": {
           "style": "light"
          },
          "paper_bgcolor": "white",
          "plot_bgcolor": "#E5ECF6",
          "polar": {
           "angularaxis": {
            "gridcolor": "white",
            "linecolor": "white",
            "ticks": ""
           },
           "bgcolor": "#E5ECF6",
           "radialaxis": {
            "gridcolor": "white",
            "linecolor": "white",
            "ticks": ""
           }
          },
          "scene": {
           "xaxis": {
            "backgroundcolor": "#E5ECF6",
            "gridcolor": "white",
            "gridwidth": 2,
            "linecolor": "white",
            "showbackground": true,
            "ticks": "",
            "zerolinecolor": "white"
           },
           "yaxis": {
            "backgroundcolor": "#E5ECF6",
            "gridcolor": "white",
            "gridwidth": 2,
            "linecolor": "white",
            "showbackground": true,
            "ticks": "",
            "zerolinecolor": "white"
           },
           "zaxis": {
            "backgroundcolor": "#E5ECF6",
            "gridcolor": "white",
            "gridwidth": 2,
            "linecolor": "white",
            "showbackground": true,
            "ticks": "",
            "zerolinecolor": "white"
           }
          },
          "shapedefaults": {
           "line": {
            "color": "#2a3f5f"
           }
          },
          "ternary": {
           "aaxis": {
            "gridcolor": "white",
            "linecolor": "white",
            "ticks": ""
           },
           "baxis": {
            "gridcolor": "white",
            "linecolor": "white",
            "ticks": ""
           },
           "bgcolor": "#E5ECF6",
           "caxis": {
            "gridcolor": "white",
            "linecolor": "white",
            "ticks": ""
           }
          },
          "title": {
           "x": 0.05
          },
          "xaxis": {
           "automargin": true,
           "gridcolor": "white",
           "linecolor": "white",
           "ticks": "",
           "title": {
            "standoff": 15
           },
           "zerolinecolor": "white",
           "zerolinewidth": 2
          },
          "yaxis": {
           "automargin": true,
           "gridcolor": "white",
           "linecolor": "white",
           "ticks": "",
           "title": {
            "standoff": 15
           },
           "zerolinecolor": "white",
           "zerolinewidth": 2
          }
         }
        },
        "title": {
         "text": "Prover and Verifier Accuracies"
        },
        "xaxis": {
         "title": {
          "text": "Epoch"
         }
        },
        "yaxis": {
         "tickformat": ",.0%",
         "title": {
          "text": "Accuracy"
         }
        }
       }
      }
     },
     "metadata": {},
     "output_type": "display_data"
    }
   ],
   "source": [
    "fig = go.Figure()\n",
    "\n",
    "fig.add_trace(\n",
    "    go.Scatter(\n",
    "        x=np.arange(NUM_EPOCHS),\n",
    "        y=accuracies_prover,\n",
    "        mode=\"lines\",\n",
    "        name=\"Prover Accuracy\",\n",
    "    )\n",
    ")\n",
    "fig.add_trace(\n",
    "    go.Scatter(\n",
    "        x=np.arange(NUM_EPOCHS),\n",
    "        y=accuracies_verifier,\n",
    "        mode=\"lines\",\n",
    "        name=\"Verifier Accuracy\",\n",
    "    )\n",
    ")\n",
    "\n",
    "fig.update_layout(\n",
    "    title=\"Prover and Verifier Accuracies\",\n",
    "    xaxis_title=\"Epoch\",\n",
    "    yaxis_title=\"Accuracy\",\n",
    "    yaxis_tickformat=\",.0%\",\n",
    ")\n",
    "\n",
    "fig.show()"
   ]
  },
  {
   "cell_type": "markdown",
   "metadata": {},
   "source": [
    "## Test"
   ]
  },
  {
   "cell_type": "code",
   "execution_count": null,
   "metadata": {},
   "outputs": [
    {
     "name": "stderr",
     "output_type": "stream",
     "text": [
      "Testing...: 100%|██████████| 8/8 [00:00<00:00, 18.50it/s]"
     ]
    },
    {
     "name": "stdout",
     "output_type": "stream",
     "text": [
      "\n",
      "Final Results:\n",
      "Prover: loss: 0.5349, accuracy: 71.7773%\n",
      "Verifier: loss: 0.5968, accuracy: 62.9150%\n"
     ]
    },
    {
     "name": "stderr",
     "output_type": "stream",
     "text": [
      "\n"
     ]
    }
   ],
   "source": [
    "test_loader = DataLoader(\n",
    "    test_dataset, batch_size=BATCH_SIZE, shuffle=False, follow_batch=[\"x_a\", \"x_b\"]\n",
    ")\n",
    "\n",
    "\n",
    "def test_step(\n",
    "    model: GraphIsomorphismSoloAgent, optimizer, data: GraphIsomorphismData\n",
    ") -> tuple[float, float]:\n",
    "    model.eval()\n",
    "    with torch.no_grad():\n",
    "        pred = model(data)\n",
    "        loss = F.cross_entropy(pred, data.y)\n",
    "        accuracy = (pred.argmax(dim=1) == data.y).float().mean().item()\n",
    "    return loss.item(), accuracy\n",
    "\n",
    "\n",
    "loss_prover = np.empty(NUM_EPOCHS)\n",
    "accuracy_prover = np.empty(NUM_EPOCHS)\n",
    "loss_verifier = np.empty(NUM_EPOCHS)\n",
    "accuracy_verifier = np.empty(NUM_EPOCHS)\n",
    "\n",
    "loss_prover = 0\n",
    "accuracy_prover = 0\n",
    "loss_verifier = 0\n",
    "accuracy_verifier = 0\n",
    "for data in tqdm(test_loader, desc=f\"Testing...\"):\n",
    "    data = data.to(device)\n",
    "    loss, accuracy = train_step(prover, optimizer_prover, data)\n",
    "    loss_prover += loss\n",
    "    accuracy_prover += accuracy\n",
    "    loss, accuracy = train_step(verifier, optimizer_verifier, data)\n",
    "    loss_verifier += loss\n",
    "    accuracy_verifier += accuracy\n",
    "loss_prover = loss_prover / len(test_loader)\n",
    "accuracy_prover = accuracy_prover / len(test_loader)\n",
    "loss_verifier = loss_verifier / len(test_loader)\n",
    "accuracy_verifier = accuracy_verifier / len(test_loader)\n",
    "\n",
    "print()\n",
    "print(\"Final Results:\")\n",
    "print(\n",
    "    f\"Prover: loss: {losses_prover[epoch]:.4f}, \"\n",
    "    f\"accuracy: {accuracies_prover[epoch]:.4%}\"\n",
    ")\n",
    "print(\n",
    "    f\"Verifier: loss: {losses_verifier[epoch]:.4f}, \"\n",
    "    f\"accuracy: {accuracies_verifier[epoch]:.4%}\"\n",
    ")"
   ]
  }
 ],
 "metadata": {
  "kernelspec": {
   "display_name": "pvg-experiments",
   "language": "python",
   "name": "python3"
  },
  "language_info": {
   "codemirror_mode": {
    "name": "ipython",
    "version": 3
   },
   "file_extension": ".py",
   "mimetype": "text/x-python",
   "name": "python",
   "nbconvert_exporter": "python",
   "pygments_lexer": "ipython3",
   "version": "3.11.4"
  }
 },
 "nbformat": 4,
 "nbformat_minor": 2
}
