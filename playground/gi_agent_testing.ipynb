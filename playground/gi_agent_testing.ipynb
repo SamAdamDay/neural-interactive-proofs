{
 "cells": [
  {
   "cell_type": "markdown",
   "metadata": {},
   "source": [
    "# Testing graph isomorphism agents"
   ]
  },
  {
   "cell_type": "markdown",
   "metadata": {},
   "source": [
    "## Setup"
   ]
  },
  {
   "cell_type": "code",
   "execution_count": 1,
   "metadata": {},
   "outputs": [],
   "source": [
    "FORCE_CPU = True\n",
    "\n",
    "SEED = 349287\n",
    "\n",
    "CHECKPOINT_RUN_ID = \"ppo_gi_next_1_0\"\n",
    "CHECKPOINT_VERSION = \"v21\""
   ]
  },
  {
   "cell_type": "code",
   "execution_count": 2,
   "metadata": {},
   "outputs": [],
   "source": [
    "import torch\n",
    "from torch import Tensor\n",
    "from torch import nn\n",
    "\n",
    "from pvg import (\n",
    "    Parameters,\n",
    "    ScenarioType,\n",
    "    TrainerType,\n",
    "    AgentsParameters,\n",
    "    GraphIsomorphismAgentParameters,\n",
    ")\n",
    "from pvg.experiment_settings import ExperimentSettings\n",
    "from pvg.graph_isomorphism import (\n",
    "    GraphIsomorphismAgentHooks,\n",
    ")\n",
    "from pvg.scenario_instance import build_scenario_instance"
   ]
  },
  {
   "cell_type": "code",
   "execution_count": 3,
   "metadata": {},
   "outputs": [],
   "source": [
    "torch.manual_seed(SEED)\n",
    "torch_generator = torch.Generator().manual_seed(SEED)"
   ]
  },
  {
   "cell_type": "code",
   "execution_count": 4,
   "metadata": {},
   "outputs": [
    {
     "name": "stdout",
     "output_type": "stream",
     "text": [
      "cpu\n"
     ]
    }
   ],
   "source": [
    "if not FORCE_CPU and torch.cuda.is_available():\n",
    "    device = torch.device(\"cuda\")\n",
    "else:\n",
    "    device = torch.device(\"cpu\")\n",
    "print(device)"
   ]
  },
  {
   "cell_type": "markdown",
   "metadata": {},
   "source": [
    "## Create scenario and agents"
   ]
  },
  {
   "cell_type": "code",
   "execution_count": 5,
   "metadata": {},
   "outputs": [],
   "source": [
    "params = Parameters(\n",
    "    scenario=ScenarioType.GRAPH_ISOMORPHISM,\n",
    "    trainer=TrainerType.SOLO_AGENT,\n",
    "    dataset=\"eru10000\",\n",
    "    seed=SEED,\n",
    "    agents=AgentsParameters(\n",
    "        verifier=GraphIsomorphismAgentParameters(\n",
    "            load_checkpoint_and_parameters=True,\n",
    "            checkpoint_run_id=CHECKPOINT_RUN_ID,\n",
    "            checkpoint_version=CHECKPOINT_VERSION,\n",
    "        )\n",
    "    ),\n",
    ")"
   ]
  },
  {
   "cell_type": "code",
   "execution_count": 6,
   "metadata": {},
   "outputs": [],
   "source": [
    "settings = ExperimentSettings(\n",
    "    device=device,\n",
    ")"
   ]
  },
  {
   "cell_type": "code",
   "execution_count": 7,
   "metadata": {},
   "outputs": [
    {
     "name": "stderr",
     "output_type": "stream",
     "text": [
      "Failed to detect the name of this notebook, you can set it manually with the WANDB_NOTEBOOK_NAME environment variable to enable code saving.\n",
      "\u001b[34m\u001b[1mwandb\u001b[0m: Currently logged in as: \u001b[33msamadamday\u001b[0m (\u001b[33mlrhammond-team\u001b[0m). Use \u001b[1m`wandb login --relogin`\u001b[0m to force relogin\n"
     ]
    },
    {
     "data": {
      "text/html": [
       "wandb version 0.16.3 is available!  To upgrade, please run:\n",
       " $ pip install wandb --upgrade"
      ],
      "text/plain": [
       "<IPython.core.display.HTML object>"
      ]
     },
     "metadata": {},
     "output_type": "display_data"
    },
    {
     "data": {
      "text/html": [
       "Tracking run with wandb version 0.16.1"
      ],
      "text/plain": [
       "<IPython.core.display.HTML object>"
      ]
     },
     "metadata": {},
     "output_type": "display_data"
    },
    {
     "data": {
      "text/html": [
       "Run data is saved locally in <code>/home/sam/Code/Projects/PVG Experiments/playground/wandb/run-20240216_145211-ppo_gi_next_1_0</code>"
      ],
      "text/plain": [
       "<IPython.core.display.HTML object>"
      ]
     },
     "metadata": {},
     "output_type": "display_data"
    },
    {
     "data": {
      "text/html": [
       "Resuming run <strong><a href='https://wandb.ai/lrhammond-team/pvg-sandbox/runs/ppo_gi_next_1_0' target=\"_blank\">ppo_gi_next_1_0</a></strong> to <a href='https://wandb.ai/lrhammond-team/pvg-sandbox' target=\"_blank\">Weights & Biases</a> (<a href='https://wandb.me/run' target=\"_blank\">docs</a>)<br/>"
      ],
      "text/plain": [
       "<IPython.core.display.HTML object>"
      ]
     },
     "metadata": {},
     "output_type": "display_data"
    },
    {
     "data": {
      "text/html": [
       " View project at <a href='https://wandb.ai/lrhammond-team/pvg-sandbox' target=\"_blank\">https://wandb.ai/lrhammond-team/pvg-sandbox</a>"
      ],
      "text/plain": [
       "<IPython.core.display.HTML object>"
      ]
     },
     "metadata": {},
     "output_type": "display_data"
    },
    {
     "data": {
      "text/html": [
       " View run at <a href='https://wandb.ai/lrhammond-team/pvg-sandbox/runs/ppo_gi_next_1_0' target=\"_blank\">https://wandb.ai/lrhammond-team/pvg-sandbox/runs/ppo_gi_next_1_0</a>"
      ],
      "text/plain": [
       "<IPython.core.display.HTML object>"
      ]
     },
     "metadata": {},
     "output_type": "display_data"
    },
    {
     "name": "stderr",
     "output_type": "stream",
     "text": [
      "\u001b[34m\u001b[1mwandb\u001b[0m:   8 of 8 files downloaded.  \n",
      "wandb: WARNING No requirements.txt found, not creating job artifact. See https://docs.wandb.ai/guides/launch/create-job\n"
     ]
    },
    {
     "data": {
      "application/vnd.jupyter.widget-view+json": {
       "model_id": "e3fe27ef53e94c6cadab0362c1cc9f8c",
       "version_major": 2,
       "version_minor": 0
      },
      "text/plain": [
       "VBox(children=(Label(value='0.000 MB of 0.000 MB uploaded\\r'), FloatProgress(value=1.0, max=1.0)))"
      ]
     },
     "metadata": {},
     "output_type": "display_data"
    },
    {
     "data": {
      "text/html": [
       "<style>\n",
       "    table.wandb td:nth-child(1) { padding: 0 10px; text-align: left ; width: auto;} td:nth-child(2) {text-align: left ; width: 100%}\n",
       "    .wandb-row { display: flex; flex-direction: row; flex-wrap: wrap; justify-content: flex-start; width: 100% }\n",
       "    .wandb-col { display: flex; flex-direction: column; flex-basis: 100%; flex: 1; padding: 10px; }\n",
       "    </style>\n",
       "<div class=\"wandb-row\"><div class=\"wandb-col\"><h3>Run summary:</h3><br/><table class=\"wandb\"><tr><td>mean_episode_length</td><td>1</td></tr><tr><td>prover.mean_reward</td><td>0.201</td></tr><tr><td>prover.pretrain_test_accuracy</td><td>0.72352</td></tr><tr><td>prover.pretrain_test_loss</td><td>0.48423</td></tr><tr><td>verifier.mean_reward</td><td>0.136</td></tr><tr><td>verifier.pretrain_test_accuracy</td><td>0.62335</td></tr><tr><td>verifier.pretrain_test_loss</td><td>0.60665</td></tr></table><br/></div></div>"
      ],
      "text/plain": [
       "<IPython.core.display.HTML object>"
      ]
     },
     "metadata": {},
     "output_type": "display_data"
    },
    {
     "data": {
      "text/html": [
       " View run <strong style=\"color:#cdcd00\">ppo_gi_next_1_0</strong> at: <a href='https://wandb.ai/lrhammond-team/pvg-sandbox/runs/ppo_gi_next_1_0' target=\"_blank\">https://wandb.ai/lrhammond-team/pvg-sandbox/runs/ppo_gi_next_1_0</a><br/>Synced 3 W&B file(s), 0 media file(s), 0 artifact file(s) and 0 other file(s)"
      ],
      "text/plain": [
       "<IPython.core.display.HTML object>"
      ]
     },
     "metadata": {},
     "output_type": "display_data"
    },
    {
     "data": {
      "text/html": [
       "Find logs at: <code>./wandb/run-20240216_145211-ppo_gi_next_1_0/logs</code>"
      ],
      "text/plain": [
       "<IPython.core.display.HTML object>"
      ]
     },
     "metadata": {},
     "output_type": "display_data"
    }
   ],
   "source": [
    "scenario_instance = build_scenario_instance(\n",
    "    params=params,\n",
    "    settings=settings,\n",
    ")"
   ]
  },
  {
   "cell_type": "code",
   "execution_count": 8,
   "metadata": {},
   "outputs": [],
   "source": [
    "verifier_body = scenario_instance.agents[\"verifier\"].body"
   ]
  },
  {
   "cell_type": "code",
   "execution_count": 9,
   "metadata": {},
   "outputs": [],
   "source": [
    "dataset = scenario_instance.train_dataset"
   ]
  },
  {
   "cell_type": "code",
   "execution_count": 10,
   "metadata": {},
   "outputs": [
    {
     "data": {
      "text/plain": [
       "GraphIsomorphismDataset(\n",
       "    fields={\n",
       "        adjacency: MemoryMappedTensor(shape=torch.Size([10000, 2, 11, 11]), device=cpu, dtype=torch.int32, is_shared=True),\n",
       "        node_mask: MemoryMappedTensor(shape=torch.Size([10000, 2, 11]), device=cpu, dtype=torch.bool, is_shared=True),\n",
       "        x: MemoryMappedTensor(shape=torch.Size([10000, 2, 11, 8]), device=cpu, dtype=torch.float32, is_shared=True),\n",
       "        y: MemoryMappedTensor(shape=torch.Size([10000]), device=cpu, dtype=torch.int64, is_shared=True)},\n",
       "    batch_size=torch.Size([10000]),\n",
       "    device=None,\n",
       "    is_shared=False)"
      ]
     },
     "execution_count": 10,
     "metadata": {},
     "output_type": "execute_result"
    }
   ],
   "source": [
    "dataset"
   ]
  },
  {
   "cell_type": "code",
   "execution_count": 11,
   "metadata": {},
   "outputs": [
    {
     "data": {
      "text/plain": [
       "11"
      ]
     },
     "execution_count": 11,
     "metadata": {},
     "output_type": "execute_result"
    }
   ],
   "source": [
    "max_num_nodes = dataset[\"x\"].shape[-2]\n",
    "max_num_nodes"
   ]
  },
  {
   "cell_type": "markdown",
   "metadata": {},
   "source": [
    "## Looking at intermediate computations"
   ]
  },
  {
   "cell_type": "code",
   "execution_count": 12,
   "metadata": {},
   "outputs": [],
   "source": [
    "DATAPOINT = 1"
   ]
  },
  {
   "cell_type": "code",
   "execution_count": 13,
   "metadata": {},
   "outputs": [
    {
     "name": "stdout",
     "output_type": "stream",
     "text": [
      "y: 0\n"
     ]
    }
   ],
   "source": [
    "print(\"y:\", dataset[\"y\"][DATAPOINT].item())"
   ]
  },
  {
   "cell_type": "code",
   "execution_count": 14,
   "metadata": {},
   "outputs": [
    {
     "data": {
      "text/plain": [
       "TensorDict(\n",
       "    fields={\n",
       "        graph_level_repr: Tensor(shape=torch.Size([1, 2, 16]), device=cpu, dtype=torch.float32, is_shared=False),\n",
       "        node_level_repr: Tensor(shape=torch.Size([1, 2, 11, 16]), device=cpu, dtype=torch.float32, is_shared=False)},\n",
       "    batch_size=torch.Size([1]),\n",
       "    device=None,\n",
       "    is_shared=False)"
      ]
     },
     "execution_count": 14,
     "metadata": {},
     "output_type": "execute_result"
    }
   ],
   "source": [
    "storage = {}\n",
    "hooks = GraphIsomorphismAgentHooks.create_recorder_hooks(storage)\n",
    "input_td = dataset[DATAPOINT].unsqueeze(0)\n",
    "input_td[\"message\"] = torch.zeros_like(input_td[\"y\"])\n",
    "input_td[\"ignore_message\"] = torch.ones_like(input_td[\"y\"], dtype=torch.bool)\n",
    "verifier_body(input_td, hooks)"
   ]
  },
  {
   "cell_type": "code",
   "execution_count": 15,
   "metadata": {},
   "outputs": [],
   "source": [
    "for value in storage.values():\n",
    "    if value.shape[0] == 1:\n",
    "        value.squeeze_(0)"
   ]
  },
  {
   "cell_type": "code",
   "execution_count": 16,
   "metadata": {},
   "outputs": [
    {
     "name": "stdout",
     "output_type": "stream",
     "text": [
      "gnn_output : (2, 11, 16)\n",
      "gnn_output_rounded : (2, 11, 16)\n",
      "pooled_gnn_output : (2, 16)\n",
      "gnn_output_flatter : (22, 16)\n",
      "transformer_input_initial : (24, 16)\n",
      "pooled_feature : (24, 2)\n",
      "message_feature : (24, 1)\n",
      "transformer_input_pre_encoder : (24, 19)\n",
      "transformer_input : (24, 16)\n",
      "transformer_output_flatter : (24, 16)\n",
      "graph_level_repr_pre_encoder : (2, 16)\n",
      "node_level_repr_pre_encoder : (2, 11, 16)\n",
      "graph_level_repr : (2, 16)\n",
      "node_level_repr : (2, 11, 16)\n"
     ]
    }
   ],
   "source": [
    "for key, value in storage.items():\n",
    "    print(key, \":\", tuple(value.shape))"
   ]
  },
  {
   "cell_type": "code",
   "execution_count": 17,
   "metadata": {},
   "outputs": [
    {
     "name": "stdout",
     "output_type": "stream",
     "text": [
      "gnn_output\n"
     ]
    },
    {
     "data": {
      "text/plain": [
       "0.00804645475000143"
      ]
     },
     "execution_count": 17,
     "metadata": {},
     "output_type": "execute_result"
    }
   ],
   "source": [
    "print(\"gnn_output\")\n",
    "(storage[\"gnn_output\"][0].sum(dim=0) - storage[\"gnn_output\"][1].sum(dim=0)).mean().item()"
   ]
  },
  {
   "cell_type": "code",
   "execution_count": 18,
   "metadata": {},
   "outputs": [
    {
     "name": "stdout",
     "output_type": "stream",
     "text": [
      "gnn_output_rounded\n"
     ]
    },
    {
     "data": {
      "text/plain": [
       "0.008037504740059376"
      ]
     },
     "execution_count": 18,
     "metadata": {},
     "output_type": "execute_result"
    }
   ],
   "source": [
    "print(\"gnn_output_rounded\")\n",
    "(storage[\"gnn_output_rounded\"][0].sum(dim=0) - storage[\"gnn_output_rounded\"][1].sum(dim=0)).mean().item()"
   ]
  },
  {
   "cell_type": "code",
   "execution_count": 19,
   "metadata": {},
   "outputs": [
    {
     "name": "stdout",
     "output_type": "stream",
     "text": [
      "pooled_gnn_output, second graph-level representation\n"
     ]
    },
    {
     "data": {
      "text/plain": [
       "0.956008791923523"
      ]
     },
     "execution_count": 19,
     "metadata": {},
     "output_type": "execute_result"
    }
   ],
   "source": [
    "print(\"pooled_gnn_output, second graph-level representation\")\n",
    "\n",
    "storage[\"pooled_gnn_output\"][1].mean().item()"
   ]
  },
  {
   "cell_type": "code",
   "execution_count": 20,
   "metadata": {},
   "outputs": [
    {
     "name": "stdout",
     "output_type": "stream",
     "text": [
      "gnn_output_flatter\n"
     ]
    },
    {
     "data": {
      "text/plain": [
       "0.008037504740059376"
      ]
     },
     "execution_count": 20,
     "metadata": {},
     "output_type": "execute_result"
    }
   ],
   "source": [
    "print(\"gnn_output_flatter\")\n",
    "\n",
    "(storage[\"gnn_output_flatter\"][:max_num_nodes].sum(dim=0) - storage[\"gnn_output_flatter\"][max_num_nodes:].sum(dim=0)).mean().item()"
   ]
  },
  {
   "cell_type": "code",
   "execution_count": 21,
   "metadata": {},
   "outputs": [
    {
     "name": "stdout",
     "output_type": "stream",
     "text": [
      "transformer_input_initial, second graph-level representation\n"
     ]
    },
    {
     "data": {
      "text/plain": [
       "0.9545800089836121"
      ]
     },
     "execution_count": 21,
     "metadata": {},
     "output_type": "execute_result"
    }
   ],
   "source": [
    "print(\"transformer_input_initial, second graph-level representation\")\n",
    "\n",
    "storage[\"transformer_input_initial\"][1][:-2].mean().item()"
   ]
  },
  {
   "cell_type": "code",
   "execution_count": 22,
   "metadata": {},
   "outputs": [
    {
     "name": "stdout",
     "output_type": "stream",
     "text": [
      "transformer_input_initial, node-level representations\n"
     ]
    },
    {
     "data": {
      "text/plain": [
       "0.008037504740059376"
      ]
     },
     "execution_count": 22,
     "metadata": {},
     "output_type": "execute_result"
    }
   ],
   "source": [
    "print(\"transformer_input_initial, node-level representations\")\n",
    "\n",
    "(storage[\"transformer_input_initial\"][2:max_num_nodes+2].sum(dim=0) - storage[\"transformer_input_initial\"][max_num_nodes+2:].sum(dim=0)).mean().item()"
   ]
  },
  {
   "cell_type": "code",
   "execution_count": 23,
   "metadata": {},
   "outputs": [
    {
     "name": "stdout",
     "output_type": "stream",
     "text": [
      "transformer_input_pre_encoder, second graph-level representation\n"
     ]
    },
    {
     "data": {
      "text/plain": [
       "0.8997730016708374"
      ]
     },
     "execution_count": 23,
     "metadata": {},
     "output_type": "execute_result"
    }
   ],
   "source": [
    "print(\"transformer_input_pre_encoder, second graph-level representation\")\n",
    "\n",
    "storage[\"transformer_input_pre_encoder\"][1][:-2].mean().item()"
   ]
  },
  {
   "cell_type": "code",
   "execution_count": 24,
   "metadata": {},
   "outputs": [
    {
     "name": "stdout",
     "output_type": "stream",
     "text": [
      "transformer_input_pre_encoder, node-level representations\n"
     ]
    },
    {
     "data": {
      "text/plain": [
       "0.006768424995243549"
      ]
     },
     "execution_count": 24,
     "metadata": {},
     "output_type": "execute_result"
    }
   ],
   "source": [
    "print(\"transformer_input_pre_encoder, node-level representations\")\n",
    "\n",
    "(storage[\"transformer_input_pre_encoder\"][2:max_num_nodes+2].sum(dim=0) - storage[\"transformer_input_pre_encoder\"][max_num_nodes+2:].sum(dim=0)).mean().item()"
   ]
  },
  {
   "cell_type": "code",
   "execution_count": 25,
   "metadata": {},
   "outputs": [
    {
     "name": "stdout",
     "output_type": "stream",
     "text": [
      "transformer_input, second graph-level representation\n"
     ]
    },
    {
     "data": {
      "text/plain": [
       "-0.021549656987190247"
      ]
     },
     "execution_count": 25,
     "metadata": {},
     "output_type": "execute_result"
    }
   ],
   "source": [
    "print(\"transformer_input, second graph-level representation\")\n",
    "\n",
    "storage[\"transformer_input\"][1].mean().item()"
   ]
  },
  {
   "cell_type": "code",
   "execution_count": 26,
   "metadata": {},
   "outputs": [
    {
     "name": "stdout",
     "output_type": "stream",
     "text": [
      "transformer_input, node-level representations\n"
     ]
    },
    {
     "data": {
      "text/plain": [
       "0.003838390577584505"
      ]
     },
     "execution_count": 26,
     "metadata": {},
     "output_type": "execute_result"
    }
   ],
   "source": [
    "print(\"transformer_input, node-level representations\")\n",
    "\n",
    "(storage[\"transformer_input\"][2:max_num_nodes+2].sum(dim=0) - storage[\"transformer_input\"][max_num_nodes+2:].sum(dim=0)).mean().item()"
   ]
  },
  {
   "cell_type": "code",
   "execution_count": 27,
   "metadata": {},
   "outputs": [
    {
     "name": "stdout",
     "output_type": "stream",
     "text": [
      "transformer_output_flatter, second graph-level representation\n"
     ]
    },
    {
     "data": {
      "text/plain": [
       "-0.003930367529392242"
      ]
     },
     "execution_count": 27,
     "metadata": {},
     "output_type": "execute_result"
    }
   ],
   "source": [
    "print(\"transformer_output_flatter, second graph-level representation\")\n",
    "\n",
    "storage[\"transformer_output_flatter\"][1].mean().item()"
   ]
  },
  {
   "cell_type": "code",
   "execution_count": 28,
   "metadata": {},
   "outputs": [
    {
     "name": "stdout",
     "output_type": "stream",
     "text": [
      "transformer_output_flatter, node-level representations\n"
     ]
    },
    {
     "data": {
      "text/plain": [
       "-0.0006291046738624573"
      ]
     },
     "execution_count": 28,
     "metadata": {},
     "output_type": "execute_result"
    }
   ],
   "source": [
    "print(\"transformer_output_flatter, node-level representations\")\n",
    "\n",
    "(storage[\"transformer_output_flatter\"][2:max_num_nodes+2].sum(dim=0) - storage[\"transformer_output_flatter\"][max_num_nodes+2:].sum(dim=0)).mean().item()"
   ]
  },
  {
   "cell_type": "code",
   "execution_count": 29,
   "metadata": {},
   "outputs": [
    {
     "name": "stdout",
     "output_type": "stream",
     "text": [
      "node_level_repr_pre_encoder\n"
     ]
    },
    {
     "data": {
      "text/plain": [
       "-0.0006291046738624573"
      ]
     },
     "execution_count": 29,
     "metadata": {},
     "output_type": "execute_result"
    }
   ],
   "source": [
    "print(\"node_level_repr_pre_encoder\")\n",
    "\n",
    "(storage[\"node_level_repr_pre_encoder\"][0].sum(dim=0) - storage[\"node_level_repr_pre_encoder\"][1].sum(dim=0)).mean().item()"
   ]
  }
 ],
 "metadata": {
  "kernelspec": {
   "display_name": "pvg-experiments",
   "language": "python",
   "name": "python3"
  },
  "language_info": {
   "codemirror_mode": {
    "name": "ipython",
    "version": 3
   },
   "file_extension": ".py",
   "mimetype": "text/x-python",
   "name": "python",
   "nbconvert_exporter": "python",
   "pygments_lexer": "ipython3",
   "version": "3.11.6"
  }
 },
 "nbformat": 4,
 "nbformat_minor": 2
}
