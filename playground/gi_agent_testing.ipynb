{
 "cells": [
  {
   "cell_type": "markdown",
   "metadata": {},
   "source": [
    "# Testing graph isomorphism agents"
   ]
  },
  {
   "cell_type": "markdown",
   "metadata": {},
   "source": [
    "## Setup"
   ]
  },
  {
   "cell_type": "code",
   "execution_count": 65,
   "metadata": {},
   "outputs": [],
   "source": [
    "FORCE_CPU = True\n",
    "\n",
    "SEED = 349287\n",
    "\n",
    "LOAD_CHECKPOINT = True\n",
    "CHECKPOINT_RUN_ID = \"ppo_gi_next_1_0\"\n",
    "CHECKPOINT_VERSION = \"v21\"\n",
    "\n",
    "BATCH_SIZE = 128"
   ]
  },
  {
   "cell_type": "code",
   "execution_count": 66,
   "metadata": {},
   "outputs": [],
   "source": [
    "import torch\n",
    "from torch import Tensor\n",
    "from torch import nn\n",
    "\n",
    "import numpy as np\n",
    "\n",
    "from tqdm import tqdm\n",
    "\n",
    "import pandas as pd\n",
    "\n",
    "import plotly.graph_objects as go\n",
    "import plotly.express as px\n",
    "\n",
    "from rich.console import Console\n",
    "from rich.table import Table\n",
    "\n",
    "from pvg import (\n",
    "    Parameters,\n",
    "    ScenarioType,\n",
    "    TrainerType,\n",
    "    AgentsParameters,\n",
    "    GraphIsomorphismAgentParameters,\n",
    ")\n",
    "from pvg.experiment_settings import ExperimentSettings\n",
    "from pvg.graph_isomorphism import (\n",
    "    GraphIsomorphismAgentHooks,\n",
    ")\n",
    "from pvg.scenario_instance import build_scenario_instance\n",
    "from pvg.scenario_base import DataLoader"
   ]
  },
  {
   "cell_type": "code",
   "execution_count": 67,
   "metadata": {},
   "outputs": [],
   "source": [
    "torch.manual_seed(SEED)\n",
    "torch_generator = torch.Generator().manual_seed(SEED)"
   ]
  },
  {
   "cell_type": "code",
   "execution_count": 68,
   "metadata": {},
   "outputs": [
    {
     "name": "stdout",
     "output_type": "stream",
     "text": [
      "cpu\n"
     ]
    }
   ],
   "source": [
    "if not FORCE_CPU and torch.cuda.is_available():\n",
    "    device = torch.device(\"cuda\")\n",
    "else:\n",
    "    device = torch.device(\"cpu\")\n",
    "print(device)"
   ]
  },
  {
   "cell_type": "markdown",
   "metadata": {},
   "source": [
    "## Create scenario and agents"
   ]
  },
  {
   "cell_type": "code",
   "execution_count": 69,
   "metadata": {},
   "outputs": [],
   "source": [
    "params = Parameters(\n",
    "    scenario=ScenarioType.GRAPH_ISOMORPHISM,\n",
    "    trainer=TrainerType.SOLO_AGENT,\n",
    "    dataset=\"eru10000\",\n",
    "    seed=SEED,\n",
    "    agents=AgentsParameters(\n",
    "        verifier=GraphIsomorphismAgentParameters(\n",
    "            load_checkpoint_and_parameters=LOAD_CHECKPOINT,\n",
    "            checkpoint_run_id=CHECKPOINT_RUN_ID,\n",
    "            checkpoint_version=CHECKPOINT_VERSION,\n",
    "        )\n",
    "    ),\n",
    ")"
   ]
  },
  {
   "cell_type": "code",
   "execution_count": 70,
   "metadata": {},
   "outputs": [],
   "source": [
    "settings = ExperimentSettings(\n",
    "    device=device,\n",
    ")"
   ]
  },
  {
   "cell_type": "code",
   "execution_count": 71,
   "metadata": {},
   "outputs": [
    {
     "name": "stderr",
     "output_type": "stream",
     "text": [
      "Failed to detect the name of this notebook, you can set it manually with the WANDB_NOTEBOOK_NAME environment variable to enable code saving.\n",
      "\u001b[34m\u001b[1mwandb\u001b[0m: Currently logged in as: \u001b[33msamadamday\u001b[0m (\u001b[33mlrhammond-team\u001b[0m). Use \u001b[1m`wandb login --relogin`\u001b[0m to force relogin\n"
     ]
    },
    {
     "data": {
      "text/html": [
       "wandb version 0.16.3 is available!  To upgrade, please run:\n",
       " $ pip install wandb --upgrade"
      ],
      "text/plain": [
       "<IPython.core.display.HTML object>"
      ]
     },
     "metadata": {},
     "output_type": "display_data"
    },
    {
     "data": {
      "text/html": [
       "Tracking run with wandb version 0.16.1"
      ],
      "text/plain": [
       "<IPython.core.display.HTML object>"
      ]
     },
     "metadata": {},
     "output_type": "display_data"
    },
    {
     "data": {
      "text/html": [
       "Run data is saved locally in <code>/home/sam/Code/Projects/PVG Experiments/playground/wandb/run-20240220_100715-ppo_gi_next_1_0</code>"
      ],
      "text/plain": [
       "<IPython.core.display.HTML object>"
      ]
     },
     "metadata": {},
     "output_type": "display_data"
    },
    {
     "data": {
      "text/html": [
       "Resuming run <strong><a href='https://wandb.ai/lrhammond-team/pvg-sandbox/runs/ppo_gi_next_1_0' target=\"_blank\">ppo_gi_next_1_0</a></strong> to <a href='https://wandb.ai/lrhammond-team/pvg-sandbox' target=\"_blank\">Weights & Biases</a> (<a href='https://wandb.me/run' target=\"_blank\">docs</a>)<br/>"
      ],
      "text/plain": [
       "<IPython.core.display.HTML object>"
      ]
     },
     "metadata": {},
     "output_type": "display_data"
    },
    {
     "data": {
      "text/html": [
       " View project at <a href='https://wandb.ai/lrhammond-team/pvg-sandbox' target=\"_blank\">https://wandb.ai/lrhammond-team/pvg-sandbox</a>"
      ],
      "text/plain": [
       "<IPython.core.display.HTML object>"
      ]
     },
     "metadata": {},
     "output_type": "display_data"
    },
    {
     "data": {
      "text/html": [
       " View run at <a href='https://wandb.ai/lrhammond-team/pvg-sandbox/runs/ppo_gi_next_1_0' target=\"_blank\">https://wandb.ai/lrhammond-team/pvg-sandbox/runs/ppo_gi_next_1_0</a>"
      ],
      "text/plain": [
       "<IPython.core.display.HTML object>"
      ]
     },
     "metadata": {},
     "output_type": "display_data"
    },
    {
     "name": "stderr",
     "output_type": "stream",
     "text": [
      "\u001b[34m\u001b[1mwandb\u001b[0m:   8 of 8 files downloaded.  \n",
      "wandb: WARNING No requirements.txt found, not creating job artifact. See https://docs.wandb.ai/guides/launch/create-job\n"
     ]
    },
    {
     "data": {
      "application/vnd.jupyter.widget-view+json": {
       "model_id": "6561cebb83dc4572887abcdccc3db5e8",
       "version_major": 2,
       "version_minor": 0
      },
      "text/plain": [
       "VBox(children=(Label(value='0.000 MB of 0.000 MB uploaded\\r'), FloatProgress(value=1.0, max=1.0)))"
      ]
     },
     "metadata": {},
     "output_type": "display_data"
    },
    {
     "data": {
      "text/html": [
       "<style>\n",
       "    table.wandb td:nth-child(1) { padding: 0 10px; text-align: left ; width: auto;} td:nth-child(2) {text-align: left ; width: 100%}\n",
       "    .wandb-row { display: flex; flex-direction: row; flex-wrap: wrap; justify-content: flex-start; width: 100% }\n",
       "    .wandb-col { display: flex; flex-direction: column; flex-basis: 100%; flex: 1; padding: 10px; }\n",
       "    </style>\n",
       "<div class=\"wandb-row\"><div class=\"wandb-col\"><h3>Run summary:</h3><br/><table class=\"wandb\"><tr><td>mean_episode_length</td><td>1</td></tr><tr><td>prover.mean_reward</td><td>0.201</td></tr><tr><td>prover.pretrain_test_accuracy</td><td>0.72352</td></tr><tr><td>prover.pretrain_test_loss</td><td>0.48423</td></tr><tr><td>verifier.mean_reward</td><td>0.136</td></tr><tr><td>verifier.pretrain_test_accuracy</td><td>0.62335</td></tr><tr><td>verifier.pretrain_test_loss</td><td>0.60665</td></tr></table><br/></div></div>"
      ],
      "text/plain": [
       "<IPython.core.display.HTML object>"
      ]
     },
     "metadata": {},
     "output_type": "display_data"
    },
    {
     "data": {
      "text/html": [
       " View run <strong style=\"color:#cdcd00\">ppo_gi_next_1_0</strong> at: <a href='https://wandb.ai/lrhammond-team/pvg-sandbox/runs/ppo_gi_next_1_0' target=\"_blank\">https://wandb.ai/lrhammond-team/pvg-sandbox/runs/ppo_gi_next_1_0</a><br/>Synced 3 W&B file(s), 0 media file(s), 0 artifact file(s) and 0 other file(s)"
      ],
      "text/plain": [
       "<IPython.core.display.HTML object>"
      ]
     },
     "metadata": {},
     "output_type": "display_data"
    },
    {
     "data": {
      "text/html": [
       "Find logs at: <code>./wandb/run-20240220_100715-ppo_gi_next_1_0/logs</code>"
      ],
      "text/plain": [
       "<IPython.core.display.HTML object>"
      ]
     },
     "metadata": {},
     "output_type": "display_data"
    }
   ],
   "source": [
    "scenario_instance = build_scenario_instance(\n",
    "    params=params,\n",
    "    settings=settings,\n",
    ")"
   ]
  },
  {
   "cell_type": "code",
   "execution_count": 72,
   "metadata": {},
   "outputs": [],
   "source": [
    "verifier_body = scenario_instance.agents[\"verifier\"].body"
   ]
  },
  {
   "cell_type": "code",
   "execution_count": 73,
   "metadata": {},
   "outputs": [],
   "source": [
    "dataset = scenario_instance.train_dataset"
   ]
  },
  {
   "cell_type": "code",
   "execution_count": 74,
   "metadata": {},
   "outputs": [
    {
     "data": {
      "text/plain": [
       "GraphIsomorphismDataset(\n",
       "    fields={\n",
       "        adjacency: MemoryMappedTensor(shape=torch.Size([10000, 2, 11, 11]), device=cpu, dtype=torch.int32, is_shared=True),\n",
       "        node_mask: MemoryMappedTensor(shape=torch.Size([10000, 2, 11]), device=cpu, dtype=torch.bool, is_shared=True),\n",
       "        wl_score: MemoryMappedTensor(shape=torch.Size([10000]), device=cpu, dtype=torch.int32, is_shared=True),\n",
       "        x: MemoryMappedTensor(shape=torch.Size([10000, 2, 11, 8]), device=cpu, dtype=torch.float32, is_shared=True),\n",
       "        y: MemoryMappedTensor(shape=torch.Size([10000]), device=cpu, dtype=torch.int64, is_shared=True)},\n",
       "    batch_size=torch.Size([10000]),\n",
       "    device=None,\n",
       "    is_shared=False)"
      ]
     },
     "execution_count": 74,
     "metadata": {},
     "output_type": "execute_result"
    }
   ],
   "source": [
    "dataset"
   ]
  },
  {
   "cell_type": "code",
   "execution_count": 75,
   "metadata": {},
   "outputs": [
    {
     "data": {
      "text/plain": [
       "11"
      ]
     },
     "execution_count": 75,
     "metadata": {},
     "output_type": "execute_result"
    }
   ],
   "source": [
    "max_num_nodes = dataset[\"x\"].shape[-2]\n",
    "max_num_nodes"
   ]
  },
  {
   "cell_type": "markdown",
   "metadata": {},
   "source": [
    "## Looking at intermediate computations"
   ]
  },
  {
   "cell_type": "code",
   "execution_count": 76,
   "metadata": {},
   "outputs": [],
   "source": [
    "dataloader = DataLoader(\n",
    "    dataset=dataset,\n",
    "    batch_size=BATCH_SIZE,\n",
    "    generator=torch_generator,\n",
    ")"
   ]
  },
  {
   "cell_type": "code",
   "execution_count": 77,
   "metadata": {},
   "outputs": [],
   "source": [
    "statistic_collectors = {}"
   ]
  },
  {
   "cell_type": "code",
   "execution_count": 78,
   "metadata": {},
   "outputs": [],
   "source": [
    "statistic_collectors[\"gnn_output\"] = lambda storage: (\n",
    "    storage[\"gnn_output\"][:, 0].sum(dim=1) - storage[\"gnn_output\"][:, 1].sum(dim=1)\n",
    ").mean(dim=1)"
   ]
  },
  {
   "cell_type": "code",
   "execution_count": 79,
   "metadata": {},
   "outputs": [],
   "source": [
    "statistic_collectors[\"gnn_output_rounded\"] = lambda storage: (\n",
    "    storage[\"gnn_output_rounded\"][:, 0].sum(dim=1)\n",
    "    - storage[\"gnn_output_rounded\"][:, 1].sum(dim=1)\n",
    ").mean(dim=1)"
   ]
  },
  {
   "cell_type": "code",
   "execution_count": 80,
   "metadata": {},
   "outputs": [],
   "source": [
    "statistic_collectors[\"gnn_output_flatter\"] = lambda storage: (\n",
    "    storage[\"gnn_output_flatter\"][:, :max_num_nodes].sum(dim=1)\n",
    "    - storage[\"gnn_output_flatter\"][:, max_num_nodes:].sum(dim=1)\n",
    ").mean(dim=1)"
   ]
  },
  {
   "cell_type": "code",
   "execution_count": 81,
   "metadata": {},
   "outputs": [],
   "source": [
    "statistic_collectors[\"transformer_input_initial\"] = lambda storage: (\n",
    "    storage[\"transformer_input_initial\"][:, 2:max_num_nodes+2].sum(dim=1)\n",
    "    - storage[\"transformer_input_initial\"][:, max_num_nodes+2:].sum(dim=1)\n",
    ").mean(dim=1)"
   ]
  },
  {
   "cell_type": "code",
   "execution_count": 82,
   "metadata": {},
   "outputs": [],
   "source": [
    "statistic_collectors[\"transformer_input_pre_encoder\"] = lambda storage: (\n",
    "    storage[\"transformer_input_pre_encoder\"][:, 2:max_num_nodes+2].sum(dim=1)\n",
    "    - storage[\"transformer_input_pre_encoder\"][:, max_num_nodes+2:].sum(dim=1)\n",
    ").mean(dim=1)"
   ]
  },
  {
   "cell_type": "code",
   "execution_count": 83,
   "metadata": {},
   "outputs": [],
   "source": [
    "statistic_collectors[\"transformer_input\"] = lambda storage: (\n",
    "    storage[\"transformer_input\"][:, 2:max_num_nodes+2].sum(dim=1)\n",
    "    - storage[\"transformer_input\"][:, max_num_nodes+2:].sum(dim=1)\n",
    ").mean(dim=1)"
   ]
  },
  {
   "cell_type": "code",
   "execution_count": 84,
   "metadata": {},
   "outputs": [],
   "source": [
    "statistic_collectors[\"transformer_output_flatter\"] = lambda storage: (\n",
    "    storage[\"transformer_output_flatter\"][:, 2:max_num_nodes+2].sum(dim=1)\n",
    "    - storage[\"transformer_output_flatter\"][:, max_num_nodes+2:].sum(dim=1)\n",
    ").mean(dim=1)"
   ]
  },
  {
   "cell_type": "code",
   "execution_count": 85,
   "metadata": {},
   "outputs": [],
   "source": [
    "statistic_collectors[\"node_level_repr_pre_encoder\"] = lambda storage: (\n",
    "    storage[\"node_level_repr_pre_encoder\"][:, 0].sum(dim=1)\n",
    "    - storage[\"node_level_repr_pre_encoder\"][:, 1].sum(dim=1)\n",
    ").mean(dim=1)"
   ]
  },
  {
   "cell_type": "code",
   "execution_count": null,
   "metadata": {},
   "outputs": [],
   "source": [
    "statistic_collectors[\"node_level_repr\"] = lambda storage: (\n",
    "    storage[\"node_level_repr\"][:, 0].sum(dim=1)\n",
    "    - storage[\"node_level_repr\"][:, 1].sum(dim=1)\n",
    ").mean(dim=1)"
   ]
  },
  {
   "cell_type": "code",
   "execution_count": 86,
   "metadata": {},
   "outputs": [],
   "source": [
    "stats = {\n",
    "    key: np.empty(len(dataset), dtype=np.float32)\n",
    "    for key in statistic_collectors.keys()\n",
    "}"
   ]
  },
  {
   "cell_type": "code",
   "execution_count": 87,
   "metadata": {},
   "outputs": [],
   "source": [
    "storage = {}\n",
    "hooks = GraphIsomorphismAgentHooks.create_recorder_hooks(storage)"
   ]
  },
  {
   "cell_type": "code",
   "execution_count": 88,
   "metadata": {},
   "outputs": [
    {
     "name": "stderr",
     "output_type": "stream",
     "text": [
      "100%|██████████| 79/79 [00:00<00:00, 108.01it/s]\n"
     ]
    }
   ],
   "source": [
    "for i, batch in tqdm(enumerate(dataloader), total=len(dataloader)):\n",
    "    batch[\"message\"] = torch.zeros_like(batch[\"y\"])\n",
    "    batch[\"ignore_message\"] = torch.ones_like(batch[\"y\"], dtype=torch.bool)\n",
    "    verifier_body(batch, hooks)\n",
    "    for key, collector in statistic_collectors.items():\n",
    "        stats[key][i * BATCH_SIZE : (i + 1) * BATCH_SIZE] = (\n",
    "            collector(storage).detach().cpu().numpy()\n",
    "        )"
   ]
  },
  {
   "cell_type": "code",
   "execution_count": 89,
   "metadata": {},
   "outputs": [],
   "source": [
    "max_wl_score = torch.max(dataset[\"wl_score\"]).item()"
   ]
  },
  {
   "cell_type": "code",
   "execution_count": 90,
   "metadata": {},
   "outputs": [],
   "source": [
    "means = {}\n",
    "stds = {}\n",
    "raw_data = {}\n",
    "for wl_score in range(-1, max_wl_score + 1):\n",
    "    if wl_score not in dataset[\"wl_score\"]:\n",
    "        means[wl_score] = {key: np.nan for key in stats.keys()}\n",
    "        stds[wl_score] = {key: np.nan for key in stats.keys()}\n",
    "        raw_data[wl_score] = {key: np.empty(0, dtype=np.float32) for key in stats.keys()}\n",
    "        continue\n",
    "    mask = (dataset[\"wl_score\"] == wl_score).numpy()\n",
    "    means[wl_score] = {key: stats[key][mask].mean() for key in stats.keys()}\n",
    "    stds[wl_score] = {key: stats[key][mask].std() for key in stats.keys()}\n",
    "    raw_data[wl_score] = {key: stats[key][mask] for key in stats.keys()}"
   ]
  },
  {
   "cell_type": "code",
   "execution_count": 91,
   "metadata": {},
   "outputs": [
    {
     "data": {
      "text/html": [
       "<pre style=\"white-space:pre;overflow-x:auto;line-height:normal;font-family:Menlo,'DejaVu Sans Mono',consolas,'Courier New',monospace\">┏━━━━━━━┳━━━━━━━━━━━━┳━━━━━━━━━━━━┳━━━━━━━━━━━━┳━━━━━━━━━━━━┳━━━━━━━━━━━━━┳━━━━━━━━━━━━┳━━━━━━━━━━━━━┳━━━━━━━━━━━━┓\n",
       "┃<span style=\"font-weight: bold\"> Score </span>┃<span style=\"font-weight: bold\"> gnn_output </span>┃<span style=\"font-weight: bold\"> gnn_outpu… </span>┃<span style=\"font-weight: bold\"> gnn_outpu… </span>┃<span style=\"font-weight: bold\"> transform… </span>┃<span style=\"font-weight: bold\"> transforme… </span>┃<span style=\"font-weight: bold\"> transform… </span>┃<span style=\"font-weight: bold\"> transforme… </span>┃<span style=\"font-weight: bold\"> node_leve… </span>┃\n",
       "┡━━━━━━━╇━━━━━━━━━━━━╇━━━━━━━━━━━━╇━━━━━━━━━━━━╇━━━━━━━━━━━━╇━━━━━━━━━━━━━╇━━━━━━━━━━━━╇━━━━━━━━━━━━━╇━━━━━━━━━━━━┩\n",
       "│ -1    │ 0.0000     │ -0.0000    │ -0.0000    │ -0.0000    │ -0.0000     │ -0.0000    │ -0.0000     │ -0.0000    │\n",
       "│ 0     │ nan        │ nan        │ nan        │ nan        │ nan         │ nan        │ nan         │ nan        │\n",
       "│ 1     │ 0.0060     │ 0.0060     │ 0.0060     │ 0.0060     │ 0.0050      │ 0.0020     │ -0.0002     │ -0.0002    │\n",
       "│ 2     │ -0.0001    │ -0.0001    │ -0.0001    │ -0.0001    │ -0.0000     │ -0.0000    │ 0.0000      │ 0.0000     │\n",
       "│ 3     │ -0.0000    │ -0.0000    │ -0.0000    │ -0.0000    │ -0.0000     │ 0.0000     │ 0.0000      │ 0.0000     │\n",
       "│ 4     │ -0.0000    │ -0.0000    │ -0.0000    │ -0.0000    │ -0.0000     │ -0.0000    │ 0.0000      │ 0.0000     │\n",
       "│ 5     │ -0.0000    │ -0.0000    │ -0.0000    │ -0.0000    │ -0.0000     │ 0.0000     │ -0.0000     │ -0.0000    │\n",
       "└───────┴────────────┴────────────┴────────────┴────────────┴─────────────┴────────────┴─────────────┴────────────┘\n",
       "</pre>\n"
      ],
      "text/plain": [
       "┏━━━━━━━┳━━━━━━━━━━━━┳━━━━━━━━━━━━┳━━━━━━━━━━━━┳━━━━━━━━━━━━┳━━━━━━━━━━━━━┳━━━━━━━━━━━━┳━━━━━━━━━━━━━┳━━━━━━━━━━━━┓\n",
       "┃\u001b[1m \u001b[0m\u001b[1mScore\u001b[0m\u001b[1m \u001b[0m┃\u001b[1m \u001b[0m\u001b[1mgnn_output\u001b[0m\u001b[1m \u001b[0m┃\u001b[1m \u001b[0m\u001b[1mgnn_outpu…\u001b[0m\u001b[1m \u001b[0m┃\u001b[1m \u001b[0m\u001b[1mgnn_outpu…\u001b[0m\u001b[1m \u001b[0m┃\u001b[1m \u001b[0m\u001b[1mtransform…\u001b[0m\u001b[1m \u001b[0m┃\u001b[1m \u001b[0m\u001b[1mtransforme…\u001b[0m\u001b[1m \u001b[0m┃\u001b[1m \u001b[0m\u001b[1mtransform…\u001b[0m\u001b[1m \u001b[0m┃\u001b[1m \u001b[0m\u001b[1mtransforme…\u001b[0m\u001b[1m \u001b[0m┃\u001b[1m \u001b[0m\u001b[1mnode_leve…\u001b[0m\u001b[1m \u001b[0m┃\n",
       "┡━━━━━━━╇━━━━━━━━━━━━╇━━━━━━━━━━━━╇━━━━━━━━━━━━╇━━━━━━━━━━━━╇━━━━━━━━━━━━━╇━━━━━━━━━━━━╇━━━━━━━━━━━━━╇━━━━━━━━━━━━┩\n",
       "│ -1    │ 0.0000     │ -0.0000    │ -0.0000    │ -0.0000    │ -0.0000     │ -0.0000    │ -0.0000     │ -0.0000    │\n",
       "│ 0     │ nan        │ nan        │ nan        │ nan        │ nan         │ nan        │ nan         │ nan        │\n",
       "│ 1     │ 0.0060     │ 0.0060     │ 0.0060     │ 0.0060     │ 0.0050      │ 0.0020     │ -0.0002     │ -0.0002    │\n",
       "│ 2     │ -0.0001    │ -0.0001    │ -0.0001    │ -0.0001    │ -0.0000     │ -0.0000    │ 0.0000      │ 0.0000     │\n",
       "│ 3     │ -0.0000    │ -0.0000    │ -0.0000    │ -0.0000    │ -0.0000     │ 0.0000     │ 0.0000      │ 0.0000     │\n",
       "│ 4     │ -0.0000    │ -0.0000    │ -0.0000    │ -0.0000    │ -0.0000     │ -0.0000    │ 0.0000      │ 0.0000     │\n",
       "│ 5     │ -0.0000    │ -0.0000    │ -0.0000    │ -0.0000    │ -0.0000     │ 0.0000     │ -0.0000     │ -0.0000    │\n",
       "└───────┴────────────┴────────────┴────────────┴────────────┴─────────────┴────────────┴─────────────┴────────────┘\n"
      ]
     },
     "metadata": {},
     "output_type": "display_data"
    }
   ],
   "source": [
    "console = Console()\n",
    "\n",
    "table = Table()\n",
    "table.add_column(\"Score\")\n",
    "for key in stats.keys():\n",
    "    table.add_column(key)\n",
    "\n",
    "for key, mean, std in zip(means.keys(), means.values(), stds.values()):\n",
    "    table.add_row(str(key), *[f\"{mean[key]:.4f}\" for key in stats.keys()])\n",
    "\n",
    "console.print(table)\n"
   ]
  },
  {
   "cell_type": "code",
   "execution_count": 92,
   "metadata": {},
   "outputs": [
    {
     "data": {
      "application/vnd.plotly.v1+json": {
       "config": {
        "plotlyServerURL": "https://plot.ly"
       },
       "data": [
        {
         "error_y": {
          "array": [
           7.197532880809376e-8,
           null,
           0.12869276106357574,
           0.0016679175896570086,
           7.040914340450399e-8,
           6.880785008434032e-8,
           0
          ],
          "type": "data"
         },
         "type": "scatter",
         "x": [
          -1,
          0,
          1,
          2,
          3,
          4,
          5
         ],
         "y": [
          1.2907664936889773e-9,
          null,
          0.0059511796571314335,
          -0.00005483570566866547,
          -1.0877185818713997e-9,
          -1.13169802418156e-8,
          -1.5832483768463135e-8
         ]
        }
       ],
       "layout": {
        "template": {
         "data": {
          "bar": [
           {
            "error_x": {
             "color": "#2a3f5f"
            },
            "error_y": {
             "color": "#2a3f5f"
            },
            "marker": {
             "line": {
              "color": "#E5ECF6",
              "width": 0.5
             },
             "pattern": {
              "fillmode": "overlay",
              "size": 10,
              "solidity": 0.2
             }
            },
            "type": "bar"
           }
          ],
          "barpolar": [
           {
            "marker": {
             "line": {
              "color": "#E5ECF6",
              "width": 0.5
             },
             "pattern": {
              "fillmode": "overlay",
              "size": 10,
              "solidity": 0.2
             }
            },
            "type": "barpolar"
           }
          ],
          "carpet": [
           {
            "aaxis": {
             "endlinecolor": "#2a3f5f",
             "gridcolor": "white",
             "linecolor": "white",
             "minorgridcolor": "white",
             "startlinecolor": "#2a3f5f"
            },
            "baxis": {
             "endlinecolor": "#2a3f5f",
             "gridcolor": "white",
             "linecolor": "white",
             "minorgridcolor": "white",
             "startlinecolor": "#2a3f5f"
            },
            "type": "carpet"
           }
          ],
          "choropleth": [
           {
            "colorbar": {
             "outlinewidth": 0,
             "ticks": ""
            },
            "type": "choropleth"
           }
          ],
          "contour": [
           {
            "colorbar": {
             "outlinewidth": 0,
             "ticks": ""
            },
            "colorscale": [
             [
              0,
              "#0d0887"
             ],
             [
              0.1111111111111111,
              "#46039f"
             ],
             [
              0.2222222222222222,
              "#7201a8"
             ],
             [
              0.3333333333333333,
              "#9c179e"
             ],
             [
              0.4444444444444444,
              "#bd3786"
             ],
             [
              0.5555555555555556,
              "#d8576b"
             ],
             [
              0.6666666666666666,
              "#ed7953"
             ],
             [
              0.7777777777777778,
              "#fb9f3a"
             ],
             [
              0.8888888888888888,
              "#fdca26"
             ],
             [
              1,
              "#f0f921"
             ]
            ],
            "type": "contour"
           }
          ],
          "contourcarpet": [
           {
            "colorbar": {
             "outlinewidth": 0,
             "ticks": ""
            },
            "type": "contourcarpet"
           }
          ],
          "heatmap": [
           {
            "colorbar": {
             "outlinewidth": 0,
             "ticks": ""
            },
            "colorscale": [
             [
              0,
              "#0d0887"
             ],
             [
              0.1111111111111111,
              "#46039f"
             ],
             [
              0.2222222222222222,
              "#7201a8"
             ],
             [
              0.3333333333333333,
              "#9c179e"
             ],
             [
              0.4444444444444444,
              "#bd3786"
             ],
             [
              0.5555555555555556,
              "#d8576b"
             ],
             [
              0.6666666666666666,
              "#ed7953"
             ],
             [
              0.7777777777777778,
              "#fb9f3a"
             ],
             [
              0.8888888888888888,
              "#fdca26"
             ],
             [
              1,
              "#f0f921"
             ]
            ],
            "type": "heatmap"
           }
          ],
          "heatmapgl": [
           {
            "colorbar": {
             "outlinewidth": 0,
             "ticks": ""
            },
            "colorscale": [
             [
              0,
              "#0d0887"
             ],
             [
              0.1111111111111111,
              "#46039f"
             ],
             [
              0.2222222222222222,
              "#7201a8"
             ],
             [
              0.3333333333333333,
              "#9c179e"
             ],
             [
              0.4444444444444444,
              "#bd3786"
             ],
             [
              0.5555555555555556,
              "#d8576b"
             ],
             [
              0.6666666666666666,
              "#ed7953"
             ],
             [
              0.7777777777777778,
              "#fb9f3a"
             ],
             [
              0.8888888888888888,
              "#fdca26"
             ],
             [
              1,
              "#f0f921"
             ]
            ],
            "type": "heatmapgl"
           }
          ],
          "histogram": [
           {
            "marker": {
             "pattern": {
              "fillmode": "overlay",
              "size": 10,
              "solidity": 0.2
             }
            },
            "type": "histogram"
           }
          ],
          "histogram2d": [
           {
            "colorbar": {
             "outlinewidth": 0,
             "ticks": ""
            },
            "colorscale": [
             [
              0,
              "#0d0887"
             ],
             [
              0.1111111111111111,
              "#46039f"
             ],
             [
              0.2222222222222222,
              "#7201a8"
             ],
             [
              0.3333333333333333,
              "#9c179e"
             ],
             [
              0.4444444444444444,
              "#bd3786"
             ],
             [
              0.5555555555555556,
              "#d8576b"
             ],
             [
              0.6666666666666666,
              "#ed7953"
             ],
             [
              0.7777777777777778,
              "#fb9f3a"
             ],
             [
              0.8888888888888888,
              "#fdca26"
             ],
             [
              1,
              "#f0f921"
             ]
            ],
            "type": "histogram2d"
           }
          ],
          "histogram2dcontour": [
           {
            "colorbar": {
             "outlinewidth": 0,
             "ticks": ""
            },
            "colorscale": [
             [
              0,
              "#0d0887"
             ],
             [
              0.1111111111111111,
              "#46039f"
             ],
             [
              0.2222222222222222,
              "#7201a8"
             ],
             [
              0.3333333333333333,
              "#9c179e"
             ],
             [
              0.4444444444444444,
              "#bd3786"
             ],
             [
              0.5555555555555556,
              "#d8576b"
             ],
             [
              0.6666666666666666,
              "#ed7953"
             ],
             [
              0.7777777777777778,
              "#fb9f3a"
             ],
             [
              0.8888888888888888,
              "#fdca26"
             ],
             [
              1,
              "#f0f921"
             ]
            ],
            "type": "histogram2dcontour"
           }
          ],
          "mesh3d": [
           {
            "colorbar": {
             "outlinewidth": 0,
             "ticks": ""
            },
            "type": "mesh3d"
           }
          ],
          "parcoords": [
           {
            "line": {
             "colorbar": {
              "outlinewidth": 0,
              "ticks": ""
             }
            },
            "type": "parcoords"
           }
          ],
          "pie": [
           {
            "automargin": true,
            "type": "pie"
           }
          ],
          "scatter": [
           {
            "fillpattern": {
             "fillmode": "overlay",
             "size": 10,
             "solidity": 0.2
            },
            "type": "scatter"
           }
          ],
          "scatter3d": [
           {
            "line": {
             "colorbar": {
              "outlinewidth": 0,
              "ticks": ""
             }
            },
            "marker": {
             "colorbar": {
              "outlinewidth": 0,
              "ticks": ""
             }
            },
            "type": "scatter3d"
           }
          ],
          "scattercarpet": [
           {
            "marker": {
             "colorbar": {
              "outlinewidth": 0,
              "ticks": ""
             }
            },
            "type": "scattercarpet"
           }
          ],
          "scattergeo": [
           {
            "marker": {
             "colorbar": {
              "outlinewidth": 0,
              "ticks": ""
             }
            },
            "type": "scattergeo"
           }
          ],
          "scattergl": [
           {
            "marker": {
             "colorbar": {
              "outlinewidth": 0,
              "ticks": ""
             }
            },
            "type": "scattergl"
           }
          ],
          "scattermapbox": [
           {
            "marker": {
             "colorbar": {
              "outlinewidth": 0,
              "ticks": ""
             }
            },
            "type": "scattermapbox"
           }
          ],
          "scatterpolar": [
           {
            "marker": {
             "colorbar": {
              "outlinewidth": 0,
              "ticks": ""
             }
            },
            "type": "scatterpolar"
           }
          ],
          "scatterpolargl": [
           {
            "marker": {
             "colorbar": {
              "outlinewidth": 0,
              "ticks": ""
             }
            },
            "type": "scatterpolargl"
           }
          ],
          "scatterternary": [
           {
            "marker": {
             "colorbar": {
              "outlinewidth": 0,
              "ticks": ""
             }
            },
            "type": "scatterternary"
           }
          ],
          "surface": [
           {
            "colorbar": {
             "outlinewidth": 0,
             "ticks": ""
            },
            "colorscale": [
             [
              0,
              "#0d0887"
             ],
             [
              0.1111111111111111,
              "#46039f"
             ],
             [
              0.2222222222222222,
              "#7201a8"
             ],
             [
              0.3333333333333333,
              "#9c179e"
             ],
             [
              0.4444444444444444,
              "#bd3786"
             ],
             [
              0.5555555555555556,
              "#d8576b"
             ],
             [
              0.6666666666666666,
              "#ed7953"
             ],
             [
              0.7777777777777778,
              "#fb9f3a"
             ],
             [
              0.8888888888888888,
              "#fdca26"
             ],
             [
              1,
              "#f0f921"
             ]
            ],
            "type": "surface"
           }
          ],
          "table": [
           {
            "cells": {
             "fill": {
              "color": "#EBF0F8"
             },
             "line": {
              "color": "white"
             }
            },
            "header": {
             "fill": {
              "color": "#C8D4E3"
             },
             "line": {
              "color": "white"
             }
            },
            "type": "table"
           }
          ]
         },
         "layout": {
          "annotationdefaults": {
           "arrowcolor": "#2a3f5f",
           "arrowhead": 0,
           "arrowwidth": 1
          },
          "autotypenumbers": "strict",
          "coloraxis": {
           "colorbar": {
            "outlinewidth": 0,
            "ticks": ""
           }
          },
          "colorscale": {
           "diverging": [
            [
             0,
             "#8e0152"
            ],
            [
             0.1,
             "#c51b7d"
            ],
            [
             0.2,
             "#de77ae"
            ],
            [
             0.3,
             "#f1b6da"
            ],
            [
             0.4,
             "#fde0ef"
            ],
            [
             0.5,
             "#f7f7f7"
            ],
            [
             0.6,
             "#e6f5d0"
            ],
            [
             0.7,
             "#b8e186"
            ],
            [
             0.8,
             "#7fbc41"
            ],
            [
             0.9,
             "#4d9221"
            ],
            [
             1,
             "#276419"
            ]
           ],
           "sequential": [
            [
             0,
             "#0d0887"
            ],
            [
             0.1111111111111111,
             "#46039f"
            ],
            [
             0.2222222222222222,
             "#7201a8"
            ],
            [
             0.3333333333333333,
             "#9c179e"
            ],
            [
             0.4444444444444444,
             "#bd3786"
            ],
            [
             0.5555555555555556,
             "#d8576b"
            ],
            [
             0.6666666666666666,
             "#ed7953"
            ],
            [
             0.7777777777777778,
             "#fb9f3a"
            ],
            [
             0.8888888888888888,
             "#fdca26"
            ],
            [
             1,
             "#f0f921"
            ]
           ],
           "sequentialminus": [
            [
             0,
             "#0d0887"
            ],
            [
             0.1111111111111111,
             "#46039f"
            ],
            [
             0.2222222222222222,
             "#7201a8"
            ],
            [
             0.3333333333333333,
             "#9c179e"
            ],
            [
             0.4444444444444444,
             "#bd3786"
            ],
            [
             0.5555555555555556,
             "#d8576b"
            ],
            [
             0.6666666666666666,
             "#ed7953"
            ],
            [
             0.7777777777777778,
             "#fb9f3a"
            ],
            [
             0.8888888888888888,
             "#fdca26"
            ],
            [
             1,
             "#f0f921"
            ]
           ]
          },
          "colorway": [
           "#636efa",
           "#EF553B",
           "#00cc96",
           "#ab63fa",
           "#FFA15A",
           "#19d3f3",
           "#FF6692",
           "#B6E880",
           "#FF97FF",
           "#FECB52"
          ],
          "font": {
           "color": "#2a3f5f"
          },
          "geo": {
           "bgcolor": "white",
           "lakecolor": "white",
           "landcolor": "#E5ECF6",
           "showlakes": true,
           "showland": true,
           "subunitcolor": "white"
          },
          "hoverlabel": {
           "align": "left"
          },
          "hovermode": "closest",
          "mapbox": {
           "style": "light"
          },
          "paper_bgcolor": "white",
          "plot_bgcolor": "#E5ECF6",
          "polar": {
           "angularaxis": {
            "gridcolor": "white",
            "linecolor": "white",
            "ticks": ""
           },
           "bgcolor": "#E5ECF6",
           "radialaxis": {
            "gridcolor": "white",
            "linecolor": "white",
            "ticks": ""
           }
          },
          "scene": {
           "xaxis": {
            "backgroundcolor": "#E5ECF6",
            "gridcolor": "white",
            "gridwidth": 2,
            "linecolor": "white",
            "showbackground": true,
            "ticks": "",
            "zerolinecolor": "white"
           },
           "yaxis": {
            "backgroundcolor": "#E5ECF6",
            "gridcolor": "white",
            "gridwidth": 2,
            "linecolor": "white",
            "showbackground": true,
            "ticks": "",
            "zerolinecolor": "white"
           },
           "zaxis": {
            "backgroundcolor": "#E5ECF6",
            "gridcolor": "white",
            "gridwidth": 2,
            "linecolor": "white",
            "showbackground": true,
            "ticks": "",
            "zerolinecolor": "white"
           }
          },
          "shapedefaults": {
           "line": {
            "color": "#2a3f5f"
           }
          },
          "ternary": {
           "aaxis": {
            "gridcolor": "white",
            "linecolor": "white",
            "ticks": ""
           },
           "baxis": {
            "gridcolor": "white",
            "linecolor": "white",
            "ticks": ""
           },
           "bgcolor": "#E5ECF6",
           "caxis": {
            "gridcolor": "white",
            "linecolor": "white",
            "ticks": ""
           }
          },
          "title": {
           "x": 0.05
          },
          "xaxis": {
           "automargin": true,
           "gridcolor": "white",
           "linecolor": "white",
           "ticks": "",
           "title": {
            "standoff": 15
           },
           "zerolinecolor": "white",
           "zerolinewidth": 2
          },
          "yaxis": {
           "automargin": true,
           "gridcolor": "white",
           "linecolor": "white",
           "ticks": "",
           "title": {
            "standoff": 15
           },
           "zerolinecolor": "white",
           "zerolinewidth": 2
          }
         }
        },
        "title": {
         "text": "gnn_output_mean"
        },
        "xaxis": {
         "title": {
          "text": "wl_score"
         }
        },
        "yaxis": {
         "title": {
          "text": "Mean"
         }
        }
       }
      }
     },
     "metadata": {},
     "output_type": "display_data"
    }
   ],
   "source": [
    "gnn_output_mean = np.array([means[wl_score][\"gnn_output\"] for wl_score in range(-1, max_wl_score + 1)])\n",
    "gnn_output_std = np.array([stds[wl_score][\"gnn_output\"] for wl_score in range(-1, max_wl_score + 1)])\n",
    "x = list(range(-1, max_wl_score + 1))\n",
    "\n",
    "fig = go.Figure(data=go.Scatter(x=x, y=gnn_output_mean, error_y=dict(type='data', array=gnn_output_std)))\n",
    "fig.update_layout(title=\"gnn_output_mean\", xaxis_title=\"wl_score\", yaxis_title=\"Mean\")\n",
    "fig.show()"
   ]
  },
  {
   "cell_type": "code",
   "execution_count": 93,
   "metadata": {},
   "outputs": [
    {
     "data": {
      "application/vnd.plotly.v1+json": {
       "config": {
        "plotlyServerURL": "https://plot.ly"
       },
       "data": [
        {
         "error_y": {
          "array": [
           9.291346145801072e-7,
           null,
           0.12869587540626526,
           0.0016687362222000957,
           9.2623190539598e-7,
           7.631221023984835e-7,
           0
          ],
          "type": "data"
         },
         "type": "scatter",
         "x": [
          -1,
          0,
          1,
          2,
          3,
          4,
          5
         ],
         "y": [
          -2.2809343747098865e-8,
          null,
          0.00595213333144784,
          -0.000055815504310885444,
          -2.7767750321316953e-9,
          -9.428406144706969e-8,
          -3.5390257835388184e-8
         ]
        }
       ],
       "layout": {
        "template": {
         "data": {
          "bar": [
           {
            "error_x": {
             "color": "#2a3f5f"
            },
            "error_y": {
             "color": "#2a3f5f"
            },
            "marker": {
             "line": {
              "color": "#E5ECF6",
              "width": 0.5
             },
             "pattern": {
              "fillmode": "overlay",
              "size": 10,
              "solidity": 0.2
             }
            },
            "type": "bar"
           }
          ],
          "barpolar": [
           {
            "marker": {
             "line": {
              "color": "#E5ECF6",
              "width": 0.5
             },
             "pattern": {
              "fillmode": "overlay",
              "size": 10,
              "solidity": 0.2
             }
            },
            "type": "barpolar"
           }
          ],
          "carpet": [
           {
            "aaxis": {
             "endlinecolor": "#2a3f5f",
             "gridcolor": "white",
             "linecolor": "white",
             "minorgridcolor": "white",
             "startlinecolor": "#2a3f5f"
            },
            "baxis": {
             "endlinecolor": "#2a3f5f",
             "gridcolor": "white",
             "linecolor": "white",
             "minorgridcolor": "white",
             "startlinecolor": "#2a3f5f"
            },
            "type": "carpet"
           }
          ],
          "choropleth": [
           {
            "colorbar": {
             "outlinewidth": 0,
             "ticks": ""
            },
            "type": "choropleth"
           }
          ],
          "contour": [
           {
            "colorbar": {
             "outlinewidth": 0,
             "ticks": ""
            },
            "colorscale": [
             [
              0,
              "#0d0887"
             ],
             [
              0.1111111111111111,
              "#46039f"
             ],
             [
              0.2222222222222222,
              "#7201a8"
             ],
             [
              0.3333333333333333,
              "#9c179e"
             ],
             [
              0.4444444444444444,
              "#bd3786"
             ],
             [
              0.5555555555555556,
              "#d8576b"
             ],
             [
              0.6666666666666666,
              "#ed7953"
             ],
             [
              0.7777777777777778,
              "#fb9f3a"
             ],
             [
              0.8888888888888888,
              "#fdca26"
             ],
             [
              1,
              "#f0f921"
             ]
            ],
            "type": "contour"
           }
          ],
          "contourcarpet": [
           {
            "colorbar": {
             "outlinewidth": 0,
             "ticks": ""
            },
            "type": "contourcarpet"
           }
          ],
          "heatmap": [
           {
            "colorbar": {
             "outlinewidth": 0,
             "ticks": ""
            },
            "colorscale": [
             [
              0,
              "#0d0887"
             ],
             [
              0.1111111111111111,
              "#46039f"
             ],
             [
              0.2222222222222222,
              "#7201a8"
             ],
             [
              0.3333333333333333,
              "#9c179e"
             ],
             [
              0.4444444444444444,
              "#bd3786"
             ],
             [
              0.5555555555555556,
              "#d8576b"
             ],
             [
              0.6666666666666666,
              "#ed7953"
             ],
             [
              0.7777777777777778,
              "#fb9f3a"
             ],
             [
              0.8888888888888888,
              "#fdca26"
             ],
             [
              1,
              "#f0f921"
             ]
            ],
            "type": "heatmap"
           }
          ],
          "heatmapgl": [
           {
            "colorbar": {
             "outlinewidth": 0,
             "ticks": ""
            },
            "colorscale": [
             [
              0,
              "#0d0887"
             ],
             [
              0.1111111111111111,
              "#46039f"
             ],
             [
              0.2222222222222222,
              "#7201a8"
             ],
             [
              0.3333333333333333,
              "#9c179e"
             ],
             [
              0.4444444444444444,
              "#bd3786"
             ],
             [
              0.5555555555555556,
              "#d8576b"
             ],
             [
              0.6666666666666666,
              "#ed7953"
             ],
             [
              0.7777777777777778,
              "#fb9f3a"
             ],
             [
              0.8888888888888888,
              "#fdca26"
             ],
             [
              1,
              "#f0f921"
             ]
            ],
            "type": "heatmapgl"
           }
          ],
          "histogram": [
           {
            "marker": {
             "pattern": {
              "fillmode": "overlay",
              "size": 10,
              "solidity": 0.2
             }
            },
            "type": "histogram"
           }
          ],
          "histogram2d": [
           {
            "colorbar": {
             "outlinewidth": 0,
             "ticks": ""
            },
            "colorscale": [
             [
              0,
              "#0d0887"
             ],
             [
              0.1111111111111111,
              "#46039f"
             ],
             [
              0.2222222222222222,
              "#7201a8"
             ],
             [
              0.3333333333333333,
              "#9c179e"
             ],
             [
              0.4444444444444444,
              "#bd3786"
             ],
             [
              0.5555555555555556,
              "#d8576b"
             ],
             [
              0.6666666666666666,
              "#ed7953"
             ],
             [
              0.7777777777777778,
              "#fb9f3a"
             ],
             [
              0.8888888888888888,
              "#fdca26"
             ],
             [
              1,
              "#f0f921"
             ]
            ],
            "type": "histogram2d"
           }
          ],
          "histogram2dcontour": [
           {
            "colorbar": {
             "outlinewidth": 0,
             "ticks": ""
            },
            "colorscale": [
             [
              0,
              "#0d0887"
             ],
             [
              0.1111111111111111,
              "#46039f"
             ],
             [
              0.2222222222222222,
              "#7201a8"
             ],
             [
              0.3333333333333333,
              "#9c179e"
             ],
             [
              0.4444444444444444,
              "#bd3786"
             ],
             [
              0.5555555555555556,
              "#d8576b"
             ],
             [
              0.6666666666666666,
              "#ed7953"
             ],
             [
              0.7777777777777778,
              "#fb9f3a"
             ],
             [
              0.8888888888888888,
              "#fdca26"
             ],
             [
              1,
              "#f0f921"
             ]
            ],
            "type": "histogram2dcontour"
           }
          ],
          "mesh3d": [
           {
            "colorbar": {
             "outlinewidth": 0,
             "ticks": ""
            },
            "type": "mesh3d"
           }
          ],
          "parcoords": [
           {
            "line": {
             "colorbar": {
              "outlinewidth": 0,
              "ticks": ""
             }
            },
            "type": "parcoords"
           }
          ],
          "pie": [
           {
            "automargin": true,
            "type": "pie"
           }
          ],
          "scatter": [
           {
            "fillpattern": {
             "fillmode": "overlay",
             "size": 10,
             "solidity": 0.2
            },
            "type": "scatter"
           }
          ],
          "scatter3d": [
           {
            "line": {
             "colorbar": {
              "outlinewidth": 0,
              "ticks": ""
             }
            },
            "marker": {
             "colorbar": {
              "outlinewidth": 0,
              "ticks": ""
             }
            },
            "type": "scatter3d"
           }
          ],
          "scattercarpet": [
           {
            "marker": {
             "colorbar": {
              "outlinewidth": 0,
              "ticks": ""
             }
            },
            "type": "scattercarpet"
           }
          ],
          "scattergeo": [
           {
            "marker": {
             "colorbar": {
              "outlinewidth": 0,
              "ticks": ""
             }
            },
            "type": "scattergeo"
           }
          ],
          "scattergl": [
           {
            "marker": {
             "colorbar": {
              "outlinewidth": 0,
              "ticks": ""
             }
            },
            "type": "scattergl"
           }
          ],
          "scattermapbox": [
           {
            "marker": {
             "colorbar": {
              "outlinewidth": 0,
              "ticks": ""
             }
            },
            "type": "scattermapbox"
           }
          ],
          "scatterpolar": [
           {
            "marker": {
             "colorbar": {
              "outlinewidth": 0,
              "ticks": ""
             }
            },
            "type": "scatterpolar"
           }
          ],
          "scatterpolargl": [
           {
            "marker": {
             "colorbar": {
              "outlinewidth": 0,
              "ticks": ""
             }
            },
            "type": "scatterpolargl"
           }
          ],
          "scatterternary": [
           {
            "marker": {
             "colorbar": {
              "outlinewidth": 0,
              "ticks": ""
             }
            },
            "type": "scatterternary"
           }
          ],
          "surface": [
           {
            "colorbar": {
             "outlinewidth": 0,
             "ticks": ""
            },
            "colorscale": [
             [
              0,
              "#0d0887"
             ],
             [
              0.1111111111111111,
              "#46039f"
             ],
             [
              0.2222222222222222,
              "#7201a8"
             ],
             [
              0.3333333333333333,
              "#9c179e"
             ],
             [
              0.4444444444444444,
              "#bd3786"
             ],
             [
              0.5555555555555556,
              "#d8576b"
             ],
             [
              0.6666666666666666,
              "#ed7953"
             ],
             [
              0.7777777777777778,
              "#fb9f3a"
             ],
             [
              0.8888888888888888,
              "#fdca26"
             ],
             [
              1,
              "#f0f921"
             ]
            ],
            "type": "surface"
           }
          ],
          "table": [
           {
            "cells": {
             "fill": {
              "color": "#EBF0F8"
             },
             "line": {
              "color": "white"
             }
            },
            "header": {
             "fill": {
              "color": "#C8D4E3"
             },
             "line": {
              "color": "white"
             }
            },
            "type": "table"
           }
          ]
         },
         "layout": {
          "annotationdefaults": {
           "arrowcolor": "#2a3f5f",
           "arrowhead": 0,
           "arrowwidth": 1
          },
          "autotypenumbers": "strict",
          "coloraxis": {
           "colorbar": {
            "outlinewidth": 0,
            "ticks": ""
           }
          },
          "colorscale": {
           "diverging": [
            [
             0,
             "#8e0152"
            ],
            [
             0.1,
             "#c51b7d"
            ],
            [
             0.2,
             "#de77ae"
            ],
            [
             0.3,
             "#f1b6da"
            ],
            [
             0.4,
             "#fde0ef"
            ],
            [
             0.5,
             "#f7f7f7"
            ],
            [
             0.6,
             "#e6f5d0"
            ],
            [
             0.7,
             "#b8e186"
            ],
            [
             0.8,
             "#7fbc41"
            ],
            [
             0.9,
             "#4d9221"
            ],
            [
             1,
             "#276419"
            ]
           ],
           "sequential": [
            [
             0,
             "#0d0887"
            ],
            [
             0.1111111111111111,
             "#46039f"
            ],
            [
             0.2222222222222222,
             "#7201a8"
            ],
            [
             0.3333333333333333,
             "#9c179e"
            ],
            [
             0.4444444444444444,
             "#bd3786"
            ],
            [
             0.5555555555555556,
             "#d8576b"
            ],
            [
             0.6666666666666666,
             "#ed7953"
            ],
            [
             0.7777777777777778,
             "#fb9f3a"
            ],
            [
             0.8888888888888888,
             "#fdca26"
            ],
            [
             1,
             "#f0f921"
            ]
           ],
           "sequentialminus": [
            [
             0,
             "#0d0887"
            ],
            [
             0.1111111111111111,
             "#46039f"
            ],
            [
             0.2222222222222222,
             "#7201a8"
            ],
            [
             0.3333333333333333,
             "#9c179e"
            ],
            [
             0.4444444444444444,
             "#bd3786"
            ],
            [
             0.5555555555555556,
             "#d8576b"
            ],
            [
             0.6666666666666666,
             "#ed7953"
            ],
            [
             0.7777777777777778,
             "#fb9f3a"
            ],
            [
             0.8888888888888888,
             "#fdca26"
            ],
            [
             1,
             "#f0f921"
            ]
           ]
          },
          "colorway": [
           "#636efa",
           "#EF553B",
           "#00cc96",
           "#ab63fa",
           "#FFA15A",
           "#19d3f3",
           "#FF6692",
           "#B6E880",
           "#FF97FF",
           "#FECB52"
          ],
          "font": {
           "color": "#2a3f5f"
          },
          "geo": {
           "bgcolor": "white",
           "lakecolor": "white",
           "landcolor": "#E5ECF6",
           "showlakes": true,
           "showland": true,
           "subunitcolor": "white"
          },
          "hoverlabel": {
           "align": "left"
          },
          "hovermode": "closest",
          "mapbox": {
           "style": "light"
          },
          "paper_bgcolor": "white",
          "plot_bgcolor": "#E5ECF6",
          "polar": {
           "angularaxis": {
            "gridcolor": "white",
            "linecolor": "white",
            "ticks": ""
           },
           "bgcolor": "#E5ECF6",
           "radialaxis": {
            "gridcolor": "white",
            "linecolor": "white",
            "ticks": ""
           }
          },
          "scene": {
           "xaxis": {
            "backgroundcolor": "#E5ECF6",
            "gridcolor": "white",
            "gridwidth": 2,
            "linecolor": "white",
            "showbackground": true,
            "ticks": "",
            "zerolinecolor": "white"
           },
           "yaxis": {
            "backgroundcolor": "#E5ECF6",
            "gridcolor": "white",
            "gridwidth": 2,
            "linecolor": "white",
            "showbackground": true,
            "ticks": "",
            "zerolinecolor": "white"
           },
           "zaxis": {
            "backgroundcolor": "#E5ECF6",
            "gridcolor": "white",
            "gridwidth": 2,
            "linecolor": "white",
            "showbackground": true,
            "ticks": "",
            "zerolinecolor": "white"
           }
          },
          "shapedefaults": {
           "line": {
            "color": "#2a3f5f"
           }
          },
          "ternary": {
           "aaxis": {
            "gridcolor": "white",
            "linecolor": "white",
            "ticks": ""
           },
           "baxis": {
            "gridcolor": "white",
            "linecolor": "white",
            "ticks": ""
           },
           "bgcolor": "#E5ECF6",
           "caxis": {
            "gridcolor": "white",
            "linecolor": "white",
            "ticks": ""
           }
          },
          "title": {
           "x": 0.05
          },
          "xaxis": {
           "automargin": true,
           "gridcolor": "white",
           "linecolor": "white",
           "ticks": "",
           "title": {
            "standoff": 15
           },
           "zerolinecolor": "white",
           "zerolinewidth": 2
          },
          "yaxis": {
           "automargin": true,
           "gridcolor": "white",
           "linecolor": "white",
           "ticks": "",
           "title": {
            "standoff": 15
           },
           "zerolinecolor": "white",
           "zerolinewidth": 2
          }
         }
        },
        "title": {
         "text": "gnn_output_rounded_mean"
        },
        "xaxis": {
         "title": {
          "text": "wl_score"
         }
        },
        "yaxis": {
         "title": {
          "text": "Mean"
         }
        }
       }
      }
     },
     "metadata": {},
     "output_type": "display_data"
    }
   ],
   "source": [
    "gnn_output_rounded_mean = np.array([means[wl_score][\"gnn_output_rounded\"] for wl_score in range(-1, max_wl_score + 1)])\n",
    "gnn_output_rounded_std = np.array([stds[wl_score][\"gnn_output_rounded\"] for wl_score in range(-1, max_wl_score + 1)])\n",
    "x = list(range(-1, max_wl_score + 1))\n",
    "\n",
    "fig = go.Figure(data=go.Scatter(x=x, y=gnn_output_rounded_mean, error_y=dict(type='data', array=gnn_output_rounded_std)))\n",
    "fig.update_layout(title=\"gnn_output_rounded_mean\", xaxis_title=\"wl_score\", yaxis_title=\"Mean\")\n",
    "fig.show()"
   ]
  },
  {
   "cell_type": "code",
   "execution_count": 94,
   "metadata": {},
   "outputs": [
    {
     "data": {
      "application/vnd.plotly.v1+json": {
       "config": {
        "plotlyServerURL": "https://plot.ly"
       },
       "data": [
        {
         "error_y": {
          "array": [
           2.0584965909620223e-7,
           null,
           0.0027070052456110716,
           0.00017889153969008476,
           2.0568597847159253e-7,
           1.7865637857994443e-7,
           0
          ],
          "type": "data"
         },
         "type": "scatter",
         "x": [
          -1,
          0,
          1,
          2,
          3,
          4,
          5
         ],
         "y": [
          -5.8661213664379375e-9,
          null,
          -0.00016448955284431577,
          0.000004182763404969592,
          2.6093325278253587e-9,
          1.4738885667497925e-8,
          -1.2479722499847412e-7
         ]
        }
       ],
       "layout": {
        "template": {
         "data": {
          "bar": [
           {
            "error_x": {
             "color": "#2a3f5f"
            },
            "error_y": {
             "color": "#2a3f5f"
            },
            "marker": {
             "line": {
              "color": "#E5ECF6",
              "width": 0.5
             },
             "pattern": {
              "fillmode": "overlay",
              "size": 10,
              "solidity": 0.2
             }
            },
            "type": "bar"
           }
          ],
          "barpolar": [
           {
            "marker": {
             "line": {
              "color": "#E5ECF6",
              "width": 0.5
             },
             "pattern": {
              "fillmode": "overlay",
              "size": 10,
              "solidity": 0.2
             }
            },
            "type": "barpolar"
           }
          ],
          "carpet": [
           {
            "aaxis": {
             "endlinecolor": "#2a3f5f",
             "gridcolor": "white",
             "linecolor": "white",
             "minorgridcolor": "white",
             "startlinecolor": "#2a3f5f"
            },
            "baxis": {
             "endlinecolor": "#2a3f5f",
             "gridcolor": "white",
             "linecolor": "white",
             "minorgridcolor": "white",
             "startlinecolor": "#2a3f5f"
            },
            "type": "carpet"
           }
          ],
          "choropleth": [
           {
            "colorbar": {
             "outlinewidth": 0,
             "ticks": ""
            },
            "type": "choropleth"
           }
          ],
          "contour": [
           {
            "colorbar": {
             "outlinewidth": 0,
             "ticks": ""
            },
            "colorscale": [
             [
              0,
              "#0d0887"
             ],
             [
              0.1111111111111111,
              "#46039f"
             ],
             [
              0.2222222222222222,
              "#7201a8"
             ],
             [
              0.3333333333333333,
              "#9c179e"
             ],
             [
              0.4444444444444444,
              "#bd3786"
             ],
             [
              0.5555555555555556,
              "#d8576b"
             ],
             [
              0.6666666666666666,
              "#ed7953"
             ],
             [
              0.7777777777777778,
              "#fb9f3a"
             ],
             [
              0.8888888888888888,
              "#fdca26"
             ],
             [
              1,
              "#f0f921"
             ]
            ],
            "type": "contour"
           }
          ],
          "contourcarpet": [
           {
            "colorbar": {
             "outlinewidth": 0,
             "ticks": ""
            },
            "type": "contourcarpet"
           }
          ],
          "heatmap": [
           {
            "colorbar": {
             "outlinewidth": 0,
             "ticks": ""
            },
            "colorscale": [
             [
              0,
              "#0d0887"
             ],
             [
              0.1111111111111111,
              "#46039f"
             ],
             [
              0.2222222222222222,
              "#7201a8"
             ],
             [
              0.3333333333333333,
              "#9c179e"
             ],
             [
              0.4444444444444444,
              "#bd3786"
             ],
             [
              0.5555555555555556,
              "#d8576b"
             ],
             [
              0.6666666666666666,
              "#ed7953"
             ],
             [
              0.7777777777777778,
              "#fb9f3a"
             ],
             [
              0.8888888888888888,
              "#fdca26"
             ],
             [
              1,
              "#f0f921"
             ]
            ],
            "type": "heatmap"
           }
          ],
          "heatmapgl": [
           {
            "colorbar": {
             "outlinewidth": 0,
             "ticks": ""
            },
            "colorscale": [
             [
              0,
              "#0d0887"
             ],
             [
              0.1111111111111111,
              "#46039f"
             ],
             [
              0.2222222222222222,
              "#7201a8"
             ],
             [
              0.3333333333333333,
              "#9c179e"
             ],
             [
              0.4444444444444444,
              "#bd3786"
             ],
             [
              0.5555555555555556,
              "#d8576b"
             ],
             [
              0.6666666666666666,
              "#ed7953"
             ],
             [
              0.7777777777777778,
              "#fb9f3a"
             ],
             [
              0.8888888888888888,
              "#fdca26"
             ],
             [
              1,
              "#f0f921"
             ]
            ],
            "type": "heatmapgl"
           }
          ],
          "histogram": [
           {
            "marker": {
             "pattern": {
              "fillmode": "overlay",
              "size": 10,
              "solidity": 0.2
             }
            },
            "type": "histogram"
           }
          ],
          "histogram2d": [
           {
            "colorbar": {
             "outlinewidth": 0,
             "ticks": ""
            },
            "colorscale": [
             [
              0,
              "#0d0887"
             ],
             [
              0.1111111111111111,
              "#46039f"
             ],
             [
              0.2222222222222222,
              "#7201a8"
             ],
             [
              0.3333333333333333,
              "#9c179e"
             ],
             [
              0.4444444444444444,
              "#bd3786"
             ],
             [
              0.5555555555555556,
              "#d8576b"
             ],
             [
              0.6666666666666666,
              "#ed7953"
             ],
             [
              0.7777777777777778,
              "#fb9f3a"
             ],
             [
              0.8888888888888888,
              "#fdca26"
             ],
             [
              1,
              "#f0f921"
             ]
            ],
            "type": "histogram2d"
           }
          ],
          "histogram2dcontour": [
           {
            "colorbar": {
             "outlinewidth": 0,
             "ticks": ""
            },
            "colorscale": [
             [
              0,
              "#0d0887"
             ],
             [
              0.1111111111111111,
              "#46039f"
             ],
             [
              0.2222222222222222,
              "#7201a8"
             ],
             [
              0.3333333333333333,
              "#9c179e"
             ],
             [
              0.4444444444444444,
              "#bd3786"
             ],
             [
              0.5555555555555556,
              "#d8576b"
             ],
             [
              0.6666666666666666,
              "#ed7953"
             ],
             [
              0.7777777777777778,
              "#fb9f3a"
             ],
             [
              0.8888888888888888,
              "#fdca26"
             ],
             [
              1,
              "#f0f921"
             ]
            ],
            "type": "histogram2dcontour"
           }
          ],
          "mesh3d": [
           {
            "colorbar": {
             "outlinewidth": 0,
             "ticks": ""
            },
            "type": "mesh3d"
           }
          ],
          "parcoords": [
           {
            "line": {
             "colorbar": {
              "outlinewidth": 0,
              "ticks": ""
             }
            },
            "type": "parcoords"
           }
          ],
          "pie": [
           {
            "automargin": true,
            "type": "pie"
           }
          ],
          "scatter": [
           {
            "fillpattern": {
             "fillmode": "overlay",
             "size": 10,
             "solidity": 0.2
            },
            "type": "scatter"
           }
          ],
          "scatter3d": [
           {
            "line": {
             "colorbar": {
              "outlinewidth": 0,
              "ticks": ""
             }
            },
            "marker": {
             "colorbar": {
              "outlinewidth": 0,
              "ticks": ""
             }
            },
            "type": "scatter3d"
           }
          ],
          "scattercarpet": [
           {
            "marker": {
             "colorbar": {
              "outlinewidth": 0,
              "ticks": ""
             }
            },
            "type": "scattercarpet"
           }
          ],
          "scattergeo": [
           {
            "marker": {
             "colorbar": {
              "outlinewidth": 0,
              "ticks": ""
             }
            },
            "type": "scattergeo"
           }
          ],
          "scattergl": [
           {
            "marker": {
             "colorbar": {
              "outlinewidth": 0,
              "ticks": ""
             }
            },
            "type": "scattergl"
           }
          ],
          "scattermapbox": [
           {
            "marker": {
             "colorbar": {
              "outlinewidth": 0,
              "ticks": ""
             }
            },
            "type": "scattermapbox"
           }
          ],
          "scatterpolar": [
           {
            "marker": {
             "colorbar": {
              "outlinewidth": 0,
              "ticks": ""
             }
            },
            "type": "scatterpolar"
           }
          ],
          "scatterpolargl": [
           {
            "marker": {
             "colorbar": {
              "outlinewidth": 0,
              "ticks": ""
             }
            },
            "type": "scatterpolargl"
           }
          ],
          "scatterternary": [
           {
            "marker": {
             "colorbar": {
              "outlinewidth": 0,
              "ticks": ""
             }
            },
            "type": "scatterternary"
           }
          ],
          "surface": [
           {
            "colorbar": {
             "outlinewidth": 0,
             "ticks": ""
            },
            "colorscale": [
             [
              0,
              "#0d0887"
             ],
             [
              0.1111111111111111,
              "#46039f"
             ],
             [
              0.2222222222222222,
              "#7201a8"
             ],
             [
              0.3333333333333333,
              "#9c179e"
             ],
             [
              0.4444444444444444,
              "#bd3786"
             ],
             [
              0.5555555555555556,
              "#d8576b"
             ],
             [
              0.6666666666666666,
              "#ed7953"
             ],
             [
              0.7777777777777778,
              "#fb9f3a"
             ],
             [
              0.8888888888888888,
              "#fdca26"
             ],
             [
              1,
              "#f0f921"
             ]
            ],
            "type": "surface"
           }
          ],
          "table": [
           {
            "cells": {
             "fill": {
              "color": "#EBF0F8"
             },
             "line": {
              "color": "white"
             }
            },
            "header": {
             "fill": {
              "color": "#C8D4E3"
             },
             "line": {
              "color": "white"
             }
            },
            "type": "table"
           }
          ]
         },
         "layout": {
          "annotationdefaults": {
           "arrowcolor": "#2a3f5f",
           "arrowhead": 0,
           "arrowwidth": 1
          },
          "autotypenumbers": "strict",
          "coloraxis": {
           "colorbar": {
            "outlinewidth": 0,
            "ticks": ""
           }
          },
          "colorscale": {
           "diverging": [
            [
             0,
             "#8e0152"
            ],
            [
             0.1,
             "#c51b7d"
            ],
            [
             0.2,
             "#de77ae"
            ],
            [
             0.3,
             "#f1b6da"
            ],
            [
             0.4,
             "#fde0ef"
            ],
            [
             0.5,
             "#f7f7f7"
            ],
            [
             0.6,
             "#e6f5d0"
            ],
            [
             0.7,
             "#b8e186"
            ],
            [
             0.8,
             "#7fbc41"
            ],
            [
             0.9,
             "#4d9221"
            ],
            [
             1,
             "#276419"
            ]
           ],
           "sequential": [
            [
             0,
             "#0d0887"
            ],
            [
             0.1111111111111111,
             "#46039f"
            ],
            [
             0.2222222222222222,
             "#7201a8"
            ],
            [
             0.3333333333333333,
             "#9c179e"
            ],
            [
             0.4444444444444444,
             "#bd3786"
            ],
            [
             0.5555555555555556,
             "#d8576b"
            ],
            [
             0.6666666666666666,
             "#ed7953"
            ],
            [
             0.7777777777777778,
             "#fb9f3a"
            ],
            [
             0.8888888888888888,
             "#fdca26"
            ],
            [
             1,
             "#f0f921"
            ]
           ],
           "sequentialminus": [
            [
             0,
             "#0d0887"
            ],
            [
             0.1111111111111111,
             "#46039f"
            ],
            [
             0.2222222222222222,
             "#7201a8"
            ],
            [
             0.3333333333333333,
             "#9c179e"
            ],
            [
             0.4444444444444444,
             "#bd3786"
            ],
            [
             0.5555555555555556,
             "#d8576b"
            ],
            [
             0.6666666666666666,
             "#ed7953"
            ],
            [
             0.7777777777777778,
             "#fb9f3a"
            ],
            [
             0.8888888888888888,
             "#fdca26"
            ],
            [
             1,
             "#f0f921"
            ]
           ]
          },
          "colorway": [
           "#636efa",
           "#EF553B",
           "#00cc96",
           "#ab63fa",
           "#FFA15A",
           "#19d3f3",
           "#FF6692",
           "#B6E880",
           "#FF97FF",
           "#FECB52"
          ],
          "font": {
           "color": "#2a3f5f"
          },
          "geo": {
           "bgcolor": "white",
           "lakecolor": "white",
           "landcolor": "#E5ECF6",
           "showlakes": true,
           "showland": true,
           "subunitcolor": "white"
          },
          "hoverlabel": {
           "align": "left"
          },
          "hovermode": "closest",
          "mapbox": {
           "style": "light"
          },
          "paper_bgcolor": "white",
          "plot_bgcolor": "#E5ECF6",
          "polar": {
           "angularaxis": {
            "gridcolor": "white",
            "linecolor": "white",
            "ticks": ""
           },
           "bgcolor": "#E5ECF6",
           "radialaxis": {
            "gridcolor": "white",
            "linecolor": "white",
            "ticks": ""
           }
          },
          "scene": {
           "xaxis": {
            "backgroundcolor": "#E5ECF6",
            "gridcolor": "white",
            "gridwidth": 2,
            "linecolor": "white",
            "showbackground": true,
            "ticks": "",
            "zerolinecolor": "white"
           },
           "yaxis": {
            "backgroundcolor": "#E5ECF6",
            "gridcolor": "white",
            "gridwidth": 2,
            "linecolor": "white",
            "showbackground": true,
            "ticks": "",
            "zerolinecolor": "white"
           },
           "zaxis": {
            "backgroundcolor": "#E5ECF6",
            "gridcolor": "white",
            "gridwidth": 2,
            "linecolor": "white",
            "showbackground": true,
            "ticks": "",
            "zerolinecolor": "white"
           }
          },
          "shapedefaults": {
           "line": {
            "color": "#2a3f5f"
           }
          },
          "ternary": {
           "aaxis": {
            "gridcolor": "white",
            "linecolor": "white",
            "ticks": ""
           },
           "baxis": {
            "gridcolor": "white",
            "linecolor": "white",
            "ticks": ""
           },
           "bgcolor": "#E5ECF6",
           "caxis": {
            "gridcolor": "white",
            "linecolor": "white",
            "ticks": ""
           }
          },
          "title": {
           "x": 0.05
          },
          "xaxis": {
           "automargin": true,
           "gridcolor": "white",
           "linecolor": "white",
           "ticks": "",
           "title": {
            "standoff": 15
           },
           "zerolinecolor": "white",
           "zerolinewidth": 2
          },
          "yaxis": {
           "automargin": true,
           "gridcolor": "white",
           "linecolor": "white",
           "ticks": "",
           "title": {
            "standoff": 15
           },
           "zerolinecolor": "white",
           "zerolinewidth": 2
          }
         }
        },
        "title": {
         "text": "node_level_repr_pre_encoder_mean"
        },
        "xaxis": {
         "title": {
          "text": "wl_score"
         }
        },
        "yaxis": {
         "title": {
          "text": "Mean"
         }
        }
       }
      }
     },
     "metadata": {},
     "output_type": "display_data"
    }
   ],
   "source": [
    "node_level_repr_pre_encoder_mean = np.array([means[wl_score][\"node_level_repr_pre_encoder\"] for wl_score in range(-1, max_wl_score + 1)])\n",
    "node_level_repr_pre_encoder_std = np.array([stds[wl_score][\"node_level_repr_pre_encoder\"] for wl_score in range(-1, max_wl_score + 1)])\n",
    "x = list(range(-1, max_wl_score + 1))\n",
    "\n",
    "fig = go.Figure(data=go.Scatter(x=x, y=node_level_repr_pre_encoder_mean, error_y=dict(type='data', array=node_level_repr_pre_encoder_std)))\n",
    "fig.update_layout(title=\"node_level_repr_pre_encoder_mean\", xaxis_title=\"wl_score\", yaxis_title=\"Mean\")\n",
    "fig.show()"
   ]
  },
  {
   "cell_type": "code",
   "execution_count": 95,
   "metadata": {},
   "outputs": [
    {
     "data": {
      "text/plain": [
       "dict_keys([-1, 0, 1, 2, 3, 4, 5])"
      ]
     },
     "execution_count": 95,
     "metadata": {},
     "output_type": "execute_result"
    }
   ],
   "source": [
    "raw_data.keys()"
   ]
  },
  {
   "cell_type": "code",
   "execution_count": 100,
   "metadata": {},
   "outputs": [
    {
     "data": {
      "application/vnd.plotly.v1+json": {
       "config": {
        "plotlyServerURL": "https://plot.ly"
       },
       "data": [
        {
         "alignmentgroup": "True",
         "bingroup": "x",
         "hovertemplate": "variable=0<br>value=%{x}<br>count=%{y}<extra></extra>",
         "legendgroup": "0",
         "marker": {
          "color": "#636efa",
          "pattern": {
           "shape": ""
          }
         },
         "name": "0",
         "offsetgroup": "0",
         "orientation": "v",
         "showlegend": true,
         "type": "histogram",
         "x": [
          -5.587935447692871e-9,
          0,
          1.1175870895385742e-8,
          -4.470348358154297e-8,
          6.51925802230835e-9,
          -1.7695128917694092e-8,
          1.210719347000122e-8,
          2.7939677238464355e-9,
          -2.8870999813079834e-8,
          5.587935447692871e-9,
          1.7695128917694092e-8,
          -1.3969838619232178e-8,
          -5.587935447692871e-9,
          1.4901161193847656e-8,
          -1.7695128917694092e-8,
          3.632158041000366e-8,
          -3.725290298461914e-9,
          1.30385160446167e-8,
          3.725290298461914e-9,
          4.6566128730773926e-9,
          -3.632158041000366e-8,
          2.7939677238464355e-9,
          1.210719347000122e-8,
          2.1420419216156006e-8,
          9.313225746154785e-9,
          -2.1420419216156006e-8,
          -2.1420419216156006e-8,
          0,
          -3.4458935260772705e-8,
          0,
          3.725290298461914e-9,
          -4.6566128730773926e-9,
          9.313225746154785e-10,
          0,
          -3.166496753692627e-8,
          -3.725290298461914e-9,
          -3.725290298461914e-9,
          1.3969838619232178e-8,
          -3.725290298461914e-9,
          0,
          1.862645149230957e-9,
          1.0244548320770264e-8,
          -4.6566128730773926e-9,
          -7.450580596923828e-9,
          0,
          -1.3969838619232178e-8,
          -8.381903171539307e-9,
          -1.862645149230957e-9,
          8.381903171539307e-9,
          1.5832483768463135e-8,
          -2.60770320892334e-8,
          2.7939677238464355e-8,
          4.6566128730773926e-9,
          2.1420419216156006e-8,
          -3.725290298461914e-9,
          0,
          1.7695128917694092e-8,
          -1.5832483768463135e-8,
          9.313225746154785e-10,
          -2.7939677238464355e-9,
          -2.421438694000244e-8,
          -2.7008354663848877e-8,
          -1.955777406692505e-8,
          -3.725290298461914e-9,
          1.6763806343078613e-8,
          3.725290298461914e-9,
          4.470348358154297e-8,
          -2.1420419216156006e-8,
          3.3527612686157227e-8,
          -4.6566128730773926e-8,
          1.7695128917694092e-8,
          -9.313225746154785e-9,
          0,
          -1.210719347000122e-8,
          2.9802322387695312e-8,
          1.862645149230957e-8,
          -1.4901161193847656e-8,
          -1.30385160446167e-8,
          2.1420419216156006e-8,
          1.6763806343078613e-8,
          -2.3283064365386963e-8,
          2.7939677238464355e-8,
          1.955777406692505e-8,
          9.313225746154785e-9,
          1.4901161193847656e-8,
          -2.421438694000244e-8,
          -1.862645149230957e-8,
          -9.313225746154785e-10,
          1.1175870895385742e-8,
          0,
          -1.862645149230957e-8,
          4.6566128730773926e-9,
          -1.7695128917694092e-8,
          -6.51925802230835e-9,
          -1.862645149230957e-9,
          2.1420419216156006e-8,
          -3.725290298461914e-9,
          1.862645149230957e-8,
          -1.6763806343078613e-8,
          1.210719347000122e-8,
          3.725290298461914e-9,
          -1.0244548320770264e-8,
          1.4901161193847656e-8,
          0,
          -2.514570951461792e-8,
          0,
          7.450580596923828e-9,
          1.862645149230957e-8,
          0,
          0,
          -2.60770320892334e-8,
          -8.381903171539307e-9,
          -1.4901161193847656e-8,
          -2.1420419216156006e-8,
          -2.537854015827179e-8,
          -1.862645149230957e-9,
          1.4901161193847656e-8,
          8.195638656616211e-8,
          2.7939677238464355e-9,
          2.7939677238464355e-9,
          3.259629011154175e-8,
          2.421438694000244e-8,
          9.313225746154785e-10,
          3.725290298461914e-9,
          0,
          -1.862645149230957e-9,
          1.862645149230957e-9,
          -6.51925802230835e-9,
          -8.381903171539307e-9,
          -2.421438694000244e-8,
          -9.313225746154785e-10,
          1.0244548320770264e-8,
          1.862645149230957e-8,
          4.6566128730773926e-9,
          1.4901161193847656e-8,
          -1.862645149230957e-9,
          -9.313225746154785e-10,
          0,
          -9.313225746154785e-10,
          5.587935447692871e-9,
          -2.514570951461792e-8,
          5.029141902923584e-8,
          5.494803190231323e-8,
          -6.51925802230835e-9,
          -2.3283064365386963e-8,
          -1.862645149230957e-9,
          -2.7939677238464355e-9,
          -3.725290298461914e-9,
          5.494803190231323e-8,
          0,
          0,
          8.381903171539307e-9,
          -3.725290298461914e-9,
          1.6763806343078613e-8,
          -2.514570951461792e-8,
          -2.7939677238464355e-9,
          5.774199962615967e-8,
          -1.0244548320770264e-8,
          -1.0244548320770264e-8,
          -4.6566128730773926e-9,
          3.166496753692627e-8,
          -3.818422555923462e-8,
          1.0244548320770264e-8,
          -2.2351741790771484e-8,
          -9.313225746154785e-9,
          3.725290298461914e-9,
          -1.7695128917694092e-8,
          2.7008354663848877e-8,
          -1.0244548320770264e-8,
          -6.51925802230835e-9,
          -1.4901161193847656e-8,
          -1.862645149230957e-9,
          7.450580596923828e-9,
          1.30385160446167e-8,
          2.3283064365386963e-8,
          5.587935447692871e-9,
          -2.1420419216156006e-8,
          6.51925802230835e-9,
          -2.0023435354232788e-8,
          -2.0489096641540527e-8,
          -2.421438694000244e-8,
          -3.026798367500305e-8,
          -1.909211277961731e-8,
          -9.313225746154785e-10,
          8.102506399154663e-8,
          1.5832483768463135e-8,
          5.3085386753082275e-8,
          -1.862645149230957e-9,
          -7.450580596923828e-9,
          -2.7939677238464355e-8,
          -6.332993507385254e-8,
          2.0489096641540527e-8,
          -9.313225746154785e-9,
          2.421438694000244e-8,
          -3.3527612686157227e-8,
          -1.3969838619232178e-9,
          5.960464477539063e-8,
          -2.9802322387695312e-8,
          7.450580596923828e-9,
          4.98257577419281e-8,
          -6.51925802230835e-9,
          -1.6763806343078613e-8,
          2.60770320892334e-8,
          1.1175870895385742e-8,
          3.725290298461914e-9,
          1.955777406692505e-8,
          -3.725290298461914e-8,
          -7.450580596923828e-9,
          -1.5366822481155396e-8,
          -4.7963112592697144e-8,
          0,
          5.774199962615967e-8,
          1.4435499906539917e-8,
          2.7939677238464355e-9,
          -2.8870999813079834e-8,
          -6.658956408500671e-8,
          -3.91155481338501e-8,
          3.818422555923462e-8,
          1.1175870895385742e-8,
          -4.237517714500427e-8,
          -9.313225746154785e-10,
          3.3527612686157227e-8,
          4.656612873077393e-10,
          2.60770320892334e-8,
          -2.8870999813079834e-8,
          -3.259629011154175e-8,
          6.51925802230835e-9,
          3.632158041000366e-8,
          0,
          -5.587935447692871e-9,
          -2.421438694000244e-8,
          -1.862645149230957e-8,
          7.450580596923828e-9,
          -1.862645149230957e-8,
          -1.909211277961731e-8,
          1.0663643479347229e-7,
          3.119930624961853e-8,
          4.470348358154297e-8,
          -1.1175870895385742e-8,
          2.7939677238464355e-8,
          3.585591912269592e-8,
          4.190951585769653e-8,
          9.313225746154785e-10,
          -9.313225746154785e-9,
          -1.3969838619232178e-8,
          5.820766091346741e-8,
          1.257285475730896e-8,
          -1.30385160446167e-8,
          -1.862645149230957e-9,
          9.313225746154785e-9,
          4.7497451305389404e-8,
          4.563480615615845e-8,
          2.2351741790771484e-8,
          -1.0244548320770264e-8,
          -2.7939677238464355e-9,
          -7.916241884231567e-9,
          3.725290298461914e-9,
          -1.5832483768463135e-8,
          3.958120942115784e-8,
          -2.2817403078079224e-8,
          1.862645149230957e-8,
          -5.587935447692871e-9,
          -4.6566128730773926e-9,
          1.4901161193847656e-8,
          -1.1175870895385742e-8,
          1.0244548320770264e-8,
          -1.6763806343078613e-8,
          2.8870999813079834e-8,
          9.313225746154785e-10,
          8.009374141693115e-8,
          5.029141902923584e-8,
          -4.6566128730773926e-8,
          2.7939677238464355e-9,
          -8.847564458847046e-9,
          1.4901161193847656e-8,
          5.774199962615967e-8,
          1.3969838619232178e-9,
          1.1175870895385742e-8,
          6.332993507385254e-8,
          -1.3969838619232178e-8,
          -1.1175870895385742e-8,
          2.514570951461792e-8,
          -1.0244548320770264e-8,
          2.2351741790771484e-8,
          -7.450580596923828e-9,
          2.421438694000244e-8,
          -5.960464477539063e-8,
          3.259629011154175e-8,
          -9.313225746154785e-9,
          -2.1420419216156006e-8,
          1.0244548320770264e-8,
          0,
          -2.7008354663848877e-8,
          8.521601557731628e-8,
          -9.313225746154785e-9,
          7.82310962677002e-8,
          -2.7939677238464355e-8,
          -3.5390257835388184e-8,
          -1.6763806343078613e-8,
          0,
          1.1175870895385742e-8,
          -1.0244548320770264e-8,
          1.210719347000122e-8,
          1.6763806343078613e-8,
          -7.031485438346863e-8,
          6.51925802230835e-8,
          -1.5832483768463135e-8,
          9.313225746154785e-9,
          -5.3551048040390015e-8,
          4.6566128730773926e-9,
          3.818422555923462e-8,
          -4.6566128730773926e-9,
          3.818422555923462e-8,
          -2.9802322387695312e-8,
          1.6763806343078613e-8,
          -1.862645149230957e-8,
          4.470348358154297e-8,
          -5.774199962615967e-8,
          -4.237517714500427e-8,
          3.91155481338501e-8,
          -3.4924596548080444e-8,
          4.470348358154297e-8,
          3.259629011154175e-8,
          -1.7695128917694092e-8,
          1.30385160446167e-8,
          5.3551048040390015e-8,
          -5.448237061500549e-8,
          2.0489096641540527e-8,
          -1.0244548320770264e-8,
          -1.3969838619232178e-8,
          3.725290298461914e-9,
          4.284083843231201e-8,
          6.51925802230835e-9,
          4.936009645462036e-8,
          -5.587935447692871e-9,
          -6.51925802230835e-9,
          3.771856427192688e-8,
          -1.0244548320770264e-8,
          1.3969838619232178e-8,
          -1.0244548320770264e-8,
          4.377216100692749e-8,
          1.3969838619232178e-8,
          -1.5832483768463135e-8,
          8.381903171539307e-9,
          -5.9138983488082886e-8,
          -6.612390279769897e-8,
          2.60770320892334e-8,
          -3.3993273973464966e-8,
          3.213062882423401e-8,
          -4.284083843231201e-8,
          1.6763806343078613e-8,
          1.7695128917694092e-8,
          0,
          -1.0151416063308716e-7,
          2.2351741790771484e-8,
          -2.468004822731018e-8,
          1.1175870895385742e-8,
          3.725290298461914e-9,
          1.1175870895385742e-8,
          -6.100162863731384e-8,
          -1.0896474123001099e-7,
          -5.4016709327697754e-8,
          -4.7497451305389404e-8,
          -4.0978193283081055e-8,
          3.259629011154175e-8,
          1.3969838619232178e-9,
          8.847564458847046e-8,
          1.1641532182693481e-8,
          -3.91155481338501e-8,
          6.798654794692993e-8,
          -1.955777406692505e-8,
          -4.6566128730773926e-9,
          -2.421438694000244e-8,
          -3.3527612686157227e-8,
          1.0244548320770264e-8,
          6.426125764846802e-8,
          2.421438694000244e-8,
          9.778887033462524e-9,
          -4.377216100692749e-8,
          3.818422555923462e-8,
          2.7939677238464355e-9,
          2.9802322387695312e-8,
          8.940696716308594e-8,
          -3.725290298461914e-9,
          6.984919309616089e-9,
          -4.563480615615845e-8,
          -2.3748725652694702e-8,
          3.3527612686157227e-8,
          4.842877388000488e-8,
          2.468004822731018e-8,
          6.705522537231445e-8,
          5.587935447692871e-9,
          -6.05359673500061e-8,
          1.3969838619232178e-9,
          1.909211277961731e-8,
          -2.0489096641540527e-8,
          5.21540641784668e-8,
          2.3748725652694702e-8,
          2.3283064365386963e-9,
          3.585591912269592e-8,
          8.847564458847046e-8,
          4.470348358154297e-8,
          -8.847564458847046e-9,
          3.4458935260772705e-8,
          7.450580596923828e-9,
          6.05359673500061e-8,
          -1.1827796697616577e-7,
          6.612390279769897e-8,
          -2.0489096641540527e-8,
          -5.122274160385132e-9,
          7.497146725654602e-8,
          -3.119930624961853e-8,
          -4.6566128730773926e-8,
          -1.30385160446167e-8,
          5.3085386753082275e-8,
          2.421438694000244e-8,
          -6.798654794692993e-8,
          -1.6763806343078613e-8,
          7.450580596923828e-9,
          -2.514570951461792e-8,
          -1.7695128917694092e-8,
          1.0523945093154907e-7,
          -7.916241884231567e-9,
          -1.1641532182693481e-8,
          -1.30385160446167e-8,
          -2.2817403078079224e-8,
          5.3551048040390015e-8,
          2.1420419216156006e-8,
          5.21540641784668e-8,
          2.1886080503463745e-8,
          2.0489096641540527e-8,
          2.421438694000244e-8,
          5.774199962615967e-8,
          -5.820766091346741e-8,
          1.4435499906539917e-8,
          5.8673322200775146e-8,
          -8.381903171539307e-9,
          4.842877388000488e-8,
          -1.862645149230957e-8,
          -3.259629011154175e-9,
          -9.313225746154785e-9,
          5.122274160385132e-8,
          4.423782229423523e-8,
          -1.862645149230957e-8,
          9.778887033462524e-9,
          1.5832483768463135e-8,
          9.313225746154785e-10,
          -1.862645149230957e-8,
          3.864988684654236e-8,
          3.3527612686157227e-8,
          -1.6298145055770874e-8,
          -1.30385160446167e-8,
          4.423782229423523e-8,
          -9.918585419654846e-8,
          -7.916241884231567e-8,
          5.681067705154419e-8,
          -1.7229467630386353e-8,
          2.60770320892334e-8,
          -2.2817403078079224e-8,
          3.3527612686157227e-8,
          -3.725290298461914e-8,
          5.587935447692871e-9,
          -2.7008354663848877e-8,
          -4.284083843231201e-8,
          9.313225746154785e-9,
          -3.725290298461914e-8,
          6.05359673500061e-8,
          -2.60770320892334e-8,
          -3.771856427192688e-8,
          -1.4901161193847656e-8,
          1.7229467630386353e-8,
          -1.5832483768463135e-8,
          -1.3969838619232178e-9,
          -4.6566128730773926e-8,
          -7.450580596923828e-9,
          -3.306195139884949e-8,
          4.6566128730773926e-9,
          1.257285475730896e-8,
          4.284083843231201e-8,
          2.7939677238464355e-9,
          4.0512531995773315e-8,
          -4.842877388000488e-8,
          1.7695128917694092e-8,
          2.0489096641540527e-8,
          3.67872416973114e-8,
          8.847564458847046e-8,
          -2.7939677238464355e-9,
          -9.313225746154785e-10,
          8.381903171539307e-9,
          -1.3504177331924438e-8,
          -6.612390279769897e-8,
          4.284083843231201e-8,
          2.1420419216156006e-8,
          -2.2351741790771484e-8,
          9.313225746154785e-9,
          4.6566128730773926e-9,
          -5.448237061500549e-8,
          -3.585591912269592e-8,
          4.377216100692749e-8,
          2.7939677238464355e-8,
          -5.21540641784668e-8,
          4.190951585769653e-8,
          -3.67872416973114e-8,
          -2.0489096641540527e-8,
          -1.3550743460655212e-7,
          3.958120942115784e-8,
          -1.5366822481155396e-8,
          2.7008354663848877e-8,
          9.778887033462524e-9,
          3.818422555923462e-8,
          -5.960464477539063e-8,
          -4.7031790018081665e-8,
          -2.60770320892334e-8,
          -3.771856427192688e-8,
          1.4901161193847656e-8,
          1.30385160446167e-8,
          9.313225746154785e-10,
          3.725290298461914e-9,
          -3.864988684654236e-8,
          2.3283064365386963e-8,
          5.168840289115906e-8,
          9.778887033462524e-8,
          5.122274160385132e-9,
          -1.3969838619232178e-8,
          -8.940696716308594e-8,
          2.6542693376541138e-8,
          -2.9336661100387573e-8,
          9.918585419654846e-8,
          -1.341104507446289e-7,
          4.842877388000488e-8,
          -4.936009645462036e-8,
          9.778887033462524e-9,
          1.0570511221885681e-7,
          -1.955777406692505e-8,
          8.66129994392395e-8,
          3.958120942115784e-8,
          3.864988684654236e-8,
          1.802109181880951e-7,
          -1.4761462807655334e-7,
          3.91155481338501e-8,
          4.237517714500427e-8,
          -5.448237061500549e-8,
          6.938353180885315e-8,
          7.12461769580841e-8,
          5.8673322200775146e-8,
          -6.426125764846802e-8,
          -9.313225746154785e-9,
          -5.774199962615967e-8,
          4.563480615615845e-8,
          7.729977369308472e-8,
          -1.2479722499847412e-7,
          -3.3527612686157227e-8,
          7.310882210731506e-8,
          7.450580596923828e-9,
          2.561137080192566e-8,
          -1.3969838619232178e-9,
          1.2386590242385864e-7,
          -6.752088665962219e-8,
          -9.872019290924072e-8,
          -1.5273690223693848e-7,
          -4.516914486885071e-8,
          -5.122274160385132e-9,
          -2.3283064365386963e-8,
          -6.05359673500061e-9,
          5.960464477539063e-8,
          4.0046870708465576e-8,
          -9.546056389808655e-8,
          -1.364387571811676e-7,
          2.7008354663848877e-8,
          4.237517714500427e-8,
          3.3993273973464966e-8,
          1.0710209608078003e-8,
          1.4435499906539917e-8,
          1.4062970876693726e-7,
          2.2817403078079224e-8,
          1.210719347000122e-7,
          -4.190951585769653e-9,
          2.0116567611694336e-7,
          -2.1094456315040588e-7,
          6.705522537231445e-8,
          -4.237517714500427e-8,
          -1.257285475730896e-8,
          5.122274160385132e-9,
          -1.30385160446167e-8,
          -1.862645149230957e-9,
          -8.847564458847046e-9,
          -2.7939677238464355e-9,
          -1.30385160446167e-8,
          1.1455267667770386e-7,
          -6.007030606269836e-8,
          3.818422555923462e-8,
          6.891787052154541e-8,
          -1.1222437024116516e-7,
          1.5320256352424622e-7,
          -2.0954757928848267e-8,
          -4.563480615615845e-8,
          -2.8870999813079834e-8,
          -6.565824151039124e-8,
          -1.210719347000122e-8,
          1.955777406692505e-8,
          2.0954757928848267e-8,
          8.009374141693115e-8,
          -1.816079020500183e-8,
          -3.4458935260772705e-8,
          1.1641532182693481e-8,
          -7.078051567077637e-8,
          2.2258609533309937e-7,
          1.210719347000122e-8,
          -1.7136335372924805e-7,
          1.30385160446167e-8,
          6.100162863731384e-8,
          -6.332993507385254e-8,
          -9.778887033462524e-8,
          -4.0978193283081055e-8,
          2.421438694000244e-8,
          -2.2817403078079224e-8,
          8.381903171539307e-9,
          7.497146725654602e-8,
          6.426125764846802e-8,
          -3.166496753692627e-8,
          -3.306195139884949e-8,
          1.1222437024116516e-7,
          1.5087425708770752e-7,
          -3.213062882423401e-8,
          3.119930624961853e-8,
          -7.497146725654602e-8,
          -1.3969838619232178e-9,
          -1.3597309589385986e-7,
          8.754432201385498e-8,
          -2.1420419216156006e-8,
          3.119930624961853e-8,
          -4.936009645462036e-8,
          1.3085082173347473e-7,
          -1.257285475730896e-8,
          -3.67872416973114e-8,
          -5.4016709327697754e-8,
          -3.119930624961853e-8,
          -4.656612873077393e-10,
          -7.450580596923828e-9,
          -6.193295121192932e-8,
          -1.4901161193847656e-8,
          1.1082738637924194e-7,
          -7.450580596923828e-9,
          -2.421438694000244e-8,
          -7.35744833946228e-8,
          3.632158041000366e-8,
          1.0104849934577942e-7,
          1.955777406692505e-8,
          -1.043081283569336e-7,
          -1.9744038581848145e-7,
          -7.962808012962341e-8,
          1.0058283805847168e-7,
          -2.0954757928848267e-8,
          -1.7695128917694092e-8,
          6.05359673500061e-9,
          -8.614733815193176e-8,
          -9.778887033462524e-8,
          4.6566128730773926e-8,
          1.30385160446167e-8,
          1.1175870895385742e-8,
          1.708976924419403e-7,
          6.193295121192932e-8,
          4.423782229423523e-8,
          -8.707866072654724e-8,
          8.987262845039368e-8,
          -1.3737007975578308e-7,
          -2.3283064365386963e-8,
          4.842877388000488e-8,
          1.3504177331924438e-8,
          -8.707866072654724e-8,
          1.1641532182693481e-7,
          -8.940696716308594e-8,
          6.05359673500061e-8,
          -4.0978193283081055e-8,
          8.242204785346985e-8,
          1.1129304766654968e-7,
          3.026798367500305e-8,
          1.3504177331924438e-8,
          -8.800998330116272e-8,
          -5.9138983488082886e-8,
          4.936009645462036e-8,
          6.239861249923706e-8,
          -2.514570951461792e-8,
          8.847564458847046e-9,
          -3.073364496231079e-8,
          5.494803190231323e-8,
          2.9336661100387573e-8,
          -6.984919309616089e-8,
          -7.450580596923828e-9,
          -1.6065314412117004e-8,
          -1.30385160446167e-8,
          -2.514570951461792e-8,
          6.05359673500061e-9,
          -2.7008354663848877e-8,
          1.6763806343078613e-8,
          -2.0489096641540527e-8,
          -1.4901161193847656e-8,
          -2.60770320892334e-8,
          -1.4668330550193787e-8,
          -3.655441105365753e-8,
          1.7695128917694092e-8,
          -1.862645149230957e-9,
          -7.450580596923828e-9,
          -1.792795956134796e-8,
          8.381903171539307e-9,
          -2.421438694000244e-8,
          6.51925802230835e-9,
          1.0943040251731873e-8,
          -2.2351741790771484e-8,
          5.587935447692871e-9,
          -7.450580596923828e-9,
          -2.7939677238464355e-9,
          -7.450580596923828e-8,
          -2.3283064365386963e-8,
          -2.60770320892334e-8,
          -2.2351741790771484e-8,
          -2.3283064365386963e-10,
          8.381903171539307e-9,
          1.862645149230957e-8,
          2.1420419216156006e-8,
          8.381903171539307e-9,
          1.4668330550193787e-8,
          -1.0710209608078003e-8,
          -9.313225746154785e-10,
          -4.7497451305389404e-8,
          2.7008354663848877e-8,
          2.2351741790771484e-8,
          1.30385160446167e-8,
          -1.955777406692505e-8,
          8.381903171539307e-9,
          -9.313225746154785e-9,
          -9.313225746154785e-9,
          -7.450580596923828e-9,
          -9.313225746154785e-10,
          6.51925802230835e-9,
          -3.958120942115784e-8,
          -1.3969838619232178e-8,
          2.7939677238464355e-8,
          3.958120942115784e-9,
          -2.1420419216156006e-8,
          9.778887033462524e-9,
          -9.313225746154785e-9,
          -5.960464477539063e-8,
          6.51925802230835e-9,
          -8.149072527885437e-9,
          1.30385160446167e-8,
          1.4901161193847656e-8,
          -1.862645149230957e-9,
          3.073364496231079e-8,
          -1.0244548320770264e-8,
          4.0978193283081055e-8,
          -1.5832483768463135e-8,
          -1.7229467630386353e-8,
          2.9802322387695312e-8,
          -8.847564458847046e-9,
          4.6566128730773926e-9,
          -2.2351741790771484e-8,
          4.0046870708465576e-8,
          8.381903171539307e-9,
          4.563480615615845e-8,
          -3.096647560596466e-8,
          -1.0244548320770264e-8,
          -1.30385160446167e-8,
          0,
          9.313225746154785e-10,
          -4.377216100692749e-8,
          -9.313225746154785e-10,
          7.450580596923828e-9,
          -2.0489096641540527e-8,
          2.8870999813079834e-8,
          -7.450580596923828e-9,
          -4.656612873077393e-10,
          1.3969838619232178e-8,
          -7.450580596923828e-9,
          -4.936009645462036e-8,
          2.3283064365386963e-8,
          3.026798367500305e-9,
          3.841705620288849e-8,
          -1.3737007975578308e-8,
          4.6566128730773926e-9,
          8.614733815193176e-9,
          0,
          -3.4458935260772705e-8,
          -4.563480615615845e-8,
          2.1420419216156006e-8,
          -1.5832483768463135e-8,
          3.259629011154175e-8,
          2.60770320892334e-8,
          -2.2118911147117615e-8,
          -1.30385160446167e-8,
          -5.587935447692871e-9,
          1.1175870895385742e-8,
          0,
          3.958120942115784e-9,
          -1.862645149230957e-9,
          -1.862645149230957e-9,
          2.0489096641540527e-8,
          -1.862645149230957e-8,
          -1.0244548320770264e-8,
          -7.683411240577698e-9,
          5.960464477539063e-8,
          7.2177499532699585e-9,
          -6.752088665962219e-9,
          5.587935447692871e-9,
          -7.450580596923828e-9,
          0,
          -2.7008354663848877e-8,
          1.5832483768463135e-8,
          -1.862645149230957e-8,
          1.1175870895385742e-8,
          4.6566128730773926e-9,
          -2.7939677238464355e-9,
          -1.1408701539039612e-8,
          9.313225746154785e-9,
          -3.725290298461914e-9,
          1.3504177331924438e-8,
          -2.7008354663848877e-8,
          6.51925802230835e-9,
          1.0710209608078003e-8,
          2.7008354663848877e-8,
          -7.683411240577698e-9,
          2.7939677238464355e-9,
          -7.450580596923828e-9,
          -1.30385160446167e-8,
          -6.51925802230835e-9,
          2.8870999813079834e-8,
          2.60770320892334e-8,
          9.313225746154785e-10,
          1.6065314412117004e-8,
          6.51925802230835e-9,
          -1.4901161193847656e-8,
          -1.30385160446167e-8,
          -3.5390257835388184e-8,
          1.1408701539039612e-8,
          1.3969838619232178e-8,
          -1.909211277961731e-8,
          2.7008354663848877e-8,
          1.6763806343078613e-8,
          5.4016709327697754e-8,
          2.7939677238464355e-9,
          -2.60770320892334e-8,
          -3.725290298461914e-9,
          -3.073364496231079e-8,
          -1.862645149230957e-8,
          3.91155481338501e-8,
          -2.7939677238464355e-8,
          2.60770320892334e-8,
          -1.862645149230957e-9,
          1.862645149230957e-9,
          -5.587935447692871e-9,
          1.6763806343078613e-8,
          -9.313225746154785e-9,
          1.7229467630386353e-8,
          -1.3969838619232178e-8,
          1.5832483768463135e-8,
          1.862645149230957e-9,
          -3.958120942115784e-9,
          7.450580596923828e-9,
          1.4901161193847656e-8,
          -6.51925802230835e-9,
          1.4901161193847656e-8,
          -1.257285475730896e-8,
          -2.7008354663848877e-8,
          1.862645149230957e-8,
          -4.470348358154297e-8,
          1.3969838619232178e-8,
          -2.1886080503463745e-8,
          -3.073364496231079e-8,
          2.0954757928848267e-8,
          -1.0244548320770264e-8,
          3.213062882423401e-8,
          7.450580596923828e-9,
          8.521601557731628e-8,
          4.0046870708465576e-8,
          2.6542693376541138e-8,
          4.7497451305389404e-8,
          6.05359673500061e-9,
          -1.862645149230957e-9,
          6.658956408500671e-8,
          -3.632158041000366e-8,
          -5.587935447692871e-9,
          9.313225746154785e-9,
          -1.4435499906539917e-8,
          1.4901161193847656e-8,
          5.168840289115906e-8,
          -4.470348358154297e-8,
          6.472691893577576e-8,
          -3.166496753692627e-8,
          2.60770320892334e-8,
          0,
          -4.6566128730773926e-9,
          3.166496753692627e-8,
          -1.3969838619232178e-9,
          -4.6566128730773926e-9,
          -3.119930624961853e-8,
          -5.122274160385132e-9,
          -5.8673322200775146e-8,
          -2.2817403078079224e-8,
          1.5832483768463135e-8,
          -7.078051567077637e-8,
          1.0710209608078003e-8,
          1.3969838619232178e-9,
          -1.0244548320770264e-8,
          3.3993273973464966e-8,
          -7.147900760173798e-8,
          -1.955777406692505e-8,
          -1.4901161193847656e-8,
          4.470348358154297e-8,
          9.313225746154785e-10,
          -2.0489096641540527e-8,
          -5.494803190231323e-8,
          -1.0244548320770264e-8,
          -1.0710209608078003e-8,
          -2.3748725652694702e-8,
          -2.3283064365386963e-8,
          4.1443854570388794e-8,
          6.51925802230835e-9,
          3.5390257835388184e-8,
          5.029141902923584e-8,
          6.658956408500671e-8,
          3.5390257835388184e-8,
          -2.3515895009040833e-8,
          1.3969838619232178e-8,
          -5.21540641784668e-8,
          -3.3527612686157227e-8,
          6.984919309616089e-9,
          9.313225746154785e-9,
          3.073364496231079e-8,
          1.4435499906539917e-8,
          1.862645149230957e-9,
          4.284083843231201e-8,
          -1.7695128917694092e-8,
          1.1175870895385742e-8,
          -6.51925802230835e-9,
          -3.213062882423401e-8,
          -1.3504177331924438e-8,
          -3.3527612686157227e-8,
          -9.313225746154785e-10,
          -2.561137080192566e-8,
          0,
          9.313225746154785e-10,
          -2.3283064365386963e-9,
          4.190951585769653e-9,
          -4.7031790018081665e-8,
          -8.987262845039368e-8,
          1.862645149230957e-8,
          1.862645149230957e-9,
          -9.685754776000977e-8,
          -4.6566128730773926e-9,
          -9.685754776000977e-8,
          -4.0978193283081055e-8,
          4.6566128730773926e-9,
          2.3283064365386963e-8,
          3.632158041000366e-8,
          2.3283064365386963e-8,
          1.1175870895385742e-8,
          -2.8870999813079834e-8,
          3.91155481338501e-8,
          9.220093488693237e-8,
          2.8870999813079834e-8,
          3.725290298461914e-9,
          7.636845111846924e-8,
          -9.313225746154785e-10,
          3.771856427192688e-8,
          -1.3969838619232178e-9,
          -8.381903171539307e-9,
          -2.7939677238464355e-8,
          4.190951585769653e-8,
          0,
          6.146728992462158e-8,
          0,
          -3.3993273973464966e-8,
          5.122274160385132e-8,
          -6.51925802230835e-8,
          2.60770320892334e-8,
          -3.166496753692627e-8,
          9.313225746154785e-9,
          5.541369318962097e-8,
          -4.936009645462036e-8,
          -2.9802322387695312e-8,
          1.3969838619232178e-8,
          3.608874976634979e-8,
          2.7939677238464355e-9,
          3.585591912269592e-8,
          2.9802322387695312e-8,
          -1.1641532182693481e-8,
          -6.984919309616089e-9,
          3.725290298461914e-9,
          3.818422555923462e-8,
          1.1175870895385742e-8,
          2.0954757928848267e-8,
          1.257285475730896e-7,
          3.632158041000366e-8,
          -9.685754776000977e-8,
          5.587935447692871e-8,
          -2.60770320892334e-8,
          6.891787052154541e-8,
          2.514570951461792e-8,
          2.7939677238464355e-9,
          8.381903171539307e-9,
          2.8870999813079834e-8,
          3.026798367500305e-8,
          3.725290298461914e-9,
          -7.450580596923828e-9,
          -4.470348358154297e-8,
          9.033828973770142e-8,
          -2.3981556296348572e-8,
          -3.864988684654236e-8,
          4.330649971961975e-8,
          4.563480615615845e-8,
          5.4016709327697754e-8,
          2.1886080503463745e-8,
          4.470348358154297e-8,
          3.4924596548080444e-8,
          2.60770320892334e-8,
          9.313225746154785e-9,
          5.587935447692871e-9,
          3.5390257835388184e-8,
          -3.4458935260772705e-8,
          -1.909211277961731e-8,
          -4.470348358154297e-8,
          5.774199962615967e-8,
          -3.725290298461914e-9,
          5.122274160385132e-9,
          2.7939677238464355e-9,
          -5.587935447692871e-9,
          4.6566128730773926e-9,
          2.7939677238464355e-8,
          -1.6577541828155518e-7,
          -9.499490261077881e-8,
          -4.6566128730773926e-9,
          9.778887033462524e-8,
          4.7963112592697144e-8,
          -3.073364496231079e-8,
          -5.029141902923584e-8,
          -4.6566128730773926e-9,
          3.073364496231079e-8,
          2.514570951461792e-8,
          -6.51925802230835e-9,
          -1.885928213596344e-8,
          2.2351741790771484e-8,
          -9.73232090473175e-8,
          -4.470348358154297e-8,
          -1.30385160446167e-8,
          1.2060627341270447e-7,
          4.842877388000488e-8,
          -9.313225746154785e-9,
          5.029141902923584e-8,
          -9.313225746154785e-9,
          -2.6542693376541138e-8,
          -3.91155481338501e-8,
          -5.587935447692871e-9,
          2.60770320892334e-8,
          -1.1548399925231934e-7,
          4.7031790018081665e-8,
          1.0523945093154907e-7,
          2.1420419216156006e-8,
          -4.377216100692749e-8,
          -2.1886080503463745e-8,
          -9.313225746154785e-8,
          -7.450580596923828e-9,
          -5.774199962615967e-8,
          1.3504177331924438e-8,
          4.470348358154297e-8,
          -6.705522537231445e-8,
          2.7008354663848877e-8,
          -8.288770914077759e-8,
          2.561137080192566e-8,
          -9.685754776000977e-8,
          -5.774199962615967e-8,
          6.51925802230835e-8,
          6.100162863731384e-8,
          -6.798654794692993e-8,
          1.5832483768463135e-7,
          4.7963112592697144e-8,
          2.2351741790771484e-8,
          -5.960464477539063e-8,
          -2.514570951461792e-8,
          1.3969838619232178e-8,
          9.313225746154785e-8,
          -5.122274160385132e-8,
          -1.2386590242385864e-7,
          6.146728992462158e-8,
          -6.426125764846802e-8,
          -2.514570951461792e-8,
          3.818422555923462e-8,
          -4.6566128730773926e-8,
          -2.0489096641540527e-8,
          -6.426125764846802e-8,
          -6.612390279769897e-8,
          -4.6566128730773926e-8,
          -6.658956408500671e-8,
          -4.563480615615845e-8,
          -1.601874828338623e-7,
          4.7031790018081665e-8,
          -1.1548399925231934e-7,
          -1.862645149230957e-8,
          -2.0954757928848267e-8,
          -8.009374141693115e-8,
          3.5390257835388184e-8,
          1.210719347000122e-8,
          -7.82310962677002e-8,
          1.3969838619232178e-8,
          5.587935447692871e-9,
          2.8405338525772095e-8,
          -1.5832483768463135e-8,
          9.313225746154785e-8,
          -9.220093488693237e-8,
          6.612390279769897e-8,
          -1.0710209608078003e-7,
          7.82310962677002e-8,
          -8.195638656616211e-8,
          -4.0046870708465576e-8,
          -8.381903171539307e-9,
          2.9802322387695312e-8,
          4.470348358154297e-8,
          2.421438694000244e-8,
          6.379559636116028e-8,
          -1.3969838619232178e-8,
          1.257285475730896e-8,
          1.6298145055770874e-8,
          -6.146728992462158e-8,
          -8.754432201385498e-8,
          1.862645149230957e-8,
          -1.862645149230957e-8,
          2.0023435354232788e-8,
          -2.3748725652694702e-8,
          8.009374141693115e-8,
          3.818422555923462e-8,
          -3.725290298461914e-8,
          -1.909211277961731e-8,
          -9.12696123123169e-8,
          2.561137080192566e-8,
          2.0209699869155884e-7,
          -9.033828973770142e-8,
          -1.4901161193847656e-8,
          -2.9802322387695312e-8,
          -8.847564458847046e-8,
          7.171183824539185e-8,
          3.632158041000366e-8,
          -5.21540641784668e-8,
          -5.960464477539063e-8,
          6.05359673500061e-9,
          2.3283064365386963e-8,
          4.190951585769653e-9,
          -7.59027898311615e-8,
          1.7695128917694092e-8,
          -4.656612873077393e-10,
          1.257285475730896e-8,
          -4.6566128730773926e-8,
          -7.82310962677002e-8,
          -8.568167686462402e-8,
          -3.771856427192688e-8,
          7.310882210731506e-8,
          -2.60770320892334e-8,
          5.587935447692871e-9,
          -9.313225746154785e-9,
          -2.60770320892334e-8,
          9.685754776000977e-8,
          5.029141902923584e-8,
          -8.847564458847046e-9,
          -4.0046870708465576e-8,
          -6.891787052154541e-8,
          3.073364496231079e-8,
          3.166496753692627e-8,
          -1.5832483768463135e-8,
          -2.1420419216156006e-8,
          -4.516914486885071e-8,
          -3.632158041000366e-8,
          -7.264316082000732e-8,
          4.6566128730773926e-8,
          -2.2351741790771484e-8,
          -2.7939677238464355e-9,
          -1.1175870895385742e-7,
          -4.842877388000488e-8,
          2.561137080192566e-8,
          -6.658956408500671e-8,
          6.28642737865448e-8,
          3.91155481338501e-8,
          3.4458935260772705e-8,
          -3.67872416973114e-8,
          -5.075708031654358e-8,
          1.862645149230957e-8,
          2.60770320892334e-8,
          3.213062882423401e-8,
          2.8405338525772095e-8,
          -3.632158041000366e-8,
          2.6542693376541138e-8,
          -3.818422555923462e-8,
          9.592622518539429e-8,
          8.288770914077759e-8,
          -4.0978193283081055e-8,
          9.313225746154785e-10,
          3.3527612686157227e-8,
          -6.239861249923706e-8,
          -4.470348358154297e-8,
          -1.7136335372924805e-7,
          5.21540641784668e-8,
          2.9802322387695312e-8,
          5.4016709327697754e-8,
          -2.2351741790771484e-8,
          -2.9802322387695312e-8,
          -1.30385160446167e-8,
          4.470348358154297e-8,
          7.450580596923828e-9,
          -3.725290298461914e-9,
          -5.960464477539063e-8,
          8.940696716308594e-8,
          1.0058283805847168e-7,
          -1.2293457984924316e-7,
          3.166496753692627e-8,
          2.2351741790771484e-8,
          6.146728992462158e-8,
          3.3527612686157227e-8,
          1.0058283805847168e-7,
          5.21540641784668e-8,
          6.146728992462158e-8,
          5.029141902923584e-8,
          0,
          3.3527612686157227e-8,
          1.6763806343078613e-8,
          5.029141902923584e-8,
          6.891787052154541e-8,
          -2.9802322387695312e-8,
          3.166496753692627e-8,
          4.842877388000488e-8,
          -1.3969838619232178e-8,
          -1.564621925354004e-7,
          -4.0978193283081055e-8,
          4.0978193283081055e-8,
          -6.891787052154541e-8,
          -4.284083843231201e-8,
          -2.7939677238464355e-8,
          3.166496753692627e-8,
          9.313225746154785e-8,
          -2.1420419216156006e-8,
          -8.195638656616211e-8,
          6.891787052154541e-8,
          5.587935447692871e-8,
          -1.1175870895385742e-8,
          7.264316082000732e-8,
          1.210719347000122e-8,
          -9.313225746154785e-9,
          3.3527612686157227e-8,
          -6.891787052154541e-8,
          1.043081283569336e-7,
          4.842877388000488e-8,
          -7.264316082000732e-8,
          -5.029141902923584e-8,
          -7.450580596923828e-9,
          7.078051567077637e-8,
          -2.60770320892334e-8,
          2.0489096641540527e-8,
          5.4016709327697754e-8,
          8.195638656616211e-8,
          2.9802322387695312e-8,
          -1.0058283805847168e-7,
          -1.862645149230957e-9,
          -1.4901161193847656e-8,
          -4.0978193283081055e-8,
          6.332993507385254e-8,
          -6.332993507385254e-8,
          -9.872019290924072e-8,
          1.0803341865539551e-7,
          2.60770320892334e-8,
          5.774199962615967e-8,
          -1.043081283569336e-7,
          8.568167686462402e-8,
          -1.0058283805847168e-7,
          -2.7939677238464355e-8,
          1.1175870895385742e-8,
          -8.009374141693115e-8,
          3.3527612686157227e-8,
          -3.5390257835388184e-8,
          -3.3527612686157227e-8,
          -7.450580596923828e-8,
          -1.1175870895385742e-8,
          -4.470348358154297e-8,
          -3.91155481338501e-8,
          -3.725290298461914e-9,
          -4.842877388000488e-8,
          -3.67872416973114e-8,
          -1.1175870895385742e-8,
          8.381903171539307e-8,
          -4.0978193283081055e-8,
          -2.7939677238464355e-8,
          -1.862645149230957e-9,
          7.450580596923828e-9,
          -6.146728992462158e-8,
          2.2351741790771484e-8,
          -6.705522537231445e-8,
          3.725290298461914e-9,
          1.5459954738616943e-7,
          3.725290298461914e-9,
          -6.891787052154541e-8,
          7.82310962677002e-8,
          3.725290298461914e-9,
          -8.754432201385498e-8,
          3.91155481338501e-8,
          -4.470348358154297e-8,
          -2.0489096641540527e-8,
          -2.0489096641540527e-8,
          1.1175870895385742e-8,
          1.30385160446167e-8,
          6.891787052154541e-8,
          6.332993507385254e-8,
          8.009374141693115e-8,
          -1.862645149230957e-9,
          1.862645149230957e-8,
          -1.1175870895385742e-8,
          1.1175870895385742e-8,
          3.3527612686157227e-8,
          1.5087425708770752e-7,
          -4.842877388000488e-8,
          3.3527612686157227e-8,
          3.5390257835388184e-8,
          -4.377216100692749e-8,
          8.568167686462402e-8,
          -1.6763806343078613e-8,
          -1.1175870895385742e-8,
          -2.7939677238464355e-8,
          2.2351741790771484e-8,
          1.0058283805847168e-7,
          6.332993507385254e-8,
          -1.4901161193847656e-8,
          -1.5925616025924683e-7,
          2.9802322387695312e-8,
          4.0978193283081055e-8,
          4.842877388000488e-8,
          1.0058283805847168e-7,
          5.774199962615967e-8,
          3.725290298461914e-9,
          -5.587935447692871e-8,
          -1.1175870895385742e-8,
          2.421438694000244e-8,
          -1.862645149230957e-9,
          -5.774199962615967e-8,
          2.60770320892334e-8,
          7.450580596923828e-8,
          -8.009374141693115e-8,
          -2.9802322387695312e-8,
          -9.12696123123169e-8,
          9.685754776000977e-8,
          -1.0989606380462646e-7,
          5.029141902923584e-8,
          -1.0244548320770264e-7,
          4.470348358154297e-8,
          -2.2351741790771484e-8,
          1.6763806343078613e-8,
          3.166496753692627e-8,
          1.1548399925231934e-7,
          2.60770320892334e-8,
          -1.0989606380462646e-7,
          2.421438694000244e-8,
          -2.9802322387695312e-8,
          -2.421438694000244e-8,
          -1.4156103134155273e-7,
          4.284083843231201e-8,
          7.82310962677002e-8,
          -1.862645149230957e-8,
          -4.470348358154297e-8,
          5.587935447692871e-8,
          1.1548399925231934e-7,
          -6.51925802230835e-8,
          -1.862645149230957e-8,
          5.587935447692871e-8,
          -1.210719347000122e-8,
          -6.51925802230835e-8,
          2.0489096641540527e-8,
          -1.0058283805847168e-7,
          3.725290298461914e-8,
          -8.381903171539307e-9,
          -6.332993507385254e-8,
          0,
          -5.029141902923584e-8,
          -4.377216100692749e-8,
          6.51925802230835e-9,
          -7.35744833946228e-8,
          2.2817403078079224e-8,
          -1.5366822481155396e-8,
          1.862645149230957e-9,
          -6.752088665962219e-9,
          -1.0710209608078003e-8,
          -4.6566128730773926e-8,
          -1.862645149230957e-8,
          0,
          1.862645149230957e-8,
          2.514570951461792e-8,
          5.587935447692871e-9,
          -2.60770320892334e-8,
          6.146728992462158e-8,
          -6.984919309616089e-9,
          1.30385160446167e-8,
          -2.0489096641540527e-8,
          1.3969838619232178e-8,
          1.4435499906539917e-8,
          3.4924596548080444e-8,
          2.0489096641540527e-8,
          -2.1420419216156006e-8,
          -4.190951585769653e-9,
          -3.748573362827301e-8,
          -1.3969838619232178e-8,
          -5.587935447692871e-9,
          1.4901161193847656e-8,
          -1.862645149230957e-9,
          1.955777406692505e-8,
          4.563480615615845e-8,
          -4.7730281949043274e-8,
          3.725290298461914e-8,
          -1.30385160446167e-8,
          4.563480615615845e-8,
          1.885928213596344e-8,
          -6.51925802230835e-9,
          2.514570951461792e-8,
          -2.7939677238464355e-9,
          -4.7497451305389404e-8,
          -2.2351741790771484e-8,
          -2.468004822731018e-8,
          -1.5366822481155396e-8,
          -2.468004822731018e-8,
          -1.5832483768463135e-8,
          -2.2817403078079224e-8,
          -3.725290298461914e-8,
          1.862645149230957e-9,
          -1.4901161193847656e-8,
          4.842877388000488e-8,
          -1.4901161193847656e-8,
          -1.862645149230957e-9,
          2.7939677238464355e-8,
          6.51925802230835e-8,
          -3.003515303134918e-8,
          1.1175870895385742e-8,
          -5.587935447692871e-9,
          -2.3981556296348572e-8,
          -9.313225746154785e-10,
          -5.122274160385132e-9,
          -8.381903171539307e-9,
          2.9802322387695312e-8,
          3.91155481338501e-8,
          -9.080395102500916e-9,
          1.3969838619232178e-9,
          0,
          1.210719347000122e-8,
          2.2351741790771484e-8,
          -1.30385160446167e-8,
          -3.818422555923462e-8,
          -3.5390257835388184e-8,
          -3.725290298461914e-9,
          3.958120942115784e-9,
          1.862645149230957e-8,
          -3.725290298461914e-9,
          -2.514570951461792e-8,
          4.190951585769653e-8,
          -1.4901161193847656e-8,
          -2.0489096641540527e-8,
          -1.6298145055770874e-8,
          -2.7939677238464355e-8,
          4.6566128730773926e-9,
          0,
          -1.862645149230957e-8,
          -4.6566128730773926e-9,
          -2.1420419216156006e-8,
          -1.1175870895385742e-8,
          -2.60770320892334e-8,
          -2.514570951461792e-8,
          -2.7939677238464355e-9,
          -1.0710209608078003e-8,
          3.725290298461914e-9,
          -1.30385160446167e-8,
          -1.0244548320770264e-8,
          -2.421438694000244e-8,
          1.4901161193847656e-8,
          -2.9336661100387573e-8,
          2.1420419216156006e-8,
          -1.862645149230957e-9,
          1.4668330550193787e-8,
          1.0244548320770264e-8,
          2.7939677238464355e-9,
          -1.816079020500183e-8,
          -7.450580596923828e-9,
          2.60770320892334e-8,
          1.30385160446167e-8,
          -4.819594323635101e-8,
          4.98257577419281e-8,
          1.862645149230957e-9,
          3.702007234096527e-8,
          -1.4901161193847656e-8,
          -3.5390257835388184e-8,
          -6.332993507385254e-8,
          4.563480615615845e-8,
          1.955777406692505e-8,
          5.122274160385132e-9,
          2.1420419216156006e-8,
          2.3283064365386963e-8,
          -4.423782229423523e-9,
          2.3748725652694702e-8,
          1.0244548320770264e-8,
          1.6763806343078613e-8,
          -4.563480615615845e-8,
          6.51925802230835e-8,
          2.7939677238464355e-9,
          -1.955777406692505e-8,
          1.909211277961731e-8,
          -3.073364496231079e-8,
          5.029141902923584e-8,
          -8.381903171539307e-9,
          -1.3969838619232178e-9,
          1.0244548320770264e-8,
          1.7695128917694092e-8,
          -1.4435499906539917e-8,
          3.026798367500305e-8,
          -6.51925802230835e-9,
          3.4924596548080444e-8,
          -2.3283064365386963e-8,
          2.3283064365386963e-8,
          1.0244548320770264e-8,
          -4.470348358154297e-8,
          4.563480615615845e-8,
          1.5832483768463135e-8,
          -1.4901161193847656e-8,
          1.210719347000122e-8,
          -2.7939677238464355e-8,
          4.470348358154297e-8,
          -4.284083843231201e-8,
          8.568167686462402e-8,
          -1.1641532182693481e-8,
          9.313225746154785e-10,
          -1.862645149230957e-8,
          -4.6566128730773926e-8,
          2.9802322387695312e-8,
          -2.7008354663848877e-8,
          -6.239861249923706e-8,
          0,
          -2.6542693376541138e-8,
          5.587935447692871e-9,
          6.612390279769897e-8,
          5.960464477539063e-8,
          -3.725290298461914e-9,
          8.800998330116272e-8,
          -4.423782229423523e-8,
          2.6542693376541138e-8,
          -2.60770320892334e-8,
          -1.792795956134796e-8,
          -5.122274160385132e-9,
          1.6763806343078613e-8,
          2.9802322387695312e-8,
          -8.149072527885437e-8,
          8.754432201385498e-8,
          -4.6566128730773926e-8,
          2.3748725652694702e-8,
          -1.7974525690078735e-7,
          -7.450580596923828e-9,
          2.3283064365386963e-8,
          9.313225746154785e-9,
          2.0489096641540527e-8,
          -9.778887033462524e-9,
          4.656612873077393e-10,
          4.6100467443466187e-8,
          -1.19674950838089e-7,
          1.955777406692505e-8,
          1.3969838619232178e-9,
          -2.3283064365386963e-9,
          -4.6566128730773926e-9,
          9.313225746154785e-9,
          -4.330649971961975e-8,
          1.1641532182693481e-8,
          3.259629011154175e-8,
          -9.452924132347107e-8,
          3.725290298461914e-9,
          1.210719347000122e-8,
          -6.05359673500061e-8,
          6.51925802230835e-9,
          -1.816079020500183e-8,
          -5.122274160385132e-8,
          7.450580596923828e-9,
          -1.3504177331924438e-8,
          -2.421438694000244e-8,
          -1.0244548320770264e-8,
          -1.862645149230957e-9,
          1.6763806343078613e-8,
          -4.237517714500427e-8,
          -1.5366822481155396e-8,
          -4.7031790018081665e-8,
          6.05359673500061e-8,
          -1.280568540096283e-8,
          -9.173527359962463e-8,
          3.3527612686157227e-8,
          -2.3283064365386963e-8,
          -8.754432201385498e-8,
          -2.9103830456733704e-8,
          1.4901161193847656e-8,
          -1.1641532182693481e-8,
          -3.5390257835388184e-8,
          5.3085386753082275e-8,
          -7.683411240577698e-9,
          -1.885928213596344e-8,
          -3.818422555923462e-8,
          6.51925802230835e-9,
          4.6566128730773926e-8,
          -1.0244548320770264e-8,
          -2.8870999813079834e-8,
          6.984919309616089e-9,
          1.5366822481155396e-8,
          6.05359673500061e-9,
          -2.421438694000244e-8,
          2.7939677238464355e-9,
          -1.3969838619232178e-8,
          0,
          -1.2712553143501282e-7,
          -6.332993507385254e-8,
          6.146728992462158e-8,
          4.330649971961975e-8,
          8.055940270423889e-8,
          2.468004822731018e-8,
          -5.587935447692871e-8,
          -1.564621925354004e-7,
          6.239861249923706e-8,
          -2.1886080503463745e-8,
          6.146728992462158e-8,
          -7.450580596923828e-9,
          6.752088665962219e-8,
          -2.7939677238464355e-8,
          2.60770320892334e-8,
          9.313225746154785e-10,
          -1.1175870895385742e-7,
          1.7229467630386353e-8,
          3.771856427192688e-8,
          -5.8673322200775146e-8,
          -6.05359673500061e-8,
          7.450580596923828e-9,
          5.21540641784668e-8,
          -1.30385160446167e-8,
          8.405186235904694e-8,
          -2.0023435354232788e-8,
          7.450580596923828e-9,
          7.450580596923828e-9,
          -5.960464477539063e-8,
          3.259629011154175e-9,
          -3.748573362827301e-8,
          9.220093488693237e-8,
          3.026798367500305e-9,
          1.30385160446167e-8,
          1.955777406692505e-8,
          -4.563480615615845e-8,
          -3.4458935260772705e-8,
          5.587935447692871e-9,
          3.725290298461914e-9,
          0,
          -2.2351741790771484e-8,
          -2.3283064365386963e-9,
          4.190951585769653e-9,
          1.210719347000122e-8,
          4.0978193283081055e-8,
          -1.3504177331924438e-8,
          -4.470348358154297e-8,
          -3.5390257835388184e-8,
          -6.379559636116028e-8,
          2.9802322387695312e-8,
          6.51925802230835e-8,
          -1.3969838619232178e-8,
          -6.51925802230835e-9,
          1.3969838619232178e-9,
          1.6763806343078613e-8,
          -3.725290298461914e-9,
          6.146728992462158e-8,
          -1.0244548320770264e-8,
          4.423782229423523e-8,
          3.864988684654236e-8,
          2.514570951461792e-8,
          6.51925802230835e-8,
          1.1175870895385742e-8,
          -7.450580596923828e-8,
          -1.6298145055770874e-8,
          3.91155481338501e-8,
          -2.3748725652694702e-8,
          6.146728992462158e-8,
          2.3283064365386963e-8,
          -8.335337042808533e-8,
          5.960464477539063e-8,
          -7.078051567077637e-8,
          3.5390257835388184e-8,
          1.6763806343078613e-8,
          -1.7229467630386353e-8,
          -6.51925802230835e-9,
          -3.91155481338501e-8,
          8.568167686462402e-8,
          4.6566128730773926e-9,
          3.3527612686157227e-8,
          9.313225746154785e-9,
          -6.193295121192932e-8,
          1.4901161193847656e-8,
          3.91155481338501e-8,
          1.862645149230957e-8,
          1.5832483768463135e-8,
          5.9138983488082886e-8,
          1.7695128917694092e-8,
          -7.450580596923828e-8,
          3.795139491558075e-8,
          2.3748725652694702e-8,
          4.6566128730773926e-8,
          -2.7939677238464355e-8,
          -2.7008354663848877e-8,
          -4.7497451305389404e-8,
          -5.587935447692871e-9,
          1.1175870895385742e-7,
          -2.514570951461792e-8,
          4.284083843231201e-8,
          3.3527612686157227e-8,
          -6.705522537231445e-8,
          4.284083843231201e-8,
          -1.0244548320770264e-7,
          1.2014061212539673e-7,
          2.8870999813079834e-8,
          -1.1175870895385742e-8,
          6.891787052154541e-8,
          -6.705522537231445e-8,
          -3.166496753692627e-8,
          -1.6298145055770874e-8,
          -3.725290298461914e-9,
          -1.862645149230957e-9,
          5.4016709327697754e-8,
          4.842877388000488e-8,
          5.960464477539063e-8,
          -4.0978193283081055e-8,
          -1.3969838619232178e-7,
          2.60770320892334e-8,
          -9.499490261077881e-8,
          -7.450580596923828e-8,
          1.5459954738616943e-7,
          -1.043081283569336e-7,
          8.568167686462402e-8,
          -6.332993507385254e-8,
          -7.962808012962341e-8,
          -3.725290298461914e-8,
          -1.2479722499847412e-7,
          9.313225746154785e-9,
          8.521601557731628e-8,
          2.3283064365386963e-8,
          -7.078051567077637e-8,
          1.30385160446167e-7,
          8.568167686462402e-8,
          4.563480615615845e-8,
          -6.705522537231445e-8,
          3.725290298461914e-8,
          -1.0989606380462646e-7,
          1.862645149230957e-8,
          -3.632158041000366e-8,
          1.4901161193847656e-8,
          1.862645149230957e-9,
          5.774199962615967e-8,
          3.91155481338501e-8,
          -3.3527612686157227e-8,
          3.725290298461914e-9,
          5.587935447692871e-8,
          -2.60770320892334e-8,
          1.30385160446167e-8,
          -1.30385160446167e-7,
          1.825392246246338e-7,
          -1.471489667892456e-7,
          -4.0978193283081055e-8,
          -3.91155481338501e-8,
          6.332993507385254e-8,
          -1.1920928955078125e-7,
          -1.1175870895385742e-8,
          6.705522537231445e-8,
          3.632158041000366e-8,
          5.21540641784668e-8,
          -1.862645149230957e-8,
          -3.5390257835388184e-8,
          -2.2351741790771484e-8,
          9.313225746154785e-9,
          -3.725290298461914e-8,
          -9.499490261077881e-8,
          1.5366822481155396e-8,
          -1.4435499906539917e-8,
          -4.0046870708465576e-8,
          -5.3085386753082275e-8,
          1.3923272490501404e-7,
          -2.7939677238464355e-8,
          2.7939677238464355e-8,
          6.705522537231445e-8,
          1.6763806343078613e-8,
          -5.8673322200775146e-8,
          -6.705522537231445e-8,
          -4.6566128730773926e-9,
          2.0489096641540527e-8,
          -1.1175870895385742e-8,
          -7.450580596923828e-9,
          -2.2351741790771484e-8,
          -5.8673322200775146e-8,
          1.210719347000122e-7,
          -2.0489096641540527e-8,
          3.3993273973464966e-8,
          1.1920928955078125e-7,
          5.960464477539063e-8,
          -2.60770320892334e-8,
          4.7031790018081665e-8,
          4.423782229423523e-8,
          1.4156103134155273e-7,
          -1.043081283569336e-7,
          -1.862645149230957e-8,
          7.264316082000732e-8,
          -1.1175870895385742e-8,
          4.6566128730773926e-9,
          9.685754776000977e-8,
          -9.313225746154785e-10,
          -1.6577541828155518e-7,
          -2.0954757928848267e-8,
          -2.7939677238464355e-9,
          6.332993507385254e-8,
          4.470348358154297e-8,
          3.5390257835388184e-8,
          -9.96515154838562e-8,
          -1.862645149230957e-8,
          3.5390257835388184e-8,
          -6.332993507385254e-8,
          -1.0710209608078003e-7,
          2.7008354663848877e-8,
          -5.681067705154419e-8,
          4.0978193283081055e-8,
          -5.8673322200775146e-8,
          6.332993507385254e-8,
          3.3527612686157227e-8,
          5.21540641784668e-8,
          -6.146728992462158e-8,
          5.029141902923584e-8,
          7.82310962677002e-8,
          1.3783574104309082e-7,
          2.1420419216156006e-8,
          9.499490261077881e-8,
          8.940696716308594e-8,
          3.3527612686157227e-8,
          -6.146728992462158e-8,
          9.685754776000977e-8,
          -7.450580596923828e-9,
          -3.725290298461914e-9,
          8.42846930027008e-8,
          -2.421438694000244e-8,
          9.313225746154785e-10,
          7.264316082000732e-8,
          7.916241884231567e-8,
          5.2619725465774536e-8,
          2.421438694000244e-8,
          9.406358003616333e-8,
          -7.82310962677002e-8,
          -4.377216100692749e-8,
          -7.636845111846924e-8,
          -1.862645149230957e-9,
          -3.725290298461914e-8,
          -7.450580596923828e-9,
          -1.0244548320770264e-8,
          -2.7939677238464355e-9,
          1.4901161193847656e-8,
          -5.587935447692871e-8,
          -2.9802322387695312e-8,
          3.725290298461914e-9,
          -4.842877388000488e-8,
          5.21540641784668e-8,
          3.3527612686157227e-8,
          -7.450580596923828e-9,
          -1.862645149230957e-8,
          -8.195638656616211e-8,
          -8.754432201385498e-8,
          -1.2293457984924316e-7,
          -3.632158041000366e-8,
          -3.3527612686157227e-8,
          8.009374141693115e-8,
          6.705522537231445e-8,
          4.0978193283081055e-8,
          8.940696716308594e-8,
          3.725290298461914e-8,
          1.2479722499847412e-7,
          -1.1920928955078125e-7,
          1.1548399925231934e-7,
          1.1175870895385742e-8,
          -9.872019290924072e-8,
          1.043081283569336e-7,
          1.1175870895385742e-8,
          -1.1175870895385742e-7,
          1.043081283569336e-7,
          4.470348358154297e-8,
          5.960464477539063e-8,
          -4.0978193283081055e-8,
          6.332993507385254e-8,
          -1.862645149230957e-8,
          -8.195638656616211e-8,
          -3.725290298461914e-9,
          4.842877388000488e-8,
          1.1175870895385742e-7,
          -9.313225746154785e-8,
          -1.7136335372924805e-7,
          9.685754776000977e-8,
          -9.313225746154785e-8,
          -2.2351741790771484e-8,
          3.3527612686157227e-8,
          -8.940696716308594e-8,
          5.960464477539063e-8,
          4.470348358154297e-8,
          -1.0803341865539551e-7,
          4.842877388000488e-8,
          -6.332993507385254e-8,
          -7.450580596923828e-9,
          -3.725290298461914e-8,
          -3.725290298461914e-8,
          1.5273690223693848e-7,
          -8.940696716308594e-8,
          -7.450580596923828e-9,
          -5.21540641784668e-8,
          -7.078051567077637e-8,
          -3.725290298461914e-9,
          8.195638656616211e-8,
          2.9802322387695312e-8,
          -1.4901161193847656e-8,
          -2.60770320892334e-8,
          -2.2351741790771484e-8,
          -4.470348358154297e-8,
          -1.341104507446289e-7,
          -7.450580596923828e-8,
          -9.313225746154785e-8,
          -2.60770320892334e-8,
          7.450580596923828e-8,
          1.2293457984924316e-7,
          1.7881393432617188e-7,
          -3.725290298461914e-8,
          1.2293457984924316e-7,
          4.842877388000488e-8,
          1.862645149230957e-8,
          -9.685754776000977e-8,
          1.1175870895385742e-7,
          -1.4528632164001465e-7,
          5.587935447692871e-8,
          -6.705522537231445e-8,
          5.960464477539063e-8,
          -4.0978193283081055e-8,
          -1.2293457984924316e-7,
          1.4901161193847656e-8,
          -8.940696716308594e-8,
          -1.6763806343078613e-7,
          4.470348358154297e-8,
          -7.450580596923828e-8,
          1.30385160446167e-7,
          -9.313225746154785e-8,
          -9.313225746154785e-8,
          -1.1175870895385742e-8,
          -1.862645149230957e-8,
          4.842877388000488e-8,
          7.82310962677002e-8,
          3.725290298461914e-8,
          -4.470348358154297e-8,
          4.842877388000488e-8,
          -1.564621925354004e-7,
          -2.9802322387695312e-8,
          1.3783574104309082e-7,
          -1.825392246246338e-7,
          -4.470348358154297e-8,
          2.2351741790771484e-8,
          2.2351741790771484e-8,
          -1.4901161193847656e-8,
          -5.960464477539063e-8,
          -2.9802322387695312e-8,
          0,
          6.705522537231445e-8,
          -1.4156103134155273e-7,
          0,
          -7.078051567077637e-8,
          2.2351741790771484e-8,
          1.862645149230957e-7,
          -8.940696716308594e-8,
          0,
          -7.450580596923828e-8,
          1.862645149230957e-8,
          -1.1175870895385742e-8,
          -8.940696716308594e-8,
          -5.21540641784668e-8,
          -4.842877388000488e-8,
          1.1175870895385742e-7,
          0,
          -2.2351741790771484e-8,
          1.4901161193847656e-8,
          1.2293457984924316e-7,
          -4.0978193283081055e-8,
          6.705522537231445e-8,
          8.940696716308594e-8,
          2.2351741790771484e-8,
          5.21540641784668e-8,
          -1.4901161193847656e-8,
          -7.82310962677002e-8,
          -2.1979212760925293e-7,
          1.30385160446167e-7,
          -4.470348358154297e-8,
          -9.313225746154785e-8,
          -1.1175870895385742e-8,
          3.725290298461914e-8,
          4.0978193283081055e-8,
          -5.21540641784668e-8,
          -4.0978193283081055e-8,
          -7.450580596923828e-9,
          1.0803341865539551e-7,
          -2.9802322387695312e-8,
          -6.332993507385254e-8,
          1.564621925354004e-7,
          -3.725290298461914e-8,
          8.568167686462402e-8,
          1.0058283805847168e-7,
          -4.0978193283081055e-8,
          1.4901161193847656e-8,
          -1.862645149230957e-8,
          7.450580596923828e-8,
          4.0978193283081055e-8,
          -1.043081283569336e-7,
          1.1175870895385742e-8,
          -7.450580596923828e-9,
          -1.341104507446289e-7,
          -4.470348358154297e-8,
          1.0803341865539551e-7,
          -1.4901161193847656e-8,
          2.2351741790771484e-8,
          4.470348358154297e-8,
          -5.960464477539063e-8,
          -4.0978193283081055e-8,
          5.960464477539063e-8,
          -6.332993507385254e-8,
          -2.9802322387695312e-8,
          2.60770320892334e-8,
          -2.9802322387695312e-8,
          -7.450580596923828e-8,
          -5.587935447692871e-8,
          2.9802322387695312e-8,
          -6.705522537231445e-8,
          6.146728992462158e-8,
          7.450580596923828e-9,
          -1.1175870895385742e-8,
          4.842877388000488e-8,
          -8.940696716308594e-8,
          5.960464477539063e-8,
          1.2665987014770508e-7,
          1.4901161193847656e-8,
          8.195638656616211e-8,
          4.842877388000488e-8,
          4.842877388000488e-8,
          2.2351741790771484e-8,
          -1.30385160446167e-7,
          -2.9802322387695312e-8,
          0,
          -2.2351741790771484e-8,
          4.0978193283081055e-8,
          1.1175870895385742e-7,
          -9.685754776000977e-8,
          -1.564621925354004e-7,
          -5.21540641784668e-8,
          -8.568167686462402e-8,
          7.450580596923828e-9,
          3.725290298461914e-8,
          2.0489096641540527e-8,
          1.0710209608078003e-8,
          -5.587935447692871e-9,
          3.725290298461914e-9,
          -9.313225746154785e-9,
          3.259629011154175e-9,
          -1.862645149230957e-9,
          -1.862645149230957e-9,
          0,
          -9.313225746154785e-9,
          1.4901161193847656e-8,
          -1.0244548320770264e-8,
          4.656612873077393e-10,
          5.960464477539063e-8,
          -5.122274160385132e-9,
          2.1420419216156006e-8,
          1.4901161193847656e-8,
          -3.725290298461914e-8,
          -4.0978193283081055e-8,
          -1.4901161193847656e-8,
          5.3085386753082275e-8,
          1.6763806343078613e-8,
          -3.958120942115784e-9,
          6.332993507385254e-8,
          -1.0710209608078003e-8,
          -4.190951585769653e-9,
          1.862645149230957e-8,
          3.3527612686157227e-8,
          1.862645149230957e-9,
          3.702007234096527e-8,
          3.073364496231079e-8,
          -6.51925802230835e-9,
          1.7695128917694092e-8,
          -5.587935447692871e-9,
          -7.450580596923828e-9,
          6.51925802230835e-9,
          5.587935447692871e-9,
          -1.3969838619232178e-8,
          -1.1175870895385742e-8,
          9.313225746154785e-10,
          -1.909211277961731e-8,
          -1.210719347000122e-8,
          -9.313225746154785e-10,
          1.862645149230957e-9,
          -4.819594323635101e-8,
          -7.264316082000732e-8,
          3.5390257835388184e-8,
          5.8906152844429016e-8,
          0,
          -4.190951585769653e-8,
          -3.259629011154175e-9,
          -1.6298145055770874e-8,
          2.7939677238464355e-8,
          2.9802322387695312e-8,
          -3.818422555923462e-8,
          -1.210719347000122e-8,
          2.60770320892334e-8,
          6.146728992462158e-8,
          -9.313225746154785e-9,
          -9.313225746154785e-9,
          -1.1292286217212677e-8,
          4.470348358154297e-8,
          -1.30385160446167e-8,
          7.916241884231567e-9,
          1.4435499906539917e-8,
          1.4901161193847656e-8,
          -2.1420419216156006e-8,
          -8.381903171539307e-9,
          -3.725290298461914e-9,
          -1.6763806343078613e-8,
          1.3969838619232178e-7,
          -1.4901161193847656e-8,
          -4.284083843231201e-8,
          5.587935447692871e-9,
          -1.6763806343078613e-8,
          -1.30385160446167e-8,
          -3.4458935260772705e-8,
          1.4901161193847656e-8,
          2.0489096641540527e-8,
          3.5390257835388184e-8,
          2.7939677238464355e-8,
          1.1175870895385742e-8,
          -2.60770320892334e-8,
          -1.862645149230957e-8,
          5.587935447692871e-9,
          -2.0954757928848267e-8,
          1.6763806343078613e-8,
          -1.7229467630386353e-8,
          3.725290298461914e-8,
          -2.9802322387695312e-8,
          5.587935447692871e-9,
          5.21540641784668e-8,
          -3.725290298461914e-9,
          -2.1886080503463745e-8,
          1.862645149230957e-9,
          1.8510036170482635e-8,
          -4.330649971961975e-8,
          -6.332993507385254e-8,
          2.0489096641540527e-8,
          -4.470348358154297e-8,
          2.9802322387695312e-8,
          -4.0978193283081055e-8,
          1.909211277961731e-8,
          -4.0978193283081055e-8,
          -3.3527612686157227e-8,
          -1.6763806343078613e-8,
          6.891787052154541e-8,
          3.585591912269592e-8,
          7.636845111846924e-8,
          4.563480615615845e-8,
          6.984919309616089e-8,
          1.3504177331924438e-8,
          1.4901161193847656e-8,
          -2.7939677238464355e-8,
          -3.67872416973114e-8,
          2.9802322387695312e-8,
          7.310882210731506e-8,
          4.284083843231201e-8,
          -7.450580596923828e-9,
          1.3969838619232178e-8,
          -1.6763806343078613e-8,
          -1.0244548320770264e-8,
          -6.705522537231445e-8,
          -2.7939677238464355e-8,
          3.166496753692627e-8,
          1.862645149230957e-8,
          -1.210719347000122e-8,
          7.450580596923828e-9,
          5.21540641784668e-8,
          -1.2689270079135895e-8,
          2.514570951461792e-8,
          2.60770320892334e-8,
          2.8870999813079834e-8,
          -6.51925802230835e-9,
          3.4924596548080444e-8,
          1.1175870895385742e-8,
          1.1175870895385742e-8,
          -5.587935447692871e-8,
          -2.7939677238464355e-8,
          -3.5390257835388184e-8,
          3.166496753692627e-8,
          4.284083843231201e-8,
          1.862645149230957e-8,
          2.2351741790771484e-8,
          1.1175870895385742e-8,
          2.421438694000244e-8,
          2.9802322387695312e-8,
          -3.0617229640483856e-8,
          4.912726581096649e-8,
          9.313225746154785e-10,
          1.862645149230957e-8,
          3.562308847904205e-8,
          3.725290298461914e-9,
          1.4901161193847656e-8,
          2.9802322387695312e-8,
          -1.3969838619232178e-8,
          3.5390257835388184e-8,
          3.213062882423401e-8,
          -2.2351741790771484e-8,
          2.2351741790771484e-8,
          -3.3993273973464966e-8,
          -2.9802322387695312e-8,
          -4.6566128730773926e-8,
          1.280568540096283e-8,
          -1.7229467630386353e-8,
          -5.587935447692871e-9,
          -1.5832483768463135e-8,
          1.7229467630386353e-8,
          -4.842877388000488e-8,
          -4.7963112592697144e-8,
          7.916241884231567e-8,
          8.009374141693115e-8,
          -1.0617077350616455e-7,
          -6.239861249923706e-8,
          -3.958120942115784e-8,
          -1.555308699607849e-7,
          -7.35744833946228e-8,
          1.3969838619232178e-8,
          2.8870999813079834e-8,
          -6.891787052154541e-8,
          -6.05359673500061e-9,
          4.7497451305389404e-8,
          1.1362135410308838e-7,
          7.683411240577698e-8,
          -5.122274160385132e-9,
          1.1734664440155029e-7,
          1.4901161193847656e-8,
          -1.862645149230957e-8,
          4.6566128730773926e-9,
          2.1886080503463745e-8,
          -5.122274160385132e-8,
          -3.91155481338501e-8,
          5.774199962615967e-8,
          4.0046870708465576e-8,
          -9.313225746154785e-9,
          1.0570511221885681e-7,
          8.381903171539307e-9,
          -3.864988684654236e-8,
          -4.0978193283081055e-8,
          -2.0489096641540527e-8,
          -7.82310962677002e-8,
          2.1420419216156006e-8,
          -9.499490261077881e-8,
          4.190951585769653e-9,
          3.3527612686157227e-8,
          5.960464477539063e-8,
          -2.1420419216156006e-8,
          4.284083843231201e-8,
          6.705522537231445e-8,
          -8.847564458847046e-9,
          -1.1175870895385742e-8,
          -7.078051567077637e-8,
          1.792795956134796e-8,
          -4.284083843231201e-8,
          -1.0244548320770264e-8,
          1.0244548320770264e-8,
          5.75091689825058e-8,
          2.7939677238464355e-9,
          9.685754776000977e-8,
          5.820766091346741e-8,
          2.421438694000244e-8,
          -1.7229467630386353e-8,
          4.377216100692749e-8,
          7.450580596923828e-9,
          -2.0954757928848267e-8,
          -5.029141902923584e-8,
          -1.30385160446167e-8,
          -3.608874976634979e-8,
          -1.6298145055770874e-8,
          2.2351741790771484e-8,
          -3.632158041000366e-8,
          3.3527612686157227e-8,
          3.026798367500305e-8,
          1.0989606380462646e-7,
          1.1175870895385742e-8,
          -3.67872416973114e-8,
          -2.7939677238464355e-9,
          -5.21540641784668e-8,
          3.259629011154175e-8,
          -5.168840289115906e-8,
          1.6158446669578552e-7,
          -6.845220923423767e-8,
          1.0803341865539551e-7,
          0,
          -8.847564458847046e-9,
          5.2619725465774536e-8,
          -5.029141902923584e-8,
          2.0489096641540527e-8,
          1.5832483768463135e-8,
          1.0244548320770264e-8,
          -8.381903171539307e-9,
          8.009374141693115e-8,
          -5.820766091346741e-8,
          -2.2817403078079224e-8,
          1.5832483768463135e-8,
          5.122274160385132e-8,
          1.1292286217212677e-7,
          -4.7963112592697144e-8,
          9.778887033462524e-9,
          3.771856427192688e-8,
          6.798654794692993e-8,
          -8.963979780673981e-8,
          2.2584572434425354e-8,
          -1.3504177331924438e-8,
          -1.30385160446167e-8,
          2.0489096641540527e-8,
          -2.468004822731018e-8,
          -3.632158041000366e-8,
          6.891787052154541e-8,
          -6.51925802230835e-9,
          -5.587935447692871e-9,
          1.0244548320770264e-8,
          -6.612390279769897e-8,
          -1.4901161193847656e-8,
          1.862645149230957e-7,
          -4.656612873077393e-10,
          6.100162863731384e-8,
          3.5390257835388184e-8,
          -8.847564458847046e-8,
          -1.2852251529693604e-7,
          6.658956408500671e-8,
          -6.891787052154541e-8,
          7.543712854385376e-8,
          5.587935447692871e-8,
          -3.864988684654236e-8,
          4.98257577419281e-8,
          -4.0046870708465576e-8,
          4.6566128730773926e-8,
          -1.494772732257843e-7,
          1.4901161193847656e-8,
          -9.266659617424011e-8,
          -5.634501576423645e-8,
          5.3551048040390015e-8,
          8.381903171539307e-8,
          -9.313225746154785e-10,
          -2.3283064365386963e-9,
          -1.4435499906539917e-8,
          4.190951585769653e-8,
          2.514570951461792e-8,
          -4.190951585769653e-8,
          4.377216100692749e-8,
          -7.35744833946228e-8,
          -3.818422555923462e-8,
          9.96515154838562e-8,
          -1.3504177331924438e-8,
          -3.958120942115784e-8,
          2.9336661100387573e-8,
          -1.6763806343078613e-8,
          4.0978193283081055e-8,
          -9.313225746154785e-9,
          3.91155481338501e-8,
          6.05359673500061e-8,
          6.05359673500061e-9,
          1.0244548320770264e-8,
          7.450580596923828e-9,
          -6.612390279769897e-8,
          -9.96515154838562e-8,
          -1.862645149230957e-9,
          1.1175870895385742e-8,
          -1.5832483768463135e-8,
          -1.6391277313232422e-7,
          -4.7031790018081665e-8,
          5.4016709327697754e-8,
          2.3283064365386963e-8,
          -1.0477378964424133e-7,
          1.0477378964424133e-7,
          3.67872416973114e-8,
          -1.555308699607849e-7,
          5.029141902923584e-8,
          1.30385160446167e-8,
          -7.543712854385376e-8,
          6.565824151039124e-8,
          -7.916241884231567e-9,
          -1.210719347000122e-7,
          -8.195638656616211e-8,
          7.450580596923828e-9,
          -1.6763806343078613e-8,
          4.377216100692749e-8,
          -3.4458935260772705e-8,
          6.239861249923706e-8,
          1.3969838619232178e-9,
          8.475035429000854e-8,
          9.313225746154785e-9,
          -1.2759119272232056e-7,
          -4.6566128730773926e-8,
          1.0058283805847168e-7,
          -5.960464477539063e-8,
          -6.705522537231445e-8,
          2.9802322387695312e-8,
          6.51925802230835e-8,
          -9.12696123123169e-8,
          1.30385160446167e-7,
          3.3527612686157227e-8,
          -1.862645149230957e-7,
          -6.146728992462158e-8,
          2.9802322387695312e-8,
          -7.450580596923828e-9,
          4.0978193283081055e-8,
          -5.587935447692871e-8,
          -7.078051567077637e-8,
          -5.587935447692871e-8,
          -5.587935447692871e-9,
          1.0058283805847168e-7,
          3.725290298461914e-8,
          -2.2351741790771484e-8,
          1.4901161193847656e-8,
          8.381903171539307e-8,
          -8.568167686462402e-8,
          5.587935447692871e-8,
          -1.1175870895385742e-8,
          1.2293457984924316e-7,
          7.450580596923828e-9,
          1.6577541828155518e-7,
          1.4901161193847656e-8,
          1.341104507446289e-7,
          -3.166496753692627e-8,
          1.3224780559539795e-7,
          1.862645149230957e-8,
          -6.51925802230835e-8,
          1.4901161193847656e-7,
          -2.9802322387695312e-8,
          -9.685754776000977e-8,
          -3.725290298461914e-8,
          8.195638656616211e-8,
          1.4156103134155273e-7,
          1.043081283569336e-7,
          1.862645149230957e-8,
          -9.313225746154785e-8,
          -1.3783574104309082e-7,
          -1.0058283805847168e-7,
          8.568167686462402e-8,
          -3.67872416973114e-8,
          -9.685754776000977e-8,
          3.166496753692627e-8,
          -1.601874828338623e-7,
          -3.725290298461914e-8,
          -1.4156103134155273e-7,
          -8.195638656616211e-8,
          -1.862645149230957e-8,
          -1.5273690223693848e-7,
          -9.685754776000977e-8,
          -3.725290298461914e-8,
          -1.1175870895385742e-7,
          -4.842877388000488e-8,
          -1.862645149230957e-8,
          -2.3469328880310059e-7,
          1.1548399925231934e-7,
          -1.0803341865539551e-7,
          -3.725290298461914e-9,
          -2.2351741790771484e-8,
          2.0116567611694336e-7,
          -1.30385160446167e-8,
          -4.6566128730773926e-8,
          1.862645149230957e-7,
          -7.078051567077637e-8,
          6.705522537231445e-8,
          -1.564621925354004e-7,
          5.4016709327697754e-8,
          1.4901161193847656e-7,
          -2.8870999813079834e-8,
          -1.043081283569336e-7,
          4.0978193283081055e-8,
          6.891787052154541e-8,
          -5.587935447692871e-8,
          -2.9802322387695312e-8,
          5.4016709327697754e-8,
          6.332993507385254e-8,
          1.043081283569336e-7,
          -7.264316082000732e-8,
          8.568167686462402e-8,
          2.0489096641540527e-8,
          1.1175870895385742e-8,
          1.2293457984924316e-7,
          1.862645149230957e-8,
          -4.0978193283081055e-8,
          4.6566128730773926e-8,
          4.470348358154297e-8,
          2.0489096641540527e-8,
          1.0989606380462646e-7,
          2.2351741790771484e-8,
          1.601874828338623e-7,
          8.195638656616211e-8,
          3.725290298461914e-9,
          2.60770320892334e-8,
          -1.862645149230957e-8,
          2.9802322387695312e-8,
          -1.4156103134155273e-7,
          -1.0244548320770264e-7,
          1.30385160446167e-8,
          0,
          1.862645149230957e-8,
          -1.1874362826347351e-7,
          -2.60770320892334e-8,
          4.470348358154297e-8,
          1.043081283569336e-7,
          -1.7881393432617188e-7,
          -1.1548399925231934e-7,
          1.4901161193847656e-8,
          -1.825392246246338e-7,
          1.4156103134155273e-7,
          -1.862645149230957e-9,
          -2.2351741790771484e-8,
          -1.1175870895385742e-7,
          -1.6205012798309326e-7,
          3.725290298461914e-9,
          1.1734664440155029e-7,
          1.7508864402770996e-7,
          -1.5273690223693848e-7,
          1.1548399925231934e-7,
          -2.9802322387695312e-8,
          -1.4156103134155273e-7,
          -3.725290298461914e-8,
          -9.685754776000977e-8,
          1.0803341865539551e-7,
          3.166496753692627e-8,
          7.264316082000732e-8,
          5.4016709327697754e-8,
          5.21540641784668e-8,
          -1.2665987014770508e-7,
          7.82310962677002e-8,
          7.82310962677002e-8,
          5.960464477539063e-8,
          -8.195638656616211e-8,
          -1.51805579662323e-7,
          -5.960464477539063e-8,
          -4.470348358154297e-8,
          -2.7939677238464355e-8,
          -9.499490261077881e-8,
          -3.3527612686157227e-8,
          1.2665987014770508e-7,
          -1.1082738637924194e-7,
          -1.862645149230957e-8,
          -1.862645149230957e-8,
          7.078051567077637e-8,
          -5.587935447692871e-9,
          2.421438694000244e-8,
          5.960464477539063e-8,
          -4.842877388000488e-8,
          5.21540641784668e-8,
          2.2724270820617676e-7,
          3.3527612686157227e-8,
          7.636845111846924e-8,
          4.0978193283081055e-8,
          -2.9802322387695312e-8,
          -5.494803190231323e-8,
          -6.332993507385254e-8,
          -9.685754776000977e-8,
          -8.940696716308594e-8,
          1.1175870895385742e-8,
          2.60770320892334e-8,
          -1.2665987014770508e-7,
          -1.0058283805847168e-7,
          -1.564621925354004e-7,
          6.332993507385254e-8,
          -1.4901161193847656e-8,
          -1.4901161193847656e-8,
          -5.21540641784668e-8,
          9.313225746154785e-9,
          -4.470348358154297e-8,
          -7.82310962677002e-8,
          -1.4901161193847656e-8,
          2.2724270820617676e-7,
          -1.5273690223693848e-7,
          -2.9802322387695312e-8,
          -3.3527612686157227e-8,
          0,
          1.2293457984924316e-7,
          -1.5273690223693848e-7,
          1.7136335372924805e-7,
          -1.341104507446289e-7,
          -7.450580596923828e-8,
          -3.725290298461914e-9,
          5.960464477539063e-8,
          -1.1175870895385742e-7,
          -2.2351741790771484e-7,
          -7.078051567077637e-8,
          7.450580596923828e-9,
          7.450580596923828e-9,
          -1.7508864402770996e-7,
          3.725290298461914e-9,
          -1.0803341865539551e-7,
          -4.842877388000488e-8,
          -2.9802322387695312e-8,
          1.043081283569336e-7,
          3.46451997756958e-7,
          8.940696716308594e-8,
          -1.3783574104309082e-7,
          -8.940696716308594e-8,
          1.1548399925231934e-7,
          2.4959444999694824e-7,
          1.0803341865539551e-7,
          -1.1920928955078125e-7,
          3.725290298461914e-8,
          4.842877388000488e-8,
          5.960464477539063e-8,
          -5.960464477539063e-8,
          -1.4528632164001465e-7,
          -2.2351741790771484e-8,
          -7.078051567077637e-8,
          -2.9802322387695312e-8,
          9.313225746154785e-8,
          7.450580596923828e-9,
          -6.705522537231445e-8,
          -1.3783574104309082e-7,
          1.862645149230957e-8,
          -1.30385160446167e-7,
          2.2351741790771484e-8,
          -2.9802322387695312e-8,
          8.195638656616211e-8,
          -1.6763806343078613e-7,
          -7.450580596923828e-8,
          -7.450580596923828e-8,
          -2.3469328880310059e-7,
          -9.685754776000977e-8,
          6.705522537231445e-8,
          1.862645149230957e-8,
          8.195638656616211e-8,
          -3.725290298461914e-8,
          1.1920928955078125e-7,
          -8.195638656616211e-8,
          -1.9744038581848145e-7,
          -1.825392246246338e-7,
          1.7508864402770996e-7,
          -1.862645149230957e-8,
          4.470348358154297e-8,
          -1.4901161193847656e-8,
          -6.332993507385254e-8,
          -1.4901161193847656e-8,
          -3.5390257835388184e-7,
          -2.9802322387695312e-8,
          0,
          -7.82310962677002e-8,
          1.5273690223693848e-7,
          -3.725290298461914e-9,
          -1.8998980522155762e-7,
          8.195638656616211e-8,
          -2.086162567138672e-7,
          7.450580596923828e-8,
          1.862645149230957e-7,
          -2.1979212760925293e-7,
          -3.3527612686157227e-8,
          -8.568167686462402e-8,
          2.4586915969848633e-7,
          -3.5390257835388184e-7,
          -6.332993507385254e-8,
          6.705522537231445e-8,
          3.3527612686157227e-8,
          1.4901161193847656e-8,
          -1.3783574104309082e-7,
          3.725290298461914e-9,
          2.2351741790771484e-8,
          -1.1920928955078125e-7,
          -7.450580596923828e-8,
          -8.568167686462402e-8,
          -1.4528632164001465e-7,
          -1.4156103134155273e-7,
          -1.1175870895385742e-7,
          4.842877388000488e-8,
          -4.842877388000488e-8,
          0,
          4.470348358154297e-8,
          7.078051567077637e-8,
          -5.21540641784668e-8,
          5.960464477539063e-8,
          4.0978193283081055e-8,
          -9.313225746154785e-8,
          -3.725290298461914e-8,
          1.862645149230957e-8,
          4.470348358154297e-8,
          -1.3783574104309082e-7,
          4.0978193283081055e-8,
          1.043081283569336e-7,
          1.4901161193847656e-8,
          1.30385160446167e-7,
          6.705522537231445e-8,
          2.3096799850463867e-7,
          1.8998980522155762e-7,
          -1.4901161193847656e-8,
          6.332993507385254e-8,
          -8.195638656616211e-8,
          -1.2665987014770508e-7,
          -4.470348358154297e-8,
          -8.195638656616211e-8,
          -7.078051567077637e-8,
          7.078051567077637e-8,
          1.601874828338623e-7,
          -9.685754776000977e-8,
          2.7939677238464355e-7,
          5.960464477539063e-8,
          -7.450580596923828e-9,
          -5.587935447692871e-8,
          1.1175870895385742e-7,
          -2.2351741790771484e-8,
          2.5331974029541016e-7,
          1.1548399925231934e-7,
          1.1548399925231934e-7,
          -1.30385160446167e-7,
          7.450580596923828e-8,
          4.470348358154297e-8,
          -9.313225746154785e-8,
          1.4156103134155273e-7,
          0,
          -2.384185791015625e-7,
          -1.9744038581848145e-7,
          -5.960464477539063e-8,
          1.341104507446289e-7,
          -1.043081283569336e-7,
          -1.30385160446167e-7,
          -1.601874828338623e-7,
          2.9802322387695312e-8,
          -2.2351741790771484e-8,
          -4.470348358154297e-8,
          4.0978193283081055e-8,
          -4.0978193283081055e-8,
          9.685754776000977e-8,
          -7.450580596923828e-8,
          2.2351741790771484e-8,
          -1.2293457984924316e-7,
          -8.940696716308594e-8,
          6.332993507385254e-8,
          -2.0489096641540527e-7,
          3.725290298461914e-9,
          1.2293457984924316e-7,
          1.1175870895385742e-8,
          4.842877388000488e-8,
          -1.601874828338623e-7,
          -6.705522537231445e-8,
          4.842877388000488e-8,
          1.1175870895385742e-8,
          8.568167686462402e-8,
          2.2351741790771484e-8,
          -1.4901161193847656e-8,
          -1.6763806343078613e-8,
          1.862645149230957e-8,
          -1.862645149230957e-8,
          2.7939677238464355e-9,
          4.0978193283081055e-8,
          6.891787052154541e-8,
          1.862645149230957e-8,
          -1.4435499906539917e-8,
          -4.842877388000488e-8,
          1.6298145055770874e-8,
          2.60770320892334e-8,
          -2.60770320892334e-8,
          -3.3527612686157227e-8,
          -5.21540641784668e-8,
          -2.9802322387695312e-8,
          -6.938353180885315e-8,
          5.704350769519806e-8,
          9.313225746154785e-9,
          1.1175870895385742e-8,
          -7.683411240577698e-9,
          -3.91155481338501e-8,
          3.5390257835388184e-8,
          -6.752088665962219e-8,
          -9.499490261077881e-8,
          5.587935447692871e-8,
          5.029141902923584e-8,
          5.587935447692871e-9,
          -2.0489096641540527e-8,
          -4.0978193283081055e-8,
          7.450580596923828e-9,
          -1.862645149230957e-8,
          -5.587935447692871e-8,
          -2.514570951461792e-8,
          -2.3283064365386963e-9,
          1.8510036170482635e-8,
          2.7939677238464355e-9,
          1.4901161193847656e-8,
          6.05359673500061e-9,
          2.514570951461792e-8,
          -5.587935447692871e-9,
          1.3969838619232178e-8,
          -1.6763806343078613e-8,
          2.8870999813079834e-8,
          1.30385160446167e-8,
          -1.210719347000122e-8,
          -4.284083843231201e-8,
          7.450580596923828e-9,
          -3.4458935260772705e-8,
          -6.798654794692993e-8,
          9.12696123123169e-8,
          -8.568167686462402e-8,
          8.009374141693115e-8,
          -1.6763806343078613e-8,
          -6.05359673500061e-9,
          -2.2351741790771484e-8,
          4.6566128730773926e-9,
          -4.190951585769653e-8,
          -3.725290298461914e-8,
          -3.725290298461914e-9,
          9.546056389808655e-9,
          -5.587935447692871e-9,
          2.8870999813079834e-8,
          2.0489096641540527e-8,
          1.7695128917694092e-8,
          -3.4458935260772705e-8,
          -1.816079020500183e-8,
          2.514570951461792e-8,
          4.0978193283081055e-8,
          2.7939677238464355e-9,
          4.284083843231201e-8,
          1.1175870895385742e-8,
          -1.1175870895385742e-8,
          -3.3527612686157227e-8,
          -1.955777406692505e-8,
          -3.4924596548080444e-9,
          -2.5960616767406464e-8,
          2.7939677238464355e-8,
          -9.313225746154785e-10,
          3.725290298461914e-9,
          9.499490261077881e-8,
          -5.4016709327697754e-8,
          -2.0489096641540527e-8,
          5.029141902923584e-8,
          1.3969838619232178e-8,
          -6.332993507385254e-8,
          -2.2351741790771484e-8,
          2.7939677238464355e-9,
          2.421438694000244e-8,
          1.6763806343078613e-8,
          -2.1420419216156006e-8,
          -3.818422555923462e-8,
          -2.0489096641540527e-8,
          -4.284083843231201e-8,
          4.819594323635101e-8,
          -1.955777406692505e-8,
          -6.332993507385254e-8,
          4.6566128730773926e-9,
          7.450580596923828e-9,
          2.7939677238464355e-9,
          -2.2351741790771484e-8,
          6.984919309616089e-8,
          2.421438694000244e-8,
          -1.1175870895385742e-8,
          -3.632158041000366e-8,
          -2.60770320892334e-8,
          1.955777406692505e-8,
          2.9336661100387573e-8,
          -9.313225746154785e-10,
          -8.381903171539307e-9,
          -6.05359673500061e-9,
          -4.6566128730773926e-9,
          2.421438694000244e-8,
          9.546056389808655e-9,
          2.7939677238464355e-8,
          3.259629011154175e-9,
          -5.774199962615967e-8,
          1.862645149230957e-8,
          4.470348358154297e-8,
          -6.891787052154541e-8,
          8.381903171539307e-9,
          -5.029141902923584e-8,
          -7.450580596923828e-9,
          -3.3527612686157227e-8,
          -5.3551048040390015e-8,
          2.9802322387695312e-8,
          3.841705620288849e-9,
          4.842877388000488e-8,
          -1.210719347000122e-8,
          1.6298145055770874e-8,
          -9.872019290924072e-8,
          7.450580596923828e-9,
          -4.470348358154297e-8,
          -2.421438694000244e-8,
          1.2922100722789764e-8,
          3.3527612686157227e-8,
          3.91155481338501e-8,
          3.3527612686157227e-8,
          4.6566128730773926e-8,
          -1.4435499906539917e-8,
          2.421438694000244e-8,
          2.0489096641540527e-8,
          0,
          -3.3527612686157227e-8,
          -7.543712854385376e-8,
          -7.12461769580841e-8,
          -6.51925802230835e-9,
          -3.3527612686157227e-8,
          5.587935447692871e-9,
          -1.30385160446167e-8,
          6.146728992462158e-8,
          -2.0256265997886658e-8,
          2.2817403078079224e-8,
          -1.4901161193847656e-8,
          5.587935447692871e-9,
          5.21540641784668e-8,
          4.470348358154297e-8,
          9.220093488693237e-8,
          -5.960464477539063e-8,
          8.754432201385498e-8,
          2.8870999813079834e-8,
          1.862645149230957e-8,
          1.955777406692505e-8,
          -9.313225746154785e-9,
          5.029141902923584e-8,
          2.2351741790771484e-8,
          -2.0489096641540527e-8,
          -7.636845111846924e-8,
          2.421438694000244e-8,
          -8.847564458847046e-8,
          1.257285475730896e-8,
          -1.3969838619232178e-8,
          -1.30385160446167e-8,
          -3.4458935260772705e-8,
          8.521601557731628e-8,
          -6.51925802230835e-9,
          3.4458935260772705e-8,
          -6.426125764846802e-8,
          -1.210719347000122e-8,
          3.4924596548080444e-8,
          -7.636845111846924e-8,
          1.862645149230957e-8,
          2.468004822731018e-8,
          -2.561137080192566e-8,
          -8.568167686462402e-8,
          4.0978193283081055e-8,
          5.681067705154419e-8,
          1.341104507446289e-7,
          7.450580596923828e-8,
          -1.150183379650116e-7,
          -2.3283064365386963e-9,
          -5.029141902923584e-8,
          -9.220093488693237e-8,
          5.4016709327697754e-8,
          -5.587935447692871e-9,
          5.4016709327697754e-8,
          -3.725290298461914e-8,
          5.448237061500549e-8,
          -2.0489096641540527e-8,
          1.471489667892456e-7,
          -2.2351741790771484e-8,
          -7.916241884231567e-9,
          5.587935447692871e-9,
          -2.7939677238464355e-8,
          5.4016709327697754e-8,
          1.1175870895385742e-8,
          9.313225746154785e-8,
          5.774199962615967e-8,
          1.6763806343078613e-8,
          -1.150183379650116e-7,
          -8.009374141693115e-8,
          4.0046870708465576e-8,
          -1.0477378964424133e-8,
          -3.5390257835388184e-8,
          -1.6763806343078613e-8,
          -5.4016709327697754e-8,
          1.816079020500183e-8,
          1.955777406692505e-8,
          1.6298145055770874e-8,
          3.91155481338501e-8,
          -5.3085386753082275e-8,
          -6.426125764846802e-8,
          1.1455267667770386e-7,
          -5.587935447692871e-8,
          -5.4016709327697754e-8,
          -1.210719347000122e-8,
          -1.30385160446167e-8,
          7.82310962677002e-8,
          5.587935447692871e-8,
          7.450580596923828e-8,
          -1.4901161193847656e-7,
          9.313225746154785e-10,
          -1.5087425708770752e-7,
          -2.7474015951156616e-8,
          -2.2351741790771484e-8,
          -8.009374141693115e-8,
          -3.259629011154175e-9,
          8.032657206058502e-8,
          -5.960464477539063e-8,
          -4.656612873077393e-10,
          -1.5087425708770752e-7,
          -1.816079020500183e-8,
          2.1047890186309814e-7,
          -9.12696123123169e-8,
          7.264316082000732e-8,
          -3.259629011154175e-9,
          -2.491287887096405e-8,
          -6.239861249923706e-8,
          5.774199962615967e-8,
          -1.0989606380462646e-7,
          -2.0023435354232788e-8,
          -1.7695128917694092e-8,
          -3.3527612686157227e-8,
          -5.960464477539063e-8,
          5.029141902923584e-8,
          7.078051567077637e-8,
          -1.0244548320770264e-8,
          -6.332993507385254e-8,
          1.1175870895385742e-7,
          -5.168840289115906e-8,
          -5.587935447692871e-9,
          -2.9336661100387573e-8,
          5.029141902923584e-8,
          5.820766091346741e-8,
          -5.168840289115906e-8,
          1.0244548320770264e-8,
          4.842877388000488e-8,
          2.421438694000244e-8,
          4.423782229423523e-8,
          -3.632158041000366e-8,
          1.1734664440155029e-7,
          -7.729977369308472e-8,
          -1.1175870895385742e-8,
          2.1886080503463745e-8,
          -2.7939677238464355e-8,
          -7.078051567077637e-8,
          3.771856427192688e-8,
          7.450580596923828e-9,
          6.332993507385254e-8,
          -1.4901161193847656e-8,
          5.587935447692871e-9,
          1.862645149230957e-8,
          2.1420419216156006e-8,
          5.3085386753082275e-8,
          7.264316082000732e-8,
          -8.195638656616211e-8,
          -7.450580596923828e-9,
          5.960464477539063e-8,
          -3.003515303134918e-8,
          -1.387670636177063e-7,
          -6.891787052154541e-8,
          -8.847564458847046e-9,
          -1.6298145055770874e-8,
          -2.421438694000244e-8,
          -8.242204785346985e-8,
          -4.842877388000488e-8,
          1.3969838619232178e-8,
          -8.009374141693115e-8,
          -2.3283064365386963e-8,
          -6.705522537231445e-8,
          8.381903171539307e-9,
          -9.12696123123169e-8,
          -2.1420419216156006e-8,
          -7.078051567077637e-8,
          6.146728992462158e-8,
          -3.725290298461914e-9,
          -5.029141902923584e-8,
          -9.220093488693237e-8,
          -4.1443854570388794e-8,
          -6.007030606269836e-8,
          1.4901161193847656e-8,
          3.818422555923462e-8,
          -5.029141902923584e-8,
          -1.6763806343078613e-8,
          -1.30385160446167e-8,
          -1.0151416063308716e-7,
          -1.4156103134155273e-7,
          1.4901161193847656e-8,
          -1.2293457984924316e-7,
          2.6542693376541138e-8,
          -9.499490261077881e-8,
          4.842877388000488e-8,
          7.450580596923828e-9,
          -3.91155481338501e-8,
          -9.499490261077881e-8,
          -1.601874828338623e-7,
          5.587935447692871e-9,
          1.2200325727462769e-7,
          4.842877388000488e-8,
          -5.029141902923584e-8,
          -9.313225746154785e-8,
          -1.862645149230957e-9,
          3.725290298461914e-9,
          -8.102506399154663e-8,
          7.031485438346863e-8,
          -9.499490261077881e-8,
          -4.0978193283081055e-8,
          1.1082738637924194e-7,
          7.729977369308472e-8,
          -9.685754776000977e-8,
          3.213062882423401e-8,
          6.239861249923706e-8,
          0,
          -1.4528632164001465e-7,
          1.30385160446167e-7,
          -1.4528632164001465e-7,
          -1.825392246246338e-7,
          2.123415470123291e-7,
          3.3527612686157227e-8,
          1.8998980522155762e-7,
          1.9744038581848145e-7,
          -5.587935447692871e-8,
          2.2351741790771484e-8,
          -1.1548399925231934e-7,
          2.60770320892334e-8,
          1.1175870895385742e-8,
          0,
          7.264316082000732e-8,
          -1.564621925354004e-7,
          8.568167686462402e-8,
          -7.82310962677002e-8,
          0,
          3.3527612686157227e-8,
          -8.195638656616211e-8,
          -1.1175870895385742e-8,
          1.0803341865539551e-7,
          8.195638656616211e-8,
          -1.341104507446289e-7,
          9.685754776000977e-8,
          1.9371509552001953e-7,
          -1.341104507446289e-7,
          -8.940696716308594e-8,
          3.725290298461914e-8,
          -7.450580596923828e-9,
          3.725290298461914e-9,
          -1.4156103134155273e-7,
          4.0978193283081055e-8,
          1.2665987014770508e-7,
          1.341104507446289e-7,
          2.421438694000244e-7,
          1.601874828338623e-7,
          8.195638656616211e-8,
          8.195638656616211e-8,
          3.725290298461914e-8,
          -8.195638656616211e-8,
          1.0058283805847168e-7,
          -1.4156103134155273e-7,
          1.30385160446167e-7,
          1.7881393432617188e-7,
          -2.60770320892334e-8,
          -1.862645149230957e-8,
          7.450580596923828e-9,
          4.842877388000488e-8,
          0,
          8.195638656616211e-8,
          -1.1920928955078125e-7,
          -1.7508864402770996e-7,
          -7.078051567077637e-8,
          -8.195638656616211e-8,
          1.8998980522155762e-7,
          -1.1175870895385742e-8,
          -3.725290298461914e-8,
          1.4901161193847656e-7,
          -3.3527612686157227e-8,
          -1.1175870895385742e-8,
          1.341104507446289e-7,
          -4.470348358154297e-8,
          9.313225746154785e-8,
          1.1548399925231934e-7,
          -4.0978193283081055e-8,
          5.960464477539063e-8,
          -3.725290298461914e-8,
          8.568167686462402e-8,
          1.3783574104309082e-7,
          1.2293457984924316e-7,
          -1.601874828338623e-7,
          -4.842877388000488e-8,
          1.8998980522155762e-7,
          -6.705522537231445e-8,
          7.450580596923828e-9,
          8.568167686462402e-8,
          -3.3527612686157227e-8,
          1.862645149230957e-7,
          8.568167686462402e-8,
          -6.705522537231445e-8,
          1.1920928955078125e-7,
          -3.3527612686157227e-8,
          -1.0058283805847168e-7,
          8.195638656616211e-8,
          -4.470348358154297e-8,
          -5.587935447692871e-8,
          -7.450580596923828e-9,
          -2.0116567611694336e-7,
          5.587935447692871e-8,
          -2.60770320892334e-8,
          -3.3527612686157227e-8,
          -2.2351741790771484e-8,
          -7.450580596923828e-9,
          -3.3527612686157227e-8,
          1.6391277313232422e-7,
          2.60770320892334e-8,
          7.078051567077637e-8,
          -1.9744038581848145e-7,
          1.5273690223693848e-7,
          -1.4528632164001465e-7,
          -3.3527612686157227e-8,
          -5.587935447692871e-9,
          1.862645149230957e-7,
          1.5273690223693848e-7,
          -6.332993507385254e-8,
          8.940696716308594e-8,
          9.313225746154785e-8,
          1.862645149230957e-8,
          -6.705522537231445e-8,
          -2.2351741790771484e-8,
          1.0058283805847168e-7,
          -5.587935447692871e-8,
          -9.313225746154785e-8,
          -3.241002559661865e-7,
          -7.82310962677002e-8,
          -1.4901161193847656e-8,
          4.6566128730773926e-8,
          2.60770320892334e-8,
          1.0803341865539551e-7,
          -2.2351741790771484e-8,
          -3.725290298461914e-9,
          1.0803341865539551e-7,
          -1.6391277313232422e-7,
          -2.980232238769531e-7,
          1.862645149230957e-8,
          3.725290298461914e-8,
          2.0302832126617432e-7,
          -1.043081283569336e-7,
          8.940696716308594e-8,
          -7.450580596923828e-9,
          -1.043081283569336e-7,
          -7.82310962677002e-8,
          -7.078051567077637e-8,
          -9.313225746154785e-8,
          -3.3527612686157227e-8,
          -8.940696716308594e-8,
          -5.21540641784668e-8,
          2.2724270820617676e-7,
          -7.82310962677002e-8,
          3.725290298461914e-9,
          5.960464477539063e-8,
          1.0244548320770264e-8,
          -2.3096799850463867e-7,
          -1.4528632164001465e-7,
          3.91155481338501e-8,
          -3.725290298461914e-9,
          -5.21540641784668e-8,
          6.332993507385254e-8,
          -9.313225746154785e-8,
          -8.195638656616211e-8,
          -5.21540641784668e-8,
          2.2351741790771484e-8,
          2.60770320892334e-8,
          4.0978193283081055e-8,
          -3.725290298461914e-9,
          2.2351741790771484e-8,
          4.0978193283081055e-8,
          -1.7881393432617188e-7,
          -1.7508864402770996e-7,
          1.0803341865539551e-7,
          -1.1920928955078125e-7,
          1.1175870895385742e-8,
          -4.0978193283081055e-8,
          -1.7136335372924805e-7,
          1.4901161193847656e-8,
          1.7881393432617188e-7,
          -9.685754776000977e-8,
          4.470348358154297e-8,
          -2.3655593395233154e-7,
          7.450580596923828e-9,
          8.940696716308594e-8,
          7.078051567077637e-8,
          3.241002559661865e-7,
          1.862645149230957e-8,
          1.341104507446289e-7,
          -2.2351741790771484e-8,
          1.0058283805847168e-7,
          5.960464477539063e-8,
          -1.0803341865539551e-7,
          2.4959444999694824e-7,
          -1.1548399925231934e-7,
          -1.30385160446167e-7,
          -1.0803341865539551e-7,
          9.313225746154785e-8,
          1.564621925354004e-7,
          -1.1175870895385742e-8,
          -1.7136335372924805e-7,
          -3.986060619354248e-7,
          -2.1606683731079102e-7,
          4.842877388000488e-8,
          -2.0489096641540527e-7,
          -4.842877388000488e-8,
          -4.0978193283081055e-8,
          3.3527612686157227e-8,
          2.3096799850463867e-7,
          1.2293457984924316e-7,
          -1.2665987014770508e-7,
          1.9744038581848145e-7,
          1.4528632164001465e-7,
          -1.564621925354004e-7,
          2.60770320892334e-8,
          3.725290298461914e-8,
          -5.736947059631348e-7,
          1.4156103134155273e-7,
          1.862645149230957e-8,
          -2.384185791015625e-7,
          -1.1175870895385742e-8,
          6.705522537231445e-8,
          -1.1920928955078125e-7,
          1.1175870895385742e-7,
          1.043081283569336e-7,
          -9.685754776000977e-8,
          -1.341104507446289e-7,
          -1.9744038581848145e-7,
          -2.7939677238464355e-7,
          2.905726432800293e-7,
          -2.5704503059387207e-7,
          -9.313225746154785e-8,
          5.960464477539063e-8,
          3.725290298461914e-8,
          1.1175870895385742e-8,
          9.685754776000977e-8,
          4.842877388000488e-8,
          -2.5704503059387207e-7,
          1.564621925354004e-7,
          1.601874828338623e-7,
          6.705522537231445e-8,
          -8.568167686462402e-8,
          -5.21540641784668e-8,
          -1.6763806343078613e-7,
          3.3527612686157227e-8,
          -3.501772880554199e-7,
          -4.470348358154297e-8,
          -2.1979212760925293e-7,
          8.195638656616211e-8,
          7.450580596923828e-9,
          6.332993507385254e-8,
          -7.450580596923828e-9,
          -1.564621925354004e-7,
          -4.544854164123535e-7,
          2.1606683731079102e-7,
          1.862645149230957e-7,
          -1.7136335372924805e-7,
          -4.842877388000488e-8,
          -2.60770320892334e-8,
          -2.2351741790771484e-8,
          2.5331974029541016e-7,
          5.21540641784668e-8,
          1.564621925354004e-7,
          9.313225746154785e-8,
          1.9371509552001953e-7,
          -1.601874828338623e-7,
          -1.2293457984924316e-7,
          2.7567148208618164e-7,
          -1.2293457984924316e-7,
          3.725290298461914e-9,
          -2.1979212760925293e-7,
          -1.1175870895385742e-7,
          -2.2351741790771484e-8,
          -1.825392246246338e-7,
          2.384185791015625e-7,
          -4.842877388000488e-8,
          1.4901161193847656e-7,
          -3.725290298461914e-8,
          1.2665987014770508e-7,
          5.587935447692871e-8,
          1.2293457984924316e-7,
          1.862645149230957e-8,
          7.450580596923828e-9,
          -5.21540641784668e-8,
          -2.2351741790771484e-8,
          3.0547380447387695e-7,
          5.960464477539063e-8,
          1.2665987014770508e-7,
          3.725290298461914e-8,
          -1.4156103134155273e-7,
          2.5704503059387207e-7,
          2.60770320892334e-8,
          -2.9802322387695312e-8,
          8.195638656616211e-8,
          1.6391277313232422e-7,
          5.587935447692871e-8,
          -1.30385160446167e-7,
          1.7508864402770996e-7,
          6.332993507385254e-8,
          1.6763806343078613e-7,
          0,
          1.825392246246338e-7,
          -7.82310962677002e-8,
          8.195638656616211e-8,
          1.862645149230957e-7,
          -3.725290298461914e-9,
          -8.940696716308594e-8,
          1.341104507446289e-7,
          0,
          7.450580596923828e-8,
          -2.0489096641540527e-7,
          2.2351741790771484e-8,
          1.862645149230957e-8,
          -1.1920928955078125e-7,
          6.332993507385254e-8,
          -7.450580596923828e-9,
          5.960464477539063e-8,
          -5.140900611877441e-7,
          -3.3527612686157227e-8,
          1.5273690223693848e-7,
          -2.9802322387695312e-8,
          -1.4901161193847656e-8,
          -1.30385160446167e-7,
          5.587935447692871e-8,
          -3.3527612686157227e-8,
          1.0803341865539551e-7,
          1.2665987014770508e-7,
          -1.862645149230957e-8,
          1.1548399925231934e-7,
          -1.4528632164001465e-7,
          5.21540641784668e-8,
          -4.470348358154297e-8,
          2.3096799850463867e-7,
          1.564621925354004e-7,
          -4.470348358154297e-8,
          -2.5704503059387207e-7,
          2.2724270820617676e-7,
          -2.9802322387695312e-8,
          -4.470348358154297e-8,
          -7.078051567077637e-8,
          -6.332993507385254e-8,
          7.450580596923828e-9,
          6.705522537231445e-8,
          6.705522537231445e-8,
          -1.825392246246338e-7,
          3.725290298461914e-9,
          -1.2293457984924316e-7,
          1.862645149230957e-8,
          1.0058283805847168e-7,
          -2.2351741790771484e-7,
          2.2351741790771484e-8,
          -1.1920928955078125e-7,
          1.0803341865539551e-7,
          2.5704503059387207e-7,
          -1.1175870895385742e-8,
          -7.450580596923828e-8,
          2.123415470123291e-7,
          4.0978193283081055e-8
         ],
         "xaxis": "x",
         "yaxis": "y"
        }
       ],
       "layout": {
        "barmode": "relative",
        "legend": {
         "title": {
          "text": "variable"
         },
         "tracegroupgap": 0
        },
        "margin": {
         "t": 60
        },
        "template": {
         "data": {
          "bar": [
           {
            "error_x": {
             "color": "#2a3f5f"
            },
            "error_y": {
             "color": "#2a3f5f"
            },
            "marker": {
             "line": {
              "color": "#E5ECF6",
              "width": 0.5
             },
             "pattern": {
              "fillmode": "overlay",
              "size": 10,
              "solidity": 0.2
             }
            },
            "type": "bar"
           }
          ],
          "barpolar": [
           {
            "marker": {
             "line": {
              "color": "#E5ECF6",
              "width": 0.5
             },
             "pattern": {
              "fillmode": "overlay",
              "size": 10,
              "solidity": 0.2
             }
            },
            "type": "barpolar"
           }
          ],
          "carpet": [
           {
            "aaxis": {
             "endlinecolor": "#2a3f5f",
             "gridcolor": "white",
             "linecolor": "white",
             "minorgridcolor": "white",
             "startlinecolor": "#2a3f5f"
            },
            "baxis": {
             "endlinecolor": "#2a3f5f",
             "gridcolor": "white",
             "linecolor": "white",
             "minorgridcolor": "white",
             "startlinecolor": "#2a3f5f"
            },
            "type": "carpet"
           }
          ],
          "choropleth": [
           {
            "colorbar": {
             "outlinewidth": 0,
             "ticks": ""
            },
            "type": "choropleth"
           }
          ],
          "contour": [
           {
            "colorbar": {
             "outlinewidth": 0,
             "ticks": ""
            },
            "colorscale": [
             [
              0,
              "#0d0887"
             ],
             [
              0.1111111111111111,
              "#46039f"
             ],
             [
              0.2222222222222222,
              "#7201a8"
             ],
             [
              0.3333333333333333,
              "#9c179e"
             ],
             [
              0.4444444444444444,
              "#bd3786"
             ],
             [
              0.5555555555555556,
              "#d8576b"
             ],
             [
              0.6666666666666666,
              "#ed7953"
             ],
             [
              0.7777777777777778,
              "#fb9f3a"
             ],
             [
              0.8888888888888888,
              "#fdca26"
             ],
             [
              1,
              "#f0f921"
             ]
            ],
            "type": "contour"
           }
          ],
          "contourcarpet": [
           {
            "colorbar": {
             "outlinewidth": 0,
             "ticks": ""
            },
            "type": "contourcarpet"
           }
          ],
          "heatmap": [
           {
            "colorbar": {
             "outlinewidth": 0,
             "ticks": ""
            },
            "colorscale": [
             [
              0,
              "#0d0887"
             ],
             [
              0.1111111111111111,
              "#46039f"
             ],
             [
              0.2222222222222222,
              "#7201a8"
             ],
             [
              0.3333333333333333,
              "#9c179e"
             ],
             [
              0.4444444444444444,
              "#bd3786"
             ],
             [
              0.5555555555555556,
              "#d8576b"
             ],
             [
              0.6666666666666666,
              "#ed7953"
             ],
             [
              0.7777777777777778,
              "#fb9f3a"
             ],
             [
              0.8888888888888888,
              "#fdca26"
             ],
             [
              1,
              "#f0f921"
             ]
            ],
            "type": "heatmap"
           }
          ],
          "heatmapgl": [
           {
            "colorbar": {
             "outlinewidth": 0,
             "ticks": ""
            },
            "colorscale": [
             [
              0,
              "#0d0887"
             ],
             [
              0.1111111111111111,
              "#46039f"
             ],
             [
              0.2222222222222222,
              "#7201a8"
             ],
             [
              0.3333333333333333,
              "#9c179e"
             ],
             [
              0.4444444444444444,
              "#bd3786"
             ],
             [
              0.5555555555555556,
              "#d8576b"
             ],
             [
              0.6666666666666666,
              "#ed7953"
             ],
             [
              0.7777777777777778,
              "#fb9f3a"
             ],
             [
              0.8888888888888888,
              "#fdca26"
             ],
             [
              1,
              "#f0f921"
             ]
            ],
            "type": "heatmapgl"
           }
          ],
          "histogram": [
           {
            "marker": {
             "pattern": {
              "fillmode": "overlay",
              "size": 10,
              "solidity": 0.2
             }
            },
            "type": "histogram"
           }
          ],
          "histogram2d": [
           {
            "colorbar": {
             "outlinewidth": 0,
             "ticks": ""
            },
            "colorscale": [
             [
              0,
              "#0d0887"
             ],
             [
              0.1111111111111111,
              "#46039f"
             ],
             [
              0.2222222222222222,
              "#7201a8"
             ],
             [
              0.3333333333333333,
              "#9c179e"
             ],
             [
              0.4444444444444444,
              "#bd3786"
             ],
             [
              0.5555555555555556,
              "#d8576b"
             ],
             [
              0.6666666666666666,
              "#ed7953"
             ],
             [
              0.7777777777777778,
              "#fb9f3a"
             ],
             [
              0.8888888888888888,
              "#fdca26"
             ],
             [
              1,
              "#f0f921"
             ]
            ],
            "type": "histogram2d"
           }
          ],
          "histogram2dcontour": [
           {
            "colorbar": {
             "outlinewidth": 0,
             "ticks": ""
            },
            "colorscale": [
             [
              0,
              "#0d0887"
             ],
             [
              0.1111111111111111,
              "#46039f"
             ],
             [
              0.2222222222222222,
              "#7201a8"
             ],
             [
              0.3333333333333333,
              "#9c179e"
             ],
             [
              0.4444444444444444,
              "#bd3786"
             ],
             [
              0.5555555555555556,
              "#d8576b"
             ],
             [
              0.6666666666666666,
              "#ed7953"
             ],
             [
              0.7777777777777778,
              "#fb9f3a"
             ],
             [
              0.8888888888888888,
              "#fdca26"
             ],
             [
              1,
              "#f0f921"
             ]
            ],
            "type": "histogram2dcontour"
           }
          ],
          "mesh3d": [
           {
            "colorbar": {
             "outlinewidth": 0,
             "ticks": ""
            },
            "type": "mesh3d"
           }
          ],
          "parcoords": [
           {
            "line": {
             "colorbar": {
              "outlinewidth": 0,
              "ticks": ""
             }
            },
            "type": "parcoords"
           }
          ],
          "pie": [
           {
            "automargin": true,
            "type": "pie"
           }
          ],
          "scatter": [
           {
            "fillpattern": {
             "fillmode": "overlay",
             "size": 10,
             "solidity": 0.2
            },
            "type": "scatter"
           }
          ],
          "scatter3d": [
           {
            "line": {
             "colorbar": {
              "outlinewidth": 0,
              "ticks": ""
             }
            },
            "marker": {
             "colorbar": {
              "outlinewidth": 0,
              "ticks": ""
             }
            },
            "type": "scatter3d"
           }
          ],
          "scattercarpet": [
           {
            "marker": {
             "colorbar": {
              "outlinewidth": 0,
              "ticks": ""
             }
            },
            "type": "scattercarpet"
           }
          ],
          "scattergeo": [
           {
            "marker": {
             "colorbar": {
              "outlinewidth": 0,
              "ticks": ""
             }
            },
            "type": "scattergeo"
           }
          ],
          "scattergl": [
           {
            "marker": {
             "colorbar": {
              "outlinewidth": 0,
              "ticks": ""
             }
            },
            "type": "scattergl"
           }
          ],
          "scattermapbox": [
           {
            "marker": {
             "colorbar": {
              "outlinewidth": 0,
              "ticks": ""
             }
            },
            "type": "scattermapbox"
           }
          ],
          "scatterpolar": [
           {
            "marker": {
             "colorbar": {
              "outlinewidth": 0,
              "ticks": ""
             }
            },
            "type": "scatterpolar"
           }
          ],
          "scatterpolargl": [
           {
            "marker": {
             "colorbar": {
              "outlinewidth": 0,
              "ticks": ""
             }
            },
            "type": "scatterpolargl"
           }
          ],
          "scatterternary": [
           {
            "marker": {
             "colorbar": {
              "outlinewidth": 0,
              "ticks": ""
             }
            },
            "type": "scatterternary"
           }
          ],
          "surface": [
           {
            "colorbar": {
             "outlinewidth": 0,
             "ticks": ""
            },
            "colorscale": [
             [
              0,
              "#0d0887"
             ],
             [
              0.1111111111111111,
              "#46039f"
             ],
             [
              0.2222222222222222,
              "#7201a8"
             ],
             [
              0.3333333333333333,
              "#9c179e"
             ],
             [
              0.4444444444444444,
              "#bd3786"
             ],
             [
              0.5555555555555556,
              "#d8576b"
             ],
             [
              0.6666666666666666,
              "#ed7953"
             ],
             [
              0.7777777777777778,
              "#fb9f3a"
             ],
             [
              0.8888888888888888,
              "#fdca26"
             ],
             [
              1,
              "#f0f921"
             ]
            ],
            "type": "surface"
           }
          ],
          "table": [
           {
            "cells": {
             "fill": {
              "color": "#EBF0F8"
             },
             "line": {
              "color": "white"
             }
            },
            "header": {
             "fill": {
              "color": "#C8D4E3"
             },
             "line": {
              "color": "white"
             }
            },
            "type": "table"
           }
          ]
         },
         "layout": {
          "annotationdefaults": {
           "arrowcolor": "#2a3f5f",
           "arrowhead": 0,
           "arrowwidth": 1
          },
          "autotypenumbers": "strict",
          "coloraxis": {
           "colorbar": {
            "outlinewidth": 0,
            "ticks": ""
           }
          },
          "colorscale": {
           "diverging": [
            [
             0,
             "#8e0152"
            ],
            [
             0.1,
             "#c51b7d"
            ],
            [
             0.2,
             "#de77ae"
            ],
            [
             0.3,
             "#f1b6da"
            ],
            [
             0.4,
             "#fde0ef"
            ],
            [
             0.5,
             "#f7f7f7"
            ],
            [
             0.6,
             "#e6f5d0"
            ],
            [
             0.7,
             "#b8e186"
            ],
            [
             0.8,
             "#7fbc41"
            ],
            [
             0.9,
             "#4d9221"
            ],
            [
             1,
             "#276419"
            ]
           ],
           "sequential": [
            [
             0,
             "#0d0887"
            ],
            [
             0.1111111111111111,
             "#46039f"
            ],
            [
             0.2222222222222222,
             "#7201a8"
            ],
            [
             0.3333333333333333,
             "#9c179e"
            ],
            [
             0.4444444444444444,
             "#bd3786"
            ],
            [
             0.5555555555555556,
             "#d8576b"
            ],
            [
             0.6666666666666666,
             "#ed7953"
            ],
            [
             0.7777777777777778,
             "#fb9f3a"
            ],
            [
             0.8888888888888888,
             "#fdca26"
            ],
            [
             1,
             "#f0f921"
            ]
           ],
           "sequentialminus": [
            [
             0,
             "#0d0887"
            ],
            [
             0.1111111111111111,
             "#46039f"
            ],
            [
             0.2222222222222222,
             "#7201a8"
            ],
            [
             0.3333333333333333,
             "#9c179e"
            ],
            [
             0.4444444444444444,
             "#bd3786"
            ],
            [
             0.5555555555555556,
             "#d8576b"
            ],
            [
             0.6666666666666666,
             "#ed7953"
            ],
            [
             0.7777777777777778,
             "#fb9f3a"
            ],
            [
             0.8888888888888888,
             "#fdca26"
            ],
            [
             1,
             "#f0f921"
            ]
           ]
          },
          "colorway": [
           "#636efa",
           "#EF553B",
           "#00cc96",
           "#ab63fa",
           "#FFA15A",
           "#19d3f3",
           "#FF6692",
           "#B6E880",
           "#FF97FF",
           "#FECB52"
          ],
          "font": {
           "color": "#2a3f5f"
          },
          "geo": {
           "bgcolor": "white",
           "lakecolor": "white",
           "landcolor": "#E5ECF6",
           "showlakes": true,
           "showland": true,
           "subunitcolor": "white"
          },
          "hoverlabel": {
           "align": "left"
          },
          "hovermode": "closest",
          "mapbox": {
           "style": "light"
          },
          "paper_bgcolor": "white",
          "plot_bgcolor": "#E5ECF6",
          "polar": {
           "angularaxis": {
            "gridcolor": "white",
            "linecolor": "white",
            "ticks": ""
           },
           "bgcolor": "#E5ECF6",
           "radialaxis": {
            "gridcolor": "white",
            "linecolor": "white",
            "ticks": ""
           }
          },
          "scene": {
           "xaxis": {
            "backgroundcolor": "#E5ECF6",
            "gridcolor": "white",
            "gridwidth": 2,
            "linecolor": "white",
            "showbackground": true,
            "ticks": "",
            "zerolinecolor": "white"
           },
           "yaxis": {
            "backgroundcolor": "#E5ECF6",
            "gridcolor": "white",
            "gridwidth": 2,
            "linecolor": "white",
            "showbackground": true,
            "ticks": "",
            "zerolinecolor": "white"
           },
           "zaxis": {
            "backgroundcolor": "#E5ECF6",
            "gridcolor": "white",
            "gridwidth": 2,
            "linecolor": "white",
            "showbackground": true,
            "ticks": "",
            "zerolinecolor": "white"
           }
          },
          "shapedefaults": {
           "line": {
            "color": "#2a3f5f"
           }
          },
          "ternary": {
           "aaxis": {
            "gridcolor": "white",
            "linecolor": "white",
            "ticks": ""
           },
           "baxis": {
            "gridcolor": "white",
            "linecolor": "white",
            "ticks": ""
           },
           "bgcolor": "#E5ECF6",
           "caxis": {
            "gridcolor": "white",
            "linecolor": "white",
            "ticks": ""
           }
          },
          "title": {
           "x": 0.05
          },
          "xaxis": {
           "automargin": true,
           "gridcolor": "white",
           "linecolor": "white",
           "ticks": "",
           "title": {
            "standoff": 15
           },
           "zerolinecolor": "white",
           "zerolinewidth": 2
          },
          "yaxis": {
           "automargin": true,
           "gridcolor": "white",
           "linecolor": "white",
           "ticks": "",
           "title": {
            "standoff": 15
           },
           "zerolinecolor": "white",
           "zerolinewidth": 2
          }
         }
        },
        "xaxis": {
         "anchor": "y",
         "domain": [
          0,
          1
         ],
         "title": {
          "text": "value"
         }
        },
        "yaxis": {
         "anchor": "x",
         "domain": [
          0,
          1
         ],
         "title": {
          "text": "count"
         }
        }
       }
      }
     },
     "metadata": {},
     "output_type": "display_data"
    }
   ],
   "source": [
    "px.histogram(raw_data[3][\"gnn_output\"])"
   ]
  }
 ],
 "metadata": {
  "kernelspec": {
   "display_name": "pvg-experiments",
   "language": "python",
   "name": "python3"
  },
  "language_info": {
   "codemirror_mode": {
    "name": "ipython",
    "version": 3
   },
   "file_extension": ".py",
   "mimetype": "text/x-python",
   "name": "python",
   "nbconvert_exporter": "python",
   "pygments_lexer": "ipython3",
   "version": "3.11.6"
  }
 },
 "nbformat": 4,
 "nbformat_minor": 2
}
