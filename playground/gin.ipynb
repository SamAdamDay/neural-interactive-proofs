{
 "cells": [
  {
   "cell_type": "markdown",
   "metadata": {},
   "source": [
    "# GIN implementation"
   ]
  },
  {
   "cell_type": "markdown",
   "metadata": {},
   "source": [
    "## Setup"
   ]
  },
  {
   "cell_type": "code",
   "execution_count": 1,
   "metadata": {},
   "outputs": [],
   "source": [
    "FORCE_CPU = True\n",
    "\n",
    "SEED = 349287\n",
    "\n",
    "BATCH_SIZE = 32"
   ]
  },
  {
   "cell_type": "code",
   "execution_count": 2,
   "metadata": {},
   "outputs": [
    {
     "name": "stderr",
     "output_type": "stream",
     "text": [
      "/home/sam/.virtualenvs/pvg-experiments/lib/python3.11/site-packages/torch_geometric/typing.py:42: UserWarning: An issue occurred while importing 'torch-sparse'. Disabling its usage. Stacktrace: /home/sam/.virtualenvs/pvg-experiments/lib/python3.11/site-packages/torch_sparse/_spmm_cpu.so: undefined symbol: _ZN5torch8autograd13_wrap_outputsERKSt6vectorIN2at6TensorESaIS3_EERKSt13unordered_setIPN3c1010TensorImplESt4hashISB_ESt8equal_toISB_ESaISB_EESJ_NS9_8ArrayRefINS9_8optionalIS3_EEEERKSt10shared_ptrINS0_4NodeEESt8functionIFS5_S5_S5_EE\n",
      "  warnings.warn(f\"An issue occurred while importing 'torch-sparse'. \"\n",
      "/home/sam/.virtualenvs/pvg-experiments/lib/python3.11/site-packages/torch/cuda/__init__.py:138: UserWarning: CUDA initialization: CUDA unknown error - this may be due to an incorrectly set up environment, e.g. changing env variable CUDA_VISIBLE_DEVICES after program start. Setting the available devices to be zero. (Triggered internally at ../c10/cuda/CUDAFunctions.cpp:108.)\n",
      "  return torch._C._cuda_getDeviceCount() > 0\n"
     ]
    }
   ],
   "source": [
    "from typing import Callable\n",
    "\n",
    "import torch\n",
    "from torch import nn\n",
    "from torch import Tensor\n",
    "\n",
    "from tensordict import TensorDict, TensorDictBase\n",
    "\n",
    "from torch_geometric.nn import GINConv\n",
    "from torch_geometric.utils import to_dense_batch, to_dense_adj\n",
    "from torch_geometric.nn.inits import reset as reset_parameters\n",
    "from torch_geometric.datasets import TUDataset\n",
    "from torch_geometric.loader import DataLoader\n",
    "\n",
    "import einops\n",
    "\n",
    "from jaxtyping import Float, Bool\n",
    "\n",
    "from pvg.utils.torch_modules import GIN as PVG_GIN\n",
    "from pvg.utils.data import gi_data_to_tensordict"
   ]
  },
  {
   "cell_type": "code",
   "execution_count": 3,
   "metadata": {},
   "outputs": [],
   "source": [
    "torch.manual_seed(SEED)\n",
    "torch_generator = torch.Generator().manual_seed(SEED)"
   ]
  },
  {
   "cell_type": "code",
   "execution_count": 4,
   "metadata": {},
   "outputs": [
    {
     "data": {
      "text/plain": [
       "<torch.autograd.grad_mode.set_grad_enabled at 0x7fee1ec329d0>"
      ]
     },
     "execution_count": 4,
     "metadata": {},
     "output_type": "execute_result"
    }
   ],
   "source": [
    "torch. set_grad_enabled(False)"
   ]
  },
  {
   "cell_type": "code",
   "execution_count": 5,
   "metadata": {},
   "outputs": [
    {
     "name": "stdout",
     "output_type": "stream",
     "text": [
      "cpu\n"
     ]
    }
   ],
   "source": [
    "if not FORCE_CPU and torch.cuda.is_available():\n",
    "    device = torch.device(\"cuda\")\n",
    "else:\n",
    "    device = torch.device(\"cpu\")\n",
    "print(device)"
   ]
  },
  {
   "cell_type": "markdown",
   "metadata": {},
   "source": [
    "## GIN"
   ]
  },
  {
   "cell_type": "code",
   "execution_count": 6,
   "metadata": {},
   "outputs": [],
   "source": [
    "extra_new = dict()"
   ]
  },
  {
   "cell_type": "code",
   "execution_count": 7,
   "metadata": {},
   "outputs": [],
   "source": [
    "class GIN(nn.Module):\n",
    "    \"\"\"A graph isomorphism network (GIN) layer.\n",
    "\n",
    "    This is a message-passing layer that aggregates the features of the neighbours as\n",
    "    follows:\n",
    "    $$\n",
    "        x_i' = MLP((1 + \\epsilon) x_i + \\sum_{j \\in \\mathcal{N}(i)} x_j)\n",
    "    $$\n",
    "    where $x_i$ is the feature vector of node $i$, $\\mathcal{N}(i)$ is the set of\n",
    "    neighbours of node $i$, and $\\epsilon$ is a (possibly learnable) parameter.\n",
    "\n",
    "    From the paper \"How Powerful are Graph Neural Networks?\" by Keyulu Xu et al.\n",
    "    (https://arxiv.org/abs/1810.00826).\n",
    "\n",
    "    Parameters\n",
    "    ----------\n",
    "    mlp\n",
    "        The MLP to apply to the aggregated features.\n",
    "    eps\n",
    "        The initial value of $\\epsilon$.\n",
    "    train_eps\n",
    "        Whether to train $\\epsilon$ or keep it fixed.\n",
    "\n",
    "    Shapes\n",
    "    ------\n",
    "    Takes as input a TensorDict with the following keys:\n",
    "    * `x` - Float[\"batch max_nodes feature\"] - The features of the nodes.\n",
    "    * `adjacency` - Float[\"batch max_nodes max_nodes\"] - The adjacency matrix of the\n",
    "      graph.\n",
    "    * `node_mask` - Bool[\"batch max_nodes\"] - A mask indicating which nodes exist\n",
    "    \"\"\"\n",
    "\n",
    "    def __init__(self, mlp: nn.Module, eps: float = 0.0, train_eps: bool = False):\n",
    "        super().__init__()\n",
    "        self.mlp = mlp\n",
    "        self.initial_eps = eps\n",
    "        if train_eps:\n",
    "            self.eps = torch.nn.Parameter(torch.Tensor([eps]))\n",
    "        else:\n",
    "            self.register_buffer(\"eps\", torch.Tensor([eps]))\n",
    "        self.reset_parameters()\n",
    "\n",
    "    def reset_parameters(self):\n",
    "        self.eps.data.fill_(self.initial_eps)\n",
    "\n",
    "    def forward(self, tensordict: TensorDictBase) -> torch.Tensor:\n",
    "        # Extract the features, adjacency matrix and node mask from the input\n",
    "        x: Float[Tensor, \"batch max_nodes feature\"] = tensordict[\"x\"]\n",
    "        adjacency: Float[Tensor, \"batch max_nodes max_nodes\"] = tensordict[\"adjacency\"]\n",
    "        if \"node_mask\" in tensordict.keys():\n",
    "            node_mask: Bool[Tensor, \"batch max_nodes\"] = tensordict[\"node_mask\"]\n",
    "        else:\n",
    "            node_mask = torch.ones(x.shape[:-1], dtype=torch.bool, device=x.device)\n",
    "\n",
    "        # Aggregate the features of the neighbours using summation\n",
    "        x_expanded = einops.rearrange(\n",
    "            x, \"batch max_nodes feature -> batch max_nodes 1 feature\"\n",
    "        )\n",
    "        adjacency = einops.rearrange(\n",
    "            adjacency,\n",
    "            \"batch max_nodes_a max_nodes_b -> batch max_nodes_a max_nodes_b 1\",\n",
    "        )\n",
    "        x_aggregated = (x_expanded * adjacency).sum(dim=1)\n",
    "\n",
    "        # Apply the MLP to the aggregated features plus a contribution from the node\n",
    "        # itself. We do this only according to the node mask, putting zeros elsewhere.\n",
    "        out_flat = self.mlp((1 + self.eps) * x[node_mask] + x_aggregated[node_mask])\n",
    "        out = torch.zeros(\n",
    "            (*x.shape[:-1], out_flat.shape[-1]), dtype=x.dtype, device=x.device\n",
    "        )\n",
    "        out[node_mask] = out_flat\n",
    "\n",
    "        extra_new[\"x_aggregated\"] = x_aggregated\n",
    "        extra_new[\"node_mask\"] = node_mask\n",
    "        extra_new[\"x\"] = x\n",
    "        extra_new[\"out_flat\"] = out_flat\n",
    "\n",
    "        return out"
   ]
  },
  {
   "cell_type": "markdown",
   "metadata": {},
   "source": [
    "## Testing"
   ]
  },
  {
   "cell_type": "code",
   "execution_count": 8,
   "metadata": {},
   "outputs": [],
   "source": [
    "mlp = nn.Sequential(\n",
    "    nn.Linear(21, 10),\n",
    "    nn.Tanh(),\n",
    "    nn.Linear(10, 2),\n",
    ")\n",
    "# mlp = nn.Identity()\n",
    "# mlp = nn.Tanh()\n",
    "# mlp = nn.Linear(21, 1)\n",
    "eps = -1.0"
   ]
  },
  {
   "cell_type": "code",
   "execution_count": 9,
   "metadata": {},
   "outputs": [],
   "source": [
    "pyg_gin = GINConv(mlp, eps=eps, train_eps=False).to(device)\n",
    "new_gin = GIN(mlp, eps=eps, train_eps=False).to(device)"
   ]
  },
  {
   "cell_type": "code",
   "execution_count": 10,
   "metadata": {},
   "outputs": [
    {
     "data": {
      "text/plain": [
       "DataBatch(edge_index=[2, 4264], x=[1069, 21], y=[32], batch=[1069], ptr=[33])"
      ]
     },
     "execution_count": 10,
     "metadata": {},
     "output_type": "execute_result"
    }
   ],
   "source": [
    "dataset = TUDataset(root='/tmp/ENZYMES', name='ENZYMES', use_node_attr=True)\n",
    "loader = DataLoader(dataset, batch_size=BATCH_SIZE, shuffle=False)\n",
    "# for batch in loader:\n",
    "#     if batch.num_nodes <= 16:\n",
    "#         print(\"Yay\")\n",
    "#         break\n",
    "batch = next(iter(loader))\n",
    "batch = batch.to(device)\n",
    "batch"
   ]
  },
  {
   "cell_type": "code",
   "execution_count": 11,
   "metadata": {},
   "outputs": [],
   "source": [
    "adj = to_dense_adj(batch.edge_index, batch.batch)\n",
    "x_batched, node_mask = to_dense_batch(batch.x, batch.batch)\n",
    "\n",
    "tensordict = TensorDict(\n",
    "    dict(\n",
    "        x=x_batched,\n",
    "        adjacency=adj,\n",
    "        node_mask=node_mask,\n",
    "    ),\n",
    "    batch_size=batch.num_graphs,\n",
    ")"
   ]
  },
  {
   "cell_type": "code",
   "execution_count": 12,
   "metadata": {},
   "outputs": [
    {
     "data": {
      "text/plain": [
       "(torch.Size([32, 88, 21]), torch.Size([32, 88, 88]))"
      ]
     },
     "execution_count": 12,
     "metadata": {},
     "output_type": "execute_result"
    }
   ],
   "source": [
    "x_batched.shape, adj.shape"
   ]
  },
  {
   "cell_type": "code",
   "execution_count": 13,
   "metadata": {},
   "outputs": [],
   "source": [
    "out_pyg, _ = to_dense_batch(pyg_gin(batch.x, batch.edge_index), batch.batch)\n",
    "out_new = new_gin(tensordict)"
   ]
  },
  {
   "cell_type": "code",
   "execution_count": 14,
   "metadata": {},
   "outputs": [
    {
     "data": {
      "text/plain": [
       "tensor(0.9998)"
      ]
     },
     "execution_count": 14,
     "metadata": {},
     "output_type": "execute_result"
    }
   ],
   "source": [
    "torch.isclose(out_pyg, out_new).float().mean()"
   ]
  },
  {
   "cell_type": "code",
   "execution_count": 15,
   "metadata": {},
   "outputs": [
    {
     "data": {
      "text/plain": [
       "tensor(4.7677e-09)"
      ]
     },
     "execution_count": 15,
     "metadata": {},
     "output_type": "execute_result"
    }
   ],
   "source": [
    "(out_pyg - out_new).abs().mean()"
   ]
  },
  {
   "cell_type": "markdown",
   "metadata": {},
   "source": [
    "## Testing package implementation"
   ]
  },
  {
   "cell_type": "code",
   "execution_count": 16,
   "metadata": {},
   "outputs": [],
   "source": [
    "pvg_gin = PVG_GIN(mlp, eps=eps, train_eps=False).to(device)"
   ]
  },
  {
   "cell_type": "code",
   "execution_count": 17,
   "metadata": {},
   "outputs": [],
   "source": [
    "class FakeGIBatch:\n",
    "    x_a = batch.x\n",
    "    x_b = batch.x\n",
    "    edge_index_a = batch.edge_index\n",
    "    edge_index_b = batch.edge_index\n",
    "    x_a_batch = batch.batch\n",
    "    x_b_batch = batch.batch"
   ]
  },
  {
   "cell_type": "code",
   "execution_count": 18,
   "metadata": {},
   "outputs": [
    {
     "data": {
      "text/plain": [
       "TensorDict(\n",
       "    fields={\n",
       "        adjacency: Tensor(shape=torch.Size([32, 2, 88, 88]), device=cpu, dtype=torch.float32, is_shared=False),\n",
       "        node_mask: Tensor(shape=torch.Size([32, 2, 88]), device=cpu, dtype=torch.bool, is_shared=False),\n",
       "        x: Tensor(shape=torch.Size([32, 2, 88, 21]), device=cpu, dtype=torch.float32, is_shared=False)},\n",
       "    batch_size=torch.Size([32, 2]),\n",
       "    device=None,\n",
       "    is_shared=False)"
      ]
     },
     "execution_count": 18,
     "metadata": {},
     "output_type": "execute_result"
    }
   ],
   "source": [
    "tensordict = gi_data_to_tensordict(FakeGIBatch())\n",
    "tensordict"
   ]
  },
  {
   "cell_type": "code",
   "execution_count": 19,
   "metadata": {},
   "outputs": [
    {
     "data": {
      "text/plain": [
       "torch.Size([32, 88, 21])"
      ]
     },
     "execution_count": 19,
     "metadata": {},
     "output_type": "execute_result"
    }
   ],
   "source": [
    "x_batched.shape"
   ]
  },
  {
   "cell_type": "code",
   "execution_count": 20,
   "metadata": {},
   "outputs": [
    {
     "data": {
      "text/plain": [
       "TensorDict(\n",
       "    fields={\n",
       "        adjacency: Tensor(shape=torch.Size([32, 2, 88, 88]), device=cpu, dtype=torch.float32, is_shared=False),\n",
       "        node_mask: Tensor(shape=torch.Size([32, 2, 88]), device=cpu, dtype=torch.bool, is_shared=False),\n",
       "        x: Tensor(shape=torch.Size([32, 2, 88, 2]), device=cpu, dtype=torch.float32, is_shared=False)},\n",
       "    batch_size=torch.Size([32, 2]),\n",
       "    device=None,\n",
       "    is_shared=False)"
      ]
     },
     "execution_count": 20,
     "metadata": {},
     "output_type": "execute_result"
    }
   ],
   "source": [
    "out_pvg = pvg_gin(tensordict)\n",
    "out_pvg"
   ]
  },
  {
   "cell_type": "code",
   "execution_count": 21,
   "metadata": {},
   "outputs": [
    {
     "data": {
      "text/plain": [
       "tensor(0.9998)"
      ]
     },
     "execution_count": 21,
     "metadata": {},
     "output_type": "execute_result"
    }
   ],
   "source": [
    "torch.isclose(out_pyg, out_pvg[\"x\"][:, 0]).float().mean()"
   ]
  }
 ],
 "metadata": {
  "kernelspec": {
   "display_name": "pvg-experiments",
   "language": "python",
   "name": "python3"
  },
  "language_info": {
   "codemirror_mode": {
    "name": "ipython",
    "version": 3
   },
   "file_extension": ".py",
   "mimetype": "text/x-python",
   "name": "python",
   "nbconvert_exporter": "python",
   "pygments_lexer": "ipython3",
   "version": "3.11.6"
  }
 },
 "nbformat": 4,
 "nbformat_minor": 2
}
