{
 "cells": [
  {
   "cell_type": "markdown",
   "metadata": {},
   "source": [
    "# GIN implementation"
   ]
  },
  {
   "cell_type": "markdown",
   "metadata": {},
   "source": [
    "## Setup"
   ]
  },
  {
   "cell_type": "code",
   "execution_count": 72,
   "metadata": {},
   "outputs": [],
   "source": [
    "FORCE_CPU = True\n",
    "\n",
    "SEED = 349287\n",
    "\n",
    "BATCH_SIZE = 32"
   ]
  },
  {
   "cell_type": "code",
   "execution_count": 73,
   "metadata": {},
   "outputs": [],
   "source": [
    "from typing import Callable\n",
    "\n",
    "import torch\n",
    "from torch import nn\n",
    "from torch import Tensor\n",
    "\n",
    "from tensordict import TensorDict, TensorDictBase\n",
    "\n",
    "from torch_geometric.nn import GINConv\n",
    "from torch_geometric.utils import to_dense_batch, to_dense_adj\n",
    "from torch_geometric.nn.inits import reset as reset_parameters\n",
    "from torch_geometric.datasets import TUDataset\n",
    "from torch_geometric.loader import DataLoader\n",
    "\n",
    "import einops\n",
    "\n",
    "from jaxtyping import Float, Bool"
   ]
  },
  {
   "cell_type": "code",
   "execution_count": 74,
   "metadata": {},
   "outputs": [],
   "source": [
    "torch.manual_seed(SEED)\n",
    "torch_generator = torch.Generator().manual_seed(SEED)"
   ]
  },
  {
   "cell_type": "code",
   "execution_count": 75,
   "metadata": {},
   "outputs": [
    {
     "data": {
      "text/plain": [
       "<torch.autograd.grad_mode.set_grad_enabled at 0x7fc26502b750>"
      ]
     },
     "execution_count": 75,
     "metadata": {},
     "output_type": "execute_result"
    }
   ],
   "source": [
    "torch. set_grad_enabled(False)"
   ]
  },
  {
   "cell_type": "code",
   "execution_count": 76,
   "metadata": {},
   "outputs": [
    {
     "name": "stdout",
     "output_type": "stream",
     "text": [
      "cpu\n"
     ]
    }
   ],
   "source": [
    "if not FORCE_CPU and torch.cuda.is_available():\n",
    "    device = torch.device(\"cuda\")\n",
    "else:\n",
    "    device = torch.device(\"cpu\")\n",
    "print(device)"
   ]
  },
  {
   "cell_type": "markdown",
   "metadata": {},
   "source": [
    "## GIN"
   ]
  },
  {
   "cell_type": "code",
   "execution_count": 77,
   "metadata": {},
   "outputs": [],
   "source": [
    "class GIN(nn.Module):\n",
    "    \"\"\"A graph isomorphism network (GIN) layer.\n",
    "\n",
    "    This is a message-passing layer that aggregates the features of the neighbours as\n",
    "    follows:\n",
    "    $$\n",
    "        x_i' = MLP((1 + \\epsilon) x_i + \\sum_{j \\in \\mathcal{N}(i)} x_j)\n",
    "    $$\n",
    "    where $x_i$ is the feature vector of node $i$, $\\mathcal{N}(i)$ is the set of\n",
    "    neighbours of node $i$, and $\\epsilon$ is a (possibly learnable) parameter.\n",
    "\n",
    "    From the paper \"How Powerful are Graph Neural Networks?\" by Keyulu Xu et al.\n",
    "    (https://arxiv.org/abs/1810.00826).\n",
    "\n",
    "    Parameters\n",
    "    ----------\n",
    "    mlp\n",
    "        The MLP to apply to the aggregated features.\n",
    "    eps\n",
    "        The initial value of $\\epsilon$.\n",
    "    train_eps\n",
    "        Whether to train $\\epsilon$ or keep it fixed.\n",
    "\n",
    "    Shapes\n",
    "    ------\n",
    "    Takes as input a TensorDict with the following keys:\n",
    "    * `x` - Float[\"batch max_nodes feature\"] - The features of the nodes.\n",
    "    * `adjacency` - Float[\"batch max_nodes max_nodes\"] - The adjacency matrix of the\n",
    "      graph.\n",
    "    * `node_mask` - Bool[\"batch max_nodes\"] - A mask indicating which nodes exist\n",
    "    \"\"\"\n",
    "\n",
    "    def __init__(self, mlp: nn.Module, eps: float = 0.0, train_eps: bool = False):\n",
    "        super().__init__()\n",
    "        self.mlp = mlp\n",
    "        self.initial_eps = eps\n",
    "        if train_eps:\n",
    "            self.eps = torch.nn.Parameter(torch.Tensor([eps]))\n",
    "        else:\n",
    "            self.register_buffer(\"eps\", torch.Tensor([eps]))\n",
    "        self.reset_parameters()\n",
    "\n",
    "    def reset_parameters(self):\n",
    "        reset_parameters(self.mlp)\n",
    "        self.eps.data.fill_(self.initial_eps)\n",
    "\n",
    "    def forward(self, tensordict: TensorDictBase) -> torch.Tensor:\n",
    "        # Extract the features, adjacency matrix and node mask from the input\n",
    "        x: Float[Tensor, \"batch max_nodes feature\"] = tensordict[\"x\"]\n",
    "        adjacency: Float[Tensor, \"batch max_nodes max_nodes\"] = tensordict[\"adjacency\"]\n",
    "        if \"node_mask\" in tensordict.keys():\n",
    "            node_mask: Bool[Tensor, \"batch max_nodes\"] = tensordict[\"node_mask\"]\n",
    "        else:\n",
    "            node_mask = torch.ones(x.shape[:-1], dtype=torch.bool, device=x.device)\n",
    "\n",
    "        # Aggregate the features of the neighbours using summation\n",
    "        x_expanded = einops.rearrange(\n",
    "            x, \"batch max_nodes feature -> batch max_nodes 1 feature\"\n",
    "        )\n",
    "        adjacency = einops.rearrange(\n",
    "            adjacency,\n",
    "            \"batch max_nodes_a max_nodes_b -> batch max_nodes_a max_nodes_b 1\",\n",
    "        )\n",
    "        x_aggregated = (x_expanded * adjacency).sum(dim=1)\n",
    "\n",
    "        # Apply the MLP to the aggregated features plus a contribution from the node\n",
    "        # itself. We do this only according to the node mask, putting zeros elsewhere.\n",
    "        out_flat = self.mlp((1 + self.eps) * x[node_mask] + x_aggregated[node_mask])\n",
    "        out = torch.zeros(\n",
    "            (*x.shape[:-1], out_flat.shape[-1]), dtype=x.dtype, device=x.device\n",
    "        )\n",
    "        out[node_mask] = out_flat\n",
    "\n",
    "        return out"
   ]
  },
  {
   "cell_type": "markdown",
   "metadata": {},
   "source": [
    "## Testing"
   ]
  },
  {
   "cell_type": "code",
   "execution_count": 86,
   "metadata": {},
   "outputs": [],
   "source": [
    "mlp = nn.Sequential(\n",
    "    nn.Linear(21, 10),\n",
    "    nn.Tanh(),\n",
    "    nn.Linear(10, 2),\n",
    ")\n",
    "# mlp = nn.Identity()\n",
    "# mlp = nn.Sigmoid()\n",
    "eps = 1.0"
   ]
  },
  {
   "cell_type": "code",
   "execution_count": 87,
   "metadata": {},
   "outputs": [],
   "source": [
    "pyg_gin = GINConv(mlp, eps=eps, train_eps=False).to(device)\n",
    "new_gin = GIN(mlp, eps=eps, train_eps=False).to(device)"
   ]
  },
  {
   "cell_type": "code",
   "execution_count": 88,
   "metadata": {},
   "outputs": [
    {
     "data": {
      "text/plain": [
       "DataBatch(edge_index=[2, 4264], x=[1069, 21], y=[32], batch=[1069], ptr=[33])"
      ]
     },
     "execution_count": 88,
     "metadata": {},
     "output_type": "execute_result"
    }
   ],
   "source": [
    "dataset = TUDataset(root='/tmp/ENZYMES', name='ENZYMES', use_node_attr=True)\n",
    "loader = DataLoader(dataset, batch_size=BATCH_SIZE, shuffle=False)\n",
    "# for batch in loader:\n",
    "#     if batch.num_nodes <= 16:\n",
    "#         print(\"Yay\")\n",
    "#         break\n",
    "batch = next(iter(loader))\n",
    "batch = batch.to(device)\n",
    "batch"
   ]
  },
  {
   "cell_type": "code",
   "execution_count": 89,
   "metadata": {},
   "outputs": [],
   "source": [
    "adj = to_dense_adj(batch.edge_index, batch.batch)\n",
    "x_batched, node_mask = to_dense_batch(batch.x, batch.batch)\n",
    "\n",
    "tensordict = TensorDict(\n",
    "    dict(\n",
    "        x=x_batched,\n",
    "        adjacency=adj,\n",
    "        node_mask=node_mask,\n",
    "    ),\n",
    "    batch_size=batch.num_graphs,\n",
    ")"
   ]
  },
  {
   "cell_type": "code",
   "execution_count": 90,
   "metadata": {},
   "outputs": [
    {
     "data": {
      "text/plain": [
       "(torch.Size([32, 88, 21]), torch.Size([32, 88, 88]))"
      ]
     },
     "execution_count": 90,
     "metadata": {},
     "output_type": "execute_result"
    }
   ],
   "source": [
    "x_batched.shape, adj.shape"
   ]
  },
  {
   "cell_type": "code",
   "execution_count": 91,
   "metadata": {},
   "outputs": [],
   "source": [
    "out_pyg, _ = to_dense_batch(pyg_gin(batch.x, batch.edge_index), batch.batch)\n",
    "out_new = new_gin(tensordict)"
   ]
  },
  {
   "cell_type": "code",
   "execution_count": 92,
   "metadata": {},
   "outputs": [
    {
     "data": {
      "text/plain": [
       "tensor(1.)"
      ]
     },
     "execution_count": 92,
     "metadata": {},
     "output_type": "execute_result"
    }
   ],
   "source": [
    "torch.isclose(out_pyg, out_new).float().mean()"
   ]
  },
  {
   "cell_type": "code",
   "execution_count": 93,
   "metadata": {},
   "outputs": [
    {
     "data": {
      "text/plain": [
       "tensor(5.2916e-11)"
      ]
     },
     "execution_count": 93,
     "metadata": {},
     "output_type": "execute_result"
    }
   ],
   "source": [
    "(out_pyg - out_new).abs().mean()"
   ]
  }
 ],
 "metadata": {
  "kernelspec": {
   "display_name": "pvg-experiments",
   "language": "python",
   "name": "python3"
  },
  "language_info": {
   "codemirror_mode": {
    "name": "ipython",
    "version": 3
   },
   "file_extension": ".py",
   "mimetype": "text/x-python",
   "name": "python",
   "nbconvert_exporter": "python",
   "pygments_lexer": "ipython3",
   "version": "3.11.6"
  }
 },
 "nbformat": 4,
 "nbformat_minor": 2
}
