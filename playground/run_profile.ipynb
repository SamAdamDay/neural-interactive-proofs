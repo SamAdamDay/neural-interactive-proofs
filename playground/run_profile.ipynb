{
 "cells": [
  {
   "cell_type": "markdown",
   "metadata": {},
   "source": [
    "# Analysing a graph isomorphism run profile"
   ]
  },
  {
   "cell_type": "code",
   "execution_count": 1,
   "metadata": {},
   "outputs": [],
   "source": [
    "TRACE_FOLDER = \"graph_isomorphism_ppo_2024-04-15_13-47-30\""
   ]
  },
  {
   "cell_type": "markdown",
   "metadata": {},
   "source": [
    "## Setup"
   ]
  },
  {
   "cell_type": "code",
   "execution_count": 2,
   "metadata": {},
   "outputs": [],
   "source": [
    "import os\n",
    "\n",
    "from hta.trace_analysis import TraceAnalysis\n",
    "\n",
    "from pvg.constants import LOG_DIR"
   ]
  },
  {
   "cell_type": "code",
   "execution_count": 3,
   "metadata": {},
   "outputs": [],
   "source": [
    "trace_path = os.path.join(LOG_DIR, TRACE_FOLDER)"
   ]
  },
  {
   "cell_type": "code",
   "execution_count": 4,
   "metadata": {},
   "outputs": [
    {
     "name": "stdout",
     "output_type": "stream",
     "text": [
      "2024-04-15 15:29:03,785 - hta - trace.py:L389 - INFO - /home/sam/Code/Projects/PVG Experiments/log/graph_isomorphism_ppo_2024-04-15_13-47-30\n",
      "2024-04-15 15:29:03,786 - hta - trace_file.py:L94 - INFO - Rank to trace file map:\n",
      "{1: '/home/sam/Code/Projects/PVG Experiments/log/graph_isomorphism_ppo_2024-04-15_13-47-30/70bcb1f7f63b_871.1713187125068907034.pt.trace.json.gz', 0: '/home/sam/Code/Projects/PVG Experiments/log/graph_isomorphism_ppo_2024-04-15_13-47-30/70bcb1f7f63b_871.1713186228810908837.pt.trace.json.gz'}\n",
      "2024-04-15 15:29:03,787 - hta - trace.py:L535 - INFO - ranks=[0, 1]\n"
     ]
    },
    {
     "name": "stdout",
     "output_type": "stream",
     "text": [
      "2024-04-15 15:29:28,696 - hta - trace.py:L118 - INFO - Parsed /home/sam/Code/Projects/PVG Experiments/log/graph_isomorphism_ppo_2024-04-15_13-47-30/70bcb1f7f63b_871.1713187125068907034.pt.trace.json.gz time = 24.89 seconds \n"
     ]
    }
   ],
   "source": [
    "analyzer = TraceAnalysis(trace_dir = trace_path)"
   ]
  },
  {
   "cell_type": "markdown",
   "metadata": {},
   "source": [
    "## Temporal breakdown"
   ]
  },
  {
   "cell_type": "code",
   "execution_count": null,
   "metadata": {},
   "outputs": [],
   "source": [
    "time_spent_df = analyzer.get_temporal_breakdown()"
   ]
  }
 ],
 "metadata": {
  "kernelspec": {
   "display_name": "pvg-experiments",
   "language": "python",
   "name": "python3"
  },
  "language_info": {
   "codemirror_mode": {
    "name": "ipython",
    "version": 3
   },
   "file_extension": ".py",
   "mimetype": "text/x-python",
   "name": "python",
   "nbconvert_exporter": "python",
   "pygments_lexer": "ipython3",
   "version": "3.11.6"
  }
 },
 "nbformat": 4,
 "nbformat_minor": 2
}
