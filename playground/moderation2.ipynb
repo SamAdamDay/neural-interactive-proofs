{
 "cells": [
  {
   "cell_type": "code",
   "execution_count": 43,
   "metadata": {},
   "outputs": [],
   "source": [
    "from openai import OpenAI\n",
    "import datasets\n",
    "from tqdm import tqdm"
   ]
  },
  {
   "cell_type": "code",
   "execution_count": 46,
   "metadata": {},
   "outputs": [],
   "source": [
    "client = OpenAI()\n",
    "buggy_data = datasets.load_dataset(\"lrhammond/buggy-apps\", split=\"test\")\n",
    "flags = {}"
   ]
  },
  {
   "cell_type": "code",
   "execution_count": 18,
   "metadata": {},
   "outputs": [
    {
     "name": "stderr",
     "output_type": "stream",
     "text": [
      " 33%|███▎      | 160/488 [00:49<01:35,  3.42it/s]"
     ]
    }
   ],
   "source": [
    "i = 0\n",
    "\n",
    "for i in tqdm(range(len(buggy_data))):\n",
    "\n",
    "    datum = buggy_data[i]\n",
    "    if i in flags:\n",
    "        continue\n",
    "\n",
    "    response = client.moderations.create(\n",
    "        model=\"omni-moderation-latest\",\n",
    "        input=datum['question'],\n",
    "        )\n",
    "    \n",
    "    if response.results[0].flagged:\n",
    "        \n",
    "        categories = dict(response.results[0].categories)\n",
    "        flags[i] = \",\".join([k for k in categories if categories[k]])\n",
    "    \n",
    "    else:\n",
    "\n",
    "        flags[i] = \"\""
   ]
  },
  {
   "cell_type": "code",
   "execution_count": 29,
   "metadata": {},
   "outputs": [
    {
     "name": "stdout",
     "output_type": "stream",
     "text": [
      "34: violence\n",
      "46: violence\n",
      "104: violence\n",
      "121: violence\n",
      "171: violence\n",
      "181: violence\n",
      "189: violence\n",
      "243: violence\n",
      "294: violence\n",
      "383: violence\n",
      "454: violence\n",
      "489: violence\n",
      "491: violence\n",
      "613: violence\n",
      "674: violence\n",
      "784: violence\n",
      "948: violence\n",
      "1065: violence\n",
      "1080: violence\n",
      "1190: violence\n",
      "1269: violence\n",
      "1272: violence\n",
      "1344: violence\n",
      "1451: violence\n",
      "1470: violence\n",
      "1520: violence\n",
      "1525: violence\n",
      "1753: violence\n",
      "1789: violence\n",
      "1803: violence\n",
      "1807: violence\n",
      "1982: violence\n",
      "2010: violence\n",
      "2078: violence,illicit/violent\n",
      "2136: violence\n",
      "2213: violence\n",
      "2234: violence\n",
      "2304: violence\n",
      "2330: violence\n",
      "2434: violence\n",
      "2488: violence\n",
      "2623: violence\n",
      "2669: violence\n",
      "2736: harassment\n",
      "2855: violence\n",
      "2882: violence\n",
      "3078: violence\n",
      "3120: violence\n",
      "3271: violence\n",
      "3363: violence\n",
      "3426: violence\n",
      "3432: violence\n",
      "3449: violence\n",
      "3453: violence\n",
      "3629: violence\n",
      "3759: violence\n",
      "3769: violence\n",
      "3776: illicit\n",
      "3810: violence\n",
      "3831: violence\n",
      "3855: violence\n",
      "3889: violence\n",
      "4110: self_harm,violence,self-harm\n",
      "4118: violence\n",
      "4353: violence\n"
     ]
    }
   ],
   "source": [
    "for k in flags:\n",
    "    if flags[k] != \"\":\n",
    "        print(f\"{k}: {flags[k]}\")"
   ]
  },
  {
   "cell_type": "code",
   "execution_count": 37,
   "metadata": {},
   "outputs": [],
   "source": [
    "updated_buggy_data = buggy_data.add_column(\"flags\", flags.values())"
   ]
  },
  {
   "cell_type": "code",
   "execution_count": 40,
   "metadata": {},
   "outputs": [
    {
     "data": {
      "text/plain": [
       "{'original_split': 'train',\n",
       " 'original_problem_id': 3004,\n",
       " 'difficulty': 'introductory',\n",
       " 'question': \"It's Friday night, and Chuck is bored. He's already run 1,000 miles, stopping only to eat a family sized bag of Heatwave Doritos and a large fistful of M&Ms. He just can't stop thinking about kicking something! \\n\\nThere is only one thing for it, Chuck heads down to his local MMA gym and immediately challenges every fighter there to get in the cage and try and take him down... AT THE SAME TIME! \\n\\nYou are provided an array of strings that represent the cage and Chuck's opponents. Your task, in traditional Chuck style, is to take their heads off!! Throw punches, kicks, headbutts (or more likely - regex or iteration...) but whatever you do, remove their heads. Return the same array of strings, but with the heads ('O') removed and replaced with a space (' ').\\n\\nIf the provided array is empty, or is an empty string, return 'Gym is empty'. If you are given an array of numbers, return 'This isn't the gym!!'.\\n\\nFIGHT!!\\n\\n*Original design of this kata was a much more beautiful thing - the test cases illustrate the idea, and the intended output. I am unable to make the actual output go over multiple lines so for now at least you will have to imagine the beauty!*\",\n",
       " 'solutions': [{'original_solution_number': 0,\n",
       "   'checks': {'error': 0, 'fail': 0, 'pass': 10},\n",
       "   'generation_attempts': 0,\n",
       "   'levenshtein_distance': {'normalised': 0.0, 'raw': 0},\n",
       "   'solution': 'def head_smash(arr):\\n    try:\\n        return [a.replace(\\'O\\', \\' \\') for a in arr] or \\'Gym is empty\\'\\n    except TypeError:\\n        return \"This isn\\'t the gym!!\"\\n'}],\n",
       " 'buggy_solutions': [{'original_solution_number': 3,\n",
       "   'checks': {'error': 0, 'fail': 2, 'pass': 8},\n",
       "   'generation_attempts': 3,\n",
       "   'levenshtein_distance': {'normalised': 0.06779661016949153, 'raw': 12},\n",
       "   'solution': \"import re\\ndef head_smash(arr):\\n    try:\\n        return [re.sub('O',' ',i) for i in arr] if arr is not None else 'Gym is empty'\\n    except:\\n        return 'This isn\\\\'t the gym!!'\"}],\n",
       " 'flags': 'violence'}"
      ]
     },
     "execution_count": 40,
     "metadata": {},
     "output_type": "execute_result"
    }
   ],
   "source": [
    "updated_buggy_data[3759]"
   ]
  },
  {
   "cell_type": "code",
   "execution_count": 45,
   "metadata": {},
   "outputs": [
    {
     "data": {
      "application/vnd.jupyter.widget-view+json": {
       "model_id": "8acbafc96f004d7897c3aea392220285",
       "version_major": 2,
       "version_minor": 0
      },
      "text/plain": [
       "Creating parquet from Arrow format:   0%|          | 0/5 [00:00<?, ?ba/s]"
      ]
     },
     "metadata": {},
     "output_type": "display_data"
    },
    {
     "data": {
      "text/plain": [
       "11597804"
      ]
     },
     "execution_count": 45,
     "metadata": {},
     "output_type": "execute_result"
    }
   ],
   "source": [
    "updated_buggy_data.to_parquet(\"test.parquet\")"
   ]
  },
  {
   "cell_type": "code",
   "execution_count": null,
   "metadata": {},
   "outputs": [],
   "source": [
    "updated_buggy_data.push_to_hub(\n",
    "    \"lrhammond/buggy-apps\",\n",
    "    commit_message=\"Add flags\",\n",
    "    )"
   ]
  }
 ],
 "metadata": {
  "kernelspec": {
   "display_name": "Python 3",
   "language": "python",
   "name": "python3"
  },
  "language_info": {
   "codemirror_mode": {
    "name": "ipython",
    "version": 3
   },
   "file_extension": ".py",
   "mimetype": "text/x-python",
   "name": "python",
   "nbconvert_exporter": "python",
   "pygments_lexer": "ipython3",
   "version": "3.10.12"
  }
 },
 "nbformat": 4,
 "nbformat_minor": 2
}
